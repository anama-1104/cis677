{
  "nbformat": 4,
  "nbformat_minor": 0,
  "metadata": {
    "colab": {
      "provenance": [],
      "gpuType": "T4",
      "include_colab_link": true
    },
    "kernelspec": {
      "display_name": "Julia",
      "name": "julia"
    },
    "language_info": {
      "file_extension": ".jl",
      "mimetype": "application/julia",
      "name": "julia"
    }
  },
  "cells": [
    {
      "cell_type": "markdown",
      "metadata": {
        "id": "view-in-github",
        "colab_type": "text"
      },
      "source": [
        "<a href=\"https://colab.research.google.com/github/trefftzc/cis677/blob/main/Julia_Colab_Notebook_Template.ipynb\" target=\"_parent\"><img src=\"https://colab.research.google.com/assets/colab-badge.svg\" alt=\"Open In Colab\"/></a>"
      ]
    },
    {
      "cell_type": "markdown",
      "metadata": {
        "id": "tQ1r1bbb0yBv"
      },
      "source": [
        "# <img src=\"https://github.com/JuliaLang/julia-logo-graphics/raw/master/images/julia-logo-color.png\" height=\"100\" /> _Colab Notebook Template_\n",
        "\n",
        "## Instructions\n",
        "1. Work on a copy of this notebook: _File_ > _Save a copy in Drive_ (you will need a Google account). Alternatively, you can download the notebook using _File_ > _Download .ipynb_, then upload it to [Colab](https://colab.research.google.com/).\n",
        "2. If you need a GPU: _Runtime_ > _Change runtime type_ > _Harware accelerator_ = _GPU_.\n",
        "3. Execute the following cell (click on it and press Ctrl+Enter) to install Julia, IJulia and other packages (if needed, update `JULIA_VERSION` and the other parameters). This takes a couple of minutes.\n",
        "4. Reload this page (press Ctrl+R, or ⌘+R, or the F5 key) and continue to the next section.\n",
        "\n",
        "_Notes_:\n",
        "* If your Colab Runtime gets reset (e.g., due to inactivity), repeat steps 2, 3 and 4.\n",
        "* After installation, if you want to change the Julia version or activate/deactivate the GPU, you will need to reset the Runtime: _Runtime_ > _Factory reset runtime_ and repeat steps 3 and 4."
      ]
    },
    {
      "cell_type": "code",
      "metadata": {
        "id": "GIeFXS0F0zww",
        "colab": {
          "base_uri": "https://localhost:8080/",
          "height": 107
        },
        "outputId": "857cc98b-09ef-45e0-f1bd-0c95fe8f70a3"
      },
      "source": [
        "%%shell\n",
        "set -e\n",
        "\n",
        "#---------------------------------------------------#\n",
        "JULIA_VERSION=\"1.8.2\" # any version ≥ 0.7.0\n",
        "JULIA_PACKAGES=\"IJulia BenchmarkTools\"\n",
        "JULIA_PACKAGES_IF_GPU=\"CUDA\" # or CuArrays for older Julia versions\n",
        "JULIA_NUM_THREADS=2\n",
        "#---------------------------------------------------#\n",
        "\n",
        "if [ -z `which julia` ]; then\n",
        "  # Install Julia\n",
        "  JULIA_VER=`cut -d '.' -f -2 <<< \"$JULIA_VERSION\"`\n",
        "  echo \"Installing Julia $JULIA_VERSION on the current Colab Runtime...\"\n",
        "  BASE_URL=\"https://julialang-s3.julialang.org/bin/linux/x64\"\n",
        "  URL=\"$BASE_URL/$JULIA_VER/julia-$JULIA_VERSION-linux-x86_64.tar.gz\"\n",
        "  wget -nv $URL -O /tmp/julia.tar.gz # -nv means \"not verbose\"\n",
        "  tar -x -f /tmp/julia.tar.gz -C /usr/local --strip-components 1\n",
        "  rm /tmp/julia.tar.gz\n",
        "\n",
        "  # Install Packages\n",
        "  nvidia-smi -L &> /dev/null && export GPU=1 || export GPU=0\n",
        "  if [ $GPU -eq 1 ]; then\n",
        "    JULIA_PACKAGES=\"$JULIA_PACKAGES $JULIA_PACKAGES_IF_GPU\"\n",
        "  fi\n",
        "  for PKG in `echo $JULIA_PACKAGES`; do\n",
        "    echo \"Installing Julia package $PKG...\"\n",
        "    julia -e 'using Pkg; pkg\"add '$PKG'; precompile;\"' &> /dev/null\n",
        "  done\n",
        "\n",
        "  # Install kernel and rename it to \"julia\"\n",
        "  echo \"Installing IJulia kernel...\"\n",
        "  julia -e 'using IJulia; IJulia.installkernel(\"julia\", env=Dict(\n",
        "      \"JULIA_NUM_THREADS\"=>\"'\"$JULIA_NUM_THREADS\"'\"))'\n",
        "  KERNEL_DIR=`julia -e \"using IJulia; print(IJulia.kerneldir())\"`\n",
        "  KERNEL_NAME=`ls -d \"$KERNEL_DIR\"/julia*`\n",
        "  mv -f $KERNEL_NAME \"$KERNEL_DIR\"/julia\n",
        "\n",
        "  echo ''\n",
        "  echo \"Successfully installed `julia -v`!\"\n",
        "  echo \"Please reload this page (press Ctrl+R, ⌘+R, or the F5 key) then\"\n",
        "  echo \"jump to the 'Checking the Installation' section.\"\n",
        "fi"
      ],
      "execution_count": 1,
      "outputs": [
        {
          "output_type": "display_data",
          "data": {
            "text/plain": [
              "  Unrecognized magic \u001b[36m%%shell\u001b[39m.\n",
              "\n",
              "  Julia does not use the IPython \u001b[36m%magic\u001b[39m syntax. To interact with the IJulia kernel, use\n",
              "  \u001b[36mIJulia.somefunction(...)\u001b[39m, for example. Julia macros, string macros, and functions can be used to\n",
              "  accomplish most of the other functionalities of IPython magics."
            ],
            "text/markdown": "Unrecognized magic `%%shell`.\n\nJulia does not use the IPython `%magic` syntax.   To interact with the IJulia kernel, use `IJulia.somefunction(...)`, for example.  Julia macros, string macros, and functions can be used to accomplish most of the other functionalities of IPython magics.\n",
            "text/latex": "Unrecognized magic \\texttt{\\%\\%shell}.\n\nJulia does not use the IPython \\texttt{\\%magic} syntax.   To interact with the IJulia kernel, use \\texttt{IJulia.somefunction(...)}, for example.  Julia macros, string macros, and functions can be used to accomplish most of the other functionalities of IPython magics.\n\n"
          },
          "metadata": {}
        }
      ]
    },
    {
      "cell_type": "markdown",
      "metadata": {
        "id": "-OS3Ac017T1i"
      },
      "source": [
        "# Checking the Installation\n",
        "The `versioninfo()` function should print your Julia version and some other info about the system:"
      ]
    },
    {
      "cell_type": "code",
      "metadata": {
        "id": "EEzvvzCl1i0F",
        "colab": {
          "base_uri": "https://localhost:8080/"
        },
        "outputId": "50033f04-2dd7-4db4-e003-8523e5a31f37"
      },
      "source": [
        "versioninfo()"
      ],
      "execution_count": 2,
      "outputs": [
        {
          "output_type": "stream",
          "name": "stdout",
          "text": [
            "Julia Version 1.10.9\n",
            "Commit 5595d20a287 (2025-03-10 12:51 UTC)\n",
            "Build Info:\n",
            "  Official https://julialang.org/ release\n",
            "Platform Info:\n",
            "  OS: Linux (x86_64-linux-gnu)\n",
            "  CPU: 2 × Intel(R) Xeon(R) CPU @ 2.00GHz\n",
            "  WORD_SIZE: 64\n",
            "  LIBM: libopenlibm\n",
            "  LLVM: libLLVM-15.0.7 (ORCJIT, skylake-avx512)\n",
            "Threads: 2 default, 0 interactive, 1 GC (on 2 virtual cores)\n",
            "Environment:\n",
            "  LD_LIBRARY_PATH = /usr/lib64-nvidia\n",
            "  JULIA_NUM_THREADS = auto\n"
          ]
        }
      ]
    },
    {
      "cell_type": "markdown",
      "source": [
        "There is a nice pdf file with a tutorial about Julia online. It is available at: https://www.sas.upenn.edu/~jesusfv/Chapter_HPC_8_Julia.pdf\n"
      ],
      "metadata": {
        "id": "VAhGBLusmqi8"
      }
    },
    {
      "cell_type": "markdown",
      "source": [
        "# Packages\n",
        "A package is a code that extends the basic capabilities Julia\n",
        "with additional functions, data structures, etc. In such a way, Julia follows the modern\n",
        "trend of open source software of having a base installation of a project and a lively ecosystem\n",
        "of developers creating specialized tools that you can add or remove at will.\n",
        "\n",
        "One of the first things you may want to do after installing\n",
        "Julia is to add some useful packages. Recall that the first thing you need is to switch to the\n",
        "package manager mode with ] .\n",
        "\n",
        "You can check the packages that are currently installed with: **st**\n",
        "\n",
        "You can add a package with: **add NameOfThePackage**\n",
        "\n",
        "You can update a package with: **up NameOfThePackage**\n",
        "\n",
        "You can remove a package with: **rm NameOfthePackage**\n",
        "\n",
        "After a package has been installed, one use the statement:\n",
        "** using NameOfThePackage **\n",
        "to indicate that the code will use that package.\n",
        "\n",
        "In the code cell below, the code installs the BenchmarkTools package,\n",
        "and then uses it.\n",
        "\n",
        "To benchmark a particular function, one use the\\\n",
        "** btime ** decorator, just before invoking a method.\n",
        "\n",
        "In the code below, a matrix multiplication."
      ],
      "metadata": {
        "id": "t3ab_1zUm2NT"
      }
    },
    {
      "cell_type": "code",
      "source": [
        "import Pkg; Pkg.add(\"BenchmarkTools\")\n",
        "using BenchmarkTools\n",
        "\n",
        "M = rand(2^11, 2^11)\n",
        "\n",
        "@btime $M * $M;"
      ],
      "metadata": {
        "colab": {
          "base_uri": "https://localhost:8080/"
        },
        "id": "YjM_qq54lCcs",
        "outputId": "440139f4-51df-48f8-b16c-0255c837ae04"
      },
      "execution_count": null,
      "outputs": [
        {
          "output_type": "stream",
          "name": "stderr",
          "text": [
            "\u001b[32m\u001b[1m    Updating\u001b[22m\u001b[39m registry at `~/.julia/registries/General.toml`\n",
            "\u001b[32m\u001b[1m   Resolving\u001b[22m\u001b[39m package versions...\n",
            "\u001b[32m\u001b[1m   Installed\u001b[22m\u001b[39m BenchmarkTools ─ v1.6.0\n",
            "\u001b[32m\u001b[1m    Updating\u001b[22m\u001b[39m `~/.julia/environments/v1.10/Project.toml`\n",
            "  \u001b[90m[6e4b80f9] \u001b[39m\u001b[92m+ BenchmarkTools v1.6.0\u001b[39m\n",
            "\u001b[32m\u001b[1m    Updating\u001b[22m\u001b[39m `~/.julia/environments/v1.10/Manifest.toml`\n",
            "  \u001b[90m[6e4b80f9] \u001b[39m\u001b[92m+ BenchmarkTools v1.6.0\u001b[39m\n",
            "  \u001b[90m[9abbd945] \u001b[39m\u001b[92m+ Profile\u001b[39m\n",
            "\u001b[32m\u001b[1mPrecompiling\u001b[22m\u001b[39m packages...\n",
            "   2752.7 ms\u001b[32m  ✓ \u001b[39mBenchmarkTools\n",
            "  1 dependency successfully precompiled in 13 seconds. 460 already precompiled.\n"
          ]
        },
        {
          "output_type": "stream",
          "name": "stdout",
          "text": [
            "  546.234 ms (2 allocations: 32.00 MiB)\n"
          ]
        }
      ]
    },
    {
      "cell_type": "markdown",
      "source": [
        "# Types\n",
        "\n",
        "Julia has variables, values, and types. A variable is a name bound to a value. Julia is case\n",
        "sensitive: a is a different variable than A . In fact, as we will see below, the variable can\n",
        "be nearly any combination of Unicode characters. A value is a content (1, 3.2, ”economics”,\n",
        "etc.). Technically, Julia considers that all values are objects (an object is an entity with\n",
        "some attributes). This makes Julia closer to pure object-oriented languages such as Ruby\n",
        "than to languages such as C++, where some values such as floating points are not objects.\n",
        "Finally, values have types (i.e., integer, float, boolean, string, etc.). A variable does not have\n",
        "a type, its value has. Types specify the attributes of the content. Functions in Julia will\n",
        "look at the type of the values passed as operands and decide, according to them, how we\n",
        "can operate on the values (i.e., which of the methods available to the function to apply).\n",
        "Adding 1+2 (two integers) will be different than summing 1.0+2.0 (two floats) because the\n",
        "method for summing two integers is different from the method to sum two floats. In the base\n",
        "implementation of Julia, there are 230 different methods for the function sum! You can list\n",
        "them with the command methods() as in:"
      ],
      "metadata": {
        "id": "xOJgLH1YoPxk"
      }
    },
    {
      "cell_type": "code",
      "source": [
        "methods(+)"
      ],
      "metadata": {
        "colab": {
          "base_uri": "https://localhost:8080/",
          "height": 1000
        },
        "id": "MEDZPoLBof87",
        "outputId": "0c8c7b38-6fae-409f-bcd1-f3224baa20ca"
      },
      "execution_count": 3,
      "outputs": [
        {
          "output_type": "execute_result",
          "data": {
            "text/plain": [
              "# 189 methods for generic function \"+\" from \u001b[90mBase\u001b[39m:\n",
              "   [1] +(\u001b[90mt\u001b[39m::\u001b[1mDates.Time\u001b[22m, \u001b[90mdt\u001b[39m::\u001b[1mDates.Date\u001b[22m)\n",
              "\u001b[90m     @\u001b[39m \u001b[35mDates\u001b[39m \u001b[90m/usr/local/share/julia/stdlib/v1.10/Dates/src/\u001b[39m\u001b[90m\u001b[4marithmetic.jl:22\u001b[24m\u001b[39m\n",
              "   [2] +(\u001b[90mx\u001b[39m::\u001b[1mDates.Time\u001b[22m, \u001b[90my\u001b[39m::\u001b[1mDates.TimePeriod\u001b[22m)\n",
              "\u001b[90m     @\u001b[39m \u001b[35mDates\u001b[39m \u001b[90m/usr/local/share/julia/stdlib/v1.10/Dates/src/\u001b[39m\u001b[90m\u001b[4marithmetic.jl:85\u001b[24m\u001b[39m\n",
              "   [3] +(\u001b[90mx\u001b[39m::\u001b[1mBool\u001b[22m, \u001b[90mz\u001b[39m::\u001b[1mComplex\u001b[22m\u001b[0m{Bool})\n",
              "\u001b[90m     @\u001b[39m \u001b[90m\u001b[4mcomplex.jl:305\u001b[24m\u001b[39m\n",
              "   [4] +(\u001b[90mx\u001b[39m::\u001b[1mBool\u001b[22m, \u001b[90my\u001b[39m::\u001b[1mBool\u001b[22m)\n",
              "\u001b[90m     @\u001b[39m \u001b[90m\u001b[4mbool.jl:166\u001b[24m\u001b[39m\n",
              "   [5] +(\u001b[90mx\u001b[39m::\u001b[1mBool\u001b[22m)\n",
              "\u001b[90m     @\u001b[39m \u001b[90m\u001b[4mbool.jl:163\u001b[24m\u001b[39m\n",
              "   [6] +(\u001b[90mx\u001b[39m::\u001b[1mBool\u001b[22m, \u001b[90mz\u001b[39m::\u001b[1mComplex\u001b[22m)\n",
              "\u001b[90m     @\u001b[39m \u001b[90m\u001b[4mcomplex.jl:312\u001b[24m\u001b[39m\n",
              "   [7] +(\u001b[90mx\u001b[39m::\u001b[1mReal\u001b[22m, \u001b[90mz\u001b[39m::\u001b[1mComplex\u001b[22m\u001b[0m{Bool})\n",
              "\u001b[90m     @\u001b[39m \u001b[90m\u001b[4mcomplex.jl:319\u001b[24m\u001b[39m\n",
              "   [8] +(\u001b[90mx\u001b[39m::\u001b[1mBool\u001b[22m, \u001b[90my\u001b[39m::\u001b[1mT\u001b[22m) where T<:AbstractFloat\n",
              "\u001b[90m     @\u001b[39m \u001b[90m\u001b[4mbool.jl:173\u001b[24m\u001b[39m\n",
              "   [9] +(\u001b[90mz\u001b[39m::\u001b[1mComplex\u001b[22m\u001b[0m{Bool}, \u001b[90mx\u001b[39m::\u001b[1mBool\u001b[22m)\n",
              "\u001b[90m     @\u001b[39m \u001b[90m\u001b[4mcomplex.jl:306\u001b[24m\u001b[39m\n",
              "  [10] +(\u001b[90mz\u001b[39m::\u001b[1mComplex\u001b[22m\u001b[0m{Bool}, \u001b[90mx\u001b[39m::\u001b[1mReal\u001b[22m)\n",
              "\u001b[90m     @\u001b[39m \u001b[90m\u001b[4mcomplex.jl:320\u001b[24m\u001b[39m\n",
              "  [11] +(\u001b[90mz\u001b[39m::\u001b[1mComplex\u001b[22m, \u001b[90mx\u001b[39m::\u001b[1mBool\u001b[22m)\n",
              "\u001b[90m     @\u001b[39m \u001b[90m\u001b[4mcomplex.jl:313\u001b[24m\u001b[39m\n",
              "  [12] +(\u001b[90mx\u001b[39m::\u001b[1mBigInt\u001b[22m, \u001b[90my\u001b[39m::\u001b[1mBigInt\u001b[22m)\n",
              "\u001b[90m     @\u001b[39m \u001b[90mBase.GMP\u001b[39m \u001b[90m\u001b[4mgmp.jl:501\u001b[24m\u001b[39m\n",
              "  [13] +(\u001b[90ma\u001b[39m::\u001b[1mBigInt\u001b[22m, \u001b[90mb\u001b[39m::\u001b[1mBigInt\u001b[22m, \u001b[90mc\u001b[39m::\u001b[1mBigInt\u001b[22m)\n",
              "\u001b[90m     @\u001b[39m \u001b[90mBase.GMP\u001b[39m \u001b[90m\u001b[4mgmp.jl:541\u001b[24m\u001b[39m\n",
              "  [14] +(\u001b[90ma\u001b[39m::\u001b[1mBigInt\u001b[22m, \u001b[90mb\u001b[39m::\u001b[1mBigInt\u001b[22m, \u001b[90mc\u001b[39m::\u001b[1mBigInt\u001b[22m, \u001b[90md\u001b[39m::\u001b[1mBigInt\u001b[22m)\n",
              "\u001b[90m     @\u001b[39m \u001b[90mBase.GMP\u001b[39m \u001b[90m\u001b[4mgmp.jl:542\u001b[24m\u001b[39m\n",
              "  [15] +(\u001b[90ma\u001b[39m::\u001b[1mBigInt\u001b[22m, \u001b[90mb\u001b[39m::\u001b[1mBigInt\u001b[22m, \u001b[90mc\u001b[39m::\u001b[1mBigInt\u001b[22m, \u001b[90md\u001b[39m::\u001b[1mBigInt\u001b[22m, \u001b[90me\u001b[39m::\u001b[1mBigInt\u001b[22m)\n",
              "\u001b[90m     @\u001b[39m \u001b[90mBase.GMP\u001b[39m \u001b[90m\u001b[4mgmp.jl:543\u001b[24m\u001b[39m\n",
              "  [16] +(\u001b[90mx\u001b[39m::\u001b[1mBigInt\u001b[22m, \u001b[90my\u001b[39m::\u001b[1mBigInt\u001b[22m, \u001b[90mrest\u001b[39m::\u001b[1mBigInt...\u001b[22m)\n",
              "\u001b[90m     @\u001b[39m \u001b[90mBase.GMP\u001b[39m \u001b[90m\u001b[4mgmp.jl:683\u001b[24m\u001b[39m\n",
              "  [17] +(\u001b[90mc\u001b[39m::\u001b[1mBigInt\u001b[22m, \u001b[90mx\u001b[39m::\u001b[1mBigFloat\u001b[22m)\n",
              "\u001b[90m     @\u001b[39m \u001b[90mBase.MPFR\u001b[39m \u001b[90m\u001b[4mmpfr.jl:468\u001b[24m\u001b[39m\n",
              "  [18] +(\u001b[90mx\u001b[39m::\u001b[1mBigInt\u001b[22m, \u001b[90mc\u001b[39m::\u001b[1mUnion\u001b[22m\u001b[0m{UInt16, UInt32, UInt64, UInt8})\n",
              "\u001b[90m     @\u001b[39m \u001b[90mBase.GMP\u001b[39m \u001b[90m\u001b[4mgmp.jl:549\u001b[24m\u001b[39m\n",
              "  [19] +(\u001b[90mx\u001b[39m::\u001b[1mBigInt\u001b[22m, \u001b[90mc\u001b[39m::\u001b[1mUnion\u001b[22m\u001b[0m{Int16, Int32, Int64, Int8})\n",
              "\u001b[90m     @\u001b[39m \u001b[90mBase.GMP\u001b[39m \u001b[90m\u001b[4mgmp.jl:555\u001b[24m\u001b[39m\n",
              "  [20] +(\u001b[90mx\u001b[39m::\u001b[1mDates.CompoundPeriod\u001b[22m, \u001b[90my\u001b[39m::\u001b[1mDates.CompoundPeriod\u001b[22m)\n",
              "\u001b[90m     @\u001b[39m \u001b[35mDates\u001b[39m \u001b[90m/usr/local/share/julia/stdlib/v1.10/Dates/src/\u001b[39m\u001b[90m\u001b[4mperiods.jl:334\u001b[24m\u001b[39m\n",
              "  [21] +(\u001b[90mx\u001b[39m::\u001b[1mDates.CompoundPeriod\u001b[22m, \u001b[90my\u001b[39m::\u001b[1mDates.TimeType\u001b[22m)\n",
              "\u001b[90m     @\u001b[39m \u001b[35mDates\u001b[39m \u001b[90m/usr/local/share/julia/stdlib/v1.10/Dates/src/\u001b[39m\u001b[90m\u001b[4mperiods.jl:362\u001b[24m\u001b[39m\n",
              "  [22] +(\u001b[90mx\u001b[39m::\u001b[1mDates.CompoundPeriod\u001b[22m, \u001b[90my\u001b[39m::\u001b[1mDates.Period\u001b[22m)\n",
              "\u001b[90m     @\u001b[39m \u001b[35mDates\u001b[39m \u001b[90m/usr/local/share/julia/stdlib/v1.10/Dates/src/\u001b[39m\u001b[90m\u001b[4mperiods.jl:332\u001b[24m\u001b[39m\n",
              "  [23] +(\u001b[90mB\u001b[39m::\u001b[1mBitMatrix\u001b[22m, \u001b[90mJ\u001b[39m::\u001b[1mLinearAlgebra.UniformScaling\u001b[22m)\n",
              "\u001b[90m     @\u001b[39m \u001b[36mLinearAlgebra\u001b[39m \u001b[90m/usr/local/share/julia/stdlib/v1.10/LinearAlgebra/src/\u001b[39m\u001b[90m\u001b[4muniformscaling.jl:151\u001b[24m\u001b[39m\n",
              "  [24] +(\u001b[90mx\u001b[39m::\u001b[1mDates.Date\u001b[22m, \u001b[90my\u001b[39m::\u001b[1mDates.Day\u001b[22m)\n",
              "\u001b[90m     @\u001b[39m \u001b[35mDates\u001b[39m \u001b[90m/usr/local/share/julia/stdlib/v1.10/Dates/src/\u001b[39m\u001b[90m\u001b[4marithmetic.jl:81\u001b[24m\u001b[39m\n",
              "  [25] +(\u001b[90mx\u001b[39m::\u001b[1mDates.Date\u001b[22m, \u001b[90my\u001b[39m::\u001b[1mDates.Week\u001b[22m)\n",
              "\u001b[90m     @\u001b[39m \u001b[35mDates\u001b[39m \u001b[90m/usr/local/share/julia/stdlib/v1.10/Dates/src/\u001b[39m\u001b[90m\u001b[4marithmetic.jl:79\u001b[24m\u001b[39m\n",
              "  [26] +(\u001b[90mx\u001b[39m::\u001b[1mDates.Date\u001b[22m, \u001b[90my\u001b[39m::\u001b[1mDates.Quarter\u001b[22m)\n",
              "\u001b[90m     @\u001b[39m \u001b[35mDates\u001b[39m \u001b[90m/usr/local/share/julia/stdlib/v1.10/Dates/src/\u001b[39m\u001b[90m\u001b[4marithmetic.jl:75\u001b[24m\u001b[39m\n",
              "  [27] +(\u001b[90mdt\u001b[39m::\u001b[1mDates.Date\u001b[22m, \u001b[90mz\u001b[39m::\u001b[1mDates.Month\u001b[22m)\n",
              "\u001b[90m     @\u001b[39m \u001b[35mDates\u001b[39m \u001b[90m/usr/local/share/julia/stdlib/v1.10/Dates/src/\u001b[39m\u001b[90m\u001b[4marithmetic.jl:56\u001b[24m\u001b[39m\n",
              "  [28] +(\u001b[90mdt\u001b[39m::\u001b[1mDates.Date\u001b[22m, \u001b[90my\u001b[39m::\u001b[1mDates.Year\u001b[22m)\n",
              "\u001b[90m     @\u001b[39m \u001b[35mDates\u001b[39m \u001b[90m/usr/local/share/julia/stdlib/v1.10/Dates/src/\u001b[39m\u001b[90m\u001b[4marithmetic.jl:29\u001b[24m\u001b[39m\n",
              "  [29] +(\u001b[90mdt\u001b[39m::\u001b[1mDates.Date\u001b[22m, \u001b[90mt\u001b[39m::\u001b[1mDates.Time\u001b[22m)\n",
              "\u001b[90m     @\u001b[39m \u001b[35mDates\u001b[39m \u001b[90m/usr/local/share/julia/stdlib/v1.10/Dates/src/\u001b[39m\u001b[90m\u001b[4marithmetic.jl:21\u001b[24m\u001b[39m\n",
              "  [30] +(::\u001b[1mMissing\u001b[22m, ::\u001b[1mMissing\u001b[22m)\n",
              "\u001b[90m     @\u001b[39m \u001b[90m\u001b[4mmissing.jl:122\u001b[24m\u001b[39m\n",
              "  [31] +(::\u001b[1mMissing\u001b[22m)\n",
              "\u001b[90m     @\u001b[39m \u001b[90m\u001b[4mmissing.jl:101\u001b[24m\u001b[39m\n",
              "  [32] +(\u001b[90mx\u001b[39m::\u001b[1mMissing\u001b[22m, \u001b[90my\u001b[39m::\u001b[1mDates.AbstractTime\u001b[22m)\n",
              "\u001b[90m     @\u001b[39m \u001b[35mDates\u001b[39m \u001b[90m/usr/local/share/julia/stdlib/v1.10/Dates/src/\u001b[39m\u001b[90m\u001b[4marithmetic.jl:91\u001b[24m\u001b[39m\n",
              "  [33] +(::\u001b[1mMissing\u001b[22m, ::\u001b[1mNumber\u001b[22m)\n",
              "\u001b[90m     @\u001b[39m \u001b[90m\u001b[4mmissing.jl:123\u001b[24m\u001b[39m\n",
              "  [34] +(\u001b[90mx\u001b[39m::\u001b[1mDates.DateTime\u001b[22m, \u001b[90my\u001b[39m::\u001b[1mDates.Quarter\u001b[22m)\n",
              "\u001b[90m     @\u001b[39m \u001b[35mDates\u001b[39m \u001b[90m/usr/local/share/julia/stdlib/v1.10/Dates/src/\u001b[39m\u001b[90m\u001b[4marithmetic.jl:77\u001b[24m\u001b[39m\n",
              "  [35] +(\u001b[90mdt\u001b[39m::\u001b[1mDates.DateTime\u001b[22m, \u001b[90mz\u001b[39m::\u001b[1mDates.Month\u001b[22m)\n",
              "\u001b[90m     @\u001b[39m \u001b[35mDates\u001b[39m \u001b[90m/usr/local/share/julia/stdlib/v1.10/Dates/src/\u001b[39m\u001b[90m\u001b[4marithmetic.jl:49\u001b[24m\u001b[39m\n",
              "  [36] +(\u001b[90mdt\u001b[39m::\u001b[1mDates.DateTime\u001b[22m, \u001b[90my\u001b[39m::\u001b[1mDates.Year\u001b[22m)\n",
              "\u001b[90m     @\u001b[39m \u001b[35mDates\u001b[39m \u001b[90m/usr/local/share/julia/stdlib/v1.10/Dates/src/\u001b[39m\u001b[90m\u001b[4marithmetic.jl:25\u001b[24m\u001b[39m\n",
              "  [37] +(\u001b[90mx\u001b[39m::\u001b[1mDates.DateTime\u001b[22m, \u001b[90my\u001b[39m::\u001b[1mDates.Period\u001b[22m)\n",
              "\u001b[90m     @\u001b[39m \u001b[35mDates\u001b[39m \u001b[90m/usr/local/share/julia/stdlib/v1.10/Dates/src/\u001b[39m\u001b[90m\u001b[4marithmetic.jl:83\u001b[24m\u001b[39m\n",
              "  [38] +(\u001b[90ma\u001b[39m::\u001b[1mBigFloat\u001b[22m, \u001b[90mb\u001b[39m::\u001b[1mBigFloat\u001b[22m, \u001b[90mc\u001b[39m::\u001b[1mBigFloat\u001b[22m, \u001b[90md\u001b[39m::\u001b[1mBigFloat\u001b[22m, \u001b[90me\u001b[39m::\u001b[1mBigFloat\u001b[22m)\n",
              "\u001b[90m     @\u001b[39m \u001b[90mBase.MPFR\u001b[39m \u001b[90m\u001b[4mmpfr.jl:619\u001b[24m\u001b[39m\n",
              "  [39] +(\u001b[90mx\u001b[39m::\u001b[1mBigFloat\u001b[22m, \u001b[90my\u001b[39m::\u001b[1mBigFloat\u001b[22m)\n",
              "\u001b[90m     @\u001b[39m \u001b[90mBase.MPFR\u001b[39m \u001b[90m\u001b[4mmpfr.jl:432\u001b[24m\u001b[39m\n",
              "  [40] +(\u001b[90ma\u001b[39m::\u001b[1mBigFloat\u001b[22m, \u001b[90mb\u001b[39m::\u001b[1mBigFloat\u001b[22m, \u001b[90mc\u001b[39m::\u001b[1mBigFloat\u001b[22m)\n",
              "\u001b[90m     @\u001b[39m \u001b[90mBase.MPFR\u001b[39m \u001b[90m\u001b[4mmpfr.jl:606\u001b[24m\u001b[39m\n",
              "  [41] +(\u001b[90ma\u001b[39m::\u001b[1mBigFloat\u001b[22m, \u001b[90mb\u001b[39m::\u001b[1mBigFloat\u001b[22m, \u001b[90mc\u001b[39m::\u001b[1mBigFloat\u001b[22m, \u001b[90md\u001b[39m::\u001b[1mBigFloat\u001b[22m)\n",
              "\u001b[90m     @\u001b[39m \u001b[90mBase.MPFR\u001b[39m \u001b[90m\u001b[4mmpfr.jl:612\u001b[24m\u001b[39m\n",
              "  [42] +(\u001b[90mx\u001b[39m::\u001b[1mBigFloat\u001b[22m, \u001b[90mc\u001b[39m::\u001b[1mBigInt\u001b[22m)\n",
              "\u001b[90m     @\u001b[39m \u001b[90mBase.MPFR\u001b[39m \u001b[90m\u001b[4mmpfr.jl:463\u001b[24m\u001b[39m\n",
              "  [43] +(\u001b[90mx\u001b[39m::\u001b[1mBigFloat\u001b[22m, \u001b[90mc\u001b[39m::\u001b[1mUnion\u001b[22m\u001b[0m{UInt16, UInt32, UInt64, UInt8})\n",
              "\u001b[90m     @\u001b[39m \u001b[90mBase.MPFR\u001b[39m \u001b[90m\u001b[4mmpfr.jl:439\u001b[24m\u001b[39m\n",
              "  [44] +(\u001b[90mx\u001b[39m::\u001b[1mBigFloat\u001b[22m, \u001b[90mc\u001b[39m::\u001b[1mUnion\u001b[22m\u001b[0m{Int16, Int32, Int64, Int8})\n",
              "\u001b[90m     @\u001b[39m \u001b[90mBase.MPFR\u001b[39m \u001b[90m\u001b[4mmpfr.jl:447\u001b[24m\u001b[39m\n",
              "  [45] +(\u001b[90mx\u001b[39m::\u001b[1mBigFloat\u001b[22m, \u001b[90mc\u001b[39m::\u001b[1mUnion\u001b[22m\u001b[0m{Float16, Float32, Float64})\n",
              "\u001b[90m     @\u001b[39m \u001b[90mBase.MPFR\u001b[39m \u001b[90m\u001b[4mmpfr.jl:455\u001b[24m\u001b[39m\n",
              "  [46] +(\u001b[90ma\u001b[39m::\u001b[1mPkg.Resolve.FieldValue\u001b[22m, \u001b[90mb\u001b[39m::\u001b[1mPkg.Resolve.FieldValue\u001b[22m)\n",
              "\u001b[90m     @\u001b[39m \u001b[32mPkg.Resolve\u001b[39m \u001b[90m/usr/local/share/julia/stdlib/v1.10/Pkg/src/Resolve/\u001b[39m\u001b[90m\u001b[4mfieldvalues.jl:43\u001b[24m\u001b[39m\n",
              "  [47] +(\u001b[90mlevel\u001b[39m::\u001b[1mBase.CoreLogging.LogLevel\u001b[22m, \u001b[90minc\u001b[39m::\u001b[1mInteger\u001b[22m)\n",
              "\u001b[90m     @\u001b[39m \u001b[90mBase.CoreLogging\u001b[39m \u001b[90m\u001b[4mlogging.jl:131\u001b[24m\u001b[39m\n",
              "  [48] +(\u001b[90mx\u001b[39m::\u001b[1mRational\u001b[22m\u001b[0m{BigInt}, \u001b[90my\u001b[39m::\u001b[1mRational\u001b[22m\u001b[0m{BigInt})\n",
              "\u001b[90m     @\u001b[39m \u001b[90mBase.GMP.MPQ\u001b[39m \u001b[90m\u001b[4mgmp.jl:1061\u001b[24m\u001b[39m\n",
              "  [49] +(\u001b[90ma\u001b[39m::\u001b[1mPkg.Resolve.VersionWeight\u001b[22m, \u001b[90mb\u001b[39m::\u001b[1mPkg.Resolve.VersionWeight\u001b[22m)\n",
              "\u001b[90m     @\u001b[39m \u001b[32mPkg.Resolve\u001b[39m \u001b[90m/usr/local/share/julia/stdlib/v1.10/Pkg/src/Resolve/\u001b[39m\u001b[90m\u001b[4mversionweights.jl:22\u001b[24m\u001b[39m\n",
              "  [50] +(\u001b[90mA\u001b[39m::\u001b[1mArray\u001b[22m, \u001b[90mBs\u001b[39m::\u001b[1mArray...\u001b[22m)\n",
              "\u001b[90m     @\u001b[39m \u001b[90m\u001b[4marraymath.jl:12\u001b[24m\u001b[39m\n",
              "  [51] +(\u001b[90mx\u001b[39m::\u001b[1mDates.Instant\u001b[22m)\n",
              "\u001b[90m     @\u001b[39m \u001b[35mDates\u001b[39m \u001b[90m/usr/local/share/julia/stdlib/v1.10/Dates/src/\u001b[39m\u001b[90m\u001b[4marithmetic.jl:4\u001b[24m\u001b[39m\n",
              "  [52] +(\u001b[90mH\u001b[39m::\u001b[1mLinearAlgebra.UpperHessenberg\u001b[22m, \u001b[90mx\u001b[39m::\u001b[1mLinearAlgebra.Bidiagonal\u001b[22m)\n",
              "\u001b[90m     @\u001b[39m \u001b[36mLinearAlgebra\u001b[39m \u001b[90m/usr/local/share/julia/stdlib/v1.10/LinearAlgebra/src/\u001b[39m\u001b[90m\u001b[4mhessenberg.jl:119\u001b[24m\u001b[39m\n",
              "  [53] +(\u001b[90mA\u001b[39m::\u001b[1mLinearAlgebra.UpperHessenberg\u001b[22m, \u001b[90mB\u001b[39m::\u001b[1mLinearAlgebra.UpperHessenberg\u001b[22m)\n",
              "\u001b[90m     @\u001b[39m \u001b[36mLinearAlgebra\u001b[39m \u001b[90m/usr/local/share/julia/stdlib/v1.10/LinearAlgebra/src/\u001b[39m\u001b[90m\u001b[4mhessenberg.jl:112\u001b[24m\u001b[39m\n",
              "  [54] +(\u001b[90mH\u001b[39m::\u001b[1mLinearAlgebra.UpperHessenberg\u001b[22m, \u001b[90mx\u001b[39m::\u001b[1mLinearAlgebra.UnitUpperTriangular\u001b[22m)\n",
              "\u001b[90m     @\u001b[39m \u001b[36mLinearAlgebra\u001b[39m \u001b[90m/usr/local/share/julia/stdlib/v1.10/LinearAlgebra/src/\u001b[39m\u001b[90m\u001b[4mhessenberg.jl:119\u001b[24m\u001b[39m\n",
              "  [55] +(\u001b[90mH\u001b[39m::\u001b[1mLinearAlgebra.UpperHessenberg\u001b[22m, \u001b[90mx\u001b[39m::\u001b[1mLinearAlgebra.Diagonal\u001b[22m)\n",
              "\u001b[90m     @\u001b[39m \u001b[36mLinearAlgebra\u001b[39m \u001b[90m/usr/local/share/julia/stdlib/v1.10/LinearAlgebra/src/\u001b[39m\u001b[90m\u001b[4mhessenberg.jl:119\u001b[24m\u001b[39m\n",
              "  [56] +(\u001b[90mH\u001b[39m::\u001b[1mLinearAlgebra.UpperHessenberg\u001b[22m, \u001b[90mx\u001b[39m::\u001b[1mLinearAlgebra.UniformScaling\u001b[22m)\n",
              "\u001b[90m     @\u001b[39m \u001b[36mLinearAlgebra\u001b[39m \u001b[90m/usr/local/share/julia/stdlib/v1.10/LinearAlgebra/src/\u001b[39m\u001b[90m\u001b[4mhessenberg.jl:119\u001b[24m\u001b[39m\n",
              "  [57] +(\u001b[90mH\u001b[39m::\u001b[1mLinearAlgebra.UpperHessenberg\u001b[22m, \u001b[90mx\u001b[39m::\u001b[1mLinearAlgebra.Tridiagonal\u001b[22m)\n",
              "\u001b[90m     @\u001b[39m \u001b[36mLinearAlgebra\u001b[39m \u001b[90m/usr/local/share/julia/stdlib/v1.10/LinearAlgebra/src/\u001b[39m\u001b[90m\u001b[4mhessenberg.jl:119\u001b[24m\u001b[39m\n",
              "  [58] +(\u001b[90mH\u001b[39m::\u001b[1mLinearAlgebra.UpperHessenberg\u001b[22m, \u001b[90mx\u001b[39m::\u001b[1mLinearAlgebra.SymTridiagonal\u001b[22m)\n",
              "\u001b[90m     @\u001b[39m \u001b[36mLinearAlgebra\u001b[39m \u001b[90m/usr/local/share/julia/stdlib/v1.10/LinearAlgebra/src/\u001b[39m\u001b[90m\u001b[4mhessenberg.jl:119\u001b[24m\u001b[39m\n",
              "  [59] +(\u001b[90mH\u001b[39m::\u001b[1mLinearAlgebra.UpperHessenberg\u001b[22m, \u001b[90mx\u001b[39m::\u001b[1mLinearAlgebra.UpperTriangular\u001b[22m)\n",
              "\u001b[90m     @\u001b[39m \u001b[36mLinearAlgebra\u001b[39m \u001b[90m/usr/local/share/julia/stdlib/v1.10/LinearAlgebra/src/\u001b[39m\u001b[90m\u001b[4mhessenberg.jl:119\u001b[24m\u001b[39m\n",
              "  [60] +(\u001b[90mA\u001b[39m::\u001b[1mLinearAlgebra.UnitLowerTriangular\u001b[22m, \u001b[90mB\u001b[39m::\u001b[1mLinearAlgebra.UnitLowerTriangular\u001b[22m)\n",
              "\u001b[90m     @\u001b[39m \u001b[36mLinearAlgebra\u001b[39m \u001b[90m/usr/local/share/julia/stdlib/v1.10/LinearAlgebra/src/\u001b[39m\u001b[90m\u001b[4mtriangular.jl:657\u001b[24m\u001b[39m\n",
              "  [61] +(\u001b[90mA\u001b[39m::\u001b[1mLinearAlgebra.UnitLowerTriangular\u001b[22m, \u001b[90mB\u001b[39m::\u001b[1mLinearAlgebra.LowerTriangular\u001b[22m)\n",
              "\u001b[90m     @\u001b[39m \u001b[36mLinearAlgebra\u001b[39m \u001b[90m/usr/local/share/julia/stdlib/v1.10/LinearAlgebra/src/\u001b[39m\u001b[90m\u001b[4mtriangular.jl:655\u001b[24m\u001b[39m\n",
              "  [62] +(\u001b[90mA\u001b[39m::\u001b[1mLinearAlgebra.UnitUpperTriangular\u001b[22m, \u001b[90mB\u001b[39m::\u001b[1mLinearAlgebra.UnitUpperTriangular\u001b[22m)\n",
              "\u001b[90m     @\u001b[39m \u001b[36mLinearAlgebra\u001b[39m \u001b[90m/usr/local/share/julia/stdlib/v1.10/LinearAlgebra/src/\u001b[39m\u001b[90m\u001b[4mtriangular.jl:656\u001b[24m\u001b[39m\n",
              "  [63] +(\u001b[90mA\u001b[39m::\u001b[1mLinearAlgebra.UnitUpperTriangular\u001b[22m, \u001b[90mB\u001b[39m::\u001b[1mLinearAlgebra.UpperTriangular\u001b[22m)\n",
              "\u001b[90m     @\u001b[39m \u001b[36mLinearAlgebra\u001b[39m \u001b[90m/usr/local/share/julia/stdlib/v1.10/LinearAlgebra/src/\u001b[39m\u001b[90m\u001b[4mtriangular.jl:654\u001b[24m\u001b[39m\n",
              "  [64] +(\u001b[90mA\u001b[39m::\u001b[1mLinearAlgebra.LowerTriangular\u001b[22m, \u001b[90mB\u001b[39m::\u001b[1mLinearAlgebra.UnitLowerTriangular\u001b[22m)\n",
              "\u001b[90m     @\u001b[39m \u001b[36mLinearAlgebra\u001b[39m \u001b[90m/usr/local/share/julia/stdlib/v1.10/LinearAlgebra/src/\u001b[39m\u001b[90m\u001b[4mtriangular.jl:653\u001b[24m\u001b[39m\n",
              "  [65] +(\u001b[90mA\u001b[39m::\u001b[1mLinearAlgebra.LowerTriangular\u001b[22m, \u001b[90mB\u001b[39m::\u001b[1mLinearAlgebra.LowerTriangular\u001b[22m)\n",
              "\u001b[90m     @\u001b[39m \u001b[36mLinearAlgebra\u001b[39m \u001b[90m/usr/local/share/julia/stdlib/v1.10/LinearAlgebra/src/\u001b[39m\u001b[90m\u001b[4mtriangular.jl:651\u001b[24m\u001b[39m\n",
              "  [66] +(\u001b[90mA\u001b[39m::\u001b[1mLinearAlgebra.UpperTriangular\u001b[22m, \u001b[90mB\u001b[39m::\u001b[1mLinearAlgebra.UnitUpperTriangular\u001b[22m)\n",
              "\u001b[90m     @\u001b[39m \u001b[36mLinearAlgebra\u001b[39m \u001b[90m/usr/local/share/julia/stdlib/v1.10/LinearAlgebra/src/\u001b[39m\u001b[90m\u001b[4mtriangular.jl:652\u001b[24m\u001b[39m\n",
              "  [67] +(\u001b[90mA\u001b[39m::\u001b[1mLinearAlgebra.UpperTriangular\u001b[22m, \u001b[90mB\u001b[39m::\u001b[1mLinearAlgebra.UpperTriangular\u001b[22m)\n",
              "\u001b[90m     @\u001b[39m \u001b[36mLinearAlgebra\u001b[39m \u001b[90m/usr/local/share/julia/stdlib/v1.10/LinearAlgebra/src/\u001b[39m\u001b[90m\u001b[4mtriangular.jl:650\u001b[24m\u001b[39m\n",
              "  [68] +(\u001b[90mA\u001b[39m::\u001b[1mLinearAlgebra.AbstractTriangular\u001b[22m, \u001b[90mB\u001b[39m::\u001b[1mLinearAlgebra.AbstractTriangular\u001b[22m)\n",
              "\u001b[90m     @\u001b[39m \u001b[36mLinearAlgebra\u001b[39m \u001b[90m/usr/local/share/julia/stdlib/v1.10/LinearAlgebra/src/\u001b[39m\u001b[90m\u001b[4mtriangular.jl:658\u001b[24m\u001b[39m\n",
              "  [69] +(\u001b[90mindex1\u001b[39m::\u001b[1mCartesianIndex\u001b[22m\u001b[0m{N}, \u001b[90mindex2\u001b[39m::\u001b[1mCartesianIndex\u001b[22m\u001b[0m{N}) where N\n",
              "\u001b[90m     @\u001b[39m \u001b[90mBase.IteratorsMD\u001b[39m \u001b[90m\u001b[4mmultidimensional.jl:119\u001b[24m\u001b[39m\n",
              "  [70] +(\u001b[90mA\u001b[39m::\u001b[1mLinearAlgebra.Hermitian\u001b[22m, \u001b[90mJ\u001b[39m::\u001b[1mLinearAlgebra.UniformScaling\u001b[22m\u001b[0m{<:Complex})\n",
              "\u001b[90m     @\u001b[39m \u001b[36mLinearAlgebra\u001b[39m \u001b[90m/usr/local/share/julia/stdlib/v1.10/LinearAlgebra/src/\u001b[39m\u001b[90m\u001b[4muniformscaling.jl:195\u001b[24m\u001b[39m\n",
              "  [71] +(\u001b[90mH\u001b[39m::\u001b[1mLinearAlgebra.Hermitian\u001b[22m, \u001b[90mD\u001b[39m::\u001b[1mLinearAlgebra.Diagonal\u001b[22m\u001b[0m{var\"#s997\", V} where {var\"#s997\"<:Real, V<:AbstractVector{var\"#s997\"}})\n",
              "\u001b[90m     @\u001b[39m \u001b[36mLinearAlgebra\u001b[39m \u001b[90m/usr/local/share/julia/stdlib/v1.10/LinearAlgebra/src/\u001b[39m\u001b[90m\u001b[4mdiagonal.jl:238\u001b[24m\u001b[39m\n",
              "  [72] +(\u001b[90mA\u001b[39m::\u001b[1mLinearAlgebra.Hermitian\u001b[22m, \u001b[90mB\u001b[39m::\u001b[1mLinearAlgebra.SymTridiagonal\u001b[22m\u001b[0m{var\"#s126\", V} where {var\"#s126\"<:Real, V<:AbstractVector{var\"#s126\"}})\n",
              "\u001b[90m     @\u001b[39m \u001b[36mLinearAlgebra\u001b[39m \u001b[90m/usr/local/share/julia/stdlib/v1.10/LinearAlgebra/src/\u001b[39m\u001b[90m\u001b[4msymmetric.jl:523\u001b[24m\u001b[39m\n",
              "  [73] +(\u001b[90mA\u001b[39m::\u001b[1mLinearAlgebra.Hermitian\u001b[22m, \u001b[90mB\u001b[39m::\u001b[1mLinearAlgebra.Symmetric\u001b[22m\u001b[0m{var\"#s997\", S} where {var\"#s997\"<:Real, S<:(AbstractMatrix{<:var\"#s997\"})})\n",
              "\u001b[90m     @\u001b[39m \u001b[36mLinearAlgebra\u001b[39m \u001b[90m/usr/local/share/julia/stdlib/v1.10/LinearAlgebra/src/\u001b[39m\u001b[90m\u001b[4msymmetric.jl:518\u001b[24m\u001b[39m\n",
              "  [74] +(\u001b[90mA\u001b[39m::\u001b[1mLinearAlgebra.Hermitian\u001b[22m, \u001b[90mB\u001b[39m::\u001b[1mLinearAlgebra.Hermitian\u001b[22m)\n",
              "\u001b[90m     @\u001b[39m \u001b[36mLinearAlgebra\u001b[39m \u001b[90m/usr/local/share/julia/stdlib/v1.10/LinearAlgebra/src/\u001b[39m\u001b[90m\u001b[4msymmetric.jl:504\u001b[24m\u001b[39m\n",
              "  [75] +(\u001b[90my\u001b[39m::\u001b[1mAbstractFloat\u001b[22m, \u001b[90mx\u001b[39m::\u001b[1mBool\u001b[22m)\n",
              "\u001b[90m     @\u001b[39m \u001b[90m\u001b[4mbool.jl:176\u001b[24m\u001b[39m\n",
              "  [76] +(\u001b[90mx\u001b[39m::\u001b[1mRational\u001b[22m, \u001b[90my\u001b[39m::\u001b[1mInteger\u001b[22m)\n",
              "\u001b[90m     @\u001b[39m \u001b[90m\u001b[4mrational.jl:343\u001b[24m\u001b[39m\n",
              "  [77] +(\u001b[90mx\u001b[39m::\u001b[1mRational\u001b[22m, \u001b[90my\u001b[39m::\u001b[1mRational\u001b[22m)\n",
              "\u001b[90m     @\u001b[39m \u001b[90m\u001b[4mrational.jl:314\u001b[24m\u001b[39m\n",
              "  [78] +(\u001b[90mx\u001b[39m::\u001b[1mRational\u001b[22m)\n",
              "\u001b[90m     @\u001b[39m \u001b[90m\u001b[4mrational.jl:300\u001b[24m\u001b[39m\n",
              "  [79] +(\u001b[90mA\u001b[39m::\u001b[1mLinearAlgebra.UnitLowerTriangular\u001b[22m, \u001b[90mB\u001b[39m::\u001b[1mLinearAlgebra.Bidiagonal\u001b[22m)\n",
              "\u001b[90m     @\u001b[39m \u001b[36mLinearAlgebra\u001b[39m \u001b[90m/usr/local/share/julia/stdlib/v1.10/LinearAlgebra/src/\u001b[39m\u001b[90m\u001b[4mspecial.jl:91\u001b[24m\u001b[39m\n",
              "  [80] +(\u001b[90mUL\u001b[39m::\u001b[1mLinearAlgebra.UnitLowerTriangular\u001b[22m, \u001b[90mJ\u001b[39m::\u001b[1mLinearAlgebra.UniformScaling\u001b[22m)\n",
              "\u001b[90m     @\u001b[39m \u001b[36mLinearAlgebra\u001b[39m \u001b[90m/usr/local/share/julia/stdlib/v1.10/LinearAlgebra/src/\u001b[39m\u001b[90m\u001b[4muniformscaling.jl:181\u001b[24m\u001b[39m\n",
              "  [81] +(\u001b[90mx\u001b[39m::\u001b[1mInteger\u001b[22m, \u001b[90my\u001b[39m::\u001b[1mAbstractChar\u001b[22m)\n",
              "\u001b[90m     @\u001b[39m \u001b[90m\u001b[4mchar.jl:247\u001b[24m\u001b[39m\n",
              "  [82] +(\u001b[90my\u001b[39m::\u001b[1mInteger\u001b[22m, \u001b[90mx\u001b[39m::\u001b[1mRational\u001b[22m)\n",
              "\u001b[90m     @\u001b[39m \u001b[90m\u001b[4mrational.jl:350\u001b[24m\u001b[39m\n",
              "  [83] +(\u001b[90mx\u001b[39m::\u001b[1mInteger\u001b[22m, \u001b[90my\u001b[39m::\u001b[1mPtr\u001b[22m)\n",
              "\u001b[90m     @\u001b[39m \u001b[90m\u001b[4mpointer.jl:284\u001b[24m\u001b[39m\n",
              "  [84] +(\u001b[90mc\u001b[39m::\u001b[1mUnion\u001b[22m\u001b[0m{Int16, Int32, Int64, Int8}, \u001b[90mx\u001b[39m::\u001b[1mBigInt\u001b[22m)\n",
              "\u001b[90m     @\u001b[39m \u001b[90mBase.GMP\u001b[39m \u001b[90m\u001b[4mgmp.jl:556\u001b[24m\u001b[39m\n",
              "  [85] +(\u001b[90mc\u001b[39m::\u001b[1mUnion\u001b[22m\u001b[0m{UInt16, UInt32, UInt64, UInt8}, \u001b[90mx\u001b[39m::\u001b[1mBigInt\u001b[22m)\n",
              "\u001b[90m     @\u001b[39m \u001b[90mBase.GMP\u001b[39m \u001b[90m\u001b[4mgmp.jl:550\u001b[24m\u001b[39m\n",
              "  [86] +(\u001b[90mx\u001b[39m::\u001b[1mT\u001b[22m, \u001b[90my\u001b[39m::\u001b[1mT\u001b[22m) where T<:Union{Int128, Int16, Int32, Int64, Int8, UInt128, UInt16, UInt32, UInt64, UInt8}\n",
              "\u001b[90m     @\u001b[39m \u001b[90m\u001b[4mint.jl:87\u001b[24m\u001b[39m\n",
              "  [87] +(\u001b[90ma\u001b[39m::\u001b[1mInteger\u001b[22m, \u001b[90mb\u001b[39m::\u001b[1mInteger\u001b[22m)\n",
              "\u001b[90m     @\u001b[39m \u001b[90m\u001b[4mint.jl:1064\u001b[24m\u001b[39m\n",
              "  [88] +(\u001b[90mx\u001b[39m::\u001b[1mPtr\u001b[22m, \u001b[90my\u001b[39m::\u001b[1mInteger\u001b[22m)\n",
              "\u001b[90m     @\u001b[39m \u001b[90m\u001b[4mpointer.jl:282\u001b[24m\u001b[39m\n",
              "  [89] +(\u001b[90mA\u001b[39m::\u001b[1mLinearAlgebra.UnitUpperTriangular\u001b[22m, \u001b[90mB\u001b[39m::\u001b[1mLinearAlgebra.Bidiagonal\u001b[22m)\n",
              "\u001b[90m     @\u001b[39m \u001b[36mLinearAlgebra\u001b[39m \u001b[90m/usr/local/share/julia/stdlib/v1.10/LinearAlgebra/src/\u001b[39m\u001b[90m\u001b[4mspecial.jl:91\u001b[24m\u001b[39m\n",
              "  [90] +(\u001b[90mx\u001b[39m::\u001b[1mLinearAlgebra.UnitUpperTriangular\u001b[22m, \u001b[90mH\u001b[39m::\u001b[1mLinearAlgebra.UpperHessenberg\u001b[22m)\n",
              "\u001b[90m     @\u001b[39m \u001b[36mLinearAlgebra\u001b[39m \u001b[90m/usr/local/share/julia/stdlib/v1.10/LinearAlgebra/src/\u001b[39m\u001b[90m\u001b[4mhessenberg.jl:120\u001b[24m\u001b[39m\n",
              "  [91] +(\u001b[90mUL\u001b[39m::\u001b[1mLinearAlgebra.UnitUpperTriangular\u001b[22m, \u001b[90mJ\u001b[39m::\u001b[1mLinearAlgebra.UniformScaling\u001b[22m)\n",
              "\u001b[90m     @\u001b[39m \u001b[36mLinearAlgebra\u001b[39m \u001b[90m/usr/local/share/julia/stdlib/v1.10/LinearAlgebra/src/\u001b[39m\u001b[90m\u001b[4muniformscaling.jl:181\u001b[24m\u001b[39m\n",
              "  [92] +(\u001b[90mD\u001b[39m::\u001b[1mLinearAlgebra.Diagonal\u001b[22m\u001b[0m{var\"#s997\", V} where {var\"#s997\"<:Real, V<:AbstractVector{var\"#s997\"}}, \u001b[90mH\u001b[39m::\u001b[1mLinearAlgebra.Hermitian\u001b[22m)\n",
              "\u001b[90m     @\u001b[39m \u001b[36mLinearAlgebra\u001b[39m \u001b[90m/usr/local/share/julia/stdlib/v1.10/LinearAlgebra/src/\u001b[39m\u001b[90m\u001b[4mdiagonal.jl:235\u001b[24m\u001b[39m\n",
              "  [93] +(\u001b[90mA\u001b[39m::\u001b[1mLinearAlgebra.Diagonal\u001b[22m, \u001b[90mB\u001b[39m::\u001b[1mLinearAlgebra.UniformScaling\u001b[22m)\n",
              "\u001b[90m     @\u001b[39m \u001b[36mLinearAlgebra\u001b[39m \u001b[90m/usr/local/share/julia/stdlib/v1.10/LinearAlgebra/src/\u001b[39m\u001b[90m\u001b[4mspecial.jl:247\u001b[24m\u001b[39m\n",
              "  [94] +(\u001b[90mD\u001b[39m::\u001b[1mLinearAlgebra.Diagonal\u001b[22m, \u001b[90mS\u001b[39m::\u001b[1mLinearAlgebra.Symmetric\u001b[22m)\n",
              "\u001b[90m     @\u001b[39m \u001b[36mLinearAlgebra\u001b[39m \u001b[90m/usr/local/share/julia/stdlib/v1.10/LinearAlgebra/src/\u001b[39m\u001b[90m\u001b[4mdiagonal.jl:229\u001b[24m\u001b[39m\n",
              "  [95] +(\u001b[90mx\u001b[39m::\u001b[1mLinearAlgebra.Diagonal\u001b[22m, \u001b[90mH\u001b[39m::\u001b[1mLinearAlgebra.UpperHessenberg\u001b[22m)\n",
              "\u001b[90m     @\u001b[39m \u001b[36mLinearAlgebra\u001b[39m \u001b[90m/usr/local/share/julia/stdlib/v1.10/LinearAlgebra/src/\u001b[39m\u001b[90m\u001b[4mhessenberg.jl:120\u001b[24m\u001b[39m\n",
              "  [96] +(\u001b[90mDa\u001b[39m::\u001b[1mLinearAlgebra.Diagonal\u001b[22m, \u001b[90mDb\u001b[39m::\u001b[1mLinearAlgebra.Diagonal\u001b[22m)\n",
              "\u001b[90m     @\u001b[39m \u001b[36mLinearAlgebra\u001b[39m \u001b[90m/usr/local/share/julia/stdlib/v1.10/LinearAlgebra/src/\u001b[39m\u001b[90m\u001b[4mdiagonal.jl:225\u001b[24m\u001b[39m\n",
              "  [97] +(\u001b[90mA\u001b[39m::\u001b[1mLinearAlgebra.Diagonal\u001b[22m, \u001b[90mB\u001b[39m::\u001b[1mLinearAlgebra.Tridiagonal\u001b[22m)\n",
              "\u001b[90m     @\u001b[39m \u001b[36mLinearAlgebra\u001b[39m \u001b[90m/usr/local/share/julia/stdlib/v1.10/LinearAlgebra/src/\u001b[39m\u001b[90m\u001b[4mspecial.jl:187\u001b[24m\u001b[39m\n",
              "  [98] +(\u001b[90mA\u001b[39m::\u001b[1mLinearAlgebra.Diagonal\u001b[22m, \u001b[90mB\u001b[39m::\u001b[1mLinearAlgebra.SymTridiagonal\u001b[22m)\n",
              "\u001b[90m     @\u001b[39m \u001b[36mLinearAlgebra\u001b[39m \u001b[90m/usr/local/share/julia/stdlib/v1.10/LinearAlgebra/src/\u001b[39m\u001b[90m\u001b[4mspecial.jl:166\u001b[24m\u001b[39m\n",
              "  [99] +(\u001b[90mB\u001b[39m::\u001b[1mLinearAlgebra.Diagonal\u001b[22m, \u001b[90mA\u001b[39m::\u001b[1mLinearAlgebra.Bidiagonal\u001b[22m)\n",
              "\u001b[90m     @\u001b[39m \u001b[36mLinearAlgebra\u001b[39m \u001b[90m\u001b[4mnone:0\u001b[24m\u001b[39m\n",
              " [100] +(\u001b[90mx\u001b[39m::\u001b[1mT\u001b[22m, \u001b[90my\u001b[39m::\u001b[1mInteger\u001b[22m) where T<:AbstractChar\n",
              "\u001b[90m     @\u001b[39m \u001b[90m\u001b[4mchar.jl:237\u001b[24m\u001b[39m\n",
              " [101] +(\u001b[90mr1\u001b[39m::\u001b[1mStepRangeLen\u001b[22m\u001b[0m{T, R}, \u001b[90mr2\u001b[39m::\u001b[1mStepRangeLen\u001b[22m\u001b[0m{T, R}) where {R<:Base.TwicePrecision, T}\n",
              "\u001b[90m     @\u001b[39m \u001b[90m\u001b[4mtwiceprecision.jl:626\u001b[24m\u001b[39m\n",
              " [102] +(\u001b[90mr1\u001b[39m::\u001b[1mStepRangeLen\u001b[22m\u001b[0m{T, S}, \u001b[90mr2\u001b[39m::\u001b[1mStepRangeLen\u001b[22m\u001b[0m{T, S}) where {T, S}\n",
              "\u001b[90m     @\u001b[39m \u001b[90m\u001b[4mrange.jl:1477\u001b[24m\u001b[39m\n",
              " [103] +(\u001b[90mA\u001b[39m::\u001b[1mLinearAlgebra.SymTridiagonal\u001b[22m, \u001b[90mB\u001b[39m::\u001b[1mLinearAlgebra.SymTridiagonal\u001b[22m)\n",
              "\u001b[90m     @\u001b[39m \u001b[36mLinearAlgebra\u001b[39m \u001b[90m/usr/local/share/julia/stdlib/v1.10/LinearAlgebra/src/\u001b[39m\u001b[90m\u001b[4mtridiag.jl:210\u001b[24m\u001b[39m\n",
              " [104] +(\u001b[90mA\u001b[39m::\u001b[1mLinearAlgebra.SymTridiagonal\u001b[22m, \u001b[90mB\u001b[39m::\u001b[1mLinearAlgebra.UniformScaling\u001b[22m)\n",
              "\u001b[90m     @\u001b[39m \u001b[36mLinearAlgebra\u001b[39m \u001b[90m/usr/local/share/julia/stdlib/v1.10/LinearAlgebra/src/\u001b[39m\u001b[90m\u001b[4mspecial.jl:237\u001b[24m\u001b[39m\n",
              " [105] +(\u001b[90mA\u001b[39m::\u001b[1mLinearAlgebra.SymTridiagonal\u001b[22m, \u001b[90mB\u001b[39m::\u001b[1mLinearAlgebra.Symmetric\u001b[22m)\n",
              "\u001b[90m     @\u001b[39m \u001b[36mLinearAlgebra\u001b[39m \u001b[90m/usr/local/share/julia/stdlib/v1.10/LinearAlgebra/src/\u001b[39m\u001b[90m\u001b[4msymmetric.jl:520\u001b[24m\u001b[39m\n",
              " [106] +(\u001b[90mB\u001b[39m::\u001b[1mLinearAlgebra.SymTridiagonal\u001b[22m, \u001b[90mA\u001b[39m::\u001b[1mLinearAlgebra.Diagonal\u001b[22m)\n",
              "\u001b[90m     @\u001b[39m \u001b[36mLinearAlgebra\u001b[39m \u001b[90m\u001b[4mnone:0\u001b[24m\u001b[39m\n",
              " [107] +(\u001b[90mx\u001b[39m::\u001b[1mLinearAlgebra.SymTridiagonal\u001b[22m, \u001b[90mH\u001b[39m::\u001b[1mLinearAlgebra.UpperHessenberg\u001b[22m)\n",
              "\u001b[90m     @\u001b[39m \u001b[36mLinearAlgebra\u001b[39m \u001b[90m/usr/local/share/julia/stdlib/v1.10/LinearAlgebra/src/\u001b[39m\u001b[90m\u001b[4mhessenberg.jl:120\u001b[24m\u001b[39m\n",
              " [108] +(\u001b[90mB\u001b[39m::\u001b[1mLinearAlgebra.SymTridiagonal\u001b[22m, \u001b[90mA\u001b[39m::\u001b[1mLinearAlgebra.Tridiagonal\u001b[22m)\n",
              "\u001b[90m     @\u001b[39m \u001b[36mLinearAlgebra\u001b[39m \u001b[90m\u001b[4mnone:0\u001b[24m\u001b[39m\n",
              " [109] +(\u001b[90mB\u001b[39m::\u001b[1mLinearAlgebra.SymTridiagonal\u001b[22m, \u001b[90mA\u001b[39m::\u001b[1mLinearAlgebra.Bidiagonal\u001b[22m)\n",
              "\u001b[90m     @\u001b[39m \u001b[36mLinearAlgebra\u001b[39m \u001b[90m\u001b[4mnone:0\u001b[24m\u001b[39m\n",
              " [110] +(\u001b[90mA\u001b[39m::\u001b[1mLinearAlgebra.SymTridiagonal\u001b[22m\u001b[0m{var\"#s127\", V} where {var\"#s127\"<:Real, V<:AbstractVector{var\"#s127\"}}, \u001b[90mB\u001b[39m::\u001b[1mLinearAlgebra.Hermitian\u001b[22m)\n",
              "\u001b[90m     @\u001b[39m \u001b[36mLinearAlgebra\u001b[39m \u001b[90m/usr/local/share/julia/stdlib/v1.10/LinearAlgebra/src/\u001b[39m\u001b[90m\u001b[4msymmetric.jl:522\u001b[24m\u001b[39m\n",
              " [111] +(\u001b[90mx\u001b[39m::\u001b[1mBase.TwicePrecision\u001b[22m\u001b[0m{T}, \u001b[90my\u001b[39m::\u001b[1mBase.TwicePrecision\u001b[22m\u001b[0m{T}) where T\n",
              "\u001b[90m     @\u001b[39m \u001b[90m\u001b[4mtwiceprecision.jl:294\u001b[24m\u001b[39m\n",
              " [112] +(\u001b[90mx\u001b[39m::\u001b[1mBase.TwicePrecision\u001b[22m, \u001b[90my\u001b[39m::\u001b[1mBase.TwicePrecision\u001b[22m)\n",
              "\u001b[90m     @\u001b[39m \u001b[90m\u001b[4mtwiceprecision.jl:299\u001b[24m\u001b[39m\n",
              " [113] +(\u001b[90mx\u001b[39m::\u001b[1mBase.TwicePrecision\u001b[22m, \u001b[90my\u001b[39m::\u001b[1mNumber\u001b[22m)\n",
              "\u001b[90m     @\u001b[39m \u001b[90m\u001b[4mtwiceprecision.jl:288\u001b[24m\u001b[39m\n",
              " [114] +(\u001b[90mx\u001b[39m::\u001b[1mReal\u001b[22m, \u001b[90mz\u001b[39m::\u001b[1mComplex\u001b[22m)\n",
              "\u001b[90m     @\u001b[39m \u001b[90m\u001b[4mcomplex.jl:331\u001b[24m\u001b[39m\n",
              " [115] +(\u001b[90mx\u001b[39m::\u001b[1mNumber\u001b[22m, \u001b[90mJ\u001b[39m::\u001b[1mLinearAlgebra.UniformScaling\u001b[22m)\n",
              "\u001b[90m     @\u001b[39m \u001b[36mLinearAlgebra\u001b[39m \u001b[90m/usr/local/share/julia/stdlib/v1.10/LinearAlgebra/src/\u001b[39m\u001b[90m\u001b[4muniformscaling.jl:145\u001b[24m\u001b[39m\n",
              " [116] +(::\u001b[1mNumber\u001b[22m, ::\u001b[1mMissing\u001b[22m)\n",
              "\u001b[90m     @\u001b[39m \u001b[90m\u001b[4mmissing.jl:124\u001b[24m\u001b[39m\n",
              " [117] +(\u001b[90mx\u001b[39m::\u001b[1mNumber\u001b[22m, \u001b[90my\u001b[39m::\u001b[1mBase.TwicePrecision\u001b[22m)\n",
              "\u001b[90m     @\u001b[39m \u001b[90m\u001b[4mtwiceprecision.jl:292\u001b[24m\u001b[39m\n",
              " [118] +(\u001b[90mz\u001b[39m::\u001b[1mComplex\u001b[22m)\n",
              "\u001b[90m     @\u001b[39m \u001b[90m\u001b[4mcomplex.jl:292\u001b[24m\u001b[39m\n",
              " [119] +(\u001b[90mx\u001b[39m::\u001b[1mNumber\u001b[22m)\n",
              "\u001b[90m     @\u001b[39m \u001b[90m\u001b[4moperators.jl:524\u001b[24m\u001b[39m\n",
              " [120] +(\u001b[90mz\u001b[39m::\u001b[1mComplex\u001b[22m, \u001b[90mw\u001b[39m::\u001b[1mComplex\u001b[22m)\n",
              "\u001b[90m     @\u001b[39m \u001b[90m\u001b[4mcomplex.jl:294\u001b[24m\u001b[39m\n",
              " [121] +(\u001b[90mx\u001b[39m::\u001b[1mAbstractIrrational\u001b[22m, \u001b[90my\u001b[39m::\u001b[1mAbstractIrrational\u001b[22m)\n",
              "\u001b[90m     @\u001b[39m \u001b[90m\u001b[4mirrationals.jl:176\u001b[24m\u001b[39m\n",
              " [122] +(\u001b[90mx\u001b[39m::\u001b[1mT\u001b[22m, \u001b[90my\u001b[39m::\u001b[1mT\u001b[22m) where T<:Union{Float16, Float32, Float64}\n",
              "\u001b[90m     @\u001b[39m \u001b[90m\u001b[4mfloat.jl:409\u001b[24m\u001b[39m\n",
              " [123] +(\u001b[90mx\u001b[39m::\u001b[1mT\u001b[22m, \u001b[90my\u001b[39m::\u001b[1mT\u001b[22m) where T<:Number\n",
              "\u001b[90m     @\u001b[39m \u001b[90m\u001b[4mpromotion.jl:507\u001b[24m\u001b[39m\n",
              " [124] +(\u001b[90mz\u001b[39m::\u001b[1mComplex\u001b[22m, \u001b[90mx\u001b[39m::\u001b[1mReal\u001b[22m)\n",
              "\u001b[90m     @\u001b[39m \u001b[90m\u001b[4mcomplex.jl:332\u001b[24m\u001b[39m\n",
              " [125] +(\u001b[90mc\u001b[39m::\u001b[1mUnion\u001b[22m\u001b[0m{Float16, Float32, Float64}, \u001b[90mx\u001b[39m::\u001b[1mBigFloat\u001b[22m)\n",
              "\u001b[90m     @\u001b[39m \u001b[90mBase.MPFR\u001b[39m \u001b[90m\u001b[4mmpfr.jl:460\u001b[24m\u001b[39m\n",
              " [126] +(\u001b[90mc\u001b[39m::\u001b[1mUnion\u001b[22m\u001b[0m{Int16, Int32, Int64, Int8}, \u001b[90mx\u001b[39m::\u001b[1mBigFloat\u001b[22m)\n",
              "\u001b[90m     @\u001b[39m \u001b[90mBase.MPFR\u001b[39m \u001b[90m\u001b[4mmpfr.jl:452\u001b[24m\u001b[39m\n",
              " [127] +(\u001b[90mc\u001b[39m::\u001b[1mUnion\u001b[22m\u001b[0m{UInt16, UInt32, UInt64, UInt8}, \u001b[90mx\u001b[39m::\u001b[1mBigFloat\u001b[22m)\n",
              "\u001b[90m     @\u001b[39m \u001b[90mBase.MPFR\u001b[39m \u001b[90m\u001b[4mmpfr.jl:444\u001b[24m\u001b[39m\n",
              " [128] +(\u001b[90mx\u001b[39m::\u001b[1mNumber\u001b[22m, \u001b[90my\u001b[39m::\u001b[1mNumber\u001b[22m)\n",
              "\u001b[90m     @\u001b[39m \u001b[90m\u001b[4mpromotion.jl:422\u001b[24m\u001b[39m\n",
              " [129] +(\u001b[90mS\u001b[39m::\u001b[1mLinearAlgebra.Symmetric\u001b[22m, \u001b[90mD\u001b[39m::\u001b[1mLinearAlgebra.Diagonal\u001b[22m)\n",
              "\u001b[90m     @\u001b[39m \u001b[36mLinearAlgebra\u001b[39m \u001b[90m/usr/local/share/julia/stdlib/v1.10/LinearAlgebra/src/\u001b[39m\u001b[90m\u001b[4mdiagonal.jl:232\u001b[24m\u001b[39m\n",
              " [130] +(\u001b[90mA\u001b[39m::\u001b[1mLinearAlgebra.Symmetric\u001b[22m, \u001b[90mB\u001b[39m::\u001b[1mLinearAlgebra.SymTridiagonal\u001b[22m)\n",
              "\u001b[90m     @\u001b[39m \u001b[36mLinearAlgebra\u001b[39m \u001b[90m/usr/local/share/julia/stdlib/v1.10/LinearAlgebra/src/\u001b[39m\u001b[90m\u001b[4msymmetric.jl:521\u001b[24m\u001b[39m\n",
              " [131] +(\u001b[90mA\u001b[39m::\u001b[1mLinearAlgebra.Symmetric\u001b[22m\u001b[0m{var\"#s128\", S} where {var\"#s128\"<:Real, S<:(AbstractMatrix{<:var\"#s128\"})}, \u001b[90mB\u001b[39m::\u001b[1mLinearAlgebra.Hermitian\u001b[22m)\n",
              "\u001b[90m     @\u001b[39m \u001b[36mLinearAlgebra\u001b[39m \u001b[90m/usr/local/share/julia/stdlib/v1.10/LinearAlgebra/src/\u001b[39m\u001b[90m\u001b[4msymmetric.jl:519\u001b[24m\u001b[39m\n",
              " [132] +(\u001b[90mA\u001b[39m::\u001b[1mLinearAlgebra.Symmetric\u001b[22m, \u001b[90mB\u001b[39m::\u001b[1mLinearAlgebra.Symmetric\u001b[22m)\n",
              "\u001b[90m     @\u001b[39m \u001b[36mLinearAlgebra\u001b[39m \u001b[90m/usr/local/share/julia/stdlib/v1.10/LinearAlgebra/src/\u001b[39m\u001b[90m\u001b[4msymmetric.jl:504\u001b[24m\u001b[39m\n",
              " [133] +(\u001b[90mJ\u001b[39m::\u001b[1mLinearAlgebra.UniformScaling\u001b[22m, \u001b[90mB\u001b[39m::\u001b[1mBitMatrix\u001b[22m)\n",
              "\u001b[90m     @\u001b[39m \u001b[36mLinearAlgebra\u001b[39m \u001b[90m/usr/local/share/julia/stdlib/v1.10/LinearAlgebra/src/\u001b[39m\u001b[90m\u001b[4muniformscaling.jl:152\u001b[24m\u001b[39m\n",
              " [134] +(\u001b[90mJ\u001b[39m::\u001b[1mLinearAlgebra.UniformScaling\u001b[22m, \u001b[90mF\u001b[39m::\u001b[1mLinearAlgebra.Hessenberg\u001b[22m)\n",
              "\u001b[90m     @\u001b[39m \u001b[36mLinearAlgebra\u001b[39m \u001b[90m/usr/local/share/julia/stdlib/v1.10/LinearAlgebra/src/\u001b[39m\u001b[90m\u001b[4mhessenberg.jl:561\u001b[24m\u001b[39m\n",
              " [135] +(\u001b[90mJ\u001b[39m::\u001b[1mLinearAlgebra.UniformScaling\u001b[22m, \u001b[90mx\u001b[39m::\u001b[1mNumber\u001b[22m)\n",
              "\u001b[90m     @\u001b[39m \u001b[36mLinearAlgebra\u001b[39m \u001b[90m/usr/local/share/julia/stdlib/v1.10/LinearAlgebra/src/\u001b[39m\u001b[90m\u001b[4muniformscaling.jl:144\u001b[24m\u001b[39m\n",
              " [136] +(\u001b[90mx\u001b[39m::\u001b[1mLinearAlgebra.UniformScaling\u001b[22m, \u001b[90mH\u001b[39m::\u001b[1mLinearAlgebra.UpperHessenberg\u001b[22m)\n",
              "\u001b[90m     @\u001b[39m \u001b[36mLinearAlgebra\u001b[39m \u001b[90m/usr/local/share/julia/stdlib/v1.10/LinearAlgebra/src/\u001b[39m\u001b[90m\u001b[4mhessenberg.jl:120\u001b[24m\u001b[39m\n",
              " [137] +(\u001b[90mJ1\u001b[39m::\u001b[1mLinearAlgebra.UniformScaling\u001b[22m, \u001b[90mJ2\u001b[39m::\u001b[1mLinearAlgebra.UniformScaling\u001b[22m)\n",
              "\u001b[90m     @\u001b[39m \u001b[36mLinearAlgebra\u001b[39m \u001b[90m/usr/local/share/julia/stdlib/v1.10/LinearAlgebra/src/\u001b[39m\u001b[90m\u001b[4muniformscaling.jl:150\u001b[24m\u001b[39m\n",
              " [138] +(\u001b[90mB\u001b[39m::\u001b[1mLinearAlgebra.UniformScaling\u001b[22m, \u001b[90mA\u001b[39m::\u001b[1mLinearAlgebra.Tridiagonal\u001b[22m)\n",
              "\u001b[90m     @\u001b[39m \u001b[36mLinearAlgebra\u001b[39m \u001b[90m\u001b[4mnone:0\u001b[24m\u001b[39m\n",
              " [139] +(\u001b[90mB\u001b[39m::\u001b[1mLinearAlgebra.UniformScaling\u001b[22m, \u001b[90mA\u001b[39m::\u001b[1mLinearAlgebra.Bidiagonal\u001b[22m)\n",
              "\u001b[90m     @\u001b[39m \u001b[36mLinearAlgebra\u001b[39m \u001b[90m\u001b[4mnone:0\u001b[24m\u001b[39m\n",
              " [140] +(\u001b[90mB\u001b[39m::\u001b[1mLinearAlgebra.UniformScaling\u001b[22m, \u001b[90mA\u001b[39m::\u001b[1mLinearAlgebra.Diagonal\u001b[22m)\n",
              "\u001b[90m     @\u001b[39m \u001b[36mLinearAlgebra\u001b[39m \u001b[90m\u001b[4mnone:0\u001b[24m\u001b[39m\n",
              " [141] +(\u001b[90mB\u001b[39m::\u001b[1mLinearAlgebra.UniformScaling\u001b[22m, \u001b[90mA\u001b[39m::\u001b[1mLinearAlgebra.SymTridiagonal\u001b[22m)\n",
              "\u001b[90m     @\u001b[39m \u001b[36mLinearAlgebra\u001b[39m \u001b[90m\u001b[4mnone:0\u001b[24m\u001b[39m\n",
              " [142] +(\u001b[90mJ\u001b[39m::\u001b[1mLinearAlgebra.UniformScaling\u001b[22m, \u001b[90mA\u001b[39m::\u001b[1mAbstractMatrix\u001b[22m)\n",
              "\u001b[90m     @\u001b[39m \u001b[36mLinearAlgebra\u001b[39m \u001b[90m/usr/local/share/julia/stdlib/v1.10/LinearAlgebra/src/\u001b[39m\u001b[90m\u001b[4muniformscaling.jl:153\u001b[24m\u001b[39m\n",
              " [143] +(\u001b[90mJ\u001b[39m::\u001b[1mLinearAlgebra.UniformScaling\u001b[22m)\n",
              "\u001b[90m     @\u001b[39m \u001b[36mLinearAlgebra\u001b[39m \u001b[90m/usr/local/share/julia/stdlib/v1.10/LinearAlgebra/src/\u001b[39m\u001b[90m\u001b[4muniformscaling.jl:149\u001b[24m\u001b[39m\n",
              " [144] +(\u001b[90mA\u001b[39m::\u001b[1mBitArray\u001b[22m, \u001b[90mB\u001b[39m::\u001b[1mBitArray\u001b[22m)\n",
              "\u001b[90m     @\u001b[39m \u001b[90m\u001b[4mbitarray.jl:1184\u001b[24m\u001b[39m\n",
              " [145] +(\u001b[90mx\u001b[39m::\u001b[1mLinearAlgebra.Bidiagonal\u001b[22m, \u001b[90mH\u001b[39m::\u001b[1mLinearAlgebra.UpperHessenberg\u001b[22m)\n",
              "\u001b[90m     @\u001b[39m \u001b[36mLinearAlgebra\u001b[39m \u001b[90m/usr/local/share/julia/stdlib/v1.10/LinearAlgebra/src/\u001b[39m\u001b[90m\u001b[4mhessenberg.jl:120\u001b[24m\u001b[39m\n",
              " [146] +(\u001b[90mA\u001b[39m::\u001b[1mLinearAlgebra.Bidiagonal\u001b[22m, \u001b[90mB\u001b[39m::\u001b[1mLinearAlgebra.LowerTriangular\u001b[22m)\n",
              "\u001b[90m     @\u001b[39m \u001b[36mLinearAlgebra\u001b[39m \u001b[90m/usr/local/share/julia/stdlib/v1.10/LinearAlgebra/src/\u001b[39m\u001b[90m\u001b[4mspecial.jl:99\u001b[24m\u001b[39m\n",
              " [147] +(\u001b[90mA\u001b[39m::\u001b[1mLinearAlgebra.Bidiagonal\u001b[22m, \u001b[90mB\u001b[39m::\u001b[1mLinearAlgebra.Tridiagonal\u001b[22m)\n",
              "\u001b[90m     @\u001b[39m \u001b[36mLinearAlgebra\u001b[39m \u001b[90m/usr/local/share/julia/stdlib/v1.10/LinearAlgebra/src/\u001b[39m\u001b[90m\u001b[4mspecial.jl:202\u001b[24m\u001b[39m\n",
              " [148] +(\u001b[90mA\u001b[39m::\u001b[1mLinearAlgebra.Bidiagonal\u001b[22m, \u001b[90mB\u001b[39m::\u001b[1mLinearAlgebra.Bidiagonal\u001b[22m)\n",
              "\u001b[90m     @\u001b[39m \u001b[36mLinearAlgebra\u001b[39m \u001b[90m/usr/local/share/julia/stdlib/v1.10/LinearAlgebra/src/\u001b[39m\u001b[90m\u001b[4mbidiag.jl:390\u001b[24m\u001b[39m\n",
              " [149] +(\u001b[90mA\u001b[39m::\u001b[1mLinearAlgebra.Bidiagonal\u001b[22m, \u001b[90mB\u001b[39m::\u001b[1mLinearAlgebra.UnitUpperTriangular\u001b[22m)\n",
              "\u001b[90m     @\u001b[39m \u001b[36mLinearAlgebra\u001b[39m \u001b[90m/usr/local/share/julia/stdlib/v1.10/LinearAlgebra/src/\u001b[39m\u001b[90m\u001b[4mspecial.jl:99\u001b[24m\u001b[39m\n",
              " [150] +(\u001b[90mA\u001b[39m::\u001b[1mLinearAlgebra.Bidiagonal\u001b[22m, \u001b[90mB\u001b[39m::\u001b[1mLinearAlgebra.UpperTriangular\u001b[22m)\n",
              "\u001b[90m     @\u001b[39m \u001b[36mLinearAlgebra\u001b[39m \u001b[90m/usr/local/share/julia/stdlib/v1.10/LinearAlgebra/src/\u001b[39m\u001b[90m\u001b[4mspecial.jl:99\u001b[24m\u001b[39m\n",
              " [151] +(\u001b[90mA\u001b[39m::\u001b[1mLinearAlgebra.Bidiagonal\u001b[22m, \u001b[90mB\u001b[39m::\u001b[1mLinearAlgebra.UniformScaling\u001b[22m)\n",
              "\u001b[90m     @\u001b[39m \u001b[36mLinearAlgebra\u001b[39m \u001b[90m/usr/local/share/julia/stdlib/v1.10/LinearAlgebra/src/\u001b[39m\u001b[90m\u001b[4mspecial.jl:242\u001b[24m\u001b[39m\n",
              " [152] +(\u001b[90mA\u001b[39m::\u001b[1mLinearAlgebra.Bidiagonal\u001b[22m, \u001b[90mB\u001b[39m::\u001b[1mLinearAlgebra.Diagonal\u001b[22m)\n",
              "\u001b[90m     @\u001b[39m \u001b[36mLinearAlgebra\u001b[39m \u001b[90m/usr/local/share/julia/stdlib/v1.10/LinearAlgebra/src/\u001b[39m\u001b[90m\u001b[4mspecial.jl:151\u001b[24m\u001b[39m\n",
              " [153] +(\u001b[90mA\u001b[39m::\u001b[1mLinearAlgebra.Bidiagonal\u001b[22m, \u001b[90mB\u001b[39m::\u001b[1mLinearAlgebra.UnitLowerTriangular\u001b[22m)\n",
              "\u001b[90m     @\u001b[39m \u001b[36mLinearAlgebra\u001b[39m \u001b[90m/usr/local/share/julia/stdlib/v1.10/LinearAlgebra/src/\u001b[39m\u001b[90m\u001b[4mspecial.jl:99\u001b[24m\u001b[39m\n",
              " [154] +(\u001b[90mA\u001b[39m::\u001b[1mLinearAlgebra.Bidiagonal\u001b[22m, \u001b[90mB\u001b[39m::\u001b[1mLinearAlgebra.SymTridiagonal\u001b[22m)\n",
              "\u001b[90m     @\u001b[39m \u001b[36mLinearAlgebra\u001b[39m \u001b[90m/usr/local/share/julia/stdlib/v1.10/LinearAlgebra/src/\u001b[39m\u001b[90m\u001b[4mspecial.jl:217\u001b[24m\u001b[39m\n",
              " [155] +(\u001b[90mF\u001b[39m::\u001b[1mLinearAlgebra.Hessenberg\u001b[22m, \u001b[90mJ\u001b[39m::\u001b[1mLinearAlgebra.UniformScaling\u001b[22m)\n",
              "\u001b[90m     @\u001b[39m \u001b[36mLinearAlgebra\u001b[39m \u001b[90m/usr/local/share/julia/stdlib/v1.10/LinearAlgebra/src/\u001b[39m\u001b[90m\u001b[4mhessenberg.jl:560\u001b[24m\u001b[39m\n",
              " [156] +(\u001b[90mx\u001b[39m::\u001b[1mDates.AbstractTime\u001b[22m, \u001b[90my\u001b[39m::\u001b[1mMissing\u001b[22m)\n",
              "\u001b[90m     @\u001b[39m \u001b[35mDates\u001b[39m \u001b[90m/usr/local/share/julia/stdlib/v1.10/Dates/src/\u001b[39m\u001b[90m\u001b[4marithmetic.jl:90\u001b[24m\u001b[39m\n",
              " [157] +(\u001b[90mr\u001b[39m::\u001b[1mAbstractRange\u001b[22m\u001b[0m{<:Dates.TimeType}, \u001b[90mx\u001b[39m::\u001b[1mDates.Period\u001b[22m)\n",
              "\u001b[90m     @\u001b[39m \u001b[35mDates\u001b[39m \u001b[90m/usr/local/share/julia/stdlib/v1.10/Dates/src/\u001b[39m\u001b[90m\u001b[4mranges.jl:65\u001b[24m\u001b[39m\n",
              " [158] +(\u001b[90mr1\u001b[39m::\u001b[1mLinRange\u001b[22m\u001b[0m{T}, \u001b[90mr2\u001b[39m::\u001b[1mLinRange\u001b[22m\u001b[0m{T}) where T\n",
              "\u001b[90m     @\u001b[39m \u001b[90m\u001b[4mrange.jl:1461\u001b[24m\u001b[39m\n",
              " [159] +(\u001b[90mA\u001b[39m::\u001b[1mLinearAlgebra.LowerTriangular\u001b[22m, \u001b[90mB\u001b[39m::\u001b[1mLinearAlgebra.Bidiagonal\u001b[22m)\n",
              "\u001b[90m     @\u001b[39m \u001b[36mLinearAlgebra\u001b[39m \u001b[90m/usr/local/share/julia/stdlib/v1.10/LinearAlgebra/src/\u001b[39m\u001b[90m\u001b[4mspecial.jl:91\u001b[24m\u001b[39m\n",
              " [160] +(\u001b[90mA\u001b[39m::\u001b[1mLinearAlgebra.Tridiagonal\u001b[22m, \u001b[90mB\u001b[39m::\u001b[1mLinearAlgebra.UniformScaling\u001b[22m)\n",
              "\u001b[90m     @\u001b[39m \u001b[36mLinearAlgebra\u001b[39m \u001b[90m/usr/local/share/julia/stdlib/v1.10/LinearAlgebra/src/\u001b[39m\u001b[90m\u001b[4mspecial.jl:232\u001b[24m\u001b[39m\n",
              " [161] +(\u001b[90mB\u001b[39m::\u001b[1mLinearAlgebra.Tridiagonal\u001b[22m, \u001b[90mA\u001b[39m::\u001b[1mLinearAlgebra.Bidiagonal\u001b[22m)\n",
              "\u001b[90m     @\u001b[39m \u001b[36mLinearAlgebra\u001b[39m \u001b[90m\u001b[4mnone:0\u001b[24m\u001b[39m\n",
              " [162] +(\u001b[90mB\u001b[39m::\u001b[1mLinearAlgebra.Tridiagonal\u001b[22m, \u001b[90mA\u001b[39m::\u001b[1mLinearAlgebra.Diagonal\u001b[22m)\n",
              "\u001b[90m     @\u001b[39m \u001b[36mLinearAlgebra\u001b[39m \u001b[90m\u001b[4mnone:0\u001b[24m\u001b[39m\n",
              " [163] +(\u001b[90mA\u001b[39m::\u001b[1mLinearAlgebra.Tridiagonal\u001b[22m, \u001b[90mB\u001b[39m::\u001b[1mLinearAlgebra.SymTridiagonal\u001b[22m)\n",
              "\u001b[90m     @\u001b[39m \u001b[36mLinearAlgebra\u001b[39m \u001b[90m/usr/local/share/julia/stdlib/v1.10/LinearAlgebra/src/\u001b[39m\u001b[90m\u001b[4mspecial.jl:183\u001b[24m\u001b[39m\n",
              " [164] +(\u001b[90mx\u001b[39m::\u001b[1mLinearAlgebra.Tridiagonal\u001b[22m, \u001b[90mH\u001b[39m::\u001b[1mLinearAlgebra.UpperHessenberg\u001b[22m)\n",
              "\u001b[90m     @\u001b[39m \u001b[36mLinearAlgebra\u001b[39m \u001b[90m/usr/local/share/julia/stdlib/v1.10/LinearAlgebra/src/\u001b[39m\u001b[90m\u001b[4mhessenberg.jl:120\u001b[24m\u001b[39m\n",
              " [165] +(\u001b[90mA\u001b[39m::\u001b[1mLinearAlgebra.Tridiagonal\u001b[22m, \u001b[90mB\u001b[39m::\u001b[1mLinearAlgebra.Tridiagonal\u001b[22m)\n",
              "\u001b[90m     @\u001b[39m \u001b[36mLinearAlgebra\u001b[39m \u001b[90m/usr/local/share/julia/stdlib/v1.10/LinearAlgebra/src/\u001b[39m\u001b[90m\u001b[4mtridiag.jl:739\u001b[24m\u001b[39m\n",
              " [166] +(\u001b[90my\u001b[39m::\u001b[1mDates.TimeType\u001b[22m, \u001b[90mx\u001b[39m::\u001b[1mStridedArray\u001b[22m\u001b[0m{<:Union{Dates.CompoundPeriod, Dates.Period}})\n",
              "\u001b[90m     @\u001b[39m \u001b[35mDates\u001b[39m \u001b[90m/usr/local/share/julia/stdlib/v1.10/Dates/src/\u001b[39m\u001b[90m\u001b[4mdeprecated.jl:18\u001b[24m\u001b[39m\n",
              " [167] +(\u001b[90mx\u001b[39m::\u001b[1mDates.TimeType\u001b[22m)\n",
              "\u001b[90m     @\u001b[39m \u001b[35mDates\u001b[39m \u001b[90m/usr/local/share/julia/stdlib/v1.10/Dates/src/\u001b[39m\u001b[90m\u001b[4marithmetic.jl:8\u001b[24m\u001b[39m\n",
              " [168] +(\u001b[90mx\u001b[39m::\u001b[1mDates.TimeType\u001b[22m, \u001b[90my\u001b[39m::\u001b[1mDates.CompoundPeriod\u001b[22m)\n",
              "\u001b[90m     @\u001b[39m \u001b[35mDates\u001b[39m \u001b[90m/usr/local/share/julia/stdlib/v1.10/Dates/src/\u001b[39m\u001b[90m\u001b[4mperiods.jl:356\u001b[24m\u001b[39m\n",
              " [169] +(\u001b[90ma\u001b[39m::\u001b[1mDates.TimeType\u001b[22m, \u001b[90mb\u001b[39m::\u001b[1mDates.Period\u001b[22m, \u001b[90mc\u001b[39m::\u001b[1mDates.Period\u001b[22m)\n",
              "\u001b[90m     @\u001b[39m \u001b[35mDates\u001b[39m \u001b[90m/usr/local/share/julia/stdlib/v1.10/Dates/src/\u001b[39m\u001b[90m\u001b[4mperiods.jl:353\u001b[24m\u001b[39m\n",
              " [170] +(\u001b[90ma\u001b[39m::\u001b[1mDates.TimeType\u001b[22m, \u001b[90mb\u001b[39m::\u001b[1mDates.Period\u001b[22m, \u001b[90mc\u001b[39m::\u001b[1mDates.Period\u001b[22m, \u001b[90md\u001b[39m::\u001b[1mDates.Period...\u001b[22m)\n",
              "\u001b[90m     @\u001b[39m \u001b[35mDates\u001b[39m \u001b[90m/usr/local/share/julia/stdlib/v1.10/Dates/src/\u001b[39m\u001b[90m\u001b[4mperiods.jl:354\u001b[24m\u001b[39m\n",
              " [171] +(\u001b[90mr1\u001b[39m::\u001b[1mOrdinalRange\u001b[22m, \u001b[90mr2\u001b[39m::\u001b[1mOrdinalRange\u001b[22m)\n",
              "\u001b[90m     @\u001b[39m \u001b[90m\u001b[4mrange.jl:1454\u001b[24m\u001b[39m\n",
              " [172] +(\u001b[90mA\u001b[39m::\u001b[1mLinearAlgebra.UpperTriangular\u001b[22m, \u001b[90mB\u001b[39m::\u001b[1mLinearAlgebra.Bidiagonal\u001b[22m)\n",
              "\u001b[90m     @\u001b[39m \u001b[36mLinearAlgebra\u001b[39m \u001b[90m/usr/local/share/julia/stdlib/v1.10/LinearAlgebra/src/\u001b[39m\u001b[90m\u001b[4mspecial.jl:91\u001b[24m\u001b[39m\n",
              " [173] +(\u001b[90mx\u001b[39m::\u001b[1mLinearAlgebra.UpperTriangular\u001b[22m, \u001b[90mH\u001b[39m::\u001b[1mLinearAlgebra.UpperHessenberg\u001b[22m)\n",
              "\u001b[90m     @\u001b[39m \u001b[36mLinearAlgebra\u001b[39m \u001b[90m/usr/local/share/julia/stdlib/v1.10/LinearAlgebra/src/\u001b[39m\u001b[90m\u001b[4mhessenberg.jl:120\u001b[24m\u001b[39m\n",
              " [174] +(\u001b[90mx\u001b[39m::\u001b[1mDates.Period\u001b[22m, \u001b[90mr\u001b[39m::\u001b[1mAbstractRange\u001b[22m\u001b[0m{<:Dates.TimeType})\n",
              "\u001b[90m     @\u001b[39m \u001b[35mDates\u001b[39m \u001b[90m/usr/local/share/julia/stdlib/v1.10/Dates/src/\u001b[39m\u001b[90m\u001b[4mranges.jl:64\u001b[24m\u001b[39m\n",
              " [175] +(\u001b[90my\u001b[39m::\u001b[1mDates.Period\u001b[22m, \u001b[90mx\u001b[39m::\u001b[1mDates.TimeType\u001b[22m)\n",
              "\u001b[90m     @\u001b[39m \u001b[35mDates\u001b[39m \u001b[90m/usr/local/share/julia/stdlib/v1.10/Dates/src/\u001b[39m\u001b[90m\u001b[4marithmetic.jl:87\u001b[24m\u001b[39m\n",
              " [176] +(\u001b[90my\u001b[39m::\u001b[1mDates.Period\u001b[22m, \u001b[90mx\u001b[39m::\u001b[1mDates.CompoundPeriod\u001b[22m)\n",
              "\u001b[90m     @\u001b[39m \u001b[35mDates\u001b[39m \u001b[90m/usr/local/share/julia/stdlib/v1.10/Dates/src/\u001b[39m\u001b[90m\u001b[4mperiods.jl:333\u001b[24m\u001b[39m\n",
              " [177] +(\u001b[90mx\u001b[39m::\u001b[1mP\u001b[22m, \u001b[90my\u001b[39m::\u001b[1mP\u001b[22m) where P<:Dates.Period\n",
              "\u001b[90m     @\u001b[39m \u001b[35mDates\u001b[39m \u001b[90m/usr/local/share/julia/stdlib/v1.10/Dates/src/\u001b[39m\u001b[90m\u001b[4mperiods.jl:75\u001b[24m\u001b[39m\n",
              " [178] +(\u001b[90mx\u001b[39m::\u001b[1mDates.Period\u001b[22m, \u001b[90my\u001b[39m::\u001b[1mDates.Period\u001b[22m)\n",
              "\u001b[90m     @\u001b[39m \u001b[35mDates\u001b[39m \u001b[90m/usr/local/share/julia/stdlib/v1.10/Dates/src/\u001b[39m\u001b[90m\u001b[4mperiods.jl:331\u001b[24m\u001b[39m\n",
              " [179] +(\u001b[90mx\u001b[39m::\u001b[1mAbstractArray\u001b[22m\u001b[0m{<:Dates.TimeType}, \u001b[90my\u001b[39m::\u001b[1mUnion\u001b[22m\u001b[0m{Dates.CompoundPeriod, Dates.Period})\n",
              "\u001b[90m     @\u001b[39m \u001b[35mDates\u001b[39m \u001b[90m/usr/local/share/julia/stdlib/v1.10/Dates/src/\u001b[39m\u001b[90m\u001b[4mdeprecated.jl:6\u001b[24m\u001b[39m\n",
              " [180] +(\u001b[90mA\u001b[39m::\u001b[1mAbstractMatrix\u001b[22m, \u001b[90mJ\u001b[39m::\u001b[1mLinearAlgebra.UniformScaling\u001b[22m)\n",
              "\u001b[90m     @\u001b[39m \u001b[36mLinearAlgebra\u001b[39m \u001b[90m/usr/local/share/julia/stdlib/v1.10/LinearAlgebra/src/\u001b[39m\u001b[90m\u001b[4muniformscaling.jl:214\u001b[24m\u001b[39m\n",
              " [181] +(\u001b[90mX\u001b[39m::\u001b[1mStridedArray\u001b[22m\u001b[0m{<:Union{Dates.CompoundPeriod, Dates.Period}}, \u001b[90mY\u001b[39m::\u001b[1mStridedArray\u001b[22m\u001b[0m{<:Union{Dates.CompoundPeriod, Dates.Period}})\n",
              "\u001b[90m     @\u001b[39m \u001b[35mDates\u001b[39m \u001b[90m/usr/local/share/julia/stdlib/v1.10/Dates/src/\u001b[39m\u001b[90m\u001b[4mdeprecated.jl:62\u001b[24m\u001b[39m\n",
              " [182] +(\u001b[90mr1\u001b[39m::\u001b[1mUnion\u001b[22m\u001b[0m{LinRange, OrdinalRange, StepRangeLen}, \u001b[90mr2\u001b[39m::\u001b[1mUnion\u001b[22m\u001b[0m{LinRange, OrdinalRange, StepRangeLen})\n",
              "\u001b[90m     @\u001b[39m \u001b[90m\u001b[4mrange.jl:1470\u001b[24m\u001b[39m\n",
              " [183] +(\u001b[90mA\u001b[39m::\u001b[1mAbstractArray\u001b[22m, \u001b[90mB\u001b[39m::\u001b[1mAbstractArray\u001b[22m)\n",
              "\u001b[90m     @\u001b[39m \u001b[90m\u001b[4marraymath.jl:6\u001b[24m\u001b[39m\n",
              " [184] +(\u001b[90mx\u001b[39m::\u001b[1mStridedArray\u001b[22m\u001b[0m{<:Union{Dates.CompoundPeriod, Dates.Period}})\n",
              "\u001b[90m     @\u001b[39m \u001b[35mDates\u001b[39m \u001b[90m/usr/local/share/julia/stdlib/v1.10/Dates/src/\u001b[39m\u001b[90m\u001b[4mdeprecated.jl:55\u001b[24m\u001b[39m\n",
              " [185] +(\u001b[90mx\u001b[39m::\u001b[1mAbstractArray\u001b[22m\u001b[0m{<:Number})\n",
              "\u001b[90m     @\u001b[39m \u001b[90m\u001b[4mabstractarraymath.jl:220\u001b[24m\u001b[39m\n",
              " [186] +(\u001b[90my\u001b[39m::\u001b[1mUnion\u001b[22m\u001b[0m{Dates.CompoundPeriod, Dates.Period}, \u001b[90mx\u001b[39m::\u001b[1mAbstractArray\u001b[22m\u001b[0m{<:Dates.TimeType})\n",
              "\u001b[90m     @\u001b[39m \u001b[35mDates\u001b[39m \u001b[90m/usr/local/share/julia/stdlib/v1.10/Dates/src/\u001b[39m\u001b[90m\u001b[4mdeprecated.jl:14\u001b[24m\u001b[39m\n",
              " [187] +(\u001b[90mx\u001b[39m::\u001b[1mStridedArray\u001b[22m\u001b[0m{<:Union{Dates.CompoundPeriod, Dates.Period}}, \u001b[90my\u001b[39m::\u001b[1mDates.TimeType\u001b[22m)\n",
              "\u001b[90m     @\u001b[39m \u001b[35mDates\u001b[39m \u001b[90m/usr/local/share/julia/stdlib/v1.10/Dates/src/\u001b[39m\u001b[90m\u001b[4mdeprecated.jl:10\u001b[24m\u001b[39m\n",
              " [188] +(\u001b[90mx\u001b[39m::\u001b[1mUnion\u001b[22m\u001b[0m{Dates.CompoundPeriod, Dates.Period})\n",
              "\u001b[90m     @\u001b[39m \u001b[35mDates\u001b[39m \u001b[90m/usr/local/share/julia/stdlib/v1.10/Dates/src/\u001b[39m\u001b[90m\u001b[4mperiods.jl:342\u001b[24m\u001b[39m\n",
              " [189] +(\u001b[90ma\u001b[39m, \u001b[90mb\u001b[39m, \u001b[90mc\u001b[39m, \u001b[90mxs...\u001b[39m)\n",
              "\u001b[90m     @\u001b[39m \u001b[90m\u001b[4moperators.jl:587\u001b[24m\u001b[39m"
            ],
            "text/html": [
              "# 189 methods for generic function <b>+</b> from \u001b[90mBase\u001b[39m:<ul><li> +(t::<b>Dates.Time</b>, dt::<b>Dates.Date</b>) in Dates at <a href=\"file:///cache/build/builder-amdci5-6/julialang/julia-release-1-dot-10/usr/share/julia/stdlib/v1.10/Dates/src/arithmetic.jl\" target=\"_blank\">/usr/local/share/julia/stdlib/v1.10/Dates/src/arithmetic.jl:22</a></li> <li> +(x::<b>Dates.Time</b>, y::<b>Dates.TimePeriod</b>) in Dates at <a href=\"file:///cache/build/builder-amdci5-6/julialang/julia-release-1-dot-10/usr/share/julia/stdlib/v1.10/Dates/src/arithmetic.jl\" target=\"_blank\">/usr/local/share/julia/stdlib/v1.10/Dates/src/arithmetic.jl:85</a></li> <li> +(x::<b>Bool</b>, z::<b>Complex{Bool}</b>) in Base at <a href=\"https://github.com/JuliaLang/julia/tree/5595d20a2877560583cd4891ce91605d10b1bb75/base/complex.jl#L305\" target=\"_blank\">complex.jl:305</a></li> <li> +(x::<b>Bool</b>, y::<b>Bool</b>) in Base at <a href=\"https://github.com/JuliaLang/julia/tree/5595d20a2877560583cd4891ce91605d10b1bb75/base/bool.jl#L166\" target=\"_blank\">bool.jl:166</a></li> <li> +(x::<b>Bool</b>) in Base at <a href=\"https://github.com/JuliaLang/julia/tree/5595d20a2877560583cd4891ce91605d10b1bb75/base/bool.jl#L163\" target=\"_blank\">bool.jl:163</a></li> <li> +(x::<b>Bool</b>, z::<b>Complex</b>) in Base at <a href=\"https://github.com/JuliaLang/julia/tree/5595d20a2877560583cd4891ce91605d10b1bb75/base/complex.jl#L312\" target=\"_blank\">complex.jl:312</a></li> <li> +(x::<b>Real</b>, z::<b>Complex{Bool}</b>) in Base at <a href=\"https://github.com/JuliaLang/julia/tree/5595d20a2877560583cd4891ce91605d10b1bb75/base/complex.jl#L319\" target=\"_blank\">complex.jl:319</a></li> <li> +(x::<b>Bool</b>, y::<b>T</b>)<i> where T<:AbstractFloat</i> in Base at <a href=\"https://github.com/JuliaLang/julia/tree/5595d20a2877560583cd4891ce91605d10b1bb75/base/bool.jl#L173\" target=\"_blank\">bool.jl:173</a></li> <li> +(z::<b>Complex{Bool}</b>, x::<b>Bool</b>) in Base at <a href=\"https://github.com/JuliaLang/julia/tree/5595d20a2877560583cd4891ce91605d10b1bb75/base/complex.jl#L306\" target=\"_blank\">complex.jl:306</a></li> <li> +(z::<b>Complex{Bool}</b>, x::<b>Real</b>) in Base at <a href=\"https://github.com/JuliaLang/julia/tree/5595d20a2877560583cd4891ce91605d10b1bb75/base/complex.jl#L320\" target=\"_blank\">complex.jl:320</a></li> <li> +(z::<b>Complex</b>, x::<b>Bool</b>) in Base at <a href=\"https://github.com/JuliaLang/julia/tree/5595d20a2877560583cd4891ce91605d10b1bb75/base/complex.jl#L313\" target=\"_blank\">complex.jl:313</a></li> <li> +(x::<b>BigInt</b>, y::<b>BigInt</b>) in Base.GMP at <a href=\"https://github.com/JuliaLang/julia/tree/5595d20a2877560583cd4891ce91605d10b1bb75/base/gmp.jl#L501\" target=\"_blank\">gmp.jl:501</a></li> <li> +(a::<b>BigInt</b>, b::<b>BigInt</b>, c::<b>BigInt</b>) in Base.GMP at <a href=\"https://github.com/JuliaLang/julia/tree/5595d20a2877560583cd4891ce91605d10b1bb75/base/gmp.jl#L541\" target=\"_blank\">gmp.jl:541</a></li> <li> +(a::<b>BigInt</b>, b::<b>BigInt</b>, c::<b>BigInt</b>, d::<b>BigInt</b>) in Base.GMP at <a href=\"https://github.com/JuliaLang/julia/tree/5595d20a2877560583cd4891ce91605d10b1bb75/base/gmp.jl#L542\" target=\"_blank\">gmp.jl:542</a></li> <li> +(a::<b>BigInt</b>, b::<b>BigInt</b>, c::<b>BigInt</b>, d::<b>BigInt</b>, e::<b>BigInt</b>) in Base.GMP at <a href=\"https://github.com/JuliaLang/julia/tree/5595d20a2877560583cd4891ce91605d10b1bb75/base/gmp.jl#L543\" target=\"_blank\">gmp.jl:543</a></li> <li> +(x::<b>BigInt</b>, y::<b>BigInt</b>, rest::<b>BigInt...</b>) in Base.GMP at <a href=\"https://github.com/JuliaLang/julia/tree/5595d20a2877560583cd4891ce91605d10b1bb75/base/gmp.jl#L683\" target=\"_blank\">gmp.jl:683</a></li> <li> +(c::<b>BigInt</b>, x::<b>BigFloat</b>) in Base.MPFR at <a href=\"https://github.com/JuliaLang/julia/tree/5595d20a2877560583cd4891ce91605d10b1bb75/base/mpfr.jl#L468\" target=\"_blank\">mpfr.jl:468</a></li> <li> +(x::<b>BigInt</b>, c::<b>Union{UInt16, UInt32, UInt64, UInt8}</b>) in Base.GMP at <a href=\"https://github.com/JuliaLang/julia/tree/5595d20a2877560583cd4891ce91605d10b1bb75/base/gmp.jl#L549\" target=\"_blank\">gmp.jl:549</a></li> <li> +(x::<b>BigInt</b>, c::<b>Union{Int16, Int32, Int64, Int8}</b>) in Base.GMP at <a href=\"https://github.com/JuliaLang/julia/tree/5595d20a2877560583cd4891ce91605d10b1bb75/base/gmp.jl#L555\" target=\"_blank\">gmp.jl:555</a></li> <li> +(x::<b>Dates.CompoundPeriod</b>, y::<b>Dates.CompoundPeriod</b>) in Dates at <a href=\"file:///cache/build/builder-amdci5-6/julialang/julia-release-1-dot-10/usr/share/julia/stdlib/v1.10/Dates/src/periods.jl\" target=\"_blank\">/usr/local/share/julia/stdlib/v1.10/Dates/src/periods.jl:334</a></li> <li> +(x::<b>Dates.CompoundPeriod</b>, y::<b>Dates.TimeType</b>) in Dates at <a href=\"file:///cache/build/builder-amdci5-6/julialang/julia-release-1-dot-10/usr/share/julia/stdlib/v1.10/Dates/src/periods.jl\" target=\"_blank\">/usr/local/share/julia/stdlib/v1.10/Dates/src/periods.jl:362</a></li> <li> +(x::<b>Dates.CompoundPeriod</b>, y::<b>Dates.Period</b>) in Dates at <a href=\"file:///cache/build/builder-amdci5-6/julialang/julia-release-1-dot-10/usr/share/julia/stdlib/v1.10/Dates/src/periods.jl\" target=\"_blank\">/usr/local/share/julia/stdlib/v1.10/Dates/src/periods.jl:332</a></li> <li> +(B::<b>BitMatrix</b>, J::<b>LinearAlgebra.UniformScaling</b>) in LinearAlgebra at <a href=\"file:///cache/build/builder-amdci5-6/julialang/julia-release-1-dot-10/usr/share/julia/stdlib/v1.10/LinearAlgebra/src/uniformscaling.jl\" target=\"_blank\">/usr/local/share/julia/stdlib/v1.10/LinearAlgebra/src/uniformscaling.jl:151</a></li> <li> +(x::<b>Dates.Date</b>, y::<b>Dates.Day</b>) in Dates at <a href=\"file:///cache/build/builder-amdci5-6/julialang/julia-release-1-dot-10/usr/share/julia/stdlib/v1.10/Dates/src/arithmetic.jl\" target=\"_blank\">/usr/local/share/julia/stdlib/v1.10/Dates/src/arithmetic.jl:81</a></li> <li> +(x::<b>Dates.Date</b>, y::<b>Dates.Week</b>) in Dates at <a href=\"file:///cache/build/builder-amdci5-6/julialang/julia-release-1-dot-10/usr/share/julia/stdlib/v1.10/Dates/src/arithmetic.jl\" target=\"_blank\">/usr/local/share/julia/stdlib/v1.10/Dates/src/arithmetic.jl:79</a></li> <li> +(x::<b>Dates.Date</b>, y::<b>Dates.Quarter</b>) in Dates at <a href=\"file:///cache/build/builder-amdci5-6/julialang/julia-release-1-dot-10/usr/share/julia/stdlib/v1.10/Dates/src/arithmetic.jl\" target=\"_blank\">/usr/local/share/julia/stdlib/v1.10/Dates/src/arithmetic.jl:75</a></li> <li> +(dt::<b>Dates.Date</b>, z::<b>Dates.Month</b>) in Dates at <a href=\"file:///cache/build/builder-amdci5-6/julialang/julia-release-1-dot-10/usr/share/julia/stdlib/v1.10/Dates/src/arithmetic.jl\" target=\"_blank\">/usr/local/share/julia/stdlib/v1.10/Dates/src/arithmetic.jl:56</a></li> <li> +(dt::<b>Dates.Date</b>, y::<b>Dates.Year</b>) in Dates at <a href=\"file:///cache/build/builder-amdci5-6/julialang/julia-release-1-dot-10/usr/share/julia/stdlib/v1.10/Dates/src/arithmetic.jl\" target=\"_blank\">/usr/local/share/julia/stdlib/v1.10/Dates/src/arithmetic.jl:29</a></li> <li> +(dt::<b>Dates.Date</b>, t::<b>Dates.Time</b>) in Dates at <a href=\"file:///cache/build/builder-amdci5-6/julialang/julia-release-1-dot-10/usr/share/julia/stdlib/v1.10/Dates/src/arithmetic.jl\" target=\"_blank\">/usr/local/share/julia/stdlib/v1.10/Dates/src/arithmetic.jl:21</a></li> <li> +(::<b>Missing</b>, ::<b>Missing</b>) in Base at <a href=\"https://github.com/JuliaLang/julia/tree/5595d20a2877560583cd4891ce91605d10b1bb75/base/missing.jl#L122\" target=\"_blank\">missing.jl:122</a></li> <li> +(::<b>Missing</b>) in Base at <a href=\"https://github.com/JuliaLang/julia/tree/5595d20a2877560583cd4891ce91605d10b1bb75/base/missing.jl#L101\" target=\"_blank\">missing.jl:101</a></li> <li> +(x::<b>Missing</b>, y::<b>Dates.AbstractTime</b>) in Dates at <a href=\"file:///cache/build/builder-amdci5-6/julialang/julia-release-1-dot-10/usr/share/julia/stdlib/v1.10/Dates/src/arithmetic.jl\" target=\"_blank\">/usr/local/share/julia/stdlib/v1.10/Dates/src/arithmetic.jl:91</a></li> <li> +(::<b>Missing</b>, ::<b>Number</b>) in Base at <a href=\"https://github.com/JuliaLang/julia/tree/5595d20a2877560583cd4891ce91605d10b1bb75/base/missing.jl#L123\" target=\"_blank\">missing.jl:123</a></li> <li> +(x::<b>Dates.DateTime</b>, y::<b>Dates.Quarter</b>) in Dates at <a href=\"file:///cache/build/builder-amdci5-6/julialang/julia-release-1-dot-10/usr/share/julia/stdlib/v1.10/Dates/src/arithmetic.jl\" target=\"_blank\">/usr/local/share/julia/stdlib/v1.10/Dates/src/arithmetic.jl:77</a></li> <li> +(dt::<b>Dates.DateTime</b>, z::<b>Dates.Month</b>) in Dates at <a href=\"file:///cache/build/builder-amdci5-6/julialang/julia-release-1-dot-10/usr/share/julia/stdlib/v1.10/Dates/src/arithmetic.jl\" target=\"_blank\">/usr/local/share/julia/stdlib/v1.10/Dates/src/arithmetic.jl:49</a></li> <li> +(dt::<b>Dates.DateTime</b>, y::<b>Dates.Year</b>) in Dates at <a href=\"file:///cache/build/builder-amdci5-6/julialang/julia-release-1-dot-10/usr/share/julia/stdlib/v1.10/Dates/src/arithmetic.jl\" target=\"_blank\">/usr/local/share/julia/stdlib/v1.10/Dates/src/arithmetic.jl:25</a></li> <li> +(x::<b>Dates.DateTime</b>, y::<b>Dates.Period</b>) in Dates at <a href=\"file:///cache/build/builder-amdci5-6/julialang/julia-release-1-dot-10/usr/share/julia/stdlib/v1.10/Dates/src/arithmetic.jl\" target=\"_blank\">/usr/local/share/julia/stdlib/v1.10/Dates/src/arithmetic.jl:83</a></li> <li> +(a::<b>BigFloat</b>, b::<b>BigFloat</b>, c::<b>BigFloat</b>, d::<b>BigFloat</b>, e::<b>BigFloat</b>) in Base.MPFR at <a href=\"https://github.com/JuliaLang/julia/tree/5595d20a2877560583cd4891ce91605d10b1bb75/base/mpfr.jl#L619\" target=\"_blank\">mpfr.jl:619</a></li> <li> +(x::<b>BigFloat</b>, y::<b>BigFloat</b>) in Base.MPFR at <a href=\"https://github.com/JuliaLang/julia/tree/5595d20a2877560583cd4891ce91605d10b1bb75/base/mpfr.jl#L432\" target=\"_blank\">mpfr.jl:432</a></li> <li> +(a::<b>BigFloat</b>, b::<b>BigFloat</b>, c::<b>BigFloat</b>) in Base.MPFR at <a href=\"https://github.com/JuliaLang/julia/tree/5595d20a2877560583cd4891ce91605d10b1bb75/base/mpfr.jl#L606\" target=\"_blank\">mpfr.jl:606</a></li> <li> +(a::<b>BigFloat</b>, b::<b>BigFloat</b>, c::<b>BigFloat</b>, d::<b>BigFloat</b>) in Base.MPFR at <a href=\"https://github.com/JuliaLang/julia/tree/5595d20a2877560583cd4891ce91605d10b1bb75/base/mpfr.jl#L612\" target=\"_blank\">mpfr.jl:612</a></li> <li> +(x::<b>BigFloat</b>, c::<b>BigInt</b>) in Base.MPFR at <a href=\"https://github.com/JuliaLang/julia/tree/5595d20a2877560583cd4891ce91605d10b1bb75/base/mpfr.jl#L463\" target=\"_blank\">mpfr.jl:463</a></li> <li> +(x::<b>BigFloat</b>, c::<b>Union{UInt16, UInt32, UInt64, UInt8}</b>) in Base.MPFR at <a href=\"https://github.com/JuliaLang/julia/tree/5595d20a2877560583cd4891ce91605d10b1bb75/base/mpfr.jl#L439\" target=\"_blank\">mpfr.jl:439</a></li> <li> +(x::<b>BigFloat</b>, c::<b>Union{Int16, Int32, Int64, Int8}</b>) in Base.MPFR at <a href=\"https://github.com/JuliaLang/julia/tree/5595d20a2877560583cd4891ce91605d10b1bb75/base/mpfr.jl#L447\" target=\"_blank\">mpfr.jl:447</a></li> <li> +(x::<b>BigFloat</b>, c::<b>Union{Float16, Float32, Float64}</b>) in Base.MPFR at <a href=\"https://github.com/JuliaLang/julia/tree/5595d20a2877560583cd4891ce91605d10b1bb75/base/mpfr.jl#L455\" target=\"_blank\">mpfr.jl:455</a></li> <li> +(a::<b>Pkg.Resolve.FieldValue</b>, b::<b>Pkg.Resolve.FieldValue</b>) in Pkg.Resolve at <a href=\"file:///cache/build/builder-amdci5-6/julialang/julia-release-1-dot-10/usr/share/julia/stdlib/v1.10/Pkg/src/Resolve/fieldvalues.jl\" target=\"_blank\">/usr/local/share/julia/stdlib/v1.10/Pkg/src/Resolve/fieldvalues.jl:43</a></li> <li> +(level::<b>Base.CoreLogging.LogLevel</b>, inc::<b>Integer</b>) in Base.CoreLogging at <a href=\"https://github.com/JuliaLang/julia/tree/5595d20a2877560583cd4891ce91605d10b1bb75/base/logging.jl#L131\" target=\"_blank\">logging.jl:131</a></li> <li> +(x::<b>Rational{BigInt}</b>, y::<b>Rational{BigInt}</b>) in Base.GMP.MPQ at <a href=\"https://github.com/JuliaLang/julia/tree/5595d20a2877560583cd4891ce91605d10b1bb75/base/gmp.jl#L1061\" target=\"_blank\">gmp.jl:1061</a></li> <li> +(a::<b>Pkg.Resolve.VersionWeight</b>, b::<b>Pkg.Resolve.VersionWeight</b>) in Pkg.Resolve at <a href=\"file:///cache/build/builder-amdci5-6/julialang/julia-release-1-dot-10/usr/share/julia/stdlib/v1.10/Pkg/src/Resolve/versionweights.jl\" target=\"_blank\">/usr/local/share/julia/stdlib/v1.10/Pkg/src/Resolve/versionweights.jl:22</a></li> <li> +(A::<b>Array</b>, Bs::<b>Array...</b>) in Base at <a href=\"https://github.com/JuliaLang/julia/tree/5595d20a2877560583cd4891ce91605d10b1bb75/base/arraymath.jl#L12\" target=\"_blank\">arraymath.jl:12</a></li> <li> +(x::<b>Dates.Instant</b>) in Dates at <a href=\"file:///cache/build/builder-amdci5-6/julialang/julia-release-1-dot-10/usr/share/julia/stdlib/v1.10/Dates/src/arithmetic.jl\" target=\"_blank\">/usr/local/share/julia/stdlib/v1.10/Dates/src/arithmetic.jl:4</a></li> <li> +(H::<b>LinearAlgebra.UpperHessenberg</b>, x::<b>LinearAlgebra.Bidiagonal</b>) in LinearAlgebra at <a href=\"file:///cache/build/builder-amdci5-6/julialang/julia-release-1-dot-10/usr/share/julia/stdlib/v1.10/LinearAlgebra/src/hessenberg.jl\" target=\"_blank\">/usr/local/share/julia/stdlib/v1.10/LinearAlgebra/src/hessenberg.jl:119</a></li> <li> +(A::<b>LinearAlgebra.UpperHessenberg</b>, B::<b>LinearAlgebra.UpperHessenberg</b>) in LinearAlgebra at <a href=\"file:///cache/build/builder-amdci5-6/julialang/julia-release-1-dot-10/usr/share/julia/stdlib/v1.10/LinearAlgebra/src/hessenberg.jl\" target=\"_blank\">/usr/local/share/julia/stdlib/v1.10/LinearAlgebra/src/hessenberg.jl:112</a></li> <li> +(H::<b>LinearAlgebra.UpperHessenberg</b>, x::<b>LinearAlgebra.UnitUpperTriangular</b>) in LinearAlgebra at <a href=\"file:///cache/build/builder-amdci5-6/julialang/julia-release-1-dot-10/usr/share/julia/stdlib/v1.10/LinearAlgebra/src/hessenberg.jl\" target=\"_blank\">/usr/local/share/julia/stdlib/v1.10/LinearAlgebra/src/hessenberg.jl:119</a></li> <li> +(H::<b>LinearAlgebra.UpperHessenberg</b>, x::<b>LinearAlgebra.Diagonal</b>) in LinearAlgebra at <a href=\"file:///cache/build/builder-amdci5-6/julialang/julia-release-1-dot-10/usr/share/julia/stdlib/v1.10/LinearAlgebra/src/hessenberg.jl\" target=\"_blank\">/usr/local/share/julia/stdlib/v1.10/LinearAlgebra/src/hessenberg.jl:119</a></li> <li> +(H::<b>LinearAlgebra.UpperHessenberg</b>, x::<b>LinearAlgebra.UniformScaling</b>) in LinearAlgebra at <a href=\"file:///cache/build/builder-amdci5-6/julialang/julia-release-1-dot-10/usr/share/julia/stdlib/v1.10/LinearAlgebra/src/hessenberg.jl\" target=\"_blank\">/usr/local/share/julia/stdlib/v1.10/LinearAlgebra/src/hessenberg.jl:119</a></li> <li> +(H::<b>LinearAlgebra.UpperHessenberg</b>, x::<b>LinearAlgebra.Tridiagonal</b>) in LinearAlgebra at <a href=\"file:///cache/build/builder-amdci5-6/julialang/julia-release-1-dot-10/usr/share/julia/stdlib/v1.10/LinearAlgebra/src/hessenberg.jl\" target=\"_blank\">/usr/local/share/julia/stdlib/v1.10/LinearAlgebra/src/hessenberg.jl:119</a></li> <li> +(H::<b>LinearAlgebra.UpperHessenberg</b>, x::<b>LinearAlgebra.SymTridiagonal</b>) in LinearAlgebra at <a href=\"file:///cache/build/builder-amdci5-6/julialang/julia-release-1-dot-10/usr/share/julia/stdlib/v1.10/LinearAlgebra/src/hessenberg.jl\" target=\"_blank\">/usr/local/share/julia/stdlib/v1.10/LinearAlgebra/src/hessenberg.jl:119</a></li> <li> +(H::<b>LinearAlgebra.UpperHessenberg</b>, x::<b>LinearAlgebra.UpperTriangular</b>) in LinearAlgebra at <a href=\"file:///cache/build/builder-amdci5-6/julialang/julia-release-1-dot-10/usr/share/julia/stdlib/v1.10/LinearAlgebra/src/hessenberg.jl\" target=\"_blank\">/usr/local/share/julia/stdlib/v1.10/LinearAlgebra/src/hessenberg.jl:119</a></li> <li> +(A::<b>LinearAlgebra.UnitLowerTriangular</b>, B::<b>LinearAlgebra.UnitLowerTriangular</b>) in LinearAlgebra at <a href=\"file:///cache/build/builder-amdci5-6/julialang/julia-release-1-dot-10/usr/share/julia/stdlib/v1.10/LinearAlgebra/src/triangular.jl\" target=\"_blank\">/usr/local/share/julia/stdlib/v1.10/LinearAlgebra/src/triangular.jl:657</a></li> <li> +(A::<b>LinearAlgebra.UnitLowerTriangular</b>, B::<b>LinearAlgebra.LowerTriangular</b>) in LinearAlgebra at <a href=\"file:///cache/build/builder-amdci5-6/julialang/julia-release-1-dot-10/usr/share/julia/stdlib/v1.10/LinearAlgebra/src/triangular.jl\" target=\"_blank\">/usr/local/share/julia/stdlib/v1.10/LinearAlgebra/src/triangular.jl:655</a></li> <li> +(A::<b>LinearAlgebra.UnitUpperTriangular</b>, B::<b>LinearAlgebra.UnitUpperTriangular</b>) in LinearAlgebra at <a href=\"file:///cache/build/builder-amdci5-6/julialang/julia-release-1-dot-10/usr/share/julia/stdlib/v1.10/LinearAlgebra/src/triangular.jl\" target=\"_blank\">/usr/local/share/julia/stdlib/v1.10/LinearAlgebra/src/triangular.jl:656</a></li> <li> +(A::<b>LinearAlgebra.UnitUpperTriangular</b>, B::<b>LinearAlgebra.UpperTriangular</b>) in LinearAlgebra at <a href=\"file:///cache/build/builder-amdci5-6/julialang/julia-release-1-dot-10/usr/share/julia/stdlib/v1.10/LinearAlgebra/src/triangular.jl\" target=\"_blank\">/usr/local/share/julia/stdlib/v1.10/LinearAlgebra/src/triangular.jl:654</a></li> <li> +(A::<b>LinearAlgebra.LowerTriangular</b>, B::<b>LinearAlgebra.UnitLowerTriangular</b>) in LinearAlgebra at <a href=\"file:///cache/build/builder-amdci5-6/julialang/julia-release-1-dot-10/usr/share/julia/stdlib/v1.10/LinearAlgebra/src/triangular.jl\" target=\"_blank\">/usr/local/share/julia/stdlib/v1.10/LinearAlgebra/src/triangular.jl:653</a></li> <li> +(A::<b>LinearAlgebra.LowerTriangular</b>, B::<b>LinearAlgebra.LowerTriangular</b>) in LinearAlgebra at <a href=\"file:///cache/build/builder-amdci5-6/julialang/julia-release-1-dot-10/usr/share/julia/stdlib/v1.10/LinearAlgebra/src/triangular.jl\" target=\"_blank\">/usr/local/share/julia/stdlib/v1.10/LinearAlgebra/src/triangular.jl:651</a></li> <li> +(A::<b>LinearAlgebra.UpperTriangular</b>, B::<b>LinearAlgebra.UnitUpperTriangular</b>) in LinearAlgebra at <a href=\"file:///cache/build/builder-amdci5-6/julialang/julia-release-1-dot-10/usr/share/julia/stdlib/v1.10/LinearAlgebra/src/triangular.jl\" target=\"_blank\">/usr/local/share/julia/stdlib/v1.10/LinearAlgebra/src/triangular.jl:652</a></li> <li> +(A::<b>LinearAlgebra.UpperTriangular</b>, B::<b>LinearAlgebra.UpperTriangular</b>) in LinearAlgebra at <a href=\"file:///cache/build/builder-amdci5-6/julialang/julia-release-1-dot-10/usr/share/julia/stdlib/v1.10/LinearAlgebra/src/triangular.jl\" target=\"_blank\">/usr/local/share/julia/stdlib/v1.10/LinearAlgebra/src/triangular.jl:650</a></li> <li> +(A::<b>LinearAlgebra.AbstractTriangular</b>, B::<b>LinearAlgebra.AbstractTriangular</b>) in LinearAlgebra at <a href=\"file:///cache/build/builder-amdci5-6/julialang/julia-release-1-dot-10/usr/share/julia/stdlib/v1.10/LinearAlgebra/src/triangular.jl\" target=\"_blank\">/usr/local/share/julia/stdlib/v1.10/LinearAlgebra/src/triangular.jl:658</a></li> <li> +(index1::<b>CartesianIndex{N}</b>, index2::<b>CartesianIndex{N}</b>)<i> where N</i> in Base.IteratorsMD at <a href=\"https://github.com/JuliaLang/julia/tree/5595d20a2877560583cd4891ce91605d10b1bb75/base/multidimensional.jl#L119\" target=\"_blank\">multidimensional.jl:119</a></li> <li> +(A::<b>LinearAlgebra.Hermitian</b>, J::<b>LinearAlgebra.UniformScaling{<:Complex}</b>) in LinearAlgebra at <a href=\"file:///cache/build/builder-amdci5-6/julialang/julia-release-1-dot-10/usr/share/julia/stdlib/v1.10/LinearAlgebra/src/uniformscaling.jl\" target=\"_blank\">/usr/local/share/julia/stdlib/v1.10/LinearAlgebra/src/uniformscaling.jl:195</a></li> <li> +(H::<b>LinearAlgebra.Hermitian</b>, D::<b>LinearAlgebra.Diagonal{var\"#s997\", V} where {var\"#s997\"<:Real, V<:AbstractVector{var\"#s997\"}}</b>) in LinearAlgebra at <a href=\"file:///cache/build/builder-amdci5-6/julialang/julia-release-1-dot-10/usr/share/julia/stdlib/v1.10/LinearAlgebra/src/diagonal.jl\" target=\"_blank\">/usr/local/share/julia/stdlib/v1.10/LinearAlgebra/src/diagonal.jl:238</a></li> <li> +(A::<b>LinearAlgebra.Hermitian</b>, B::<b>LinearAlgebra.SymTridiagonal{var\"#s126\", V} where {var\"#s126\"<:Real, V<:AbstractVector{var\"#s126\"}}</b>) in LinearAlgebra at <a href=\"file:///cache/build/builder-amdci5-6/julialang/julia-release-1-dot-10/usr/share/julia/stdlib/v1.10/LinearAlgebra/src/symmetric.jl\" target=\"_blank\">/usr/local/share/julia/stdlib/v1.10/LinearAlgebra/src/symmetric.jl:523</a></li> <li> +(A::<b>LinearAlgebra.Hermitian</b>, B::<b>LinearAlgebra.Symmetric{var\"#s997\", S} where {var\"#s997\"<:Real, S<:(AbstractMatrix{<:var\"#s997\"})}</b>) in LinearAlgebra at <a href=\"file:///cache/build/builder-amdci5-6/julialang/julia-release-1-dot-10/usr/share/julia/stdlib/v1.10/LinearAlgebra/src/symmetric.jl\" target=\"_blank\">/usr/local/share/julia/stdlib/v1.10/LinearAlgebra/src/symmetric.jl:518</a></li> <li> +(A::<b>LinearAlgebra.Hermitian</b>, B::<b>LinearAlgebra.Hermitian</b>) in LinearAlgebra at <a href=\"file:///cache/build/builder-amdci5-6/julialang/julia-release-1-dot-10/usr/share/julia/stdlib/v1.10/LinearAlgebra/src/symmetric.jl\" target=\"_blank\">/usr/local/share/julia/stdlib/v1.10/LinearAlgebra/src/symmetric.jl:504</a></li> <li> +(y::<b>AbstractFloat</b>, x::<b>Bool</b>) in Base at <a href=\"https://github.com/JuliaLang/julia/tree/5595d20a2877560583cd4891ce91605d10b1bb75/base/bool.jl#L176\" target=\"_blank\">bool.jl:176</a></li> <li> +(x::<b>Rational</b>, y::<b>Integer</b>) in Base at <a href=\"https://github.com/JuliaLang/julia/tree/5595d20a2877560583cd4891ce91605d10b1bb75/base/rational.jl#L343\" target=\"_blank\">rational.jl:343</a></li> <li> +(x::<b>Rational</b>, y::<b>Rational</b>) in Base at <a href=\"https://github.com/JuliaLang/julia/tree/5595d20a2877560583cd4891ce91605d10b1bb75/base/rational.jl#L314\" target=\"_blank\">rational.jl:314</a></li> <li> +(x::<b>Rational</b>) in Base at <a href=\"https://github.com/JuliaLang/julia/tree/5595d20a2877560583cd4891ce91605d10b1bb75/base/rational.jl#L300\" target=\"_blank\">rational.jl:300</a></li> <li> +(A::<b>LinearAlgebra.UnitLowerTriangular</b>, B::<b>LinearAlgebra.Bidiagonal</b>) in LinearAlgebra at <a href=\"file:///cache/build/builder-amdci5-6/julialang/julia-release-1-dot-10/usr/share/julia/stdlib/v1.10/LinearAlgebra/src/special.jl\" target=\"_blank\">/usr/local/share/julia/stdlib/v1.10/LinearAlgebra/src/special.jl:91</a></li> <li> +(UL::<b>LinearAlgebra.UnitLowerTriangular</b>, J::<b>LinearAlgebra.UniformScaling</b>) in LinearAlgebra at <a href=\"file:///cache/build/builder-amdci5-6/julialang/julia-release-1-dot-10/usr/share/julia/stdlib/v1.10/LinearAlgebra/src/uniformscaling.jl\" target=\"_blank\">/usr/local/share/julia/stdlib/v1.10/LinearAlgebra/src/uniformscaling.jl:181</a></li> <li> +(x::<b>Integer</b>, y::<b>AbstractChar</b>) in Base at <a href=\"https://github.com/JuliaLang/julia/tree/5595d20a2877560583cd4891ce91605d10b1bb75/base/char.jl#L247\" target=\"_blank\">char.jl:247</a></li> <li> +(y::<b>Integer</b>, x::<b>Rational</b>) in Base at <a href=\"https://github.com/JuliaLang/julia/tree/5595d20a2877560583cd4891ce91605d10b1bb75/base/rational.jl#L350\" target=\"_blank\">rational.jl:350</a></li> <li> +(x::<b>Integer</b>, y::<b>Ptr</b>) in Base at <a href=\"https://github.com/JuliaLang/julia/tree/5595d20a2877560583cd4891ce91605d10b1bb75/base/pointer.jl#L284\" target=\"_blank\">pointer.jl:284</a></li> <li> +(c::<b>Union{Int16, Int32, Int64, Int8}</b>, x::<b>BigInt</b>) in Base.GMP at <a href=\"https://github.com/JuliaLang/julia/tree/5595d20a2877560583cd4891ce91605d10b1bb75/base/gmp.jl#L556\" target=\"_blank\">gmp.jl:556</a></li> <li> +(c::<b>Union{UInt16, UInt32, UInt64, UInt8}</b>, x::<b>BigInt</b>) in Base.GMP at <a href=\"https://github.com/JuliaLang/julia/tree/5595d20a2877560583cd4891ce91605d10b1bb75/base/gmp.jl#L550\" target=\"_blank\">gmp.jl:550</a></li> <li> +(x::<b>T</b>, y::<b>T</b>)<i> where T<:Union{Int128, Int16, Int32, Int64, Int8, UInt128, UInt16, UInt32, UInt64, UInt8}</i> in Base at <a href=\"https://github.com/JuliaLang/julia/tree/5595d20a2877560583cd4891ce91605d10b1bb75/base/int.jl#L87\" target=\"_blank\">int.jl:87</a></li> <li> +(a::<b>Integer</b>, b::<b>Integer</b>) in Base at <a href=\"https://github.com/JuliaLang/julia/tree/5595d20a2877560583cd4891ce91605d10b1bb75/base/int.jl#L1064\" target=\"_blank\">int.jl:1064</a></li> <li> +(x::<b>Ptr</b>, y::<b>Integer</b>) in Base at <a href=\"https://github.com/JuliaLang/julia/tree/5595d20a2877560583cd4891ce91605d10b1bb75/base/pointer.jl#L282\" target=\"_blank\">pointer.jl:282</a></li> <li> +(A::<b>LinearAlgebra.UnitUpperTriangular</b>, B::<b>LinearAlgebra.Bidiagonal</b>) in LinearAlgebra at <a href=\"file:///cache/build/builder-amdci5-6/julialang/julia-release-1-dot-10/usr/share/julia/stdlib/v1.10/LinearAlgebra/src/special.jl\" target=\"_blank\">/usr/local/share/julia/stdlib/v1.10/LinearAlgebra/src/special.jl:91</a></li> <li> +(x::<b>LinearAlgebra.UnitUpperTriangular</b>, H::<b>LinearAlgebra.UpperHessenberg</b>) in LinearAlgebra at <a href=\"file:///cache/build/builder-amdci5-6/julialang/julia-release-1-dot-10/usr/share/julia/stdlib/v1.10/LinearAlgebra/src/hessenberg.jl\" target=\"_blank\">/usr/local/share/julia/stdlib/v1.10/LinearAlgebra/src/hessenberg.jl:120</a></li> <li> +(UL::<b>LinearAlgebra.UnitUpperTriangular</b>, J::<b>LinearAlgebra.UniformScaling</b>) in LinearAlgebra at <a href=\"file:///cache/build/builder-amdci5-6/julialang/julia-release-1-dot-10/usr/share/julia/stdlib/v1.10/LinearAlgebra/src/uniformscaling.jl\" target=\"_blank\">/usr/local/share/julia/stdlib/v1.10/LinearAlgebra/src/uniformscaling.jl:181</a></li> <li> +(D::<b>LinearAlgebra.Diagonal{var\"#s997\", V} where {var\"#s997\"<:Real, V<:AbstractVector{var\"#s997\"}}</b>, H::<b>LinearAlgebra.Hermitian</b>) in LinearAlgebra at <a href=\"file:///cache/build/builder-amdci5-6/julialang/julia-release-1-dot-10/usr/share/julia/stdlib/v1.10/LinearAlgebra/src/diagonal.jl\" target=\"_blank\">/usr/local/share/julia/stdlib/v1.10/LinearAlgebra/src/diagonal.jl:235</a></li> <li> +(A::<b>LinearAlgebra.Diagonal</b>, B::<b>LinearAlgebra.UniformScaling</b>) in LinearAlgebra at <a href=\"file:///cache/build/builder-amdci5-6/julialang/julia-release-1-dot-10/usr/share/julia/stdlib/v1.10/LinearAlgebra/src/special.jl\" target=\"_blank\">/usr/local/share/julia/stdlib/v1.10/LinearAlgebra/src/special.jl:247</a></li> <li> +(D::<b>LinearAlgebra.Diagonal</b>, S::<b>LinearAlgebra.Symmetric</b>) in LinearAlgebra at <a href=\"file:///cache/build/builder-amdci5-6/julialang/julia-release-1-dot-10/usr/share/julia/stdlib/v1.10/LinearAlgebra/src/diagonal.jl\" target=\"_blank\">/usr/local/share/julia/stdlib/v1.10/LinearAlgebra/src/diagonal.jl:229</a></li> <li> +(x::<b>LinearAlgebra.Diagonal</b>, H::<b>LinearAlgebra.UpperHessenberg</b>) in LinearAlgebra at <a href=\"file:///cache/build/builder-amdci5-6/julialang/julia-release-1-dot-10/usr/share/julia/stdlib/v1.10/LinearAlgebra/src/hessenberg.jl\" target=\"_blank\">/usr/local/share/julia/stdlib/v1.10/LinearAlgebra/src/hessenberg.jl:120</a></li> <li> +(Da::<b>LinearAlgebra.Diagonal</b>, Db::<b>LinearAlgebra.Diagonal</b>) in LinearAlgebra at <a href=\"file:///cache/build/builder-amdci5-6/julialang/julia-release-1-dot-10/usr/share/julia/stdlib/v1.10/LinearAlgebra/src/diagonal.jl\" target=\"_blank\">/usr/local/share/julia/stdlib/v1.10/LinearAlgebra/src/diagonal.jl:225</a></li> <li> +(A::<b>LinearAlgebra.Diagonal</b>, B::<b>LinearAlgebra.Tridiagonal</b>) in LinearAlgebra at <a href=\"file:///cache/build/builder-amdci5-6/julialang/julia-release-1-dot-10/usr/share/julia/stdlib/v1.10/LinearAlgebra/src/special.jl\" target=\"_blank\">/usr/local/share/julia/stdlib/v1.10/LinearAlgebra/src/special.jl:187</a></li> <li> +(A::<b>LinearAlgebra.Diagonal</b>, B::<b>LinearAlgebra.SymTridiagonal</b>) in LinearAlgebra at <a href=\"file:///cache/build/builder-amdci5-6/julialang/julia-release-1-dot-10/usr/share/julia/stdlib/v1.10/LinearAlgebra/src/special.jl\" target=\"_blank\">/usr/local/share/julia/stdlib/v1.10/LinearAlgebra/src/special.jl:166</a></li> <li> +(B::<b>LinearAlgebra.Diagonal</b>, A::<b>LinearAlgebra.Bidiagonal</b>) in LinearAlgebra</li> <li> +(x::<b>T</b>, y::<b>Integer</b>)<i> where T<:AbstractChar</i> in Base at <a href=\"https://github.com/JuliaLang/julia/tree/5595d20a2877560583cd4891ce91605d10b1bb75/base/char.jl#L237\" target=\"_blank\">char.jl:237</a></li> <li> +(r1::<b>StepRangeLen{T, R}</b>, r2::<b>StepRangeLen{T, R}</b>)<i> where {R<:Base.TwicePrecision, T}</i> in Base at <a href=\"https://github.com/JuliaLang/julia/tree/5595d20a2877560583cd4891ce91605d10b1bb75/base/twiceprecision.jl#L626\" target=\"_blank\">twiceprecision.jl:626</a></li> <li> +(r1::<b>StepRangeLen{T, S}</b>, r2::<b>StepRangeLen{T, S}</b>)<i> where {T, S}</i> in Base at <a href=\"https://github.com/JuliaLang/julia/tree/5595d20a2877560583cd4891ce91605d10b1bb75/base/range.jl#L1477\" target=\"_blank\">range.jl:1477</a></li> <li> +(A::<b>LinearAlgebra.SymTridiagonal</b>, B::<b>LinearAlgebra.SymTridiagonal</b>) in LinearAlgebra at <a href=\"file:///cache/build/builder-amdci5-6/julialang/julia-release-1-dot-10/usr/share/julia/stdlib/v1.10/LinearAlgebra/src/tridiag.jl\" target=\"_blank\">/usr/local/share/julia/stdlib/v1.10/LinearAlgebra/src/tridiag.jl:210</a></li> <li> +(A::<b>LinearAlgebra.SymTridiagonal</b>, B::<b>LinearAlgebra.UniformScaling</b>) in LinearAlgebra at <a href=\"file:///cache/build/builder-amdci5-6/julialang/julia-release-1-dot-10/usr/share/julia/stdlib/v1.10/LinearAlgebra/src/special.jl\" target=\"_blank\">/usr/local/share/julia/stdlib/v1.10/LinearAlgebra/src/special.jl:237</a></li> <li> +(A::<b>LinearAlgebra.SymTridiagonal</b>, B::<b>LinearAlgebra.Symmetric</b>) in LinearAlgebra at <a href=\"file:///cache/build/builder-amdci5-6/julialang/julia-release-1-dot-10/usr/share/julia/stdlib/v1.10/LinearAlgebra/src/symmetric.jl\" target=\"_blank\">/usr/local/share/julia/stdlib/v1.10/LinearAlgebra/src/symmetric.jl:520</a></li> <li> +(B::<b>LinearAlgebra.SymTridiagonal</b>, A::<b>LinearAlgebra.Diagonal</b>) in LinearAlgebra</li> <li> +(x::<b>LinearAlgebra.SymTridiagonal</b>, H::<b>LinearAlgebra.UpperHessenberg</b>) in LinearAlgebra at <a href=\"file:///cache/build/builder-amdci5-6/julialang/julia-release-1-dot-10/usr/share/julia/stdlib/v1.10/LinearAlgebra/src/hessenberg.jl\" target=\"_blank\">/usr/local/share/julia/stdlib/v1.10/LinearAlgebra/src/hessenberg.jl:120</a></li> <li> +(B::<b>LinearAlgebra.SymTridiagonal</b>, A::<b>LinearAlgebra.Tridiagonal</b>) in LinearAlgebra</li> <li> +(B::<b>LinearAlgebra.SymTridiagonal</b>, A::<b>LinearAlgebra.Bidiagonal</b>) in LinearAlgebra</li> <li> +(A::<b>LinearAlgebra.SymTridiagonal{var\"#s127\", V} where {var\"#s127\"<:Real, V<:AbstractVector{var\"#s127\"}}</b>, B::<b>LinearAlgebra.Hermitian</b>) in LinearAlgebra at <a href=\"file:///cache/build/builder-amdci5-6/julialang/julia-release-1-dot-10/usr/share/julia/stdlib/v1.10/LinearAlgebra/src/symmetric.jl\" target=\"_blank\">/usr/local/share/julia/stdlib/v1.10/LinearAlgebra/src/symmetric.jl:522</a></li> <li> +(x::<b>Base.TwicePrecision{T}</b>, y::<b>Base.TwicePrecision{T}</b>)<i> where T</i> in Base at <a href=\"https://github.com/JuliaLang/julia/tree/5595d20a2877560583cd4891ce91605d10b1bb75/base/twiceprecision.jl#L294\" target=\"_blank\">twiceprecision.jl:294</a></li> <li> +(x::<b>Base.TwicePrecision</b>, y::<b>Base.TwicePrecision</b>) in Base at <a href=\"https://github.com/JuliaLang/julia/tree/5595d20a2877560583cd4891ce91605d10b1bb75/base/twiceprecision.jl#L299\" target=\"_blank\">twiceprecision.jl:299</a></li> <li> +(x::<b>Base.TwicePrecision</b>, y::<b>Number</b>) in Base at <a href=\"https://github.com/JuliaLang/julia/tree/5595d20a2877560583cd4891ce91605d10b1bb75/base/twiceprecision.jl#L288\" target=\"_blank\">twiceprecision.jl:288</a></li> <li> +(x::<b>Real</b>, z::<b>Complex</b>) in Base at <a href=\"https://github.com/JuliaLang/julia/tree/5595d20a2877560583cd4891ce91605d10b1bb75/base/complex.jl#L331\" target=\"_blank\">complex.jl:331</a></li> <li> +(x::<b>Number</b>, J::<b>LinearAlgebra.UniformScaling</b>) in LinearAlgebra at <a href=\"file:///cache/build/builder-amdci5-6/julialang/julia-release-1-dot-10/usr/share/julia/stdlib/v1.10/LinearAlgebra/src/uniformscaling.jl\" target=\"_blank\">/usr/local/share/julia/stdlib/v1.10/LinearAlgebra/src/uniformscaling.jl:145</a></li> <li> +(::<b>Number</b>, ::<b>Missing</b>) in Base at <a href=\"https://github.com/JuliaLang/julia/tree/5595d20a2877560583cd4891ce91605d10b1bb75/base/missing.jl#L124\" target=\"_blank\">missing.jl:124</a></li> <li> +(x::<b>Number</b>, y::<b>Base.TwicePrecision</b>) in Base at <a href=\"https://github.com/JuliaLang/julia/tree/5595d20a2877560583cd4891ce91605d10b1bb75/base/twiceprecision.jl#L292\" target=\"_blank\">twiceprecision.jl:292</a></li> <li> +(z::<b>Complex</b>) in Base at <a href=\"https://github.com/JuliaLang/julia/tree/5595d20a2877560583cd4891ce91605d10b1bb75/base/complex.jl#L292\" target=\"_blank\">complex.jl:292</a></li> <li> +(x::<b>Number</b>) in Base at <a href=\"https://github.com/JuliaLang/julia/tree/5595d20a2877560583cd4891ce91605d10b1bb75/base/operators.jl#L524\" target=\"_blank\">operators.jl:524</a></li> <li> +(z::<b>Complex</b>, w::<b>Complex</b>) in Base at <a href=\"https://github.com/JuliaLang/julia/tree/5595d20a2877560583cd4891ce91605d10b1bb75/base/complex.jl#L294\" target=\"_blank\">complex.jl:294</a></li> <li> +(x::<b>AbstractIrrational</b>, y::<b>AbstractIrrational</b>) in Base at <a href=\"https://github.com/JuliaLang/julia/tree/5595d20a2877560583cd4891ce91605d10b1bb75/base/irrationals.jl#L176\" target=\"_blank\">irrationals.jl:176</a></li> <li> +(x::<b>T</b>, y::<b>T</b>)<i> where T<:Union{Float16, Float32, Float64}</i> in Base at <a href=\"https://github.com/JuliaLang/julia/tree/5595d20a2877560583cd4891ce91605d10b1bb75/base/float.jl#L409\" target=\"_blank\">float.jl:409</a></li> <li> +(x::<b>T</b>, y::<b>T</b>)<i> where T<:Number</i> in Base at <a href=\"https://github.com/JuliaLang/julia/tree/5595d20a2877560583cd4891ce91605d10b1bb75/base/promotion.jl#L507\" target=\"_blank\">promotion.jl:507</a></li> <li> +(z::<b>Complex</b>, x::<b>Real</b>) in Base at <a href=\"https://github.com/JuliaLang/julia/tree/5595d20a2877560583cd4891ce91605d10b1bb75/base/complex.jl#L332\" target=\"_blank\">complex.jl:332</a></li> <li> +(c::<b>Union{Float16, Float32, Float64}</b>, x::<b>BigFloat</b>) in Base.MPFR at <a href=\"https://github.com/JuliaLang/julia/tree/5595d20a2877560583cd4891ce91605d10b1bb75/base/mpfr.jl#L460\" target=\"_blank\">mpfr.jl:460</a></li> <li> +(c::<b>Union{Int16, Int32, Int64, Int8}</b>, x::<b>BigFloat</b>) in Base.MPFR at <a href=\"https://github.com/JuliaLang/julia/tree/5595d20a2877560583cd4891ce91605d10b1bb75/base/mpfr.jl#L452\" target=\"_blank\">mpfr.jl:452</a></li> <li> +(c::<b>Union{UInt16, UInt32, UInt64, UInt8}</b>, x::<b>BigFloat</b>) in Base.MPFR at <a href=\"https://github.com/JuliaLang/julia/tree/5595d20a2877560583cd4891ce91605d10b1bb75/base/mpfr.jl#L444\" target=\"_blank\">mpfr.jl:444</a></li> <li> +(x::<b>Number</b>, y::<b>Number</b>) in Base at <a href=\"https://github.com/JuliaLang/julia/tree/5595d20a2877560583cd4891ce91605d10b1bb75/base/promotion.jl#L422\" target=\"_blank\">promotion.jl:422</a></li> <li> +(S::<b>LinearAlgebra.Symmetric</b>, D::<b>LinearAlgebra.Diagonal</b>) in LinearAlgebra at <a href=\"file:///cache/build/builder-amdci5-6/julialang/julia-release-1-dot-10/usr/share/julia/stdlib/v1.10/LinearAlgebra/src/diagonal.jl\" target=\"_blank\">/usr/local/share/julia/stdlib/v1.10/LinearAlgebra/src/diagonal.jl:232</a></li> <li> +(A::<b>LinearAlgebra.Symmetric</b>, B::<b>LinearAlgebra.SymTridiagonal</b>) in LinearAlgebra at <a href=\"file:///cache/build/builder-amdci5-6/julialang/julia-release-1-dot-10/usr/share/julia/stdlib/v1.10/LinearAlgebra/src/symmetric.jl\" target=\"_blank\">/usr/local/share/julia/stdlib/v1.10/LinearAlgebra/src/symmetric.jl:521</a></li> <li> +(A::<b>LinearAlgebra.Symmetric{var\"#s128\", S} where {var\"#s128\"<:Real, S<:(AbstractMatrix{<:var\"#s128\"})}</b>, B::<b>LinearAlgebra.Hermitian</b>) in LinearAlgebra at <a href=\"file:///cache/build/builder-amdci5-6/julialang/julia-release-1-dot-10/usr/share/julia/stdlib/v1.10/LinearAlgebra/src/symmetric.jl\" target=\"_blank\">/usr/local/share/julia/stdlib/v1.10/LinearAlgebra/src/symmetric.jl:519</a></li> <li> +(A::<b>LinearAlgebra.Symmetric</b>, B::<b>LinearAlgebra.Symmetric</b>) in LinearAlgebra at <a href=\"file:///cache/build/builder-amdci5-6/julialang/julia-release-1-dot-10/usr/share/julia/stdlib/v1.10/LinearAlgebra/src/symmetric.jl\" target=\"_blank\">/usr/local/share/julia/stdlib/v1.10/LinearAlgebra/src/symmetric.jl:504</a></li> <li> +(J::<b>LinearAlgebra.UniformScaling</b>, B::<b>BitMatrix</b>) in LinearAlgebra at <a href=\"file:///cache/build/builder-amdci5-6/julialang/julia-release-1-dot-10/usr/share/julia/stdlib/v1.10/LinearAlgebra/src/uniformscaling.jl\" target=\"_blank\">/usr/local/share/julia/stdlib/v1.10/LinearAlgebra/src/uniformscaling.jl:152</a></li> <li> +(J::<b>LinearAlgebra.UniformScaling</b>, F::<b>LinearAlgebra.Hessenberg</b>) in LinearAlgebra at <a href=\"file:///cache/build/builder-amdci5-6/julialang/julia-release-1-dot-10/usr/share/julia/stdlib/v1.10/LinearAlgebra/src/hessenberg.jl\" target=\"_blank\">/usr/local/share/julia/stdlib/v1.10/LinearAlgebra/src/hessenberg.jl:561</a></li> <li> +(J::<b>LinearAlgebra.UniformScaling</b>, x::<b>Number</b>) in LinearAlgebra at <a href=\"file:///cache/build/builder-amdci5-6/julialang/julia-release-1-dot-10/usr/share/julia/stdlib/v1.10/LinearAlgebra/src/uniformscaling.jl\" target=\"_blank\">/usr/local/share/julia/stdlib/v1.10/LinearAlgebra/src/uniformscaling.jl:144</a></li> <li> +(x::<b>LinearAlgebra.UniformScaling</b>, H::<b>LinearAlgebra.UpperHessenberg</b>) in LinearAlgebra at <a href=\"file:///cache/build/builder-amdci5-6/julialang/julia-release-1-dot-10/usr/share/julia/stdlib/v1.10/LinearAlgebra/src/hessenberg.jl\" target=\"_blank\">/usr/local/share/julia/stdlib/v1.10/LinearAlgebra/src/hessenberg.jl:120</a></li> <li> +(J1::<b>LinearAlgebra.UniformScaling</b>, J2::<b>LinearAlgebra.UniformScaling</b>) in LinearAlgebra at <a href=\"file:///cache/build/builder-amdci5-6/julialang/julia-release-1-dot-10/usr/share/julia/stdlib/v1.10/LinearAlgebra/src/uniformscaling.jl\" target=\"_blank\">/usr/local/share/julia/stdlib/v1.10/LinearAlgebra/src/uniformscaling.jl:150</a></li> <li> +(B::<b>LinearAlgebra.UniformScaling</b>, A::<b>LinearAlgebra.Tridiagonal</b>) in LinearAlgebra</li> <li> +(B::<b>LinearAlgebra.UniformScaling</b>, A::<b>LinearAlgebra.Bidiagonal</b>) in LinearAlgebra</li> <li> +(B::<b>LinearAlgebra.UniformScaling</b>, A::<b>LinearAlgebra.Diagonal</b>) in LinearAlgebra</li> <li> +(B::<b>LinearAlgebra.UniformScaling</b>, A::<b>LinearAlgebra.SymTridiagonal</b>) in LinearAlgebra</li> <li> +(J::<b>LinearAlgebra.UniformScaling</b>, A::<b>AbstractMatrix</b>) in LinearAlgebra at <a href=\"file:///cache/build/builder-amdci5-6/julialang/julia-release-1-dot-10/usr/share/julia/stdlib/v1.10/LinearAlgebra/src/uniformscaling.jl\" target=\"_blank\">/usr/local/share/julia/stdlib/v1.10/LinearAlgebra/src/uniformscaling.jl:153</a></li> <li> +(J::<b>LinearAlgebra.UniformScaling</b>) in LinearAlgebra at <a href=\"file:///cache/build/builder-amdci5-6/julialang/julia-release-1-dot-10/usr/share/julia/stdlib/v1.10/LinearAlgebra/src/uniformscaling.jl\" target=\"_blank\">/usr/local/share/julia/stdlib/v1.10/LinearAlgebra/src/uniformscaling.jl:149</a></li> <li> +(A::<b>BitArray</b>, B::<b>BitArray</b>) in Base at <a href=\"https://github.com/JuliaLang/julia/tree/5595d20a2877560583cd4891ce91605d10b1bb75/base/bitarray.jl#L1184\" target=\"_blank\">bitarray.jl:1184</a></li> <li> +(x::<b>LinearAlgebra.Bidiagonal</b>, H::<b>LinearAlgebra.UpperHessenberg</b>) in LinearAlgebra at <a href=\"file:///cache/build/builder-amdci5-6/julialang/julia-release-1-dot-10/usr/share/julia/stdlib/v1.10/LinearAlgebra/src/hessenberg.jl\" target=\"_blank\">/usr/local/share/julia/stdlib/v1.10/LinearAlgebra/src/hessenberg.jl:120</a></li> <li> +(A::<b>LinearAlgebra.Bidiagonal</b>, B::<b>LinearAlgebra.LowerTriangular</b>) in LinearAlgebra at <a href=\"file:///cache/build/builder-amdci5-6/julialang/julia-release-1-dot-10/usr/share/julia/stdlib/v1.10/LinearAlgebra/src/special.jl\" target=\"_blank\">/usr/local/share/julia/stdlib/v1.10/LinearAlgebra/src/special.jl:99</a></li> <li> +(A::<b>LinearAlgebra.Bidiagonal</b>, B::<b>LinearAlgebra.Tridiagonal</b>) in LinearAlgebra at <a href=\"file:///cache/build/builder-amdci5-6/julialang/julia-release-1-dot-10/usr/share/julia/stdlib/v1.10/LinearAlgebra/src/special.jl\" target=\"_blank\">/usr/local/share/julia/stdlib/v1.10/LinearAlgebra/src/special.jl:202</a></li> <li> +(A::<b>LinearAlgebra.Bidiagonal</b>, B::<b>LinearAlgebra.Bidiagonal</b>) in LinearAlgebra at <a href=\"file:///cache/build/builder-amdci5-6/julialang/julia-release-1-dot-10/usr/share/julia/stdlib/v1.10/LinearAlgebra/src/bidiag.jl\" target=\"_blank\">/usr/local/share/julia/stdlib/v1.10/LinearAlgebra/src/bidiag.jl:390</a></li> <li> +(A::<b>LinearAlgebra.Bidiagonal</b>, B::<b>LinearAlgebra.UnitUpperTriangular</b>) in LinearAlgebra at <a href=\"file:///cache/build/builder-amdci5-6/julialang/julia-release-1-dot-10/usr/share/julia/stdlib/v1.10/LinearAlgebra/src/special.jl\" target=\"_blank\">/usr/local/share/julia/stdlib/v1.10/LinearAlgebra/src/special.jl:99</a></li> <li> +(A::<b>LinearAlgebra.Bidiagonal</b>, B::<b>LinearAlgebra.UpperTriangular</b>) in LinearAlgebra at <a href=\"file:///cache/build/builder-amdci5-6/julialang/julia-release-1-dot-10/usr/share/julia/stdlib/v1.10/LinearAlgebra/src/special.jl\" target=\"_blank\">/usr/local/share/julia/stdlib/v1.10/LinearAlgebra/src/special.jl:99</a></li> <li> +(A::<b>LinearAlgebra.Bidiagonal</b>, B::<b>LinearAlgebra.UniformScaling</b>) in LinearAlgebra at <a href=\"file:///cache/build/builder-amdci5-6/julialang/julia-release-1-dot-10/usr/share/julia/stdlib/v1.10/LinearAlgebra/src/special.jl\" target=\"_blank\">/usr/local/share/julia/stdlib/v1.10/LinearAlgebra/src/special.jl:242</a></li> <li> +(A::<b>LinearAlgebra.Bidiagonal</b>, B::<b>LinearAlgebra.Diagonal</b>) in LinearAlgebra at <a href=\"file:///cache/build/builder-amdci5-6/julialang/julia-release-1-dot-10/usr/share/julia/stdlib/v1.10/LinearAlgebra/src/special.jl\" target=\"_blank\">/usr/local/share/julia/stdlib/v1.10/LinearAlgebra/src/special.jl:151</a></li> <li> +(A::<b>LinearAlgebra.Bidiagonal</b>, B::<b>LinearAlgebra.UnitLowerTriangular</b>) in LinearAlgebra at <a href=\"file:///cache/build/builder-amdci5-6/julialang/julia-release-1-dot-10/usr/share/julia/stdlib/v1.10/LinearAlgebra/src/special.jl\" target=\"_blank\">/usr/local/share/julia/stdlib/v1.10/LinearAlgebra/src/special.jl:99</a></li> <li> +(A::<b>LinearAlgebra.Bidiagonal</b>, B::<b>LinearAlgebra.SymTridiagonal</b>) in LinearAlgebra at <a href=\"file:///cache/build/builder-amdci5-6/julialang/julia-release-1-dot-10/usr/share/julia/stdlib/v1.10/LinearAlgebra/src/special.jl\" target=\"_blank\">/usr/local/share/julia/stdlib/v1.10/LinearAlgebra/src/special.jl:217</a></li> <li> +(F::<b>LinearAlgebra.Hessenberg</b>, J::<b>LinearAlgebra.UniformScaling</b>) in LinearAlgebra at <a href=\"file:///cache/build/builder-amdci5-6/julialang/julia-release-1-dot-10/usr/share/julia/stdlib/v1.10/LinearAlgebra/src/hessenberg.jl\" target=\"_blank\">/usr/local/share/julia/stdlib/v1.10/LinearAlgebra/src/hessenberg.jl:560</a></li> <li> +(x::<b>Dates.AbstractTime</b>, y::<b>Missing</b>) in Dates at <a href=\"file:///cache/build/builder-amdci5-6/julialang/julia-release-1-dot-10/usr/share/julia/stdlib/v1.10/Dates/src/arithmetic.jl\" target=\"_blank\">/usr/local/share/julia/stdlib/v1.10/Dates/src/arithmetic.jl:90</a></li> <li> +(r::<b>AbstractRange{<:Dates.TimeType}</b>, x::<b>Dates.Period</b>) in Dates at <a href=\"file:///cache/build/builder-amdci5-6/julialang/julia-release-1-dot-10/usr/share/julia/stdlib/v1.10/Dates/src/ranges.jl\" target=\"_blank\">/usr/local/share/julia/stdlib/v1.10/Dates/src/ranges.jl:65</a></li> <li> +(r1::<b>LinRange{T}</b>, r2::<b>LinRange{T}</b>)<i> where T</i> in Base at <a href=\"https://github.com/JuliaLang/julia/tree/5595d20a2877560583cd4891ce91605d10b1bb75/base/range.jl#L1461\" target=\"_blank\">range.jl:1461</a></li> <li> +(A::<b>LinearAlgebra.LowerTriangular</b>, B::<b>LinearAlgebra.Bidiagonal</b>) in LinearAlgebra at <a href=\"file:///cache/build/builder-amdci5-6/julialang/julia-release-1-dot-10/usr/share/julia/stdlib/v1.10/LinearAlgebra/src/special.jl\" target=\"_blank\">/usr/local/share/julia/stdlib/v1.10/LinearAlgebra/src/special.jl:91</a></li> <li> +(A::<b>LinearAlgebra.Tridiagonal</b>, B::<b>LinearAlgebra.UniformScaling</b>) in LinearAlgebra at <a href=\"file:///cache/build/builder-amdci5-6/julialang/julia-release-1-dot-10/usr/share/julia/stdlib/v1.10/LinearAlgebra/src/special.jl\" target=\"_blank\">/usr/local/share/julia/stdlib/v1.10/LinearAlgebra/src/special.jl:232</a></li> <li> +(B::<b>LinearAlgebra.Tridiagonal</b>, A::<b>LinearAlgebra.Bidiagonal</b>) in LinearAlgebra</li> <li> +(B::<b>LinearAlgebra.Tridiagonal</b>, A::<b>LinearAlgebra.Diagonal</b>) in LinearAlgebra</li> <li> +(A::<b>LinearAlgebra.Tridiagonal</b>, B::<b>LinearAlgebra.SymTridiagonal</b>) in LinearAlgebra at <a href=\"file:///cache/build/builder-amdci5-6/julialang/julia-release-1-dot-10/usr/share/julia/stdlib/v1.10/LinearAlgebra/src/special.jl\" target=\"_blank\">/usr/local/share/julia/stdlib/v1.10/LinearAlgebra/src/special.jl:183</a></li> <li> +(x::<b>LinearAlgebra.Tridiagonal</b>, H::<b>LinearAlgebra.UpperHessenberg</b>) in LinearAlgebra at <a href=\"file:///cache/build/builder-amdci5-6/julialang/julia-release-1-dot-10/usr/share/julia/stdlib/v1.10/LinearAlgebra/src/hessenberg.jl\" target=\"_blank\">/usr/local/share/julia/stdlib/v1.10/LinearAlgebra/src/hessenberg.jl:120</a></li> <li> +(A::<b>LinearAlgebra.Tridiagonal</b>, B::<b>LinearAlgebra.Tridiagonal</b>) in LinearAlgebra at <a href=\"file:///cache/build/builder-amdci5-6/julialang/julia-release-1-dot-10/usr/share/julia/stdlib/v1.10/LinearAlgebra/src/tridiag.jl\" target=\"_blank\">/usr/local/share/julia/stdlib/v1.10/LinearAlgebra/src/tridiag.jl:739</a></li> <li> +(y::<b>Dates.TimeType</b>, x::<b>StridedArray{<:Union{Dates.CompoundPeriod, Dates.Period}}</b>) in Dates at <a href=\"file:///cache/build/builder-amdci5-6/julialang/julia-release-1-dot-10/usr/share/julia/stdlib/v1.10/Dates/src/deprecated.jl\" target=\"_blank\">/usr/local/share/julia/stdlib/v1.10/Dates/src/deprecated.jl:18</a></li> <li> +(x::<b>Dates.TimeType</b>) in Dates at <a href=\"file:///cache/build/builder-amdci5-6/julialang/julia-release-1-dot-10/usr/share/julia/stdlib/v1.10/Dates/src/arithmetic.jl\" target=\"_blank\">/usr/local/share/julia/stdlib/v1.10/Dates/src/arithmetic.jl:8</a></li> <li> +(x::<b>Dates.TimeType</b>, y::<b>Dates.CompoundPeriod</b>) in Dates at <a href=\"file:///cache/build/builder-amdci5-6/julialang/julia-release-1-dot-10/usr/share/julia/stdlib/v1.10/Dates/src/periods.jl\" target=\"_blank\">/usr/local/share/julia/stdlib/v1.10/Dates/src/periods.jl:356</a></li> <li> +(a::<b>Dates.TimeType</b>, b::<b>Dates.Period</b>, c::<b>Dates.Period</b>) in Dates at <a href=\"file:///cache/build/builder-amdci5-6/julialang/julia-release-1-dot-10/usr/share/julia/stdlib/v1.10/Dates/src/periods.jl\" target=\"_blank\">/usr/local/share/julia/stdlib/v1.10/Dates/src/periods.jl:353</a></li> <li> +(a::<b>Dates.TimeType</b>, b::<b>Dates.Period</b>, c::<b>Dates.Period</b>, d::<b>Dates.Period...</b>) in Dates at <a href=\"file:///cache/build/builder-amdci5-6/julialang/julia-release-1-dot-10/usr/share/julia/stdlib/v1.10/Dates/src/periods.jl\" target=\"_blank\">/usr/local/share/julia/stdlib/v1.10/Dates/src/periods.jl:354</a></li> <li> +(r1::<b>OrdinalRange</b>, r2::<b>OrdinalRange</b>) in Base at <a href=\"https://github.com/JuliaLang/julia/tree/5595d20a2877560583cd4891ce91605d10b1bb75/base/range.jl#L1454\" target=\"_blank\">range.jl:1454</a></li> <li> +(A::<b>LinearAlgebra.UpperTriangular</b>, B::<b>LinearAlgebra.Bidiagonal</b>) in LinearAlgebra at <a href=\"file:///cache/build/builder-amdci5-6/julialang/julia-release-1-dot-10/usr/share/julia/stdlib/v1.10/LinearAlgebra/src/special.jl\" target=\"_blank\">/usr/local/share/julia/stdlib/v1.10/LinearAlgebra/src/special.jl:91</a></li> <li> +(x::<b>LinearAlgebra.UpperTriangular</b>, H::<b>LinearAlgebra.UpperHessenberg</b>) in LinearAlgebra at <a href=\"file:///cache/build/builder-amdci5-6/julialang/julia-release-1-dot-10/usr/share/julia/stdlib/v1.10/LinearAlgebra/src/hessenberg.jl\" target=\"_blank\">/usr/local/share/julia/stdlib/v1.10/LinearAlgebra/src/hessenberg.jl:120</a></li> <li> +(x::<b>Dates.Period</b>, r::<b>AbstractRange{<:Dates.TimeType}</b>) in Dates at <a href=\"file:///cache/build/builder-amdci5-6/julialang/julia-release-1-dot-10/usr/share/julia/stdlib/v1.10/Dates/src/ranges.jl\" target=\"_blank\">/usr/local/share/julia/stdlib/v1.10/Dates/src/ranges.jl:64</a></li> <li> +(y::<b>Dates.Period</b>, x::<b>Dates.TimeType</b>) in Dates at <a href=\"file:///cache/build/builder-amdci5-6/julialang/julia-release-1-dot-10/usr/share/julia/stdlib/v1.10/Dates/src/arithmetic.jl\" target=\"_blank\">/usr/local/share/julia/stdlib/v1.10/Dates/src/arithmetic.jl:87</a></li> <li> +(y::<b>Dates.Period</b>, x::<b>Dates.CompoundPeriod</b>) in Dates at <a href=\"file:///cache/build/builder-amdci5-6/julialang/julia-release-1-dot-10/usr/share/julia/stdlib/v1.10/Dates/src/periods.jl\" target=\"_blank\">/usr/local/share/julia/stdlib/v1.10/Dates/src/periods.jl:333</a></li> <li> +(x::<b>P</b>, y::<b>P</b>)<i> where P<:Dates.Period</i> in Dates at <a href=\"file:///cache/build/builder-amdci5-6/julialang/julia-release-1-dot-10/usr/share/julia/stdlib/v1.10/Dates/src/periods.jl\" target=\"_blank\">/usr/local/share/julia/stdlib/v1.10/Dates/src/periods.jl:75</a></li> <li> +(x::<b>Dates.Period</b>, y::<b>Dates.Period</b>) in Dates at <a href=\"file:///cache/build/builder-amdci5-6/julialang/julia-release-1-dot-10/usr/share/julia/stdlib/v1.10/Dates/src/periods.jl\" target=\"_blank\">/usr/local/share/julia/stdlib/v1.10/Dates/src/periods.jl:331</a></li> <li> +(x::<b>AbstractArray{<:Dates.TimeType}</b>, y::<b>Union{Dates.CompoundPeriod, Dates.Period}</b>) in Dates at <a href=\"file:///cache/build/builder-amdci5-6/julialang/julia-release-1-dot-10/usr/share/julia/stdlib/v1.10/Dates/src/deprecated.jl\" target=\"_blank\">/usr/local/share/julia/stdlib/v1.10/Dates/src/deprecated.jl:6</a></li> <li> +(A::<b>AbstractMatrix</b>, J::<b>LinearAlgebra.UniformScaling</b>) in LinearAlgebra at <a href=\"file:///cache/build/builder-amdci5-6/julialang/julia-release-1-dot-10/usr/share/julia/stdlib/v1.10/LinearAlgebra/src/uniformscaling.jl\" target=\"_blank\">/usr/local/share/julia/stdlib/v1.10/LinearAlgebra/src/uniformscaling.jl:214</a></li> <li> +(X::<b>StridedArray{<:Union{Dates.CompoundPeriod, Dates.Period}}</b>, Y::<b>StridedArray{<:Union{Dates.CompoundPeriod, Dates.Period}}</b>) in Dates at <a href=\"file:///cache/build/builder-amdci5-6/julialang/julia-release-1-dot-10/usr/share/julia/stdlib/v1.10/Dates/src/deprecated.jl\" target=\"_blank\">/usr/local/share/julia/stdlib/v1.10/Dates/src/deprecated.jl:62</a></li> <li> +(r1::<b>Union{LinRange, OrdinalRange, StepRangeLen}</b>, r2::<b>Union{LinRange, OrdinalRange, StepRangeLen}</b>) in Base at <a href=\"https://github.com/JuliaLang/julia/tree/5595d20a2877560583cd4891ce91605d10b1bb75/base/range.jl#L1470\" target=\"_blank\">range.jl:1470</a></li> <li> +(A::<b>AbstractArray</b>, B::<b>AbstractArray</b>) in Base at <a href=\"https://github.com/JuliaLang/julia/tree/5595d20a2877560583cd4891ce91605d10b1bb75/base/arraymath.jl#L6\" target=\"_blank\">arraymath.jl:6</a></li> <li> +(x::<b>StridedArray{<:Union{Dates.CompoundPeriod, Dates.Period}}</b>) in Dates at <a href=\"file:///cache/build/builder-amdci5-6/julialang/julia-release-1-dot-10/usr/share/julia/stdlib/v1.10/Dates/src/deprecated.jl\" target=\"_blank\">/usr/local/share/julia/stdlib/v1.10/Dates/src/deprecated.jl:55</a></li> <li> +(x::<b>AbstractArray{<:Number}</b>) in Base at <a href=\"https://github.com/JuliaLang/julia/tree/5595d20a2877560583cd4891ce91605d10b1bb75/base/abstractarraymath.jl#L220\" target=\"_blank\">abstractarraymath.jl:220</a></li> <li> +(y::<b>Union{Dates.CompoundPeriod, Dates.Period}</b>, x::<b>AbstractArray{<:Dates.TimeType}</b>) in Dates at <a href=\"file:///cache/build/builder-amdci5-6/julialang/julia-release-1-dot-10/usr/share/julia/stdlib/v1.10/Dates/src/deprecated.jl\" target=\"_blank\">/usr/local/share/julia/stdlib/v1.10/Dates/src/deprecated.jl:14</a></li> <li> +(x::<b>StridedArray{<:Union{Dates.CompoundPeriod, Dates.Period}}</b>, y::<b>Dates.TimeType</b>) in Dates at <a href=\"file:///cache/build/builder-amdci5-6/julialang/julia-release-1-dot-10/usr/share/julia/stdlib/v1.10/Dates/src/deprecated.jl\" target=\"_blank\">/usr/local/share/julia/stdlib/v1.10/Dates/src/deprecated.jl:10</a></li> <li> +(x::<b>Union{Dates.CompoundPeriod, Dates.Period}</b>) in Dates at <a href=\"file:///cache/build/builder-amdci5-6/julialang/julia-release-1-dot-10/usr/share/julia/stdlib/v1.10/Dates/src/periods.jl\" target=\"_blank\">/usr/local/share/julia/stdlib/v1.10/Dates/src/periods.jl:342</a></li> <li> +(a, b, c, xs...) in Base at <a href=\"https://github.com/JuliaLang/julia/tree/5595d20a2877560583cd4891ce91605d10b1bb75/base/operators.jl#L587\" target=\"_blank\">operators.jl:587</a></li> </ul>"
            ]
          },
          "metadata": {},
          "execution_count": 3
        }
      ]
    },
    {
      "cell_type": "markdown",
      "source": [
        "# Polymorphic multiple dispatch\n",
        "\n",
        "This application of different methods to a common function is known as polymorphic multiple\n",
        "dispatch and it is one of the key concepts in Julia you need to understand.\n",
        "\n",
        "Multiple dispatch is different from the overloading of operators existing in languages such as C++ because\n",
        "it is determined at run time, not compilation time. Later, when we introduce composite types, we will see a\n",
        "second difference: in Julia, methods are not defined within classes as you would do in most object-oriented\n",
        "languages.\n",
        "\n",
        "The previous paragraph may help to see why Julia is a strongly dynamically typed\n",
        "programming language. Being a typed language means that the type of each value must be\n",
        "known by the compiler at run time to decide which method to apply to that value. Being a\n",
        "dynamically typed language means that such knowledge can be either explicit (i.e., declared\n",
        "by the user) or implicit (i.e., deduced by Julia with an intelligent type inference engine from\n",
        "the context it is used). Dynamic typing makes developing code with Julia flexible and fast:\n",
        "you do not need to worry about explicitly type every value as you go along (i.e., declaring to\n",
        "which type the value belongs). Being a strongly typed language means that you cannot use\n",
        "a value of one type as another value, although you can convert it or let the compiler do it for\n",
        "you. For example, Julia follows a promotion system where values of different types being\n",
        "operated jointly are “promoted” to a common system: in the sum between an integer and a\n",
        "float, the integer is “promoted” to float.10 You can, nevertheless, impose that the compiler\n",
        "will not vary the type of a value to avoid subtle bugs in issues where the type is of critical\n",
        "importance such as array indexing and, sometimes, to improve performance by providing\n",
        "guidance to the JIT compiler on which methods to implement.\n",
        "\n",
        "You do not need, though, to remember the type tree hierarchy, since Julia provides you\n",
        "with commands to check the supertype (i.e., the type above a current type in the tree) and\n",
        "subtype (i.e., the types below) of any given type:"
      ],
      "metadata": {
        "id": "b8REnzN1omms"
      }
    },
    {
      "cell_type": "code",
      "source": [
        "supertype(Float64)"
      ],
      "metadata": {
        "colab": {
          "base_uri": "https://localhost:8080/"
        },
        "id": "5K3ldNF0pLK8",
        "outputId": "9dee4d4e-f871-4f68-c1bb-64ced9a6f049"
      },
      "execution_count": 2,
      "outputs": [
        {
          "output_type": "execute_result",
          "data": {
            "text/plain": [
              "AbstractFloat"
            ]
          },
          "metadata": {},
          "execution_count": 2
        }
      ]
    },
    {
      "cell_type": "code",
      "source": [
        "\n",
        "subtypes(Integer)"
      ],
      "metadata": {
        "colab": {
          "base_uri": "https://localhost:8080/"
        },
        "id": "D9oToJ9epFgE",
        "outputId": "90e82f11-02aa-4873-bfe3-46d946f1a33d"
      },
      "execution_count": 1,
      "outputs": [
        {
          "output_type": "execute_result",
          "data": {
            "text/plain": [
              "3-element Vector{Any}:\n",
              " Bool\n",
              " Signed\n",
              " Unsigned"
            ]
          },
          "metadata": {},
          "execution_count": 1
        }
      ]
    },
    {
      "cell_type": "markdown",
      "source": [
        "You can always check the type of a variable with"
      ],
      "metadata": {
        "id": "c_Ay8JDrpPck"
      }
    },
    {
      "cell_type": "code",
      "source": [
        "a = 10\n",
        "typeof(a)"
      ],
      "metadata": {
        "colab": {
          "base_uri": "https://localhost:8080/"
        },
        "id": "Y3JKweD1pUO0",
        "outputId": "490f62c1-534d-4367-9e94-1d5b82df6ef8"
      },
      "execution_count": 4,
      "outputs": [
        {
          "output_type": "execute_result",
          "data": {
            "text/plain": [
              "Int64"
            ]
          },
          "metadata": {},
          "execution_count": 4
        }
      ]
    },
    {
      "cell_type": "markdown",
      "source": [
        "## Variables\n",
        "\n",
        "By default, integers values will be Int64 and floating point values will be\n",
        "Float64 , but we also have shorter and longer types. Particularly\n",
        "useful for computations with absolute large numbers (this happens sometimes, for example,\n",
        "when evaluating likelihood functions), we have BigFloat. In the unlikely case that BigFloat\n",
        "does not provide you with enough precission, Julia can use the GNU Multiple Precision\n",
        "arithmetic (GMP) (https://gmplib.org/) and the GNU MPFR Libraries (http://www.\n",
        "mpfr.org/)."
      ],
      "metadata": {
        "id": "Mh0rpqJTqi8c"
      }
    },
    {
      "cell_type": "code",
      "source": [
        "a = 3 # integer\n",
        "a = 0x3 # unsigned integer, hexadecimal base\n",
        "a = 0b11 # unsigned integer, binary base\n",
        "a = 3.0 # Float64\n",
        "a = 4 + 3im # imaginary\n",
        "a = complex(4,3) # same as above\n",
        "a = true # boolean\n",
        "a = \"String\" # string"
      ],
      "metadata": {
        "colab": {
          "base_uri": "https://localhost:8080/"
        },
        "id": "R5UVYJg1qchE",
        "outputId": "2d10f9ab-76c6-46dc-e774-18b4b2a2aae9"
      },
      "execution_count": 8,
      "outputs": [
        {
          "output_type": "execute_result",
          "data": {
            "text/plain": [
              "\"String\""
            ]
          },
          "metadata": {},
          "execution_count": 8
        }
      ]
    },
    {
      "cell_type": "markdown",
      "source": [
        "# Minimum and Maximum for every type\n",
        "You can check the minimum and maximum value every type can store with the functions\n",
        "typemin() and typemax() , the machine precision of a type with eps() and, if it is a floating point, the effective bits in its mantissa by precision() . For example, for a\n",
        "Float64 :"
      ],
      "metadata": {
        "id": "9z8saLkzq2Oc"
      }
    },
    {
      "cell_type": "code",
      "source": [
        "typemin(Float64) # returns -Inf (just a convention)\n"
      ],
      "metadata": {
        "colab": {
          "base_uri": "https://localhost:8080/"
        },
        "id": "U0TgR434q_hs",
        "outputId": "c7c6b348-ee0f-461f-93a4-8b36e6a3970d"
      },
      "execution_count": 7,
      "outputs": [
        {
          "output_type": "execute_result",
          "data": {
            "text/plain": [
              "-Inf"
            ]
          },
          "metadata": {},
          "execution_count": 7
        }
      ]
    },
    {
      "cell_type": "code",
      "source": [
        "typemax(Float64) # returns Inf (just a convention)\n"
      ],
      "metadata": {
        "colab": {
          "base_uri": "https://localhost:8080/"
        },
        "id": "p8PP0hKlkTaR",
        "outputId": "daa33903-7862-4028-b634-2e56bb6be7a4"
      },
      "execution_count": 8,
      "outputs": [
        {
          "output_type": "execute_result",
          "data": {
            "text/plain": [
              "Inf"
            ]
          },
          "metadata": {},
          "execution_count": 8
        }
      ]
    },
    {
      "cell_type": "code",
      "source": [
        "eps(Float64) # returns 2.22e-16\n"
      ],
      "metadata": {
        "colab": {
          "base_uri": "https://localhost:8080/"
        },
        "id": "W0dTLpQTkViI",
        "outputId": "226556ad-e4be-493c-b4e5-8d8fcc117e54"
      },
      "execution_count": 9,
      "outputs": [
        {
          "output_type": "execute_result",
          "data": {
            "text/plain": [
              "2.220446049250313e-16"
            ]
          },
          "metadata": {},
          "execution_count": 9
        }
      ]
    },
    {
      "cell_type": "code",
      "source": [
        "precision(Float64) # returns 53"
      ],
      "metadata": {
        "colab": {
          "base_uri": "https://localhost:8080/"
        },
        "id": "LfqgPsBEkW-g",
        "outputId": "78469744-cb69-447a-f52e-d76397838f7e"
      },
      "execution_count": 10,
      "outputs": [
        {
          "output_type": "execute_result",
          "data": {
            "text/plain": [
              "53"
            ]
          },
          "metadata": {},
          "execution_count": 10
        }
      ]
    },
    {
      "cell_type": "markdown",
      "source": [
        "Larger or smaller numbers than the limits will return an overflow error. You can also check\n",
        "the binary representation of a value:"
      ],
      "metadata": {
        "id": "r5bAqcdRrFmM"
      }
    },
    {
      "cell_type": "code",
      "source": [
        "a = 1\n",
        "bitstring(a) # binary representation of a"
      ],
      "metadata": {
        "colab": {
          "base_uri": "https://localhost:8080/"
        },
        "id": "CtfNYuBprIjr",
        "outputId": "09c33d17-f2a2-47e8-f679-6706e076a6a6"
      },
      "execution_count": 10,
      "outputs": [
        {
          "output_type": "execute_result",
          "data": {
            "text/plain": [
              "\"0000000000000000000000000000000000000000000000000000000000000001\""
            ]
          },
          "metadata": {},
          "execution_count": 10
        }
      ]
    },
    {
      "cell_type": "markdown",
      "source": [
        "## Arithmetic Operators\n",
        "\n",
        "Julia can handle all the common arithmetic operators:\n",
        "+ - * / ^ # arithmetic operations\n",
        "\n",
        "+. -. *. /. ^. # element-by-element operations (for vectors and matrices)\n",
        "\n",
        "// # division for rationals that produces another rational\n",
        "\n",
        "+a # identity operator\n",
        "\n",
        "-a # negative of a\n",
        "\n",
        "a+=1 # a = a+1, can be applied to any operator\n",
        "\n",
        "a\\b # b/a\n",
        "\n",
        "div(a,b) # a/b, truncated to an integer\n",
        "\n",
        "cld(a,b) # ceiling division\n",
        "\n",
        "fld(a,b) # flooring division\n",
        "\n",
        "rem(a,b) # remainder of a/b\n",
        "\n",
        "mod(a,b) # module a,b\n",
        "\n",
        "mod1(a,b) # module a,b after flooring division\n",
        "\n",
        "gcd(a,b) # greatest positive common denominator of a,b\n",
        "\n",
        "gcdx(a,b) # gcd of a and and and their minimal Bezout coefficients\n",
        "\n",
        "lcm(a,b) # least common multiple of a,b\n",
        "\n",
        "and some min-max operators\n",
        "\n",
        "min(a,b) # min of a and (can take as many arguments as desired)\n",
        "\n",
        "max(a,b) # max of a and (can take as many arguments as desired)\n",
        "\n",
        "minmax(a,b) # min and max of a and b (a tuple return)\n",
        "\n",
        "muladd(a,b,c) # a*b+c\n",
        "\n",
        "Note, in particular, the use of the . to vectorize an operation (i.e., to apply an operation\n",
        "to a vector or matrix instead of an scalar). While Julia does not require vectorized code to\n",
        "achieve high performance (this is delivered through multiple dispatch and JIT compilation),\n",
        "vectorized code is often easier to write, read, and debug.\n",
        "\n",
        "Julia also accepts the alternative\n",
        "notation\n",
        "+(a,b)"
      ],
      "metadata": {
        "id": "_cyEFiLMhpMR"
      }
    },
    {
      "cell_type": "markdown",
      "source": [
        "# Logical Operators\n",
        "\n",
        "Julia has all the widely-used logical operators:\n",
        "! # not\n",
        "\n",
        "&& # and\n",
        "\n",
        "|| # or\n",
        "\n",
        "== # is equal?\n",
        "\n",
        "!== # is not equal?\n",
        "\n",
        "=== # is equal? (enforcing type 2===2.0 is false\n",
        "\n",
        "\\> # bigger than\n",
        "\n",
        "\\>= # bigger or equal than\n",
        "\n",
        "< # less than\n",
        "\n",
        "<= # less or equal than\n",
        "\n",
        "Logical operators can be linked with as much depth as desired:\n",
        "\n",
        "3 > 2 && 4<=8 || 7 < 7.1\n",
        "\n",
        "Note that the logical operators are lazy in Julia (in fact, all functions in Julia are lazy and\n",
        "logical operators are just one example of functions). That is, they are only evaluated when\n",
        "needed:\n",
        "\n",
        "2 > 3 && println(\"I am lazy\")"
      ],
      "metadata": {
        "id": "47sXKZSsh80R"
      }
    },
    {
      "cell_type": "markdown",
      "source": [
        "# Arrays\n",
        "\n",
        "Julia makes arrays first-class components of the\n",
        "language. An array is an ordered collection of objects stored in a multi-dimensional grid. For\n",
        "example, an abstract 2 × 2 array of floats can be created with the simple constructor:\n",
        "\n",
        "a = Array{Float64}(undef,2,2)\n",
        "\n"
      ],
      "metadata": {
        "id": "ZT0XGWvSinpy"
      }
    },
    {
      "cell_type": "code",
      "source": [
        "a = Array{Float64}(undef,2,2)"
      ],
      "metadata": {
        "colab": {
          "base_uri": "https://localhost:8080/"
        },
        "id": "1WgkPIHciweA",
        "outputId": "f026d81b-5bc6-44ab-ccad-8fc8368c04da"
      },
      "execution_count": 1,
      "outputs": [
        {
          "output_type": "execute_result",
          "data": {
            "text/plain": [
              "2×2 Matrix{Float64}:\n",
              " 6.4758e-319   0.0\n",
              " 6.78098e-310  0.0"
            ]
          },
          "metadata": {},
          "execution_count": 1
        }
      ]
    },
    {
      "cell_type": "markdown",
      "source": [
        "Arrays can contain objects of any arbitrary type:"
      ],
      "metadata": {
        "id": "cKecDvmci7JA"
      }
    },
    {
      "cell_type": "code",
      "source": [
        "a = [\"Economics\" 2;\n",
        "3.1 true]"
      ],
      "metadata": {
        "colab": {
          "base_uri": "https://localhost:8080/"
        },
        "id": "Eo8Mdnzpi6Mg",
        "outputId": "6d37076f-d9af-488e-e9cd-c5147224fe7e"
      },
      "execution_count": 2,
      "outputs": [
        {
          "output_type": "execute_result",
          "data": {
            "text/plain": [
              "2×2 Matrix{Any}:\n",
              "  \"Economics\"     2\n",
              " 3.1           true"
            ]
          },
          "metadata": {},
          "execution_count": 2
        }
      ]
    },
    {
      "cell_type": "markdown",
      "source": [
        "Component a[1,1] is a string, component a[1,2] is an integer, component a[2,1] is a\n",
        "float, and component a[2,1] is a boolean. Note that the access to an element of the array\n",
        "is with square brackets [] , not with circular brackets () as in Matlab.\n",
        "\n",
        "While Julia has specific Vector and Matrix types, these types are nothing but aliases\n",
        "for one- and two-dimensional arrays (one dimensional arrays are also called flat arrays). Thus,\n",
        "when no ambiguity occurs, and to facilitate explanation, we will refer to one-dimensional\n",
        "arrays of numbers (integers, reals, complex) as vectors and to two-dimensional arrays of\n",
        "numbers as matrices.\n",
        "\n",
        "Note that Julia indexes arrays starting a 1, not at 0 as C/C++. For scientific computations Julia’s\n",
        "convention is the only sensible approach.\n",
        "\n",
        "A fundamental property of arrays is that, in Julia, they are passed by reference. This\n",
        "means that two arrays that have been made equal point out to the same data in memory and\n",
        "that changing one array changes the other as well."
      ],
      "metadata": {
        "id": "NnqfHgZsjDJh"
      }
    },
    {
      "cell_type": "code",
      "source": [
        "a = [\"My string\" 2; 3.1 true]\n",
        "b = a\n",
        "a[1,1] = \"Example of passing by reference\"\n",
        "b[1, 1]"
      ],
      "metadata": {
        "colab": {
          "base_uri": "https://localhost:8080/"
        },
        "id": "fiHZ4JXejWvh",
        "outputId": "4972aed5-e4ed-4003-eae1-1a507edeaa51"
      },
      "execution_count": 3,
      "outputs": [
        {
          "output_type": "execute_result",
          "data": {
            "text/plain": [
              "\"Example of passing by reference\""
            ]
          },
          "metadata": {},
          "execution_count": 3
        }
      ]
    },
    {
      "cell_type": "markdown",
      "source": [
        "\n",
        "\n",
        "This can be easily checked by the typing"
      ],
      "metadata": {
        "id": "Tldxh5zojdRI"
      }
    },
    {
      "cell_type": "code",
      "source": [
        "pointer_from_objref(a)"
      ],
      "metadata": {
        "colab": {
          "base_uri": "https://localhost:8080/"
        },
        "id": "0mi-kN4QjpYC",
        "outputId": "04415456-5e54-44aa-f618-f9eea3f5b6ce"
      },
      "execution_count": 4,
      "outputs": [
        {
          "output_type": "execute_result",
          "data": {
            "text/plain": [
              "Ptr{Nothing} @0x00007cd3b44c29a0"
            ]
          },
          "metadata": {},
          "execution_count": 4
        }
      ]
    },
    {
      "cell_type": "code",
      "source": [
        "pointer_from_objref(b)"
      ],
      "metadata": {
        "colab": {
          "base_uri": "https://localhost:8080/"
        },
        "id": "M2RRI32hjthi",
        "outputId": "75396b86-45ae-4a20-e36f-e3976d5fa89f"
      },
      "execution_count": 5,
      "outputs": [
        {
          "output_type": "execute_result",
          "data": {
            "text/plain": [
              "Ptr{Nothing} @0x00007cd3b44c29a0"
            ]
          },
          "metadata": {},
          "execution_count": 5
        }
      ]
    },
    {
      "cell_type": "markdown",
      "source": [
        "and observing that both memory addresses are the same."
      ],
      "metadata": {
        "id": "6zo1AC0EjzVq"
      }
    },
    {
      "cell_type": "markdown",
      "source": [
        "# Vectors\n",
        "The definition of vectors in Julia is straightforward"
      ],
      "metadata": {
        "id": "Fkg4jwnMkxbh"
      }
    },
    {
      "cell_type": "code",
      "source": [
        "a = [1, 2, 3] # vector"
      ],
      "metadata": {
        "id": "VNqiZE7Ok3Ox"
      },
      "execution_count": null,
      "outputs": []
    },
    {
      "cell_type": "code",
      "source": [
        "a = [1; 2; 3] # same vector"
      ],
      "metadata": {
        "id": "4hm3n5dpk47Z"
      },
      "execution_count": null,
      "outputs": []
    },
    {
      "cell_type": "markdown",
      "source": [
        "Both instructions create an array{Int64, 1} , or its alias Vector{Int64} . However, you\n",
        "must note that:"
      ],
      "metadata": {
        "id": "jyoZeWLpk8k5"
      }
    },
    {
      "cell_type": "code",
      "source": [
        "b = [1 2 3] # 1x3 matrix (i.e., row vector)\n",
        "b = [1 2 3]' # 3x1 matrix (i.e., column vector)"
      ],
      "metadata": {
        "id": "N029aRaNlAUh"
      },
      "execution_count": null,
      "outputs": []
    },
    {
      "cell_type": "markdown",
      "source": [
        "generate an 1 × 3 array{Int64, 2} (i.e., 1 × 3 matrix) and an 3 × 1 array{Int64, 2}\n",
        "(i.e., 3 × 1 matrix), or its alias Matrix{Int64} . Therefore:"
      ],
      "metadata": {
        "id": "fiCpURzIlE3h"
      }
    },
    {
      "cell_type": "code",
      "source": [
        "a = [1, 2, 3]\n",
        "b = [1 2 3]\n",
        "a == b"
      ],
      "metadata": {
        "colab": {
          "base_uri": "https://localhost:8080/"
        },
        "id": "x-Urd18xlGdp",
        "outputId": "40f4a580-169d-4537-a3f7-16df110a2b39"
      },
      "execution_count": 11,
      "outputs": [
        {
          "output_type": "execute_result",
          "data": {
            "text/plain": [
              "false"
            ]
          },
          "metadata": {},
          "execution_count": 11
        }
      ]
    },
    {
      "cell_type": "markdown",
      "source": [
        "returns false , as we are comparing a flat array with a 1 × 3 array{Int64, 2} . Similarly,\n",
        "a vector and a n × 1 matrix (i.e., a column vector) are different objects as well. Having both\n",
        "vectors and matrices helps with the implementation of some operations in linear algebra.\n",
        "In many applications, you might then prefer to use matrices even when dealing with onedimensional objects to avoid complications of mixing vectors and matrices. Most of operators\n",
        "of manipulation of vectors below will apply to matrices without problems. But in other\n",
        "applications you may want to be careful separating vectors from matrices.\n",
        "\n",
        "A faster command to created vectors is collect() :"
      ],
      "metadata": {
        "id": "FHqOGWMklI0J"
      }
    },
    {
      "cell_type": "code",
      "source": [
        "a = collect(1.0:0.5:4) # vector from 1.0 to 4.0 with step 0.5"
      ],
      "metadata": {
        "colab": {
          "base_uri": "https://localhost:8080/"
        },
        "id": "Sisv0xBPlS9x",
        "outputId": "189c548a-d846-4e7a-9a8f-9b5e12e6eb5e"
      },
      "execution_count": 13,
      "outputs": [
        {
          "output_type": "execute_result",
          "data": {
            "text/plain": [
              "7-element Vector{Float64}:\n",
              " 1.0\n",
              " 1.5\n",
              " 2.0\n",
              " 2.5\n",
              " 3.0\n",
              " 3.5\n",
              " 4.0"
            ]
          },
          "metadata": {},
          "execution_count": 13
        }
      ]
    },
    {
      "cell_type": "markdown",
      "source": [
        "Similarly, Julia has step range constructors"
      ],
      "metadata": {
        "id": "knAM88rLlVTy"
      }
    },
    {
      "cell_type": "code",
      "source": [
        "i = 1\n",
        "n = 10\n",
        "j = 2\n",
        "k = 10\n",
        "a = i:j:n # list of points from i to n with step j\n"
      ],
      "metadata": {
        "colab": {
          "base_uri": "https://localhost:8080/"
        },
        "id": "E-WZCpIXlXwx",
        "outputId": "4ddc93bc-2924-4e68-d4cc-e5e22635f208"
      },
      "execution_count": 26,
      "outputs": [
        {
          "output_type": "execute_result",
          "data": {
            "text/plain": [
              "1:2:9"
            ]
          },
          "metadata": {},
          "execution_count": 26
        }
      ]
    },
    {
      "cell_type": "code",
      "source": [
        "a = range(1, 5, length=k) # linearly spaced list of k points"
      ],
      "metadata": {
        "colab": {
          "base_uri": "https://localhost:8080/"
        },
        "id": "JMP6k9-nnOTD",
        "outputId": "59d27d6c-4cad-42da-f5f0-2aa9076005f3"
      },
      "execution_count": 25,
      "outputs": [
        {
          "output_type": "execute_result",
          "data": {
            "text/plain": [
              "1.0:0.4444444444444444:5.0"
            ]
          },
          "metadata": {},
          "execution_count": 25
        }
      ]
    },
    {
      "cell_type": "markdown",
      "source": [
        "that generate lists of points that are not vectors. You can always transform them back into\n",
        "vectors with collect() or the ellipse:"
      ],
      "metadata": {
        "id": "znofI2o2lcfJ"
      }
    },
    {
      "cell_type": "code",
      "source": [
        "i = 1\n",
        "n = 10\n",
        "j = 2\n",
        "a = i:j:n # a list of points\n",
        "b = collect(a) # creates a vector\n"
      ],
      "metadata": {
        "colab": {
          "base_uri": "https://localhost:8080/"
        },
        "id": "fKt82f_OlgGh",
        "outputId": "8a73ba81-f87c-40af-a595-8c663c5fd13d"
      },
      "execution_count": 27,
      "outputs": [
        {
          "output_type": "execute_result",
          "data": {
            "text/plain": [
              "5-element Vector{Int64}:\n",
              " 1\n",
              " 3\n",
              " 5\n",
              " 7\n",
              " 9"
            ]
          },
          "metadata": {},
          "execution_count": 27
        }
      ]
    },
    {
      "cell_type": "markdown",
      "source": [
        "The basic operators to manipulate vectors include:\n",
        "\n",
        "show(a) # shows a\n",
        "\n",
        "sum(a) # sum of a\n",
        "\n",
        "maximum(a) # max of a\n",
        "\n",
        "minimum(a) # min of a\n",
        "\n",
        "a[end] # gets last element of a\n",
        "\n",
        "a[end-1] # gets element of a -1\n",
        "\n",
        "Also, we can sort them:18\n",
        "\n",
        "a = [2,1,3]\n",
        "\n",
        "sort(a) # sorts a\n",
        "\n",
        "sort(a,by=abs) # sorts a by absolute values\n",
        "\n",
        "sortperm(a) # indices of sort of a\n",
        "\n",
        "find the start and end\n",
        "\n",
        "first(a) # returns 2\n",
        "\n",
        "last(a) # returns 3\n",
        "\n",
        "or any arbitrary elements in them:\n",
        "\n",
        "a = [2,1,3]\n",
        "\n",
        "first(a) # returns 2\n",
        "\n",
        "last(a) # returns 3\n",
        "\n",
        "findall(isodd,a) # returns indices of occurrences (here 2,3)\n",
        "\n",
        "Note that we can check in any collection, including arrays, the presence of an element\n",
        "with the short yet powerful function in :\n",
        "\n",
        "a = [1,2,3]\n",
        "\n",
        "2 in a # returns true\n",
        "\n",
        "in(2,a) # same as above\n",
        "\n",
        "4 in a # returns false"
      ],
      "metadata": {
        "id": "yBfKFELDnl3h"
      }
    },
    {
      "cell_type": "code",
      "source": [
        "a = [1,2,3]"
      ],
      "metadata": {
        "colab": {
          "base_uri": "https://localhost:8080/"
        },
        "id": "grA4yL4zn6yL",
        "outputId": "ab082da5-df69-4daf-97fd-3257fd1b7295"
      },
      "execution_count": 28,
      "outputs": [
        {
          "output_type": "execute_result",
          "data": {
            "text/plain": [
              "3-element Vector{Int64}:\n",
              " 1\n",
              " 2\n",
              " 3"
            ]
          },
          "metadata": {},
          "execution_count": 28
        }
      ]
    },
    {
      "cell_type": "code",
      "source": [
        "2 in a # returns true"
      ],
      "metadata": {
        "colab": {
          "base_uri": "https://localhost:8080/"
        },
        "id": "UbkxtBIRoAUh",
        "outputId": "d84d51fc-1760-477f-afe5-ef7bb387a8fb"
      },
      "execution_count": 29,
      "outputs": [
        {
          "output_type": "execute_result",
          "data": {
            "text/plain": [
              "true"
            ]
          },
          "metadata": {},
          "execution_count": 29
        }
      ]
    },
    {
      "cell_type": "code",
      "source": [
        "in(2,a) # same as above"
      ],
      "metadata": {
        "colab": {
          "base_uri": "https://localhost:8080/"
        },
        "id": "tiQdCxXjoCzA",
        "outputId": "88fcd993-dd12-43b2-dfa9-9665e7c5d4ad"
      },
      "execution_count": 30,
      "outputs": [
        {
          "output_type": "execute_result",
          "data": {
            "text/plain": [
              "true"
            ]
          },
          "metadata": {},
          "execution_count": 30
        }
      ]
    },
    {
      "cell_type": "code",
      "source": [
        "4 in a # returns false"
      ],
      "metadata": {
        "colab": {
          "base_uri": "https://localhost:8080/"
        },
        "id": "BZdKPzK0oEsZ",
        "outputId": "575d6f1a-0ccd-4527-ba11-5e4e44e7bd7b"
      },
      "execution_count": 31,
      "outputs": [
        {
          "output_type": "execute_result",
          "data": {
            "text/plain": [
              "false"
            ]
          },
          "metadata": {},
          "execution_count": 31
        }
      ]
    },
    {
      "cell_type": "markdown",
      "source": [
        "# Julia convention: The use of ! at the end of a function:\n",
        "\n",
        "The suffix means that the function is changing the operand. For example:\n",
        "\n",
        "sort!(a) # sorts a and changes it\n",
        "\n",
        "popfirst!(a) # eliminates first element of a\n",
        "\n",
        "pushfirst!(a,c) # adds c as an additional element of a at its start\n",
        "\n",
        "pop!(a) # eliminates last element of a\n",
        "\n",
        "push!(a,c) # adds c as an additional element of a at its end"
      ],
      "metadata": {
        "id": "6fjZ4TNioIVh"
      }
    },
    {
      "cell_type": "markdown",
      "source": [
        "# Matrices\n",
        "\n",
        "More concrete examples of matrix commands (most of the commands for vectors will also\n",
        "apply to matrices):\n",
        "\n",
        "a = [1 2; 3 4] # create a 2x2 matrix\n",
        "\n",
        "a[2, 2] # access element 2,2\n",
        "\n",
        "a[1, :] # access first row\n",
        "\n",
        "a[:, 1] # access first column\n",
        "\n",
        "a = zeros(2,2) # zero matrix\n",
        "\n",
        "a = ones(2,2) # unitary matrix\n",
        "\n",
        "a = fill(2,3,4) # fill a 3x4 matrix with 2's\n",
        "\n",
        "a = trues(2,2) # 2x2 matrix of trues\n",
        "\n",
        "a = falses(2,2) # 2x2 matrix of falses\n",
        "\n",
        "a = rand(2,2) # random matrix (uniform)\n",
        "\n",
        "a = randn(2,2) # random matrix (gaussian)\n",
        "\n",
        "If we want to repeat a matrix to take advantage of some inner structure:\n",
        "\n",
        "a = [1 2; 3 4] # create a 2x2 matrix\n",
        "\n",
        "b = repeat(a, 2,3) # repeats matrix 2x3 times\n",
        "\n",
        "Matrices (and other multidimensional arrays) are stored in column-major order (as in\n",
        "BLAS and LAPACK).\n"
      ],
      "metadata": {
        "id": "VSXpcfMdoZNy"
      }
    },
    {
      "cell_type": "markdown",
      "source": [
        "# The Basic Operations with Matrices\n",
        "\n",
        "a' # complex conjugate transpose of a\n",
        "\n",
        "a[:] # convert matrix a to vector\n",
        "\n",
        "vec(a) # vectorization of a\n",
        "\n",
        "a*B # multiplication of two matrices\n",
        "\n",
        "a\\b # solution of linear system ax = b\n",
        "\n",
        "A few more advanced operations with matrices:\n",
        "\n",
        "inv(a) # inverse of a\n",
        "\n",
        "rank(a) # rank of a\n",
        "\n",
        "norm(a) # Euclidean norm of a\n",
        "\n",
        "det(a) # determinant of a\n",
        "\n",
        "trace(a) # trace of a\n",
        "\n",
        "eigen(a) # eigenvalues and eigenvectors\n",
        "\n",
        "\n"
      ],
      "metadata": {
        "id": "iYwPdkIko41Z"
      }
    },
    {
      "cell_type": "markdown",
      "source": [
        "# I/O\n",
        "\n",
        "Julia works in streams of data for I/O. The basic printing functionality is\n",
        "a = 1\n",
        "print(a) # basic printing functionality, no formatting\n",
        "println(a) # as before, plus a newline\n",
        "\n",
        "The basic reading functionality is\n",
        "\n",
        "a = readline()\n",
        "\n",
        "To deal with files, one needs to open them with a mode of operation and get a handle\n",
        "\n",
        "f = open(\"results.txt\", \"r\") # open file \"results.txt\"\n",
        "\n",
        "The modes of operation of the file are:\n",
        "\n",
        "r read\n",
        "\n",
        "r+ read, write\n",
        "\n",
        "w write, create, truncate\n",
        "\n",
        "w+ read, write, create, truncate\n",
        "\n",
        "a write, create, append\n",
        "\n",
        "a+ read, write, create, append"
      ],
      "metadata": {
        "id": "2z2WqsdEpN84"
      }
    },
    {
      "cell_type": "code",
      "source": [
        "a = 1\n",
        "print(a) # basic printing functionality, no formatting\n",
        "println(a) # as before, plus a newline\n",
        "\n"
      ],
      "metadata": {
        "colab": {
          "base_uri": "https://localhost:8080/"
        },
        "id": "xlbQ0tGLrvsR",
        "outputId": "e7e531b3-a99d-43aa-ddf1-f18a1980059d"
      },
      "execution_count": 50,
      "outputs": [
        {
          "output_type": "stream",
          "name": "stdout",
          "text": [
            "11\n"
          ]
        }
      ]
    },
    {
      "cell_type": "markdown",
      "source": [
        "# Functions\n",
        "\n",
        "In the tradition of programming languages in the functional approach, Julia considers functions “first-class citizens” (i.e., an entity that can implement all the operations -which are\n",
        "themselves functions- available to other entities). This means, among other things, that\n",
        "Julia likes to work with functions without side effects and that you can follow the recent\n",
        "boom in functional programming without jumping into purely functional language.\n",
        "\n",
        "Recall that functions in Julia use methods with multiple dispatch: each function can\n",
        "be associated with hundreds of different methods. Furthermore, you can add methods to an\n",
        "already existing function.\n",
        "\n",
        "There are two ways to create a function"
      ],
      "metadata": {
        "id": "IUmESVsYppg5"
      }
    },
    {
      "cell_type": "code",
      "source": [
        "# One-line\n",
        "myfunction1(var) = var+1\n",
        "\n",
        "# Several lines\n",
        "function myfunction2(var1, var2=\"Float64\", var3=1)\n",
        "  output1 = var1+2\n",
        "  output2 = var2+4\n",
        "  output3 = var3+3 # var3 is optional, by default var3=1\n",
        "  return [output1 output2 output3]\n",
        "end"
      ],
      "metadata": {
        "id": "XE4HX6mgpymp"
      },
      "execution_count": null,
      "outputs": []
    },
    {
      "cell_type": "markdown",
      "source": [
        "Note that tab indentation is not required by Julia; we only introduce it for visual appeal. In\n",
        "the second function, var2 = ”F loat64” fixed the type of the second argument and var3 = 1\n",
        "pins a default value for the third argument, which becomes optional. We can also have\n",
        "keyword argument, which can be ommitted"
      ],
      "metadata": {
        "id": "QIE5mvH-p6iC"
      }
    },
    {
      "cell_type": "code",
      "source": [
        "function myfunction3(var1, var2; keyword=2)\n",
        "  output1 = var1+var2+keyword\n",
        "end"
      ],
      "metadata": {
        "id": "os6JcC1Fp-Wp"
      },
      "execution_count": null,
      "outputs": []
    },
    {
      "cell_type": "markdown",
      "source": [
        "The difference between an optional argument and a keyword is that the keyword can appear\n",
        "in any place of the function call while the optional argument must appear in order"
      ],
      "metadata": {
        "id": "Q4mIxrmxqCyp"
      }
    },
    {
      "cell_type": "markdown",
      "source": [
        "To have several methods associated to a function, you only need to specify the type of\n",
        "the operands:"
      ],
      "metadata": {
        "id": "nolN6bq1qKtx"
      }
    },
    {
      "cell_type": "code",
      "source": [
        "function myfunction3(var1::Int64, var2; keyword=2)\n",
        "  output1 = var1+var2+keyword\n",
        "end\n",
        "function myfunction3(var1::Float64, var2; keyword=2)\n",
        "  output1 = var1/var2+keyword\n",
        "end\n",
        "myfunction3(2,1) # returns 5\n"
      ],
      "metadata": {
        "colab": {
          "base_uri": "https://localhost:8080/"
        },
        "id": "2TxrUWw2qOBB",
        "outputId": "61e03fd2-fc89-4e33-d53a-1a1a834d2508"
      },
      "execution_count": 33,
      "outputs": [
        {
          "output_type": "execute_result",
          "data": {
            "text/plain": [
              "5"
            ]
          },
          "metadata": {},
          "execution_count": 33
        }
      ]
    },
    {
      "cell_type": "code",
      "source": [
        "myfunction3(2.0,1) # returns 4.0"
      ],
      "metadata": {
        "colab": {
          "base_uri": "https://localhost:8080/"
        },
        "id": "bzVxXU0WqTih",
        "outputId": "d545e776-45f7-4498-b97f-b5cab13958fc"
      },
      "execution_count": 34,
      "outputs": [
        {
          "output_type": "execute_result",
          "data": {
            "text/plain": [
              "4.0"
            ]
          },
          "metadata": {},
          "execution_count": 34
        }
      ]
    },
    {
      "cell_type": "markdown",
      "source": [
        "# Recursion\n",
        "\n",
        "Recursion is a function that calls itself:"
      ],
      "metadata": {
        "id": "fX5bXy9Lqqmp"
      }
    },
    {
      "cell_type": "code",
      "source": [
        "fib(n) = n < 2 ? n : fib(n-1) + fib(n-2)"
      ],
      "metadata": {
        "colab": {
          "base_uri": "https://localhost:8080/"
        },
        "id": "JZjJ2CvWq2Vi",
        "outputId": "d95f907f-e95c-48f8-f71e-183c8d9be687"
      },
      "execution_count": 35,
      "outputs": [
        {
          "output_type": "execute_result",
          "data": {
            "text/plain": [
              "fib (generic function with 1 method)"
            ]
          },
          "metadata": {},
          "execution_count": 35
        }
      ]
    },
    {
      "cell_type": "code",
      "source": [
        "fib(6)"
      ],
      "metadata": {
        "colab": {
          "base_uri": "https://localhost:8080/"
        },
        "id": "Ra_eGi5iq4EB",
        "outputId": "2a8affbb-a367-420f-c024-8d9f01c6d6b0"
      },
      "execution_count": 37,
      "outputs": [
        {
          "output_type": "execute_result",
          "data": {
            "text/plain": [
              "8"
            ]
          },
          "metadata": {},
          "execution_count": 37
        }
      ]
    },
    {
      "cell_type": "markdown",
      "source": [
        "# MapReduce\n",
        "\n",
        "Julia supports generic function applicators. First, we have map() :"
      ],
      "metadata": {
        "id": "1uZFsx5Ruedj"
      }
    },
    {
      "cell_type": "code",
      "source": [
        "map(floor,[1.2, 5.6, 2.3]) # applies floor to vector [1.2, 5.6, 2.3]\n",
        "map(x ->x^2,[1.2, 5.6, 2.3]) # applies abstract to vector [1.2, 5.6, 2.3]"
      ],
      "metadata": {
        "colab": {
          "base_uri": "https://localhost:8080/"
        },
        "id": "ZF55OhnAuowZ",
        "outputId": "972b359f-ca5a-4776-c2ee-6330660e0b07"
      },
      "execution_count": 51,
      "outputs": [
        {
          "output_type": "execute_result",
          "data": {
            "text/plain": [
              "3-element Vector{Float64}:\n",
              "  1.44\n",
              " 31.359999999999996\n",
              "  5.289999999999999"
            ]
          },
          "metadata": {},
          "execution_count": 51
        }
      ]
    },
    {
      "cell_type": "markdown",
      "source": [
        "map() also works for multiple inputs:"
      ],
      "metadata": {
        "id": "MqH87R7putFJ"
      }
    },
    {
      "cell_type": "code",
      "source": [
        "map((x,y) ->x+2*y,[1,2], [3,4])"
      ],
      "metadata": {
        "colab": {
          "base_uri": "https://localhost:8080/"
        },
        "id": "Y-bi1wKduxFp",
        "outputId": "399bb8f5-d7dc-4bd8-c7a7-949cc68a7095"
      },
      "execution_count": 52,
      "outputs": [
        {
          "output_type": "execute_result",
          "data": {
            "text/plain": [
              "2-element Vector{Int64}:\n",
              "  7\n",
              " 10"
            ]
          },
          "metadata": {},
          "execution_count": 52
        }
      ]
    },
    {
      "cell_type": "markdown",
      "source": [
        "An alternative syntax is with do-end"
      ],
      "metadata": {
        "id": "xcx4YzvGu5Eh"
      }
    },
    {
      "cell_type": "code",
      "source": [
        "map([1.2, 5.6, 2.3]) do x\n",
        "  floor(x)\n",
        "end"
      ],
      "metadata": {
        "colab": {
          "base_uri": "https://localhost:8080/"
        },
        "id": "s6ABxhiyu6MB",
        "outputId": "eac5b4d8-e76b-4683-c3de-e02d038b35e4"
      },
      "execution_count": 53,
      "outputs": [
        {
          "output_type": "execute_result",
          "data": {
            "text/plain": [
              "3-element Vector{Float64}:\n",
              " 1.0\n",
              " 5.0\n",
              " 2.0"
            ]
          },
          "metadata": {},
          "execution_count": 53
        }
      ]
    },
    {
      "cell_type": "markdown",
      "source": [
        "Second, we have reduce() and associated folding functions"
      ],
      "metadata": {
        "id": "1rdEMFQou-rR"
      }
    },
    {
      "cell_type": "code",
      "source": [
        "reduce(+,[1,2,3]) # generic reduce\n",
        "foldl(-,[1,2,3]) # folding (reduce) from the left\n",
        "foldr(-,[1,2,3]) # folding (reduce) from the right"
      ],
      "metadata": {
        "colab": {
          "base_uri": "https://localhost:8080/"
        },
        "id": "PtzCpGs1vBnZ",
        "outputId": "5aebbc52-9d9a-44ce-a8b0-bf5f7014c17e"
      },
      "execution_count": 54,
      "outputs": [
        {
          "output_type": "execute_result",
          "data": {
            "text/plain": [
              "2"
            ]
          },
          "metadata": {},
          "execution_count": 54
        }
      ]
    },
    {
      "cell_type": "markdown",
      "source": [
        "Third, we can directly apply mapreduce()"
      ],
      "metadata": {
        "id": "cZrnRzMcvFGx"
      }
    },
    {
      "cell_type": "code",
      "source": [
        "mapreduce(x->x^2, +, [1,3])"
      ],
      "metadata": {
        "colab": {
          "base_uri": "https://localhost:8080/"
        },
        "id": "7xNN2qIqvIo5",
        "outputId": "075a7102-6e9e-4940-a723-1dfcc538e837"
      },
      "execution_count": 55,
      "outputs": [
        {
          "output_type": "execute_result",
          "data": {
            "text/plain": [
              "10"
            ]
          },
          "metadata": {},
          "execution_count": 55
        }
      ]
    },
    {
      "cell_type": "markdown",
      "source": [
        "Finally, we have the related function filter()"
      ],
      "metadata": {
        "id": "hPEOj5_KvLi6"
      }
    },
    {
      "cell_type": "code",
      "source": [
        "a = [1,5,8,10,12]\n",
        "filter(isodd,a) # select odd elements of a"
      ],
      "metadata": {
        "colab": {
          "base_uri": "https://localhost:8080/"
        },
        "id": "WdkcoSBEvPFb",
        "outputId": "875d91b3-1a38-406f-cf04-98bc7158fab9"
      },
      "execution_count": 56,
      "outputs": [
        {
          "output_type": "execute_result",
          "data": {
            "text/plain": [
              "2-element Vector{Int64}:\n",
              " 1\n",
              " 5"
            ]
          },
          "metadata": {},
          "execution_count": 56
        }
      ]
    },
    {
      "cell_type": "markdown",
      "source": [
        "# Loops\n",
        "\n",
        "Julia provides with basic loops, including breaks and continues:"
      ],
      "metadata": {
        "id": "TCu_vMtDvU_B"
      }
    },
    {
      "cell_type": "code",
      "source": [
        "# basic loop\n",
        "a = [1, 2, 3]\n",
        "for i in a\n",
        "# do something\n",
        "end\n",
        "# loop with a break\n",
        "a = [1, 2, 3]\n",
        "for i in a\n",
        "# do something until a condition is satisfied\n",
        "break\n",
        "end\n",
        "# loop with a continue\n",
        "a = [1, 2, 3]\n",
        "for i in a\n",
        "# jump to next step of the iteration if a condition is satisfied\n",
        "continue\n",
        "end"
      ],
      "metadata": {
        "id": "XOldguTCvas6"
      },
      "execution_count": 57,
      "outputs": []
    },
    {
      "cell_type": "markdown",
      "source": [
        "Loops can be used to define arrays in comprehensions (a ruled-defined array)"
      ],
      "metadata": {
        "id": "70f4fDYkvpjy"
      }
    },
    {
      "cell_type": "code",
      "source": [
        "[n^2 for n in 1:5] # basic comprehensions\n",
        "Float64[n^2 for n in 1:5] # comprehension fixing type"
      ],
      "metadata": {
        "colab": {
          "base_uri": "https://localhost:8080/"
        },
        "id": "zZl2Q7ncvtuj",
        "outputId": "d0328ea0-bacf-4dc7-bb19-a9a965518f94"
      },
      "execution_count": 58,
      "outputs": [
        {
          "output_type": "execute_result",
          "data": {
            "text/plain": [
              "5-element Vector{Float64}:\n",
              "  1.0\n",
              "  4.0\n",
              "  9.0\n",
              " 16.0\n",
              " 25.0"
            ]
          },
          "metadata": {},
          "execution_count": 58
        }
      ]
    },
    {
      "cell_type": "markdown",
      "source": [
        "Julia complements standard loops with comprehensions and whiles"
      ],
      "metadata": {
        "id": "2Pplz8nkvxTh"
      }
    },
    {
      "cell_type": "code",
      "source": [
        "# Comprehensions\n",
        "[exp(i) for i in 1:5]\n",
        "# basic while\n",
        "N = 5\n",
        "i = 1\n",
        "while i <= N\n",
        "# do something\n",
        "  i = i + 1\n",
        "end"
      ],
      "metadata": {
        "id": "tT6NPC1nv0PB"
      },
      "execution_count": 60,
      "outputs": []
    },
    {
      "cell_type": "markdown",
      "source": [
        "# Conditionals\n",
        "\n",
        "Julia has both traditional if-then statements"
      ],
      "metadata": {
        "id": "bwLZgGbZwAOh"
      }
    },
    {
      "cell_type": "code",
      "source": [
        "if i < N\n",
        "    # do something\n",
        "    k = 0\n",
        "  elseif i > N\n",
        "    # do something else\n",
        "    k = 1\n",
        "  else\n",
        "    # do something even more different\n",
        "    k = 2\n",
        "end"
      ],
      "metadata": {
        "colab": {
          "base_uri": "https://localhost:8080/"
        },
        "id": "fSXWQP__wE15",
        "outputId": "27131e41-f7fc-4ae7-de00-b4559742b999"
      },
      "execution_count": 65,
      "outputs": [
        {
          "output_type": "execute_result",
          "data": {
            "text/plain": [
              "1"
            ]
          },
          "metadata": {},
          "execution_count": 65
        }
      ]
    },
    {
      "cell_type": "markdown",
      "source": [
        "and efficient ternary expressions condition ? do something : do something else such\n",
        "as"
      ],
      "metadata": {
        "id": "EqrYMgWTwnwh"
      }
    },
    {
      "cell_type": "code",
      "source": [
        "a = 2\n",
        "a<2 ? b = 1 : b = 2"
      ],
      "metadata": {
        "colab": {
          "base_uri": "https://localhost:8080/"
        },
        "id": "YoO2Nx5bwqUJ",
        "outputId": "a0e83902-07d5-4606-a0f6-aa322ade81dc"
      },
      "execution_count": 67,
      "outputs": [
        {
          "output_type": "execute_result",
          "data": {
            "text/plain": [
              "2"
            ]
          },
          "metadata": {},
          "execution_count": 67
        }
      ]
    },
    {
      "cell_type": "markdown",
      "source": [
        "# Tuples and Dictionaries\n",
        "\n",
        "Tuples is a data type of that contains an ordered collection of elements. The elements of a\n",
        "tuple cannot be changed once they have been defined"
      ],
      "metadata": {
        "id": "EaFgOlB3w14J"
      }
    },
    {
      "cell_type": "code",
      "source": [
        "a = (\"This is a tuple\", 2018) # definition of a tuple\n",
        "a[2] # accessing element 2 of tuple a"
      ],
      "metadata": {
        "colab": {
          "base_uri": "https://localhost:8080/"
        },
        "id": "pGTFjZG1w-Px",
        "outputId": "5a9c6845-6c97-4ca1-9342-6039660a8ef6"
      },
      "execution_count": 68,
      "outputs": [
        {
          "output_type": "execute_result",
          "data": {
            "text/plain": [
              "2018"
            ]
          },
          "metadata": {},
          "execution_count": 68
        }
      ]
    },
    {
      "cell_type": "markdown",
      "source": [
        "We can create tuples with zip"
      ],
      "metadata": {
        "id": "YNq-GCBNxAe7"
      }
    },
    {
      "cell_type": "code",
      "source": [
        "a = [1 2]\n",
        "b = [3 4]\n",
        "c = zip(a,b)\n",
        "print(c)"
      ],
      "metadata": {
        "colab": {
          "base_uri": "https://localhost:8080/"
        },
        "id": "PHoHOTPqxCrC",
        "outputId": "99ef84e5-959b-47be-c90e-1ebdcc48150c"
      },
      "execution_count": 69,
      "outputs": [
        {
          "output_type": "stream",
          "name": "stdout",
          "text": [
            "zip([1 2], [3 4])"
          ]
        }
      ]
    },
    {
      "cell_type": "markdown",
      "source": [
        "Dictionaries are associative collections with keys (names of elements) are values of elements"
      ],
      "metadata": {
        "id": "tcSkKio8xKwa"
      }
    },
    {
      "cell_type": "code",
      "source": [
        "# Creating a dictionary\n",
        "a = Dict(\"University of Pennsylvania\" => \"Philadelphia\", \"Boston College\" =>\n",
        "\"Boston\")\n",
        "a[\"University of Pennsylvania\"] # access one key\n",
        "a[\"Harvard\"] = \"Cambridge\" # adds an additional key\n",
        "delete!(a,\"Harvard\") # deletes a key\n",
        "keys(a)\n",
        "values(a)\n",
        "haskey(a,\"University of Pennsylvania\") # returns true\n",
        "haskey(a,\"MIT\") # returns false"
      ],
      "metadata": {
        "colab": {
          "base_uri": "https://localhost:8080/"
        },
        "id": "GWtgN_vbxMxT",
        "outputId": "cd9d23d3-cc28-4774-dabb-f77e6d8931db"
      },
      "execution_count": 70,
      "outputs": [
        {
          "output_type": "execute_result",
          "data": {
            "text/plain": [
              "false"
            ]
          },
          "metadata": {},
          "execution_count": 70
        }
      ]
    },
    {
      "cell_type": "markdown",
      "source": [
        "# A Julia Package to program NVIDIA GPUs: CUDA"
      ],
      "metadata": {
        "id": "5q1hRHpdxRyh"
      }
    },
    {
      "cell_type": "code",
      "metadata": {
        "id": "XciCcMAJOT3_",
        "colab": {
          "base_uri": "https://localhost:8080/"
        },
        "outputId": "8c5d4266-910e-43ec-c57d-5144f2ab01e5"
      },
      "source": [
        "import Pkg; Pkg.add(\"CUDA\")\n",
        "import Pkg; Pkg.add(\"BenchmarkTools\")\n",
        "using BenchmarkTools\n",
        "try\n",
        "    using CUDA\n",
        "catch\n",
        "    println(\"No GPU found.\")\n",
        "else\n",
        "    run(`nvidia-smi`)\n",
        "    # Create a new random matrix directly on the GPU:\n",
        "    M_on_gpu = CUDA.CURAND.rand(2^11, 2^11)\n",
        "    @btime $M_on_gpu * $M_on_gpu; nothing\n",
        "end"
      ],
      "execution_count": null,
      "outputs": [
        {
          "output_type": "stream",
          "name": "stderr",
          "text": [
            "\u001b[32m\u001b[1m   Resolving\u001b[22m\u001b[39m package versions...\n",
            "\u001b[32m\u001b[1m  No Changes\u001b[22m\u001b[39m to `~/.julia/environments/v1.10/Project.toml`\n",
            "\u001b[32m\u001b[1m  No Changes\u001b[22m\u001b[39m to `~/.julia/environments/v1.10/Manifest.toml`\n",
            "\u001b[32m\u001b[1m   Resolving\u001b[22m\u001b[39m package versions...\n",
            "\u001b[32m\u001b[1m   Installed\u001b[22m\u001b[39m BenchmarkTools ─ v1.6.0\n",
            "\u001b[32m\u001b[1m    Updating\u001b[22m\u001b[39m `~/.julia/environments/v1.10/Project.toml`\n",
            "  \u001b[90m[6e4b80f9] \u001b[39m\u001b[92m+ BenchmarkTools v1.6.0\u001b[39m\n",
            "\u001b[32m\u001b[1m    Updating\u001b[22m\u001b[39m `~/.julia/environments/v1.10/Manifest.toml`\n",
            "  \u001b[90m[6e4b80f9] \u001b[39m\u001b[92m+ BenchmarkTools v1.6.0\u001b[39m\n",
            "  \u001b[90m[9abbd945] \u001b[39m\u001b[92m+ Profile\u001b[39m\n",
            "\u001b[32m\u001b[1mPrecompiling\u001b[22m\u001b[39m packages...\n",
            "   1976.1 ms\u001b[32m  ✓ \u001b[39mBenchmarkTools\n",
            "  1 dependency successfully precompiled in 3 seconds. 460 already precompiled.\n"
          ]
        },
        {
          "output_type": "stream",
          "name": "stdout",
          "text": [
            "Fri Apr  4 16:37:36 2025       \n",
            "+-----------------------------------------------------------------------------------------+\n",
            "| NVIDIA-SMI 550.54.15              Driver Version: 550.54.15      CUDA Version: 12.4     |\n",
            "|-----------------------------------------+------------------------+----------------------+\n",
            "| GPU  Name                 Persistence-M | Bus-Id          Disp.A | Volatile Uncorr. ECC |\n",
            "| Fan  Temp   Perf          Pwr:Usage/Cap |           Memory-Usage | GPU-Util  Compute M. |\n",
            "|                                         |                        |               MIG M. |\n",
            "|=========================================+========================+======================|\n",
            "|   0  Tesla T4                       Off |   00000000:00:04.0 Off |                    0 |\n",
            "| N/A   38C    P8              9W /   70W |       2MiB /  15360MiB |      0%      Default |\n",
            "|                                         |                        |                  N/A |\n",
            "+-----------------------------------------+------------------------+----------------------+\n",
            "                                                                                         \n",
            "+-----------------------------------------------------------------------------------------+\n",
            "| Processes:                                                                              |\n",
            "|  GPU   GI   CI        PID   Type   Process name                              GPU Memory |\n",
            "|        ID   ID                                                               Usage      |\n",
            "|=========================================================================================|\n",
            "|  No running processes found                                                             |\n",
            "+-----------------------------------------------------------------------------------------+\n",
            "  416.479 ms (2 allocations: 32.00 MiB)\n"
          ]
        }
      ]
    },
    {
      "cell_type": "markdown",
      "metadata": {
        "id": "8RC1QNNqk6h1"
      },
      "source": [
        "# Need Help?\n",
        "\n",
        "* Learning: https://julialang.org/learning/\n",
        "* Documentation: https://docs.julialang.org/\n",
        "* Questions & Discussions:\n",
        "  * https://discourse.julialang.org/\n",
        "  * http://julialang.slack.com/\n",
        "  * https://stackoverflow.com/questions/tagged/julia\n",
        "\n",
        "If you ever ask for help or file an issue about Julia, you should generally provide the output of `versioninfo()`."
      ]
    },
    {
      "cell_type": "markdown",
      "metadata": {
        "id": "2UMidUQB03vJ"
      },
      "source": [
        "Add new code cells by clicking the `+ Code` button (or _Insert_ > _Code cell_).\n",
        "\n",
        "Have fun!\n",
        "\n",
        "<img src=\"https://raw.githubusercontent.com/JuliaLang/julia-logo-graphics/master/images/julia-logo-mask.png\" height=\"100\" />"
      ]
    }
  ]
}