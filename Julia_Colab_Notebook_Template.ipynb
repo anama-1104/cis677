{
  "nbformat": 4,
  "nbformat_minor": 0,
  "metadata": {
    "colab": {
      "provenance": [],
      "gpuType": "T4",
      "include_colab_link": true
    },
    "kernelspec": {
      "display_name": "Julia",
      "name": "julia"
    },
    "language_info": {
      "file_extension": ".jl",
      "mimetype": "application/julia",
      "name": "julia"
    }
  },
  "cells": [
    {
      "cell_type": "markdown",
      "metadata": {
        "id": "view-in-github",
        "colab_type": "text"
      },
      "source": [
        "<a href=\"https://colab.research.google.com/github/trefftzc/cis677/blob/main/Julia_Colab_Notebook_Template.ipynb\" target=\"_parent\"><img src=\"https://colab.research.google.com/assets/colab-badge.svg\" alt=\"Open In Colab\"/></a>"
      ]
    },
    {
      "cell_type": "markdown",
      "metadata": {
        "id": "tQ1r1bbb0yBv"
      },
      "source": [
        "# <img src=\"https://github.com/JuliaLang/julia-logo-graphics/raw/master/images/julia-logo-color.png\" height=\"100\" /> _Colab Notebook Template_\n",
        "\n",
        "## Instructions\n",
        "1. Work on a copy of this notebook: _File_ > _Save a copy in Drive_ (you will need a Google account). Alternatively, you can download the notebook using _File_ > _Download .ipynb_, then upload it to [Colab](https://colab.research.google.com/).\n",
        "2. If you need a GPU: _Runtime_ > _Change runtime type_ > _Harware accelerator_ = _GPU_.\n",
        "3. Execute the following cell (click on it and press Ctrl+Enter) to install Julia, IJulia and other packages (if needed, update `JULIA_VERSION` and the other parameters). This takes a couple of minutes.\n",
        "4. Reload this page (press Ctrl+R, or ⌘+R, or the F5 key) and continue to the next section.\n",
        "\n",
        "_Notes_:\n",
        "* If your Colab Runtime gets reset (e.g., due to inactivity), repeat steps 2, 3 and 4.\n",
        "* After installation, if you want to change the Julia version or activate/deactivate the GPU, you will need to reset the Runtime: _Runtime_ > _Factory reset runtime_ and repeat steps 3 and 4."
      ]
    },
    {
      "cell_type": "code",
      "metadata": {
        "id": "GIeFXS0F0zww",
        "colab": {
          "base_uri": "https://localhost:8080/",
          "height": 107
        },
        "outputId": "857cc98b-09ef-45e0-f1bd-0c95fe8f70a3"
      },
      "source": [
        "%%shell\n",
        "set -e\n",
        "\n",
        "#---------------------------------------------------#\n",
        "JULIA_VERSION=\"1.8.2\" # any version ≥ 0.7.0\n",
        "JULIA_PACKAGES=\"IJulia BenchmarkTools\"\n",
        "JULIA_PACKAGES_IF_GPU=\"CUDA\" # or CuArrays for older Julia versions\n",
        "JULIA_NUM_THREADS=2\n",
        "#---------------------------------------------------#\n",
        "\n",
        "if [ -z `which julia` ]; then\n",
        "  # Install Julia\n",
        "  JULIA_VER=`cut -d '.' -f -2 <<< \"$JULIA_VERSION\"`\n",
        "  echo \"Installing Julia $JULIA_VERSION on the current Colab Runtime...\"\n",
        "  BASE_URL=\"https://julialang-s3.julialang.org/bin/linux/x64\"\n",
        "  URL=\"$BASE_URL/$JULIA_VER/julia-$JULIA_VERSION-linux-x86_64.tar.gz\"\n",
        "  wget -nv $URL -O /tmp/julia.tar.gz # -nv means \"not verbose\"\n",
        "  tar -x -f /tmp/julia.tar.gz -C /usr/local --strip-components 1\n",
        "  rm /tmp/julia.tar.gz\n",
        "\n",
        "  # Install Packages\n",
        "  nvidia-smi -L &> /dev/null && export GPU=1 || export GPU=0\n",
        "  if [ $GPU -eq 1 ]; then\n",
        "    JULIA_PACKAGES=\"$JULIA_PACKAGES $JULIA_PACKAGES_IF_GPU\"\n",
        "  fi\n",
        "  for PKG in `echo $JULIA_PACKAGES`; do\n",
        "    echo \"Installing Julia package $PKG...\"\n",
        "    julia -e 'using Pkg; pkg\"add '$PKG'; precompile;\"' &> /dev/null\n",
        "  done\n",
        "\n",
        "  # Install kernel and rename it to \"julia\"\n",
        "  echo \"Installing IJulia kernel...\"\n",
        "  julia -e 'using IJulia; IJulia.installkernel(\"julia\", env=Dict(\n",
        "      \"JULIA_NUM_THREADS\"=>\"'\"$JULIA_NUM_THREADS\"'\"))'\n",
        "  KERNEL_DIR=`julia -e \"using IJulia; print(IJulia.kerneldir())\"`\n",
        "  KERNEL_NAME=`ls -d \"$KERNEL_DIR\"/julia*`\n",
        "  mv -f $KERNEL_NAME \"$KERNEL_DIR\"/julia\n",
        "\n",
        "  echo ''\n",
        "  echo \"Successfully installed `julia -v`!\"\n",
        "  echo \"Please reload this page (press Ctrl+R, ⌘+R, or the F5 key) then\"\n",
        "  echo \"jump to the 'Checking the Installation' section.\"\n",
        "fi"
      ],
      "execution_count": 1,
      "outputs": [
        {
          "output_type": "display_data",
          "data": {
            "text/plain": [
              "  Unrecognized magic \u001b[36m%%shell\u001b[39m.\n",
              "\n",
              "  Julia does not use the IPython \u001b[36m%magic\u001b[39m syntax. To interact with the IJulia kernel, use\n",
              "  \u001b[36mIJulia.somefunction(...)\u001b[39m, for example. Julia macros, string macros, and functions can be used to\n",
              "  accomplish most of the other functionalities of IPython magics."
            ],
            "text/markdown": "Unrecognized magic `%%shell`.\n\nJulia does not use the IPython `%magic` syntax.   To interact with the IJulia kernel, use `IJulia.somefunction(...)`, for example.  Julia macros, string macros, and functions can be used to accomplish most of the other functionalities of IPython magics.\n",
            "text/latex": "Unrecognized magic \\texttt{\\%\\%shell}.\n\nJulia does not use the IPython \\texttt{\\%magic} syntax.   To interact with the IJulia kernel, use \\texttt{IJulia.somefunction(...)}, for example.  Julia macros, string macros, and functions can be used to accomplish most of the other functionalities of IPython magics.\n\n"
          },
          "metadata": {}
        }
      ]
    },
    {
      "cell_type": "markdown",
      "metadata": {
        "id": "-OS3Ac017T1i"
      },
      "source": [
        "# Checking the Installation\n",
        "The `versioninfo()` function should print your Julia version and some other info about the system:"
      ]
    },
    {
      "cell_type": "code",
      "metadata": {
        "id": "EEzvvzCl1i0F",
        "colab": {
          "base_uri": "https://localhost:8080/"
        },
        "outputId": "50033f04-2dd7-4db4-e003-8523e5a31f37"
      },
      "source": [
        "versioninfo()"
      ],
      "execution_count": 2,
      "outputs": [
        {
          "output_type": "stream",
          "name": "stdout",
          "text": [
            "Julia Version 1.10.9\n",
            "Commit 5595d20a287 (2025-03-10 12:51 UTC)\n",
            "Build Info:\n",
            "  Official https://julialang.org/ release\n",
            "Platform Info:\n",
            "  OS: Linux (x86_64-linux-gnu)\n",
            "  CPU: 2 × Intel(R) Xeon(R) CPU @ 2.00GHz\n",
            "  WORD_SIZE: 64\n",
            "  LIBM: libopenlibm\n",
            "  LLVM: libLLVM-15.0.7 (ORCJIT, skylake-avx512)\n",
            "Threads: 2 default, 0 interactive, 1 GC (on 2 virtual cores)\n",
            "Environment:\n",
            "  LD_LIBRARY_PATH = /usr/lib64-nvidia\n",
            "  JULIA_NUM_THREADS = auto\n"
          ]
        }
      ]
    },
    {
      "cell_type": "markdown",
      "source": [
        "There is a nice pdf file with a tutorial about Julia online. It is available at: https://www.sas.upenn.edu/~jesusfv/Chapter_HPC_8_Julia.pdf\n"
      ],
      "metadata": {
        "id": "VAhGBLusmqi8"
      }
    },
    {
      "cell_type": "markdown",
      "source": [
        "# Packages\n",
        "A package is a code that extends the basic capabilities Julia\n",
        "with additional functions, data structures, etc. In such a way, Julia follows the modern\n",
        "trend of open source software of having a base installation of a project and a lively ecosystem\n",
        "of developers creating specialized tools that you can add or remove at will.\n",
        "\n",
        "One of the first things you may want to do after installing\n",
        "Julia is to add some useful packages. Recall that the first thing you need is to switch to the\n",
        "package manager mode with ] .\n",
        "\n",
        "You can check the packages that are currently installed with: **st**\n",
        "\n",
        "You can add a package with: **add NameOfThePackage**\n",
        "\n",
        "You can update a package with: **up NameOfThePackage**\n",
        "\n",
        "You can remove a package with: **rm NameOfthePackage**\n",
        "\n",
        "After a package has been installed, one use the statement:\n",
        "** using NameOfThePackage **\n",
        "to indicate that the code will use that package.\n",
        "\n",
        "In the code cell below, the code installs the BenchmarkTools package,\n",
        "and then uses it.\n",
        "\n",
        "To benchmark a particular function, one use the\\\n",
        "** btime ** decorator, just before invoking a method.\n",
        "\n",
        "In the code below, a matrix multiplication."
      ],
      "metadata": {
        "id": "t3ab_1zUm2NT"
      }
    },
    {
      "cell_type": "code",
      "source": [
        "import Pkg; Pkg.add(\"BenchmarkTools\")\n",
        "using BenchmarkTools\n",
        "\n",
        "M = rand(2^11, 2^11)\n",
        "\n",
        "@btime $M * $M;"
      ],
      "metadata": {
        "colab": {
          "base_uri": "https://localhost:8080/"
        },
        "id": "YjM_qq54lCcs",
        "outputId": "440139f4-51df-48f8-b16c-0255c837ae04"
      },
      "execution_count": null,
      "outputs": [
        {
          "output_type": "stream",
          "name": "stderr",
          "text": [
            "\u001b[32m\u001b[1m    Updating\u001b[22m\u001b[39m registry at `~/.julia/registries/General.toml`\n",
            "\u001b[32m\u001b[1m   Resolving\u001b[22m\u001b[39m package versions...\n",
            "\u001b[32m\u001b[1m   Installed\u001b[22m\u001b[39m BenchmarkTools ─ v1.6.0\n",
            "\u001b[32m\u001b[1m    Updating\u001b[22m\u001b[39m `~/.julia/environments/v1.10/Project.toml`\n",
            "  \u001b[90m[6e4b80f9] \u001b[39m\u001b[92m+ BenchmarkTools v1.6.0\u001b[39m\n",
            "\u001b[32m\u001b[1m    Updating\u001b[22m\u001b[39m `~/.julia/environments/v1.10/Manifest.toml`\n",
            "  \u001b[90m[6e4b80f9] \u001b[39m\u001b[92m+ BenchmarkTools v1.6.0\u001b[39m\n",
            "  \u001b[90m[9abbd945] \u001b[39m\u001b[92m+ Profile\u001b[39m\n",
            "\u001b[32m\u001b[1mPrecompiling\u001b[22m\u001b[39m packages...\n",
            "   2752.7 ms\u001b[32m  ✓ \u001b[39mBenchmarkTools\n",
            "  1 dependency successfully precompiled in 13 seconds. 460 already precompiled.\n"
          ]
        },
        {
          "output_type": "stream",
          "name": "stdout",
          "text": [
            "  546.234 ms (2 allocations: 32.00 MiB)\n"
          ]
        }
      ]
    },
    {
      "cell_type": "markdown",
      "source": [
        "# Types\n",
        "\n",
        "Julia has variables, values, and types. A variable is a name bound to a value. Julia is case\n",
        "sensitive: a is a different variable than A . In fact, as we will see below, the variable can\n",
        "be nearly any combination of Unicode characters. A value is a content (1, 3.2, ”economics”,\n",
        "etc.). Technically, Julia considers that all values are objects (an object is an entity with\n",
        "some attributes). This makes Julia closer to pure object-oriented languages such as Ruby\n",
        "than to languages such as C++, where some values such as floating points are not objects.\n",
        "Finally, values have types (i.e., integer, float, boolean, string, etc.). A variable does not have\n",
        "a type, its value has. Types specify the attributes of the content. Functions in Julia will\n",
        "look at the type of the values passed as operands and decide, according to them, how we\n",
        "can operate on the values (i.e., which of the methods available to the function to apply).\n",
        "Adding 1+2 (two integers) will be different than summing 1.0+2.0 (two floats) because the\n",
        "method for summing two integers is different from the method to sum two floats. In the base\n",
        "implementation of Julia, there are 230 different methods for the function sum! You can list\n",
        "them with the command methods() as in:"
      ],
      "metadata": {
        "id": "xOJgLH1YoPxk"
      }
    },
    {
      "cell_type": "code",
      "source": [
        "methods(+)"
      ],
      "metadata": {
        "id": "MEDZPoLBof87",
        "outputId": "0c8c7b38-6fae-409f-bcd1-f3224baa20ca",
        "colab": {
          "base_uri": "https://localhost:8080/",
          "height": 1000
        }
      },
      "execution_count": 3,
      "outputs": [
        {
          "output_type": "execute_result",
          "data": {
            "text/plain": [
              "# 189 methods for generic function \"+\" from \u001b[90mBase\u001b[39m:\n",
              "   [1] +(\u001b[90mt\u001b[39m::\u001b[1mDates.Time\u001b[22m, \u001b[90mdt\u001b[39m::\u001b[1mDates.Date\u001b[22m)\n",
              "\u001b[90m     @\u001b[39m \u001b[35mDates\u001b[39m \u001b[90m/usr/local/share/julia/stdlib/v1.10/Dates/src/\u001b[39m\u001b[90m\u001b[4marithmetic.jl:22\u001b[24m\u001b[39m\n",
              "   [2] +(\u001b[90mx\u001b[39m::\u001b[1mDates.Time\u001b[22m, \u001b[90my\u001b[39m::\u001b[1mDates.TimePeriod\u001b[22m)\n",
              "\u001b[90m     @\u001b[39m \u001b[35mDates\u001b[39m \u001b[90m/usr/local/share/julia/stdlib/v1.10/Dates/src/\u001b[39m\u001b[90m\u001b[4marithmetic.jl:85\u001b[24m\u001b[39m\n",
              "   [3] +(\u001b[90mx\u001b[39m::\u001b[1mBool\u001b[22m, \u001b[90mz\u001b[39m::\u001b[1mComplex\u001b[22m\u001b[0m{Bool})\n",
              "\u001b[90m     @\u001b[39m \u001b[90m\u001b[4mcomplex.jl:305\u001b[24m\u001b[39m\n",
              "   [4] +(\u001b[90mx\u001b[39m::\u001b[1mBool\u001b[22m, \u001b[90my\u001b[39m::\u001b[1mBool\u001b[22m)\n",
              "\u001b[90m     @\u001b[39m \u001b[90m\u001b[4mbool.jl:166\u001b[24m\u001b[39m\n",
              "   [5] +(\u001b[90mx\u001b[39m::\u001b[1mBool\u001b[22m)\n",
              "\u001b[90m     @\u001b[39m \u001b[90m\u001b[4mbool.jl:163\u001b[24m\u001b[39m\n",
              "   [6] +(\u001b[90mx\u001b[39m::\u001b[1mBool\u001b[22m, \u001b[90mz\u001b[39m::\u001b[1mComplex\u001b[22m)\n",
              "\u001b[90m     @\u001b[39m \u001b[90m\u001b[4mcomplex.jl:312\u001b[24m\u001b[39m\n",
              "   [7] +(\u001b[90mx\u001b[39m::\u001b[1mReal\u001b[22m, \u001b[90mz\u001b[39m::\u001b[1mComplex\u001b[22m\u001b[0m{Bool})\n",
              "\u001b[90m     @\u001b[39m \u001b[90m\u001b[4mcomplex.jl:319\u001b[24m\u001b[39m\n",
              "   [8] +(\u001b[90mx\u001b[39m::\u001b[1mBool\u001b[22m, \u001b[90my\u001b[39m::\u001b[1mT\u001b[22m) where T<:AbstractFloat\n",
              "\u001b[90m     @\u001b[39m \u001b[90m\u001b[4mbool.jl:173\u001b[24m\u001b[39m\n",
              "   [9] +(\u001b[90mz\u001b[39m::\u001b[1mComplex\u001b[22m\u001b[0m{Bool}, \u001b[90mx\u001b[39m::\u001b[1mBool\u001b[22m)\n",
              "\u001b[90m     @\u001b[39m \u001b[90m\u001b[4mcomplex.jl:306\u001b[24m\u001b[39m\n",
              "  [10] +(\u001b[90mz\u001b[39m::\u001b[1mComplex\u001b[22m\u001b[0m{Bool}, \u001b[90mx\u001b[39m::\u001b[1mReal\u001b[22m)\n",
              "\u001b[90m     @\u001b[39m \u001b[90m\u001b[4mcomplex.jl:320\u001b[24m\u001b[39m\n",
              "  [11] +(\u001b[90mz\u001b[39m::\u001b[1mComplex\u001b[22m, \u001b[90mx\u001b[39m::\u001b[1mBool\u001b[22m)\n",
              "\u001b[90m     @\u001b[39m \u001b[90m\u001b[4mcomplex.jl:313\u001b[24m\u001b[39m\n",
              "  [12] +(\u001b[90mx\u001b[39m::\u001b[1mBigInt\u001b[22m, \u001b[90my\u001b[39m::\u001b[1mBigInt\u001b[22m)\n",
              "\u001b[90m     @\u001b[39m \u001b[90mBase.GMP\u001b[39m \u001b[90m\u001b[4mgmp.jl:501\u001b[24m\u001b[39m\n",
              "  [13] +(\u001b[90ma\u001b[39m::\u001b[1mBigInt\u001b[22m, \u001b[90mb\u001b[39m::\u001b[1mBigInt\u001b[22m, \u001b[90mc\u001b[39m::\u001b[1mBigInt\u001b[22m)\n",
              "\u001b[90m     @\u001b[39m \u001b[90mBase.GMP\u001b[39m \u001b[90m\u001b[4mgmp.jl:541\u001b[24m\u001b[39m\n",
              "  [14] +(\u001b[90ma\u001b[39m::\u001b[1mBigInt\u001b[22m, \u001b[90mb\u001b[39m::\u001b[1mBigInt\u001b[22m, \u001b[90mc\u001b[39m::\u001b[1mBigInt\u001b[22m, \u001b[90md\u001b[39m::\u001b[1mBigInt\u001b[22m)\n",
              "\u001b[90m     @\u001b[39m \u001b[90mBase.GMP\u001b[39m \u001b[90m\u001b[4mgmp.jl:542\u001b[24m\u001b[39m\n",
              "  [15] +(\u001b[90ma\u001b[39m::\u001b[1mBigInt\u001b[22m, \u001b[90mb\u001b[39m::\u001b[1mBigInt\u001b[22m, \u001b[90mc\u001b[39m::\u001b[1mBigInt\u001b[22m, \u001b[90md\u001b[39m::\u001b[1mBigInt\u001b[22m, \u001b[90me\u001b[39m::\u001b[1mBigInt\u001b[22m)\n",
              "\u001b[90m     @\u001b[39m \u001b[90mBase.GMP\u001b[39m \u001b[90m\u001b[4mgmp.jl:543\u001b[24m\u001b[39m\n",
              "  [16] +(\u001b[90mx\u001b[39m::\u001b[1mBigInt\u001b[22m, \u001b[90my\u001b[39m::\u001b[1mBigInt\u001b[22m, \u001b[90mrest\u001b[39m::\u001b[1mBigInt...\u001b[22m)\n",
              "\u001b[90m     @\u001b[39m \u001b[90mBase.GMP\u001b[39m \u001b[90m\u001b[4mgmp.jl:683\u001b[24m\u001b[39m\n",
              "  [17] +(\u001b[90mc\u001b[39m::\u001b[1mBigInt\u001b[22m, \u001b[90mx\u001b[39m::\u001b[1mBigFloat\u001b[22m)\n",
              "\u001b[90m     @\u001b[39m \u001b[90mBase.MPFR\u001b[39m \u001b[90m\u001b[4mmpfr.jl:468\u001b[24m\u001b[39m\n",
              "  [18] +(\u001b[90mx\u001b[39m::\u001b[1mBigInt\u001b[22m, \u001b[90mc\u001b[39m::\u001b[1mUnion\u001b[22m\u001b[0m{UInt16, UInt32, UInt64, UInt8})\n",
              "\u001b[90m     @\u001b[39m \u001b[90mBase.GMP\u001b[39m \u001b[90m\u001b[4mgmp.jl:549\u001b[24m\u001b[39m\n",
              "  [19] +(\u001b[90mx\u001b[39m::\u001b[1mBigInt\u001b[22m, \u001b[90mc\u001b[39m::\u001b[1mUnion\u001b[22m\u001b[0m{Int16, Int32, Int64, Int8})\n",
              "\u001b[90m     @\u001b[39m \u001b[90mBase.GMP\u001b[39m \u001b[90m\u001b[4mgmp.jl:555\u001b[24m\u001b[39m\n",
              "  [20] +(\u001b[90mx\u001b[39m::\u001b[1mDates.CompoundPeriod\u001b[22m, \u001b[90my\u001b[39m::\u001b[1mDates.CompoundPeriod\u001b[22m)\n",
              "\u001b[90m     @\u001b[39m \u001b[35mDates\u001b[39m \u001b[90m/usr/local/share/julia/stdlib/v1.10/Dates/src/\u001b[39m\u001b[90m\u001b[4mperiods.jl:334\u001b[24m\u001b[39m\n",
              "  [21] +(\u001b[90mx\u001b[39m::\u001b[1mDates.CompoundPeriod\u001b[22m, \u001b[90my\u001b[39m::\u001b[1mDates.TimeType\u001b[22m)\n",
              "\u001b[90m     @\u001b[39m \u001b[35mDates\u001b[39m \u001b[90m/usr/local/share/julia/stdlib/v1.10/Dates/src/\u001b[39m\u001b[90m\u001b[4mperiods.jl:362\u001b[24m\u001b[39m\n",
              "  [22] +(\u001b[90mx\u001b[39m::\u001b[1mDates.CompoundPeriod\u001b[22m, \u001b[90my\u001b[39m::\u001b[1mDates.Period\u001b[22m)\n",
              "\u001b[90m     @\u001b[39m \u001b[35mDates\u001b[39m \u001b[90m/usr/local/share/julia/stdlib/v1.10/Dates/src/\u001b[39m\u001b[90m\u001b[4mperiods.jl:332\u001b[24m\u001b[39m\n",
              "  [23] +(\u001b[90mB\u001b[39m::\u001b[1mBitMatrix\u001b[22m, \u001b[90mJ\u001b[39m::\u001b[1mLinearAlgebra.UniformScaling\u001b[22m)\n",
              "\u001b[90m     @\u001b[39m \u001b[36mLinearAlgebra\u001b[39m \u001b[90m/usr/local/share/julia/stdlib/v1.10/LinearAlgebra/src/\u001b[39m\u001b[90m\u001b[4muniformscaling.jl:151\u001b[24m\u001b[39m\n",
              "  [24] +(\u001b[90mx\u001b[39m::\u001b[1mDates.Date\u001b[22m, \u001b[90my\u001b[39m::\u001b[1mDates.Day\u001b[22m)\n",
              "\u001b[90m     @\u001b[39m \u001b[35mDates\u001b[39m \u001b[90m/usr/local/share/julia/stdlib/v1.10/Dates/src/\u001b[39m\u001b[90m\u001b[4marithmetic.jl:81\u001b[24m\u001b[39m\n",
              "  [25] +(\u001b[90mx\u001b[39m::\u001b[1mDates.Date\u001b[22m, \u001b[90my\u001b[39m::\u001b[1mDates.Week\u001b[22m)\n",
              "\u001b[90m     @\u001b[39m \u001b[35mDates\u001b[39m \u001b[90m/usr/local/share/julia/stdlib/v1.10/Dates/src/\u001b[39m\u001b[90m\u001b[4marithmetic.jl:79\u001b[24m\u001b[39m\n",
              "  [26] +(\u001b[90mx\u001b[39m::\u001b[1mDates.Date\u001b[22m, \u001b[90my\u001b[39m::\u001b[1mDates.Quarter\u001b[22m)\n",
              "\u001b[90m     @\u001b[39m \u001b[35mDates\u001b[39m \u001b[90m/usr/local/share/julia/stdlib/v1.10/Dates/src/\u001b[39m\u001b[90m\u001b[4marithmetic.jl:75\u001b[24m\u001b[39m\n",
              "  [27] +(\u001b[90mdt\u001b[39m::\u001b[1mDates.Date\u001b[22m, \u001b[90mz\u001b[39m::\u001b[1mDates.Month\u001b[22m)\n",
              "\u001b[90m     @\u001b[39m \u001b[35mDates\u001b[39m \u001b[90m/usr/local/share/julia/stdlib/v1.10/Dates/src/\u001b[39m\u001b[90m\u001b[4marithmetic.jl:56\u001b[24m\u001b[39m\n",
              "  [28] +(\u001b[90mdt\u001b[39m::\u001b[1mDates.Date\u001b[22m, \u001b[90my\u001b[39m::\u001b[1mDates.Year\u001b[22m)\n",
              "\u001b[90m     @\u001b[39m \u001b[35mDates\u001b[39m \u001b[90m/usr/local/share/julia/stdlib/v1.10/Dates/src/\u001b[39m\u001b[90m\u001b[4marithmetic.jl:29\u001b[24m\u001b[39m\n",
              "  [29] +(\u001b[90mdt\u001b[39m::\u001b[1mDates.Date\u001b[22m, \u001b[90mt\u001b[39m::\u001b[1mDates.Time\u001b[22m)\n",
              "\u001b[90m     @\u001b[39m \u001b[35mDates\u001b[39m \u001b[90m/usr/local/share/julia/stdlib/v1.10/Dates/src/\u001b[39m\u001b[90m\u001b[4marithmetic.jl:21\u001b[24m\u001b[39m\n",
              "  [30] +(::\u001b[1mMissing\u001b[22m, ::\u001b[1mMissing\u001b[22m)\n",
              "\u001b[90m     @\u001b[39m \u001b[90m\u001b[4mmissing.jl:122\u001b[24m\u001b[39m\n",
              "  [31] +(::\u001b[1mMissing\u001b[22m)\n",
              "\u001b[90m     @\u001b[39m \u001b[90m\u001b[4mmissing.jl:101\u001b[24m\u001b[39m\n",
              "  [32] +(\u001b[90mx\u001b[39m::\u001b[1mMissing\u001b[22m, \u001b[90my\u001b[39m::\u001b[1mDates.AbstractTime\u001b[22m)\n",
              "\u001b[90m     @\u001b[39m \u001b[35mDates\u001b[39m \u001b[90m/usr/local/share/julia/stdlib/v1.10/Dates/src/\u001b[39m\u001b[90m\u001b[4marithmetic.jl:91\u001b[24m\u001b[39m\n",
              "  [33] +(::\u001b[1mMissing\u001b[22m, ::\u001b[1mNumber\u001b[22m)\n",
              "\u001b[90m     @\u001b[39m \u001b[90m\u001b[4mmissing.jl:123\u001b[24m\u001b[39m\n",
              "  [34] +(\u001b[90mx\u001b[39m::\u001b[1mDates.DateTime\u001b[22m, \u001b[90my\u001b[39m::\u001b[1mDates.Quarter\u001b[22m)\n",
              "\u001b[90m     @\u001b[39m \u001b[35mDates\u001b[39m \u001b[90m/usr/local/share/julia/stdlib/v1.10/Dates/src/\u001b[39m\u001b[90m\u001b[4marithmetic.jl:77\u001b[24m\u001b[39m\n",
              "  [35] +(\u001b[90mdt\u001b[39m::\u001b[1mDates.DateTime\u001b[22m, \u001b[90mz\u001b[39m::\u001b[1mDates.Month\u001b[22m)\n",
              "\u001b[90m     @\u001b[39m \u001b[35mDates\u001b[39m \u001b[90m/usr/local/share/julia/stdlib/v1.10/Dates/src/\u001b[39m\u001b[90m\u001b[4marithmetic.jl:49\u001b[24m\u001b[39m\n",
              "  [36] +(\u001b[90mdt\u001b[39m::\u001b[1mDates.DateTime\u001b[22m, \u001b[90my\u001b[39m::\u001b[1mDates.Year\u001b[22m)\n",
              "\u001b[90m     @\u001b[39m \u001b[35mDates\u001b[39m \u001b[90m/usr/local/share/julia/stdlib/v1.10/Dates/src/\u001b[39m\u001b[90m\u001b[4marithmetic.jl:25\u001b[24m\u001b[39m\n",
              "  [37] +(\u001b[90mx\u001b[39m::\u001b[1mDates.DateTime\u001b[22m, \u001b[90my\u001b[39m::\u001b[1mDates.Period\u001b[22m)\n",
              "\u001b[90m     @\u001b[39m \u001b[35mDates\u001b[39m \u001b[90m/usr/local/share/julia/stdlib/v1.10/Dates/src/\u001b[39m\u001b[90m\u001b[4marithmetic.jl:83\u001b[24m\u001b[39m\n",
              "  [38] +(\u001b[90ma\u001b[39m::\u001b[1mBigFloat\u001b[22m, \u001b[90mb\u001b[39m::\u001b[1mBigFloat\u001b[22m, \u001b[90mc\u001b[39m::\u001b[1mBigFloat\u001b[22m, \u001b[90md\u001b[39m::\u001b[1mBigFloat\u001b[22m, \u001b[90me\u001b[39m::\u001b[1mBigFloat\u001b[22m)\n",
              "\u001b[90m     @\u001b[39m \u001b[90mBase.MPFR\u001b[39m \u001b[90m\u001b[4mmpfr.jl:619\u001b[24m\u001b[39m\n",
              "  [39] +(\u001b[90mx\u001b[39m::\u001b[1mBigFloat\u001b[22m, \u001b[90my\u001b[39m::\u001b[1mBigFloat\u001b[22m)\n",
              "\u001b[90m     @\u001b[39m \u001b[90mBase.MPFR\u001b[39m \u001b[90m\u001b[4mmpfr.jl:432\u001b[24m\u001b[39m\n",
              "  [40] +(\u001b[90ma\u001b[39m::\u001b[1mBigFloat\u001b[22m, \u001b[90mb\u001b[39m::\u001b[1mBigFloat\u001b[22m, \u001b[90mc\u001b[39m::\u001b[1mBigFloat\u001b[22m)\n",
              "\u001b[90m     @\u001b[39m \u001b[90mBase.MPFR\u001b[39m \u001b[90m\u001b[4mmpfr.jl:606\u001b[24m\u001b[39m\n",
              "  [41] +(\u001b[90ma\u001b[39m::\u001b[1mBigFloat\u001b[22m, \u001b[90mb\u001b[39m::\u001b[1mBigFloat\u001b[22m, \u001b[90mc\u001b[39m::\u001b[1mBigFloat\u001b[22m, \u001b[90md\u001b[39m::\u001b[1mBigFloat\u001b[22m)\n",
              "\u001b[90m     @\u001b[39m \u001b[90mBase.MPFR\u001b[39m \u001b[90m\u001b[4mmpfr.jl:612\u001b[24m\u001b[39m\n",
              "  [42] +(\u001b[90mx\u001b[39m::\u001b[1mBigFloat\u001b[22m, \u001b[90mc\u001b[39m::\u001b[1mBigInt\u001b[22m)\n",
              "\u001b[90m     @\u001b[39m \u001b[90mBase.MPFR\u001b[39m \u001b[90m\u001b[4mmpfr.jl:463\u001b[24m\u001b[39m\n",
              "  [43] +(\u001b[90mx\u001b[39m::\u001b[1mBigFloat\u001b[22m, \u001b[90mc\u001b[39m::\u001b[1mUnion\u001b[22m\u001b[0m{UInt16, UInt32, UInt64, UInt8})\n",
              "\u001b[90m     @\u001b[39m \u001b[90mBase.MPFR\u001b[39m \u001b[90m\u001b[4mmpfr.jl:439\u001b[24m\u001b[39m\n",
              "  [44] +(\u001b[90mx\u001b[39m::\u001b[1mBigFloat\u001b[22m, \u001b[90mc\u001b[39m::\u001b[1mUnion\u001b[22m\u001b[0m{Int16, Int32, Int64, Int8})\n",
              "\u001b[90m     @\u001b[39m \u001b[90mBase.MPFR\u001b[39m \u001b[90m\u001b[4mmpfr.jl:447\u001b[24m\u001b[39m\n",
              "  [45] +(\u001b[90mx\u001b[39m::\u001b[1mBigFloat\u001b[22m, \u001b[90mc\u001b[39m::\u001b[1mUnion\u001b[22m\u001b[0m{Float16, Float32, Float64})\n",
              "\u001b[90m     @\u001b[39m \u001b[90mBase.MPFR\u001b[39m \u001b[90m\u001b[4mmpfr.jl:455\u001b[24m\u001b[39m\n",
              "  [46] +(\u001b[90ma\u001b[39m::\u001b[1mPkg.Resolve.FieldValue\u001b[22m, \u001b[90mb\u001b[39m::\u001b[1mPkg.Resolve.FieldValue\u001b[22m)\n",
              "\u001b[90m     @\u001b[39m \u001b[32mPkg.Resolve\u001b[39m \u001b[90m/usr/local/share/julia/stdlib/v1.10/Pkg/src/Resolve/\u001b[39m\u001b[90m\u001b[4mfieldvalues.jl:43\u001b[24m\u001b[39m\n",
              "  [47] +(\u001b[90mlevel\u001b[39m::\u001b[1mBase.CoreLogging.LogLevel\u001b[22m, \u001b[90minc\u001b[39m::\u001b[1mInteger\u001b[22m)\n",
              "\u001b[90m     @\u001b[39m \u001b[90mBase.CoreLogging\u001b[39m \u001b[90m\u001b[4mlogging.jl:131\u001b[24m\u001b[39m\n",
              "  [48] +(\u001b[90mx\u001b[39m::\u001b[1mRational\u001b[22m\u001b[0m{BigInt}, \u001b[90my\u001b[39m::\u001b[1mRational\u001b[22m\u001b[0m{BigInt})\n",
              "\u001b[90m     @\u001b[39m \u001b[90mBase.GMP.MPQ\u001b[39m \u001b[90m\u001b[4mgmp.jl:1061\u001b[24m\u001b[39m\n",
              "  [49] +(\u001b[90ma\u001b[39m::\u001b[1mPkg.Resolve.VersionWeight\u001b[22m, \u001b[90mb\u001b[39m::\u001b[1mPkg.Resolve.VersionWeight\u001b[22m)\n",
              "\u001b[90m     @\u001b[39m \u001b[32mPkg.Resolve\u001b[39m \u001b[90m/usr/local/share/julia/stdlib/v1.10/Pkg/src/Resolve/\u001b[39m\u001b[90m\u001b[4mversionweights.jl:22\u001b[24m\u001b[39m\n",
              "  [50] +(\u001b[90mA\u001b[39m::\u001b[1mArray\u001b[22m, \u001b[90mBs\u001b[39m::\u001b[1mArray...\u001b[22m)\n",
              "\u001b[90m     @\u001b[39m \u001b[90m\u001b[4marraymath.jl:12\u001b[24m\u001b[39m\n",
              "  [51] +(\u001b[90mx\u001b[39m::\u001b[1mDates.Instant\u001b[22m)\n",
              "\u001b[90m     @\u001b[39m \u001b[35mDates\u001b[39m \u001b[90m/usr/local/share/julia/stdlib/v1.10/Dates/src/\u001b[39m\u001b[90m\u001b[4marithmetic.jl:4\u001b[24m\u001b[39m\n",
              "  [52] +(\u001b[90mH\u001b[39m::\u001b[1mLinearAlgebra.UpperHessenberg\u001b[22m, \u001b[90mx\u001b[39m::\u001b[1mLinearAlgebra.Bidiagonal\u001b[22m)\n",
              "\u001b[90m     @\u001b[39m \u001b[36mLinearAlgebra\u001b[39m \u001b[90m/usr/local/share/julia/stdlib/v1.10/LinearAlgebra/src/\u001b[39m\u001b[90m\u001b[4mhessenberg.jl:119\u001b[24m\u001b[39m\n",
              "  [53] +(\u001b[90mA\u001b[39m::\u001b[1mLinearAlgebra.UpperHessenberg\u001b[22m, \u001b[90mB\u001b[39m::\u001b[1mLinearAlgebra.UpperHessenberg\u001b[22m)\n",
              "\u001b[90m     @\u001b[39m \u001b[36mLinearAlgebra\u001b[39m \u001b[90m/usr/local/share/julia/stdlib/v1.10/LinearAlgebra/src/\u001b[39m\u001b[90m\u001b[4mhessenberg.jl:112\u001b[24m\u001b[39m\n",
              "  [54] +(\u001b[90mH\u001b[39m::\u001b[1mLinearAlgebra.UpperHessenberg\u001b[22m, \u001b[90mx\u001b[39m::\u001b[1mLinearAlgebra.UnitUpperTriangular\u001b[22m)\n",
              "\u001b[90m     @\u001b[39m \u001b[36mLinearAlgebra\u001b[39m \u001b[90m/usr/local/share/julia/stdlib/v1.10/LinearAlgebra/src/\u001b[39m\u001b[90m\u001b[4mhessenberg.jl:119\u001b[24m\u001b[39m\n",
              "  [55] +(\u001b[90mH\u001b[39m::\u001b[1mLinearAlgebra.UpperHessenberg\u001b[22m, \u001b[90mx\u001b[39m::\u001b[1mLinearAlgebra.Diagonal\u001b[22m)\n",
              "\u001b[90m     @\u001b[39m \u001b[36mLinearAlgebra\u001b[39m \u001b[90m/usr/local/share/julia/stdlib/v1.10/LinearAlgebra/src/\u001b[39m\u001b[90m\u001b[4mhessenberg.jl:119\u001b[24m\u001b[39m\n",
              "  [56] +(\u001b[90mH\u001b[39m::\u001b[1mLinearAlgebra.UpperHessenberg\u001b[22m, \u001b[90mx\u001b[39m::\u001b[1mLinearAlgebra.UniformScaling\u001b[22m)\n",
              "\u001b[90m     @\u001b[39m \u001b[36mLinearAlgebra\u001b[39m \u001b[90m/usr/local/share/julia/stdlib/v1.10/LinearAlgebra/src/\u001b[39m\u001b[90m\u001b[4mhessenberg.jl:119\u001b[24m\u001b[39m\n",
              "  [57] +(\u001b[90mH\u001b[39m::\u001b[1mLinearAlgebra.UpperHessenberg\u001b[22m, \u001b[90mx\u001b[39m::\u001b[1mLinearAlgebra.Tridiagonal\u001b[22m)\n",
              "\u001b[90m     @\u001b[39m \u001b[36mLinearAlgebra\u001b[39m \u001b[90m/usr/local/share/julia/stdlib/v1.10/LinearAlgebra/src/\u001b[39m\u001b[90m\u001b[4mhessenberg.jl:119\u001b[24m\u001b[39m\n",
              "  [58] +(\u001b[90mH\u001b[39m::\u001b[1mLinearAlgebra.UpperHessenberg\u001b[22m, \u001b[90mx\u001b[39m::\u001b[1mLinearAlgebra.SymTridiagonal\u001b[22m)\n",
              "\u001b[90m     @\u001b[39m \u001b[36mLinearAlgebra\u001b[39m \u001b[90m/usr/local/share/julia/stdlib/v1.10/LinearAlgebra/src/\u001b[39m\u001b[90m\u001b[4mhessenberg.jl:119\u001b[24m\u001b[39m\n",
              "  [59] +(\u001b[90mH\u001b[39m::\u001b[1mLinearAlgebra.UpperHessenberg\u001b[22m, \u001b[90mx\u001b[39m::\u001b[1mLinearAlgebra.UpperTriangular\u001b[22m)\n",
              "\u001b[90m     @\u001b[39m \u001b[36mLinearAlgebra\u001b[39m \u001b[90m/usr/local/share/julia/stdlib/v1.10/LinearAlgebra/src/\u001b[39m\u001b[90m\u001b[4mhessenberg.jl:119\u001b[24m\u001b[39m\n",
              "  [60] +(\u001b[90mA\u001b[39m::\u001b[1mLinearAlgebra.UnitLowerTriangular\u001b[22m, \u001b[90mB\u001b[39m::\u001b[1mLinearAlgebra.UnitLowerTriangular\u001b[22m)\n",
              "\u001b[90m     @\u001b[39m \u001b[36mLinearAlgebra\u001b[39m \u001b[90m/usr/local/share/julia/stdlib/v1.10/LinearAlgebra/src/\u001b[39m\u001b[90m\u001b[4mtriangular.jl:657\u001b[24m\u001b[39m\n",
              "  [61] +(\u001b[90mA\u001b[39m::\u001b[1mLinearAlgebra.UnitLowerTriangular\u001b[22m, \u001b[90mB\u001b[39m::\u001b[1mLinearAlgebra.LowerTriangular\u001b[22m)\n",
              "\u001b[90m     @\u001b[39m \u001b[36mLinearAlgebra\u001b[39m \u001b[90m/usr/local/share/julia/stdlib/v1.10/LinearAlgebra/src/\u001b[39m\u001b[90m\u001b[4mtriangular.jl:655\u001b[24m\u001b[39m\n",
              "  [62] +(\u001b[90mA\u001b[39m::\u001b[1mLinearAlgebra.UnitUpperTriangular\u001b[22m, \u001b[90mB\u001b[39m::\u001b[1mLinearAlgebra.UnitUpperTriangular\u001b[22m)\n",
              "\u001b[90m     @\u001b[39m \u001b[36mLinearAlgebra\u001b[39m \u001b[90m/usr/local/share/julia/stdlib/v1.10/LinearAlgebra/src/\u001b[39m\u001b[90m\u001b[4mtriangular.jl:656\u001b[24m\u001b[39m\n",
              "  [63] +(\u001b[90mA\u001b[39m::\u001b[1mLinearAlgebra.UnitUpperTriangular\u001b[22m, \u001b[90mB\u001b[39m::\u001b[1mLinearAlgebra.UpperTriangular\u001b[22m)\n",
              "\u001b[90m     @\u001b[39m \u001b[36mLinearAlgebra\u001b[39m \u001b[90m/usr/local/share/julia/stdlib/v1.10/LinearAlgebra/src/\u001b[39m\u001b[90m\u001b[4mtriangular.jl:654\u001b[24m\u001b[39m\n",
              "  [64] +(\u001b[90mA\u001b[39m::\u001b[1mLinearAlgebra.LowerTriangular\u001b[22m, \u001b[90mB\u001b[39m::\u001b[1mLinearAlgebra.UnitLowerTriangular\u001b[22m)\n",
              "\u001b[90m     @\u001b[39m \u001b[36mLinearAlgebra\u001b[39m \u001b[90m/usr/local/share/julia/stdlib/v1.10/LinearAlgebra/src/\u001b[39m\u001b[90m\u001b[4mtriangular.jl:653\u001b[24m\u001b[39m\n",
              "  [65] +(\u001b[90mA\u001b[39m::\u001b[1mLinearAlgebra.LowerTriangular\u001b[22m, \u001b[90mB\u001b[39m::\u001b[1mLinearAlgebra.LowerTriangular\u001b[22m)\n",
              "\u001b[90m     @\u001b[39m \u001b[36mLinearAlgebra\u001b[39m \u001b[90m/usr/local/share/julia/stdlib/v1.10/LinearAlgebra/src/\u001b[39m\u001b[90m\u001b[4mtriangular.jl:651\u001b[24m\u001b[39m\n",
              "  [66] +(\u001b[90mA\u001b[39m::\u001b[1mLinearAlgebra.UpperTriangular\u001b[22m, \u001b[90mB\u001b[39m::\u001b[1mLinearAlgebra.UnitUpperTriangular\u001b[22m)\n",
              "\u001b[90m     @\u001b[39m \u001b[36mLinearAlgebra\u001b[39m \u001b[90m/usr/local/share/julia/stdlib/v1.10/LinearAlgebra/src/\u001b[39m\u001b[90m\u001b[4mtriangular.jl:652\u001b[24m\u001b[39m\n",
              "  [67] +(\u001b[90mA\u001b[39m::\u001b[1mLinearAlgebra.UpperTriangular\u001b[22m, \u001b[90mB\u001b[39m::\u001b[1mLinearAlgebra.UpperTriangular\u001b[22m)\n",
              "\u001b[90m     @\u001b[39m \u001b[36mLinearAlgebra\u001b[39m \u001b[90m/usr/local/share/julia/stdlib/v1.10/LinearAlgebra/src/\u001b[39m\u001b[90m\u001b[4mtriangular.jl:650\u001b[24m\u001b[39m\n",
              "  [68] +(\u001b[90mA\u001b[39m::\u001b[1mLinearAlgebra.AbstractTriangular\u001b[22m, \u001b[90mB\u001b[39m::\u001b[1mLinearAlgebra.AbstractTriangular\u001b[22m)\n",
              "\u001b[90m     @\u001b[39m \u001b[36mLinearAlgebra\u001b[39m \u001b[90m/usr/local/share/julia/stdlib/v1.10/LinearAlgebra/src/\u001b[39m\u001b[90m\u001b[4mtriangular.jl:658\u001b[24m\u001b[39m\n",
              "  [69] +(\u001b[90mindex1\u001b[39m::\u001b[1mCartesianIndex\u001b[22m\u001b[0m{N}, \u001b[90mindex2\u001b[39m::\u001b[1mCartesianIndex\u001b[22m\u001b[0m{N}) where N\n",
              "\u001b[90m     @\u001b[39m \u001b[90mBase.IteratorsMD\u001b[39m \u001b[90m\u001b[4mmultidimensional.jl:119\u001b[24m\u001b[39m\n",
              "  [70] +(\u001b[90mA\u001b[39m::\u001b[1mLinearAlgebra.Hermitian\u001b[22m, \u001b[90mJ\u001b[39m::\u001b[1mLinearAlgebra.UniformScaling\u001b[22m\u001b[0m{<:Complex})\n",
              "\u001b[90m     @\u001b[39m \u001b[36mLinearAlgebra\u001b[39m \u001b[90m/usr/local/share/julia/stdlib/v1.10/LinearAlgebra/src/\u001b[39m\u001b[90m\u001b[4muniformscaling.jl:195\u001b[24m\u001b[39m\n",
              "  [71] +(\u001b[90mH\u001b[39m::\u001b[1mLinearAlgebra.Hermitian\u001b[22m, \u001b[90mD\u001b[39m::\u001b[1mLinearAlgebra.Diagonal\u001b[22m\u001b[0m{var\"#s997\", V} where {var\"#s997\"<:Real, V<:AbstractVector{var\"#s997\"}})\n",
              "\u001b[90m     @\u001b[39m \u001b[36mLinearAlgebra\u001b[39m \u001b[90m/usr/local/share/julia/stdlib/v1.10/LinearAlgebra/src/\u001b[39m\u001b[90m\u001b[4mdiagonal.jl:238\u001b[24m\u001b[39m\n",
              "  [72] +(\u001b[90mA\u001b[39m::\u001b[1mLinearAlgebra.Hermitian\u001b[22m, \u001b[90mB\u001b[39m::\u001b[1mLinearAlgebra.SymTridiagonal\u001b[22m\u001b[0m{var\"#s126\", V} where {var\"#s126\"<:Real, V<:AbstractVector{var\"#s126\"}})\n",
              "\u001b[90m     @\u001b[39m \u001b[36mLinearAlgebra\u001b[39m \u001b[90m/usr/local/share/julia/stdlib/v1.10/LinearAlgebra/src/\u001b[39m\u001b[90m\u001b[4msymmetric.jl:523\u001b[24m\u001b[39m\n",
              "  [73] +(\u001b[90mA\u001b[39m::\u001b[1mLinearAlgebra.Hermitian\u001b[22m, \u001b[90mB\u001b[39m::\u001b[1mLinearAlgebra.Symmetric\u001b[22m\u001b[0m{var\"#s997\", S} where {var\"#s997\"<:Real, S<:(AbstractMatrix{<:var\"#s997\"})})\n",
              "\u001b[90m     @\u001b[39m \u001b[36mLinearAlgebra\u001b[39m \u001b[90m/usr/local/share/julia/stdlib/v1.10/LinearAlgebra/src/\u001b[39m\u001b[90m\u001b[4msymmetric.jl:518\u001b[24m\u001b[39m\n",
              "  [74] +(\u001b[90mA\u001b[39m::\u001b[1mLinearAlgebra.Hermitian\u001b[22m, \u001b[90mB\u001b[39m::\u001b[1mLinearAlgebra.Hermitian\u001b[22m)\n",
              "\u001b[90m     @\u001b[39m \u001b[36mLinearAlgebra\u001b[39m \u001b[90m/usr/local/share/julia/stdlib/v1.10/LinearAlgebra/src/\u001b[39m\u001b[90m\u001b[4msymmetric.jl:504\u001b[24m\u001b[39m\n",
              "  [75] +(\u001b[90my\u001b[39m::\u001b[1mAbstractFloat\u001b[22m, \u001b[90mx\u001b[39m::\u001b[1mBool\u001b[22m)\n",
              "\u001b[90m     @\u001b[39m \u001b[90m\u001b[4mbool.jl:176\u001b[24m\u001b[39m\n",
              "  [76] +(\u001b[90mx\u001b[39m::\u001b[1mRational\u001b[22m, \u001b[90my\u001b[39m::\u001b[1mInteger\u001b[22m)\n",
              "\u001b[90m     @\u001b[39m \u001b[90m\u001b[4mrational.jl:343\u001b[24m\u001b[39m\n",
              "  [77] +(\u001b[90mx\u001b[39m::\u001b[1mRational\u001b[22m, \u001b[90my\u001b[39m::\u001b[1mRational\u001b[22m)\n",
              "\u001b[90m     @\u001b[39m \u001b[90m\u001b[4mrational.jl:314\u001b[24m\u001b[39m\n",
              "  [78] +(\u001b[90mx\u001b[39m::\u001b[1mRational\u001b[22m)\n",
              "\u001b[90m     @\u001b[39m \u001b[90m\u001b[4mrational.jl:300\u001b[24m\u001b[39m\n",
              "  [79] +(\u001b[90mA\u001b[39m::\u001b[1mLinearAlgebra.UnitLowerTriangular\u001b[22m, \u001b[90mB\u001b[39m::\u001b[1mLinearAlgebra.Bidiagonal\u001b[22m)\n",
              "\u001b[90m     @\u001b[39m \u001b[36mLinearAlgebra\u001b[39m \u001b[90m/usr/local/share/julia/stdlib/v1.10/LinearAlgebra/src/\u001b[39m\u001b[90m\u001b[4mspecial.jl:91\u001b[24m\u001b[39m\n",
              "  [80] +(\u001b[90mUL\u001b[39m::\u001b[1mLinearAlgebra.UnitLowerTriangular\u001b[22m, \u001b[90mJ\u001b[39m::\u001b[1mLinearAlgebra.UniformScaling\u001b[22m)\n",
              "\u001b[90m     @\u001b[39m \u001b[36mLinearAlgebra\u001b[39m \u001b[90m/usr/local/share/julia/stdlib/v1.10/LinearAlgebra/src/\u001b[39m\u001b[90m\u001b[4muniformscaling.jl:181\u001b[24m\u001b[39m\n",
              "  [81] +(\u001b[90mx\u001b[39m::\u001b[1mInteger\u001b[22m, \u001b[90my\u001b[39m::\u001b[1mAbstractChar\u001b[22m)\n",
              "\u001b[90m     @\u001b[39m \u001b[90m\u001b[4mchar.jl:247\u001b[24m\u001b[39m\n",
              "  [82] +(\u001b[90my\u001b[39m::\u001b[1mInteger\u001b[22m, \u001b[90mx\u001b[39m::\u001b[1mRational\u001b[22m)\n",
              "\u001b[90m     @\u001b[39m \u001b[90m\u001b[4mrational.jl:350\u001b[24m\u001b[39m\n",
              "  [83] +(\u001b[90mx\u001b[39m::\u001b[1mInteger\u001b[22m, \u001b[90my\u001b[39m::\u001b[1mPtr\u001b[22m)\n",
              "\u001b[90m     @\u001b[39m \u001b[90m\u001b[4mpointer.jl:284\u001b[24m\u001b[39m\n",
              "  [84] +(\u001b[90mc\u001b[39m::\u001b[1mUnion\u001b[22m\u001b[0m{Int16, Int32, Int64, Int8}, \u001b[90mx\u001b[39m::\u001b[1mBigInt\u001b[22m)\n",
              "\u001b[90m     @\u001b[39m \u001b[90mBase.GMP\u001b[39m \u001b[90m\u001b[4mgmp.jl:556\u001b[24m\u001b[39m\n",
              "  [85] +(\u001b[90mc\u001b[39m::\u001b[1mUnion\u001b[22m\u001b[0m{UInt16, UInt32, UInt64, UInt8}, \u001b[90mx\u001b[39m::\u001b[1mBigInt\u001b[22m)\n",
              "\u001b[90m     @\u001b[39m \u001b[90mBase.GMP\u001b[39m \u001b[90m\u001b[4mgmp.jl:550\u001b[24m\u001b[39m\n",
              "  [86] +(\u001b[90mx\u001b[39m::\u001b[1mT\u001b[22m, \u001b[90my\u001b[39m::\u001b[1mT\u001b[22m) where T<:Union{Int128, Int16, Int32, Int64, Int8, UInt128, UInt16, UInt32, UInt64, UInt8}\n",
              "\u001b[90m     @\u001b[39m \u001b[90m\u001b[4mint.jl:87\u001b[24m\u001b[39m\n",
              "  [87] +(\u001b[90ma\u001b[39m::\u001b[1mInteger\u001b[22m, \u001b[90mb\u001b[39m::\u001b[1mInteger\u001b[22m)\n",
              "\u001b[90m     @\u001b[39m \u001b[90m\u001b[4mint.jl:1064\u001b[24m\u001b[39m\n",
              "  [88] +(\u001b[90mx\u001b[39m::\u001b[1mPtr\u001b[22m, \u001b[90my\u001b[39m::\u001b[1mInteger\u001b[22m)\n",
              "\u001b[90m     @\u001b[39m \u001b[90m\u001b[4mpointer.jl:282\u001b[24m\u001b[39m\n",
              "  [89] +(\u001b[90mA\u001b[39m::\u001b[1mLinearAlgebra.UnitUpperTriangular\u001b[22m, \u001b[90mB\u001b[39m::\u001b[1mLinearAlgebra.Bidiagonal\u001b[22m)\n",
              "\u001b[90m     @\u001b[39m \u001b[36mLinearAlgebra\u001b[39m \u001b[90m/usr/local/share/julia/stdlib/v1.10/LinearAlgebra/src/\u001b[39m\u001b[90m\u001b[4mspecial.jl:91\u001b[24m\u001b[39m\n",
              "  [90] +(\u001b[90mx\u001b[39m::\u001b[1mLinearAlgebra.UnitUpperTriangular\u001b[22m, \u001b[90mH\u001b[39m::\u001b[1mLinearAlgebra.UpperHessenberg\u001b[22m)\n",
              "\u001b[90m     @\u001b[39m \u001b[36mLinearAlgebra\u001b[39m \u001b[90m/usr/local/share/julia/stdlib/v1.10/LinearAlgebra/src/\u001b[39m\u001b[90m\u001b[4mhessenberg.jl:120\u001b[24m\u001b[39m\n",
              "  [91] +(\u001b[90mUL\u001b[39m::\u001b[1mLinearAlgebra.UnitUpperTriangular\u001b[22m, \u001b[90mJ\u001b[39m::\u001b[1mLinearAlgebra.UniformScaling\u001b[22m)\n",
              "\u001b[90m     @\u001b[39m \u001b[36mLinearAlgebra\u001b[39m \u001b[90m/usr/local/share/julia/stdlib/v1.10/LinearAlgebra/src/\u001b[39m\u001b[90m\u001b[4muniformscaling.jl:181\u001b[24m\u001b[39m\n",
              "  [92] +(\u001b[90mD\u001b[39m::\u001b[1mLinearAlgebra.Diagonal\u001b[22m\u001b[0m{var\"#s997\", V} where {var\"#s997\"<:Real, V<:AbstractVector{var\"#s997\"}}, \u001b[90mH\u001b[39m::\u001b[1mLinearAlgebra.Hermitian\u001b[22m)\n",
              "\u001b[90m     @\u001b[39m \u001b[36mLinearAlgebra\u001b[39m \u001b[90m/usr/local/share/julia/stdlib/v1.10/LinearAlgebra/src/\u001b[39m\u001b[90m\u001b[4mdiagonal.jl:235\u001b[24m\u001b[39m\n",
              "  [93] +(\u001b[90mA\u001b[39m::\u001b[1mLinearAlgebra.Diagonal\u001b[22m, \u001b[90mB\u001b[39m::\u001b[1mLinearAlgebra.UniformScaling\u001b[22m)\n",
              "\u001b[90m     @\u001b[39m \u001b[36mLinearAlgebra\u001b[39m \u001b[90m/usr/local/share/julia/stdlib/v1.10/LinearAlgebra/src/\u001b[39m\u001b[90m\u001b[4mspecial.jl:247\u001b[24m\u001b[39m\n",
              "  [94] +(\u001b[90mD\u001b[39m::\u001b[1mLinearAlgebra.Diagonal\u001b[22m, \u001b[90mS\u001b[39m::\u001b[1mLinearAlgebra.Symmetric\u001b[22m)\n",
              "\u001b[90m     @\u001b[39m \u001b[36mLinearAlgebra\u001b[39m \u001b[90m/usr/local/share/julia/stdlib/v1.10/LinearAlgebra/src/\u001b[39m\u001b[90m\u001b[4mdiagonal.jl:229\u001b[24m\u001b[39m\n",
              "  [95] +(\u001b[90mx\u001b[39m::\u001b[1mLinearAlgebra.Diagonal\u001b[22m, \u001b[90mH\u001b[39m::\u001b[1mLinearAlgebra.UpperHessenberg\u001b[22m)\n",
              "\u001b[90m     @\u001b[39m \u001b[36mLinearAlgebra\u001b[39m \u001b[90m/usr/local/share/julia/stdlib/v1.10/LinearAlgebra/src/\u001b[39m\u001b[90m\u001b[4mhessenberg.jl:120\u001b[24m\u001b[39m\n",
              "  [96] +(\u001b[90mDa\u001b[39m::\u001b[1mLinearAlgebra.Diagonal\u001b[22m, \u001b[90mDb\u001b[39m::\u001b[1mLinearAlgebra.Diagonal\u001b[22m)\n",
              "\u001b[90m     @\u001b[39m \u001b[36mLinearAlgebra\u001b[39m \u001b[90m/usr/local/share/julia/stdlib/v1.10/LinearAlgebra/src/\u001b[39m\u001b[90m\u001b[4mdiagonal.jl:225\u001b[24m\u001b[39m\n",
              "  [97] +(\u001b[90mA\u001b[39m::\u001b[1mLinearAlgebra.Diagonal\u001b[22m, \u001b[90mB\u001b[39m::\u001b[1mLinearAlgebra.Tridiagonal\u001b[22m)\n",
              "\u001b[90m     @\u001b[39m \u001b[36mLinearAlgebra\u001b[39m \u001b[90m/usr/local/share/julia/stdlib/v1.10/LinearAlgebra/src/\u001b[39m\u001b[90m\u001b[4mspecial.jl:187\u001b[24m\u001b[39m\n",
              "  [98] +(\u001b[90mA\u001b[39m::\u001b[1mLinearAlgebra.Diagonal\u001b[22m, \u001b[90mB\u001b[39m::\u001b[1mLinearAlgebra.SymTridiagonal\u001b[22m)\n",
              "\u001b[90m     @\u001b[39m \u001b[36mLinearAlgebra\u001b[39m \u001b[90m/usr/local/share/julia/stdlib/v1.10/LinearAlgebra/src/\u001b[39m\u001b[90m\u001b[4mspecial.jl:166\u001b[24m\u001b[39m\n",
              "  [99] +(\u001b[90mB\u001b[39m::\u001b[1mLinearAlgebra.Diagonal\u001b[22m, \u001b[90mA\u001b[39m::\u001b[1mLinearAlgebra.Bidiagonal\u001b[22m)\n",
              "\u001b[90m     @\u001b[39m \u001b[36mLinearAlgebra\u001b[39m \u001b[90m\u001b[4mnone:0\u001b[24m\u001b[39m\n",
              " [100] +(\u001b[90mx\u001b[39m::\u001b[1mT\u001b[22m, \u001b[90my\u001b[39m::\u001b[1mInteger\u001b[22m) where T<:AbstractChar\n",
              "\u001b[90m     @\u001b[39m \u001b[90m\u001b[4mchar.jl:237\u001b[24m\u001b[39m\n",
              " [101] +(\u001b[90mr1\u001b[39m::\u001b[1mStepRangeLen\u001b[22m\u001b[0m{T, R}, \u001b[90mr2\u001b[39m::\u001b[1mStepRangeLen\u001b[22m\u001b[0m{T, R}) where {R<:Base.TwicePrecision, T}\n",
              "\u001b[90m     @\u001b[39m \u001b[90m\u001b[4mtwiceprecision.jl:626\u001b[24m\u001b[39m\n",
              " [102] +(\u001b[90mr1\u001b[39m::\u001b[1mStepRangeLen\u001b[22m\u001b[0m{T, S}, \u001b[90mr2\u001b[39m::\u001b[1mStepRangeLen\u001b[22m\u001b[0m{T, S}) where {T, S}\n",
              "\u001b[90m     @\u001b[39m \u001b[90m\u001b[4mrange.jl:1477\u001b[24m\u001b[39m\n",
              " [103] +(\u001b[90mA\u001b[39m::\u001b[1mLinearAlgebra.SymTridiagonal\u001b[22m, \u001b[90mB\u001b[39m::\u001b[1mLinearAlgebra.SymTridiagonal\u001b[22m)\n",
              "\u001b[90m     @\u001b[39m \u001b[36mLinearAlgebra\u001b[39m \u001b[90m/usr/local/share/julia/stdlib/v1.10/LinearAlgebra/src/\u001b[39m\u001b[90m\u001b[4mtridiag.jl:210\u001b[24m\u001b[39m\n",
              " [104] +(\u001b[90mA\u001b[39m::\u001b[1mLinearAlgebra.SymTridiagonal\u001b[22m, \u001b[90mB\u001b[39m::\u001b[1mLinearAlgebra.UniformScaling\u001b[22m)\n",
              "\u001b[90m     @\u001b[39m \u001b[36mLinearAlgebra\u001b[39m \u001b[90m/usr/local/share/julia/stdlib/v1.10/LinearAlgebra/src/\u001b[39m\u001b[90m\u001b[4mspecial.jl:237\u001b[24m\u001b[39m\n",
              " [105] +(\u001b[90mA\u001b[39m::\u001b[1mLinearAlgebra.SymTridiagonal\u001b[22m, \u001b[90mB\u001b[39m::\u001b[1mLinearAlgebra.Symmetric\u001b[22m)\n",
              "\u001b[90m     @\u001b[39m \u001b[36mLinearAlgebra\u001b[39m \u001b[90m/usr/local/share/julia/stdlib/v1.10/LinearAlgebra/src/\u001b[39m\u001b[90m\u001b[4msymmetric.jl:520\u001b[24m\u001b[39m\n",
              " [106] +(\u001b[90mB\u001b[39m::\u001b[1mLinearAlgebra.SymTridiagonal\u001b[22m, \u001b[90mA\u001b[39m::\u001b[1mLinearAlgebra.Diagonal\u001b[22m)\n",
              "\u001b[90m     @\u001b[39m \u001b[36mLinearAlgebra\u001b[39m \u001b[90m\u001b[4mnone:0\u001b[24m\u001b[39m\n",
              " [107] +(\u001b[90mx\u001b[39m::\u001b[1mLinearAlgebra.SymTridiagonal\u001b[22m, \u001b[90mH\u001b[39m::\u001b[1mLinearAlgebra.UpperHessenberg\u001b[22m)\n",
              "\u001b[90m     @\u001b[39m \u001b[36mLinearAlgebra\u001b[39m \u001b[90m/usr/local/share/julia/stdlib/v1.10/LinearAlgebra/src/\u001b[39m\u001b[90m\u001b[4mhessenberg.jl:120\u001b[24m\u001b[39m\n",
              " [108] +(\u001b[90mB\u001b[39m::\u001b[1mLinearAlgebra.SymTridiagonal\u001b[22m, \u001b[90mA\u001b[39m::\u001b[1mLinearAlgebra.Tridiagonal\u001b[22m)\n",
              "\u001b[90m     @\u001b[39m \u001b[36mLinearAlgebra\u001b[39m \u001b[90m\u001b[4mnone:0\u001b[24m\u001b[39m\n",
              " [109] +(\u001b[90mB\u001b[39m::\u001b[1mLinearAlgebra.SymTridiagonal\u001b[22m, \u001b[90mA\u001b[39m::\u001b[1mLinearAlgebra.Bidiagonal\u001b[22m)\n",
              "\u001b[90m     @\u001b[39m \u001b[36mLinearAlgebra\u001b[39m \u001b[90m\u001b[4mnone:0\u001b[24m\u001b[39m\n",
              " [110] +(\u001b[90mA\u001b[39m::\u001b[1mLinearAlgebra.SymTridiagonal\u001b[22m\u001b[0m{var\"#s127\", V} where {var\"#s127\"<:Real, V<:AbstractVector{var\"#s127\"}}, \u001b[90mB\u001b[39m::\u001b[1mLinearAlgebra.Hermitian\u001b[22m)\n",
              "\u001b[90m     @\u001b[39m \u001b[36mLinearAlgebra\u001b[39m \u001b[90m/usr/local/share/julia/stdlib/v1.10/LinearAlgebra/src/\u001b[39m\u001b[90m\u001b[4msymmetric.jl:522\u001b[24m\u001b[39m\n",
              " [111] +(\u001b[90mx\u001b[39m::\u001b[1mBase.TwicePrecision\u001b[22m\u001b[0m{T}, \u001b[90my\u001b[39m::\u001b[1mBase.TwicePrecision\u001b[22m\u001b[0m{T}) where T\n",
              "\u001b[90m     @\u001b[39m \u001b[90m\u001b[4mtwiceprecision.jl:294\u001b[24m\u001b[39m\n",
              " [112] +(\u001b[90mx\u001b[39m::\u001b[1mBase.TwicePrecision\u001b[22m, \u001b[90my\u001b[39m::\u001b[1mBase.TwicePrecision\u001b[22m)\n",
              "\u001b[90m     @\u001b[39m \u001b[90m\u001b[4mtwiceprecision.jl:299\u001b[24m\u001b[39m\n",
              " [113] +(\u001b[90mx\u001b[39m::\u001b[1mBase.TwicePrecision\u001b[22m, \u001b[90my\u001b[39m::\u001b[1mNumber\u001b[22m)\n",
              "\u001b[90m     @\u001b[39m \u001b[90m\u001b[4mtwiceprecision.jl:288\u001b[24m\u001b[39m\n",
              " [114] +(\u001b[90mx\u001b[39m::\u001b[1mReal\u001b[22m, \u001b[90mz\u001b[39m::\u001b[1mComplex\u001b[22m)\n",
              "\u001b[90m     @\u001b[39m \u001b[90m\u001b[4mcomplex.jl:331\u001b[24m\u001b[39m\n",
              " [115] +(\u001b[90mx\u001b[39m::\u001b[1mNumber\u001b[22m, \u001b[90mJ\u001b[39m::\u001b[1mLinearAlgebra.UniformScaling\u001b[22m)\n",
              "\u001b[90m     @\u001b[39m \u001b[36mLinearAlgebra\u001b[39m \u001b[90m/usr/local/share/julia/stdlib/v1.10/LinearAlgebra/src/\u001b[39m\u001b[90m\u001b[4muniformscaling.jl:145\u001b[24m\u001b[39m\n",
              " [116] +(::\u001b[1mNumber\u001b[22m, ::\u001b[1mMissing\u001b[22m)\n",
              "\u001b[90m     @\u001b[39m \u001b[90m\u001b[4mmissing.jl:124\u001b[24m\u001b[39m\n",
              " [117] +(\u001b[90mx\u001b[39m::\u001b[1mNumber\u001b[22m, \u001b[90my\u001b[39m::\u001b[1mBase.TwicePrecision\u001b[22m)\n",
              "\u001b[90m     @\u001b[39m \u001b[90m\u001b[4mtwiceprecision.jl:292\u001b[24m\u001b[39m\n",
              " [118] +(\u001b[90mz\u001b[39m::\u001b[1mComplex\u001b[22m)\n",
              "\u001b[90m     @\u001b[39m \u001b[90m\u001b[4mcomplex.jl:292\u001b[24m\u001b[39m\n",
              " [119] +(\u001b[90mx\u001b[39m::\u001b[1mNumber\u001b[22m)\n",
              "\u001b[90m     @\u001b[39m \u001b[90m\u001b[4moperators.jl:524\u001b[24m\u001b[39m\n",
              " [120] +(\u001b[90mz\u001b[39m::\u001b[1mComplex\u001b[22m, \u001b[90mw\u001b[39m::\u001b[1mComplex\u001b[22m)\n",
              "\u001b[90m     @\u001b[39m \u001b[90m\u001b[4mcomplex.jl:294\u001b[24m\u001b[39m\n",
              " [121] +(\u001b[90mx\u001b[39m::\u001b[1mAbstractIrrational\u001b[22m, \u001b[90my\u001b[39m::\u001b[1mAbstractIrrational\u001b[22m)\n",
              "\u001b[90m     @\u001b[39m \u001b[90m\u001b[4mirrationals.jl:176\u001b[24m\u001b[39m\n",
              " [122] +(\u001b[90mx\u001b[39m::\u001b[1mT\u001b[22m, \u001b[90my\u001b[39m::\u001b[1mT\u001b[22m) where T<:Union{Float16, Float32, Float64}\n",
              "\u001b[90m     @\u001b[39m \u001b[90m\u001b[4mfloat.jl:409\u001b[24m\u001b[39m\n",
              " [123] +(\u001b[90mx\u001b[39m::\u001b[1mT\u001b[22m, \u001b[90my\u001b[39m::\u001b[1mT\u001b[22m) where T<:Number\n",
              "\u001b[90m     @\u001b[39m \u001b[90m\u001b[4mpromotion.jl:507\u001b[24m\u001b[39m\n",
              " [124] +(\u001b[90mz\u001b[39m::\u001b[1mComplex\u001b[22m, \u001b[90mx\u001b[39m::\u001b[1mReal\u001b[22m)\n",
              "\u001b[90m     @\u001b[39m \u001b[90m\u001b[4mcomplex.jl:332\u001b[24m\u001b[39m\n",
              " [125] +(\u001b[90mc\u001b[39m::\u001b[1mUnion\u001b[22m\u001b[0m{Float16, Float32, Float64}, \u001b[90mx\u001b[39m::\u001b[1mBigFloat\u001b[22m)\n",
              "\u001b[90m     @\u001b[39m \u001b[90mBase.MPFR\u001b[39m \u001b[90m\u001b[4mmpfr.jl:460\u001b[24m\u001b[39m\n",
              " [126] +(\u001b[90mc\u001b[39m::\u001b[1mUnion\u001b[22m\u001b[0m{Int16, Int32, Int64, Int8}, \u001b[90mx\u001b[39m::\u001b[1mBigFloat\u001b[22m)\n",
              "\u001b[90m     @\u001b[39m \u001b[90mBase.MPFR\u001b[39m \u001b[90m\u001b[4mmpfr.jl:452\u001b[24m\u001b[39m\n",
              " [127] +(\u001b[90mc\u001b[39m::\u001b[1mUnion\u001b[22m\u001b[0m{UInt16, UInt32, UInt64, UInt8}, \u001b[90mx\u001b[39m::\u001b[1mBigFloat\u001b[22m)\n",
              "\u001b[90m     @\u001b[39m \u001b[90mBase.MPFR\u001b[39m \u001b[90m\u001b[4mmpfr.jl:444\u001b[24m\u001b[39m\n",
              " [128] +(\u001b[90mx\u001b[39m::\u001b[1mNumber\u001b[22m, \u001b[90my\u001b[39m::\u001b[1mNumber\u001b[22m)\n",
              "\u001b[90m     @\u001b[39m \u001b[90m\u001b[4mpromotion.jl:422\u001b[24m\u001b[39m\n",
              " [129] +(\u001b[90mS\u001b[39m::\u001b[1mLinearAlgebra.Symmetric\u001b[22m, \u001b[90mD\u001b[39m::\u001b[1mLinearAlgebra.Diagonal\u001b[22m)\n",
              "\u001b[90m     @\u001b[39m \u001b[36mLinearAlgebra\u001b[39m \u001b[90m/usr/local/share/julia/stdlib/v1.10/LinearAlgebra/src/\u001b[39m\u001b[90m\u001b[4mdiagonal.jl:232\u001b[24m\u001b[39m\n",
              " [130] +(\u001b[90mA\u001b[39m::\u001b[1mLinearAlgebra.Symmetric\u001b[22m, \u001b[90mB\u001b[39m::\u001b[1mLinearAlgebra.SymTridiagonal\u001b[22m)\n",
              "\u001b[90m     @\u001b[39m \u001b[36mLinearAlgebra\u001b[39m \u001b[90m/usr/local/share/julia/stdlib/v1.10/LinearAlgebra/src/\u001b[39m\u001b[90m\u001b[4msymmetric.jl:521\u001b[24m\u001b[39m\n",
              " [131] +(\u001b[90mA\u001b[39m::\u001b[1mLinearAlgebra.Symmetric\u001b[22m\u001b[0m{var\"#s128\", S} where {var\"#s128\"<:Real, S<:(AbstractMatrix{<:var\"#s128\"})}, \u001b[90mB\u001b[39m::\u001b[1mLinearAlgebra.Hermitian\u001b[22m)\n",
              "\u001b[90m     @\u001b[39m \u001b[36mLinearAlgebra\u001b[39m \u001b[90m/usr/local/share/julia/stdlib/v1.10/LinearAlgebra/src/\u001b[39m\u001b[90m\u001b[4msymmetric.jl:519\u001b[24m\u001b[39m\n",
              " [132] +(\u001b[90mA\u001b[39m::\u001b[1mLinearAlgebra.Symmetric\u001b[22m, \u001b[90mB\u001b[39m::\u001b[1mLinearAlgebra.Symmetric\u001b[22m)\n",
              "\u001b[90m     @\u001b[39m \u001b[36mLinearAlgebra\u001b[39m \u001b[90m/usr/local/share/julia/stdlib/v1.10/LinearAlgebra/src/\u001b[39m\u001b[90m\u001b[4msymmetric.jl:504\u001b[24m\u001b[39m\n",
              " [133] +(\u001b[90mJ\u001b[39m::\u001b[1mLinearAlgebra.UniformScaling\u001b[22m, \u001b[90mB\u001b[39m::\u001b[1mBitMatrix\u001b[22m)\n",
              "\u001b[90m     @\u001b[39m \u001b[36mLinearAlgebra\u001b[39m \u001b[90m/usr/local/share/julia/stdlib/v1.10/LinearAlgebra/src/\u001b[39m\u001b[90m\u001b[4muniformscaling.jl:152\u001b[24m\u001b[39m\n",
              " [134] +(\u001b[90mJ\u001b[39m::\u001b[1mLinearAlgebra.UniformScaling\u001b[22m, \u001b[90mF\u001b[39m::\u001b[1mLinearAlgebra.Hessenberg\u001b[22m)\n",
              "\u001b[90m     @\u001b[39m \u001b[36mLinearAlgebra\u001b[39m \u001b[90m/usr/local/share/julia/stdlib/v1.10/LinearAlgebra/src/\u001b[39m\u001b[90m\u001b[4mhessenberg.jl:561\u001b[24m\u001b[39m\n",
              " [135] +(\u001b[90mJ\u001b[39m::\u001b[1mLinearAlgebra.UniformScaling\u001b[22m, \u001b[90mx\u001b[39m::\u001b[1mNumber\u001b[22m)\n",
              "\u001b[90m     @\u001b[39m \u001b[36mLinearAlgebra\u001b[39m \u001b[90m/usr/local/share/julia/stdlib/v1.10/LinearAlgebra/src/\u001b[39m\u001b[90m\u001b[4muniformscaling.jl:144\u001b[24m\u001b[39m\n",
              " [136] +(\u001b[90mx\u001b[39m::\u001b[1mLinearAlgebra.UniformScaling\u001b[22m, \u001b[90mH\u001b[39m::\u001b[1mLinearAlgebra.UpperHessenberg\u001b[22m)\n",
              "\u001b[90m     @\u001b[39m \u001b[36mLinearAlgebra\u001b[39m \u001b[90m/usr/local/share/julia/stdlib/v1.10/LinearAlgebra/src/\u001b[39m\u001b[90m\u001b[4mhessenberg.jl:120\u001b[24m\u001b[39m\n",
              " [137] +(\u001b[90mJ1\u001b[39m::\u001b[1mLinearAlgebra.UniformScaling\u001b[22m, \u001b[90mJ2\u001b[39m::\u001b[1mLinearAlgebra.UniformScaling\u001b[22m)\n",
              "\u001b[90m     @\u001b[39m \u001b[36mLinearAlgebra\u001b[39m \u001b[90m/usr/local/share/julia/stdlib/v1.10/LinearAlgebra/src/\u001b[39m\u001b[90m\u001b[4muniformscaling.jl:150\u001b[24m\u001b[39m\n",
              " [138] +(\u001b[90mB\u001b[39m::\u001b[1mLinearAlgebra.UniformScaling\u001b[22m, \u001b[90mA\u001b[39m::\u001b[1mLinearAlgebra.Tridiagonal\u001b[22m)\n",
              "\u001b[90m     @\u001b[39m \u001b[36mLinearAlgebra\u001b[39m \u001b[90m\u001b[4mnone:0\u001b[24m\u001b[39m\n",
              " [139] +(\u001b[90mB\u001b[39m::\u001b[1mLinearAlgebra.UniformScaling\u001b[22m, \u001b[90mA\u001b[39m::\u001b[1mLinearAlgebra.Bidiagonal\u001b[22m)\n",
              "\u001b[90m     @\u001b[39m \u001b[36mLinearAlgebra\u001b[39m \u001b[90m\u001b[4mnone:0\u001b[24m\u001b[39m\n",
              " [140] +(\u001b[90mB\u001b[39m::\u001b[1mLinearAlgebra.UniformScaling\u001b[22m, \u001b[90mA\u001b[39m::\u001b[1mLinearAlgebra.Diagonal\u001b[22m)\n",
              "\u001b[90m     @\u001b[39m \u001b[36mLinearAlgebra\u001b[39m \u001b[90m\u001b[4mnone:0\u001b[24m\u001b[39m\n",
              " [141] +(\u001b[90mB\u001b[39m::\u001b[1mLinearAlgebra.UniformScaling\u001b[22m, \u001b[90mA\u001b[39m::\u001b[1mLinearAlgebra.SymTridiagonal\u001b[22m)\n",
              "\u001b[90m     @\u001b[39m \u001b[36mLinearAlgebra\u001b[39m \u001b[90m\u001b[4mnone:0\u001b[24m\u001b[39m\n",
              " [142] +(\u001b[90mJ\u001b[39m::\u001b[1mLinearAlgebra.UniformScaling\u001b[22m, \u001b[90mA\u001b[39m::\u001b[1mAbstractMatrix\u001b[22m)\n",
              "\u001b[90m     @\u001b[39m \u001b[36mLinearAlgebra\u001b[39m \u001b[90m/usr/local/share/julia/stdlib/v1.10/LinearAlgebra/src/\u001b[39m\u001b[90m\u001b[4muniformscaling.jl:153\u001b[24m\u001b[39m\n",
              " [143] +(\u001b[90mJ\u001b[39m::\u001b[1mLinearAlgebra.UniformScaling\u001b[22m)\n",
              "\u001b[90m     @\u001b[39m \u001b[36mLinearAlgebra\u001b[39m \u001b[90m/usr/local/share/julia/stdlib/v1.10/LinearAlgebra/src/\u001b[39m\u001b[90m\u001b[4muniformscaling.jl:149\u001b[24m\u001b[39m\n",
              " [144] +(\u001b[90mA\u001b[39m::\u001b[1mBitArray\u001b[22m, \u001b[90mB\u001b[39m::\u001b[1mBitArray\u001b[22m)\n",
              "\u001b[90m     @\u001b[39m \u001b[90m\u001b[4mbitarray.jl:1184\u001b[24m\u001b[39m\n",
              " [145] +(\u001b[90mx\u001b[39m::\u001b[1mLinearAlgebra.Bidiagonal\u001b[22m, \u001b[90mH\u001b[39m::\u001b[1mLinearAlgebra.UpperHessenberg\u001b[22m)\n",
              "\u001b[90m     @\u001b[39m \u001b[36mLinearAlgebra\u001b[39m \u001b[90m/usr/local/share/julia/stdlib/v1.10/LinearAlgebra/src/\u001b[39m\u001b[90m\u001b[4mhessenberg.jl:120\u001b[24m\u001b[39m\n",
              " [146] +(\u001b[90mA\u001b[39m::\u001b[1mLinearAlgebra.Bidiagonal\u001b[22m, \u001b[90mB\u001b[39m::\u001b[1mLinearAlgebra.LowerTriangular\u001b[22m)\n",
              "\u001b[90m     @\u001b[39m \u001b[36mLinearAlgebra\u001b[39m \u001b[90m/usr/local/share/julia/stdlib/v1.10/LinearAlgebra/src/\u001b[39m\u001b[90m\u001b[4mspecial.jl:99\u001b[24m\u001b[39m\n",
              " [147] +(\u001b[90mA\u001b[39m::\u001b[1mLinearAlgebra.Bidiagonal\u001b[22m, \u001b[90mB\u001b[39m::\u001b[1mLinearAlgebra.Tridiagonal\u001b[22m)\n",
              "\u001b[90m     @\u001b[39m \u001b[36mLinearAlgebra\u001b[39m \u001b[90m/usr/local/share/julia/stdlib/v1.10/LinearAlgebra/src/\u001b[39m\u001b[90m\u001b[4mspecial.jl:202\u001b[24m\u001b[39m\n",
              " [148] +(\u001b[90mA\u001b[39m::\u001b[1mLinearAlgebra.Bidiagonal\u001b[22m, \u001b[90mB\u001b[39m::\u001b[1mLinearAlgebra.Bidiagonal\u001b[22m)\n",
              "\u001b[90m     @\u001b[39m \u001b[36mLinearAlgebra\u001b[39m \u001b[90m/usr/local/share/julia/stdlib/v1.10/LinearAlgebra/src/\u001b[39m\u001b[90m\u001b[4mbidiag.jl:390\u001b[24m\u001b[39m\n",
              " [149] +(\u001b[90mA\u001b[39m::\u001b[1mLinearAlgebra.Bidiagonal\u001b[22m, \u001b[90mB\u001b[39m::\u001b[1mLinearAlgebra.UnitUpperTriangular\u001b[22m)\n",
              "\u001b[90m     @\u001b[39m \u001b[36mLinearAlgebra\u001b[39m \u001b[90m/usr/local/share/julia/stdlib/v1.10/LinearAlgebra/src/\u001b[39m\u001b[90m\u001b[4mspecial.jl:99\u001b[24m\u001b[39m\n",
              " [150] +(\u001b[90mA\u001b[39m::\u001b[1mLinearAlgebra.Bidiagonal\u001b[22m, \u001b[90mB\u001b[39m::\u001b[1mLinearAlgebra.UpperTriangular\u001b[22m)\n",
              "\u001b[90m     @\u001b[39m \u001b[36mLinearAlgebra\u001b[39m \u001b[90m/usr/local/share/julia/stdlib/v1.10/LinearAlgebra/src/\u001b[39m\u001b[90m\u001b[4mspecial.jl:99\u001b[24m\u001b[39m\n",
              " [151] +(\u001b[90mA\u001b[39m::\u001b[1mLinearAlgebra.Bidiagonal\u001b[22m, \u001b[90mB\u001b[39m::\u001b[1mLinearAlgebra.UniformScaling\u001b[22m)\n",
              "\u001b[90m     @\u001b[39m \u001b[36mLinearAlgebra\u001b[39m \u001b[90m/usr/local/share/julia/stdlib/v1.10/LinearAlgebra/src/\u001b[39m\u001b[90m\u001b[4mspecial.jl:242\u001b[24m\u001b[39m\n",
              " [152] +(\u001b[90mA\u001b[39m::\u001b[1mLinearAlgebra.Bidiagonal\u001b[22m, \u001b[90mB\u001b[39m::\u001b[1mLinearAlgebra.Diagonal\u001b[22m)\n",
              "\u001b[90m     @\u001b[39m \u001b[36mLinearAlgebra\u001b[39m \u001b[90m/usr/local/share/julia/stdlib/v1.10/LinearAlgebra/src/\u001b[39m\u001b[90m\u001b[4mspecial.jl:151\u001b[24m\u001b[39m\n",
              " [153] +(\u001b[90mA\u001b[39m::\u001b[1mLinearAlgebra.Bidiagonal\u001b[22m, \u001b[90mB\u001b[39m::\u001b[1mLinearAlgebra.UnitLowerTriangular\u001b[22m)\n",
              "\u001b[90m     @\u001b[39m \u001b[36mLinearAlgebra\u001b[39m \u001b[90m/usr/local/share/julia/stdlib/v1.10/LinearAlgebra/src/\u001b[39m\u001b[90m\u001b[4mspecial.jl:99\u001b[24m\u001b[39m\n",
              " [154] +(\u001b[90mA\u001b[39m::\u001b[1mLinearAlgebra.Bidiagonal\u001b[22m, \u001b[90mB\u001b[39m::\u001b[1mLinearAlgebra.SymTridiagonal\u001b[22m)\n",
              "\u001b[90m     @\u001b[39m \u001b[36mLinearAlgebra\u001b[39m \u001b[90m/usr/local/share/julia/stdlib/v1.10/LinearAlgebra/src/\u001b[39m\u001b[90m\u001b[4mspecial.jl:217\u001b[24m\u001b[39m\n",
              " [155] +(\u001b[90mF\u001b[39m::\u001b[1mLinearAlgebra.Hessenberg\u001b[22m, \u001b[90mJ\u001b[39m::\u001b[1mLinearAlgebra.UniformScaling\u001b[22m)\n",
              "\u001b[90m     @\u001b[39m \u001b[36mLinearAlgebra\u001b[39m \u001b[90m/usr/local/share/julia/stdlib/v1.10/LinearAlgebra/src/\u001b[39m\u001b[90m\u001b[4mhessenberg.jl:560\u001b[24m\u001b[39m\n",
              " [156] +(\u001b[90mx\u001b[39m::\u001b[1mDates.AbstractTime\u001b[22m, \u001b[90my\u001b[39m::\u001b[1mMissing\u001b[22m)\n",
              "\u001b[90m     @\u001b[39m \u001b[35mDates\u001b[39m \u001b[90m/usr/local/share/julia/stdlib/v1.10/Dates/src/\u001b[39m\u001b[90m\u001b[4marithmetic.jl:90\u001b[24m\u001b[39m\n",
              " [157] +(\u001b[90mr\u001b[39m::\u001b[1mAbstractRange\u001b[22m\u001b[0m{<:Dates.TimeType}, \u001b[90mx\u001b[39m::\u001b[1mDates.Period\u001b[22m)\n",
              "\u001b[90m     @\u001b[39m \u001b[35mDates\u001b[39m \u001b[90m/usr/local/share/julia/stdlib/v1.10/Dates/src/\u001b[39m\u001b[90m\u001b[4mranges.jl:65\u001b[24m\u001b[39m\n",
              " [158] +(\u001b[90mr1\u001b[39m::\u001b[1mLinRange\u001b[22m\u001b[0m{T}, \u001b[90mr2\u001b[39m::\u001b[1mLinRange\u001b[22m\u001b[0m{T}) where T\n",
              "\u001b[90m     @\u001b[39m \u001b[90m\u001b[4mrange.jl:1461\u001b[24m\u001b[39m\n",
              " [159] +(\u001b[90mA\u001b[39m::\u001b[1mLinearAlgebra.LowerTriangular\u001b[22m, \u001b[90mB\u001b[39m::\u001b[1mLinearAlgebra.Bidiagonal\u001b[22m)\n",
              "\u001b[90m     @\u001b[39m \u001b[36mLinearAlgebra\u001b[39m \u001b[90m/usr/local/share/julia/stdlib/v1.10/LinearAlgebra/src/\u001b[39m\u001b[90m\u001b[4mspecial.jl:91\u001b[24m\u001b[39m\n",
              " [160] +(\u001b[90mA\u001b[39m::\u001b[1mLinearAlgebra.Tridiagonal\u001b[22m, \u001b[90mB\u001b[39m::\u001b[1mLinearAlgebra.UniformScaling\u001b[22m)\n",
              "\u001b[90m     @\u001b[39m \u001b[36mLinearAlgebra\u001b[39m \u001b[90m/usr/local/share/julia/stdlib/v1.10/LinearAlgebra/src/\u001b[39m\u001b[90m\u001b[4mspecial.jl:232\u001b[24m\u001b[39m\n",
              " [161] +(\u001b[90mB\u001b[39m::\u001b[1mLinearAlgebra.Tridiagonal\u001b[22m, \u001b[90mA\u001b[39m::\u001b[1mLinearAlgebra.Bidiagonal\u001b[22m)\n",
              "\u001b[90m     @\u001b[39m \u001b[36mLinearAlgebra\u001b[39m \u001b[90m\u001b[4mnone:0\u001b[24m\u001b[39m\n",
              " [162] +(\u001b[90mB\u001b[39m::\u001b[1mLinearAlgebra.Tridiagonal\u001b[22m, \u001b[90mA\u001b[39m::\u001b[1mLinearAlgebra.Diagonal\u001b[22m)\n",
              "\u001b[90m     @\u001b[39m \u001b[36mLinearAlgebra\u001b[39m \u001b[90m\u001b[4mnone:0\u001b[24m\u001b[39m\n",
              " [163] +(\u001b[90mA\u001b[39m::\u001b[1mLinearAlgebra.Tridiagonal\u001b[22m, \u001b[90mB\u001b[39m::\u001b[1mLinearAlgebra.SymTridiagonal\u001b[22m)\n",
              "\u001b[90m     @\u001b[39m \u001b[36mLinearAlgebra\u001b[39m \u001b[90m/usr/local/share/julia/stdlib/v1.10/LinearAlgebra/src/\u001b[39m\u001b[90m\u001b[4mspecial.jl:183\u001b[24m\u001b[39m\n",
              " [164] +(\u001b[90mx\u001b[39m::\u001b[1mLinearAlgebra.Tridiagonal\u001b[22m, \u001b[90mH\u001b[39m::\u001b[1mLinearAlgebra.UpperHessenberg\u001b[22m)\n",
              "\u001b[90m     @\u001b[39m \u001b[36mLinearAlgebra\u001b[39m \u001b[90m/usr/local/share/julia/stdlib/v1.10/LinearAlgebra/src/\u001b[39m\u001b[90m\u001b[4mhessenberg.jl:120\u001b[24m\u001b[39m\n",
              " [165] +(\u001b[90mA\u001b[39m::\u001b[1mLinearAlgebra.Tridiagonal\u001b[22m, \u001b[90mB\u001b[39m::\u001b[1mLinearAlgebra.Tridiagonal\u001b[22m)\n",
              "\u001b[90m     @\u001b[39m \u001b[36mLinearAlgebra\u001b[39m \u001b[90m/usr/local/share/julia/stdlib/v1.10/LinearAlgebra/src/\u001b[39m\u001b[90m\u001b[4mtridiag.jl:739\u001b[24m\u001b[39m\n",
              " [166] +(\u001b[90my\u001b[39m::\u001b[1mDates.TimeType\u001b[22m, \u001b[90mx\u001b[39m::\u001b[1mStridedArray\u001b[22m\u001b[0m{<:Union{Dates.CompoundPeriod, Dates.Period}})\n",
              "\u001b[90m     @\u001b[39m \u001b[35mDates\u001b[39m \u001b[90m/usr/local/share/julia/stdlib/v1.10/Dates/src/\u001b[39m\u001b[90m\u001b[4mdeprecated.jl:18\u001b[24m\u001b[39m\n",
              " [167] +(\u001b[90mx\u001b[39m::\u001b[1mDates.TimeType\u001b[22m)\n",
              "\u001b[90m     @\u001b[39m \u001b[35mDates\u001b[39m \u001b[90m/usr/local/share/julia/stdlib/v1.10/Dates/src/\u001b[39m\u001b[90m\u001b[4marithmetic.jl:8\u001b[24m\u001b[39m\n",
              " [168] +(\u001b[90mx\u001b[39m::\u001b[1mDates.TimeType\u001b[22m, \u001b[90my\u001b[39m::\u001b[1mDates.CompoundPeriod\u001b[22m)\n",
              "\u001b[90m     @\u001b[39m \u001b[35mDates\u001b[39m \u001b[90m/usr/local/share/julia/stdlib/v1.10/Dates/src/\u001b[39m\u001b[90m\u001b[4mperiods.jl:356\u001b[24m\u001b[39m\n",
              " [169] +(\u001b[90ma\u001b[39m::\u001b[1mDates.TimeType\u001b[22m, \u001b[90mb\u001b[39m::\u001b[1mDates.Period\u001b[22m, \u001b[90mc\u001b[39m::\u001b[1mDates.Period\u001b[22m)\n",
              "\u001b[90m     @\u001b[39m \u001b[35mDates\u001b[39m \u001b[90m/usr/local/share/julia/stdlib/v1.10/Dates/src/\u001b[39m\u001b[90m\u001b[4mperiods.jl:353\u001b[24m\u001b[39m\n",
              " [170] +(\u001b[90ma\u001b[39m::\u001b[1mDates.TimeType\u001b[22m, \u001b[90mb\u001b[39m::\u001b[1mDates.Period\u001b[22m, \u001b[90mc\u001b[39m::\u001b[1mDates.Period\u001b[22m, \u001b[90md\u001b[39m::\u001b[1mDates.Period...\u001b[22m)\n",
              "\u001b[90m     @\u001b[39m \u001b[35mDates\u001b[39m \u001b[90m/usr/local/share/julia/stdlib/v1.10/Dates/src/\u001b[39m\u001b[90m\u001b[4mperiods.jl:354\u001b[24m\u001b[39m\n",
              " [171] +(\u001b[90mr1\u001b[39m::\u001b[1mOrdinalRange\u001b[22m, \u001b[90mr2\u001b[39m::\u001b[1mOrdinalRange\u001b[22m)\n",
              "\u001b[90m     @\u001b[39m \u001b[90m\u001b[4mrange.jl:1454\u001b[24m\u001b[39m\n",
              " [172] +(\u001b[90mA\u001b[39m::\u001b[1mLinearAlgebra.UpperTriangular\u001b[22m, \u001b[90mB\u001b[39m::\u001b[1mLinearAlgebra.Bidiagonal\u001b[22m)\n",
              "\u001b[90m     @\u001b[39m \u001b[36mLinearAlgebra\u001b[39m \u001b[90m/usr/local/share/julia/stdlib/v1.10/LinearAlgebra/src/\u001b[39m\u001b[90m\u001b[4mspecial.jl:91\u001b[24m\u001b[39m\n",
              " [173] +(\u001b[90mx\u001b[39m::\u001b[1mLinearAlgebra.UpperTriangular\u001b[22m, \u001b[90mH\u001b[39m::\u001b[1mLinearAlgebra.UpperHessenberg\u001b[22m)\n",
              "\u001b[90m     @\u001b[39m \u001b[36mLinearAlgebra\u001b[39m \u001b[90m/usr/local/share/julia/stdlib/v1.10/LinearAlgebra/src/\u001b[39m\u001b[90m\u001b[4mhessenberg.jl:120\u001b[24m\u001b[39m\n",
              " [174] +(\u001b[90mx\u001b[39m::\u001b[1mDates.Period\u001b[22m, \u001b[90mr\u001b[39m::\u001b[1mAbstractRange\u001b[22m\u001b[0m{<:Dates.TimeType})\n",
              "\u001b[90m     @\u001b[39m \u001b[35mDates\u001b[39m \u001b[90m/usr/local/share/julia/stdlib/v1.10/Dates/src/\u001b[39m\u001b[90m\u001b[4mranges.jl:64\u001b[24m\u001b[39m\n",
              " [175] +(\u001b[90my\u001b[39m::\u001b[1mDates.Period\u001b[22m, \u001b[90mx\u001b[39m::\u001b[1mDates.TimeType\u001b[22m)\n",
              "\u001b[90m     @\u001b[39m \u001b[35mDates\u001b[39m \u001b[90m/usr/local/share/julia/stdlib/v1.10/Dates/src/\u001b[39m\u001b[90m\u001b[4marithmetic.jl:87\u001b[24m\u001b[39m\n",
              " [176] +(\u001b[90my\u001b[39m::\u001b[1mDates.Period\u001b[22m, \u001b[90mx\u001b[39m::\u001b[1mDates.CompoundPeriod\u001b[22m)\n",
              "\u001b[90m     @\u001b[39m \u001b[35mDates\u001b[39m \u001b[90m/usr/local/share/julia/stdlib/v1.10/Dates/src/\u001b[39m\u001b[90m\u001b[4mperiods.jl:333\u001b[24m\u001b[39m\n",
              " [177] +(\u001b[90mx\u001b[39m::\u001b[1mP\u001b[22m, \u001b[90my\u001b[39m::\u001b[1mP\u001b[22m) where P<:Dates.Period\n",
              "\u001b[90m     @\u001b[39m \u001b[35mDates\u001b[39m \u001b[90m/usr/local/share/julia/stdlib/v1.10/Dates/src/\u001b[39m\u001b[90m\u001b[4mperiods.jl:75\u001b[24m\u001b[39m\n",
              " [178] +(\u001b[90mx\u001b[39m::\u001b[1mDates.Period\u001b[22m, \u001b[90my\u001b[39m::\u001b[1mDates.Period\u001b[22m)\n",
              "\u001b[90m     @\u001b[39m \u001b[35mDates\u001b[39m \u001b[90m/usr/local/share/julia/stdlib/v1.10/Dates/src/\u001b[39m\u001b[90m\u001b[4mperiods.jl:331\u001b[24m\u001b[39m\n",
              " [179] +(\u001b[90mx\u001b[39m::\u001b[1mAbstractArray\u001b[22m\u001b[0m{<:Dates.TimeType}, \u001b[90my\u001b[39m::\u001b[1mUnion\u001b[22m\u001b[0m{Dates.CompoundPeriod, Dates.Period})\n",
              "\u001b[90m     @\u001b[39m \u001b[35mDates\u001b[39m \u001b[90m/usr/local/share/julia/stdlib/v1.10/Dates/src/\u001b[39m\u001b[90m\u001b[4mdeprecated.jl:6\u001b[24m\u001b[39m\n",
              " [180] +(\u001b[90mA\u001b[39m::\u001b[1mAbstractMatrix\u001b[22m, \u001b[90mJ\u001b[39m::\u001b[1mLinearAlgebra.UniformScaling\u001b[22m)\n",
              "\u001b[90m     @\u001b[39m \u001b[36mLinearAlgebra\u001b[39m \u001b[90m/usr/local/share/julia/stdlib/v1.10/LinearAlgebra/src/\u001b[39m\u001b[90m\u001b[4muniformscaling.jl:214\u001b[24m\u001b[39m\n",
              " [181] +(\u001b[90mX\u001b[39m::\u001b[1mStridedArray\u001b[22m\u001b[0m{<:Union{Dates.CompoundPeriod, Dates.Period}}, \u001b[90mY\u001b[39m::\u001b[1mStridedArray\u001b[22m\u001b[0m{<:Union{Dates.CompoundPeriod, Dates.Period}})\n",
              "\u001b[90m     @\u001b[39m \u001b[35mDates\u001b[39m \u001b[90m/usr/local/share/julia/stdlib/v1.10/Dates/src/\u001b[39m\u001b[90m\u001b[4mdeprecated.jl:62\u001b[24m\u001b[39m\n",
              " [182] +(\u001b[90mr1\u001b[39m::\u001b[1mUnion\u001b[22m\u001b[0m{LinRange, OrdinalRange, StepRangeLen}, \u001b[90mr2\u001b[39m::\u001b[1mUnion\u001b[22m\u001b[0m{LinRange, OrdinalRange, StepRangeLen})\n",
              "\u001b[90m     @\u001b[39m \u001b[90m\u001b[4mrange.jl:1470\u001b[24m\u001b[39m\n",
              " [183] +(\u001b[90mA\u001b[39m::\u001b[1mAbstractArray\u001b[22m, \u001b[90mB\u001b[39m::\u001b[1mAbstractArray\u001b[22m)\n",
              "\u001b[90m     @\u001b[39m \u001b[90m\u001b[4marraymath.jl:6\u001b[24m\u001b[39m\n",
              " [184] +(\u001b[90mx\u001b[39m::\u001b[1mStridedArray\u001b[22m\u001b[0m{<:Union{Dates.CompoundPeriod, Dates.Period}})\n",
              "\u001b[90m     @\u001b[39m \u001b[35mDates\u001b[39m \u001b[90m/usr/local/share/julia/stdlib/v1.10/Dates/src/\u001b[39m\u001b[90m\u001b[4mdeprecated.jl:55\u001b[24m\u001b[39m\n",
              " [185] +(\u001b[90mx\u001b[39m::\u001b[1mAbstractArray\u001b[22m\u001b[0m{<:Number})\n",
              "\u001b[90m     @\u001b[39m \u001b[90m\u001b[4mabstractarraymath.jl:220\u001b[24m\u001b[39m\n",
              " [186] +(\u001b[90my\u001b[39m::\u001b[1mUnion\u001b[22m\u001b[0m{Dates.CompoundPeriod, Dates.Period}, \u001b[90mx\u001b[39m::\u001b[1mAbstractArray\u001b[22m\u001b[0m{<:Dates.TimeType})\n",
              "\u001b[90m     @\u001b[39m \u001b[35mDates\u001b[39m \u001b[90m/usr/local/share/julia/stdlib/v1.10/Dates/src/\u001b[39m\u001b[90m\u001b[4mdeprecated.jl:14\u001b[24m\u001b[39m\n",
              " [187] +(\u001b[90mx\u001b[39m::\u001b[1mStridedArray\u001b[22m\u001b[0m{<:Union{Dates.CompoundPeriod, Dates.Period}}, \u001b[90my\u001b[39m::\u001b[1mDates.TimeType\u001b[22m)\n",
              "\u001b[90m     @\u001b[39m \u001b[35mDates\u001b[39m \u001b[90m/usr/local/share/julia/stdlib/v1.10/Dates/src/\u001b[39m\u001b[90m\u001b[4mdeprecated.jl:10\u001b[24m\u001b[39m\n",
              " [188] +(\u001b[90mx\u001b[39m::\u001b[1mUnion\u001b[22m\u001b[0m{Dates.CompoundPeriod, Dates.Period})\n",
              "\u001b[90m     @\u001b[39m \u001b[35mDates\u001b[39m \u001b[90m/usr/local/share/julia/stdlib/v1.10/Dates/src/\u001b[39m\u001b[90m\u001b[4mperiods.jl:342\u001b[24m\u001b[39m\n",
              " [189] +(\u001b[90ma\u001b[39m, \u001b[90mb\u001b[39m, \u001b[90mc\u001b[39m, \u001b[90mxs...\u001b[39m)\n",
              "\u001b[90m     @\u001b[39m \u001b[90m\u001b[4moperators.jl:587\u001b[24m\u001b[39m"
            ],
            "text/html": [
              "# 189 methods for generic function <b>+</b> from \u001b[90mBase\u001b[39m:<ul><li> +(t::<b>Dates.Time</b>, dt::<b>Dates.Date</b>) in Dates at <a href=\"file:///cache/build/builder-amdci5-6/julialang/julia-release-1-dot-10/usr/share/julia/stdlib/v1.10/Dates/src/arithmetic.jl\" target=\"_blank\">/usr/local/share/julia/stdlib/v1.10/Dates/src/arithmetic.jl:22</a></li> <li> +(x::<b>Dates.Time</b>, y::<b>Dates.TimePeriod</b>) in Dates at <a href=\"file:///cache/build/builder-amdci5-6/julialang/julia-release-1-dot-10/usr/share/julia/stdlib/v1.10/Dates/src/arithmetic.jl\" target=\"_blank\">/usr/local/share/julia/stdlib/v1.10/Dates/src/arithmetic.jl:85</a></li> <li> +(x::<b>Bool</b>, z::<b>Complex{Bool}</b>) in Base at <a href=\"https://github.com/JuliaLang/julia/tree/5595d20a2877560583cd4891ce91605d10b1bb75/base/complex.jl#L305\" target=\"_blank\">complex.jl:305</a></li> <li> +(x::<b>Bool</b>, y::<b>Bool</b>) in Base at <a href=\"https://github.com/JuliaLang/julia/tree/5595d20a2877560583cd4891ce91605d10b1bb75/base/bool.jl#L166\" target=\"_blank\">bool.jl:166</a></li> <li> +(x::<b>Bool</b>) in Base at <a href=\"https://github.com/JuliaLang/julia/tree/5595d20a2877560583cd4891ce91605d10b1bb75/base/bool.jl#L163\" target=\"_blank\">bool.jl:163</a></li> <li> +(x::<b>Bool</b>, z::<b>Complex</b>) in Base at <a href=\"https://github.com/JuliaLang/julia/tree/5595d20a2877560583cd4891ce91605d10b1bb75/base/complex.jl#L312\" target=\"_blank\">complex.jl:312</a></li> <li> +(x::<b>Real</b>, z::<b>Complex{Bool}</b>) in Base at <a href=\"https://github.com/JuliaLang/julia/tree/5595d20a2877560583cd4891ce91605d10b1bb75/base/complex.jl#L319\" target=\"_blank\">complex.jl:319</a></li> <li> +(x::<b>Bool</b>, y::<b>T</b>)<i> where T<:AbstractFloat</i> in Base at <a href=\"https://github.com/JuliaLang/julia/tree/5595d20a2877560583cd4891ce91605d10b1bb75/base/bool.jl#L173\" target=\"_blank\">bool.jl:173</a></li> <li> +(z::<b>Complex{Bool}</b>, x::<b>Bool</b>) in Base at <a href=\"https://github.com/JuliaLang/julia/tree/5595d20a2877560583cd4891ce91605d10b1bb75/base/complex.jl#L306\" target=\"_blank\">complex.jl:306</a></li> <li> +(z::<b>Complex{Bool}</b>, x::<b>Real</b>) in Base at <a href=\"https://github.com/JuliaLang/julia/tree/5595d20a2877560583cd4891ce91605d10b1bb75/base/complex.jl#L320\" target=\"_blank\">complex.jl:320</a></li> <li> +(z::<b>Complex</b>, x::<b>Bool</b>) in Base at <a href=\"https://github.com/JuliaLang/julia/tree/5595d20a2877560583cd4891ce91605d10b1bb75/base/complex.jl#L313\" target=\"_blank\">complex.jl:313</a></li> <li> +(x::<b>BigInt</b>, y::<b>BigInt</b>) in Base.GMP at <a href=\"https://github.com/JuliaLang/julia/tree/5595d20a2877560583cd4891ce91605d10b1bb75/base/gmp.jl#L501\" target=\"_blank\">gmp.jl:501</a></li> <li> +(a::<b>BigInt</b>, b::<b>BigInt</b>, c::<b>BigInt</b>) in Base.GMP at <a href=\"https://github.com/JuliaLang/julia/tree/5595d20a2877560583cd4891ce91605d10b1bb75/base/gmp.jl#L541\" target=\"_blank\">gmp.jl:541</a></li> <li> +(a::<b>BigInt</b>, b::<b>BigInt</b>, c::<b>BigInt</b>, d::<b>BigInt</b>) in Base.GMP at <a href=\"https://github.com/JuliaLang/julia/tree/5595d20a2877560583cd4891ce91605d10b1bb75/base/gmp.jl#L542\" target=\"_blank\">gmp.jl:542</a></li> <li> +(a::<b>BigInt</b>, b::<b>BigInt</b>, c::<b>BigInt</b>, d::<b>BigInt</b>, e::<b>BigInt</b>) in Base.GMP at <a href=\"https://github.com/JuliaLang/julia/tree/5595d20a2877560583cd4891ce91605d10b1bb75/base/gmp.jl#L543\" target=\"_blank\">gmp.jl:543</a></li> <li> +(x::<b>BigInt</b>, y::<b>BigInt</b>, rest::<b>BigInt...</b>) in Base.GMP at <a href=\"https://github.com/JuliaLang/julia/tree/5595d20a2877560583cd4891ce91605d10b1bb75/base/gmp.jl#L683\" target=\"_blank\">gmp.jl:683</a></li> <li> +(c::<b>BigInt</b>, x::<b>BigFloat</b>) in Base.MPFR at <a href=\"https://github.com/JuliaLang/julia/tree/5595d20a2877560583cd4891ce91605d10b1bb75/base/mpfr.jl#L468\" target=\"_blank\">mpfr.jl:468</a></li> <li> +(x::<b>BigInt</b>, c::<b>Union{UInt16, UInt32, UInt64, UInt8}</b>) in Base.GMP at <a href=\"https://github.com/JuliaLang/julia/tree/5595d20a2877560583cd4891ce91605d10b1bb75/base/gmp.jl#L549\" target=\"_blank\">gmp.jl:549</a></li> <li> +(x::<b>BigInt</b>, c::<b>Union{Int16, Int32, Int64, Int8}</b>) in Base.GMP at <a href=\"https://github.com/JuliaLang/julia/tree/5595d20a2877560583cd4891ce91605d10b1bb75/base/gmp.jl#L555\" target=\"_blank\">gmp.jl:555</a></li> <li> +(x::<b>Dates.CompoundPeriod</b>, y::<b>Dates.CompoundPeriod</b>) in Dates at <a href=\"file:///cache/build/builder-amdci5-6/julialang/julia-release-1-dot-10/usr/share/julia/stdlib/v1.10/Dates/src/periods.jl\" target=\"_blank\">/usr/local/share/julia/stdlib/v1.10/Dates/src/periods.jl:334</a></li> <li> +(x::<b>Dates.CompoundPeriod</b>, y::<b>Dates.TimeType</b>) in Dates at <a href=\"file:///cache/build/builder-amdci5-6/julialang/julia-release-1-dot-10/usr/share/julia/stdlib/v1.10/Dates/src/periods.jl\" target=\"_blank\">/usr/local/share/julia/stdlib/v1.10/Dates/src/periods.jl:362</a></li> <li> +(x::<b>Dates.CompoundPeriod</b>, y::<b>Dates.Period</b>) in Dates at <a href=\"file:///cache/build/builder-amdci5-6/julialang/julia-release-1-dot-10/usr/share/julia/stdlib/v1.10/Dates/src/periods.jl\" target=\"_blank\">/usr/local/share/julia/stdlib/v1.10/Dates/src/periods.jl:332</a></li> <li> +(B::<b>BitMatrix</b>, J::<b>LinearAlgebra.UniformScaling</b>) in LinearAlgebra at <a href=\"file:///cache/build/builder-amdci5-6/julialang/julia-release-1-dot-10/usr/share/julia/stdlib/v1.10/LinearAlgebra/src/uniformscaling.jl\" target=\"_blank\">/usr/local/share/julia/stdlib/v1.10/LinearAlgebra/src/uniformscaling.jl:151</a></li> <li> +(x::<b>Dates.Date</b>, y::<b>Dates.Day</b>) in Dates at <a href=\"file:///cache/build/builder-amdci5-6/julialang/julia-release-1-dot-10/usr/share/julia/stdlib/v1.10/Dates/src/arithmetic.jl\" target=\"_blank\">/usr/local/share/julia/stdlib/v1.10/Dates/src/arithmetic.jl:81</a></li> <li> +(x::<b>Dates.Date</b>, y::<b>Dates.Week</b>) in Dates at <a href=\"file:///cache/build/builder-amdci5-6/julialang/julia-release-1-dot-10/usr/share/julia/stdlib/v1.10/Dates/src/arithmetic.jl\" target=\"_blank\">/usr/local/share/julia/stdlib/v1.10/Dates/src/arithmetic.jl:79</a></li> <li> +(x::<b>Dates.Date</b>, y::<b>Dates.Quarter</b>) in Dates at <a href=\"file:///cache/build/builder-amdci5-6/julialang/julia-release-1-dot-10/usr/share/julia/stdlib/v1.10/Dates/src/arithmetic.jl\" target=\"_blank\">/usr/local/share/julia/stdlib/v1.10/Dates/src/arithmetic.jl:75</a></li> <li> +(dt::<b>Dates.Date</b>, z::<b>Dates.Month</b>) in Dates at <a href=\"file:///cache/build/builder-amdci5-6/julialang/julia-release-1-dot-10/usr/share/julia/stdlib/v1.10/Dates/src/arithmetic.jl\" target=\"_blank\">/usr/local/share/julia/stdlib/v1.10/Dates/src/arithmetic.jl:56</a></li> <li> +(dt::<b>Dates.Date</b>, y::<b>Dates.Year</b>) in Dates at <a href=\"file:///cache/build/builder-amdci5-6/julialang/julia-release-1-dot-10/usr/share/julia/stdlib/v1.10/Dates/src/arithmetic.jl\" target=\"_blank\">/usr/local/share/julia/stdlib/v1.10/Dates/src/arithmetic.jl:29</a></li> <li> +(dt::<b>Dates.Date</b>, t::<b>Dates.Time</b>) in Dates at <a href=\"file:///cache/build/builder-amdci5-6/julialang/julia-release-1-dot-10/usr/share/julia/stdlib/v1.10/Dates/src/arithmetic.jl\" target=\"_blank\">/usr/local/share/julia/stdlib/v1.10/Dates/src/arithmetic.jl:21</a></li> <li> +(::<b>Missing</b>, ::<b>Missing</b>) in Base at <a href=\"https://github.com/JuliaLang/julia/tree/5595d20a2877560583cd4891ce91605d10b1bb75/base/missing.jl#L122\" target=\"_blank\">missing.jl:122</a></li> <li> +(::<b>Missing</b>) in Base at <a href=\"https://github.com/JuliaLang/julia/tree/5595d20a2877560583cd4891ce91605d10b1bb75/base/missing.jl#L101\" target=\"_blank\">missing.jl:101</a></li> <li> +(x::<b>Missing</b>, y::<b>Dates.AbstractTime</b>) in Dates at <a href=\"file:///cache/build/builder-amdci5-6/julialang/julia-release-1-dot-10/usr/share/julia/stdlib/v1.10/Dates/src/arithmetic.jl\" target=\"_blank\">/usr/local/share/julia/stdlib/v1.10/Dates/src/arithmetic.jl:91</a></li> <li> +(::<b>Missing</b>, ::<b>Number</b>) in Base at <a href=\"https://github.com/JuliaLang/julia/tree/5595d20a2877560583cd4891ce91605d10b1bb75/base/missing.jl#L123\" target=\"_blank\">missing.jl:123</a></li> <li> +(x::<b>Dates.DateTime</b>, y::<b>Dates.Quarter</b>) in Dates at <a href=\"file:///cache/build/builder-amdci5-6/julialang/julia-release-1-dot-10/usr/share/julia/stdlib/v1.10/Dates/src/arithmetic.jl\" target=\"_blank\">/usr/local/share/julia/stdlib/v1.10/Dates/src/arithmetic.jl:77</a></li> <li> +(dt::<b>Dates.DateTime</b>, z::<b>Dates.Month</b>) in Dates at <a href=\"file:///cache/build/builder-amdci5-6/julialang/julia-release-1-dot-10/usr/share/julia/stdlib/v1.10/Dates/src/arithmetic.jl\" target=\"_blank\">/usr/local/share/julia/stdlib/v1.10/Dates/src/arithmetic.jl:49</a></li> <li> +(dt::<b>Dates.DateTime</b>, y::<b>Dates.Year</b>) in Dates at <a href=\"file:///cache/build/builder-amdci5-6/julialang/julia-release-1-dot-10/usr/share/julia/stdlib/v1.10/Dates/src/arithmetic.jl\" target=\"_blank\">/usr/local/share/julia/stdlib/v1.10/Dates/src/arithmetic.jl:25</a></li> <li> +(x::<b>Dates.DateTime</b>, y::<b>Dates.Period</b>) in Dates at <a href=\"file:///cache/build/builder-amdci5-6/julialang/julia-release-1-dot-10/usr/share/julia/stdlib/v1.10/Dates/src/arithmetic.jl\" target=\"_blank\">/usr/local/share/julia/stdlib/v1.10/Dates/src/arithmetic.jl:83</a></li> <li> +(a::<b>BigFloat</b>, b::<b>BigFloat</b>, c::<b>BigFloat</b>, d::<b>BigFloat</b>, e::<b>BigFloat</b>) in Base.MPFR at <a href=\"https://github.com/JuliaLang/julia/tree/5595d20a2877560583cd4891ce91605d10b1bb75/base/mpfr.jl#L619\" target=\"_blank\">mpfr.jl:619</a></li> <li> +(x::<b>BigFloat</b>, y::<b>BigFloat</b>) in Base.MPFR at <a href=\"https://github.com/JuliaLang/julia/tree/5595d20a2877560583cd4891ce91605d10b1bb75/base/mpfr.jl#L432\" target=\"_blank\">mpfr.jl:432</a></li> <li> +(a::<b>BigFloat</b>, b::<b>BigFloat</b>, c::<b>BigFloat</b>) in Base.MPFR at <a href=\"https://github.com/JuliaLang/julia/tree/5595d20a2877560583cd4891ce91605d10b1bb75/base/mpfr.jl#L606\" target=\"_blank\">mpfr.jl:606</a></li> <li> +(a::<b>BigFloat</b>, b::<b>BigFloat</b>, c::<b>BigFloat</b>, d::<b>BigFloat</b>) in Base.MPFR at <a href=\"https://github.com/JuliaLang/julia/tree/5595d20a2877560583cd4891ce91605d10b1bb75/base/mpfr.jl#L612\" target=\"_blank\">mpfr.jl:612</a></li> <li> +(x::<b>BigFloat</b>, c::<b>BigInt</b>) in Base.MPFR at <a href=\"https://github.com/JuliaLang/julia/tree/5595d20a2877560583cd4891ce91605d10b1bb75/base/mpfr.jl#L463\" target=\"_blank\">mpfr.jl:463</a></li> <li> +(x::<b>BigFloat</b>, c::<b>Union{UInt16, UInt32, UInt64, UInt8}</b>) in Base.MPFR at <a href=\"https://github.com/JuliaLang/julia/tree/5595d20a2877560583cd4891ce91605d10b1bb75/base/mpfr.jl#L439\" target=\"_blank\">mpfr.jl:439</a></li> <li> +(x::<b>BigFloat</b>, c::<b>Union{Int16, Int32, Int64, Int8}</b>) in Base.MPFR at <a href=\"https://github.com/JuliaLang/julia/tree/5595d20a2877560583cd4891ce91605d10b1bb75/base/mpfr.jl#L447\" target=\"_blank\">mpfr.jl:447</a></li> <li> +(x::<b>BigFloat</b>, c::<b>Union{Float16, Float32, Float64}</b>) in Base.MPFR at <a href=\"https://github.com/JuliaLang/julia/tree/5595d20a2877560583cd4891ce91605d10b1bb75/base/mpfr.jl#L455\" target=\"_blank\">mpfr.jl:455</a></li> <li> +(a::<b>Pkg.Resolve.FieldValue</b>, b::<b>Pkg.Resolve.FieldValue</b>) in Pkg.Resolve at <a href=\"file:///cache/build/builder-amdci5-6/julialang/julia-release-1-dot-10/usr/share/julia/stdlib/v1.10/Pkg/src/Resolve/fieldvalues.jl\" target=\"_blank\">/usr/local/share/julia/stdlib/v1.10/Pkg/src/Resolve/fieldvalues.jl:43</a></li> <li> +(level::<b>Base.CoreLogging.LogLevel</b>, inc::<b>Integer</b>) in Base.CoreLogging at <a href=\"https://github.com/JuliaLang/julia/tree/5595d20a2877560583cd4891ce91605d10b1bb75/base/logging.jl#L131\" target=\"_blank\">logging.jl:131</a></li> <li> +(x::<b>Rational{BigInt}</b>, y::<b>Rational{BigInt}</b>) in Base.GMP.MPQ at <a href=\"https://github.com/JuliaLang/julia/tree/5595d20a2877560583cd4891ce91605d10b1bb75/base/gmp.jl#L1061\" target=\"_blank\">gmp.jl:1061</a></li> <li> +(a::<b>Pkg.Resolve.VersionWeight</b>, b::<b>Pkg.Resolve.VersionWeight</b>) in Pkg.Resolve at <a href=\"file:///cache/build/builder-amdci5-6/julialang/julia-release-1-dot-10/usr/share/julia/stdlib/v1.10/Pkg/src/Resolve/versionweights.jl\" target=\"_blank\">/usr/local/share/julia/stdlib/v1.10/Pkg/src/Resolve/versionweights.jl:22</a></li> <li> +(A::<b>Array</b>, Bs::<b>Array...</b>) in Base at <a href=\"https://github.com/JuliaLang/julia/tree/5595d20a2877560583cd4891ce91605d10b1bb75/base/arraymath.jl#L12\" target=\"_blank\">arraymath.jl:12</a></li> <li> +(x::<b>Dates.Instant</b>) in Dates at <a href=\"file:///cache/build/builder-amdci5-6/julialang/julia-release-1-dot-10/usr/share/julia/stdlib/v1.10/Dates/src/arithmetic.jl\" target=\"_blank\">/usr/local/share/julia/stdlib/v1.10/Dates/src/arithmetic.jl:4</a></li> <li> +(H::<b>LinearAlgebra.UpperHessenberg</b>, x::<b>LinearAlgebra.Bidiagonal</b>) in LinearAlgebra at <a href=\"file:///cache/build/builder-amdci5-6/julialang/julia-release-1-dot-10/usr/share/julia/stdlib/v1.10/LinearAlgebra/src/hessenberg.jl\" target=\"_blank\">/usr/local/share/julia/stdlib/v1.10/LinearAlgebra/src/hessenberg.jl:119</a></li> <li> +(A::<b>LinearAlgebra.UpperHessenberg</b>, B::<b>LinearAlgebra.UpperHessenberg</b>) in LinearAlgebra at <a href=\"file:///cache/build/builder-amdci5-6/julialang/julia-release-1-dot-10/usr/share/julia/stdlib/v1.10/LinearAlgebra/src/hessenberg.jl\" target=\"_blank\">/usr/local/share/julia/stdlib/v1.10/LinearAlgebra/src/hessenberg.jl:112</a></li> <li> +(H::<b>LinearAlgebra.UpperHessenberg</b>, x::<b>LinearAlgebra.UnitUpperTriangular</b>) in LinearAlgebra at <a href=\"file:///cache/build/builder-amdci5-6/julialang/julia-release-1-dot-10/usr/share/julia/stdlib/v1.10/LinearAlgebra/src/hessenberg.jl\" target=\"_blank\">/usr/local/share/julia/stdlib/v1.10/LinearAlgebra/src/hessenberg.jl:119</a></li> <li> +(H::<b>LinearAlgebra.UpperHessenberg</b>, x::<b>LinearAlgebra.Diagonal</b>) in LinearAlgebra at <a href=\"file:///cache/build/builder-amdci5-6/julialang/julia-release-1-dot-10/usr/share/julia/stdlib/v1.10/LinearAlgebra/src/hessenberg.jl\" target=\"_blank\">/usr/local/share/julia/stdlib/v1.10/LinearAlgebra/src/hessenberg.jl:119</a></li> <li> +(H::<b>LinearAlgebra.UpperHessenberg</b>, x::<b>LinearAlgebra.UniformScaling</b>) in LinearAlgebra at <a href=\"file:///cache/build/builder-amdci5-6/julialang/julia-release-1-dot-10/usr/share/julia/stdlib/v1.10/LinearAlgebra/src/hessenberg.jl\" target=\"_blank\">/usr/local/share/julia/stdlib/v1.10/LinearAlgebra/src/hessenberg.jl:119</a></li> <li> +(H::<b>LinearAlgebra.UpperHessenberg</b>, x::<b>LinearAlgebra.Tridiagonal</b>) in LinearAlgebra at <a href=\"file:///cache/build/builder-amdci5-6/julialang/julia-release-1-dot-10/usr/share/julia/stdlib/v1.10/LinearAlgebra/src/hessenberg.jl\" target=\"_blank\">/usr/local/share/julia/stdlib/v1.10/LinearAlgebra/src/hessenberg.jl:119</a></li> <li> +(H::<b>LinearAlgebra.UpperHessenberg</b>, x::<b>LinearAlgebra.SymTridiagonal</b>) in LinearAlgebra at <a href=\"file:///cache/build/builder-amdci5-6/julialang/julia-release-1-dot-10/usr/share/julia/stdlib/v1.10/LinearAlgebra/src/hessenberg.jl\" target=\"_blank\">/usr/local/share/julia/stdlib/v1.10/LinearAlgebra/src/hessenberg.jl:119</a></li> <li> +(H::<b>LinearAlgebra.UpperHessenberg</b>, x::<b>LinearAlgebra.UpperTriangular</b>) in LinearAlgebra at <a href=\"file:///cache/build/builder-amdci5-6/julialang/julia-release-1-dot-10/usr/share/julia/stdlib/v1.10/LinearAlgebra/src/hessenberg.jl\" target=\"_blank\">/usr/local/share/julia/stdlib/v1.10/LinearAlgebra/src/hessenberg.jl:119</a></li> <li> +(A::<b>LinearAlgebra.UnitLowerTriangular</b>, B::<b>LinearAlgebra.UnitLowerTriangular</b>) in LinearAlgebra at <a href=\"file:///cache/build/builder-amdci5-6/julialang/julia-release-1-dot-10/usr/share/julia/stdlib/v1.10/LinearAlgebra/src/triangular.jl\" target=\"_blank\">/usr/local/share/julia/stdlib/v1.10/LinearAlgebra/src/triangular.jl:657</a></li> <li> +(A::<b>LinearAlgebra.UnitLowerTriangular</b>, B::<b>LinearAlgebra.LowerTriangular</b>) in LinearAlgebra at <a href=\"file:///cache/build/builder-amdci5-6/julialang/julia-release-1-dot-10/usr/share/julia/stdlib/v1.10/LinearAlgebra/src/triangular.jl\" target=\"_blank\">/usr/local/share/julia/stdlib/v1.10/LinearAlgebra/src/triangular.jl:655</a></li> <li> +(A::<b>LinearAlgebra.UnitUpperTriangular</b>, B::<b>LinearAlgebra.UnitUpperTriangular</b>) in LinearAlgebra at <a href=\"file:///cache/build/builder-amdci5-6/julialang/julia-release-1-dot-10/usr/share/julia/stdlib/v1.10/LinearAlgebra/src/triangular.jl\" target=\"_blank\">/usr/local/share/julia/stdlib/v1.10/LinearAlgebra/src/triangular.jl:656</a></li> <li> +(A::<b>LinearAlgebra.UnitUpperTriangular</b>, B::<b>LinearAlgebra.UpperTriangular</b>) in LinearAlgebra at <a href=\"file:///cache/build/builder-amdci5-6/julialang/julia-release-1-dot-10/usr/share/julia/stdlib/v1.10/LinearAlgebra/src/triangular.jl\" target=\"_blank\">/usr/local/share/julia/stdlib/v1.10/LinearAlgebra/src/triangular.jl:654</a></li> <li> +(A::<b>LinearAlgebra.LowerTriangular</b>, B::<b>LinearAlgebra.UnitLowerTriangular</b>) in LinearAlgebra at <a href=\"file:///cache/build/builder-amdci5-6/julialang/julia-release-1-dot-10/usr/share/julia/stdlib/v1.10/LinearAlgebra/src/triangular.jl\" target=\"_blank\">/usr/local/share/julia/stdlib/v1.10/LinearAlgebra/src/triangular.jl:653</a></li> <li> +(A::<b>LinearAlgebra.LowerTriangular</b>, B::<b>LinearAlgebra.LowerTriangular</b>) in LinearAlgebra at <a href=\"file:///cache/build/builder-amdci5-6/julialang/julia-release-1-dot-10/usr/share/julia/stdlib/v1.10/LinearAlgebra/src/triangular.jl\" target=\"_blank\">/usr/local/share/julia/stdlib/v1.10/LinearAlgebra/src/triangular.jl:651</a></li> <li> +(A::<b>LinearAlgebra.UpperTriangular</b>, B::<b>LinearAlgebra.UnitUpperTriangular</b>) in LinearAlgebra at <a href=\"file:///cache/build/builder-amdci5-6/julialang/julia-release-1-dot-10/usr/share/julia/stdlib/v1.10/LinearAlgebra/src/triangular.jl\" target=\"_blank\">/usr/local/share/julia/stdlib/v1.10/LinearAlgebra/src/triangular.jl:652</a></li> <li> +(A::<b>LinearAlgebra.UpperTriangular</b>, B::<b>LinearAlgebra.UpperTriangular</b>) in LinearAlgebra at <a href=\"file:///cache/build/builder-amdci5-6/julialang/julia-release-1-dot-10/usr/share/julia/stdlib/v1.10/LinearAlgebra/src/triangular.jl\" target=\"_blank\">/usr/local/share/julia/stdlib/v1.10/LinearAlgebra/src/triangular.jl:650</a></li> <li> +(A::<b>LinearAlgebra.AbstractTriangular</b>, B::<b>LinearAlgebra.AbstractTriangular</b>) in LinearAlgebra at <a href=\"file:///cache/build/builder-amdci5-6/julialang/julia-release-1-dot-10/usr/share/julia/stdlib/v1.10/LinearAlgebra/src/triangular.jl\" target=\"_blank\">/usr/local/share/julia/stdlib/v1.10/LinearAlgebra/src/triangular.jl:658</a></li> <li> +(index1::<b>CartesianIndex{N}</b>, index2::<b>CartesianIndex{N}</b>)<i> where N</i> in Base.IteratorsMD at <a href=\"https://github.com/JuliaLang/julia/tree/5595d20a2877560583cd4891ce91605d10b1bb75/base/multidimensional.jl#L119\" target=\"_blank\">multidimensional.jl:119</a></li> <li> +(A::<b>LinearAlgebra.Hermitian</b>, J::<b>LinearAlgebra.UniformScaling{<:Complex}</b>) in LinearAlgebra at <a href=\"file:///cache/build/builder-amdci5-6/julialang/julia-release-1-dot-10/usr/share/julia/stdlib/v1.10/LinearAlgebra/src/uniformscaling.jl\" target=\"_blank\">/usr/local/share/julia/stdlib/v1.10/LinearAlgebra/src/uniformscaling.jl:195</a></li> <li> +(H::<b>LinearAlgebra.Hermitian</b>, D::<b>LinearAlgebra.Diagonal{var\"#s997\", V} where {var\"#s997\"<:Real, V<:AbstractVector{var\"#s997\"}}</b>) in LinearAlgebra at <a href=\"file:///cache/build/builder-amdci5-6/julialang/julia-release-1-dot-10/usr/share/julia/stdlib/v1.10/LinearAlgebra/src/diagonal.jl\" target=\"_blank\">/usr/local/share/julia/stdlib/v1.10/LinearAlgebra/src/diagonal.jl:238</a></li> <li> +(A::<b>LinearAlgebra.Hermitian</b>, B::<b>LinearAlgebra.SymTridiagonal{var\"#s126\", V} where {var\"#s126\"<:Real, V<:AbstractVector{var\"#s126\"}}</b>) in LinearAlgebra at <a href=\"file:///cache/build/builder-amdci5-6/julialang/julia-release-1-dot-10/usr/share/julia/stdlib/v1.10/LinearAlgebra/src/symmetric.jl\" target=\"_blank\">/usr/local/share/julia/stdlib/v1.10/LinearAlgebra/src/symmetric.jl:523</a></li> <li> +(A::<b>LinearAlgebra.Hermitian</b>, B::<b>LinearAlgebra.Symmetric{var\"#s997\", S} where {var\"#s997\"<:Real, S<:(AbstractMatrix{<:var\"#s997\"})}</b>) in LinearAlgebra at <a href=\"file:///cache/build/builder-amdci5-6/julialang/julia-release-1-dot-10/usr/share/julia/stdlib/v1.10/LinearAlgebra/src/symmetric.jl\" target=\"_blank\">/usr/local/share/julia/stdlib/v1.10/LinearAlgebra/src/symmetric.jl:518</a></li> <li> +(A::<b>LinearAlgebra.Hermitian</b>, B::<b>LinearAlgebra.Hermitian</b>) in LinearAlgebra at <a href=\"file:///cache/build/builder-amdci5-6/julialang/julia-release-1-dot-10/usr/share/julia/stdlib/v1.10/LinearAlgebra/src/symmetric.jl\" target=\"_blank\">/usr/local/share/julia/stdlib/v1.10/LinearAlgebra/src/symmetric.jl:504</a></li> <li> +(y::<b>AbstractFloat</b>, x::<b>Bool</b>) in Base at <a href=\"https://github.com/JuliaLang/julia/tree/5595d20a2877560583cd4891ce91605d10b1bb75/base/bool.jl#L176\" target=\"_blank\">bool.jl:176</a></li> <li> +(x::<b>Rational</b>, y::<b>Integer</b>) in Base at <a href=\"https://github.com/JuliaLang/julia/tree/5595d20a2877560583cd4891ce91605d10b1bb75/base/rational.jl#L343\" target=\"_blank\">rational.jl:343</a></li> <li> +(x::<b>Rational</b>, y::<b>Rational</b>) in Base at <a href=\"https://github.com/JuliaLang/julia/tree/5595d20a2877560583cd4891ce91605d10b1bb75/base/rational.jl#L314\" target=\"_blank\">rational.jl:314</a></li> <li> +(x::<b>Rational</b>) in Base at <a href=\"https://github.com/JuliaLang/julia/tree/5595d20a2877560583cd4891ce91605d10b1bb75/base/rational.jl#L300\" target=\"_blank\">rational.jl:300</a></li> <li> +(A::<b>LinearAlgebra.UnitLowerTriangular</b>, B::<b>LinearAlgebra.Bidiagonal</b>) in LinearAlgebra at <a href=\"file:///cache/build/builder-amdci5-6/julialang/julia-release-1-dot-10/usr/share/julia/stdlib/v1.10/LinearAlgebra/src/special.jl\" target=\"_blank\">/usr/local/share/julia/stdlib/v1.10/LinearAlgebra/src/special.jl:91</a></li> <li> +(UL::<b>LinearAlgebra.UnitLowerTriangular</b>, J::<b>LinearAlgebra.UniformScaling</b>) in LinearAlgebra at <a href=\"file:///cache/build/builder-amdci5-6/julialang/julia-release-1-dot-10/usr/share/julia/stdlib/v1.10/LinearAlgebra/src/uniformscaling.jl\" target=\"_blank\">/usr/local/share/julia/stdlib/v1.10/LinearAlgebra/src/uniformscaling.jl:181</a></li> <li> +(x::<b>Integer</b>, y::<b>AbstractChar</b>) in Base at <a href=\"https://github.com/JuliaLang/julia/tree/5595d20a2877560583cd4891ce91605d10b1bb75/base/char.jl#L247\" target=\"_blank\">char.jl:247</a></li> <li> +(y::<b>Integer</b>, x::<b>Rational</b>) in Base at <a href=\"https://github.com/JuliaLang/julia/tree/5595d20a2877560583cd4891ce91605d10b1bb75/base/rational.jl#L350\" target=\"_blank\">rational.jl:350</a></li> <li> +(x::<b>Integer</b>, y::<b>Ptr</b>) in Base at <a href=\"https://github.com/JuliaLang/julia/tree/5595d20a2877560583cd4891ce91605d10b1bb75/base/pointer.jl#L284\" target=\"_blank\">pointer.jl:284</a></li> <li> +(c::<b>Union{Int16, Int32, Int64, Int8}</b>, x::<b>BigInt</b>) in Base.GMP at <a href=\"https://github.com/JuliaLang/julia/tree/5595d20a2877560583cd4891ce91605d10b1bb75/base/gmp.jl#L556\" target=\"_blank\">gmp.jl:556</a></li> <li> +(c::<b>Union{UInt16, UInt32, UInt64, UInt8}</b>, x::<b>BigInt</b>) in Base.GMP at <a href=\"https://github.com/JuliaLang/julia/tree/5595d20a2877560583cd4891ce91605d10b1bb75/base/gmp.jl#L550\" target=\"_blank\">gmp.jl:550</a></li> <li> +(x::<b>T</b>, y::<b>T</b>)<i> where T<:Union{Int128, Int16, Int32, Int64, Int8, UInt128, UInt16, UInt32, UInt64, UInt8}</i> in Base at <a href=\"https://github.com/JuliaLang/julia/tree/5595d20a2877560583cd4891ce91605d10b1bb75/base/int.jl#L87\" target=\"_blank\">int.jl:87</a></li> <li> +(a::<b>Integer</b>, b::<b>Integer</b>) in Base at <a href=\"https://github.com/JuliaLang/julia/tree/5595d20a2877560583cd4891ce91605d10b1bb75/base/int.jl#L1064\" target=\"_blank\">int.jl:1064</a></li> <li> +(x::<b>Ptr</b>, y::<b>Integer</b>) in Base at <a href=\"https://github.com/JuliaLang/julia/tree/5595d20a2877560583cd4891ce91605d10b1bb75/base/pointer.jl#L282\" target=\"_blank\">pointer.jl:282</a></li> <li> +(A::<b>LinearAlgebra.UnitUpperTriangular</b>, B::<b>LinearAlgebra.Bidiagonal</b>) in LinearAlgebra at <a href=\"file:///cache/build/builder-amdci5-6/julialang/julia-release-1-dot-10/usr/share/julia/stdlib/v1.10/LinearAlgebra/src/special.jl\" target=\"_blank\">/usr/local/share/julia/stdlib/v1.10/LinearAlgebra/src/special.jl:91</a></li> <li> +(x::<b>LinearAlgebra.UnitUpperTriangular</b>, H::<b>LinearAlgebra.UpperHessenberg</b>) in LinearAlgebra at <a href=\"file:///cache/build/builder-amdci5-6/julialang/julia-release-1-dot-10/usr/share/julia/stdlib/v1.10/LinearAlgebra/src/hessenberg.jl\" target=\"_blank\">/usr/local/share/julia/stdlib/v1.10/LinearAlgebra/src/hessenberg.jl:120</a></li> <li> +(UL::<b>LinearAlgebra.UnitUpperTriangular</b>, J::<b>LinearAlgebra.UniformScaling</b>) in LinearAlgebra at <a href=\"file:///cache/build/builder-amdci5-6/julialang/julia-release-1-dot-10/usr/share/julia/stdlib/v1.10/LinearAlgebra/src/uniformscaling.jl\" target=\"_blank\">/usr/local/share/julia/stdlib/v1.10/LinearAlgebra/src/uniformscaling.jl:181</a></li> <li> +(D::<b>LinearAlgebra.Diagonal{var\"#s997\", V} where {var\"#s997\"<:Real, V<:AbstractVector{var\"#s997\"}}</b>, H::<b>LinearAlgebra.Hermitian</b>) in LinearAlgebra at <a href=\"file:///cache/build/builder-amdci5-6/julialang/julia-release-1-dot-10/usr/share/julia/stdlib/v1.10/LinearAlgebra/src/diagonal.jl\" target=\"_blank\">/usr/local/share/julia/stdlib/v1.10/LinearAlgebra/src/diagonal.jl:235</a></li> <li> +(A::<b>LinearAlgebra.Diagonal</b>, B::<b>LinearAlgebra.UniformScaling</b>) in LinearAlgebra at <a href=\"file:///cache/build/builder-amdci5-6/julialang/julia-release-1-dot-10/usr/share/julia/stdlib/v1.10/LinearAlgebra/src/special.jl\" target=\"_blank\">/usr/local/share/julia/stdlib/v1.10/LinearAlgebra/src/special.jl:247</a></li> <li> +(D::<b>LinearAlgebra.Diagonal</b>, S::<b>LinearAlgebra.Symmetric</b>) in LinearAlgebra at <a href=\"file:///cache/build/builder-amdci5-6/julialang/julia-release-1-dot-10/usr/share/julia/stdlib/v1.10/LinearAlgebra/src/diagonal.jl\" target=\"_blank\">/usr/local/share/julia/stdlib/v1.10/LinearAlgebra/src/diagonal.jl:229</a></li> <li> +(x::<b>LinearAlgebra.Diagonal</b>, H::<b>LinearAlgebra.UpperHessenberg</b>) in LinearAlgebra at <a href=\"file:///cache/build/builder-amdci5-6/julialang/julia-release-1-dot-10/usr/share/julia/stdlib/v1.10/LinearAlgebra/src/hessenberg.jl\" target=\"_blank\">/usr/local/share/julia/stdlib/v1.10/LinearAlgebra/src/hessenberg.jl:120</a></li> <li> +(Da::<b>LinearAlgebra.Diagonal</b>, Db::<b>LinearAlgebra.Diagonal</b>) in LinearAlgebra at <a href=\"file:///cache/build/builder-amdci5-6/julialang/julia-release-1-dot-10/usr/share/julia/stdlib/v1.10/LinearAlgebra/src/diagonal.jl\" target=\"_blank\">/usr/local/share/julia/stdlib/v1.10/LinearAlgebra/src/diagonal.jl:225</a></li> <li> +(A::<b>LinearAlgebra.Diagonal</b>, B::<b>LinearAlgebra.Tridiagonal</b>) in LinearAlgebra at <a href=\"file:///cache/build/builder-amdci5-6/julialang/julia-release-1-dot-10/usr/share/julia/stdlib/v1.10/LinearAlgebra/src/special.jl\" target=\"_blank\">/usr/local/share/julia/stdlib/v1.10/LinearAlgebra/src/special.jl:187</a></li> <li> +(A::<b>LinearAlgebra.Diagonal</b>, B::<b>LinearAlgebra.SymTridiagonal</b>) in LinearAlgebra at <a href=\"file:///cache/build/builder-amdci5-6/julialang/julia-release-1-dot-10/usr/share/julia/stdlib/v1.10/LinearAlgebra/src/special.jl\" target=\"_blank\">/usr/local/share/julia/stdlib/v1.10/LinearAlgebra/src/special.jl:166</a></li> <li> +(B::<b>LinearAlgebra.Diagonal</b>, A::<b>LinearAlgebra.Bidiagonal</b>) in LinearAlgebra</li> <li> +(x::<b>T</b>, y::<b>Integer</b>)<i> where T<:AbstractChar</i> in Base at <a href=\"https://github.com/JuliaLang/julia/tree/5595d20a2877560583cd4891ce91605d10b1bb75/base/char.jl#L237\" target=\"_blank\">char.jl:237</a></li> <li> +(r1::<b>StepRangeLen{T, R}</b>, r2::<b>StepRangeLen{T, R}</b>)<i> where {R<:Base.TwicePrecision, T}</i> in Base at <a href=\"https://github.com/JuliaLang/julia/tree/5595d20a2877560583cd4891ce91605d10b1bb75/base/twiceprecision.jl#L626\" target=\"_blank\">twiceprecision.jl:626</a></li> <li> +(r1::<b>StepRangeLen{T, S}</b>, r2::<b>StepRangeLen{T, S}</b>)<i> where {T, S}</i> in Base at <a href=\"https://github.com/JuliaLang/julia/tree/5595d20a2877560583cd4891ce91605d10b1bb75/base/range.jl#L1477\" target=\"_blank\">range.jl:1477</a></li> <li> +(A::<b>LinearAlgebra.SymTridiagonal</b>, B::<b>LinearAlgebra.SymTridiagonal</b>) in LinearAlgebra at <a href=\"file:///cache/build/builder-amdci5-6/julialang/julia-release-1-dot-10/usr/share/julia/stdlib/v1.10/LinearAlgebra/src/tridiag.jl\" target=\"_blank\">/usr/local/share/julia/stdlib/v1.10/LinearAlgebra/src/tridiag.jl:210</a></li> <li> +(A::<b>LinearAlgebra.SymTridiagonal</b>, B::<b>LinearAlgebra.UniformScaling</b>) in LinearAlgebra at <a href=\"file:///cache/build/builder-amdci5-6/julialang/julia-release-1-dot-10/usr/share/julia/stdlib/v1.10/LinearAlgebra/src/special.jl\" target=\"_blank\">/usr/local/share/julia/stdlib/v1.10/LinearAlgebra/src/special.jl:237</a></li> <li> +(A::<b>LinearAlgebra.SymTridiagonal</b>, B::<b>LinearAlgebra.Symmetric</b>) in LinearAlgebra at <a href=\"file:///cache/build/builder-amdci5-6/julialang/julia-release-1-dot-10/usr/share/julia/stdlib/v1.10/LinearAlgebra/src/symmetric.jl\" target=\"_blank\">/usr/local/share/julia/stdlib/v1.10/LinearAlgebra/src/symmetric.jl:520</a></li> <li> +(B::<b>LinearAlgebra.SymTridiagonal</b>, A::<b>LinearAlgebra.Diagonal</b>) in LinearAlgebra</li> <li> +(x::<b>LinearAlgebra.SymTridiagonal</b>, H::<b>LinearAlgebra.UpperHessenberg</b>) in LinearAlgebra at <a href=\"file:///cache/build/builder-amdci5-6/julialang/julia-release-1-dot-10/usr/share/julia/stdlib/v1.10/LinearAlgebra/src/hessenberg.jl\" target=\"_blank\">/usr/local/share/julia/stdlib/v1.10/LinearAlgebra/src/hessenberg.jl:120</a></li> <li> +(B::<b>LinearAlgebra.SymTridiagonal</b>, A::<b>LinearAlgebra.Tridiagonal</b>) in LinearAlgebra</li> <li> +(B::<b>LinearAlgebra.SymTridiagonal</b>, A::<b>LinearAlgebra.Bidiagonal</b>) in LinearAlgebra</li> <li> +(A::<b>LinearAlgebra.SymTridiagonal{var\"#s127\", V} where {var\"#s127\"<:Real, V<:AbstractVector{var\"#s127\"}}</b>, B::<b>LinearAlgebra.Hermitian</b>) in LinearAlgebra at <a href=\"file:///cache/build/builder-amdci5-6/julialang/julia-release-1-dot-10/usr/share/julia/stdlib/v1.10/LinearAlgebra/src/symmetric.jl\" target=\"_blank\">/usr/local/share/julia/stdlib/v1.10/LinearAlgebra/src/symmetric.jl:522</a></li> <li> +(x::<b>Base.TwicePrecision{T}</b>, y::<b>Base.TwicePrecision{T}</b>)<i> where T</i> in Base at <a href=\"https://github.com/JuliaLang/julia/tree/5595d20a2877560583cd4891ce91605d10b1bb75/base/twiceprecision.jl#L294\" target=\"_blank\">twiceprecision.jl:294</a></li> <li> +(x::<b>Base.TwicePrecision</b>, y::<b>Base.TwicePrecision</b>) in Base at <a href=\"https://github.com/JuliaLang/julia/tree/5595d20a2877560583cd4891ce91605d10b1bb75/base/twiceprecision.jl#L299\" target=\"_blank\">twiceprecision.jl:299</a></li> <li> +(x::<b>Base.TwicePrecision</b>, y::<b>Number</b>) in Base at <a href=\"https://github.com/JuliaLang/julia/tree/5595d20a2877560583cd4891ce91605d10b1bb75/base/twiceprecision.jl#L288\" target=\"_blank\">twiceprecision.jl:288</a></li> <li> +(x::<b>Real</b>, z::<b>Complex</b>) in Base at <a href=\"https://github.com/JuliaLang/julia/tree/5595d20a2877560583cd4891ce91605d10b1bb75/base/complex.jl#L331\" target=\"_blank\">complex.jl:331</a></li> <li> +(x::<b>Number</b>, J::<b>LinearAlgebra.UniformScaling</b>) in LinearAlgebra at <a href=\"file:///cache/build/builder-amdci5-6/julialang/julia-release-1-dot-10/usr/share/julia/stdlib/v1.10/LinearAlgebra/src/uniformscaling.jl\" target=\"_blank\">/usr/local/share/julia/stdlib/v1.10/LinearAlgebra/src/uniformscaling.jl:145</a></li> <li> +(::<b>Number</b>, ::<b>Missing</b>) in Base at <a href=\"https://github.com/JuliaLang/julia/tree/5595d20a2877560583cd4891ce91605d10b1bb75/base/missing.jl#L124\" target=\"_blank\">missing.jl:124</a></li> <li> +(x::<b>Number</b>, y::<b>Base.TwicePrecision</b>) in Base at <a href=\"https://github.com/JuliaLang/julia/tree/5595d20a2877560583cd4891ce91605d10b1bb75/base/twiceprecision.jl#L292\" target=\"_blank\">twiceprecision.jl:292</a></li> <li> +(z::<b>Complex</b>) in Base at <a href=\"https://github.com/JuliaLang/julia/tree/5595d20a2877560583cd4891ce91605d10b1bb75/base/complex.jl#L292\" target=\"_blank\">complex.jl:292</a></li> <li> +(x::<b>Number</b>) in Base at <a href=\"https://github.com/JuliaLang/julia/tree/5595d20a2877560583cd4891ce91605d10b1bb75/base/operators.jl#L524\" target=\"_blank\">operators.jl:524</a></li> <li> +(z::<b>Complex</b>, w::<b>Complex</b>) in Base at <a href=\"https://github.com/JuliaLang/julia/tree/5595d20a2877560583cd4891ce91605d10b1bb75/base/complex.jl#L294\" target=\"_blank\">complex.jl:294</a></li> <li> +(x::<b>AbstractIrrational</b>, y::<b>AbstractIrrational</b>) in Base at <a href=\"https://github.com/JuliaLang/julia/tree/5595d20a2877560583cd4891ce91605d10b1bb75/base/irrationals.jl#L176\" target=\"_blank\">irrationals.jl:176</a></li> <li> +(x::<b>T</b>, y::<b>T</b>)<i> where T<:Union{Float16, Float32, Float64}</i> in Base at <a href=\"https://github.com/JuliaLang/julia/tree/5595d20a2877560583cd4891ce91605d10b1bb75/base/float.jl#L409\" target=\"_blank\">float.jl:409</a></li> <li> +(x::<b>T</b>, y::<b>T</b>)<i> where T<:Number</i> in Base at <a href=\"https://github.com/JuliaLang/julia/tree/5595d20a2877560583cd4891ce91605d10b1bb75/base/promotion.jl#L507\" target=\"_blank\">promotion.jl:507</a></li> <li> +(z::<b>Complex</b>, x::<b>Real</b>) in Base at <a href=\"https://github.com/JuliaLang/julia/tree/5595d20a2877560583cd4891ce91605d10b1bb75/base/complex.jl#L332\" target=\"_blank\">complex.jl:332</a></li> <li> +(c::<b>Union{Float16, Float32, Float64}</b>, x::<b>BigFloat</b>) in Base.MPFR at <a href=\"https://github.com/JuliaLang/julia/tree/5595d20a2877560583cd4891ce91605d10b1bb75/base/mpfr.jl#L460\" target=\"_blank\">mpfr.jl:460</a></li> <li> +(c::<b>Union{Int16, Int32, Int64, Int8}</b>, x::<b>BigFloat</b>) in Base.MPFR at <a href=\"https://github.com/JuliaLang/julia/tree/5595d20a2877560583cd4891ce91605d10b1bb75/base/mpfr.jl#L452\" target=\"_blank\">mpfr.jl:452</a></li> <li> +(c::<b>Union{UInt16, UInt32, UInt64, UInt8}</b>, x::<b>BigFloat</b>) in Base.MPFR at <a href=\"https://github.com/JuliaLang/julia/tree/5595d20a2877560583cd4891ce91605d10b1bb75/base/mpfr.jl#L444\" target=\"_blank\">mpfr.jl:444</a></li> <li> +(x::<b>Number</b>, y::<b>Number</b>) in Base at <a href=\"https://github.com/JuliaLang/julia/tree/5595d20a2877560583cd4891ce91605d10b1bb75/base/promotion.jl#L422\" target=\"_blank\">promotion.jl:422</a></li> <li> +(S::<b>LinearAlgebra.Symmetric</b>, D::<b>LinearAlgebra.Diagonal</b>) in LinearAlgebra at <a href=\"file:///cache/build/builder-amdci5-6/julialang/julia-release-1-dot-10/usr/share/julia/stdlib/v1.10/LinearAlgebra/src/diagonal.jl\" target=\"_blank\">/usr/local/share/julia/stdlib/v1.10/LinearAlgebra/src/diagonal.jl:232</a></li> <li> +(A::<b>LinearAlgebra.Symmetric</b>, B::<b>LinearAlgebra.SymTridiagonal</b>) in LinearAlgebra at <a href=\"file:///cache/build/builder-amdci5-6/julialang/julia-release-1-dot-10/usr/share/julia/stdlib/v1.10/LinearAlgebra/src/symmetric.jl\" target=\"_blank\">/usr/local/share/julia/stdlib/v1.10/LinearAlgebra/src/symmetric.jl:521</a></li> <li> +(A::<b>LinearAlgebra.Symmetric{var\"#s128\", S} where {var\"#s128\"<:Real, S<:(AbstractMatrix{<:var\"#s128\"})}</b>, B::<b>LinearAlgebra.Hermitian</b>) in LinearAlgebra at <a href=\"file:///cache/build/builder-amdci5-6/julialang/julia-release-1-dot-10/usr/share/julia/stdlib/v1.10/LinearAlgebra/src/symmetric.jl\" target=\"_blank\">/usr/local/share/julia/stdlib/v1.10/LinearAlgebra/src/symmetric.jl:519</a></li> <li> +(A::<b>LinearAlgebra.Symmetric</b>, B::<b>LinearAlgebra.Symmetric</b>) in LinearAlgebra at <a href=\"file:///cache/build/builder-amdci5-6/julialang/julia-release-1-dot-10/usr/share/julia/stdlib/v1.10/LinearAlgebra/src/symmetric.jl\" target=\"_blank\">/usr/local/share/julia/stdlib/v1.10/LinearAlgebra/src/symmetric.jl:504</a></li> <li> +(J::<b>LinearAlgebra.UniformScaling</b>, B::<b>BitMatrix</b>) in LinearAlgebra at <a href=\"file:///cache/build/builder-amdci5-6/julialang/julia-release-1-dot-10/usr/share/julia/stdlib/v1.10/LinearAlgebra/src/uniformscaling.jl\" target=\"_blank\">/usr/local/share/julia/stdlib/v1.10/LinearAlgebra/src/uniformscaling.jl:152</a></li> <li> +(J::<b>LinearAlgebra.UniformScaling</b>, F::<b>LinearAlgebra.Hessenberg</b>) in LinearAlgebra at <a href=\"file:///cache/build/builder-amdci5-6/julialang/julia-release-1-dot-10/usr/share/julia/stdlib/v1.10/LinearAlgebra/src/hessenberg.jl\" target=\"_blank\">/usr/local/share/julia/stdlib/v1.10/LinearAlgebra/src/hessenberg.jl:561</a></li> <li> +(J::<b>LinearAlgebra.UniformScaling</b>, x::<b>Number</b>) in LinearAlgebra at <a href=\"file:///cache/build/builder-amdci5-6/julialang/julia-release-1-dot-10/usr/share/julia/stdlib/v1.10/LinearAlgebra/src/uniformscaling.jl\" target=\"_blank\">/usr/local/share/julia/stdlib/v1.10/LinearAlgebra/src/uniformscaling.jl:144</a></li> <li> +(x::<b>LinearAlgebra.UniformScaling</b>, H::<b>LinearAlgebra.UpperHessenberg</b>) in LinearAlgebra at <a href=\"file:///cache/build/builder-amdci5-6/julialang/julia-release-1-dot-10/usr/share/julia/stdlib/v1.10/LinearAlgebra/src/hessenberg.jl\" target=\"_blank\">/usr/local/share/julia/stdlib/v1.10/LinearAlgebra/src/hessenberg.jl:120</a></li> <li> +(J1::<b>LinearAlgebra.UniformScaling</b>, J2::<b>LinearAlgebra.UniformScaling</b>) in LinearAlgebra at <a href=\"file:///cache/build/builder-amdci5-6/julialang/julia-release-1-dot-10/usr/share/julia/stdlib/v1.10/LinearAlgebra/src/uniformscaling.jl\" target=\"_blank\">/usr/local/share/julia/stdlib/v1.10/LinearAlgebra/src/uniformscaling.jl:150</a></li> <li> +(B::<b>LinearAlgebra.UniformScaling</b>, A::<b>LinearAlgebra.Tridiagonal</b>) in LinearAlgebra</li> <li> +(B::<b>LinearAlgebra.UniformScaling</b>, A::<b>LinearAlgebra.Bidiagonal</b>) in LinearAlgebra</li> <li> +(B::<b>LinearAlgebra.UniformScaling</b>, A::<b>LinearAlgebra.Diagonal</b>) in LinearAlgebra</li> <li> +(B::<b>LinearAlgebra.UniformScaling</b>, A::<b>LinearAlgebra.SymTridiagonal</b>) in LinearAlgebra</li> <li> +(J::<b>LinearAlgebra.UniformScaling</b>, A::<b>AbstractMatrix</b>) in LinearAlgebra at <a href=\"file:///cache/build/builder-amdci5-6/julialang/julia-release-1-dot-10/usr/share/julia/stdlib/v1.10/LinearAlgebra/src/uniformscaling.jl\" target=\"_blank\">/usr/local/share/julia/stdlib/v1.10/LinearAlgebra/src/uniformscaling.jl:153</a></li> <li> +(J::<b>LinearAlgebra.UniformScaling</b>) in LinearAlgebra at <a href=\"file:///cache/build/builder-amdci5-6/julialang/julia-release-1-dot-10/usr/share/julia/stdlib/v1.10/LinearAlgebra/src/uniformscaling.jl\" target=\"_blank\">/usr/local/share/julia/stdlib/v1.10/LinearAlgebra/src/uniformscaling.jl:149</a></li> <li> +(A::<b>BitArray</b>, B::<b>BitArray</b>) in Base at <a href=\"https://github.com/JuliaLang/julia/tree/5595d20a2877560583cd4891ce91605d10b1bb75/base/bitarray.jl#L1184\" target=\"_blank\">bitarray.jl:1184</a></li> <li> +(x::<b>LinearAlgebra.Bidiagonal</b>, H::<b>LinearAlgebra.UpperHessenberg</b>) in LinearAlgebra at <a href=\"file:///cache/build/builder-amdci5-6/julialang/julia-release-1-dot-10/usr/share/julia/stdlib/v1.10/LinearAlgebra/src/hessenberg.jl\" target=\"_blank\">/usr/local/share/julia/stdlib/v1.10/LinearAlgebra/src/hessenberg.jl:120</a></li> <li> +(A::<b>LinearAlgebra.Bidiagonal</b>, B::<b>LinearAlgebra.LowerTriangular</b>) in LinearAlgebra at <a href=\"file:///cache/build/builder-amdci5-6/julialang/julia-release-1-dot-10/usr/share/julia/stdlib/v1.10/LinearAlgebra/src/special.jl\" target=\"_blank\">/usr/local/share/julia/stdlib/v1.10/LinearAlgebra/src/special.jl:99</a></li> <li> +(A::<b>LinearAlgebra.Bidiagonal</b>, B::<b>LinearAlgebra.Tridiagonal</b>) in LinearAlgebra at <a href=\"file:///cache/build/builder-amdci5-6/julialang/julia-release-1-dot-10/usr/share/julia/stdlib/v1.10/LinearAlgebra/src/special.jl\" target=\"_blank\">/usr/local/share/julia/stdlib/v1.10/LinearAlgebra/src/special.jl:202</a></li> <li> +(A::<b>LinearAlgebra.Bidiagonal</b>, B::<b>LinearAlgebra.Bidiagonal</b>) in LinearAlgebra at <a href=\"file:///cache/build/builder-amdci5-6/julialang/julia-release-1-dot-10/usr/share/julia/stdlib/v1.10/LinearAlgebra/src/bidiag.jl\" target=\"_blank\">/usr/local/share/julia/stdlib/v1.10/LinearAlgebra/src/bidiag.jl:390</a></li> <li> +(A::<b>LinearAlgebra.Bidiagonal</b>, B::<b>LinearAlgebra.UnitUpperTriangular</b>) in LinearAlgebra at <a href=\"file:///cache/build/builder-amdci5-6/julialang/julia-release-1-dot-10/usr/share/julia/stdlib/v1.10/LinearAlgebra/src/special.jl\" target=\"_blank\">/usr/local/share/julia/stdlib/v1.10/LinearAlgebra/src/special.jl:99</a></li> <li> +(A::<b>LinearAlgebra.Bidiagonal</b>, B::<b>LinearAlgebra.UpperTriangular</b>) in LinearAlgebra at <a href=\"file:///cache/build/builder-amdci5-6/julialang/julia-release-1-dot-10/usr/share/julia/stdlib/v1.10/LinearAlgebra/src/special.jl\" target=\"_blank\">/usr/local/share/julia/stdlib/v1.10/LinearAlgebra/src/special.jl:99</a></li> <li> +(A::<b>LinearAlgebra.Bidiagonal</b>, B::<b>LinearAlgebra.UniformScaling</b>) in LinearAlgebra at <a href=\"file:///cache/build/builder-amdci5-6/julialang/julia-release-1-dot-10/usr/share/julia/stdlib/v1.10/LinearAlgebra/src/special.jl\" target=\"_blank\">/usr/local/share/julia/stdlib/v1.10/LinearAlgebra/src/special.jl:242</a></li> <li> +(A::<b>LinearAlgebra.Bidiagonal</b>, B::<b>LinearAlgebra.Diagonal</b>) in LinearAlgebra at <a href=\"file:///cache/build/builder-amdci5-6/julialang/julia-release-1-dot-10/usr/share/julia/stdlib/v1.10/LinearAlgebra/src/special.jl\" target=\"_blank\">/usr/local/share/julia/stdlib/v1.10/LinearAlgebra/src/special.jl:151</a></li> <li> +(A::<b>LinearAlgebra.Bidiagonal</b>, B::<b>LinearAlgebra.UnitLowerTriangular</b>) in LinearAlgebra at <a href=\"file:///cache/build/builder-amdci5-6/julialang/julia-release-1-dot-10/usr/share/julia/stdlib/v1.10/LinearAlgebra/src/special.jl\" target=\"_blank\">/usr/local/share/julia/stdlib/v1.10/LinearAlgebra/src/special.jl:99</a></li> <li> +(A::<b>LinearAlgebra.Bidiagonal</b>, B::<b>LinearAlgebra.SymTridiagonal</b>) in LinearAlgebra at <a href=\"file:///cache/build/builder-amdci5-6/julialang/julia-release-1-dot-10/usr/share/julia/stdlib/v1.10/LinearAlgebra/src/special.jl\" target=\"_blank\">/usr/local/share/julia/stdlib/v1.10/LinearAlgebra/src/special.jl:217</a></li> <li> +(F::<b>LinearAlgebra.Hessenberg</b>, J::<b>LinearAlgebra.UniformScaling</b>) in LinearAlgebra at <a href=\"file:///cache/build/builder-amdci5-6/julialang/julia-release-1-dot-10/usr/share/julia/stdlib/v1.10/LinearAlgebra/src/hessenberg.jl\" target=\"_blank\">/usr/local/share/julia/stdlib/v1.10/LinearAlgebra/src/hessenberg.jl:560</a></li> <li> +(x::<b>Dates.AbstractTime</b>, y::<b>Missing</b>) in Dates at <a href=\"file:///cache/build/builder-amdci5-6/julialang/julia-release-1-dot-10/usr/share/julia/stdlib/v1.10/Dates/src/arithmetic.jl\" target=\"_blank\">/usr/local/share/julia/stdlib/v1.10/Dates/src/arithmetic.jl:90</a></li> <li> +(r::<b>AbstractRange{<:Dates.TimeType}</b>, x::<b>Dates.Period</b>) in Dates at <a href=\"file:///cache/build/builder-amdci5-6/julialang/julia-release-1-dot-10/usr/share/julia/stdlib/v1.10/Dates/src/ranges.jl\" target=\"_blank\">/usr/local/share/julia/stdlib/v1.10/Dates/src/ranges.jl:65</a></li> <li> +(r1::<b>LinRange{T}</b>, r2::<b>LinRange{T}</b>)<i> where T</i> in Base at <a href=\"https://github.com/JuliaLang/julia/tree/5595d20a2877560583cd4891ce91605d10b1bb75/base/range.jl#L1461\" target=\"_blank\">range.jl:1461</a></li> <li> +(A::<b>LinearAlgebra.LowerTriangular</b>, B::<b>LinearAlgebra.Bidiagonal</b>) in LinearAlgebra at <a href=\"file:///cache/build/builder-amdci5-6/julialang/julia-release-1-dot-10/usr/share/julia/stdlib/v1.10/LinearAlgebra/src/special.jl\" target=\"_blank\">/usr/local/share/julia/stdlib/v1.10/LinearAlgebra/src/special.jl:91</a></li> <li> +(A::<b>LinearAlgebra.Tridiagonal</b>, B::<b>LinearAlgebra.UniformScaling</b>) in LinearAlgebra at <a href=\"file:///cache/build/builder-amdci5-6/julialang/julia-release-1-dot-10/usr/share/julia/stdlib/v1.10/LinearAlgebra/src/special.jl\" target=\"_blank\">/usr/local/share/julia/stdlib/v1.10/LinearAlgebra/src/special.jl:232</a></li> <li> +(B::<b>LinearAlgebra.Tridiagonal</b>, A::<b>LinearAlgebra.Bidiagonal</b>) in LinearAlgebra</li> <li> +(B::<b>LinearAlgebra.Tridiagonal</b>, A::<b>LinearAlgebra.Diagonal</b>) in LinearAlgebra</li> <li> +(A::<b>LinearAlgebra.Tridiagonal</b>, B::<b>LinearAlgebra.SymTridiagonal</b>) in LinearAlgebra at <a href=\"file:///cache/build/builder-amdci5-6/julialang/julia-release-1-dot-10/usr/share/julia/stdlib/v1.10/LinearAlgebra/src/special.jl\" target=\"_blank\">/usr/local/share/julia/stdlib/v1.10/LinearAlgebra/src/special.jl:183</a></li> <li> +(x::<b>LinearAlgebra.Tridiagonal</b>, H::<b>LinearAlgebra.UpperHessenberg</b>) in LinearAlgebra at <a href=\"file:///cache/build/builder-amdci5-6/julialang/julia-release-1-dot-10/usr/share/julia/stdlib/v1.10/LinearAlgebra/src/hessenberg.jl\" target=\"_blank\">/usr/local/share/julia/stdlib/v1.10/LinearAlgebra/src/hessenberg.jl:120</a></li> <li> +(A::<b>LinearAlgebra.Tridiagonal</b>, B::<b>LinearAlgebra.Tridiagonal</b>) in LinearAlgebra at <a href=\"file:///cache/build/builder-amdci5-6/julialang/julia-release-1-dot-10/usr/share/julia/stdlib/v1.10/LinearAlgebra/src/tridiag.jl\" target=\"_blank\">/usr/local/share/julia/stdlib/v1.10/LinearAlgebra/src/tridiag.jl:739</a></li> <li> +(y::<b>Dates.TimeType</b>, x::<b>StridedArray{<:Union{Dates.CompoundPeriod, Dates.Period}}</b>) in Dates at <a href=\"file:///cache/build/builder-amdci5-6/julialang/julia-release-1-dot-10/usr/share/julia/stdlib/v1.10/Dates/src/deprecated.jl\" target=\"_blank\">/usr/local/share/julia/stdlib/v1.10/Dates/src/deprecated.jl:18</a></li> <li> +(x::<b>Dates.TimeType</b>) in Dates at <a href=\"file:///cache/build/builder-amdci5-6/julialang/julia-release-1-dot-10/usr/share/julia/stdlib/v1.10/Dates/src/arithmetic.jl\" target=\"_blank\">/usr/local/share/julia/stdlib/v1.10/Dates/src/arithmetic.jl:8</a></li> <li> +(x::<b>Dates.TimeType</b>, y::<b>Dates.CompoundPeriod</b>) in Dates at <a href=\"file:///cache/build/builder-amdci5-6/julialang/julia-release-1-dot-10/usr/share/julia/stdlib/v1.10/Dates/src/periods.jl\" target=\"_blank\">/usr/local/share/julia/stdlib/v1.10/Dates/src/periods.jl:356</a></li> <li> +(a::<b>Dates.TimeType</b>, b::<b>Dates.Period</b>, c::<b>Dates.Period</b>) in Dates at <a href=\"file:///cache/build/builder-amdci5-6/julialang/julia-release-1-dot-10/usr/share/julia/stdlib/v1.10/Dates/src/periods.jl\" target=\"_blank\">/usr/local/share/julia/stdlib/v1.10/Dates/src/periods.jl:353</a></li> <li> +(a::<b>Dates.TimeType</b>, b::<b>Dates.Period</b>, c::<b>Dates.Period</b>, d::<b>Dates.Period...</b>) in Dates at <a href=\"file:///cache/build/builder-amdci5-6/julialang/julia-release-1-dot-10/usr/share/julia/stdlib/v1.10/Dates/src/periods.jl\" target=\"_blank\">/usr/local/share/julia/stdlib/v1.10/Dates/src/periods.jl:354</a></li> <li> +(r1::<b>OrdinalRange</b>, r2::<b>OrdinalRange</b>) in Base at <a href=\"https://github.com/JuliaLang/julia/tree/5595d20a2877560583cd4891ce91605d10b1bb75/base/range.jl#L1454\" target=\"_blank\">range.jl:1454</a></li> <li> +(A::<b>LinearAlgebra.UpperTriangular</b>, B::<b>LinearAlgebra.Bidiagonal</b>) in LinearAlgebra at <a href=\"file:///cache/build/builder-amdci5-6/julialang/julia-release-1-dot-10/usr/share/julia/stdlib/v1.10/LinearAlgebra/src/special.jl\" target=\"_blank\">/usr/local/share/julia/stdlib/v1.10/LinearAlgebra/src/special.jl:91</a></li> <li> +(x::<b>LinearAlgebra.UpperTriangular</b>, H::<b>LinearAlgebra.UpperHessenberg</b>) in LinearAlgebra at <a href=\"file:///cache/build/builder-amdci5-6/julialang/julia-release-1-dot-10/usr/share/julia/stdlib/v1.10/LinearAlgebra/src/hessenberg.jl\" target=\"_blank\">/usr/local/share/julia/stdlib/v1.10/LinearAlgebra/src/hessenberg.jl:120</a></li> <li> +(x::<b>Dates.Period</b>, r::<b>AbstractRange{<:Dates.TimeType}</b>) in Dates at <a href=\"file:///cache/build/builder-amdci5-6/julialang/julia-release-1-dot-10/usr/share/julia/stdlib/v1.10/Dates/src/ranges.jl\" target=\"_blank\">/usr/local/share/julia/stdlib/v1.10/Dates/src/ranges.jl:64</a></li> <li> +(y::<b>Dates.Period</b>, x::<b>Dates.TimeType</b>) in Dates at <a href=\"file:///cache/build/builder-amdci5-6/julialang/julia-release-1-dot-10/usr/share/julia/stdlib/v1.10/Dates/src/arithmetic.jl\" target=\"_blank\">/usr/local/share/julia/stdlib/v1.10/Dates/src/arithmetic.jl:87</a></li> <li> +(y::<b>Dates.Period</b>, x::<b>Dates.CompoundPeriod</b>) in Dates at <a href=\"file:///cache/build/builder-amdci5-6/julialang/julia-release-1-dot-10/usr/share/julia/stdlib/v1.10/Dates/src/periods.jl\" target=\"_blank\">/usr/local/share/julia/stdlib/v1.10/Dates/src/periods.jl:333</a></li> <li> +(x::<b>P</b>, y::<b>P</b>)<i> where P<:Dates.Period</i> in Dates at <a href=\"file:///cache/build/builder-amdci5-6/julialang/julia-release-1-dot-10/usr/share/julia/stdlib/v1.10/Dates/src/periods.jl\" target=\"_blank\">/usr/local/share/julia/stdlib/v1.10/Dates/src/periods.jl:75</a></li> <li> +(x::<b>Dates.Period</b>, y::<b>Dates.Period</b>) in Dates at <a href=\"file:///cache/build/builder-amdci5-6/julialang/julia-release-1-dot-10/usr/share/julia/stdlib/v1.10/Dates/src/periods.jl\" target=\"_blank\">/usr/local/share/julia/stdlib/v1.10/Dates/src/periods.jl:331</a></li> <li> +(x::<b>AbstractArray{<:Dates.TimeType}</b>, y::<b>Union{Dates.CompoundPeriod, Dates.Period}</b>) in Dates at <a href=\"file:///cache/build/builder-amdci5-6/julialang/julia-release-1-dot-10/usr/share/julia/stdlib/v1.10/Dates/src/deprecated.jl\" target=\"_blank\">/usr/local/share/julia/stdlib/v1.10/Dates/src/deprecated.jl:6</a></li> <li> +(A::<b>AbstractMatrix</b>, J::<b>LinearAlgebra.UniformScaling</b>) in LinearAlgebra at <a href=\"file:///cache/build/builder-amdci5-6/julialang/julia-release-1-dot-10/usr/share/julia/stdlib/v1.10/LinearAlgebra/src/uniformscaling.jl\" target=\"_blank\">/usr/local/share/julia/stdlib/v1.10/LinearAlgebra/src/uniformscaling.jl:214</a></li> <li> +(X::<b>StridedArray{<:Union{Dates.CompoundPeriod, Dates.Period}}</b>, Y::<b>StridedArray{<:Union{Dates.CompoundPeriod, Dates.Period}}</b>) in Dates at <a href=\"file:///cache/build/builder-amdci5-6/julialang/julia-release-1-dot-10/usr/share/julia/stdlib/v1.10/Dates/src/deprecated.jl\" target=\"_blank\">/usr/local/share/julia/stdlib/v1.10/Dates/src/deprecated.jl:62</a></li> <li> +(r1::<b>Union{LinRange, OrdinalRange, StepRangeLen}</b>, r2::<b>Union{LinRange, OrdinalRange, StepRangeLen}</b>) in Base at <a href=\"https://github.com/JuliaLang/julia/tree/5595d20a2877560583cd4891ce91605d10b1bb75/base/range.jl#L1470\" target=\"_blank\">range.jl:1470</a></li> <li> +(A::<b>AbstractArray</b>, B::<b>AbstractArray</b>) in Base at <a href=\"https://github.com/JuliaLang/julia/tree/5595d20a2877560583cd4891ce91605d10b1bb75/base/arraymath.jl#L6\" target=\"_blank\">arraymath.jl:6</a></li> <li> +(x::<b>StridedArray{<:Union{Dates.CompoundPeriod, Dates.Period}}</b>) in Dates at <a href=\"file:///cache/build/builder-amdci5-6/julialang/julia-release-1-dot-10/usr/share/julia/stdlib/v1.10/Dates/src/deprecated.jl\" target=\"_blank\">/usr/local/share/julia/stdlib/v1.10/Dates/src/deprecated.jl:55</a></li> <li> +(x::<b>AbstractArray{<:Number}</b>) in Base at <a href=\"https://github.com/JuliaLang/julia/tree/5595d20a2877560583cd4891ce91605d10b1bb75/base/abstractarraymath.jl#L220\" target=\"_blank\">abstractarraymath.jl:220</a></li> <li> +(y::<b>Union{Dates.CompoundPeriod, Dates.Period}</b>, x::<b>AbstractArray{<:Dates.TimeType}</b>) in Dates at <a href=\"file:///cache/build/builder-amdci5-6/julialang/julia-release-1-dot-10/usr/share/julia/stdlib/v1.10/Dates/src/deprecated.jl\" target=\"_blank\">/usr/local/share/julia/stdlib/v1.10/Dates/src/deprecated.jl:14</a></li> <li> +(x::<b>StridedArray{<:Union{Dates.CompoundPeriod, Dates.Period}}</b>, y::<b>Dates.TimeType</b>) in Dates at <a href=\"file:///cache/build/builder-amdci5-6/julialang/julia-release-1-dot-10/usr/share/julia/stdlib/v1.10/Dates/src/deprecated.jl\" target=\"_blank\">/usr/local/share/julia/stdlib/v1.10/Dates/src/deprecated.jl:10</a></li> <li> +(x::<b>Union{Dates.CompoundPeriod, Dates.Period}</b>) in Dates at <a href=\"file:///cache/build/builder-amdci5-6/julialang/julia-release-1-dot-10/usr/share/julia/stdlib/v1.10/Dates/src/periods.jl\" target=\"_blank\">/usr/local/share/julia/stdlib/v1.10/Dates/src/periods.jl:342</a></li> <li> +(a, b, c, xs...) in Base at <a href=\"https://github.com/JuliaLang/julia/tree/5595d20a2877560583cd4891ce91605d10b1bb75/base/operators.jl#L587\" target=\"_blank\">operators.jl:587</a></li> </ul>"
            ]
          },
          "metadata": {},
          "execution_count": 3
        }
      ]
    },
    {
      "cell_type": "markdown",
      "source": [
        "# Polymorphic multiple dispatch\n",
        "\n",
        "This application of different methods to a common function is known as polymorphic multiple\n",
        "dispatch and it is one of the key concepts in Julia you need to understand.\n",
        "\n",
        "Multiple dispatch is different from the overloading of operators existing in languages such as C++ because\n",
        "it is determined at run time, not compilation time. Later, when we introduce composite types, we will see a\n",
        "second difference: in Julia, methods are not defined within classes as you would do in most object-oriented\n",
        "languages.\n",
        "\n",
        "The previous paragraph may help to see why Julia is a strongly dynamically typed\n",
        "programming language. Being a typed language means that the type of each value must be\n",
        "known by the compiler at run time to decide which method to apply to that value. Being a\n",
        "dynamically typed language means that such knowledge can be either explicit (i.e., declared\n",
        "by the user) or implicit (i.e., deduced by Julia with an intelligent type inference engine from\n",
        "the context it is used). Dynamic typing makes developing code with Julia flexible and fast:\n",
        "you do not need to worry about explicitly type every value as you go along (i.e., declaring to\n",
        "which type the value belongs). Being a strongly typed language means that you cannot use\n",
        "a value of one type as another value, although you can convert it or let the compiler do it for\n",
        "you. For example, Julia follows a promotion system where values of different types being\n",
        "operated jointly are “promoted” to a common system: in the sum between an integer and a\n",
        "float, the integer is “promoted” to float.10 You can, nevertheless, impose that the compiler\n",
        "will not vary the type of a value to avoid subtle bugs in issues where the type is of critical\n",
        "importance such as array indexing and, sometimes, to improve performance by providing\n",
        "guidance to the JIT compiler on which methods to implement.\n",
        "\n",
        "You do not need, though, to remember the type tree hierarchy, since Julia provides you\n",
        "with commands to check the supertype (i.e., the type above a current type in the tree) and\n",
        "subtype (i.e., the types below) of any given type:"
      ],
      "metadata": {
        "id": "b8REnzN1omms"
      }
    },
    {
      "cell_type": "code",
      "source": [
        "supertype(Float64)"
      ],
      "metadata": {
        "id": "5K3ldNF0pLK8",
        "outputId": "9dee4d4e-f871-4f68-c1bb-64ced9a6f049",
        "colab": {
          "base_uri": "https://localhost:8080/"
        }
      },
      "execution_count": 2,
      "outputs": [
        {
          "output_type": "execute_result",
          "data": {
            "text/plain": [
              "AbstractFloat"
            ]
          },
          "metadata": {},
          "execution_count": 2
        }
      ]
    },
    {
      "cell_type": "code",
      "source": [
        "\n",
        "subtypes(Integer)"
      ],
      "metadata": {
        "id": "D9oToJ9epFgE",
        "outputId": "90e82f11-02aa-4873-bfe3-46d946f1a33d",
        "colab": {
          "base_uri": "https://localhost:8080/"
        }
      },
      "execution_count": 1,
      "outputs": [
        {
          "output_type": "execute_result",
          "data": {
            "text/plain": [
              "3-element Vector{Any}:\n",
              " Bool\n",
              " Signed\n",
              " Unsigned"
            ]
          },
          "metadata": {},
          "execution_count": 1
        }
      ]
    },
    {
      "cell_type": "markdown",
      "source": [
        "You can always check the type of a variable with"
      ],
      "metadata": {
        "id": "c_Ay8JDrpPck"
      }
    },
    {
      "cell_type": "code",
      "source": [
        "a = 10\n",
        "typeof(a)"
      ],
      "metadata": {
        "id": "Y3JKweD1pUO0",
        "outputId": "490f62c1-534d-4367-9e94-1d5b82df6ef8",
        "colab": {
          "base_uri": "https://localhost:8080/"
        }
      },
      "execution_count": 4,
      "outputs": [
        {
          "output_type": "execute_result",
          "data": {
            "text/plain": [
              "Int64"
            ]
          },
          "metadata": {},
          "execution_count": 4
        }
      ]
    },
    {
      "cell_type": "markdown",
      "source": [
        "## Variables\n",
        "\n",
        "By default, integers values will be Int64 and floating point values will be\n",
        "Float64 , but we also have shorter and longer types. Particularly\n",
        "useful for computations with absolute large numbers (this happens sometimes, for example,\n",
        "when evaluating likelihood functions), we have BigFloat. In the unlikely case that BigFloat\n",
        "does not provide you with enough precission, Julia can use the GNU Multiple Precision\n",
        "arithmetic (GMP) (https://gmplib.org/) and the GNU MPFR Libraries (http://www.\n",
        "mpfr.org/)."
      ],
      "metadata": {
        "id": "Mh0rpqJTqi8c"
      }
    },
    {
      "cell_type": "code",
      "source": [
        "a = 3 # integer\n",
        "a = 0x3 # unsigned integer, hexadecimal base\n",
        "a = 0b11 # unsigned integer, binary base\n",
        "a = 3.0 # Float64\n",
        "a = 4 + 3im # imaginary\n",
        "a = complex(4,3) # same as above\n",
        "a = true # boolean\n",
        "a = \"String\" # string"
      ],
      "metadata": {
        "id": "R5UVYJg1qchE",
        "outputId": "2d10f9ab-76c6-46dc-e774-18b4b2a2aae9",
        "colab": {
          "base_uri": "https://localhost:8080/"
        }
      },
      "execution_count": 8,
      "outputs": [
        {
          "output_type": "execute_result",
          "data": {
            "text/plain": [
              "\"String\""
            ]
          },
          "metadata": {},
          "execution_count": 8
        }
      ]
    },
    {
      "cell_type": "markdown",
      "source": [
        "# Minimum and Maximum for every type\n",
        "You can check the minimum and maximum value every type can store with the functions\n",
        "typemin() and typemax() , the machine precision of a type with eps() and, if it is a floating point, the effective bits in its mantissa by precision() . For example, for a\n",
        "Float64 :"
      ],
      "metadata": {
        "id": "9z8saLkzq2Oc"
      }
    },
    {
      "cell_type": "code",
      "source": [
        "typemin(Float64) # returns -Inf (just a convention)\n",
        "typemin(Float64) # returns Inf (just a convention)\n",
        "eps(Float64) # returns 2.22e-16\n",
        "precision(Float64) # returns 53"
      ],
      "metadata": {
        "id": "U0TgR434q_hs",
        "outputId": "20c581a4-55d4-4798-fb33-aa905246ded0",
        "colab": {
          "base_uri": "https://localhost:8080/"
        }
      },
      "execution_count": 9,
      "outputs": [
        {
          "output_type": "execute_result",
          "data": {
            "text/plain": [
              "53"
            ]
          },
          "metadata": {},
          "execution_count": 9
        }
      ]
    },
    {
      "cell_type": "markdown",
      "source": [
        "Larger or smaller numbers than the limits will return an overflow error. You can also check\n",
        "the binary representation of a value:"
      ],
      "metadata": {
        "id": "r5bAqcdRrFmM"
      }
    },
    {
      "cell_type": "code",
      "source": [
        "a = 1\n",
        "bitstring(a) # binary representation of a"
      ],
      "metadata": {
        "id": "CtfNYuBprIjr",
        "outputId": "09c33d17-f2a2-47e8-f679-6706e076a6a6",
        "colab": {
          "base_uri": "https://localhost:8080/"
        }
      },
      "execution_count": 10,
      "outputs": [
        {
          "output_type": "execute_result",
          "data": {
            "text/plain": [
              "\"0000000000000000000000000000000000000000000000000000000000000001\""
            ]
          },
          "metadata": {},
          "execution_count": 10
        }
      ]
    },
    {
      "cell_type": "code",
      "metadata": {
        "id": "XciCcMAJOT3_",
        "colab": {
          "base_uri": "https://localhost:8080/"
        },
        "outputId": "8c5d4266-910e-43ec-c57d-5144f2ab01e5"
      },
      "source": [
        "import Pkg; Pkg.add(\"CUDA\")\n",
        "import Pkg; Pkg.add(\"BenchmarkTools\")\n",
        "using BenchmarkTools\n",
        "try\n",
        "    using CUDA\n",
        "catch\n",
        "    println(\"No GPU found.\")\n",
        "else\n",
        "    run(`nvidia-smi`)\n",
        "    # Create a new random matrix directly on the GPU:\n",
        "    M_on_gpu = CUDA.CURAND.rand(2^11, 2^11)\n",
        "    @btime $M_on_gpu * $M_on_gpu; nothing\n",
        "end"
      ],
      "execution_count": null,
      "outputs": [
        {
          "output_type": "stream",
          "name": "stderr",
          "text": [
            "\u001b[32m\u001b[1m   Resolving\u001b[22m\u001b[39m package versions...\n",
            "\u001b[32m\u001b[1m  No Changes\u001b[22m\u001b[39m to `~/.julia/environments/v1.10/Project.toml`\n",
            "\u001b[32m\u001b[1m  No Changes\u001b[22m\u001b[39m to `~/.julia/environments/v1.10/Manifest.toml`\n",
            "\u001b[32m\u001b[1m   Resolving\u001b[22m\u001b[39m package versions...\n",
            "\u001b[32m\u001b[1m   Installed\u001b[22m\u001b[39m BenchmarkTools ─ v1.6.0\n",
            "\u001b[32m\u001b[1m    Updating\u001b[22m\u001b[39m `~/.julia/environments/v1.10/Project.toml`\n",
            "  \u001b[90m[6e4b80f9] \u001b[39m\u001b[92m+ BenchmarkTools v1.6.0\u001b[39m\n",
            "\u001b[32m\u001b[1m    Updating\u001b[22m\u001b[39m `~/.julia/environments/v1.10/Manifest.toml`\n",
            "  \u001b[90m[6e4b80f9] \u001b[39m\u001b[92m+ BenchmarkTools v1.6.0\u001b[39m\n",
            "  \u001b[90m[9abbd945] \u001b[39m\u001b[92m+ Profile\u001b[39m\n",
            "\u001b[32m\u001b[1mPrecompiling\u001b[22m\u001b[39m packages...\n",
            "   1976.1 ms\u001b[32m  ✓ \u001b[39mBenchmarkTools\n",
            "  1 dependency successfully precompiled in 3 seconds. 460 already precompiled.\n"
          ]
        },
        {
          "output_type": "stream",
          "name": "stdout",
          "text": [
            "Fri Apr  4 16:37:36 2025       \n",
            "+-----------------------------------------------------------------------------------------+\n",
            "| NVIDIA-SMI 550.54.15              Driver Version: 550.54.15      CUDA Version: 12.4     |\n",
            "|-----------------------------------------+------------------------+----------------------+\n",
            "| GPU  Name                 Persistence-M | Bus-Id          Disp.A | Volatile Uncorr. ECC |\n",
            "| Fan  Temp   Perf          Pwr:Usage/Cap |           Memory-Usage | GPU-Util  Compute M. |\n",
            "|                                         |                        |               MIG M. |\n",
            "|=========================================+========================+======================|\n",
            "|   0  Tesla T4                       Off |   00000000:00:04.0 Off |                    0 |\n",
            "| N/A   38C    P8              9W /   70W |       2MiB /  15360MiB |      0%      Default |\n",
            "|                                         |                        |                  N/A |\n",
            "+-----------------------------------------+------------------------+----------------------+\n",
            "                                                                                         \n",
            "+-----------------------------------------------------------------------------------------+\n",
            "| Processes:                                                                              |\n",
            "|  GPU   GI   CI        PID   Type   Process name                              GPU Memory |\n",
            "|        ID   ID                                                               Usage      |\n",
            "|=========================================================================================|\n",
            "|  No running processes found                                                             |\n",
            "+-----------------------------------------------------------------------------------------+\n",
            "  416.479 ms (2 allocations: 32.00 MiB)\n"
          ]
        }
      ]
    },
    {
      "cell_type": "markdown",
      "metadata": {
        "id": "8RC1QNNqk6h1"
      },
      "source": [
        "# Need Help?\n",
        "\n",
        "* Learning: https://julialang.org/learning/\n",
        "* Documentation: https://docs.julialang.org/\n",
        "* Questions & Discussions:\n",
        "  * https://discourse.julialang.org/\n",
        "  * http://julialang.slack.com/\n",
        "  * https://stackoverflow.com/questions/tagged/julia\n",
        "\n",
        "If you ever ask for help or file an issue about Julia, you should generally provide the output of `versioninfo()`."
      ]
    },
    {
      "cell_type": "markdown",
      "metadata": {
        "id": "2UMidUQB03vJ"
      },
      "source": [
        "Add new code cells by clicking the `+ Code` button (or _Insert_ > _Code cell_).\n",
        "\n",
        "Have fun!\n",
        "\n",
        "<img src=\"https://raw.githubusercontent.com/JuliaLang/julia-logo-graphics/master/images/julia-logo-mask.png\" height=\"100\" />"
      ]
    }
  ]
}