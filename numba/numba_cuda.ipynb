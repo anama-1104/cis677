{
  "nbformat": 4,
  "nbformat_minor": 0,
  "metadata": {
    "colab": {
      "name": "numba_cuda.ipynb",
      "provenance": []
    },
    "kernelspec": {
      "name": "python3",
      "display_name": "Python 3"
    },
    "accelerator": "GPU"
  },
  "cells": [
    {
      "cell_type": "markdown",
      "metadata": {
        "id": "fm8wdYqVBeXj"
      },
      "source": [
        "## Numba + CUDA on Google Colab\n",
        "\n",
        "By default, Google Colab is not able to run numba + CUDA, because two lilbraries are not found, `libdevice` and `libnvvm.so`. So we need to make sure that these libraries are found in the notebook.  \n",
        "\n",
        "First, we look for these libraries on the system. To do that, we simply run the `find` command, to recursively look for these libraries starting at the root of the filesystem. The exclamation mark escapes the line so that it's executed by the Linux shell, and not by the jupyter notebook."
      ]
    },
    {
      "cell_type": "code",
      "metadata": {
        "id": "5Mt7dgLwmnVJ",
        "outputId": "1171aac7-6930-44e7-9585-7e3068eb1efc",
        "colab": {
          "base_uri": "https://localhost:8080/"
        }
      },
      "source": [
        "!find / -iname 'libdevice'\n",
        "!find / -iname 'libnvvm.so'\n"
      ],
      "execution_count": 1,
      "outputs": [
        {
          "output_type": "stream",
          "name": "stdout",
          "text": [
            "/root/.julia/artifacts/6283886c5dd600750885a23bff8d37f687172633/share/libdevice\n",
            "find: ‘/proc/66/task/66/net’: Invalid argument\n",
            "find: ‘/proc/66/net’: Invalid argument\n",
            "/usr/local/lib/python3.12/dist-packages/nvidia/cuda_nvcc/nvvm/libdevice\n",
            "/usr/local/cuda-12.5/nvvm/libdevice\n",
            "find: ‘/proc/66/task/66/net’: Invalid argument\n",
            "find: ‘/proc/66/net’: Invalid argument\n",
            "/usr/local/lib/python3.12/dist-packages/nvidia/cuda_nvcc/nvvm/lib64/libnvvm.so\n",
            "/usr/local/cuda-12.5/nvvm/lib64/libnvvm.so\n"
          ]
        }
      ]
    },
    {
      "cell_type": "markdown",
      "metadata": {
        "id": "HO0mdhPoDRTS"
      },
      "source": [
        "Then, we add the two libraries to numba environment variables:"
      ]
    },
    {
      "cell_type": "code",
      "metadata": {
        "id": "Ctr6aM3cmkdx"
      },
      "source": [
        "import os\n",
        "os.environ['NUMBAPRO_LIBDEVICE'] = \"/usr/local/cuda-12.5/nvvm/libdevice\"\n",
        "os.environ['NUMBAPRO_NVVM'] = \"/usr/local/cuda-12.5/nvvm/lib64/libnvvm.so\"\n"
      ],
      "execution_count": 2,
      "outputs": []
    },
    {
      "cell_type": "code",
      "source": [
        "!uv pip install -q --system numba-cuda==0.4.0"
      ],
      "metadata": {
        "id": "MCashvhrxh-U"
      },
      "execution_count": 3,
      "outputs": []
    },
    {
      "cell_type": "markdown",
      "metadata": {
        "id": "whscBGwEDcEZ"
      },
      "source": [
        "And we're done! Now let's get started."
      ]
    },
    {
      "cell_type": "markdown",
      "metadata": {
        "id": "03jodrvKLJAP"
      },
      "source": [
        "## A gentle introduction to ufuncs\n",
        "\n",
        "Numpy universal functions or ufuncs are functions that operate on a numpy array in an element-by-element fashion. For example, when we take the square of a numpy array, a ufunc computes the square of each element before returning the resulting array:  "
      ]
    },
    {
      "cell_type": "code",
      "metadata": {
        "id": "hw8e1l8iLpH1",
        "outputId": "353cc2fe-d96b-49eb-ff75-e942145e5668",
        "colab": {
          "base_uri": "https://localhost:8080/"
        }
      },
      "source": [
        "import numpy as np\n",
        "x = np.arange(10)\n",
        "x**2"
      ],
      "execution_count": 4,
      "outputs": [
        {
          "output_type": "execute_result",
          "data": {
            "text/plain": [
              "array([ 0,  1,  4,  9, 16, 25, 36, 49, 64, 81])"
            ]
          },
          "metadata": {},
          "execution_count": 4
        }
      ]
    },
    {
      "cell_type": "markdown",
      "metadata": {
        "id": "Y2hF7-vzLys6"
      },
      "source": [
        "Most math functions (if not all) are available as ufuncs in numpy. For example, to exponentiate all elements in a numpy array:"
      ]
    },
    {
      "cell_type": "code",
      "metadata": {
        "id": "1n2hkLgbLx86",
        "outputId": "e2cb7d6f-1442-477b-edd6-bcef86ca8256",
        "colab": {
          "base_uri": "https://localhost:8080/"
        }
      },
      "source": [
        "np.exp(x)"
      ],
      "execution_count": 5,
      "outputs": [
        {
          "output_type": "execute_result",
          "data": {
            "text/plain": [
              "array([1.00000000e+00, 2.71828183e+00, 7.38905610e+00, 2.00855369e+01,\n",
              "       5.45981500e+01, 1.48413159e+02, 4.03428793e+02, 1.09663316e+03,\n",
              "       2.98095799e+03, 8.10308393e+03])"
            ]
          },
          "metadata": {},
          "execution_count": 5
        }
      ]
    },
    {
      "cell_type": "markdown",
      "metadata": {
        "id": "zwkXetz9MInV"
      },
      "source": [
        "Most ufuncs are implemented in compiled C code, so they are already quite fast, and much faster than plain python. For example, let's consider a large array, and let's compute the logarithm of each element, both in plain python and in numpy:"
      ]
    },
    {
      "cell_type": "code",
      "metadata": {
        "id": "v_EU7lwrNBUP",
        "outputId": "0768e5c3-0729-4854-f7c6-e0ed31869c51",
        "colab": {
          "base_uri": "https://localhost:8080/"
        }
      },
      "source": [
        "import math\n",
        "x = np.arange(int(1e6))\n",
        "%timeit np.sqrt(x)\n",
        "%timeit [math.sqrt(xx) for xx in x]"
      ],
      "execution_count": 6,
      "outputs": [
        {
          "output_type": "stream",
          "name": "stdout",
          "text": [
            "1.55 ms ± 144 µs per loop (mean ± std. dev. of 7 runs, 1000 loops each)\n",
            "132 ms ± 28.7 ms per loop (mean ± std. dev. of 7 runs, 10 loops each)\n"
          ]
        }
      ]
    },
    {
      "cell_type": "markdown",
      "metadata": {
        "id": "2xwQGTwVNXEr"
      },
      "source": [
        "We see that the numpy ufunc is about 50 times faster. Still, in the ufunc, the calculation is not parallelized: the square root is computed sequentially on the CPU for each element in the array.\n",
        "\n",
        "The GPU, contrary to the CPU, is able to perform a large number of operations simultaneously. In the following, we will see how to create and compile ufuncs for the GPU to perform the calculation on many elements at the same time."
      ]
    },
    {
      "cell_type": "markdown",
      "metadata": {
        "id": "Tk2lkx_LEJhN"
      },
      "source": [
        "## A very simple example : parallel square root calculation on the GPU\n",
        "\n",
        "Our first ufunc for the GPU will again compute the square root for a large number of points.\n",
        "\n",
        "We start by building a sample of points ranging from 0 to 10 millions. GPUs are more efficient with numbers that are encoded on a small number of bits. And often, a very high precision is not needed. So we create a sample of `float32` numbers (the default being `float64`):"
      ]
    },
    {
      "cell_type": "code",
      "metadata": {
        "id": "8CZsUw4REvNW"
      },
      "source": [
        "import numpy as np\n",
        "from numba import config\n",
        "config.CUDA_ENABLE_PYNVJITLINK = 1\n",
        "npoints = int(1e7)\n",
        "a = np.arange(npoints, dtype=np.float32)"
      ],
      "execution_count": 7,
      "outputs": []
    },
    {
      "cell_type": "markdown",
      "metadata": {
        "id": "v_rQxpVQP6Qo"
      },
      "source": [
        "With numba, we can create ufuncs **compiled for the CPU** using the vectorize decorator. Let's start by doing this:"
      ]
    },
    {
      "cell_type": "code",
      "metadata": {
        "id": "xT64SF4DQR1V",
        "outputId": "0598c623-9a9c-46d0-8952-9e2b3917d11d",
        "colab": {
          "base_uri": "https://localhost:8080/"
        }
      },
      "source": [
        "import math\n",
        "from numba import vectorize\n",
        "\n",
        "@vectorize\n",
        "def cpu_sqrt(x):\n",
        "  return math.sqrt(x)\n",
        "\n",
        "cpu_sqrt(x)"
      ],
      "execution_count": 8,
      "outputs": [
        {
          "output_type": "execute_result",
          "data": {
            "text/plain": [
              "array([  0.        ,   1.        ,   1.41421356, ..., 999.9985    ,\n",
              "       999.999     , 999.9995    ])"
            ]
          },
          "metadata": {},
          "execution_count": 8
        }
      ]
    },
    {
      "cell_type": "markdown",
      "metadata": {
        "id": "nhGMg8bSEwLw"
      },
      "source": [
        "Creating a ufunc **for the GPU** is almost as straightforward:"
      ]
    },
    {
      "cell_type": "code",
      "metadata": {
        "id": "zuaHYsSTnZml"
      },
      "source": [
        "import math\n",
        "from numba import vectorize\n",
        "\n",
        "@vectorize(['float32(float32)'], target='cuda')\n",
        "def gpu_sqrt(x):\n",
        "    return math.sqrt(x)\n",
        ""
      ],
      "execution_count": 9,
      "outputs": []
    },
    {
      "cell_type": "code",
      "metadata": {
        "id": "_pnAX86QoQGq",
        "outputId": "e0d1dd39-c6b6-4a04-b398-0c847578a2ba",
        "colab": {
          "base_uri": "https://localhost:8080/"
        }
      },
      "source": [
        "gpu_sqrt(a)"
      ],
      "execution_count": 10,
      "outputs": [
        {
          "output_type": "execute_result",
          "data": {
            "text/plain": [
              "array([0.0000000e+00, 1.0000000e+00, 1.4142135e+00, ..., 3.1622771e+03,\n",
              "       3.1622773e+03, 3.1622776e+03], dtype=float32)"
            ]
          },
          "metadata": {},
          "execution_count": 10
        }
      ]
    },
    {
      "cell_type": "markdown",
      "metadata": {
        "id": "1IygNUitPxNi"
      },
      "source": [
        "It is important to note that, contrary to the CPU case, the input and return types of the function have to be specified, when compiling for the GPU. In the string:\n",
        "\n",
        "```\n",
        "'float32(float32)'\n",
        "```\n",
        "\n",
        "The first `float32` corresponds to the return type, and the second one to the input type. You can think of it as: the returned value is a function of the input value. Also, please note that these types need to be adapted to your data. In the case above, we have created an array of `float32` values, so we are fine.\n",
        "\n",
        "**Exercise:** Edit the type definition in the vectorize decorator to read `float64`, and see what happens when you call the function. Then change it back to `float32`."
      ]
    },
    {
      "cell_type": "markdown",
      "metadata": {
        "id": "npFHbvbNGZ0k"
      },
      "source": [
        "Now let's see how much we gained. For this, we use the timeit magic command."
      ]
    },
    {
      "cell_type": "code",
      "metadata": {
        "id": "DNvfK-TeGBI3",
        "outputId": "0e6e4a0e-ca5f-43a1-f175-74ab5738431e",
        "colab": {
          "base_uri": "https://localhost:8080/"
        }
      },
      "source": [
        "%timeit gpu_sqrt(a)"
      ],
      "execution_count": 11,
      "outputs": [
        {
          "output_type": "stream",
          "name": "stdout",
          "text": [
            "27.4 ms ± 1.39 ms per loop (mean ± std. dev. of 7 runs, 10 loops each)\n"
          ]
        }
      ]
    },
    {
      "cell_type": "markdown",
      "metadata": {
        "id": "TRQYI0JjGrNB"
      },
      "source": [
        "The GPU managed to compute the sqrt for 10 million points in 40 ms. Now let's see what we get with numpy, which is compiled for the CPU, and with our CPU ufunc:\n"
      ]
    },
    {
      "cell_type": "code",
      "metadata": {
        "id": "NPsSrGcyF5-a",
        "outputId": "5a613937-0c33-47b9-ebc5-79333e91a552",
        "colab": {
          "base_uri": "https://localhost:8080/"
        }
      },
      "source": [
        "%timeit np.sqrt(a)"
      ],
      "execution_count": 12,
      "outputs": [
        {
          "output_type": "stream",
          "name": "stdout",
          "text": [
            "9.82 ms ± 314 µs per loop (mean ± std. dev. of 7 runs, 100 loops each)\n"
          ]
        }
      ]
    },
    {
      "cell_type": "code",
      "metadata": {
        "id": "r5cgsw2_Q4ZL",
        "outputId": "61cad677-c833-452d-f231-904e065946f5",
        "colab": {
          "base_uri": "https://localhost:8080/"
        }
      },
      "source": [
        "%timeit cpu_sqrt(a)"
      ],
      "execution_count": 13,
      "outputs": [
        {
          "output_type": "stream",
          "name": "stdout",
          "text": [
            "9.69 ms ± 725 µs per loop (mean ± std. dev. of 7 runs, 100 loops each)\n"
          ]
        }
      ]
    },
    {
      "cell_type": "markdown",
      "metadata": {
        "id": "eO1gsEtnF360"
      },
      "source": [
        "Wait! We do not gain anything and the CPU version is actually twice faster!\n",
        "\n",
        "There is a simple reason for this. When running on the GPU, the following happens under the hood:\n",
        "\n",
        "* the input data (the array `a`) is transferred to the GPU memory;\n",
        "* the calculation of the square root is done in parallel on the GPU for all elements of `a`;\n",
        "* the resulting array is sent back to the host system.\n",
        "\n",
        "If the calculation is too simple, there is no use shipping our data to the GPU for fast parallel processing, if we are to wait so long for the data transfers to complete. In other words, most of the time is spent in the data transfers, and the GPU is basically useless.\n",
        "\n",
        "Let's see what happens with a more involved calculation.\n",
        "\n"
      ]
    },
    {
      "cell_type": "markdown",
      "metadata": {
        "id": "lrze4fYGM2zu"
      },
      "source": [
        "## From cartesian to polar coordinates on the GPU\n",
        "\n",
        "Let's build an array of 1000 points in 2D, described by the cartesian coordinates x and y. We choose to draw the points according to a 2D Gaussian distribution, introducing some correlation between the x and y components:"
      ]
    },
    {
      "cell_type": "code",
      "metadata": {
        "id": "KFMuCJTzNYcj"
      },
      "source": [
        "points = np.random.multivariate_normal([0,0], [[1.,0.9], [0.9,1.]], 1000).astype(np.float32)"
      ],
      "execution_count": 14,
      "outputs": []
    },
    {
      "cell_type": "code",
      "metadata": {
        "id": "jvAFfCXbvyI3",
        "outputId": "4c099d92-272b-45e3-d119-9479a27f2fa9",
        "colab": {
          "base_uri": "https://localhost:8080/",
          "height": 448
        }
      },
      "source": [
        "import matplotlib.pyplot as plt\n",
        "plt.scatter(points[:,0], points[:,1])"
      ],
      "execution_count": 15,
      "outputs": [
        {
          "output_type": "execute_result",
          "data": {
            "text/plain": [
              "<matplotlib.collections.PathCollection at 0x7a3034797500>"
            ]
          },
          "metadata": {},
          "execution_count": 15
        },
        {
          "output_type": "display_data",
          "data": {
            "text/plain": [
              "<Figure size 640x480 with 1 Axes>"
            ],
            "image/png": "[encoded data removed]"
          },
          "metadata": {}
        }
      ]
    },
    {
      "cell_type": "markdown",
      "metadata": {
        "id": "v7zHafAWNTsn"
      },
      "source": [
        "It's often useful to convert cartesian coordinates into the polar coordinates `R` and `theta`, where r is the distance of the point to origin, and where theta is the angle between the x axis and the direction of the point.\n",
        "\n",
        "![](https://raw.githubusercontent.com/cbernet/maldives/master/numba/cart_polar.png)\n",
        "\n",
        "`R` is easily obtained as the quadratic sum of x and y:\n",
        "\n",
        "$$R = \\sqrt{x^2 + y^2}$$\n",
        "\n",
        "But to get theta, one has to use the `arctan2` function. This function is available in numpy, and we can use it to easily get the results (please note that the y coordinate has to be provided as the first argument)"
      ]
    },
    {
      "cell_type": "code",
      "metadata": {
        "id": "_QuMci1UOFMX",
        "outputId": "ce768c8e-9c80-4cd6-daec-2c382622e8d2",
        "colab": {
          "base_uri": "https://localhost:8080/",
          "height": 430
        }
      },
      "source": [
        "theta = np.arctan2(points[:,1], points[:,0])\n",
        "_ = plt.hist(theta, bins=100)"
      ],
      "execution_count": 16,
      "outputs": [
        {
          "output_type": "display_data",
          "data": {
            "text/plain": [
              "<Figure size 640x480 with 1 Axes>"
            ],
            "image/png": "[encoded data removed]"
          },
          "metadata": {}
        }
      ]
    },
    {
      "cell_type": "markdown",
      "metadata": {
        "id": "GrBoDk1fPWVE"
      },
      "source": [
        "Because of the correlation between x and y, we see two peaks at $\\pi/4$ and $-3\\pi/4$.\n",
        "\n",
        "Now let's try and perform the same calculation on the GPU. This time, we have two input values, and we define the function signature accordingly."
      ]
    },
    {
      "cell_type": "code",
      "metadata": {
        "id": "49E87JbarOOn"
      },
      "source": [
        "import math\n",
        "@vectorize(['float32(float32, float32)'],target='cuda')\n",
        "def gpu_arctan2(y, x):\n",
        "    theta = math.atan2(y,x)\n",
        "    return theta"
      ],
      "execution_count": 17,
      "outputs": []
    },
    {
      "cell_type": "markdown",
      "metadata": {
        "id": "Ma4OnucmRw4r"
      },
      "source": [
        "As before with `np.arctan2`, we need to slice our `points` array to provide first the array of `y` coordinates, and then the array of `x` coordinates:"
      ]
    },
    {
      "cell_type": "code",
      "metadata": {
        "id": "Lw8BMFAr8tS2",
        "outputId": "16b6a5db-1a69-46bd-b358-92c259f100d1",
        "colab": {
          "base_uri": "https://localhost:8080/",
          "height": 315
        }
      },
      "source": [
        "theta = gpu_arctan2(points[:,1], points[:,0])"
      ],
      "execution_count": 18,
      "outputs": [
        {
          "output_type": "error",
          "ename": "ValueError",
          "evalue": "Array contains non-contiguous buffer and cannot be transferred as a single memory region. Please ensure contiguous buffer with numpy .ascontiguousarray()",
          "traceback": [
            "\u001b[0;31m---------------------------------------------------------------------------\u001b[0m",
            "\u001b[0;31mValueError\u001b[0m                                Traceback (most recent call last)",
            "\u001b[0;32m/tmp/ipython-input-2890360530.py\u001b[0m in \u001b[0;36m<cell line: 0>\u001b[0;34m()\u001b[0m\n\u001b[0;32m----> 1\u001b[0;31m \u001b[0mtheta\u001b[0m \u001b[0;34m=\u001b[0m \u001b[0mgpu_arctan2\u001b[0m\u001b[0;34m(\u001b[0m\u001b[0mpoints\u001b[0m\u001b[0;34m[\u001b[0m\u001b[0;34m:\u001b[0m\u001b[0;34m,\u001b[0m\u001b[0;36m1\u001b[0m\u001b[0;34m]\u001b[0m\u001b[0;34m,\u001b[0m \u001b[0mpoints\u001b[0m\u001b[0;34m[\u001b[0m\u001b[0;34m:\u001b[0m\u001b[0;34m,\u001b[0m\u001b[0;36m0\u001b[0m\u001b[0;34m]\u001b[0m\u001b[0;34m)\u001b[0m\u001b[0;34m\u001b[0m\u001b[0;34m\u001b[0m\u001b[0m\n\u001b[0m",
            "\u001b[0;32m/usr/local/lib/python3.12/dist-packages/numba_cuda/numba/cuda/vectorizers.py\u001b[0m in \u001b[0;36m__call__\u001b[0;34m(self, *args, **kws)\u001b[0m\n\u001b[1;32m     26\u001b[0m                       \u001b[0mthe\u001b[0m \u001b[0minput\u001b[0m \u001b[0marguments\u001b[0m\u001b[0;34m.\u001b[0m\u001b[0;34m\u001b[0m\u001b[0;34m\u001b[0m\u001b[0m\n\u001b[1;32m     27\u001b[0m         \"\"\"\n\u001b[0;32m---> 28\u001b[0;31m         \u001b[0;32mreturn\u001b[0m \u001b[0mCUDAUFuncMechanism\u001b[0m\u001b[0;34m.\u001b[0m\u001b[0mcall\u001b[0m\u001b[0;34m(\u001b[0m\u001b[0mself\u001b[0m\u001b[0;34m.\u001b[0m\u001b[0mfunctions\u001b[0m\u001b[0;34m,\u001b[0m \u001b[0margs\u001b[0m\u001b[0;34m,\u001b[0m \u001b[0mkws\u001b[0m\u001b[0;34m)\u001b[0m\u001b[0;34m\u001b[0m\u001b[0;34m\u001b[0m\u001b[0m\n\u001b[0m\u001b[1;32m     29\u001b[0m \u001b[0;34m\u001b[0m\u001b[0m\n\u001b[1;32m     30\u001b[0m     \u001b[0;32mdef\u001b[0m \u001b[0mreduce\u001b[0m\u001b[0;34m(\u001b[0m\u001b[0mself\u001b[0m\u001b[0;34m,\u001b[0m \u001b[0marg\u001b[0m\u001b[0;34m,\u001b[0m \u001b[0mstream\u001b[0m\u001b[0;34m=\u001b[0m\u001b[0;36m0\u001b[0m\u001b[0;34m)\u001b[0m\u001b[0;34m:\u001b[0m\u001b[0;34m\u001b[0m\u001b[0;34m\u001b[0m\u001b[0m\n",
            "\u001b[0;32m/usr/local/lib/python3.12/dist-packages/numba_cuda/numba/cuda/deviceufunc.py\u001b[0m in \u001b[0;36mcall\u001b[0;34m(cls, typemap, args, kws)\u001b[0m\n\u001b[1;32m    289\u001b[0m                 \u001b[0many_device\u001b[0m \u001b[0;34m=\u001b[0m \u001b[0;32mTrue\u001b[0m\u001b[0;34m\u001b[0m\u001b[0;34m\u001b[0m\u001b[0m\n\u001b[1;32m    290\u001b[0m             \u001b[0;32melse\u001b[0m\u001b[0;34m:\u001b[0m\u001b[0;34m\u001b[0m\u001b[0;34m\u001b[0m\u001b[0m\n\u001b[0;32m--> 291\u001b[0;31m                 \u001b[0mdev_a\u001b[0m \u001b[0;34m=\u001b[0m \u001b[0mcr\u001b[0m\u001b[0;34m.\u001b[0m\u001b[0mto_device\u001b[0m\u001b[0;34m(\u001b[0m\u001b[0ma\u001b[0m\u001b[0;34m,\u001b[0m \u001b[0mstream\u001b[0m\u001b[0;34m=\u001b[0m\u001b[0mstream\u001b[0m\u001b[0;34m)\u001b[0m\u001b[0;34m\u001b[0m\u001b[0;34m\u001b[0m\u001b[0m\n\u001b[0m\u001b[1;32m    292\u001b[0m                 \u001b[0mdevarys\u001b[0m\u001b[0;34m.\u001b[0m\u001b[0mappend\u001b[0m\u001b[0;34m(\u001b[0m\u001b[0mdev_a\u001b[0m\u001b[0;34m)\u001b[0m\u001b[0;34m\u001b[0m\u001b[0;34m\u001b[0m\u001b[0m\n\u001b[1;32m    293\u001b[0m \u001b[0;34m\u001b[0m\u001b[0m\n",
            "\u001b[0;32m/usr/local/lib/python3.12/dist-packages/numba_cuda/numba/cuda/vectorizers.py\u001b[0m in \u001b[0;36mto_device\u001b[0;34m(self, hostary, stream)\u001b[0m\n\u001b[1;32m    165\u001b[0m \u001b[0;34m\u001b[0m\u001b[0m\n\u001b[1;32m    166\u001b[0m     \u001b[0;32mdef\u001b[0m \u001b[0mto_device\u001b[0m\u001b[0;34m(\u001b[0m\u001b[0mself\u001b[0m\u001b[0;34m,\u001b[0m \u001b[0mhostary\u001b[0m\u001b[0;34m,\u001b[0m \u001b[0mstream\u001b[0m\u001b[0;34m)\u001b[0m\u001b[0;34m:\u001b[0m\u001b[0;34m\u001b[0m\u001b[0;34m\u001b[0m\u001b[0m\n\u001b[0;32m--> 167\u001b[0;31m         \u001b[0;32mreturn\u001b[0m \u001b[0mcuda\u001b[0m\u001b[0;34m.\u001b[0m\u001b[0mto_device\u001b[0m\u001b[0;34m(\u001b[0m\u001b[0mhostary\u001b[0m\u001b[0;34m,\u001b[0m \u001b[0mstream\u001b[0m\u001b[0;34m=\u001b[0m\u001b[0mstream\u001b[0m\u001b[0;34m)\u001b[0m\u001b[0;34m\u001b[0m\u001b[0;34m\u001b[0m\u001b[0m\n\u001b[0m\u001b[1;32m    168\u001b[0m \u001b[0;34m\u001b[0m\u001b[0m\n\u001b[1;32m    169\u001b[0m     \u001b[0;32mdef\u001b[0m \u001b[0mto_host\u001b[0m\u001b[0;34m(\u001b[0m\u001b[0mself\u001b[0m\u001b[0;34m,\u001b[0m \u001b[0mdevary\u001b[0m\u001b[0;34m,\u001b[0m \u001b[0mstream\u001b[0m\u001b[0;34m)\u001b[0m\u001b[0;34m:\u001b[0m\u001b[0;34m\u001b[0m\u001b[0;34m\u001b[0m\u001b[0m\n",
            "\u001b[0;32m/usr/local/lib/python3.12/dist-packages/numba_cuda/numba/cuda/cudadrv/devices.py\u001b[0m in \u001b[0;36m_require_cuda_context\u001b[0;34m(*args, **kws)\u001b[0m\n\u001b[1;32m    230\u001b[0m     \u001b[0;32mdef\u001b[0m \u001b[0m_require_cuda_context\u001b[0m\u001b[0;34m(\u001b[0m\u001b[0;34m*\u001b[0m\u001b[0margs\u001b[0m\u001b[0;34m,\u001b[0m \u001b[0;34m**\u001b[0m\u001b[0mkws\u001b[0m\u001b[0;34m)\u001b[0m\u001b[0;34m:\u001b[0m\u001b[0;34m\u001b[0m\u001b[0;34m\u001b[0m\u001b[0m\n\u001b[1;32m    231\u001b[0m         \u001b[0;32mwith\u001b[0m \u001b[0m_runtime\u001b[0m\u001b[0;34m.\u001b[0m\u001b[0mensure_context\u001b[0m\u001b[0;34m(\u001b[0m\u001b[0;34m)\u001b[0m\u001b[0;34m:\u001b[0m\u001b[0;34m\u001b[0m\u001b[0;34m\u001b[0m\u001b[0m\n\u001b[0;32m--> 232\u001b[0;31m             \u001b[0;32mreturn\u001b[0m \u001b[0mfn\u001b[0m\u001b[0;34m(\u001b[0m\u001b[0;34m*\u001b[0m\u001b[0margs\u001b[0m\u001b[0;34m,\u001b[0m \u001b[0;34m**\u001b[0m\u001b[0mkws\u001b[0m\u001b[0;34m)\u001b[0m\u001b[0;34m\u001b[0m\u001b[0;34m\u001b[0m\u001b[0m\n\u001b[0m\u001b[1;32m    233\u001b[0m \u001b[0;34m\u001b[0m\u001b[0m\n\u001b[1;32m    234\u001b[0m     \u001b[0;32mreturn\u001b[0m \u001b[0m_require_cuda_context\u001b[0m\u001b[0;34m\u001b[0m\u001b[0;34m\u001b[0m\u001b[0m\n",
            "\u001b[0;32m/usr/local/lib/python3.12/dist-packages/numba_cuda/numba/cuda/api.py\u001b[0m in \u001b[0;36mto_device\u001b[0;34m(obj, stream, copy, to)\u001b[0m\n\u001b[1;32m    126\u001b[0m     \"\"\"\n\u001b[1;32m    127\u001b[0m     \u001b[0;32mif\u001b[0m \u001b[0mto\u001b[0m \u001b[0;32mis\u001b[0m \u001b[0;32mNone\u001b[0m\u001b[0;34m:\u001b[0m\u001b[0;34m\u001b[0m\u001b[0;34m\u001b[0m\u001b[0m\n\u001b[0;32m--> 128\u001b[0;31m         to, new = devicearray.auto_device(obj, stream=stream, copy=copy,\n\u001b[0m\u001b[1;32m    129\u001b[0m                                           user_explicit=True)\n\u001b[1;32m    130\u001b[0m         \u001b[0;32mreturn\u001b[0m \u001b[0mto\u001b[0m\u001b[0;34m\u001b[0m\u001b[0;34m\u001b[0m\u001b[0m\n",
            "\u001b[0;32m/usr/local/lib/python3.12/dist-packages/numba_cuda/numba/cuda/cudadrv/devicearray.py\u001b[0m in \u001b[0;36mauto_device\u001b[0;34m(obj, stream, copy, user_explicit)\u001b[0m\n\u001b[1;32m    877\u001b[0m                 \u001b[0mcopy\u001b[0m\u001b[0;34m=\u001b[0m\u001b[0;32mFalse\u001b[0m \u001b[0;32mif\u001b[0m \u001b[0mnumpy_version\u001b[0m \u001b[0;34m<\u001b[0m \u001b[0;34m(\u001b[0m\u001b[0;36m2\u001b[0m\u001b[0;34m,\u001b[0m \u001b[0;36m0\u001b[0m\u001b[0;34m)\u001b[0m \u001b[0;32melse\u001b[0m \u001b[0;32mNone\u001b[0m\u001b[0;34m,\u001b[0m\u001b[0;34m\u001b[0m\u001b[0;34m\u001b[0m\u001b[0m\n\u001b[1;32m    878\u001b[0m                 subok=True)\n\u001b[0;32m--> 879\u001b[0;31m             \u001b[0msentry_contiguous\u001b[0m\u001b[0;34m(\u001b[0m\u001b[0mobj\u001b[0m\u001b[0;34m)\u001b[0m\u001b[0;34m\u001b[0m\u001b[0;34m\u001b[0m\u001b[0m\n\u001b[0m\u001b[1;32m    880\u001b[0m             \u001b[0mdevobj\u001b[0m \u001b[0;34m=\u001b[0m \u001b[0mfrom_array_like\u001b[0m\u001b[0;34m(\u001b[0m\u001b[0mobj\u001b[0m\u001b[0;34m,\u001b[0m \u001b[0mstream\u001b[0m\u001b[0;34m=\u001b[0m\u001b[0mstream\u001b[0m\u001b[0;34m)\u001b[0m\u001b[0;34m\u001b[0m\u001b[0;34m\u001b[0m\u001b[0m\n\u001b[1;32m    881\u001b[0m         \u001b[0;32mif\u001b[0m \u001b[0mcopy\u001b[0m\u001b[0;34m:\u001b[0m\u001b[0;34m\u001b[0m\u001b[0;34m\u001b[0m\u001b[0m\n",
            "\u001b[0;32m/usr/local/lib/python3.12/dist-packages/numba_cuda/numba/cuda/cudadrv/devicearray.py\u001b[0m in \u001b[0;36msentry_contiguous\u001b[0;34m(ary)\u001b[0m\n\u001b[1;32m    851\u001b[0m     \u001b[0mcore\u001b[0m \u001b[0;34m=\u001b[0m \u001b[0marray_core\u001b[0m\u001b[0;34m(\u001b[0m\u001b[0mary\u001b[0m\u001b[0;34m)\u001b[0m\u001b[0;34m\u001b[0m\u001b[0;34m\u001b[0m\u001b[0m\n\u001b[1;32m    852\u001b[0m     \u001b[0;32mif\u001b[0m \u001b[0;32mnot\u001b[0m \u001b[0mcore\u001b[0m\u001b[0;34m.\u001b[0m\u001b[0mflags\u001b[0m\u001b[0;34m[\u001b[0m\u001b[0;34m'C_CONTIGUOUS'\u001b[0m\u001b[0;34m]\u001b[0m \u001b[0;32mand\u001b[0m \u001b[0;32mnot\u001b[0m \u001b[0mcore\u001b[0m\u001b[0;34m.\u001b[0m\u001b[0mflags\u001b[0m\u001b[0;34m[\u001b[0m\u001b[0;34m'F_CONTIGUOUS'\u001b[0m\u001b[0;34m]\u001b[0m\u001b[0;34m:\u001b[0m\u001b[0;34m\u001b[0m\u001b[0;34m\u001b[0m\u001b[0m\n\u001b[0;32m--> 853\u001b[0;31m         \u001b[0;32mraise\u001b[0m \u001b[0mValueError\u001b[0m\u001b[0;34m(\u001b[0m\u001b[0merrmsg_contiguous_buffer\u001b[0m\u001b[0;34m)\u001b[0m\u001b[0;34m\u001b[0m\u001b[0;34m\u001b[0m\u001b[0m\n\u001b[0m\u001b[1;32m    854\u001b[0m \u001b[0;34m\u001b[0m\u001b[0m\n\u001b[1;32m    855\u001b[0m \u001b[0;34m\u001b[0m\u001b[0m\n",
            "\u001b[0;31mValueError\u001b[0m: Array contains non-contiguous buffer and cannot be transferred as a single memory region. Please ensure contiguous buffer with numpy .ascontiguousarray()"
          ]
        }
      ]
    },
    {
      "cell_type": "markdown",
      "metadata": {
        "id": "AR_hD0ndRNo3"
      },
      "source": [
        "Hmm this doesn't work. As the exception says, it is because `points[:,1]` contain values that are not contiguous in memory, and same for `points[:,2]`. So we do as instructed and convert these slices into contiguous arrays:"
      ]
    },
    {
      "cell_type": "code",
      "metadata": {
        "id": "ctVE6lhG9bBP"
      },
      "source": [
        "x = np.ascontiguousarray(points[:,0])\n",
        "y = np.ascontiguousarray(points[:,1])"
      ],
      "execution_count": 19,
      "outputs": []
    },
    {
      "cell_type": "code",
      "metadata": {
        "id": "XXCtUNAg9o74",
        "colab": {
          "base_uri": "https://localhost:8080/"
        },
        "outputId": "a845ae26-9e21-431a-b3b8-1b4a81497d79"
      },
      "source": [
        "theta = gpu_arctan2(y, x)"
      ],
      "execution_count": 20,
      "outputs": [
        {
          "output_type": "stream",
          "name": "stderr",
          "text": [
            "/usr/local/lib/python3.12/dist-packages/numba_cuda/numba/cuda/dispatcher.py:605: NumbaPerformanceWarning: Grid size 1 will likely result in GPU under-utilization due to low occupancy.\n",
            "  warn(NumbaPerformanceWarning(msg))\n"
          ]
        }
      ]
    },
    {
      "cell_type": "code",
      "metadata": {
        "id": "LQeyFTil9vJB",
        "outputId": "a4ce7cb8-3be1-4bba-e663-42545730d0b9",
        "colab": {
          "base_uri": "https://localhost:8080/",
          "height": 430
        }
      },
      "source": [
        "_ = plt.hist(theta, bins=200)"
      ],
      "execution_count": 21,
      "outputs": [
        {
          "output_type": "display_data",
          "data": {
            "text/plain": [
              "<Figure size 640x480 with 1 Axes>"
            ],
            "image/png": "[encoded data removed]"
          },
          "metadata": {}
        }
      ]
    },
    {
      "cell_type": "markdown",
      "metadata": {
        "id": "ziyMhQf9SoQV"
      },
      "source": [
        "And now it works!\n",
        "\n",
        "**As a general rule, one should remember that CUDA operates on data buffers that are contiguous in memory, like a C array, or a numpy array before any slicing.**\n",
        "\n",
        "Now let's be a bit more ambitious, and compute theta for 10 million points:"
      ]
    },
    {
      "cell_type": "code",
      "metadata": {
        "id": "mb6O__sjr1tt"
      },
      "source": [
        "points = np.random.multivariate_normal([0,0], [[1.,0.9], [0.9,1.]], int(1e7)).astype(np.float32)\n",
        "x = np.ascontiguousarray(points[:,0])\n",
        "y = np.ascontiguousarray(points[:,1])"
      ],
      "execution_count": 22,
      "outputs": []
    },
    {
      "cell_type": "code",
      "metadata": {
        "id": "fdvX8t7bA4An",
        "outputId": "971a0a78-094c-46a3-d8df-90683b1d2cfd",
        "colab": {
          "base_uri": "https://localhost:8080/",
          "height": 430
        }
      },
      "source": [
        "_ = plt.hist(gpu_arctan2(y, x), bins=200)"
      ],
      "execution_count": 23,
      "outputs": [
        {
          "output_type": "display_data",
          "data": {
            "text/plain": [
              "<Figure size 640x480 with 1 Axes>"
            ],
            "image/png": "[encoded data removed]"
          },
          "metadata": {}
        }
      ]
    },
    {
      "cell_type": "markdown",
      "metadata": {
        "id": "d_4uMeLBS1Kg"
      },
      "source": [
        "And finally, let's quantify how much time we gain by running on the GPU:"
      ]
    },
    {
      "cell_type": "code",
      "metadata": {
        "id": "dnQ7DGgvsGtf",
        "outputId": "421cb244-4a88-4eae-a665-49c30435a950",
        "colab": {
          "base_uri": "https://localhost:8080/"
        }
      },
      "source": [
        "%timeit gpu_arctan2(y, x) # compiled for the GPU"
      ],
      "execution_count": 24,
      "outputs": [
        {
          "output_type": "stream",
          "name": "stdout",
          "text": [
            "40.7 ms ± 2.1 ms per loop (mean ± std. dev. of 7 runs, 10 loops each)\n"
          ]
        }
      ]
    },
    {
      "cell_type": "code",
      "metadata": {
        "id": "33XHREIXAWNg",
        "outputId": "0880d55a-d62f-4e2e-8e87-02b38ec1c80a",
        "colab": {
          "base_uri": "https://localhost:8080/"
        }
      },
      "source": [
        "%timeit np.arctan2(y, x) # compiled for the CPU"
      ],
      "execution_count": 25,
      "outputs": [
        {
          "output_type": "stream",
          "name": "stdout",
          "text": [
            "323 ms ± 7.67 ms per loop (mean ± std. dev. of 7 runs, 1 loop each)\n"
          ]
        }
      ]
    },
    {
      "cell_type": "code",
      "metadata": {
        "id": "s8fz5tC8HGgY",
        "outputId": "500e2c3c-94f7-47fd-fee0-34557f323f50",
        "colab": {
          "base_uri": "https://localhost:8080/"
        }
      },
      "source": [
        "%timeit [math.atan2(point[1], point[0]) for point in points] # plain python"
      ],
      "execution_count": 26,
      "outputs": [
        {
          "output_type": "stream",
          "name": "stdout",
          "text": [
            "5 s ± 382 ms per loop (mean ± std. dev. of 7 runs, 1 loop each)\n"
          ]
        }
      ]
    },
    {
      "cell_type": "markdown",
      "metadata": {
        "id": "snh32iOSTIQL"
      },
      "source": [
        "Nice! this time we gain almost a factor 10 on the GPU with respect to the numpy version, which is compiled for the CPU. And this comes on top of a factor 20 gain with respect to plain python."
      ]
    },
    {
      "cell_type": "markdown",
      "metadata": {
        "id": "m86np5r3VMnS"
      },
      "source": [
        "**Remember: To use the GPU efficiently, you need to give it enough data to process, and complicated tasks.**"
      ]
    },
    {
      "cell_type": "markdown",
      "metadata": {
        "id": "0RFdj6vnSgRz"
      },
      "source": [
        "## Generalized ufuncs on the GPU\n",
        "\n",
        "In regular ufuncs, the calculation is done on each element of the input array, and returns a scalar.\n",
        "\n",
        "In generalized ufuncs (gufuncs), however, the calculation can deal with a sub-array of the input array, and return an array of different dimensions.\n",
        "\n",
        "Ok, I know that sometimes what I write does not make sense... But at least I realize it! So let's have a look at a few examples, things are going to become much clearer.\n",
        "\n",
        "### Generalized ufuncs : from cartesian to polar coordinates\n",
        "\n",
        "Remember how we computed the polar angle for our 2D points above? It would have been nice to get both rho and theta from this calculation, to get a real conversion from cartesian to polar coordinates. This kind of thing is not possible with regular ufuncs (or maybe I just don't know how to do it). But with gufuncs, it's easy:"
      ]
    },
    {
      "cell_type": "code",
      "metadata": {
        "id": "34HCaUDhAiAq"
      },
      "source": [
        "from numba import guvectorize\n",
        "\n",
        "@guvectorize(['(float32[:], float32[:])'],\n",
        "             '(i)->(i)',\n",
        "             target='cuda')\n",
        "def gpu_polar(vec, out):\n",
        "    x = vec[0]\n",
        "    y = vec[1]\n",
        "    out[0] = math.sqrt(x**2 + y**2)\n",
        "    out[1] = math.atan2(y,x)\n"
      ],
      "execution_count": 27,
      "outputs": []
    },
    {
      "cell_type": "markdown",
      "metadata": {
        "id": "24pYBeIpXmrc"
      },
      "source": [
        "There are two imporant differences between `guvectorize` and `vectorize`.\n",
        "\n",
        "For `guvectorize`:\n",
        "\n",
        "* **one needs to provide the signature of the array operation**. The signature of the array operation should not to confused with the signature of the compiled function that is provided as a first argument. In the example above, `(i)->(i)` means that a 1D array is taken in input, and that a 1D array with the same size is provided in the output. The 1D array corresponds to the last dimension or innermost dimension of the input array. For example, our points array is of shape `(10000000,2)` so the last dimension is of size 2.\n",
        "* **the result is taken in input and modified in place**. In the code above, the resulting polar coordinates R and theta are stored in the `out` array while `vec`, the input array, contains the cartesian coordinates `x` and `y`."
      ]
    },
    {
      "cell_type": "markdown",
      "metadata": {
        "id": "7B9nynrzarZW"
      },
      "source": [
        "Let's do the conversion between cartesian and polar coordinates:\n",
        "\n",
        "\n"
      ]
    },
    {
      "cell_type": "code",
      "metadata": {
        "id": "rmKqnMVBUynE"
      },
      "source": [
        "polar_coords = gpu_polar(points)"
      ],
      "execution_count": 28,
      "outputs": []
    },
    {
      "cell_type": "code",
      "metadata": {
        "id": "y0GtKNeNWhnp",
        "outputId": "ce486a08-728b-42a5-9b93-b3fee0158c44",
        "colab": {
          "base_uri": "https://localhost:8080/",
          "height": 449
        }
      },
      "source": [
        "_ = plt.hist(polar_coords[:,0], bins=200)\n",
        "_ = plt.xlabel('R')"
      ],
      "execution_count": 29,
      "outputs": [
        {
          "output_type": "display_data",
          "data": {
            "text/plain": [
              "<Figure size 640x480 with 1 Axes>"
            ],
            "image/png": "[encoded data removed]"
          },
          "metadata": {}
        }
      ]
    },
    {
      "cell_type": "code",
      "metadata": {
        "id": "N_lnYsK-XBsx",
        "outputId": "b72d615c-d06b-4ba4-839b-332dbfce6d4c",
        "colab": {
          "base_uri": "https://localhost:8080/",
          "height": 449
        }
      },
      "source": [
        "_ = plt.hist(polar_coords[:,1], bins=200)\n",
        "_ = plt.xlabel('theta')"
      ],
      "execution_count": 30,
      "outputs": [
        {
          "output_type": "display_data",
          "data": {
            "text/plain": [
              "<Figure size 640x480 with 1 Axes>"
            ],
            "image/png": "[encoded data removed]"
          },
          "metadata": {}
        }
      ]
    },
    {
      "cell_type": "markdown",
      "metadata": {
        "id": "kXSIQjDbccSV"
      },
      "source": [
        "### Generalized ufunc: Average\n",
        "\n",
        "To understand better how gufuncs work, let's make one that computes the average of the values on each line of a 2D array:"
      ]
    },
    {
      "cell_type": "code",
      "metadata": {
        "id": "_ZRhx6PrU2Es"
      },
      "source": [
        "@guvectorize(['(float32[:], float32[:])'],\n",
        "             '(n)->()',\n",
        "             target='cuda')\n",
        "def gpu_average(array, out):\n",
        "    acc = 0\n",
        "    for val in array:\n",
        "        acc += val\n",
        "    out[0] = acc/len(array)"
      ],
      "execution_count": 31,
      "outputs": []
    },
    {
      "cell_type": "markdown",
      "metadata": {
        "id": "FCd7mfkifgbK"
      },
      "source": [
        "To test our gufunc, we create a 2D array:"
      ]
    },
    {
      "cell_type": "code",
      "metadata": {
        "id": "Ee1MM1B2fbHV",
        "outputId": "b05bb000-79f8-44e5-833d-8f48033c9591",
        "colab": {
          "base_uri": "https://localhost:8080/"
        }
      },
      "source": [
        "a = np.arange(100).reshape(20, 5).astype(np.float32)\n",
        "a"
      ],
      "execution_count": 32,
      "outputs": [
        {
          "output_type": "execute_result",
          "data": {
            "text/plain": [
              "array([[ 0.,  1.,  2.,  3.,  4.],\n",
              "       [ 5.,  6.,  7.,  8.,  9.],\n",
              "       [10., 11., 12., 13., 14.],\n",
              "       [15., 16., 17., 18., 19.],\n",
              "       [20., 21., 22., 23., 24.],\n",
              "       [25., 26., 27., 28., 29.],\n",
              "       [30., 31., 32., 33., 34.],\n",
              "       [35., 36., 37., 38., 39.],\n",
              "       [40., 41., 42., 43., 44.],\n",
              "       [45., 46., 47., 48., 49.],\n",
              "       [50., 51., 52., 53., 54.],\n",
              "       [55., 56., 57., 58., 59.],\n",
              "       [60., 61., 62., 63., 64.],\n",
              "       [65., 66., 67., 68., 69.],\n",
              "       [70., 71., 72., 73., 74.],\n",
              "       [75., 76., 77., 78., 79.],\n",
              "       [80., 81., 82., 83., 84.],\n",
              "       [85., 86., 87., 88., 89.],\n",
              "       [90., 91., 92., 93., 94.],\n",
              "       [95., 96., 97., 98., 99.]], dtype=float32)"
            ]
          },
          "metadata": {},
          "execution_count": 32
        }
      ]
    },
    {
      "cell_type": "code",
      "metadata": {
        "id": "p8TTRs5Pfpy0",
        "outputId": "6500479c-65b3-48b8-9629-5e53fb61f922",
        "colab": {
          "base_uri": "https://localhost:8080/"
        }
      },
      "source": [
        "gpu_average(a)"
      ],
      "execution_count": 33,
      "outputs": [
        {
          "output_type": "stream",
          "name": "stderr",
          "text": [
            "/usr/local/lib/python3.12/dist-packages/numba_cuda/numba/cuda/dispatcher.py:605: NumbaPerformanceWarning: Grid size 1 will likely result in GPU under-utilization due to low occupancy.\n",
            "  warn(NumbaPerformanceWarning(msg))\n"
          ]
        },
        {
          "output_type": "execute_result",
          "data": {
            "text/plain": [
              "array([ 2.,  7., 12., 17., 22., 27., 32., 37., 42., 47., 52., 57., 62.,\n",
              "       67., 72., 77., 82., 87., 92., 97.], dtype=float32)"
            ]
          },
          "metadata": {},
          "execution_count": 33
        }
      ]
    },
    {
      "cell_type": "markdown",
      "metadata": {
        "id": "E0_4_Io3QnNp"
      },
      "source": [
        "## Device functions\n",
        "\n",
        "So far, we have run a single function, either a ufunc or a gufunc, on the GPU, but we are not forced to put all of our code in a single function.\n",
        "\n",
        "Indeed, it is also  possible to compile helper functions for the GPU. These functions, called **device functions**, can then be used on the GPU to make the code cleaner and more modular.\n",
        "\n",
        "As an example, let's take again the gufunc defined just above, that computes the average of the values of each line of a 2D array.\n",
        "\n",
        "We define a device function to add the using the `numba.cuda.jit` decorator, to sum up the elements of a 1D array. Then, we modify the gpu_average gufunc to make use of the `add` device function. And finally, we create another gufunc to sum up the elements of on each line of a 2D array:"
      ]
    },
    {
      "cell_type": "code",
      "metadata": {
        "id": "i9XdnHRBfunN"
      },
      "source": [
        "from numba import cuda\n",
        "\n",
        "@cuda.jit(device=True)\n",
        "def add(array):\n",
        "  acc = 0\n",
        "  for val in array:\n",
        "    acc += val\n",
        "  return acc\n",
        "\n",
        "@guvectorize(['(float32[:], float32[:])'],\n",
        "             '(n)->()',\n",
        "             target='cuda')\n",
        "def gpu_average_2(array, out):\n",
        "    out[0] = add(array)/len(array)\n",
        "\n",
        "@guvectorize(['(float32[:], float32[:])'],\n",
        "             '(n)->()',\n",
        "             target='cuda')\n",
        "def gpu_sum(array, out):\n",
        "    out[0] = add(array)\n",
        "\n",
        ""
      ],
      "execution_count": 34,
      "outputs": []
    },
    {
      "cell_type": "code",
      "metadata": {
        "id": "cNzS_PeoSVBZ",
        "colab": {
          "base_uri": "https://localhost:8080/"
        },
        "outputId": "5700197b-1549-499e-d7d7-be1290988b78"
      },
      "source": [
        "gpu_average_2(a)"
      ],
      "execution_count": 35,
      "outputs": [
        {
          "output_type": "stream",
          "name": "stderr",
          "text": [
            "/usr/local/lib/python3.12/dist-packages/numba_cuda/numba/cuda/dispatcher.py:605: NumbaPerformanceWarning: Grid size 1 will likely result in GPU under-utilization due to low occupancy.\n",
            "  warn(NumbaPerformanceWarning(msg))\n"
          ]
        },
        {
          "output_type": "execute_result",
          "data": {
            "text/plain": [
              "array([ 2.,  7., 12., 17., 22., 27., 32., 37., 42., 47., 52., 57., 62.,\n",
              "       67., 72., 77., 82., 87., 92., 97.], dtype=float32)"
            ]
          },
          "metadata": {},
          "execution_count": 35
        }
      ]
    },
    {
      "cell_type": "code",
      "metadata": {
        "id": "eTrkfYBPSjXT",
        "colab": {
          "base_uri": "https://localhost:8080/"
        },
        "outputId": "6d03b22b-9995-42dc-8369-6b56a79fe9dc"
      },
      "source": [
        "gpu_sum(a)"
      ],
      "execution_count": 36,
      "outputs": [
        {
          "output_type": "execute_result",
          "data": {
            "text/plain": [
              "array([ 10.,  35.,  60.,  85., 110., 135., 160., 185., 210., 235., 260.,\n",
              "       285., 310., 335., 360., 385., 410., 435., 460., 485.],\n",
              "      dtype=float32)"
            ]
          },
          "metadata": {},
          "execution_count": 36
        }
      ]
    },
    {
      "cell_type": "markdown",
      "metadata": {
        "id": "NuGYnrVkTbx4"
      },
      "source": [
        "The device function allows us to avoid code duplication.\n",
        "\n",
        "Obviously, it is a bit artifial to use a device function in such an easy case. But when implementing complex algorithms, these functions can prove very useful. Indeed, just like on the CPU, the general principles of programming apply: functions should be simple and to the point, and code duplication should be avoided."
      ]
    },
    {
      "cell_type": "markdown",
      "metadata": {
        "id": "5U0yngpWU1Sg"
      },
      "source": [
        "## Memory management with device arrays\n",
        "\n",
        "As we have seen in the first ufunc example given in this article (parallel square root calculation), the GPU does not always provide a gain in performance.\n",
        "\n",
        "Indeed, before using the raw computing power of the GPU, we need to ship the data to the device. And afterwards, we need to get the results back.\n",
        "\n",
        "A good way to improve performance is to minimize data transfers between the host system and the GPU,  and this can be done with device arrays.\n",
        "\n",
        "To illustrate this, we will use an example provided by nvidia in its DLI course. Let's assume we want to implement a neural network for image processing from scratch. A hidden layer in the network might have to do the following:\n",
        "\n",
        "* normalize greyscale values in the image\n",
        "* weigh them\n",
        "* apply an activation function\n",
        "\n",
        "Each of these three tasks can be done in parallel on the GPU.\n",
        "\n",
        "But first, let's see how to do that on the CPU with plain numpy.\n",
        "For simplicity, we will generate the greyscale values and the weights randomly."
      ]
    },
    {
      "cell_type": "code",
      "metadata": {
        "id": "iFl7DB9wTZu5"
      },
      "source": [
        "n = 1000000\n",
        "\n",
        "# random values between 0. and 255.\n",
        "greyscales = np.floor(np.random.uniform(0, 256, n).astype(np.float32))\n",
        "# random weights following a Gaussian distribution\n",
        "# centred on 0.5 and with width 0.1\n",
        "weights = np.random.normal(.5, .1, n).astype(np.float32)\n",
        "\n",
        "def normalize(grayscales):\n",
        "    return grayscales / 255\n",
        "\n",
        "def weigh(values, weights):\n",
        "    return values * weights\n",
        "\n",
        "def activate(values):\n",
        "    return ( np.exp(values) - np.exp(-values) ) / \\\n",
        "            ( np.exp(values) + np.exp(-values) )\n",
        "\n"
      ],
      "execution_count": 37,
      "outputs": []
    },
    {
      "cell_type": "code",
      "metadata": {
        "id": "EirTdzaSY7BH",
        "colab": {
          "base_uri": "https://localhost:8080/"
        },
        "outputId": "6222a0c8-07b3-4198-eb8d-7266a637a068"
      },
      "source": [
        "%%timeit\n",
        "normalized = normalize(greyscales)\n",
        "weighted = weigh(normalized, weights)\n",
        "activated = activate(weighted)"
      ],
      "execution_count": 38,
      "outputs": [
        {
          "output_type": "stream",
          "name": "stdout",
          "text": [
            "8.74 ms ± 157 µs per loop (mean ± std. dev. of 7 runs, 100 loops each)\n"
          ]
        }
      ]
    },
    {
      "cell_type": "markdown",
      "metadata": {
        "id": "K6b4CSoHZ_dO"
      },
      "source": [
        "Now, we implement a parallel version of this algorithm for the GPU, as we have seen above."
      ]
    },
    {
      "cell_type": "code",
      "metadata": {
        "id": "5d6Y2mgBZqyl"
      },
      "source": [
        "@vectorize(['float32(float32)'],target='cuda')\n",
        "def gpu_normalize(x):\n",
        "  return x / 255\n",
        "\n",
        "@vectorize(['float32(float32, float32)'],target='cuda')\n",
        "def gpu_weigh(x, w):\n",
        "  return x * w\n",
        "\n",
        "@vectorize(['float32(float32)'],target='cuda')\n",
        "def gpu_activate(x):\n",
        "  return ( math.exp(x) - math.exp(-x) ) / ( math.exp(x) + math.exp(-x) )\n",
        "\n"
      ],
      "execution_count": 39,
      "outputs": []
    },
    {
      "cell_type": "markdown",
      "metadata": {
        "id": "bq0Hui5Nar4M"
      },
      "source": [
        "Please note that the code in these ufuncs operates on scalar values, so we replaced the numpy ufuncs like np.exp by their math equivalent (the division by 255 and the multiplication between the values and the weights were also numpy ufuncs, though hidden a bit).\n",
        "\n",
        "And we check the performance:"
      ]
    },
    {
      "cell_type": "code",
      "metadata": {
        "id": "y1ge-bW_ajh5",
        "colab": {
          "base_uri": "https://localhost:8080/"
        },
        "outputId": "39b69453-9bc1-46a6-aaa1-79dd4fdc17f2"
      },
      "source": [
        "%%timeit\n",
        "normalized = gpu_normalize(greyscales)\n",
        "weighted = gpu_weigh(normalized, weights)\n",
        "activated = gpu_activate(weighted)"
      ],
      "execution_count": 40,
      "outputs": [
        {
          "output_type": "stream",
          "name": "stdout",
          "text": [
            "10.7 ms ± 517 µs per loop (mean ± std. dev. of 7 runs, 100 loops each)\n"
          ]
        }
      ]
    },
    {
      "cell_type": "markdown",
      "metadata": {
        "id": "RoOELkQgbUnq"
      },
      "source": [
        "That's already quite nice, we gained more than a factor of two!\n",
        "\n",
        "But we realize that we spend time transferring data back and forth between the host and the GPU for nothing:\n",
        "\n",
        "1. transfer `greyscales` to the GPU\n",
        "1. transfer `normalized` to the host, and then back to the GPU, together with `weights`\n",
        "1. transfer `weighted` to the host, and then back to the GPU\n",
        "1. transfer `activated` to the host\n",
        "\n",
        "Actually, we only need to:\n",
        "\n",
        "1. transfer `greyscales` and `weights` to the GPU\n",
        "1. retrieve `activated`\n",
        "\n",
        "So let's do that:"
      ]
    },
    {
      "cell_type": "code",
      "metadata": {
        "id": "GCZHkmXhbKb8",
        "colab": {
          "base_uri": "https://localhost:8080/"
        },
        "outputId": "01a29b3d-e246-4fad-b9cd-fba7acaf7939"
      },
      "source": [
        "%%timeit\n",
        "\n",
        "# create intermediate arrays on the GPU\n",
        "normalized_gpu = cuda.device_array(shape=(n,),\n",
        "                               dtype=np.float32)\n",
        "weighted_gpu = cuda.device_array(shape=(n,),\n",
        "                             dtype=np.float32)\n",
        "\n",
        "# note that output device arrays are provided as arguments\n",
        "gpu_normalize(greyscales, out=normalized_gpu)\n",
        "gpu_weigh(normalized_gpu, weights, out=weighted_gpu)\n",
        "activated = gpu_activate(weighted_gpu)"
      ],
      "execution_count": 41,
      "outputs": [
        {
          "output_type": "stream",
          "name": "stdout",
          "text": [
            "4.53 ms ± 80.6 µs per loop (mean ± std. dev. of 7 runs, 100 loops each)\n"
          ]
        }
      ]
    },
    {
      "cell_type": "markdown",
      "metadata": {
        "id": "ZdPH1RdJeV41"
      },
      "source": [
        "We gain a factor of two by eliminating unnecessary data transfers!\n",
        "\n",
        "Another important thing to know is that we can also take full control on the transfers to and from the GPU like this:"
      ]
    },
    {
      "cell_type": "code",
      "metadata": {
        "id": "U1n43lAIdWGl"
      },
      "source": [
        "# transfer inputs to the gpu\n",
        "greyscales_gpu = cuda.to_device(greyscales)\n",
        "weights_gpu = cuda.to_device(weights)\n",
        "\n",
        "# create intermediate arrays and output array on the GPU\n",
        "normalized_gpu = cuda.device_array(shape=(n,),\n",
        "                               dtype=np.float32)\n",
        "weighted_gpu = cuda.device_array(shape=(n,),\n",
        "                             dtype=np.float32)\n",
        "activated_gpu = cuda.device_array(shape=(n,),\n",
        "                             dtype=np.float32)\n"
      ],
      "execution_count": 42,
      "outputs": []
    },
    {
      "cell_type": "markdown",
      "metadata": {
        "id": "FCTA-6f8fNu_"
      },
      "source": [
        "Now that everything we need is on the GPU, we do the calculation:"
      ]
    },
    {
      "cell_type": "code",
      "metadata": {
        "id": "4D3tldT0fLh_",
        "colab": {
          "base_uri": "https://localhost:8080/"
        },
        "outputId": "0be69fde-5998-4e10-ac71-fd7a30902743"
      },
      "source": [
        "%%timeit\n",
        "gpu_normalize(greyscales_gpu, out=normalized_gpu)\n",
        "gpu_weigh(normalized_gpu, weights_gpu, out=weighted_gpu)\n",
        "gpu_activate(weighted_gpu, out=activated_gpu)"
      ],
      "execution_count": 43,
      "outputs": [
        {
          "output_type": "stream",
          "name": "stdout",
          "text": [
            "489 µs ± 8.8 µs per loop (mean ± std. dev. of 7 runs, 1000 loops each)\n"
          ]
        }
      ]
    },
    {
      "cell_type": "markdown",
      "metadata": {
        "id": "kywGvXpIfcGe"
      },
      "source": [
        "You might be thinking that this factor 5 gain is artificial, because we did not include the necessary transfer times for the input and output data. That's right! Still, this illustrates how you can take full control of your data transfers, which might prove useful on more complex processing workflows.\n",
        "\n",
        "For instance, if we wanted to re-use any of the device arrays defined above, we could do it now, as they are still residing on the GPU as I'm writing this!\n",
        "\n",
        "Finally, here is how to retrieve the results:"
      ]
    },
    {
      "cell_type": "code",
      "metadata": {
        "id": "Jzs4oDbQfY8p",
        "colab": {
          "base_uri": "https://localhost:8080/"
        },
        "outputId": "8ff97017-f860-455e-afe5-609218c25f5e"
      },
      "source": [
        "activated = activated_gpu.copy_to_host()\n",
        "activated"
      ],
      "execution_count": 44,
      "outputs": [
        {
          "output_type": "execute_result",
          "data": {
            "text/plain": [
              "array([0.13024612, 0.20219502, 0.5028621 , ..., 0.18503962, 0.24662548,\n",
              "       0.1528847 ], dtype=float32)"
            ]
          },
          "metadata": {},
          "execution_count": 44
        }
      ]
    }
  ]
}