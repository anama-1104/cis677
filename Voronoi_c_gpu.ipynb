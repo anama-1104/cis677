{
  "nbformat": 4,
  "nbformat_minor": 0,
  "metadata": {
    "colab": {
      "provenance": [],
      "gpuType": "T4",
      "authorship_tag": "ABX9TyNtJ6h2Av7cGJlV+TmpnpKJ",
      "include_colab_link": true
    },
    "kernelspec": {
      "name": "python3",
      "display_name": "Python 3"
    },
    "language_info": {
      "name": "python"
    },
    "accelerator": "GPU"
  },
  "cells": [
    {
      "cell_type": "markdown",
      "metadata": {
        "id": "view-in-github",
        "colab_type": "text"
      },
      "source": [
        "<a href=\"https://colab.research.google.com/github/trefftzc/cis677/blob/main/Voronoi_c_gpu.ipynb\" target=\"_parent\"><img src=\"https://colab.research.google.com/assets/colab-badge.svg\" alt=\"Open In Colab\"/></a>"
      ]
    },
    {
      "cell_type": "markdown",
      "source": [
        "Now a version that runs on the GPU.\n",
        "It is also compiled with openmp."
      ],
      "metadata": {
        "id": "Fc4DG__pxT4H"
      }
    },
    {
      "cell_type": "code",
      "execution_count": 3,
      "metadata": {
        "colab": {
          "base_uri": "https://localhost:8080/"
        },
        "id": "RohKc-94xN2D",
        "outputId": "c4e625fd-0509-4eab-82c4-78038a5c180a"
      },
      "outputs": [
        {
          "output_type": "stream",
          "name": "stdout",
          "text": [
            "Writing voronoi_openmp_gpu.c\n"
          ]
        }
      ],
      "source": [
        "%%writefile voronoi_openmp_gpu.c\n",
        "//\n",
        "// compile with \"gcc voronoi_openmp_gpu.c -o voronoi_openmp_gpu -lm -fopenmp\"\n",
        "// run with ./voronoi_openmp\"\n",
        "\n",
        "#include <math.h>\n",
        "#include <omp.h>\n",
        "#include <stdio.h>\n",
        "#include <stdlib.h>\n",
        "#include <string.h>\n",
        "\n",
        "#define SEED_ROW_SIZE 4\n",
        "#define SEED_COL_SIZE 2\n",
        "\n",
        "void calculate_voronoi(int, double *, double *);\n",
        "int gen_voronoi_graph(int, double *);\n",
        "\n",
        "int main(int argc, char *argv[]) {\n",
        "  int size = 4096;\n",
        "  double(*area)[size] = calloc(size, sizeof *area);\n",
        "\n",
        "  double seed_vals[SEED_ROW_SIZE][SEED_COL_SIZE] = {\n",
        "      {0, 0}, {0, size - 1}, {size - 1, size - 1}, {size - 1, 0}};\n",
        "\n",
        "  double *seeds = (double *)malloc(sizeof(seed_vals));\n",
        "  memcpy(seeds, seed_vals, sizeof(seed_vals));\n",
        "\n",
        "  double start = omp_get_wtime();\n",
        "  calculate_voronoi(size, (double *)seeds, (double *)area);\n",
        "  double end = omp_get_wtime();\n",
        "\n",
        "  printf(\"PARALLEL VORONOI GPU IMPLEMENTATION\\n\");\n",
        "  printf(\"-------------------------------\\n\");\n",
        "  printf(\"Array size: %d\\n\", size);\n",
        "  printf(\"Time taken: %f s\\n\", end - start);\n",
        "\n",
        "  free(seeds);\n",
        "  free(area);\n",
        "\n",
        "\n",
        "}\n",
        "\n",
        "void calculate_voronoi(int size, double *pSeeds, double *pArea) {\n",
        "  double closest_seed, closest_distance, dist;\n",
        "\n",
        "  #pragma omp target\n",
        "  #pragma omp loop\n",
        "  for (int i = 0; i < size; i++) {\n",
        "    for (int j = 0; j < size; j++) {\n",
        "      closest_seed = -1;\n",
        "      closest_distance = pow(size, 2);\n",
        "\n",
        "      for (int k = 0; k < SEED_ROW_SIZE; k++) {\n",
        "        dist = sqrt(pow(pSeeds[k * SEED_COL_SIZE + 0] - i, 2) +\n",
        "                    pow(pSeeds[k * SEED_COL_SIZE + 1] - j, 2));\n",
        "\n",
        "        if (dist < closest_distance) {\n",
        "          closest_distance = dist;\n",
        "          closest_seed = k;\n",
        "        }\n",
        "      }\n",
        "      pArea[i * size + j] = closest_seed;\n",
        "    }\n",
        "  }\n",
        "}\n"
      ]
    },
    {
      "cell_type": "markdown",
      "source": [
        "Now compile the code:"
      ],
      "metadata": {
        "id": "JLphv0FxyPeN"
      }
    },
    {
      "cell_type": "code",
      "source": [
        "!gcc voronoi_openmp_gpu.c -o voronoi_openmp_gpu -lm -fopenmp -O3"
      ],
      "metadata": {
        "id": "lnyN07lMyRKm"
      },
      "execution_count": 4,
      "outputs": []
    },
    {
      "cell_type": "markdown",
      "source": [
        "And now time and execute:"
      ],
      "metadata": {
        "id": "tN37v15PyguP"
      }
    },
    {
      "cell_type": "code",
      "source": [
        "!time ./voronoi_openmp_gpu"
      ],
      "metadata": {
        "colab": {
          "base_uri": "https://localhost:8080/"
        },
        "id": "iexG04P-yirp",
        "outputId": "9c8f740f-699c-4498-d62d-75728927f935"
      },
      "execution_count": 5,
      "outputs": [
        {
          "output_type": "stream",
          "name": "stdout",
          "text": [
            "PARALLEL VORONOI GPU IMPLEMENTATION\n",
            "-------------------------------\n",
            "Array size: 4096\n",
            "Time taken: 0.195627 s\n",
            "\n",
            "real\t0m0.205s\n",
            "user\t0m0.130s\n",
            "sys\t0m0.075s\n"
          ]
        }
      ]
    }
  ]
}