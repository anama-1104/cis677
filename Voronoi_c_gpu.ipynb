{
  "nbformat": 4,
  "nbformat_minor": 0,
  "metadata": {
    "colab": {
      "provenance": [],
      "gpuType": "T4",
      "authorship_tag": "ABX9TyMQncyXTsMvEMc8amFrw3Th",
      "include_colab_link": true
    },
    "kernelspec": {
      "name": "python3",
      "display_name": "Python 3"
    },
    "language_info": {
      "name": "python"
    },
    "accelerator": "GPU"
  },
  "cells": [
    {
      "cell_type": "markdown",
      "metadata": {
        "id": "view-in-github",
        "colab_type": "text"
      },
      "source": [
        "<a href=\"https://colab.research.google.com/github/trefftzc/cis677/blob/main/Voronoi_c_gpu.ipynb\" target=\"_parent\"><img src=\"https://colab.research.google.com/assets/colab-badge.svg\" alt=\"Open In Colab\"/></a>"
      ]
    },
    {
      "cell_type": "markdown",
      "source": [
        "Now a version that runs on the GPU.\n",
        "It is also compiled with openmp."
      ],
      "metadata": {
        "id": "Fc4DG__pxT4H"
      }
    },
    {
      "cell_type": "code",
      "execution_count": 14,
      "metadata": {
        "colab": {
          "base_uri": "https://localhost:8080/"
        },
        "id": "RohKc-94xN2D",
        "outputId": "fb6a5b4d-21b9-4d67-d289-6800960a70df"
      },
      "outputs": [
        {
          "output_type": "stream",
          "name": "stdout",
          "text": [
            "Overwriting voronoi_openmp_gpu.c\n"
          ]
        }
      ],
      "source": [
        "%%writefile voronoi_openmp_gpu.c\n",
        "//\n",
        "// compile with \"gcc voronoi_openmp_gpu.c -o voronoi_openmp_gpu -lm -fopenmp\"\n",
        "// run with ./voronoi_openmp\"\n",
        "\n",
        "#include <math.h>\n",
        "#include <omp.h>\n",
        "#include <stdio.h>\n",
        "#include <stdlib.h>\n",
        "#include <string.h>\n",
        "\n",
        "#define SEED_ROW_SIZE 4\n",
        "#define SEED_COL_SIZE 2\n",
        "\n",
        "void calculate_voronoi(int, double *, double *);\n",
        "int gen_voronoi_graph(int, double *);\n",
        "\n",
        "int main(int argc, char *argv[]) {\n",
        "  int size = 4096;\n",
        "  double(*area)[size] = calloc(size, sizeof *area);\n",
        "\n",
        "  double seed_vals[SEED_ROW_SIZE][SEED_COL_SIZE] = {\n",
        "      {0, 0}, {0, size - 1}, {size - 1, size - 1}, {size - 1, 0}};\n",
        "\n",
        "  double *seeds = (double *)malloc(sizeof(seed_vals));\n",
        "  memcpy(seeds, seed_vals, sizeof(seed_vals));\n",
        "\n",
        "  double start = omp_get_wtime();\n",
        "  calculate_voronoi(size, (double *)seeds, (double *)area);\n",
        "  double end = omp_get_wtime();\n",
        "\n",
        "  printf(\"PARALLEL VORONOI GPU IMPLEMENTATION\\n\");\n",
        "  printf(\"-------------------------------\\n\");\n",
        "  printf(\"Array size: %d\\n\", size);\n",
        "  printf(\"Time taken: %f s\\n\", end - start);\n",
        "\n",
        "  free(seeds);\n",
        "  free(area);\n",
        "\n",
        "\n",
        "}\n",
        "\n",
        "void calculate_voronoi(int size, double *pSeeds, double *pArea) {\n",
        "  double closest_seed, closest_distance, dist;\n",
        "  int num_blocks = omp_get_max_threads();\n",
        "  #pragma omp target  teams \\\n",
        "num_teams(num_blocks) map(to:pSeeds,size) map(from:pArea)\n",
        "  #pragma omp parallel for simd firstprivate(closest_seed,closest_distance,dist)\n",
        "  for (int i = 0; i < size; i++) {\n",
        "\n",
        "    for (int j = 0; j < size; j++) {\n",
        "      closest_seed = -1;\n",
        "      closest_distance = pow(size, 2);\n",
        "\n",
        "      for (int k = 0; k < SEED_ROW_SIZE; k++) {\n",
        "        dist = sqrt(pow(pSeeds[k * SEED_COL_SIZE + 0] - i, 2) +\n",
        "                    pow(pSeeds[k * SEED_COL_SIZE + 1] - j, 2));\n",
        "\n",
        "        if (dist < closest_distance) {\n",
        "          closest_distance = dist;\n",
        "          closest_seed = k;\n",
        "        }\n",
        "      }\n",
        "      pArea[i * size + j] = closest_seed;\n",
        "    }\n",
        "  }\n",
        "}\n"
      ]
    },
    {
      "cell_type": "markdown",
      "source": [
        "Now compile the code:"
      ],
      "metadata": {
        "id": "JLphv0FxyPeN"
      }
    },
    {
      "cell_type": "code",
      "source": [
        "!gcc voronoi_openmp_gpu.c -o voronoi_openmp_gpu -lm -fopenmp -O3"
      ],
      "metadata": {
        "id": "lnyN07lMyRKm"
      },
      "execution_count": 15,
      "outputs": []
    },
    {
      "cell_type": "markdown",
      "source": [
        "And now time and execute:"
      ],
      "metadata": {
        "id": "tN37v15PyguP"
      }
    },
    {
      "cell_type": "code",
      "source": [
        "!time ./voronoi_openmp_gpu"
      ],
      "metadata": {
        "colab": {
          "base_uri": "https://localhost:8080/"
        },
        "id": "iexG04P-yirp",
        "outputId": "a01c8b5a-9b8c-4115-b69b-e69f2831ee7a"
      },
      "execution_count": 16,
      "outputs": [
        {
          "output_type": "stream",
          "name": "stdout",
          "text": [
            "PARALLEL VORONOI GPU IMPLEMENTATION\n",
            "-------------------------------\n",
            "Array size: 4096\n",
            "Time taken: 0.175693 s\n",
            "\n",
            "real\t0m0.186s\n",
            "user\t0m0.271s\n",
            "sys\t0m0.081s\n"
          ]
        }
      ]
    }
  ]
}