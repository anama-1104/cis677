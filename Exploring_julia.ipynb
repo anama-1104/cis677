{
  "nbformat": 4,
  "nbformat_minor": 0,
  "metadata": {
    "accelerator": "GPU",
    "colab": {
      "provenance": [],
      "gpuType": "T4",
      "include_colab_link": true
    },
    "kernelspec": {
      "display_name": "Julia 1.11.1",
      "name": "julia-1.11"
    }
  },
  "cells": [
    {
      "cell_type": "markdown",
      "metadata": {
        "id": "view-in-github",
        "colab_type": "text"
      },
      "source": [
        "<a href=\"https://colab.research.google.com/github/trefftzc/cis677/blob/main/Exploring_julia.ipynb\" target=\"_parent\"><img src=\"https://colab.research.google.com/assets/colab-badge.svg\" alt=\"Open In Colab\"/></a>"
      ]
    },
    {
      "cell_type": "code",
      "metadata": {
        "id": "PMGwZ7aFJL8Y"
      },
      "source": [
        "# Installation cell\n",
        "%%capture\n",
        "%%shell\n",
        "if ! command -v julia 3>&1 > /dev/null\n",
        "then\n",
        "    wget -q 'https://julialang-s3.julialang.org/bin/linux/x64/1.11/julia-1.11.1-linux-x86_64.tar.gz' \\\n",
        "        -O /tmp/julia.tar.gz\n",
        "    tar -x -f /tmp/julia.tar.gz -C /usr/local --strip-components 1\n",
        "    rm /tmp/julia.tar.gz\n",
        "fi\n",
        "julia -e 'using Pkg; pkg\"add IJulia; precompile;\"'\n",
        "echo 'Done'\n",
        "export JULIA_NUM_THREADS=2"
      ],
      "execution_count": 2,
      "outputs": []
    },
    {
      "cell_type": "markdown",
      "metadata": {
        "id": "XdMpcQduyaQc"
      },
      "source": [
        "After you run the first cell (the the cell directly above this text), go to Colab's menu bar and select **Edit** and select **Notebook settings** from the drop down. Select *Julia 1.11.1* in Runtime type. You can also select your prefered harwdware acceleration (defaults to GPU).\n",
        "\n",
        "<br/>You should see something like this:\n",
        "\n",
        "> ![Colab Img](https://raw.githubusercontent.com/Dsantra92/Julia-on-Colab/master/misc/julia_menu.png)\n",
        "\n",
        "<br/>Click on SAVE\n",
        "<br/>**We are ready to get going**\n",
        "\n",
        "\n",
        "\n"
      ]
    },
    {
      "cell_type": "code",
      "metadata": {
        "id": "iIxu4TjlJnBG",
        "colab": {
          "base_uri": "https://localhost:8080/"
        },
        "outputId": "25f25104-4f9e-4f3a-c7e3-ec0cf83f2c90"
      },
      "source": [
        "VERSION"
      ],
      "execution_count": 1,
      "outputs": [
        {
          "output_type": "execute_result",
          "data": {
            "text/plain": [
              "v\"1.11.1\""
            ]
          },
          "metadata": {},
          "execution_count": 1
        }
      ]
    },
    {
      "cell_type": "markdown",
      "source": [
        "The following piece of code was written by Dr. William Godoy from ORNL.\n",
        "The complete code is available in his github repository: https://github.com/williamfgc/simple-gemm\n",
        "\n",
        "This initial version is a sequential version of matrix multiplication\n"
      ],
      "metadata": {
        "id": "9AD49P5OvGgk"
      }
    },
    {
      "cell_type": "code",
      "source": [
        "import Random\n",
        "\n",
        "@doc \"\"\"\n",
        "Simplified gemm: C = alpha A x B + C where alpha = 1 , C = zeros,\n",
        "so:\n",
        "C = A x B\n",
        "\"\"\"\n",
        "function gemm!(A::Array{Float32,2}, B::Array{Float32,2}, C::Array{Float32,2})\n",
        "\n",
        "    A_rows = size(A)[1]\n",
        "    A_cols = size(A)[2]\n",
        "    B_cols = size(B)[2]\n",
        "\n",
        "     for j = 1:B_cols\n",
        "        for l = 1:A_cols\n",
        "            @inbounds temp::Float32 = B[l, j]::Float32\n",
        "            for i = 1:A_rows\n",
        "                @inbounds C[i, j] += temp * A[i, l]\n",
        "            end\n",
        "        end\n",
        "    end\n",
        "end\n",
        "\n",
        "function main(args::Array{String,1})::Int32\n",
        "\n",
        "    # must initialize scalars\n",
        "    A_rows::Int64 = -1\n",
        "    A_cols::Int64 = -1\n",
        "    B_rows::Int64 = -1\n",
        "    B_cols::Int64 = -1\n",
        "\n",
        "    steps::Int32 = 1\n",
        "\n",
        "    @show args\n",
        "\n",
        "    # args don't include Julia executable and program\n",
        "    nargs = size(args)[1]\n",
        "\n",
        "    if nargs == 4 || nargs == 3\n",
        "        A_rows = parse(Int64, args[1])\n",
        "        A_cols = parse(Int64, args[2])\n",
        "        B_rows = parse(Int64, args[2])\n",
        "        B_cols = parse(Int64, args[3])\n",
        "\n",
        "        if nargs == 4\n",
        "            steps = parse(Int32, args[4])\n",
        "        end\n",
        "    else\n",
        "        throw(\n",
        "            ArgumentError( \"Usage: \\n - 3 arguments: matrix A rows, matrix A cols and matrix B cols\\n- 4 arguments: matrix A rows, matrix A cols and matrix B cols, steps\",\n",
        "            ),\n",
        "        )\n",
        "    end\n",
        "\n",
        "    # Julia is column-based (like Fortran)\n",
        "    @time begin\n",
        "\n",
        "        print(\"Time to allocate A \")\n",
        "        @time A = Array{Float32,2}(undef, A_rows, A_cols)\n",
        "        print(\"Time to allocate B \")\n",
        "        @time B = Array{Float32,2}(undef, B_rows, B_cols)\n",
        "        print(\"Time to initialize C \")\n",
        "        @time C = zeros(Float32, A_rows, B_cols)\n",
        "\n",
        "        print(\"Time to fill A \")\n",
        "        @time Random.rand!(A)\n",
        "        print(\"Time to fill B \")\n",
        "        @time Random.rand!(B)\n",
        "\n",
        "        print(\"Time to simple gemm \")\n",
        "        @time gemm!(A, B, C)\n",
        "\n",
        "        if steps > 1\n",
        "            timings = zeros(steps)\n",
        "            for i = 2:steps\n",
        "                print(\"Time to simple gemm \")\n",
        "                 timings[i] = @elapsed gemm!(A, B, C)\n",
        "                println(timings[i])\n",
        "            end\n",
        "\n",
        "            average_time = sum(timings) / (steps - 1)\n",
        "            gflops = (2 * A_rows * A_cols * B_cols) * 1E-9 / average_time\n",
        "            println(\n",
        "                \"GFLOPS: \",\n",
        "                gflops,\n",
        "                \" steps: \",\n",
        "                steps,\n",
        "                \" average_time: \",\n",
        "                average_time,\n",
        "            )\n",
        "        end\n",
        "\n",
        "        print(\"Time to total time \")\n",
        "    end\n",
        "    return 0\n",
        "\n",
        "end\n",
        "\n",
        "\n",
        "\n",
        "main([\"500\",\"500\",\"500\",\"5\"])"
      ],
      "metadata": {
        "colab": {
          "base_uri": "https://localhost:8080/"
        },
        "id": "BIDSChcou0w9",
        "outputId": "a6911b62-64b7-4794-f44a-ad243c2359a7"
      },
      "execution_count": 2,
      "outputs": [
        {
          "output_type": "stream",
          "name": "stdout",
          "text": [
            "args = [\"500\", \"500\", \"500\", \"5\"]\n",
            "Time to allocate A   0.000018 seconds (3 allocations: 976.641 KiB)\n",
            "Time to allocate B   0.000014 seconds (3 allocations: 976.641 KiB)\n",
            "Time to initialize C   0.000498 seconds (3 allocations: 976.641 KiB)\n",
            "Time to fill A   0.000435 seconds\n",
            "Time to fill B   0.000472 seconds\n",
            "Time to simple gemm   0.016965 seconds\n",
            "Time to simple gemm 0.016927176\n",
            "Time to simple gemm 0.018533951\n",
            "Time to simple gemm 0.016544114\n",
            "Time to simple gemm 0.016291692\n",
            "GFLOPS: 14.641945927498679 steps: 5 average_time: 0.017074233249999998\n",
            "Time to total time   0.193631 seconds (71.78 k allocations: 6.931 MiB, 54.79% compilation time)\n"
          ]
        },
        {
          "output_type": "execute_result",
          "data": {
            "text/plain": [
              "0"
            ]
          },
          "metadata": {},
          "execution_count": 2
        }
      ]
    },
    {
      "cell_type": "markdown",
      "source": [
        "This second version uses Thread parallelization.\n",
        "Something similar to using OpenMP parallel loop or NUMBA's prange"
      ],
      "metadata": {
        "id": "kkDXmoTTx6tk"
      }
    },
    {
      "cell_type": "code",
      "source": [
        "Threads.nthreads()"
      ],
      "metadata": {
        "colab": {
          "base_uri": "https://localhost:8080/"
        },
        "id": "6N_GnTA7zE30",
        "outputId": "1bb014e1-1cb3-4088-c71f-319e326cc6ea"
      },
      "execution_count": 3,
      "outputs": [
        {
          "output_type": "execute_result",
          "data": {
            "text/plain": [
              "1"
            ]
          },
          "metadata": {},
          "execution_count": 3
        }
      ]
    },
    {
      "cell_type": "code",
      "source": [
        "import Random\n",
        "\n",
        "@doc \"\"\"\n",
        "Simplified gemm: C = alpha A x B + C where alpha = 1 , C = zeros,\n",
        "so:\n",
        "C = A x B\n",
        "\"\"\"\n",
        "function gemm!(A::Array{Float32,2}, B::Array{Float32,2}, C::Array{Float32,2})\n",
        "\n",
        "    A_rows = size(A)[1]\n",
        "    A_cols = size(A)[2]\n",
        "    B_cols = size(B)[2]\n",
        "\n",
        "    Threads.@threads for j = 1:B_cols\n",
        "        for l = 1:A_cols\n",
        "            @inbounds temp::Float32 = B[l, j]::Float32\n",
        "            for i = 1:A_rows\n",
        "                @inbounds C[i, j] += temp * A[i, l]\n",
        "            end\n",
        "        end\n",
        "    end\n",
        "end\n",
        "\n",
        "function main(args::Array{String,1})::Int32\n",
        "\n",
        "    # must initialize scalars\n",
        "    A_rows::Int64 = -1\n",
        "    A_cols::Int64 = -1\n",
        "    B_rows::Int64 = -1\n",
        "    B_cols::Int64 = -1\n",
        "\n",
        "    steps::Int32 = 1\n",
        "\n",
        "    @show args\n",
        "\n",
        "    # args don't include Julia executable and program\n",
        "    nargs = size(args)[1]\n",
        "\n",
        "    if nargs == 4 || nargs == 3\n",
        "        A_rows = parse(Int64, args[1])\n",
        "        A_cols = parse(Int64, args[2])\n",
        "        B_rows = parse(Int64, args[2])\n",
        "        B_cols = parse(Int64, args[3])\n",
        "\n",
        "        if nargs == 4\n",
        "            steps = parse(Int32, args[4])\n",
        "        end\n",
        "    else\n",
        "        throw(\n",
        "            ArgumentError( \"Usage: \\n - 3 arguments: matrix A rows, matrix A cols and matrix B cols\\n- 4 arguments: matrix A rows, matrix A cols and matrix B cols, steps\",\n",
        "            ),\n",
        "        )\n",
        "    end\n",
        "\n",
        "    # Julia is column-based (like Fortran)\n",
        "    @time begin\n",
        "\n",
        "        print(\"Time to allocate A \")\n",
        "        @time A = Array{Float32,2}(undef, A_rows, A_cols)\n",
        "        print(\"Time to allocate B \")\n",
        "        @time B = Array{Float32,2}(undef, B_rows, B_cols)\n",
        "        print(\"Time to initialize C \")\n",
        "        @time C = zeros(Float32, A_rows, B_cols)\n",
        "\n",
        "        print(\"Time to fill A \")\n",
        "        @time Random.rand!(A)\n",
        "        print(\"Time to fill B \")\n",
        "        @time Random.rand!(B)\n",
        "\n",
        "        print(\"Time to simple gemm \")\n",
        "        @time gemm!(A, B, C)\n",
        "\n",
        "        if steps > 1\n",
        "            timings = zeros(steps)\n",
        "            for i = 2:steps\n",
        "                print(\"Time to simple gemm \")\n",
        "                 timings[i] = @elapsed gemm!(A, B, C)\n",
        "                println(timings[i])\n",
        "            end\n",
        "\n",
        "            average_time = sum(timings) / (steps - 1)\n",
        "            gflops = (2 * A_rows * A_cols * B_cols) * 1E-9 / average_time\n",
        "            println(\n",
        "                \"GFLOPS: \",\n",
        "                gflops,\n",
        "                \" steps: \",\n",
        "                steps,\n",
        "                \" average_time: \",\n",
        "                average_time,\n",
        "            )\n",
        "        end\n",
        "\n",
        "        print(\"Time to total time \")\n",
        "    end\n",
        "    return 0\n",
        "\n",
        "end\n",
        "\n",
        "\n",
        "\n",
        "main([\"500\",\"500\",\"500\",\"5\"])"
      ],
      "metadata": {
        "colab": {
          "base_uri": "https://localhost:8080/"
        },
        "id": "RQ5cnHS6x47E",
        "outputId": "290a9d9f-ed56-45d7-dd75-f117e072ed49"
      },
      "execution_count": 4,
      "outputs": [
        {
          "output_type": "stream",
          "name": "stdout",
          "text": [
            "args = [\"500\", \"500\", \"500\", \"5\"]\n",
            "Time to allocate A   0.000027 seconds (3 allocations: 976.641 KiB)\n",
            "Time to allocate B   0.000045 seconds (3 allocations: 976.641 KiB)\n",
            "Time to initialize C   0.000678 seconds (3 allocations: 976.641 KiB)\n",
            "Time to fill A   0.000442 seconds\n",
            "Time to fill B   0.000316 seconds\n",
            "Time to simple gemm   0.062661 seconds (27.53 k allocations: 1.356 MiB, 70.42% compilation time)\n",
            "Time to simple gemm 0.016598242\n",
            "Time to simple gemm 0.015919358\n",
            "Time to simple gemm 0.016035527\n",
            "Time to simple gemm 0.017777441\n",
            "GFLOPS: 15.07600537960115 steps: 5 average_time: 0.016582642\n",
            "Time to total time   0.131580 seconds (28.20 k allocations: 4.312 MiB, 33.54% compilation time)\n"
          ]
        },
        {
          "output_type": "execute_result",
          "data": {
            "text/plain": [
              "0"
            ]
          },
          "metadata": {},
          "execution_count": 4
        }
      ]
    },
    {
      "cell_type": "markdown",
      "metadata": {
        "id": "rR7Ox6Ax0ypi"
      },
      "source": [
        "**The next three cells are for GPU benchmarking. If you are using this notebook for the first time and have GPU enabled, you can give it a try.**"
      ]
    },
    {
      "cell_type": "markdown",
      "metadata": {
        "id": "0y5TUI-Ll4cY"
      },
      "source": [
        "### Optional GPU Experiments"
      ]
    },
    {
      "cell_type": "code",
      "metadata": {
        "id": "vHKANz2J0GDW",
        "outputId": "1ba44a2f-3301-415f-b557-1a52bd576b2b",
        "colab": {
          "base_uri": "https://localhost:8080/"
        }
      },
      "source": [
        "using Pkg\n",
        "Pkg.add([\"BenchmarkTools\", \"CUDA\"])\n",
        "using BenchmarkTools, CUDA\n",
        "\n",
        "if has_cuda_gpu()\n",
        "  print(\"The GPU device is:\", CUDA.device())\n",
        "end"
      ],
      "execution_count": 5,
      "outputs": [
        {
          "output_type": "stream",
          "name": "stderr",
          "text": [
            "\u001b[32m\u001b[1m    Updating\u001b[22m\u001b[39m registry at `~/.julia/registries/General.toml`\n",
            "\u001b[32m\u001b[1m   Resolving\u001b[22m\u001b[39m package versions...\n",
            "\u001b[32m\u001b[1m   Installed\u001b[22m\u001b[39m GPUArraysCore ─────────────── v0.2.0\n",
            "\u001b[32m\u001b[1m   Installed\u001b[22m\u001b[39m Crayons ───────────────────── v4.1.1\n",
            "\u001b[32m\u001b[1m   Installed\u001b[22m\u001b[39m demumble_jll ──────────────── v1.3.0+0\n",
            "\u001b[32m\u001b[1m   Installed\u001b[22m\u001b[39m ColorTypes ────────────────── v0.12.0\n",
            "\u001b[32m\u001b[1m   Installed\u001b[22m\u001b[39m TableTraits ───────────────── v1.0.1\n",
            "\u001b[32m\u001b[1m   Installed\u001b[22m\u001b[39m Adapt ─────────────────────── v4.2.0\n",
            "\u001b[32m\u001b[1m   Installed\u001b[22m\u001b[39m Scratch ───────────────────── v1.2.1\n",
            "\u001b[32m\u001b[1m   Installed\u001b[22m\u001b[39m PrettyTables ──────────────── v2.4.0\n",
            "\u001b[32m\u001b[1m   Installed\u001b[22m\u001b[39m DataAPI ───────────────────── v1.16.0\n",
            "\u001b[32m\u001b[1m   Installed\u001b[22m\u001b[39m BenchmarkTools ────────────── v1.6.0\n",
            "\u001b[32m\u001b[1m   Installed\u001b[22m\u001b[39m LLVMLoopInfo ──────────────── v1.0.0\n",
            "\u001b[32m\u001b[1m   Installed\u001b[22m\u001b[39m CUDA_Driver_jll ───────────── v0.10.4+0\n",
            "\u001b[32m\u001b[1m   Installed\u001b[22m\u001b[39m Tables ────────────────────── v1.12.0\n",
            "\u001b[32m\u001b[1m   Installed\u001b[22m\u001b[39m HashArrayMappedTries ──────── v0.2.0\n",
            "\u001b[32m\u001b[1m   Installed\u001b[22m\u001b[39m SentinelArrays ────────────── v1.4.8\n",
            "\u001b[32m\u001b[1m   Installed\u001b[22m\u001b[39m StaticArrays ──────────────── v1.9.12\n",
            "\u001b[32m\u001b[1m   Installed\u001b[22m\u001b[39m AbstractFFTs ──────────────── v1.5.0\n",
            "\u001b[32m\u001b[1m   Installed\u001b[22m\u001b[39m InlineStrings ─────────────── v1.4.3\n",
            "\u001b[32m\u001b[1m   Installed\u001b[22m\u001b[39m GPUCompiler ───────────────── v1.2.0\n",
            "\u001b[32m\u001b[1m   Installed\u001b[22m\u001b[39m FixedPointNumbers ─────────── v0.8.5\n",
            "\u001b[32m\u001b[1m   Installed\u001b[22m\u001b[39m StaticArraysCore ──────────── v1.4.3\n",
            "\u001b[32m\u001b[1m   Installed\u001b[22m\u001b[39m CUDA_Runtime_Discovery ────── v0.3.5\n",
            "\u001b[32m\u001b[1m   Installed\u001b[22m\u001b[39m IteratorInterfaceExtensions ─ v1.0.0\n",
            "\u001b[32m\u001b[1m   Installed\u001b[22m\u001b[39m TimerOutputs ──────────────── v0.5.27\n",
            "\u001b[32m\u001b[1m   Installed\u001b[22m\u001b[39m LLVMExtra_jll ─────────────── v0.0.35+0\n",
            "\u001b[32m\u001b[1m   Installed\u001b[22m\u001b[39m PooledArrays ──────────────── v1.4.3\n",
            "\u001b[32m\u001b[1m   Installed\u001b[22m\u001b[39m DataValueInterfaces ───────── v1.0.0\n",
            "\u001b[32m\u001b[1m   Installed\u001b[22m\u001b[39m CEnum ─────────────────────── v0.5.0\n",
            "\u001b[32m\u001b[1m   Installed\u001b[22m\u001b[39m NVTX ──────────────────────── v0.3.5\n",
            "\u001b[32m\u001b[1m   Installed\u001b[22m\u001b[39m OrderedCollections ────────── v1.8.0\n",
            "\u001b[32m\u001b[1m   Installed\u001b[22m\u001b[39m LaTeXStrings ──────────────── v1.4.0\n",
            "\u001b[32m\u001b[1m   Installed\u001b[22m\u001b[39m ScopedValues ──────────────── v1.3.0\n",
            "\u001b[32m\u001b[1m   Installed\u001b[22m\u001b[39m NVTX_jll ──────────────────── v3.1.1+0\n",
            "\u001b[32m\u001b[1m   Installed\u001b[22m\u001b[39m GPUArrays ─────────────────── v11.2.2\n",
            "\u001b[32m\u001b[1m   Installed\u001b[22m\u001b[39m Random123 ─────────────────── v1.7.0\n",
            "\u001b[32m\u001b[1m   Installed\u001b[22m\u001b[39m InvertedIndices ───────────── v1.3.1\n",
            "\u001b[32m\u001b[1m   Installed\u001b[22m\u001b[39m Reexport ──────────────────── v1.2.2\n",
            "\u001b[32m\u001b[1m   Installed\u001b[22m\u001b[39m RandomNumbers ─────────────── v1.6.0\n",
            "\u001b[32m\u001b[1m   Installed\u001b[22m\u001b[39m Statistics ────────────────── v1.11.1\n",
            "\u001b[32m\u001b[1m   Installed\u001b[22m\u001b[39m JuliaNVTXCallbacks_jll ────── v0.2.1+0\n",
            "\u001b[32m\u001b[1m   Installed\u001b[22m\u001b[39m BFloat16s ─────────────────── v0.5.0\n",
            "\u001b[32m\u001b[1m   Installed\u001b[22m\u001b[39m CUDA_Runtime_jll ──────────── v0.15.5+0\n",
            "\u001b[32m\u001b[1m   Installed\u001b[22m\u001b[39m DataStructures ────────────── v0.18.20\n",
            "\u001b[32m\u001b[1m   Installed\u001b[22m\u001b[39m Colors ────────────────────── v0.13.0\n",
            "\u001b[32m\u001b[1m   Installed\u001b[22m\u001b[39m Requires ──────────────────── v1.3.0\n",
            "\u001b[32m\u001b[1m   Installed\u001b[22m\u001b[39m MacroTools ────────────────── v0.5.15\n",
            "\u001b[32m\u001b[1m   Installed\u001b[22m\u001b[39m DataFrames ────────────────── v1.7.0\n",
            "\u001b[32m\u001b[1m   Installed\u001b[22m\u001b[39m UnsafeAtomics ─────────────── v0.3.0\n",
            "\u001b[32m\u001b[1m   Installed\u001b[22m\u001b[39m Compat ────────────────────── v4.16.0\n",
            "\u001b[32m\u001b[1m   Installed\u001b[22m\u001b[39m Missings ──────────────────── v1.2.0\n",
            "\u001b[32m\u001b[1m   Installed\u001b[22m\u001b[39m StringManipulation ────────── v0.4.1\n",
            "\u001b[32m\u001b[1m   Installed\u001b[22m\u001b[39m LLVM ──────────────────────── v9.2.0\n",
            "\u001b[32m\u001b[1m   Installed\u001b[22m\u001b[39m Atomix ────────────────────── v1.1.0\n",
            "\u001b[32m\u001b[1m   Installed\u001b[22m\u001b[39m CUDA ──────────────────────── v5.6.1\n",
            "\u001b[32m\u001b[1m   Installed\u001b[22m\u001b[39m SortingAlgorithms ─────────── v1.2.1\n",
            "\u001b[32m\u001b[1m   Installed\u001b[22m\u001b[39m KernelAbstractions ────────── v0.9.34\n",
            "\u001b[32m\u001b[1m   Installed\u001b[22m\u001b[39m ExprTools ─────────────────── v0.1.10\n",
            "\u001b[32m\u001b[1m    Updating\u001b[22m\u001b[39m `~/.julia/environments/v1.11/Project.toml`\n",
            "  \u001b[90m[6e4b80f9] \u001b[39m\u001b[92m+ BenchmarkTools v1.6.0\u001b[39m\n",
            "  \u001b[90m[052768ef] \u001b[39m\u001b[92m+ CUDA v5.6.1\u001b[39m\n",
            "\u001b[32m\u001b[1m    Updating\u001b[22m\u001b[39m `~/.julia/environments/v1.11/Manifest.toml`\n",
            "┌ Warning: Circular dependency detected. Precompilation will be skipped for:\n",
            "│   Base.PkgId(Base.UUID(\"85068d23-b5fb-53f1-8204-05c2aba6942f\"), \"SparseArraysExt\")\n",
            "│   Base.PkgId(Base.UUID(\"13011619-4c7c-5ef0-948f-5fc81565cd05\"), \"AtomixCUDAExt\")\n",
            "│   Base.PkgId(Base.UUID(\"66d79d19-2cc4-5b0b-ac7a-b340256d1ecd\"), \"LinearAlgebraExt\")\n",
            "│   Base.PkgId(Base.UUID(\"0c68f7d7-f131-5f86-a1c3-88cf8149b2d7\"), \"GPUArrays\")\n",
            "│   Base.PkgId(Base.UUID(\"63c18a36-062a-441e-b654-da1e3ab1ce7c\"), \"KernelAbstractions\")\n",
            "│   Base.PkgId(Base.UUID(\"052768ef-5323-5732-b1bb-66c8b64840ba\"), \"CUDA\")\n",
            "└ @ Base.Precompilation precompilation.jl:511\n",
            "Precompiling CUDA_Driver_jll...\n",
            "    741.0 ms  ✓ CUDA_Driver_jll\n",
            "  1 dependency successfully precompiled in 1 seconds. 29 already precompiled. 6 skipped due to circular dependency.\n",
            "   \u001b[90m[621f4979] \u001b[39m\u001b[92m+ AbstractFFTs v1.5.0\u001b[39m\n",
            "   \u001b[90m[79e6a3ab] \u001b[39m\u001b[92m+ Adapt v4.2.0\u001b[39m\n",
            "   \u001b[90m[a9b6321e] \u001b[39m\u001b[92m+ Atomix v1.1.0\u001b[39m\n",
            "   \u001b[90m[ab4f0b2a] \u001b[39m\u001b[92m+ BFloat16s v0.5.0\u001b[39m\n",
            "   \u001b[90m[6e4b80f9] \u001b[39m\u001b[92m+ BenchmarkTools v1.6.0\u001b[39m\n",
            "   \u001b[90m[fa961155] \u001b[39m\u001b[92m+ CEnum v0.5.0\u001b[39m\n",
            "   \u001b[90m[052768ef] \u001b[39m\u001b[92m+ CUDA v5.6.1\u001b[39m\n",
            "   \u001b[90m[1af6417a] \u001b[39m\u001b[92m+ CUDA_Runtime_Discovery v0.3.5\u001b[39m\n",
            "   \u001b[90m[3da002f7] \u001b[39m\u001b[92m+ ColorTypes v0.12.0\u001b[39m\n",
            "   \u001b[90m[5ae59095] \u001b[39m\u001b[92m+ Colors v0.13.0\u001b[39m\n",
            "   \u001b[90m[34da2185] \u001b[39m\u001b[92m+ Compat v4.16.0\u001b[39m\n",
            "   \u001b[90m[a8cc5b0e] \u001b[39m\u001b[92m+ Crayons v4.1.1\u001b[39m\n",
            "   \u001b[90m[9a962f9c] \u001b[39m\u001b[92m+ DataAPI v1.16.0\u001b[39m\n",
            "   \u001b[90m[a93c6f00] \u001b[39m\u001b[92m+ DataFrames v1.7.0\u001b[39m\n",
            "   \u001b[90m[864edb3b] \u001b[39m\u001b[92m+ DataStructures v0.18.20\u001b[39m\n",
            "   \u001b[90m[e2d170a0] \u001b[39m\u001b[92m+ DataValueInterfaces v1.0.0\u001b[39m\n",
            "   \u001b[90m[e2ba6199] \u001b[39m\u001b[92m+ ExprTools v0.1.10\u001b[39m\n",
            "   \u001b[90m[53c48c17] \u001b[39m\u001b[92m+ FixedPointNumbers v0.8.5\u001b[39m\n",
            "   \u001b[90m[0c68f7d7] \u001b[39m\u001b[92m+ GPUArrays v11.2.2\u001b[39m\n",
            "   \u001b[90m[46192b85] \u001b[39m\u001b[92m+ GPUArraysCore v0.2.0\u001b[39m\n",
            "   \u001b[90m[61eb1bfa] \u001b[39m\u001b[92m+ GPUCompiler v1.2.0\u001b[39m\n",
            "   \u001b[90m[076d061b] \u001b[39m\u001b[92m+ HashArrayMappedTries v0.2.0\u001b[39m\n",
            "   \u001b[90m[842dd82b] \u001b[39m\u001b[92m+ InlineStrings v1.4.3\u001b[39m\n",
            "   \u001b[90m[41ab1584] \u001b[39m\u001b[92m+ InvertedIndices v1.3.1\u001b[39m\n",
            "   \u001b[90m[82899510] \u001b[39m\u001b[92m+ IteratorInterfaceExtensions v1.0.0\u001b[39m\n",
            "   \u001b[90m[63c18a36] \u001b[39m\u001b[92m+ KernelAbstractions v0.9.34\u001b[39m\n",
            "   \u001b[90m[929cbde3] \u001b[39m\u001b[92m+ LLVM v9.2.0\u001b[39m\n",
            "   \u001b[90m[8b046642] \u001b[39m\u001b[92m+ LLVMLoopInfo v1.0.0\u001b[39m\n",
            "   \u001b[90m[b964fa9f] \u001b[39m\u001b[92m+ LaTeXStrings v1.4.0\u001b[39m\n",
            "   \u001b[90m[1914dd2f] \u001b[39m\u001b[92m+ MacroTools v0.5.15\u001b[39m\n",
            "   \u001b[90m[e1d29d7a] \u001b[39m\u001b[92m+ Missings v1.2.0\u001b[39m\n",
            " \u001b[33m⌅\u001b[39m \u001b[90m[5da4648a] \u001b[39m\u001b[92m+ NVTX v0.3.5\u001b[39m\n",
            "   \u001b[90m[bac558e1] \u001b[39m\u001b[92m+ OrderedCollections v1.8.0\u001b[39m\n",
            "   \u001b[90m[2dfb63ee] \u001b[39m\u001b[92m+ PooledArrays v1.4.3\u001b[39m\n",
            "   \u001b[90m[08abe8d2] \u001b[39m\u001b[92m+ PrettyTables v2.4.0\u001b[39m\n",
            "   \u001b[90m[74087812] \u001b[39m\u001b[92m+ Random123 v1.7.0\u001b[39m\n",
            "   \u001b[90m[e6cf234a] \u001b[39m\u001b[92m+ RandomNumbers v1.6.0\u001b[39m\n",
            "   \u001b[90m[189a3867] \u001b[39m\u001b[92m+ Reexport v1.2.2\u001b[39m\n",
            "   \u001b[90m[ae029012] \u001b[39m\u001b[92m+ Requires v1.3.0\u001b[39m\n",
            "   \u001b[90m[7e506255] \u001b[39m\u001b[92m+ ScopedValues v1.3.0\u001b[39m\n",
            "   \u001b[90m[6c6a2e73] \u001b[39m\u001b[92m+ Scratch v1.2.1\u001b[39m\n",
            "   \u001b[90m[91c51154] \u001b[39m\u001b[92m+ SentinelArrays v1.4.8\u001b[39m\n",
            "   \u001b[90m[a2af1166] \u001b[39m\u001b[92m+ SortingAlgorithms v1.2.1\u001b[39m\n",
            "   \u001b[90m[90137ffa] \u001b[39m\u001b[92m+ StaticArrays v1.9.12\u001b[39m\n",
            "   \u001b[90m[1e83bf80] \u001b[39m\u001b[92m+ StaticArraysCore v1.4.3\u001b[39m\n",
            "   \u001b[90m[10745b16] \u001b[39m\u001b[92m+ Statistics v1.11.1\u001b[39m\n",
            "   \u001b[90m[892a3eda] \u001b[39m\u001b[92m+ StringManipulation v0.4.1\u001b[39m\n",
            "   \u001b[90m[3783bdb8] \u001b[39m\u001b[92m+ TableTraits v1.0.1\u001b[39m\n",
            "   \u001b[90m[bd369af6] \u001b[39m\u001b[92m+ Tables v1.12.0\u001b[39m\n",
            "   \u001b[90m[a759f4b9] \u001b[39m\u001b[92m+ TimerOutputs v0.5.27\u001b[39m\n",
            "   \u001b[90m[013be700] \u001b[39m\u001b[92m+ UnsafeAtomics v0.3.0\u001b[39m\n",
            " \u001b[33m⌅\u001b[39m \u001b[90m[4ee394cb] \u001b[39m\u001b[92m+ CUDA_Driver_jll v0.10.4+0\u001b[39m\n",
            "\u001b[91m→\u001b[39m\u001b[33m⌅\u001b[39m \u001b[90m[76a88914] \u001b[39m\u001b[92m+ CUDA_Runtime_jll v0.15.5+0\u001b[39m\n",
            "   \u001b[90m[9c1d0b0a] \u001b[39m\u001b[92m+ JuliaNVTXCallbacks_jll v0.2.1+0\u001b[39m\n",
            "   \u001b[90m[dad2f222] \u001b[39m\u001b[92m+ LLVMExtra_jll v0.0.35+0\u001b[39m\n",
            "   \u001b[90m[e98f9f5b] \u001b[39m\u001b[92m+ NVTX_jll v3.1.1+0\u001b[39m\n",
            "   \u001b[90m[1e29f10c] \u001b[39m\u001b[92m+ demumble_jll v1.3.0+0\u001b[39m\n",
            "   \u001b[90m[9fa8497b] \u001b[39m\u001b[92m+ Future v1.11.0\u001b[39m\n",
            "   \u001b[90m[4af54fe1] \u001b[39m\u001b[92m+ LazyArtifacts v1.11.0\u001b[39m\n",
            "   \u001b[90m[37e2e46d] \u001b[39m\u001b[92m+ LinearAlgebra v1.11.0\u001b[39m\n",
            "   \u001b[90m[9abbd945] \u001b[39m\u001b[92m+ Profile v1.11.0\u001b[39m\n",
            "   \u001b[90m[2f01184e] \u001b[39m\u001b[92m+ SparseArrays v1.11.0\u001b[39m\n",
            "   \u001b[90m[e66e0078] \u001b[39m\u001b[92m+ CompilerSupportLibraries_jll v1.1.1+0\u001b[39m\n",
            "   \u001b[90m[4536629a] \u001b[39m\u001b[92m+ OpenBLAS_jll v0.3.27+1\u001b[39m\n",
            "   \u001b[90m[bea87d4a] \u001b[39m\u001b[92m+ SuiteSparse_jll v7.7.0+0\u001b[39m\n",
            "   \u001b[90m[8e850b90] \u001b[39m\u001b[92m+ libblastrampoline_jll v5.11.0+0\u001b[39m\n",
            "\u001b[36m\u001b[1m        Info\u001b[22m\u001b[39m Packages marked with \u001b[91m→\u001b[39m are not downloaded, use `instantiate` to download\n",
            "\u001b[36m\u001b[1m        Info\u001b[22m\u001b[39m Packages marked with \u001b[33m⌅\u001b[39m have new versions available but compatibility constraints restrict them from upgrading. To see why use `status --outdated -m`\n",
            "\u001b[33m\u001b[1m┌ \u001b[22m\u001b[39m\u001b[33m\u001b[1mWarning: \u001b[22m\u001b[39mCircular dependency detected. Precompilation will be skipped for:\n",
            "\u001b[33m\u001b[1m│ \u001b[22m\u001b[39m  Base.PkgId(Base.UUID(\"85068d23-b5fb-53f1-8204-05c2aba6942f\"), \"SparseArraysExt\")\n",
            "\u001b[33m\u001b[1m│ \u001b[22m\u001b[39m  Base.PkgId(Base.UUID(\"13011619-4c7c-5ef0-948f-5fc81565cd05\"), \"AtomixCUDAExt\")\n",
            "\u001b[33m\u001b[1m│ \u001b[22m\u001b[39m  Base.PkgId(Base.UUID(\"66d79d19-2cc4-5b0b-ac7a-b340256d1ecd\"), \"LinearAlgebraExt\")\n",
            "\u001b[33m\u001b[1m│ \u001b[22m\u001b[39m  Base.PkgId(Base.UUID(\"0c68f7d7-f131-5f86-a1c3-88cf8149b2d7\"), \"GPUArrays\")\n",
            "\u001b[33m\u001b[1m│ \u001b[22m\u001b[39m  Base.PkgId(Base.UUID(\"63c18a36-062a-441e-b654-da1e3ab1ce7c\"), \"KernelAbstractions\")\n",
            "\u001b[33m\u001b[1m│ \u001b[22m\u001b[39m  Base.PkgId(Base.UUID(\"052768ef-5323-5732-b1bb-66c8b64840ba\"), \"CUDA\")\n",
            "\u001b[33m\u001b[1m└ \u001b[22m\u001b[39m\u001b[90m@ Base.Precompilation precompilation.jl:511\u001b[39m\n",
            "\u001b[92m\u001b[1mPrecompiling\u001b[22m\u001b[39m project...\n",
            "   1042.5 ms\u001b[32m  ✓ \u001b[39m\u001b[90mDataValueInterfaces\u001b[39m\n",
            "   1544.9 ms\u001b[32m  ✓ \u001b[39m\u001b[90mLLVMLoopInfo\u001b[39m\n",
            "   1672.6 ms\u001b[32m  ✓ \u001b[39m\u001b[90mOrderedCollections\u001b[39m\n",
            "   1189.9 ms\u001b[32m  ✓ \u001b[39m\u001b[90mLaTeXStrings\u001b[39m\n",
            "   1608.9 ms\u001b[32m  ✓ \u001b[39m\u001b[90mAbstractFFTs\u001b[39m\n",
            "   1260.0 ms\u001b[32m  ✓ \u001b[39m\u001b[90mInvertedIndices\u001b[39m\n",
            "   1277.9 ms\u001b[32m  ✓ \u001b[39m\u001b[90mReexport\u001b[39m\n",
            "   2099.0 ms\u001b[32m  ✓ \u001b[39m\u001b[90mInlineStrings\u001b[39m\n",
            "   2559.2 ms\u001b[32m  ✓ \u001b[39m\u001b[90mStatistics\u001b[39m\n",
            "   2075.6 ms\u001b[32m  ✓ \u001b[39m\u001b[90mExprTools\u001b[39m\n",
            "   1777.7 ms\u001b[32m  ✓ \u001b[39m\u001b[90mIteratorInterfaceExtensions\u001b[39m\n",
            "   1254.7 ms\u001b[32m  ✓ \u001b[39m\u001b[90mDataAPI\u001b[39m\n",
            "   3529.8 ms\u001b[32m  ✓ \u001b[39m\u001b[90mCrayons\u001b[39m\n",
            "   5018.7 ms\u001b[32m  ✓ \u001b[39m\u001b[90mUnsafeAtomics\u001b[39m\n",
            "   1323.1 ms\u001b[32m  ✓ \u001b[39m\u001b[90mCEnum\u001b[39m\n",
            "   2768.2 ms\u001b[32m  ✓ \u001b[39m\u001b[90mRandomNumbers\u001b[39m\n",
            "   7301.6 ms\u001b[32m  ✓ \u001b[39m\u001b[90mMacroTools\u001b[39m\n",
            "   1331.2 ms\u001b[32m  ✓ \u001b[39m\u001b[90mStaticArraysCore\u001b[39m\n",
            "   1302.7 ms\u001b[32m  ✓ \u001b[39m\u001b[90mHashArrayMappedTries\u001b[39m\n",
            "   1611.4 ms\u001b[32m  ✓ \u001b[39m\u001b[90mRequires\u001b[39m\n",
            "   5790.1 ms\u001b[32m  ✓ \u001b[39m\u001b[90mCUDA_Runtime_Discovery\u001b[39m\n",
            "   2416.2 ms\u001b[32m  ✓ \u001b[39m\u001b[90mScratch\u001b[39m\n",
            "   2558.0 ms\u001b[32m  ✓ \u001b[39m\u001b[90mBFloat16s\u001b[39m\n",
            "   1788.9 ms\u001b[32m  ✓ \u001b[39m\u001b[90mCompat\u001b[39m\n",
            "   5313.1 ms\u001b[32m  ✓ \u001b[39m\u001b[90mSentinelArrays\u001b[39m\n",
            "   1593.7 ms\u001b[32m  ✓ \u001b[39m\u001b[90mNVTX_jll\u001b[39m\n",
            "   1884.3 ms\u001b[32m  ✓ \u001b[39m\u001b[90mdemumble_jll\u001b[39m\n",
            "   1517.3 ms\u001b[32m  ✓ \u001b[39m\u001b[90mJuliaNVTXCallbacks_jll\u001b[39m\n",
            "   2689.1 ms\u001b[32m  ✓ \u001b[39m\u001b[90mCUDA_Driver_jll\u001b[39m\n",
            "   7083.2 ms\u001b[32m  ✓ \u001b[39m\u001b[90mStringManipulation\u001b[39m\n",
            "   3470.4 ms\u001b[32m  ✓ \u001b[39m\u001b[90mLLVMExtra_jll\u001b[39m\n",
            "   3377.2 ms\u001b[32m  ✓ \u001b[39m\u001b[90mAbstractFFTs → AbstractFFTsTestExt\u001b[39m\n",
            "   1483.1 ms\u001b[32m  ✓ \u001b[39m\u001b[90mInlineStrings → ParsersExt\u001b[39m\n",
            "   1569.1 ms\u001b[32m  ✓ \u001b[39m\u001b[90mTableTraits\u001b[39m\n",
            "   2643.0 ms\u001b[32m  ✓ \u001b[39m\u001b[90mStatistics → SparseArraysExt\u001b[39m\n",
            "   2152.8 ms\u001b[32m  ✓ \u001b[39m\u001b[90mPooledArrays\u001b[39m\n",
            "   1980.5 ms\u001b[32m  ✓ \u001b[39m\u001b[90mMissings\u001b[39m\n",
            "   2368.3 ms\u001b[32m  ✓ \u001b[39m\u001b[90mRandom123\u001b[39m\n",
            "   1201.3 ms\u001b[32m  ✓ \u001b[39m\u001b[90mScopedValues\u001b[39m\n",
            "   1437.4 ms\u001b[32m  ✓ \u001b[39m\u001b[90mAdapt\u001b[39m\n",
            "   1301.7 ms\u001b[32m  ✓ \u001b[39m\u001b[90mCompat → CompatLinearAlgebraExt\u001b[39m\n",
            "  11232.2 ms\u001b[32m  ✓ \u001b[39m\u001b[90mTimerOutputs\u001b[39m\n",
            "   7777.8 ms\u001b[32m  ✓ \u001b[39m\u001b[90mCUDA_Runtime_jll\u001b[39m\n",
            "   2771.3 ms\u001b[32m  ✓ \u001b[39m\u001b[90mTables\u001b[39m\n",
            "  23231.1 ms\u001b[32m  ✓ \u001b[39m\u001b[90mStaticArrays\u001b[39m\n",
            "   8377.8 ms\u001b[32m  ✓ \u001b[39m\u001b[90mFixedPointNumbers\u001b[39m\n",
            "  18523.2 ms\u001b[32m  ✓ \u001b[39m\u001b[90mLLVM\u001b[39m\n",
            "   2359.8 ms\u001b[32m  ✓ \u001b[39m\u001b[90mAdapt → AdaptSparseArraysExt\u001b[39m\n",
            "   3581.9 ms\u001b[32m  ✓ \u001b[39mBenchmarkTools\n",
            "   4224.3 ms\u001b[32m  ✓ \u001b[39m\u001b[90mDataStructures\u001b[39m\n",
            "   1766.3 ms\u001b[32m  ✓ \u001b[39m\u001b[90mStaticArrays → StaticArraysStatisticsExt\u001b[39m\n",
            "   2110.9 ms\u001b[32m  ✓ \u001b[39m\u001b[90mAdapt → AdaptStaticArraysExt\u001b[39m\n",
            "   3006.8 ms\u001b[32m  ✓ \u001b[39m\u001b[90mLLVM → BFloat16sExt\u001b[39m\n",
            "   4246.5 ms\u001b[32m  ✓ \u001b[39m\u001b[90mColorTypes\u001b[39m\n",
            "   2601.0 ms\u001b[32m  ✓ \u001b[39m\u001b[90mSortingAlgorithms\u001b[39m\n",
            "   1402.0 ms\u001b[32m  ✓ \u001b[39m\u001b[90mGPUArraysCore\u001b[39m\n",
            "   5497.0 ms\u001b[32m  ✓ \u001b[39m\u001b[90mUnsafeAtomics → UnsafeAtomicsLLVM\u001b[39m\n",
            "   1757.1 ms\u001b[32m  ✓ \u001b[39m\u001b[90mColorTypes → StyledStringsExt\u001b[39m\n",
            "   1542.3 ms\u001b[32m  ✓ \u001b[39m\u001b[90mAtomix\u001b[39m\n",
            "  14436.5 ms\u001b[32m  ✓ \u001b[39m\u001b[90mColors\u001b[39m\n",
            "   4703.4 ms\u001b[32m  ✓ \u001b[39m\u001b[90mNVTX\u001b[39m\n",
            "  60596.8 ms\u001b[32m  ✓ \u001b[39m\u001b[90mPrettyTables\u001b[39m\n",
            "  78205.0 ms\u001b[32m  ✓ \u001b[39m\u001b[90mGPUCompiler\u001b[39m\n",
            "  81999.3 ms\u001b[32m  ✓ \u001b[39m\u001b[90mDataFrames\u001b[39m\n",
            "  64 dependencies successfully precompiled in 203 seconds. 49 already precompiled. 6 skipped due to circular dependency.\n",
            "\u001b[33m\u001b[1m┌ \u001b[22m\u001b[39m\u001b[33m\u001b[1mWarning: \u001b[22m\u001b[39mCircular dependency detected. Precompilation will be skipped for:\n",
            "\u001b[33m\u001b[1m│ \u001b[22m\u001b[39m  Base.PkgId(Base.UUID(\"85068d23-b5fb-53f1-8204-05c2aba6942f\"), \"SparseArraysExt\")\n",
            "\u001b[33m\u001b[1m│ \u001b[22m\u001b[39m  Base.PkgId(Base.UUID(\"13011619-4c7c-5ef0-948f-5fc81565cd05\"), \"AtomixCUDAExt\")\n",
            "\u001b[33m\u001b[1m│ \u001b[22m\u001b[39m  Base.PkgId(Base.UUID(\"66d79d19-2cc4-5b0b-ac7a-b340256d1ecd\"), \"LinearAlgebraExt\")\n",
            "\u001b[33m\u001b[1m│ \u001b[22m\u001b[39m  Base.PkgId(Base.UUID(\"0c68f7d7-f131-5f86-a1c3-88cf8149b2d7\"), \"GPUArrays\")\n",
            "\u001b[33m\u001b[1m│ \u001b[22m\u001b[39m  Base.PkgId(Base.UUID(\"63c18a36-062a-441e-b654-da1e3ab1ce7c\"), \"KernelAbstractions\")\n",
            "\u001b[33m\u001b[1m│ \u001b[22m\u001b[39m  Base.PkgId(Base.UUID(\"052768ef-5323-5732-b1bb-66c8b64840ba\"), \"CUDA\")\n",
            "\u001b[33m\u001b[1m└ \u001b[22m\u001b[39m\u001b[90m@ Base.Precompilation precompilation.jl:511\u001b[39m\n",
            "\u001b[36m\u001b[1m[ \u001b[22m\u001b[39m\u001b[36m\u001b[1mInfo: \u001b[22m\u001b[39mPrecompiling CUDA [052768ef-5323-5732-b1bb-66c8b64840ba] \n",
            "\u001b[33m\u001b[1m┌ \u001b[22m\u001b[39m\u001b[33m\u001b[1mWarning: \u001b[22m\u001b[39mModule CUDA with build ID ffffffff-ffff-ffff-0000-00d8e809ec53 is missing from the cache.\n",
            "\u001b[33m\u001b[1m│ \u001b[22m\u001b[39mThis may mean CUDA [052768ef-5323-5732-b1bb-66c8b64840ba] does not support precompilation but is imported by a module that does.\n",
            "\u001b[33m\u001b[1m└ \u001b[22m\u001b[39m\u001b[90m@ Base loading.jl:2464\u001b[39m\n",
            "\u001b[91m\u001b[1m┌ \u001b[22m\u001b[39m\u001b[91m\u001b[1mError: \u001b[22m\u001b[39mError during loading of extension AtomixCUDAExt of Atomix, use `Base.retry_load_extensions()` to retry.\n",
            "\u001b[91m\u001b[1m│ \u001b[22m\u001b[39m  exception =\n",
            "\u001b[91m\u001b[1m│ \u001b[22m\u001b[39m   \u001b[0m1-element ExceptionStack:\n",
            "\u001b[91m\u001b[1m│ \u001b[22m\u001b[39m   Error when precompiling module, potentially caused by a __precompile__(false) declaration in the module.\n",
            "\u001b[91m\u001b[1m│ \u001b[22m\u001b[39m   Stacktrace:\n",
            "\u001b[91m\u001b[1m│ \u001b[22m\u001b[39m     [1] \u001b[0m\u001b[1m_require\u001b[22m\u001b[0m\u001b[1m(\u001b[22m\u001b[90mpkg\u001b[39m::\u001b[0mBase.PkgId, \u001b[90menv\u001b[39m::\u001b[0mNothing\u001b[0m\u001b[1m)\u001b[22m\n",
            "\u001b[91m\u001b[1m│ \u001b[22m\u001b[39m   \u001b[90m    @\u001b[39m \u001b[90mBase\u001b[39m \u001b[90m./\u001b[39m\u001b[90m\u001b[4mloading.jl:2516\u001b[24m\u001b[39m\n",
            "\u001b[91m\u001b[1m│ \u001b[22m\u001b[39m     [2] \u001b[0m\u001b[1m__require_prelocked\u001b[22m\u001b[0m\u001b[1m(\u001b[22m\u001b[90muuidkey\u001b[39m::\u001b[0mBase.PkgId, \u001b[90menv\u001b[39m::\u001b[0mNothing\u001b[0m\u001b[1m)\u001b[22m\n",
            "\u001b[91m\u001b[1m│ \u001b[22m\u001b[39m   \u001b[90m    @\u001b[39m \u001b[90mBase\u001b[39m \u001b[90m./\u001b[39m\u001b[90m\u001b[4mloading.jl:2315\u001b[24m\u001b[39m\n",
            "\u001b[91m\u001b[1m│ \u001b[22m\u001b[39m     [3] \u001b[0m\u001b[1m#invoke_in_world#3\u001b[22m\n",
            "\u001b[91m\u001b[1m│ \u001b[22m\u001b[39m   \u001b[90m    @\u001b[39m \u001b[90m./\u001b[39m\u001b[90m\u001b[4messentials.jl:1089\u001b[24m\u001b[39m\u001b[90m [inlined]\u001b[39m\n",
            "\u001b[91m\u001b[1m│ \u001b[22m\u001b[39m     [4] \u001b[0m\u001b[1minvoke_in_world\u001b[22m\n",
            "\u001b[91m\u001b[1m│ \u001b[22m\u001b[39m   \u001b[90m    @\u001b[39m \u001b[90m./\u001b[39m\u001b[90m\u001b[4messentials.jl:1086\u001b[24m\u001b[39m\u001b[90m [inlined]\u001b[39m\n",
            "\u001b[91m\u001b[1m│ \u001b[22m\u001b[39m     [5] \u001b[0m\u001b[1m_require_prelocked\u001b[22m\n",
            "\u001b[91m\u001b[1m│ \u001b[22m\u001b[39m   \u001b[90m    @\u001b[39m \u001b[90m./\u001b[39m\u001b[90m\u001b[4mloading.jl:2302\u001b[24m\u001b[39m\u001b[90m [inlined]\u001b[39m\n",
            "\u001b[91m\u001b[1m│ \u001b[22m\u001b[39m     [6] \u001b[0m\u001b[1m_require_prelocked\u001b[22m\n",
            "\u001b[91m\u001b[1m│ \u001b[22m\u001b[39m   \u001b[90m    @\u001b[39m \u001b[90m./\u001b[39m\u001b[90m\u001b[4mloading.jl:2301\u001b[24m\u001b[39m\u001b[90m [inlined]\u001b[39m\n",
            "\u001b[91m\u001b[1m│ \u001b[22m\u001b[39m     [7] \u001b[0m\u001b[1mrun_extension_callbacks\u001b[22m\u001b[0m\u001b[1m(\u001b[22m\u001b[90mextid\u001b[39m::\u001b[0mBase.ExtensionId\u001b[0m\u001b[1m)\u001b[22m\n",
            "\u001b[91m\u001b[1m│ \u001b[22m\u001b[39m   \u001b[90m    @\u001b[39m \u001b[90mBase\u001b[39m \u001b[90m./\u001b[39m\u001b[90m\u001b[4mloading.jl:1500\u001b[24m\u001b[39m\n",
            "\u001b[91m\u001b[1m│ \u001b[22m\u001b[39m     [8] \u001b[0m\u001b[1mrun_extension_callbacks\u001b[22m\u001b[0m\u001b[1m(\u001b[22m\u001b[90mpkgid\u001b[39m::\u001b[0mBase.PkgId\u001b[0m\u001b[1m)\u001b[22m\n",
            "\u001b[91m\u001b[1m│ \u001b[22m\u001b[39m   \u001b[90m    @\u001b[39m \u001b[90mBase\u001b[39m \u001b[90m./\u001b[39m\u001b[90m\u001b[4mloading.jl:1535\u001b[24m\u001b[39m\n",
            "\u001b[91m\u001b[1m│ \u001b[22m\u001b[39m     [9] \u001b[0m\u001b[1mrun_package_callbacks\u001b[22m\u001b[0m\u001b[1m(\u001b[22m\u001b[90mmodkey\u001b[39m::\u001b[0mBase.PkgId\u001b[0m\u001b[1m)\u001b[22m\n",
            "\u001b[91m\u001b[1m│ \u001b[22m\u001b[39m   \u001b[90m    @\u001b[39m \u001b[90mBase\u001b[39m \u001b[90m./\u001b[39m\u001b[90m\u001b[4mloading.jl:1354\u001b[24m\u001b[39m\n",
            "\u001b[91m\u001b[1m│ \u001b[22m\u001b[39m    [10] \u001b[0m\u001b[1m_tryrequire_from_serialized\u001b[22m\u001b[0m\u001b[1m(\u001b[22m\u001b[90mmodkey\u001b[39m::\u001b[0mBase.PkgId, \u001b[90mbuild_id\u001b[39m::\u001b[0mUInt128\u001b[0m\u001b[1m)\u001b[22m\n",
            "\u001b[91m\u001b[1m│ \u001b[22m\u001b[39m   \u001b[90m    @\u001b[39m \u001b[90mBase\u001b[39m \u001b[90m./\u001b[39m\u001b[90m\u001b[4mloading.jl:1829\u001b[24m\u001b[39m\n",
            "\u001b[91m\u001b[1m│ \u001b[22m\u001b[39m    [11] \u001b[0m\u001b[1m_tryrequire_from_serialized\u001b[22m\u001b[0m\u001b[1m(\u001b[22m\u001b[90mpkg\u001b[39m::\u001b[0mBase.PkgId, \u001b[90mpath\u001b[39m::\u001b[0mString, \u001b[90mocachepath\u001b[39m::\u001b[0mString\u001b[0m\u001b[1m)\u001b[22m\n",
            "\u001b[91m\u001b[1m│ \u001b[22m\u001b[39m   \u001b[90m    @\u001b[39m \u001b[90mBase\u001b[39m \u001b[90m./\u001b[39m\u001b[90m\u001b[4mloading.jl:1895\u001b[24m\u001b[39m\n",
            "\u001b[91m\u001b[1m│ \u001b[22m\u001b[39m    [12] \u001b[0m\u001b[1m_require\u001b[22m\u001b[0m\u001b[1m(\u001b[22m\u001b[90mpkg\u001b[39m::\u001b[0mBase.PkgId, \u001b[90menv\u001b[39m::\u001b[0mString\u001b[0m\u001b[1m)\u001b[22m\n",
            "\u001b[91m\u001b[1m│ \u001b[22m\u001b[39m   \u001b[90m    @\u001b[39m \u001b[90mBase\u001b[39m \u001b[90m./\u001b[39m\u001b[90m\u001b[4mloading.jl:2507\u001b[24m\u001b[39m\n",
            "\u001b[91m\u001b[1m│ \u001b[22m\u001b[39m    [13] \u001b[0m\u001b[1m__require_prelocked\u001b[22m\u001b[0m\u001b[1m(\u001b[22m\u001b[90muuidkey\u001b[39m::\u001b[0mBase.PkgId, \u001b[90menv\u001b[39m::\u001b[0mString\u001b[0m\u001b[1m)\u001b[22m\n",
            "\u001b[91m\u001b[1m│ \u001b[22m\u001b[39m   \u001b[90m    @\u001b[39m \u001b[90mBase\u001b[39m \u001b[90m./\u001b[39m\u001b[90m\u001b[4mloading.jl:2315\u001b[24m\u001b[39m\n",
            "\u001b[91m\u001b[1m│ \u001b[22m\u001b[39m    [14] \u001b[0m\u001b[1m#invoke_in_world#3\u001b[22m\n",
            "\u001b[91m\u001b[1m│ \u001b[22m\u001b[39m   \u001b[90m    @\u001b[39m \u001b[90m./\u001b[39m\u001b[90m\u001b[4messentials.jl:1089\u001b[24m\u001b[39m\u001b[90m [inlined]\u001b[39m\n",
            "\u001b[91m\u001b[1m│ \u001b[22m\u001b[39m    [15] \u001b[0m\u001b[1minvoke_in_world\u001b[22m\n",
            "\u001b[91m\u001b[1m│ \u001b[22m\u001b[39m   \u001b[90m    @\u001b[39m \u001b[90m./\u001b[39m\u001b[90m\u001b[4messentials.jl:1086\u001b[24m\u001b[39m\u001b[90m [inlined]\u001b[39m\n",
            "\u001b[91m\u001b[1m│ \u001b[22m\u001b[39m    [16] \u001b[0m\u001b[1m_require_prelocked\u001b[22m\u001b[0m\u001b[1m(\u001b[22m\u001b[90muuidkey\u001b[39m::\u001b[0mBase.PkgId, \u001b[90menv\u001b[39m::\u001b[0mString\u001b[0m\u001b[1m)\u001b[22m\n",
            "\u001b[91m\u001b[1m│ \u001b[22m\u001b[39m   \u001b[90m    @\u001b[39m \u001b[90mBase\u001b[39m \u001b[90m./\u001b[39m\u001b[90m\u001b[4mloading.jl:2302\u001b[24m\u001b[39m\n",
            "\u001b[91m\u001b[1m│ \u001b[22m\u001b[39m    [17] \u001b[0m\u001b[1mmacro expansion\u001b[22m\n",
            "\u001b[91m\u001b[1m│ \u001b[22m\u001b[39m   \u001b[90m    @\u001b[39m \u001b[90m./\u001b[39m\u001b[90m\u001b[4mloading.jl:2241\u001b[24m\u001b[39m\u001b[90m [inlined]\u001b[39m\n",
            "\u001b[91m\u001b[1m│ \u001b[22m\u001b[39m    [18] \u001b[0m\u001b[1mmacro expansion\u001b[22m\n",
            "\u001b[91m\u001b[1m│ \u001b[22m\u001b[39m   \u001b[90m    @\u001b[39m \u001b[90m./\u001b[39m\u001b[90m\u001b[4mlock.jl:273\u001b[24m\u001b[39m\u001b[90m [inlined]\u001b[39m\n",
            "\u001b[91m\u001b[1m│ \u001b[22m\u001b[39m    [19] \u001b[0m\u001b[1m__require\u001b[22m\u001b[0m\u001b[1m(\u001b[22m\u001b[90minto\u001b[39m::\u001b[0mModule, \u001b[90mmod\u001b[39m::\u001b[0mSymbol\u001b[0m\u001b[1m)\u001b[22m\n",
            "\u001b[91m\u001b[1m│ \u001b[22m\u001b[39m   \u001b[90m    @\u001b[39m \u001b[90mBase\u001b[39m \u001b[90m./\u001b[39m\u001b[90m\u001b[4mloading.jl:2198\u001b[24m\u001b[39m\n",
            "\u001b[91m\u001b[1m│ \u001b[22m\u001b[39m    [20] \u001b[0m\u001b[1m#invoke_in_world#3\u001b[22m\n",
            "\u001b[91m\u001b[1m│ \u001b[22m\u001b[39m   \u001b[90m    @\u001b[39m \u001b[90m./\u001b[39m\u001b[90m\u001b[4messentials.jl:1089\u001b[24m\u001b[39m\u001b[90m [inlined]\u001b[39m\n",
            "\u001b[91m\u001b[1m│ \u001b[22m\u001b[39m    [21] \u001b[0m\u001b[1minvoke_in_world\u001b[22m\n",
            "\u001b[91m\u001b[1m│ \u001b[22m\u001b[39m   \u001b[90m    @\u001b[39m \u001b[90m./\u001b[39m\u001b[90m\u001b[4messentials.jl:1086\u001b[24m\u001b[39m\u001b[90m [inlined]\u001b[39m\n",
            "\u001b[91m\u001b[1m│ \u001b[22m\u001b[39m    [22] \u001b[0m\u001b[1mrequire\u001b[22m\u001b[0m\u001b[1m(\u001b[22m\u001b[90minto\u001b[39m::\u001b[0mModule, \u001b[90mmod\u001b[39m::\u001b[0mSymbol\u001b[0m\u001b[1m)\u001b[22m\n",
            "\u001b[91m\u001b[1m│ \u001b[22m\u001b[39m   \u001b[90m    @\u001b[39m \u001b[90mBase\u001b[39m \u001b[90m./\u001b[39m\u001b[90m\u001b[4mloading.jl:2191\u001b[24m\u001b[39m\n",
            "\u001b[91m\u001b[1m│ \u001b[22m\u001b[39m    [23] \u001b[0m\u001b[1minclude\u001b[22m\n",
            "\u001b[91m\u001b[1m│ \u001b[22m\u001b[39m   \u001b[90m    @\u001b[39m \u001b[90m./\u001b[39m\u001b[90m\u001b[4mBase.jl:557\u001b[24m\u001b[39m\u001b[90m [inlined]\u001b[39m\n",
            "\u001b[91m\u001b[1m│ \u001b[22m\u001b[39m    [24] \u001b[0m\u001b[1minclude_package_for_output\u001b[22m\u001b[0m\u001b[1m(\u001b[22m\u001b[90mpkg\u001b[39m::\u001b[0mBase.PkgId, \u001b[90minput\u001b[39m::\u001b[0mString, \u001b[90mdepot_path\u001b[39m::\u001b[0mVector\u001b[90m{String}\u001b[39m, \u001b[90mdl_load_path\u001b[39m::\u001b[0mVector\u001b[90m{String}\u001b[39m, \u001b[90mload_path\u001b[39m::\u001b[0mVector\u001b[90m{String}\u001b[39m, \u001b[90mconcrete_deps\u001b[39m::\u001b[0mVector\u001b[90m{Pair{Base.PkgId, UInt128}}\u001b[39m, \u001b[90msource\u001b[39m::\u001b[0mNothing\u001b[0m\u001b[1m)\u001b[22m\n",
            "\u001b[91m\u001b[1m│ \u001b[22m\u001b[39m   \u001b[90m    @\u001b[39m \u001b[90mBase\u001b[39m \u001b[90m./\u001b[39m\u001b[90m\u001b[4mloading.jl:2790\u001b[24m\u001b[39m\n",
            "\u001b[91m\u001b[1m│ \u001b[22m\u001b[39m    [25] top-level scope\n",
            "\u001b[91m\u001b[1m│ \u001b[22m\u001b[39m   \u001b[90m    @\u001b[39m \u001b[90m\u001b[4mstdin:5\u001b[24m\u001b[39m\n",
            "\u001b[91m\u001b[1m│ \u001b[22m\u001b[39m    [26] \u001b[0m\u001b[1meval\u001b[22m\n",
            "\u001b[91m\u001b[1m│ \u001b[22m\u001b[39m   \u001b[90m    @\u001b[39m \u001b[90m./\u001b[39m\u001b[90m\u001b[4mboot.jl:430\u001b[24m\u001b[39m\u001b[90m [inlined]\u001b[39m\n",
            "\u001b[91m\u001b[1m│ \u001b[22m\u001b[39m    [27] \u001b[0m\u001b[1minclude_string\u001b[22m\u001b[0m\u001b[1m(\u001b[22m\u001b[90mmapexpr\u001b[39m::\u001b[0mtypeof(identity), \u001b[90mmod\u001b[39m::\u001b[0mModule, \u001b[90mcode\u001b[39m::\u001b[0mString, \u001b[90mfilename\u001b[39m::\u001b[0mString\u001b[0m\u001b[1m)\u001b[22m\n",
            "\u001b[91m\u001b[1m│ \u001b[22m\u001b[39m   \u001b[90m    @\u001b[39m \u001b[90mBase\u001b[39m \u001b[90m./\u001b[39m\u001b[90m\u001b[4mloading.jl:2643\u001b[24m\u001b[39m\n",
            "\u001b[91m\u001b[1m│ \u001b[22m\u001b[39m    [28] \u001b[0m\u001b[1minclude_string\u001b[22m\n",
            "\u001b[91m\u001b[1m│ \u001b[22m\u001b[39m   \u001b[90m    @\u001b[39m \u001b[90m./\u001b[39m\u001b[90m\u001b[4mloading.jl:2653\u001b[24m\u001b[39m\u001b[90m [inlined]\u001b[39m\n",
            "\u001b[91m\u001b[1m│ \u001b[22m\u001b[39m    [29] \u001b[0m\u001b[1mexec_options\u001b[22m\u001b[0m\u001b[1m(\u001b[22m\u001b[90mopts\u001b[39m::\u001b[0mBase.JLOptions\u001b[0m\u001b[1m)\u001b[22m\n",
            "\u001b[91m\u001b[1m│ \u001b[22m\u001b[39m   \u001b[90m    @\u001b[39m \u001b[90mBase\u001b[39m \u001b[90m./\u001b[39m\u001b[90m\u001b[4mclient.jl:321\u001b[24m\u001b[39m\n",
            "\u001b[91m\u001b[1m│ \u001b[22m\u001b[39m    [30] \u001b[0m\u001b[1m_start\u001b[22m\u001b[0m\u001b[1m(\u001b[22m\u001b[0m\u001b[1m)\u001b[22m\n",
            "\u001b[91m\u001b[1m│ \u001b[22m\u001b[39m   \u001b[90m    @\u001b[39m \u001b[90mBase\u001b[39m \u001b[90m./\u001b[39m\u001b[90m\u001b[4mclient.jl:531\u001b[24m\u001b[39m\n",
            "\u001b[91m\u001b[1m└ \u001b[22m\u001b[39m\u001b[90m@ Base loading.jl:1506\u001b[39m\n",
            "\u001b[33m\u001b[1m┌ \u001b[22m\u001b[39m\u001b[33m\u001b[1mWarning: \u001b[22m\u001b[39mCircular dependency detected. Precompilation will be skipped for:\n",
            "\u001b[33m\u001b[1m│ \u001b[22m\u001b[39m  Base.PkgId(Base.UUID(\"85068d23-b5fb-53f1-8204-05c2aba6942f\"), \"SparseArraysExt\")\n",
            "\u001b[33m\u001b[1m│ \u001b[22m\u001b[39m  Base.PkgId(Base.UUID(\"13011619-4c7c-5ef0-948f-5fc81565cd05\"), \"AtomixCUDAExt\")\n",
            "\u001b[33m\u001b[1m│ \u001b[22m\u001b[39m  Base.PkgId(Base.UUID(\"66d79d19-2cc4-5b0b-ac7a-b340256d1ecd\"), \"LinearAlgebraExt\")\n",
            "\u001b[33m\u001b[1m│ \u001b[22m\u001b[39m  Base.PkgId(Base.UUID(\"0c68f7d7-f131-5f86-a1c3-88cf8149b2d7\"), \"GPUArrays\")\n",
            "\u001b[33m\u001b[1m│ \u001b[22m\u001b[39m  Base.PkgId(Base.UUID(\"63c18a36-062a-441e-b654-da1e3ab1ce7c\"), \"KernelAbstractions\")\n",
            "\u001b[33m\u001b[1m│ \u001b[22m\u001b[39m  Base.PkgId(Base.UUID(\"052768ef-5323-5732-b1bb-66c8b64840ba\"), \"CUDA\")\n",
            "\u001b[33m\u001b[1m└ \u001b[22m\u001b[39m\u001b[90m@ Base.Precompilation precompilation.jl:511\u001b[39m\n",
            "\u001b[36m\u001b[1m[ \u001b[22m\u001b[39m\u001b[36m\u001b[1mInfo: \u001b[22m\u001b[39mPrecompiling AtomixCUDAExt [13011619-4c7c-5ef0-948f-5fc81565cd05] \n"
          ]
        },
        {
          "output_type": "stream",
          "name": "stdout",
          "text": [
            "The GPU device is:CuDevice(0)"
          ]
        }
      ]
    },
    {
      "cell_type": "code",
      "metadata": {
        "id": "q7Mbcm00lnxO",
        "colab": {
          "base_uri": "https://localhost:8080/"
        },
        "outputId": "6da6ba9d-ad01-4556-d7be-84bb4c456f12"
      },
      "source": [
        "mcpu = rand(2^10, 2^10)\n",
        "@benchmark mcpu*mcpu"
      ],
      "execution_count": 6,
      "outputs": [
        {
          "output_type": "execute_result",
          "data": {
            "text/plain": [
              "BenchmarkTools.Trial: 129 samples with 1 evaluation per sample.\n",
              " Range \u001b[90m(\u001b[39m\u001b[36m\u001b[1mmin\u001b[22m\u001b[39m … \u001b[35mmax\u001b[39m\u001b[90m):  \u001b[39m\u001b[36m\u001b[1m32.449 ms\u001b[22m\u001b[39m … \u001b[35m65.802 ms\u001b[39m  \u001b[90m┊\u001b[39m GC \u001b[90m(\u001b[39mmin … max\u001b[90m): \u001b[39m0.00% … 2.28%\n",
              " Time  \u001b[90m(\u001b[39m\u001b[34m\u001b[1mmedian\u001b[22m\u001b[39m\u001b[90m):     \u001b[39m\u001b[34m\u001b[1m36.750 ms              \u001b[22m\u001b[39m\u001b[90m┊\u001b[39m GC \u001b[90m(\u001b[39mmedian\u001b[90m):    \u001b[39m0.00%\n",
              " Time  \u001b[90m(\u001b[39m\u001b[32m\u001b[1mmean\u001b[22m\u001b[39m ± \u001b[32mσ\u001b[39m\u001b[90m):   \u001b[39m\u001b[32m\u001b[1m38.932 ms\u001b[22m\u001b[39m ± \u001b[32m 7.098 ms\u001b[39m  \u001b[90m┊\u001b[39m GC \u001b[90m(\u001b[39mmean ± σ\u001b[90m):  \u001b[39m1.96% ± 2.88%\n",
              "\n",
              "  \u001b[39m \u001b[39m \u001b[39m \u001b[39m \u001b[39m▁\u001b[39m \u001b[39m█\u001b[39m▂\u001b[34m▂\u001b[39m\u001b[39m▄\u001b[39m \u001b[39m▃\u001b[39m \u001b[32m \u001b[39m\u001b[39m \u001b[39m \u001b[39m \u001b[39m \u001b[39m \u001b[39m \u001b[39m \u001b[39m \u001b[39m \u001b[39m \u001b[39m \u001b[39m \u001b[39m \u001b[39m \u001b[39m \u001b[39m \u001b[39m \u001b[39m \u001b[39m \u001b[39m \u001b[39m \u001b[39m \u001b[39m \u001b[39m \u001b[39m \u001b[39m \u001b[39m \u001b[39m \u001b[39m \u001b[39m \u001b[39m \u001b[39m \u001b[39m \u001b[39m \u001b[39m \u001b[39m \u001b[39m \u001b[39m \u001b[39m \u001b[39m \u001b[39m \u001b[39m \u001b[39m \u001b[39m \u001b[39m \u001b[39m \u001b[39m \n",
              "  \u001b[39m▆\u001b[39m▆\u001b[39m▆\u001b[39m█\u001b[39m█\u001b[39m█\u001b[39m█\u001b[39m█\u001b[34m█\u001b[39m\u001b[39m█\u001b[39m▆\u001b[39m█\u001b[39m▆\u001b[32m▄\u001b[39m\u001b[39m▅\u001b[39m▅\u001b[39m▅\u001b[39m▁\u001b[39m▅\u001b[39m▃\u001b[39m▃\u001b[39m▃\u001b[39m▁\u001b[39m▁\u001b[39m▁\u001b[39m▄\u001b[39m▁\u001b[39m▃\u001b[39m▁\u001b[39m▁\u001b[39m▁\u001b[39m▁\u001b[39m▁\u001b[39m▁\u001b[39m▁\u001b[39m▁\u001b[39m▁\u001b[39m▁\u001b[39m▁\u001b[39m▃\u001b[39m▁\u001b[39m▁\u001b[39m▁\u001b[39m▁\u001b[39m▁\u001b[39m▁\u001b[39m▁\u001b[39m▁\u001b[39m▃\u001b[39m▁\u001b[39m▃\u001b[39m▁\u001b[39m▁\u001b[39m▁\u001b[39m▁\u001b[39m▁\u001b[39m▆\u001b[39m▄\u001b[39m▃\u001b[39m \u001b[39m▃\n",
              "  32.4 ms\u001b[90m         Histogram: frequency by time\u001b[39m        62.3 ms \u001b[0m\u001b[1m<\u001b[22m\n",
              "\n",
              " Memory estimate\u001b[90m: \u001b[39m\u001b[33m8.00 MiB\u001b[39m, allocs estimate\u001b[90m: \u001b[39m\u001b[33m3\u001b[39m."
            ]
          },
          "metadata": {},
          "execution_count": 6
        }
      ]
    },
    {
      "cell_type": "code",
      "metadata": {
        "id": "RMHRbF5J-vmW",
        "colab": {
          "base_uri": "https://localhost:8080/"
        },
        "outputId": "cc0db56f-c868-4ab7-a5be-259df26a9422"
      },
      "source": [
        "println(\"The CuArrray operation should be much faster (~100 times) than the CPU implemenation.\")\n",
        "mgpu = cu(mcpu)\n",
        "@benchmark CUDA.@sync mgpu*mgpu"
      ],
      "execution_count": 7,
      "outputs": [
        {
          "output_type": "stream",
          "name": "stdout",
          "text": [
            "The CuArrray operation should be much faster (~100 times) than the CPU implemenation.\n"
          ]
        },
        {
          "output_type": "execute_result",
          "data": {
            "text/plain": [
              "BenchmarkTools.Trial: 8705 samples with 1 evaluation per sample.\n",
              " Range \u001b[90m(\u001b[39m\u001b[36m\u001b[1mmin\u001b[22m\u001b[39m … \u001b[35mmax\u001b[39m\u001b[90m):  \u001b[39m\u001b[36m\u001b[1m401.572 μs\u001b[22m\u001b[39m … \u001b[35m 11.450 ms\u001b[39m  \u001b[90m┊\u001b[39m GC \u001b[90m(\u001b[39mmin … max\u001b[90m): \u001b[39m0.00% … 0.00%\n",
              " Time  \u001b[90m(\u001b[39m\u001b[34m\u001b[1mmedian\u001b[22m\u001b[39m\u001b[90m):     \u001b[39m\u001b[34m\u001b[1m554.801 μs               \u001b[22m\u001b[39m\u001b[90m┊\u001b[39m GC \u001b[90m(\u001b[39mmedian\u001b[90m):    \u001b[39m0.00%\n",
              " Time  \u001b[90m(\u001b[39m\u001b[32m\u001b[1mmean\u001b[22m\u001b[39m ± \u001b[32mσ\u001b[39m\u001b[90m):   \u001b[39m\u001b[32m\u001b[1m566.451 μs\u001b[22m\u001b[39m ± \u001b[32m242.675 μs\u001b[39m  \u001b[90m┊\u001b[39m GC \u001b[90m(\u001b[39mmean ± σ\u001b[90m):  \u001b[39m0.27% ± 0.99%\n",
              "\n",
              "  \u001b[39m \u001b[39m \u001b[39m \u001b[39m \u001b[39m \u001b[39m \u001b[39m \u001b[39m \u001b[39m \u001b[39m \u001b[39m \u001b[39m \u001b[39m \u001b[39m \u001b[39m \u001b[39m \u001b[39m \u001b[39m \u001b[39m \u001b[39m \u001b[39m \u001b[39m \u001b[39m \u001b[39m \u001b[39m \u001b[39m \u001b[39m \u001b[39m \u001b[39m \u001b[39m \u001b[39m \u001b[39m█\u001b[39m▅\u001b[34m▂\u001b[39m\u001b[39m▅\u001b[32m \u001b[39m\u001b[39m \u001b[39m \u001b[39m \u001b[39m \u001b[39m \u001b[39m \u001b[39m \u001b[39m \u001b[39m \u001b[39m \u001b[39m \u001b[39m \u001b[39m \u001b[39m \u001b[39m \u001b[39m \u001b[39m \u001b[39m \u001b[39m \u001b[39m \u001b[39m \u001b[39m \u001b[39m \u001b[39m \u001b[39m \u001b[39m \u001b[39m \n",
              "  \u001b[39m▂\u001b[39m▁\u001b[39m▂\u001b[39m▁\u001b[39m▂\u001b[39m▂\u001b[39m▂\u001b[39m▂\u001b[39m▂\u001b[39m▂\u001b[39m▂\u001b[39m▂\u001b[39m▂\u001b[39m▂\u001b[39m▂\u001b[39m▁\u001b[39m▂\u001b[39m▂\u001b[39m▂\u001b[39m▂\u001b[39m▂\u001b[39m▂\u001b[39m▂\u001b[39m▂\u001b[39m▂\u001b[39m▃\u001b[39m▃\u001b[39m▃\u001b[39m▄\u001b[39m▄\u001b[39m▆\u001b[39m█\u001b[39m█\u001b[34m█\u001b[39m\u001b[39m█\u001b[32m▇\u001b[39m\u001b[39m▆\u001b[39m▅\u001b[39m▄\u001b[39m▃\u001b[39m▃\u001b[39m▂\u001b[39m▂\u001b[39m▂\u001b[39m▂\u001b[39m▂\u001b[39m▂\u001b[39m▂\u001b[39m▂\u001b[39m▂\u001b[39m▂\u001b[39m▂\u001b[39m▂\u001b[39m▂\u001b[39m▂\u001b[39m▂\u001b[39m▂\u001b[39m▂\u001b[39m▂\u001b[39m▂\u001b[39m▂\u001b[39m \u001b[39m▃\n",
              "  402 μs\u001b[90m           Histogram: frequency by time\u001b[39m          686 μs \u001b[0m\u001b[1m<\u001b[22m\n",
              "\n",
              " Memory estimate\u001b[90m: \u001b[39m\u001b[33m1.22 KiB\u001b[39m, allocs estimate\u001b[90m: \u001b[39m\u001b[33m53\u001b[39m."
            ]
          },
          "metadata": {},
          "execution_count": 7
        }
      ]
    },
    {
      "cell_type": "code",
      "source": [
        "a = 10\n",
        "b = 20\n",
        "c = a + b"
      ],
      "metadata": {
        "id": "OVr67QFojFhW",
        "outputId": "6befa379-0ddb-443d-8854-e68a073af267",
        "colab": {
          "base_uri": "https://localhost:8080/"
        }
      },
      "execution_count": 8,
      "outputs": [
        {
          "output_type": "execute_result",
          "data": {
            "text/plain": [
              "30"
            ]
          },
          "metadata": {},
          "execution_count": 8
        }
      ]
    },
    {
      "cell_type": "code",
      "source": [
        "function add(a,b)\n",
        "  return a+b\n",
        "end"
      ],
      "metadata": {
        "id": "-W0Q8adAj23X",
        "outputId": "9236cdff-a992-4873-c801-3c9b09b9b733",
        "colab": {
          "base_uri": "https://localhost:8080/"
        }
      },
      "execution_count": 9,
      "outputs": [
        {
          "output_type": "execute_result",
          "data": {
            "text/plain": [
              "add (generic function with 1 method)"
            ]
          },
          "metadata": {},
          "execution_count": 9
        }
      ]
    },
    {
      "cell_type": "code",
      "source": [
        "c = add(a,b)"
      ],
      "metadata": {
        "id": "fT2pBj52j9C2",
        "outputId": "a14a7d25-6146-4c23-906c-4f4e4ce86737",
        "colab": {
          "base_uri": "https://localhost:8080/"
        }
      },
      "execution_count": 10,
      "outputs": [
        {
          "output_type": "execute_result",
          "data": {
            "text/plain": [
              "30"
            ]
          },
          "metadata": {},
          "execution_count": 10
        }
      ]
    },
    {
      "cell_type": "code",
      "source": [
        "x = 3.1416\n",
        "y = 1.4142\n",
        "z = add(x,y)"
      ],
      "metadata": {
        "id": "5XqaKA8bkA1G",
        "outputId": "88c4b4a5-61e4-42ee-ae6a-31f0c86ff2e5",
        "colab": {
          "base_uri": "https://localhost:8080/"
        }
      },
      "execution_count": 11,
      "outputs": [
        {
          "output_type": "execute_result",
          "data": {
            "text/plain": [
              "4.5558"
            ]
          },
          "metadata": {},
          "execution_count": 11
        }
      ]
    },
    {
      "cell_type": "markdown",
      "source": [
        "Now some examples of how to use the CUDA package in Julia\n",
        "\n",
        "Taken from: https://cuda.juliagpu.org/stable/tutorials/introduction/"
      ],
      "metadata": {
        "id": "wcQpUdivalmP"
      }
    },
    {
      "cell_type": "code",
      "source": [
        "using CUDA\n",
        "N = 2^20\n",
        "x_d = CUDA.fill(1.0f0, N)  # a vector stored on the GPU filled with 1.0 (Float32)\n",
        "y_d = CUDA.fill(2.0f0, N)  # a vector stored on the GPU filled with 2.0\n",
        "\n",
        "y_d .+= x_d             # increment each element of y with the corresponding element of x"
      ],
      "metadata": {
        "id": "rmiGeH9ZarBn",
        "outputId": "9c02b243-9ed7-4101-c3ad-c2fa9de6095c",
        "colab": {
          "base_uri": "https://localhost:8080/"
        }
      },
      "execution_count": 15,
      "outputs": [
        {
          "output_type": "execute_result",
          "data": {
            "text/plain": [
              "1048576-element CuArray{Float32, 1, CUDA.DeviceMemory}:\n",
              " 3.0\n",
              " 3.0\n",
              " 3.0\n",
              " 3.0\n",
              " 3.0\n",
              " 3.0\n",
              " 3.0\n",
              " 3.0\n",
              " 3.0\n",
              " 3.0\n",
              " 3.0\n",
              " 3.0\n",
              " 3.0\n",
              " ⋮\n",
              " 3.0\n",
              " 3.0\n",
              " 3.0\n",
              " 3.0\n",
              " 3.0\n",
              " 3.0\n",
              " 3.0\n",
              " 3.0\n",
              " 3.0\n",
              " 3.0\n",
              " 3.0\n",
              " 3.0"
            ]
          },
          "metadata": {},
          "execution_count": 15
        }
      ]
    },
    {
      "cell_type": "code",
      "source": [
        "using Test\n",
        "@test all(Array(y_d) .== 3.0f0)"
      ],
      "metadata": {
        "id": "nAPi8Qh5bO5n",
        "outputId": "b542b88f-250b-461c-e097-b758b692dc56",
        "colab": {
          "base_uri": "https://localhost:8080/"
        }
      },
      "execution_count": 16,
      "outputs": [
        {
          "output_type": "execute_result",
          "data": {
            "text/plain": [
              "\u001b[32m\u001b[1mTest Passed\u001b[22m\u001b[39m"
            ]
          },
          "metadata": {},
          "execution_count": 16
        }
      ]
    },
    {
      "cell_type": "markdown",
      "source": [
        "Let's define a function."
      ],
      "metadata": {
        "id": "9bILDQf5bouu"
      }
    },
    {
      "cell_type": "code",
      "source": [
        "function add_broadcast!(y, x)\n",
        "    CUDA.@sync y .+= x\n",
        "    return\n",
        "end"
      ],
      "metadata": {
        "id": "m39Eb4CnbmPf",
        "outputId": "7f830c53-25e2-4345-c4b4-ec5a20f872e0",
        "colab": {
          "base_uri": "https://localhost:8080/"
        }
      },
      "execution_count": 17,
      "outputs": [
        {
          "output_type": "execute_result",
          "data": {
            "text/plain": [
              "add_broadcast! (generic function with 1 method)"
            ]
          },
          "metadata": {},
          "execution_count": 17
        }
      ]
    },
    {
      "cell_type": "markdown",
      "source": [
        "Now let's measure how long does it take to execute the function."
      ],
      "metadata": {
        "id": "AVWmh9DIbz9e"
      }
    },
    {
      "cell_type": "code",
      "source": [
        "@btime add_broadcast!($y_d, $x_d)"
      ],
      "metadata": {
        "id": "jg4St_kIbvsn",
        "outputId": "4ae6e39e-cf81-42b6-fd35-883c52003fdd",
        "colab": {
          "base_uri": "https://localhost:8080/"
        }
      },
      "execution_count": 18,
      "outputs": [
        {
          "output_type": "stream",
          "name": "stdout",
          "text": [
            "  67.102 μs (97 allocations: 2.42 KiB)\n"
          ]
        }
      ]
    },
    {
      "cell_type": "markdown",
      "source": [
        "Writing your first GPU kernel\n",
        "Using the high-level GPU array functionality made it easy to perform this computation on the GPU. However, we didn't learn about what's going on under the hood, and that's the main goal of this tutorial. So let's implement the same functionality with a GPU kernel:"
      ],
      "metadata": {
        "id": "8uIE9F61cAmn"
      }
    },
    {
      "cell_type": "code",
      "source": [
        "function gpu_add1!(y, x)\n",
        "    for i = 1:length(y)\n",
        "        @inbounds y[i] += x[i]\n",
        "    end\n",
        "    return nothing\n",
        "end\n",
        "\n",
        "fill!(y_d, 2)\n",
        "@cuda gpu_add1!(y_d, x_d)\n",
        "@test all(Array(y_d) .== 3.0f0)"
      ],
      "metadata": {
        "id": "SS-xrJH1cEav",
        "outputId": "0873fb5d-1f6e-4299-a35f-d0a557311b84",
        "colab": {
          "base_uri": "https://localhost:8080/"
        }
      },
      "execution_count": 19,
      "outputs": [
        {
          "output_type": "execute_result",
          "data": {
            "text/plain": [
              "\u001b[32m\u001b[1mTest Passed\u001b[22m\u001b[39m"
            ]
          },
          "metadata": {},
          "execution_count": 19
        }
      ]
    },
    {
      "cell_type": "markdown",
      "source": [
        "Aside from using the CuArrays x_d and y_d, the only GPU-specific part of this is the kernel launch via @cuda. The first time you issue this @cuda statement, it will compile the kernel (gpu_add1!) for execution on the GPU. Once compiled, future invocations are fast. You can see what @cuda expands to using ?@cuda from the Julia prompt.\n",
        "\n",
        "Let's benchmark this:"
      ],
      "metadata": {
        "id": "gYwe2LrdcRnP"
      }
    },
    {
      "cell_type": "code",
      "source": [
        "function bench_gpu1!(y, x)\n",
        "    CUDA.@sync begin\n",
        "        @cuda gpu_add1!(y, x)\n",
        "    end\n",
        "end"
      ],
      "metadata": {
        "id": "NJolUIXScVEm",
        "outputId": "b90ec64a-eb25-4885-afe6-6758ac255660",
        "colab": {
          "base_uri": "https://localhost:8080/"
        }
      },
      "execution_count": 20,
      "outputs": [
        {
          "output_type": "execute_result",
          "data": {
            "text/plain": [
              "bench_gpu1! (generic function with 1 method)"
            ]
          },
          "metadata": {},
          "execution_count": 20
        }
      ]
    },
    {
      "cell_type": "code",
      "source": [
        "@btime bench_gpu1!($y_d, $x_d)"
      ],
      "metadata": {
        "id": "OH3ss6lWcaaG",
        "outputId": "99ba2d72-fad3-4521-a4c7-81fa9191afde",
        "colab": {
          "base_uri": "https://localhost:8080/"
        }
      },
      "execution_count": 21,
      "outputs": [
        {
          "output_type": "stream",
          "name": "stdout",
          "text": [
            "  54.061 ms (13 allocations: 256 bytes)\n"
          ]
        },
        {
          "output_type": "execute_result",
          "data": {
            "text/plain": [
              "CUDA.HostKernel for gpu_add1!(CuDeviceVector{Float32, 1}, CuDeviceVector{Float32, 1})"
            ]
          },
          "metadata": {},
          "execution_count": 21
        }
      ]
    },
    {
      "cell_type": "markdown",
      "source": [
        "That's a lot slower than the version above based on broadcasting. What happened?\n",
        "\n",
        "Profiling\n",
        "\n",
        "When you don't get the performance you expect, usually your first step should be to profile the code and see where it's spending its time:"
      ],
      "metadata": {
        "id": "h1PuPJr2cmPP"
      }
    },
    {
      "cell_type": "code",
      "source": [
        "bench_gpu1!(y_d, x_d)  # run it once to force compilation\n",
        "CUDA.@profile bench_gpu1!(y_d, x_d)"
      ],
      "metadata": {
        "id": "jekclWKtcwJv",
        "outputId": "d24668cf-3e9d-4053-de2b-001ec29d6a7e",
        "colab": {
          "base_uri": "https://localhost:8080/"
        }
      },
      "execution_count": 22,
      "outputs": [
        {
          "output_type": "execute_result",
          "data": {
            "text/plain": [
              "Profiler ran for 120.83 ms, capturing 793 events.\n",
              "\n",
              "Host-side activity: calling CUDA APIs took 120.03 ms (99.34% of the trace)\n",
              "┌──────────┬────────────┬───────┬─────────────────────┐\n",
              "│\u001b[1m Time (%) \u001b[0m│\u001b[1m Total time \u001b[0m│\u001b[1m Calls \u001b[0m│\u001b[1m Name                \u001b[0m│\n",
              "├──────────┼────────────┼───────┼─────────────────────┤\n",
              "│   99.34% │\u001b[31m  120.03 ms \u001b[0m│     1 │\u001b[1m cuStreamSynchronize \u001b[0m│\n",
              "│    0.11% │  136.85 µs │     1 │ cuLaunchKernel      │\n",
              "└──────────┴────────────┴───────┴─────────────────────┘\n",
              "\n",
              "Device-side activity: GPU was busy for 120.67 ms (99.87% of the trace)\n",
              "┌──────────┬────────────┬───────┬───────────────────────────────────────────────────────────────────────┐\n",
              "│\u001b[1m Time (%) \u001b[0m│\u001b[1m Total time \u001b[0m│\u001b[1m Calls \u001b[0m│\u001b[1m Name                                                                  \u001b[0m│\n",
              "├──────────┼────────────┼───────┼───────────────────────────────────────────────────────────────────────┤\n",
              "│   99.87% │\u001b[31m  120.67 ms \u001b[0m│     1 │\u001b[1m gpu_add1_(CuDeviceArray<Float32, 1, 1>, CuDeviceArray<Float32, 1, 1>) \u001b[0m│\n",
              "└──────────┴────────────┴───────┴───────────────────────────────────────────────────────────────────────┘\n"
            ]
          },
          "metadata": {},
          "execution_count": 22
        }
      ]
    },
    {
      "cell_type": "markdown",
      "source": [
        "For further insight, run the profiling with the option trace=true"
      ],
      "metadata": {
        "id": "kCG_3C2PdAiu"
      }
    },
    {
      "cell_type": "code",
      "source": [
        "CUDA.@profile trace=true bench_gpu1!(y_d, x_d)"
      ],
      "metadata": {
        "id": "8-I59CuzdDbm",
        "outputId": "0935aa6e-88c4-494c-911d-b46b97baf0b1",
        "colab": {
          "base_uri": "https://localhost:8080/"
        }
      },
      "execution_count": 23,
      "outputs": [
        {
          "output_type": "execute_result",
          "data": {
            "text/plain": [
              "Profiler ran for 120.81 ms, capturing 793 events.\n",
              "\n",
              "Host-side activity: calling CUDA APIs took 120.17 ms (99.47% of the trace)\n",
              "┌─────┬───────────┬───────────┬────────┬─────────────────────┐\n",
              "│\u001b[1m  ID \u001b[0m│\u001b[1m     Start \u001b[0m│\u001b[1m      Time \u001b[0m│\u001b[1m Thread \u001b[0m│\u001b[1m Name                \u001b[0m│\n",
              "├─────┼───────────┼───────────┼────────┼─────────────────────┤\n",
              "│  13 │  37.19 µs │  33.38 µs │      1 │ cuLaunchKernel      │\n",
              "│ 789 │ 573.64 µs │\u001b[31m 120.17 ms \u001b[0m│      2 │\u001b[1m cuStreamSynchronize \u001b[0m│\n",
              "└─────┴───────────┴───────────┴────────┴─────────────────────┘\n",
              "\n",
              "Device-side activity: GPU was busy for 120.66 ms (99.88% of the trace)\n",
              "┌────┬──────────┬───────────┬─────────┬────────┬──────┬───────────────────────────────────────────────────────────────────────┐\n",
              "│\u001b[1m ID \u001b[0m│\u001b[1m    Start \u001b[0m│\u001b[1m      Time \u001b[0m│\u001b[1m Threads \u001b[0m│\u001b[1m Blocks \u001b[0m│\u001b[1m Regs \u001b[0m│\u001b[1m Name                                                                  \u001b[0m│\n",
              "├────┼──────────┼───────────┼─────────┼────────┼──────┼───────────────────────────────────────────────────────────────────────┤\n",
              "│ 13 │ 69.62 µs │\u001b[31m 120.66 ms \u001b[0m│       1 │      1 │   16 │\u001b[1m gpu_add1_(CuDeviceArray<Float32, 1, 1>, CuDeviceArray<Float32, 1, 1>) \u001b[0m│\n",
              "└────┴──────────┴───────────┴─────────┴────────┴──────┴───────────────────────────────────────────────────────────────────────┘\n"
            ]
          },
          "metadata": {},
          "execution_count": 23
        }
      ]
    },
    {
      "cell_type": "markdown",
      "source": [
        "# Writing a parallel GPU kernel\n",
        "To speed up the kernel, we want to parallelize it, which means assigning different tasks to different threads. To facilitate the assignment of work, each CUDA thread gets access to variables that indicate its own unique identity, much as Threads.threadid() does for CPU threads. The CUDA analogs of threadid and nthreads are called threadIdx and blockDim, respectively; one difference is that these return a 3-dimensional structure with fields x, y, and z to simplify cartesian indexing for up to 3-dimensional arrays. Consequently we can assign unique work in the following way:"
      ],
      "metadata": {
        "id": "2aWGkT5ZdXVP"
      }
    },
    {
      "cell_type": "code",
      "source": [
        "function gpu_add2!(y, x)\n",
        "    index = threadIdx().x    # this example only requires linear indexing, so just use `x`\n",
        "    stride = blockDim().x\n",
        "    for i = index:stride:length(y)\n",
        "        @inbounds y[i] += x[i]\n",
        "    end\n",
        "    return nothing\n",
        "end\n",
        "\n",
        "fill!(y_d, 2)\n",
        "@cuda threads=256 gpu_add2!(y_d, x_d)\n",
        "@test all(Array(y_d) .== 3.0f0)"
      ],
      "metadata": {
        "id": "ZccMKoFvdfL3",
        "outputId": "527c9dd5-bd02-4e8c-b6da-cd68ef7baff3",
        "colab": {
          "base_uri": "https://localhost:8080/"
        }
      },
      "execution_count": 24,
      "outputs": [
        {
          "output_type": "execute_result",
          "data": {
            "text/plain": [
              "\u001b[32m\u001b[1mTest Passed\u001b[22m\u001b[39m"
            ]
          },
          "metadata": {},
          "execution_count": 24
        }
      ]
    },
    {
      "cell_type": "markdown",
      "source": [
        "Note the threads=256 here, which divides the work among 256 threads numbered in a linear pattern. (For a two-dimensional array, we might have used threads=(16, 16) and then both x and y would be relevant.)\n",
        "\n",
        "Now let's try benchmarking it:"
      ],
      "metadata": {
        "id": "AQt3hiwNdkHH"
      }
    },
    {
      "cell_type": "code",
      "source": [
        "function bench_gpu2!(y, x)\n",
        "    CUDA.@sync begin\n",
        "        @cuda threads=256 gpu_add2!(y, x)\n",
        "    end\n",
        "end"
      ],
      "metadata": {
        "id": "bzve0RwEdmp-",
        "outputId": "3c265cf3-25c3-4d28-b8d5-708219c445bd",
        "colab": {
          "base_uri": "https://localhost:8080/"
        }
      },
      "execution_count": 25,
      "outputs": [
        {
          "output_type": "execute_result",
          "data": {
            "text/plain": [
              "bench_gpu2! (generic function with 1 method)"
            ]
          },
          "metadata": {},
          "execution_count": 25
        }
      ]
    },
    {
      "cell_type": "code",
      "source": [
        "@btime bench_gpu2!($y_d, $x_d)"
      ],
      "metadata": {
        "id": "Y3nVd700dsAe",
        "outputId": "4aea8f0f-e8b2-4973-ab1e-89a4dde918d2",
        "colab": {
          "base_uri": "https://localhost:8080/"
        }
      },
      "execution_count": 26,
      "outputs": [
        {
          "output_type": "stream",
          "name": "stdout",
          "text": [
            "  1.458 ms (13 allocations: 256 bytes)\n"
          ]
        },
        {
          "output_type": "execute_result",
          "data": {
            "text/plain": [
              "CUDA.HostKernel for gpu_add2!(CuDeviceVector{Float32, 1}, CuDeviceVector{Float32, 1})"
            ]
          },
          "metadata": {},
          "execution_count": 26
        }
      ]
    },
    {
      "cell_type": "markdown",
      "source": [
        "Much better!\n",
        "\n",
        "But obviously we still have a ways to go to match the initial broadcasting result. To do even better, we need to parallelize more. GPUs have a limited number of threads they can run on a single streaming multiprocessor (SM), but they also have multiple SMs. To take advantage of them all, we need to run a kernel with multiple blocks. We'll divide up the work like this:\n",
        "\n",
        "![intro1.png](data:image/png;base64,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)"
      ],
      "metadata": {
        "id": "ovS-0DsxeIhG"
      }
    },
    {
      "cell_type": "markdown",
      "source": [
        "This diagram was borrowed from a description of the C/C++ library; in Julia, threads and blocks begin numbering with 1 instead of 0. In this diagram, the 4096 blocks of 256 threads (making 1048576 = 2^20 threads) ensures that each thread increments just a single entry; however, to ensure that arrays of arbitrary size can be handled, let's still use a loop:"
      ],
      "metadata": {
        "id": "kmAsQOgIeWge"
      }
    },
    {
      "cell_type": "code",
      "source": [
        "function gpu_add3!(y, x)\n",
        "    index = (blockIdx().x - 1) * blockDim().x + threadIdx().x\n",
        "    stride = gridDim().x * blockDim().x\n",
        "    for i = index:stride:length(y)\n",
        "        @inbounds y[i] += x[i]\n",
        "    end\n",
        "    return\n",
        "end\n",
        "\n",
        "numblocks = ceil(Int, N/256)\n",
        "\n",
        "fill!(y_d, 2)\n",
        "@cuda threads=256 blocks=numblocks gpu_add3!(y_d, x_d)\n",
        "@test all(Array(y_d) .== 3.0f0)"
      ],
      "metadata": {
        "id": "GyOyDSw4eXt-",
        "outputId": "74b4bc72-c4b2-4f47-ba6d-d82ad7c05e26",
        "colab": {
          "base_uri": "https://localhost:8080/"
        }
      },
      "execution_count": 27,
      "outputs": [
        {
          "output_type": "execute_result",
          "data": {
            "text/plain": [
              "\u001b[32m\u001b[1mTest Passed\u001b[22m\u001b[39m"
            ]
          },
          "metadata": {},
          "execution_count": 27
        }
      ]
    },
    {
      "cell_type": "code",
      "source": [
        "function bench_gpu3!(y, x)\n",
        "    numblocks = ceil(Int, length(y)/256)\n",
        "    CUDA.@sync begin\n",
        "        @cuda threads=256 blocks=numblocks gpu_add3!(y, x)\n",
        "    end\n",
        "end"
      ],
      "metadata": {
        "id": "2TlQeMgaed9O",
        "outputId": "76c8bf10-ac59-47a5-f42b-cb5f304c7327",
        "colab": {
          "base_uri": "https://localhost:8080/"
        }
      },
      "execution_count": 28,
      "outputs": [
        {
          "output_type": "execute_result",
          "data": {
            "text/plain": [
              "bench_gpu3! (generic function with 1 method)"
            ]
          },
          "metadata": {},
          "execution_count": 28
        }
      ]
    },
    {
      "cell_type": "code",
      "source": [
        "@btime bench_gpu3!($y_d, $x_d)"
      ],
      "metadata": {
        "id": "ZcmxVISdejQn",
        "outputId": "be9dbfd9-fa7f-4fad-b18b-00d3421d4d59",
        "colab": {
          "base_uri": "https://localhost:8080/"
        }
      },
      "execution_count": 29,
      "outputs": [
        {
          "output_type": "stream",
          "name": "stdout",
          "text": [
            "  62.043 μs (12 allocations: 240 bytes)\n"
          ]
        },
        {
          "output_type": "execute_result",
          "data": {
            "text/plain": [
              "CUDA.HostKernel for gpu_add3!(CuDeviceVector{Float32, 1}, CuDeviceVector{Float32, 1})"
            ]
          },
          "metadata": {},
          "execution_count": 29
        }
      ]
    },
    {
      "cell_type": "markdown",
      "source": [
        "Finally, we've achieved the similar performance to what we got with the broadcasted version. Let's profile again to confirm this launch configuration:"
      ],
      "metadata": {
        "id": "GHu1-DWVep7-"
      }
    },
    {
      "cell_type": "code",
      "source": [
        "CUDA.@profile trace=true bench_gpu3!(y_d, x_d)"
      ],
      "metadata": {
        "id": "eVKdrke5etR2",
        "outputId": "ece4b966-18ce-4b31-e205-b83981945e91",
        "colab": {
          "base_uri": "https://localhost:8080/"
        }
      },
      "execution_count": 30,
      "outputs": [
        {
          "output_type": "execute_result",
          "data": {
            "text/plain": [
              "Profiler ran for 201.7 µs, capturing 123 events.\n",
              "\n",
              "Host-side activity: calling CUDA APIs took 78.2 µs (38.77% of the trace)\n",
              "┌─────┬───────────┬──────────┬─────────────────────┐\n",
              "│\u001b[1m  ID \u001b[0m│\u001b[1m     Start \u001b[0m│\u001b[1m     Time \u001b[0m│\u001b[1m Name                \u001b[0m│\n",
              "├─────┼───────────┼──────────┼─────────────────────┤\n",
              "│  13 │  61.75 µs │\u001b[31m 37.43 µs \u001b[0m│\u001b[1m cuLaunchKernel      \u001b[0m│\n",
              "│ 119 │ 189.07 µs │   3.1 µs │ cuStreamSynchronize │\n",
              "└─────┴───────────┴──────────┴─────────────────────┘\n",
              "\n",
              "Device-side activity: GPU was busy for 70.57 µs (34.99% of the trace)\n",
              "┌────┬──────────┬──────────┬─────────┬────────┬──────┬───────────────────────────────────────────────────────────────────────┐\n",
              "│\u001b[1m ID \u001b[0m│\u001b[1m    Start \u001b[0m│\u001b[1m     Time \u001b[0m│\u001b[1m Threads \u001b[0m│\u001b[1m Blocks \u001b[0m│\u001b[1m Regs \u001b[0m│\u001b[1m Name                                                                  \u001b[0m│\n",
              "├────┼──────────┼──────────┼─────────┼────────┼──────┼───────────────────────────────────────────────────────────────────────┤\n",
              "│ 13 │ 97.27 µs │\u001b[31m 70.57 µs \u001b[0m│     256 │   4096 │   44 │\u001b[1m gpu_add3_(CuDeviceArray<Float32, 1, 1>, CuDeviceArray<Float32, 1, 1>) \u001b[0m│\n",
              "└────┴──────────┴──────────┴─────────┴────────┴──────┴───────────────────────────────────────────────────────────────────────┘\n"
            ]
          },
          "metadata": {},
          "execution_count": 30
        }
      ]
    },
    {
      "cell_type": "markdown",
      "source": [
        "In the previous example, the number of threads was hard-coded to 256. This is not ideal, as using more threads generally improves performance, but the maximum number of allowed threads to launch depends on your GPU as well as on the kernel. To automatically select an appropriate number of threads, it is recommended to use the launch configuration API. This API takes a compiled (but not launched) kernel, returns a tuple with an upper bound on the number of threads, and the minimum number of blocks that are required to fully saturate the GPU:"
      ],
      "metadata": {
        "id": "8ndp6NdQe1a3"
      }
    },
    {
      "cell_type": "code",
      "source": [
        "kernel = @cuda launch=false gpu_add3!(y_d, x_d)\n",
        "config = launch_configuration(kernel.fun)\n",
        "threads = min(N, config.threads)\n",
        "blocks = cld(N, threads)"
      ],
      "metadata": {
        "id": "m03b6eDhe6Mm",
        "outputId": "a58452bd-e858-499e-d1a3-7c44c7078297",
        "colab": {
          "base_uri": "https://localhost:8080/"
        }
      },
      "execution_count": 31,
      "outputs": [
        {
          "output_type": "execute_result",
          "data": {
            "text/plain": [
              "1024"
            ]
          },
          "metadata": {},
          "execution_count": 31
        }
      ]
    },
    {
      "cell_type": "markdown",
      "source": [
        "The compiled kernel is callable, and we can pass the computed launch configuration as keyword arguments:"
      ],
      "metadata": {
        "id": "HGoS0ACye-U-"
      }
    },
    {
      "cell_type": "code",
      "source": [
        "fill!(y_d, 2)\n",
        "kernel(y_d, x_d; threads, blocks)\n",
        "@test all(Array(y_d) .== 3.0f0)"
      ],
      "metadata": {
        "id": "OJ-VaNNmfBLO",
        "outputId": "29094c2a-8bdb-4d8b-b200-7d72a4a36d63",
        "colab": {
          "base_uri": "https://localhost:8080/"
        }
      },
      "execution_count": 32,
      "outputs": [
        {
          "output_type": "execute_result",
          "data": {
            "text/plain": [
              "\u001b[32m\u001b[1mTest Passed\u001b[22m\u001b[39m"
            ]
          },
          "metadata": {},
          "execution_count": 32
        }
      ]
    },
    {
      "cell_type": "markdown",
      "source": [
        "Benchmarking:"
      ],
      "metadata": {
        "id": "wFU-b3lDfLoO"
      }
    },
    {
      "cell_type": "code",
      "source": [
        "function bench_gpu4!(y, x)\n",
        "    kernel = @cuda launch=false gpu_add3!(y, x)\n",
        "    config = launch_configuration(kernel.fun)\n",
        "    threads = min(length(y), config.threads)\n",
        "    blocks = cld(length(y), threads)\n",
        "\n",
        "    CUDA.@sync begin\n",
        "        kernel(y, x; threads, blocks)\n",
        "    end\n",
        "end"
      ],
      "metadata": {
        "id": "t-VJU8VPfNIu",
        "outputId": "d9c825e0-4cdb-47ac-e145-5fc8e637b15b",
        "colab": {
          "base_uri": "https://localhost:8080/"
        }
      },
      "execution_count": 33,
      "outputs": [
        {
          "output_type": "execute_result",
          "data": {
            "text/plain": [
              "bench_gpu4! (generic function with 1 method)"
            ]
          },
          "metadata": {},
          "execution_count": 33
        }
      ]
    },
    {
      "cell_type": "code",
      "source": [
        "@btime bench_gpu4!($y_d, $x_d)"
      ],
      "metadata": {
        "id": "6oi8pZE8fSU2",
        "outputId": "453815f3-6124-453e-fe65-8713c1071435",
        "colab": {
          "base_uri": "https://localhost:8080/"
        }
      },
      "execution_count": 34,
      "outputs": [
        {
          "output_type": "stream",
          "name": "stdout",
          "text": [
            "  66.233 μs (22 allocations: 400 bytes)\n"
          ]
        }
      ]
    }
  ]
}