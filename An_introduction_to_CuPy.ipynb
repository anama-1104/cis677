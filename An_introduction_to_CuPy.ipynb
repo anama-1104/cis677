{
  "nbformat": 4,
  "nbformat_minor": 0,
  "metadata": {
    "colab": {
      "provenance": [],
      "gpuType": "T4",
      "authorship_tag": "ABX9TyMGYjeKor3bvW4q79opN+ru",
      "include_colab_link": true
    },
    "kernelspec": {
      "name": "python3",
      "display_name": "Python 3"
    },
    "language_info": {
      "name": "python"
    },
    "accelerator": "GPU"
  },
  "cells": [
    {
      "cell_type": "markdown",
      "metadata": {
        "id": "view-in-github",
        "colab_type": "text"
      },
      "source": [
        "<a href=\"https://colab.research.google.com/github/trefftzc/cis677/blob/main/An_introduction_to_CuPy.ipynb\" target=\"_parent\"><img src=\"https://colab.research.google.com/assets/colab-badge.svg\" alt=\"Open In Colab\"/></a>"
      ]
    },
    {
      "cell_type": "markdown",
      "source": [
        "# Testing CuPy\n",
        "\n",
        "Using material from:\n",
        "\n",
        "https://docs.cupy.dev/en/stable/overview.html"
      ],
      "metadata": {
        "id": "4aqN6olEbfqf"
      }
    },
    {
      "cell_type": "code",
      "execution_count": 1,
      "metadata": {
        "id": "TeSNL5jObeZ4"
      },
      "outputs": [],
      "source": [
        "import numpy as np\n",
        "import cupy as cp"
      ]
    },
    {
      "cell_type": "code",
      "source": [
        "x_gpu = cp.array([1, 2, 3])"
      ],
      "metadata": {
        "id": "vjFGu3g5bvM9"
      },
      "execution_count": 2,
      "outputs": []
    },
    {
      "cell_type": "code",
      "source": [
        "x_cpu = np.array([1, 2, 3])\n",
        "l2_cpu = np.linalg.norm(x_cpu)"
      ],
      "metadata": {
        "id": "U02VEv92b7Sw"
      },
      "execution_count": 3,
      "outputs": []
    },
    {
      "cell_type": "code",
      "source": [
        "x_on_gpu0 = cp.array([1, 2, 3, 4, 5])"
      ],
      "metadata": {
        "id": "0Kkmb_TIcB5f"
      },
      "execution_count": 4,
      "outputs": []
    },
    {
      "cell_type": "code",
      "source": [
        "with cp.cuda.Device(0):\n",
        "   x_on_gpu1 = cp.array([1, 2, 3, 4, 5])\n",
        "x_on_gpu0 = cp.array([1, 2, 3, 4, 5])"
      ],
      "metadata": {
        "id": "gefmGeeGcK0d"
      },
      "execution_count": 6,
      "outputs": []
    },
    {
      "cell_type": "code",
      "source": [
        "with cp.cuda.Device(0):\n",
        "   x = cp.array([1, 2, 3, 4, 5])\n",
        "x.device\n"
      ],
      "metadata": {
        "colab": {
          "base_uri": "https://localhost:8080/"
        },
        "id": "slvpR0LUcbsV",
        "outputId": "c4485fbf-72eb-461d-eda0-c3c613a77707"
      },
      "execution_count": 7,
      "outputs": [
        {
          "output_type": "execute_result",
          "data": {
            "text/plain": [
              "<CUDA Device 0>"
            ]
          },
          "metadata": {},
          "execution_count": 7
        }
      ]
    },
    {
      "cell_type": "code",
      "source": [
        "x_cpu = np.array([1, 2, 3])\n",
        "x_gpu = cp.asarray(x_cpu)  # move the data to the current device."
      ],
      "metadata": {
        "id": "0uA4MZx3colt"
      },
      "execution_count": 8,
      "outputs": []
    },
    {
      "cell_type": "code",
      "source": [
        "x_gpu = cp.array([1, 2, 3])  # create an array in the current device\n",
        "x_cpu = cp.asnumpy(x_gpu)  # move the array to the host."
      ],
      "metadata": {
        "id": "8KskOp-lcw51"
      },
      "execution_count": 9,
      "outputs": []
    },
    {
      "cell_type": "code",
      "source": [
        "x_cpu = x_gpu.get()"
      ],
      "metadata": {
        "id": "IbJMML7oc4HQ"
      },
      "execution_count": 10,
      "outputs": []
    },
    {
      "cell_type": "code",
      "source": [
        "# Stable implementation of log(1 + exp(x))\n",
        "def softplus(x):\n",
        "    xp = cp.get_array_module(x)  # 'xp' is a standard usage in the community\n",
        "    print(\"Using:\", xp.__name__)\n",
        "    return xp.maximum(0, x) + xp.log1p(xp.exp(-abs(x)))"
      ],
      "metadata": {
        "id": "S3RMS_8ydAgG"
      },
      "execution_count": 11,
      "outputs": []
    },
    {
      "cell_type": "code",
      "source": [
        "x_cpu = np.array([1, 2, 3])\n",
        "y_cpu = np.array([4, 5, 6])\n",
        "x_cpu + y_cpu\n",
        "x_gpu = cp.asarray(x_cpu)\n",
        "#x_gpu + y_cpu\n",
        "cp.asnumpy(x_gpu) + y_cpu\n",
        "cp.asnumpy(x_gpu) + cp.asnumpy(y_cpu)\n",
        "x_gpu + cp.asarray(y_cpu)\n",
        "cp.asarray(x_gpu) + cp.asarray(y_cpu)\n"
      ],
      "metadata": {
        "colab": {
          "base_uri": "https://localhost:8080/"
        },
        "id": "92D8xUledIEc",
        "outputId": "03b96980-139c-4bb5-f2b2-597dc2827160"
      },
      "execution_count": 18,
      "outputs": [
        {
          "output_type": "execute_result",
          "data": {
            "text/plain": [
              "array([5, 7, 9])"
            ]
          },
          "metadata": {},
          "execution_count": 18
        }
      ]
    },
    {
      "cell_type": "code",
      "source": [
        "squared_diff = cp.ElementwiseKernel(\n",
        "   'float32 x, float32 y',\n",
        "   'float32 z',\n",
        "   'z = (x - y) * (x - y)',\n",
        "   'squared_diff')"
      ],
      "metadata": {
        "id": "ADcyAu1DdaY8"
      },
      "execution_count": 13,
      "outputs": []
    },
    {
      "cell_type": "code",
      "source": [
        "x = cp.arange(10, dtype=np.float32).reshape(2, 5)\n",
        "y = cp.arange(5, dtype=np.float32)\n",
        "squared_diff(x, y)\n",
        "\n",
        "squared_diff(x, 5)\n"
      ],
      "metadata": {
        "colab": {
          "base_uri": "https://localhost:8080/"
        },
        "id": "h-YzI9e2ddms",
        "outputId": "9c2678a7-4b51-49ae-de80-0d99bd0db09b"
      },
      "execution_count": 15,
      "outputs": [
        {
          "output_type": "execute_result",
          "data": {
            "text/plain": [
              "array([[25., 16.,  9.,  4.,  1.],\n",
              "       [ 0.,  1.,  4.,  9., 16.]], dtype=float32)"
            ]
          },
          "metadata": {},
          "execution_count": 15
        }
      ]
    },
    {
      "cell_type": "code",
      "source": [
        "z = cp.empty((2, 5), dtype=np.float32)\n",
        "squared_diff(x, y, z)\n"
      ],
      "metadata": {
        "colab": {
          "base_uri": "https://localhost:8080/"
        },
        "id": "npsMB8P9fNsK",
        "outputId": "961299c3-0737-4cbf-9a20-f8745e149afc"
      },
      "execution_count": 19,
      "outputs": [
        {
          "output_type": "execute_result",
          "data": {
            "text/plain": [
              "array([[ 0.,  0.,  0.,  0.,  0.],\n",
              "       [25., 25., 25., 25., 25.]], dtype=float32)"
            ]
          },
          "metadata": {},
          "execution_count": 19
        }
      ]
    },
    {
      "cell_type": "code",
      "source": [
        "squared_diff_generic = cp.ElementwiseKernel(\n",
        "    'T x, T y',\n",
        "    'T z',\n",
        "    'z = (x - y) * (x - y)',\n",
        "    'squared_diff_generic')"
      ],
      "metadata": {
        "id": "Gyd2K1EdfTGa"
      },
      "execution_count": 20,
      "outputs": []
    },
    {
      "cell_type": "code",
      "source": [
        "squared_diff_generic = cp.ElementwiseKernel(\n",
        "    'T x, T y',\n",
        "    'T z',\n",
        "    '''\n",
        "        T diff = x - y;\n",
        "        z = diff * diff;\n",
        "    ''',\n",
        "    'squared_diff_generic')"
      ],
      "metadata": {
        "id": "fsD3v1dCfZHr"
      },
      "execution_count": 21,
      "outputs": []
    },
    {
      "cell_type": "code",
      "source": [
        "squared_diff_super_generic = cp.ElementwiseKernel(\n",
        "    'X x, Y y',\n",
        "    'Z z',\n",
        "    'z = (x - y) * (x - y)',\n",
        "    'squared_diff_super_generic')"
      ],
      "metadata": {
        "id": "vl5ovQzvfcsq"
      },
      "execution_count": 22,
      "outputs": []
    },
    {
      "cell_type": "code",
      "source": [
        "add_reverse = cp.ElementwiseKernel(\n",
        "    'T x, raw T y', 'T z',\n",
        "    'z = x + y[_ind.size() - i - 1]',\n",
        "    'add_reverse')"
      ],
      "metadata": {
        "id": "mhVWENQPfgDa"
      },
      "execution_count": 23,
      "outputs": []
    },
    {
      "cell_type": "code",
      "source": [
        "l2norm_kernel = cp.ReductionKernel(\n",
        "    'T x',  # input params\n",
        "    'T y',  # output params\n",
        "    'x * x',  # map\n",
        "    'a + b',  # reduce\n",
        "    'y = sqrt(a)',  # post-reduction map\n",
        "    '0',  # identity value\n",
        "    'l2norm'  # kernel name\n",
        ")\n",
        "x = cp.arange(10, dtype=np.float32).reshape(2, 5)\n",
        "l2norm_kernel(x, axis=1)\n"
      ],
      "metadata": {
        "colab": {
          "base_uri": "https://localhost:8080/"
        },
        "id": "xdiTIHWZfkdb",
        "outputId": "71748467-0eda-4356-b1d2-bfad0c590ad1"
      },
      "execution_count": 24,
      "outputs": [
        {
          "output_type": "execute_result",
          "data": {
            "text/plain": [
              "array([ 5.477226 , 15.9687195], dtype=float32)"
            ]
          },
          "metadata": {},
          "execution_count": 24
        }
      ]
    },
    {
      "cell_type": "code",
      "source": [
        "add_kernel = cp.RawKernel(r'''\n",
        "extern \"C\" __global__\n",
        "void my_add(const float* x1, const float* x2, float* y) {\n",
        "    int tid = blockDim.x * blockIdx.x + threadIdx.x;\n",
        "    y[tid] = x1[tid] + x2[tid];\n",
        "}\n",
        "''', 'my_add')\n",
        "x1 = cp.arange(25, dtype=cp.float32).reshape(5, 5)\n",
        "x2 = cp.arange(25, dtype=cp.float32).reshape(5, 5)\n",
        "y = cp.zeros((5, 5), dtype=cp.float32)\n",
        "add_kernel((5,), (5,), (x1, x2, y))  # grid, block and arguments\n",
        "y\n",
        "\n"
      ],
      "metadata": {
        "colab": {
          "base_uri": "https://localhost:8080/"
        },
        "id": "v0hFZjBef0Ba",
        "outputId": "8105d933-f18c-4b2f-9027-1cd23d0dddf0"
      },
      "execution_count": 27,
      "outputs": [
        {
          "output_type": "execute_result",
          "data": {
            "text/plain": [
              "array([[ 0.,  2.,  4.,  6.,  8.],\n",
              "       [10., 12., 14., 16., 18.],\n",
              "       [20., 22., 24., 26., 28.],\n",
              "       [30., 32., 34., 36., 38.],\n",
              "       [40., 42., 44., 46., 48.]], dtype=float32)"
            ]
          },
          "metadata": {},
          "execution_count": 27
        }
      ]
    },
    {
      "cell_type": "code",
      "source": [
        "complex_kernel = cp.RawKernel(r'''\n",
        "#include <cupy/complex.cuh>\n",
        "extern \"C\" __global__\n",
        "void my_func(const complex<float>* x1, const complex<float>* x2,\n",
        "             complex<float>* y, float a) {\n",
        "    int tid = blockDim.x * blockIdx.x + threadIdx.x;\n",
        "    y[tid] = x1[tid] + a * x2[tid];\n",
        "}\n",
        "''', 'my_func')\n",
        "x1 = cp.arange(25, dtype=cp.complex64).reshape(5, 5)\n",
        "x2 = 1j*cp.arange(25, dtype=cp.complex64).reshape(5, 5)\n",
        "y = cp.zeros((5, 5), dtype=cp.complex64)\n",
        "complex_kernel((5,), (5,), (x1, x2, y, cp.float32(2.0)))  # grid, block and arguments\n",
        "y\n"
      ],
      "metadata": {
        "colab": {
          "base_uri": "https://localhost:8080/"
        },
        "id": "iqc3v-lKhxgL",
        "outputId": "e1b82951-62bd-43bd-f931-adfc6bc059eb"
      },
      "execution_count": 30,
      "outputs": [
        {
          "output_type": "execute_result",
          "data": {
            "text/plain": [
              "array([[ 0. +0.j,  1. +2.j,  2. +4.j,  3. +6.j,  4. +8.j],\n",
              "       [ 5.+10.j,  6.+12.j,  7.+14.j,  8.+16.j,  9.+18.j],\n",
              "       [10.+20.j, 11.+22.j, 12.+24.j, 13.+26.j, 14.+28.j],\n",
              "       [15.+30.j, 16.+32.j, 17.+34.j, 18.+36.j, 19.+38.j],\n",
              "       [20.+40.j, 21.+42.j, 22.+44.j, 23.+46.j, 24.+48.j]],\n",
              "      dtype=complex64)"
            ]
          },
          "metadata": {},
          "execution_count": 30
        }
      ]
    }
  ]
}