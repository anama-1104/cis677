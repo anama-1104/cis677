{
  "nbformat": 4,
  "nbformat_minor": 0,
  "metadata": {
    "colab": {
      "provenance": [],
      "authorship_tag": "ABX9TyOrALZsn9D0InAVETCt9XvF",
      "include_colab_link": true
    },
    "kernelspec": {
      "name": "python3",
      "display_name": "Python 3"
    },
    "language_info": {
      "name": "python"
    }
  },
  "cells": [
    {
      "cell_type": "markdown",
      "metadata": {
        "id": "view-in-github",
        "colab_type": "text"
      },
      "source": [
        "<a href=\"https://colab.research.google.com/github/trefftzc/cis677/blob/main/Intro_to_mpi4py.ipynb\" target=\"_parent\"><img src=\"https://colab.research.google.com/assets/colab-badge.svg\" alt=\"Open In Colab\"/></a>"
      ]
    },
    {
      "cell_type": "markdown",
      "source": [
        "\n",
        "\n",
        "\n",
        "# An introduction to mpi4py\n",
        "\n",
        "Based on the tutorial available at\n",
        "\n",
        "https://mpi4py.readthedocs.io/en/stable/tutorial.html\n",
        "\n",
        "mpi4py is not part of the standard set of libraries available in COLAB.\n",
        "It needs to be installed using pip\n",
        "\n"
      ],
      "metadata": {
        "id": "aXypHEpNhDgj"
      }
    },
    {
      "cell_type": "code",
      "execution_count": null,
      "metadata": {
        "colab": {
          "base_uri": "https://localhost:8080/"
        },
        "id": "2Xehwu7KgXyg",
        "outputId": "9baad327-5bbc-415a-b7a2-b00f7ca2b50d"
      },
      "outputs": [
        {
          "output_type": "stream",
          "name": "stdout",
          "text": [
            "Collecting mpi4py\n",
            "  Downloading mpi4py-4.0.1.tar.gz (466 kB)\n",
            "\u001b[?25l     \u001b[90m━━━━━━━━━━━━━━━━━━━━━━━━━━━━━━━━━━━━━━━━\u001b[0m \u001b[32m0.0/466.2 kB\u001b[0m \u001b[31m?\u001b[0m eta \u001b[36m-:--:--\u001b[0m\r\u001b[2K     \u001b[91m━━━━━━━━━━━━━━━━━━━━━━━━━━━━━━━━━━━━━━━\u001b[0m\u001b[91m╸\u001b[0m \u001b[32m460.8/466.2 kB\u001b[0m \u001b[31m46.2 MB/s\u001b[0m eta \u001b[36m0:00:01\u001b[0m\r\u001b[2K     \u001b[90m━━━━━━━━━━━━━━━━━━━━━━━━━━━━━━━━━━━━━━━━\u001b[0m \u001b[32m466.2/466.2 kB\u001b[0m \u001b[31m9.3 MB/s\u001b[0m eta \u001b[36m0:00:00\u001b[0m\n",
            "\u001b[?25h  Installing build dependencies ... \u001b[?25l\u001b[?25hdone\n",
            "  Getting requirements to build wheel ... \u001b[?25l\u001b[?25hdone\n",
            "  Installing backend dependencies ... \u001b[?25l\u001b[?25hdone\n",
            "  Preparing metadata (pyproject.toml) ... \u001b[?25l\u001b[?25hdone\n",
            "Building wheels for collected packages: mpi4py\n",
            "  Building wheel for mpi4py (pyproject.toml) ... \u001b[?25l\u001b[?25hdone\n",
            "  Created wheel for mpi4py: filename=mpi4py-4.0.1-cp310-cp310-linux_x86_64.whl size=4266349 sha256=5c534726587399650d2b1060cad0804e44f0c609cc0f4b325c5b9c7ebeb1762f\n",
            "  Stored in directory: /root/.cache/pip/wheels/3c/ca/13/13218a83854023ccec184e3af482f0f038b434aa32c19afee8\n",
            "Successfully built mpi4py\n",
            "Installing collected packages: mpi4py\n",
            "Successfully installed mpi4py-4.0.1\n"
          ]
        }
      ],
      "source": [
        "!pip install mpi4py"
      ]
    },
    {
      "cell_type": "markdown",
      "source": [
        "Let's start with a small program that illustrates very basic functions in MPI:\n",
        "- Get_rank\n",
        "- Get_size\n",
        "\n",
        "One needs to start with the appropriate import statement"
      ],
      "metadata": {
        "id": "aD_eeL_IjOfC"
      }
    },
    {
      "cell_type": "code",
      "source": [
        "%%writefile example1.py\n",
        "from mpi4py import MPI\n",
        "comm = MPI.COMM_WORLD\n",
        "rank = comm.Get_rank()\n",
        "size = comm.Get_size()\n",
        "print(\"Hello world from process \", rank,\" out of \",size)"
      ],
      "metadata": {
        "colab": {
          "base_uri": "https://localhost:8080/"
        },
        "id": "mXu2TTYbjh3C",
        "outputId": "8593414f-11cb-4510-b531-b5009517d7ac"
      },
      "execution_count": null,
      "outputs": [
        {
          "output_type": "stream",
          "name": "stdout",
          "text": [
            "Writing example1.py\n"
          ]
        }
      ]
    },
    {
      "cell_type": "markdown",
      "source": [
        "In COLAB, we need some special additional statements to be able to execute MPI programs."
      ],
      "metadata": {
        "id": "INLjzrZQj1d6"
      }
    },
    {
      "cell_type": "code",
      "source": [
        "!OMPI_ALLOW_RUN_AS_ROOT=1\n",
        "!mpiexec --allow-run-as-root -n 2 --oversubscribe python example1.py"
      ],
      "metadata": {
        "colab": {
          "base_uri": "https://localhost:8080/"
        },
        "id": "o4BEsEBXj76z",
        "outputId": "dcfaedbd-2621-4bc1-bd18-1b85c80d2216"
      },
      "execution_count": null,
      "outputs": [
        {
          "output_type": "stream",
          "name": "stdout",
          "text": [
            "Hello world from process  0  out of  2\n",
            "Hello world from process  1  out of  2\n"
          ]
        }
      ]
    },
    {
      "cell_type": "markdown",
      "source": [
        "We can state that we want more processes to be executed."
      ],
      "metadata": {
        "id": "6heEeH9-kCkK"
      }
    },
    {
      "cell_type": "code",
      "source": [
        "!OMPI_ALLOW_RUN_AS_ROOT=1\n",
        "!mpiexec --allow-run-as-root -n 4 --oversubscribe python example1.py"
      ],
      "metadata": {
        "colab": {
          "base_uri": "https://localhost:8080/"
        },
        "id": "TyrDiCf2kG0y",
        "outputId": "00cebf75-937d-4bcf-def4-1097a0cb7fa9"
      },
      "execution_count": null,
      "outputs": [
        {
          "output_type": "stream",
          "name": "stdout",
          "text": [
            "Hello world from process  2  out of  4\n",
            "Hello world from process  3  out of  4\n",
            "Hello world from process  0  out of  4\n",
            "Hello world from process  1  out of  4\n"
          ]
        }
      ]
    },
    {
      "cell_type": "markdown",
      "source": [
        "Sending and receiving messages.\n",
        "\n",
        "In this example, we will assume that there are two processes, with ids 0 and 1.\n",
        "Node 0 will send a message to node 1 and then node 1 will answer back.\n"
      ],
      "metadata": {
        "id": "80m9JRUJk0s6"
      }
    },
    {
      "cell_type": "code",
      "source": [
        "%%writefile example_send_receive.py\n",
        "from mpi4py import MPI\n",
        "comm = MPI.COMM_WORLD\n",
        "rank = comm.Get_rank()\n",
        "\n",
        "# First node 0 sends a message to node 1. Node 1 prints the message\n",
        "if rank == 0:\n",
        "    msg = \"Hello node 1. I am node 0\"\n",
        "    comm.send(msg, dest=1)\n",
        "elif rank == 1:\n",
        "    msg = comm.recv(source=0)\n",
        "    print(\"I am node 1. This is the msg I received: \",msg)\n",
        "\n",
        "# Now node 1 sends a message to node 0. Node 0 prints the message\n",
        "if rank == 1:\n",
        "    msg = \"Hello node 0. I am node 1\"\n",
        "    comm.send(msg, dest=0)\n",
        "elif rank == 0:\n",
        "    msg = comm.recv(source=1)\n",
        "    print(\"I am node 0. This is the msg I received: \",msg)"
      ],
      "metadata": {
        "colab": {
          "base_uri": "https://localhost:8080/"
        },
        "id": "udtHgFr-lCBi",
        "outputId": "0799fb07-74fc-426b-c111-07e8e940b26c"
      },
      "execution_count": null,
      "outputs": [
        {
          "output_type": "stream",
          "name": "stdout",
          "text": [
            "Writing example_send_receive.py\n"
          ]
        }
      ]
    },
    {
      "cell_type": "code",
      "source": [
        "!OMPI_ALLOW_RUN_AS_ROOT=1\n",
        "!mpiexec --allow-run-as-root -n 2 --oversubscribe python example_send_receive.py"
      ],
      "metadata": {
        "colab": {
          "base_uri": "https://localhost:8080/"
        },
        "id": "JM0AZbY6lwI6",
        "outputId": "e0e9aaf8-04fc-419b-cf99-3e02ad44f00a"
      },
      "execution_count": null,
      "outputs": [
        {
          "output_type": "stream",
          "name": "stdout",
          "text": [
            "I am node 1. This is the msg I received:  Hello node 1. I am node 0\n",
            "I am node 0. This is the msg I received:  Hello node 0. I am node 1\n"
          ]
        }
      ]
    },
    {
      "cell_type": "markdown",
      "source": [
        "The communications on mpi4py are built on top of pickle, a serialization library that allows the sending and receiving of objects. Let's send\n",
        "integer values instead of strings."
      ],
      "metadata": {
        "id": "f4fTmjCDmCSs"
      }
    },
    {
      "cell_type": "code",
      "source": [
        "%%writefile example_send_receive_integers.py\n",
        "from mpi4py import MPI\n",
        "comm = MPI.COMM_WORLD\n",
        "rank = comm.Get_rank()\n",
        "\n",
        "# First node 0 sends the integer 17 to node 1. Node 1 prints the value\n",
        "if rank == 0:\n",
        "    msg = 17\n",
        "    comm.send(msg, dest=1)\n",
        "elif rank == 1:\n",
        "    msg = comm.recv(source=0)\n",
        "    print(\"I am node 1. This is the msg I received: \",msg)\n",
        "\n",
        "# Now node 1 sends the integer 34 to node 0. Node 0 prints the value\n",
        "if rank == 1:\n",
        "    msg = 34\n",
        "    comm.send(msg, dest=0)\n",
        "elif rank == 0:\n",
        "    msg = comm.recv(source=1)\n",
        "    print(\"I am node 0. This is the msg I received: \",msg)"
      ],
      "metadata": {
        "colab": {
          "base_uri": "https://localhost:8080/"
        },
        "id": "GAd496QrmNFG",
        "outputId": "95396c15-7761-45d9-dbf1-b1c935afceb0"
      },
      "execution_count": null,
      "outputs": [
        {
          "output_type": "stream",
          "name": "stdout",
          "text": [
            "Writing example_send_receive_integers.py\n"
          ]
        }
      ]
    },
    {
      "cell_type": "code",
      "source": [
        "!OMPI_ALLOW_RUN_AS_ROOT=1\n",
        "!mpiexec --allow-run-as-root -n 2 --oversubscribe python example_send_receive_integers.py"
      ],
      "metadata": {
        "colab": {
          "base_uri": "https://localhost:8080/"
        },
        "id": "bgdTzgDtmgzj",
        "outputId": "68df290a-d737-482f-d610-1f03568d39fc"
      },
      "execution_count": null,
      "outputs": [
        {
          "output_type": "stream",
          "name": "stdout",
          "text": [
            "I am node 1. This is the msg I received:  17\n",
            "I am node 0. This is the msg I received:  34\n"
          ]
        }
      ]
    },
    {
      "cell_type": "markdown",
      "source": [
        "Because we are using pickle, we can send objects from one process to the next."
      ],
      "metadata": {
        "id": "MY-cCY9nnCb6"
      }
    },
    {
      "cell_type": "code",
      "source": [
        "%%writefile example_send_receive_dictionary.py\n",
        "from mpi4py import MPI\n",
        "comm = MPI.COMM_WORLD\n",
        "rank = comm.Get_rank()\n",
        "\n",
        "# First node 0 sends a dictionary to node 1. Node 1 uses the dictionary\n",
        "if rank == 0:\n",
        "    msg = {'a': 65,\n",
        "           'b': 66,\n",
        "           'c':67}\n",
        "    comm.send(msg, dest=1)\n",
        "elif rank == 1:\n",
        "    msg = comm.recv(source=0)\n",
        "    print(\"I am node 1. I am using the dictionary I received from node 0.\",msg['a'])"
      ],
      "metadata": {
        "colab": {
          "base_uri": "https://localhost:8080/"
        },
        "id": "RpY-Tt3inMmD",
        "outputId": "1519c4ae-eef3-489c-f1c0-781993affe30"
      },
      "execution_count": null,
      "outputs": [
        {
          "output_type": "stream",
          "name": "stdout",
          "text": [
            "Overwriting example_send_receive_dictionary.py\n"
          ]
        }
      ]
    },
    {
      "cell_type": "code",
      "source": [
        "!OMPI_ALLOW_RUN_AS_ROOT=1\n",
        "!mpiexec --allow-run-as-root -n 2 --oversubscribe python example_send_receive_dictionary.py"
      ],
      "metadata": {
        "colab": {
          "base_uri": "https://localhost:8080/"
        },
        "id": "Jay3BRTPn4Nz",
        "outputId": "1b35b0b3-27f9-4867-b4e2-c50089d3d7c4"
      },
      "execution_count": null,
      "outputs": [
        {
          "output_type": "stream",
          "name": "stdout",
          "text": [
            "I am node 1. I am using the dictionary I received from node 0. 65\n"
          ]
        }
      ]
    },
    {
      "cell_type": "markdown",
      "source": [
        "We can send numpy arrays:"
      ],
      "metadata": {
        "id": "p0gFkg9-o016"
      }
    },
    {
      "cell_type": "code",
      "source": [
        "%%writefile example_sending_numpy_arrays.py\n",
        "from mpi4py import MPI\n",
        "import numpy\n",
        "\n",
        "comm = MPI.COMM_WORLD\n",
        "rank = comm.Get_rank()\n",
        "\n",
        "# passing MPI datatypes explicitly\n",
        "if rank == 0:\n",
        "    data = numpy.arange(1000, dtype='i')\n",
        "    comm.Send([data, MPI.INT], dest=1, tag=77)\n",
        "elif rank == 1:\n",
        "    data = numpy.empty(1000, dtype='i')\n",
        "    comm.Recv([data, MPI.INT], source=0, tag=77)\n",
        "\n",
        "# automatic MPI datatype discovery\n",
        "if rank == 0:\n",
        "    data = numpy.arange(100, dtype=numpy.float64)\n",
        "    comm.Send(data, dest=1, tag=13)\n",
        "elif rank == 1:\n",
        "    data = numpy.empty(100, dtype=numpy.float64)\n",
        "    comm.Recv(data, source=0, tag=13)"
      ],
      "metadata": {
        "colab": {
          "base_uri": "https://localhost:8080/"
        },
        "id": "V65GZF-Ko6Hz",
        "outputId": "927d809a-7fdb-4134-a3e2-c6101dfc6c17"
      },
      "execution_count": null,
      "outputs": [
        {
          "output_type": "stream",
          "name": "stdout",
          "text": [
            "Writing example_sending_numpy_arrays.py\n"
          ]
        }
      ]
    },
    {
      "cell_type": "code",
      "source": [
        "!OMPI_ALLOW_RUN_AS_ROOT=1\n",
        "!mpiexec --allow-run-as-root -n 2 --oversubscribe python example_sending_numpy_arrays.py"
      ],
      "metadata": {
        "id": "XLvfidC2pC-T"
      },
      "execution_count": null,
      "outputs": []
    },
    {
      "cell_type": "markdown",
      "source": [
        "Collective Communications are supported in mpi4py.\n",
        "Let's start with a broadcasting operation."
      ],
      "metadata": {
        "id": "UnXFNkzWpas8"
      }
    },
    {
      "cell_type": "code",
      "source": [
        "%%writefile example_broadcasting.py\n",
        "from mpi4py import MPI\n",
        "import numpy as np\n",
        "\n",
        "comm = MPI.COMM_WORLD\n",
        "rank = comm.Get_rank()\n",
        "\n",
        "if rank == 0:\n",
        "    data = np.arange(100, dtype='i')\n",
        "else:\n",
        "    data = np.empty(100, dtype='i')\n",
        "comm.Bcast(data, root=0)\n",
        "for i in range(100):\n",
        "    assert data[i] == i"
      ],
      "metadata": {
        "colab": {
          "base_uri": "https://localhost:8080/"
        },
        "id": "buwHPekMpknL",
        "outputId": "df592a25-41f1-44dc-9b85-9b9906262beb"
      },
      "execution_count": null,
      "outputs": [
        {
          "output_type": "stream",
          "name": "stdout",
          "text": [
            "Writing example_broadcasting.py\n"
          ]
        }
      ]
    },
    {
      "cell_type": "markdown",
      "source": [
        "Notice that we have 4 processes in this execution.\n",
        "If everything goes well, there should be no messages.\n",
        "The assert statement will fail if the condition is not true. Then a message is produced. The assert statements are being executed on all processes."
      ],
      "metadata": {
        "id": "qcEhpt59pxDd"
      }
    },
    {
      "cell_type": "code",
      "source": [
        "!OMPI_ALLOW_RUN_AS_ROOT=1\n",
        "!mpiexec --allow-run-as-root -n 4 --oversubscribe python example_broadcasting.py"
      ],
      "metadata": {
        "id": "iZwSvsvtprOy"
      },
      "execution_count": null,
      "outputs": []
    },
    {
      "cell_type": "markdown",
      "source": [
        "Now an example of scatter.\n",
        "In this example, node 0 scatters an array with 16 integers over two recipients.\n",
        "Each of the recipients will received half of the original array that 0 send out."
      ],
      "metadata": {
        "id": "f3kVu84HqLc8"
      }
    },
    {
      "cell_type": "code",
      "source": [
        "%%writefile example_scatter.py\n",
        "from mpi4py import MPI\n",
        "import numpy as np\n",
        "\n",
        "comm = MPI.COMM_WORLD\n",
        "size = comm.Get_size()\n",
        "rank = comm.Get_rank()\n",
        "\n",
        "sendbuf = None\n",
        "if rank == 0:\n",
        "    sendbuf = np.arange(16, dtype='i')\n",
        "    print(\"I am node: \",rank,\" and this is sendbuf: \",sendbuf)\n",
        "recvbuf = np.zeros(8, dtype='i')\n",
        "comm.Scatter(sendbuf, recvbuf, root=0)\n",
        "print(\"I am node: \",rank,\" and this is recvbuf after the scatter operation: \",recvbuf)"
      ],
      "metadata": {
        "colab": {
          "base_uri": "https://localhost:8080/"
        },
        "id": "LuJR4GsZqQrL",
        "outputId": "cd974235-d68a-4688-841d-e3d714203340"
      },
      "execution_count": null,
      "outputs": [
        {
          "output_type": "stream",
          "name": "stdout",
          "text": [
            "Overwriting example_scatter.py\n"
          ]
        }
      ]
    },
    {
      "cell_type": "code",
      "source": [
        "!OMPI_ALLOW_RUN_AS_ROOT=1\n",
        "!mpiexec --allow-run-as-root -n 2 --oversubscribe python example_scatter.py"
      ],
      "metadata": {
        "colab": {
          "base_uri": "https://localhost:8080/"
        },
        "id": "2gTq_3_5qpyr",
        "outputId": "86d2922d-f4ab-4f3b-e152-65f070a94a5a"
      },
      "execution_count": null,
      "outputs": [
        {
          "output_type": "stream",
          "name": "stdout",
          "text": [
            "I am node:  0  and this is sendbuf:  [ 0  1  2  3  4  5  6  7  8  9 10 11 12 13 14 15]\n",
            "I am node:  0  and this is recvbuf after the scatter operation:  [0 1 2 3 4 5 6 7]\n",
            "I am node:  1  and this is recvbuf after the scatter operation:  [ 8  9 10 11 12 13 14 15]\n"
          ]
        }
      ]
    },
    {
      "cell_type": "markdown",
      "source": [
        "And now an example designed to work with 4 participating nodes.\n",
        "Here every receiving node receives 1/4 of the original array."
      ],
      "metadata": {
        "id": "i_3VC3-LsHFj"
      }
    },
    {
      "cell_type": "code",
      "source": [
        "%%writefile example_scatter2.py\n",
        "from mpi4py import MPI\n",
        "import numpy as np\n",
        "\n",
        "comm = MPI.COMM_WORLD\n",
        "size = comm.Get_size()\n",
        "rank = comm.Get_rank()\n",
        "\n",
        "sendbuf = None\n",
        "if rank == 0:\n",
        "    sendbuf = np.arange(16, dtype='i')\n",
        "    print(\"I am node: \",rank,\" and this is sendbuf: \",sendbuf)\n",
        "recvbuf = np.zeros(4, dtype='i')\n",
        "comm.Scatter(sendbuf, recvbuf, root=0)\n",
        "print(\"I am node: \",rank,\" and this is recvbuf after the scatter operation: \",recvbuf)"
      ],
      "metadata": {
        "colab": {
          "base_uri": "https://localhost:8080/"
        },
        "id": "g_Ka1QGxsMLz",
        "outputId": "21a39cd7-3779-4b7f-83a1-77e02920bafd"
      },
      "execution_count": null,
      "outputs": [
        {
          "output_type": "stream",
          "name": "stdout",
          "text": [
            "Writing example_scatter2.py\n"
          ]
        }
      ]
    },
    {
      "cell_type": "code",
      "source": [
        "!OMPI_ALLOW_RUN_AS_ROOT=1\n",
        "!mpiexec --allow-run-as-root -n 4 --oversubscribe python example_scatter2.py"
      ],
      "metadata": {
        "colab": {
          "base_uri": "https://localhost:8080/"
        },
        "id": "fkNscFQMsRVb",
        "outputId": "eeff68bc-44f1-42e0-f9cd-1af7dbc9c0ca"
      },
      "execution_count": null,
      "outputs": [
        {
          "output_type": "stream",
          "name": "stdout",
          "text": [
            "I am node:  0  and this is sendbuf:  [ 0  1  2  3  4  5  6  7  8  9 10 11 12 13 14 15]\n",
            "I am node:  0  and this is recvbuf after the scatter operation:  [0 1 2 3]\n",
            "I am node:  2  and this is recvbuf after the scatter operation:  [ 8  9 10 11]\n",
            "I am node:  1  and this is recvbuf after the scatter operation:  [4 5 6 7]\n",
            "I am node:  3  and this is recvbuf after the scatter operation:  [12 13 14 15]\n"
          ]
        }
      ]
    },
    {
      "cell_type": "markdown",
      "source": [
        "Now an example of gather. Again we start with 2 nodes."
      ],
      "metadata": {
        "id": "PZh7MqDfs-6N"
      }
    },
    {
      "cell_type": "code",
      "source": [
        "%%writefile example_gather.py\n",
        "from mpi4py import MPI\n",
        "import numpy as np\n",
        "\n",
        "comm = MPI.COMM_WORLD\n",
        "size = comm.Get_size()\n",
        "rank = comm.Get_rank()\n",
        "\n",
        "sendbuf = np.zeros(8, dtype='i') + rank\n",
        "print(\"I am node: \",rank,\" and this is sendbuf: \",sendbuf)\n",
        "recvbuf = None\n",
        "if rank == 0:\n",
        "    recvbuf = np.empty(16, dtype='i')\n",
        "comm.Gather(sendbuf, recvbuf, root=0)\n",
        "if rank == 0:\n",
        "  print(\"I am node 0 and this is the receive buffer: \",recvbuf)"
      ],
      "metadata": {
        "colab": {
          "base_uri": "https://localhost:8080/"
        },
        "id": "b3JbMST_s-nS",
        "outputId": "4797f245-1f84-4dd9-bad0-09713eb36d7a"
      },
      "execution_count": null,
      "outputs": [
        {
          "output_type": "stream",
          "name": "stdout",
          "text": [
            "Overwriting example_gather.py\n"
          ]
        }
      ]
    },
    {
      "cell_type": "code",
      "source": [
        "!OMPI_ALLOW_RUN_AS_ROOT=1\n",
        "!mpiexec --allow-run-as-root -n 2 --oversubscribe python example_gather.py"
      ],
      "metadata": {
        "colab": {
          "base_uri": "https://localhost:8080/"
        },
        "id": "HWPD47RutnOr",
        "outputId": "099c75d6-5233-433f-8be9-7967944cb454"
      },
      "execution_count": null,
      "outputs": [
        {
          "output_type": "stream",
          "name": "stdout",
          "text": [
            "I am node:  0  and this is sendbuf:  [0 0 0 0 0 0 0 0]\n",
            "I am node:  1  and this is sendbuf:  [1 1 1 1 1 1 1 1]\n",
            "I am node 0 and this is the receive buffer:  [0 0 0 0 0 0 0 0 1 1 1 1 1 1 1 1]\n"
          ]
        }
      ]
    },
    {
      "cell_type": "markdown",
      "source": [
        "Next an example that should work with four processes."
      ],
      "metadata": {
        "id": "fQEko1Fgt0tj"
      }
    },
    {
      "cell_type": "code",
      "source": [
        "%%writefile example_gather2.py\n",
        "from mpi4py import MPI\n",
        "import numpy as np\n",
        "\n",
        "comm = MPI.COMM_WORLD\n",
        "size = comm.Get_size()\n",
        "rank = comm.Get_rank()\n",
        "\n",
        "sendbuf = np.zeros(4, dtype='i') + rank\n",
        "print(\"I am node: \",rank,\" and this is sendbuf: \",sendbuf)\n",
        "recvbuf = None\n",
        "if rank == 0:\n",
        "    recvbuf = np.empty(16, dtype='i')\n",
        "comm.Gather(sendbuf, recvbuf, root=0)\n",
        "if rank == 0:\n",
        "  print(\"I am node 0 and this is the receive buffer: \",recvbuf)"
      ],
      "metadata": {
        "colab": {
          "base_uri": "https://localhost:8080/"
        },
        "id": "nP4sIpmwt79t",
        "outputId": "bd15e128-fb9b-4550-fedf-32d43f212956"
      },
      "execution_count": null,
      "outputs": [
        {
          "output_type": "stream",
          "name": "stdout",
          "text": [
            "Overwriting example_gather2.py\n"
          ]
        }
      ]
    },
    {
      "cell_type": "code",
      "source": [
        "!OMPI_ALLOW_RUN_AS_ROOT=1\n",
        "!mpiexec --allow-run-as-root -n 4 --oversubscribe python example_gather2.py"
      ],
      "metadata": {
        "colab": {
          "base_uri": "https://localhost:8080/"
        },
        "id": "Ijn9f6dquCt8",
        "outputId": "71045cfa-3de8-4d50-f1d4-7f5d91d9be9d"
      },
      "execution_count": null,
      "outputs": [
        {
          "output_type": "stream",
          "name": "stdout",
          "text": [
            "I am node:  2  and this is sendbuf:  [2 2 2 2]\n",
            "I am node:  0  and this is sendbuf:  [0 0 0 0]\n",
            "I am node:  3  and this is sendbuf:  [3 3 3 3]\n",
            "I am node:  1  and this is sendbuf:  [1 1 1 1]\n",
            "I am node 0 and this is the receive buffer:  [0 0 0 0 1 1 1 1 2 2 2 2 3 3 3 3]\n"
          ]
        }
      ]
    },
    {
      "cell_type": "markdown",
      "source": [
        "Reductions are available as well:"
      ],
      "metadata": {
        "id": "quNR9xRZvPZs"
      }
    },
    {
      "cell_type": "code",
      "source": [
        "%%writefile example_reduction.py\n",
        "from mpi4py import MPI\n",
        "import numpy as np\n",
        "\n",
        "comm = MPI.COMM_WORLD\n",
        "size = comm.Get_size()\n",
        "rank = comm.Get_rank()\n",
        "\n",
        "value_to_reduce = rank\n",
        "\n",
        "result_of_reduction = comm.reduce(value_to_reduce, op=MPI.SUM, root=0)\n",
        "if rank == 0:\n",
        "  print(\"I am node 0 and this is the result of the reduction: \",result_of_reduction)"
      ],
      "metadata": {
        "colab": {
          "base_uri": "https://localhost:8080/"
        },
        "id": "WQjlf86QvTVM",
        "outputId": "651a4147-5ac9-49cb-e7ce-fdf106421d7d"
      },
      "execution_count": null,
      "outputs": [
        {
          "output_type": "stream",
          "name": "stdout",
          "text": [
            "Writing example_reduction.py\n"
          ]
        }
      ]
    },
    {
      "cell_type": "code",
      "source": [
        "!OMPI_ALLOW_RUN_AS_ROOT=1\n",
        "!mpiexec --allow-run-as-root -n 4 --oversubscribe python example_reduction.py"
      ],
      "metadata": {
        "colab": {
          "base_uri": "https://localhost:8080/"
        },
        "id": "WKVoT-rCvpc0",
        "outputId": "97687949-59f5-4cee-a748-b6cb80960e41"
      },
      "execution_count": null,
      "outputs": [
        {
          "output_type": "stream",
          "name": "stdout",
          "text": [
            "I am node 0 and this is the result of the reduction:  6\n"
          ]
        }
      ]
    }
  ]
}