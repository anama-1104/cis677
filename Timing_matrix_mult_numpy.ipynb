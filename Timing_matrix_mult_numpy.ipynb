{
  "nbformat": 4,
  "nbformat_minor": 0,
  "metadata": {
    "colab": {
      "provenance": [],
      "include_colab_link": true
    },
    "kernelspec": {
      "name": "python3",
      "display_name": "Python 3"
    },
    "language_info": {
      "name": "python"
    }
  },
  "cells": [
    {
      "cell_type": "markdown",
      "metadata": {
        "id": "view-in-github",
        "colab_type": "text"
      },
      "source": [
        "<a href=\"https://colab.research.google.com/github/anama-1104/cis677/blob/main/Timing_matrix_mult_numpy.ipynb\" target=\"_parent\"><img src=\"https://colab.research.google.com/assets/colab-badge.svg\" alt=\"Open In Colab\"/></a>"
      ]
    },
    {
      "cell_type": "markdown",
      "source": [
        "## Timing the execution of matrix multiplication\n",
        "A comparison between pure python code and using the numpy library."
      ],
      "metadata": {
        "id": "ooH-MKHAYxWu"
      }
    },
    {
      "cell_type": "code",
      "execution_count": 1,
      "metadata": {
        "colab": {
          "base_uri": "https://localhost:8080/"
        },
        "id": "uR4UEVmo13de",
        "outputId": "28c30529-3787-4075-9e51-78757a254915"
      },
      "outputs": [
        {
          "output_type": "stream",
          "name": "stdout",
          "text": [
            "Writing command_line_arguments.py\n"
          ]
        }
      ],
      "source": [
        "%%writefile command_line_arguments.py\n",
        "import sys\n",
        "n = int(sys.argv[1])\n",
        "print(n)"
      ]
    },
    {
      "cell_type": "code",
      "source": [
        "!python command_line_arguments.py 10"
      ],
      "metadata": {
        "colab": {
          "base_uri": "https://localhost:8080/"
        },
        "id": "maGYB5XP2OCD",
        "outputId": "98d50d7e-3b6c-4f4a-d6ac-40fbc1b3df39"
      },
      "execution_count": 2,
      "outputs": [
        {
          "output_type": "stream",
          "name": "stdout",
          "text": [
            "10\n"
          ]
        }
      ]
    },
    {
      "cell_type": "code",
      "source": [
        "%%writefile multiply_matrices.py\n",
        "import sys\n",
        "import numpy as np\n",
        "import time\n",
        "n = int(sys.argv[1])\n",
        "print(\"Matrix size: \",n)\n",
        "# Generate the first matrix\n",
        "a = np.arange(n*n).reshape((n,n))\n",
        "b = np.eye(n)\n",
        "c = np.zeros((n,n))\n",
        "# print(a)\n",
        "# print(b)\n",
        "\n",
        "# Time the matrix multiplication using the traditional code\n",
        "start = time.time()\n",
        "for i in range(n):\n",
        "    for j in range(n):\n",
        "        for k in range(n):\n",
        "            c[i,j] += a[i,k]*b[k,j]\n",
        "end = time.time()\n",
        "print(\"Traditional code: \",end-start,\" seconds.\")\n",
        "# print(c)\n",
        "\n",
        "d = np.zeros((n,n))\n",
        "# Time the matrix multiplication using numpy\n",
        "start = time.time()\n",
        "d = np.matmul(a,b)\n",
        "end = time.time()\n",
        "print(\"With numpy: \",end-start,\" seconds.\")\n",
        "# print(d)\n"
      ],
      "metadata": {
        "colab": {
          "base_uri": "https://localhost:8080/"
        },
        "id": "oV8uv7yB2XT7",
        "outputId": "36936d68-ca00-4917-e663-e9d1fa4120c2"
      },
      "execution_count": 3,
      "outputs": [
        {
          "output_type": "stream",
          "name": "stdout",
          "text": [
            "Writing multiply_matrices.py\n"
          ]
        }
      ]
    },
    {
      "cell_type": "code",
      "source": [
        "!python multiply_matrices.py 10"
      ],
      "metadata": {
        "colab": {
          "base_uri": "https://localhost:8080/"
        },
        "id": "iSsQU_mX3prT",
        "outputId": "7aa3ecb5-ff3f-452f-cbd7-069deee474ea"
      },
      "execution_count": 4,
      "outputs": [
        {
          "output_type": "stream",
          "name": "stdout",
          "text": [
            "Matrix size:  10\n",
            "Traditional code:  0.002046823501586914  seconds.\n",
            "With numpy:  0.003311634063720703  seconds.\n"
          ]
        }
      ]
    },
    {
      "cell_type": "code",
      "source": [
        "!python multiply_matrices.py 200\n",
        "!python multiply_matrices.py 300\n",
        "!python multiply_matrices.py 400\n",
        "!python multiply_matrices.py 500"
      ],
      "metadata": {
        "colab": {
          "base_uri": "https://localhost:8080/"
        },
        "id": "qEmwQ7uF5sW0",
        "outputId": "1936759c-12d3-4ca0-e366-d3772de098d3"
      },
      "execution_count": 5,
      "outputs": [
        {
          "output_type": "stream",
          "name": "stdout",
          "text": [
            "Matrix size:  200\n",
            "Traditional code:  8.038402080535889  seconds.\n",
            "With numpy:  0.006269693374633789  seconds.\n",
            "Matrix size:  300\n",
            "Traditional code:  29.80433750152588  seconds.\n",
            "With numpy:  0.004105329513549805  seconds.\n",
            "Matrix size:  400\n",
            "Traditional code:  71.8658037185669  seconds.\n",
            "With numpy:  0.006028175354003906  seconds.\n",
            "Matrix size:  500\n",
            "Traditional code:  135.91201448440552  seconds.\n",
            "With numpy:  0.010749340057373047  seconds.\n"
          ]
        }
      ]
    },
    {
      "cell_type": "markdown",
      "source": [
        "Now, just numpy"
      ],
      "metadata": {
        "id": "hA_Az2P8upcZ"
      }
    },
    {
      "cell_type": "code",
      "source": [
        "%%writefile numpy_multiply_matrices.py\n",
        "import sys\n",
        "import numpy as np\n",
        "import time\n",
        "n = int(sys.argv[1])\n",
        "print(\"Matrix size: \",n)\n",
        "# Generate the first matrix\n",
        "a = np.arange(n*n).reshape((n,n))\n",
        "b = np.eye(n)\n",
        "c = np.zeros((n,n))\n",
        "# print(a)\n",
        "# print(b)\n",
        "# Time the matrix multiplication using numpy\n",
        "start = time.time()\n",
        "c = np.matmul(a,b)\n",
        "end = time.time()\n",
        "print(\"With numpy: \",end-start)\n",
        "# print(d)"
      ],
      "metadata": {
        "colab": {
          "base_uri": "https://localhost:8080/"
        },
        "id": "mBiedJFiun8b",
        "outputId": "6ed69c8b-5261-492d-c09a-1fe82a3358ad"
      },
      "execution_count": 6,
      "outputs": [
        {
          "output_type": "stream",
          "name": "stdout",
          "text": [
            "Writing numpy_multiply_matrices.py\n"
          ]
        }
      ]
    },
    {
      "cell_type": "code",
      "source": [
        "!python numpy_multiply_matrices.py 2000\n",
        "!python numpy_multiply_matrices.py 3000\n",
        "!python numpy_multiply_matrices.py 4000\n",
        "!python numpy_multiply_matrices.py 5000"
      ],
      "metadata": {
        "colab": {
          "base_uri": "https://localhost:8080/"
        },
        "id": "uF7Gl5TLu2Li",
        "outputId": "cc03da31-518c-4b71-c9bc-e9df47932942"
      },
      "execution_count": 7,
      "outputs": [
        {
          "output_type": "stream",
          "name": "stdout",
          "text": [
            "Matrix size:  2000\n",
            "With numpy:  0.49064183235168457\n",
            "Matrix size:  3000\n",
            "With numpy:  1.5477638244628906\n",
            "Matrix size:  4000\n",
            "With numpy:  3.5308480262756348\n",
            "Matrix size:  5000\n",
            "With numpy:  10.929211616516113\n"
          ]
        }
      ]
    }
  ]
}