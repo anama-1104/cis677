{
  "nbformat": 4,
  "nbformat_minor": 0,
  "metadata": {
    "colab": {
      "provenance": [],
      "gpuType": "T4",
      "authorship_tag": "ABX9TyPEbOyRZ7a7Iwqpg9+xBkQJ",
      "include_colab_link": true
    },
    "kernelspec": {
      "name": "python3",
      "display_name": "Python 3"
    },
    "language_info": {
      "name": "python"
    },
    "accelerator": "GPU"
  },
  "cells": [
    {
      "cell_type": "markdown",
      "metadata": {
        "id": "view-in-github",
        "colab_type": "text"
      },
      "source": [
        "<a href=\"https://colab.research.google.com/github/trefftzc/cis677/blob/main/Thrust_algorithms.ipynb\" target=\"_parent\"><img src=\"https://colab.research.google.com/assets/colab-badge.svg\" alt=\"Open In Colab\"/></a>"
      ]
    },
    {
      "cell_type": "markdown",
      "source": [],
      "metadata": {
        "id": "2t8LBRAnjMzV"
      }
    },
    {
      "cell_type": "markdown",
      "source": [
        "# Thrust's algorithms\n",
        "\n",
        "Based on\n",
        "https://nvidia.github.io/cccl/thrust/api_docs/algorithms.html\n",
        "\n",
        "Nine groups of algorithms:\n",
        "\n",
        "1. Copying\n",
        "2. Merging\n",
        "3. Prefix sums\n",
        "4. Reductions\n",
        "5. Reordering\n",
        "6. Searching\n",
        "7. Set Operations\n",
        "8. Sorting\n",
        "9. Transformations"
      ],
      "metadata": {
        "id": "2YG83NGVjPZL"
      }
    },
    {
      "cell_type": "markdown",
      "source": [
        "## 1. Copying\n",
        "\n",
        "a. Gather\n",
        "\n",
        "b. Scatter\n",
        "\n",
        "c. swap_ranges\n",
        "\n",
        "d. copy\n",
        "\n",
        "e. copy_n\n",
        "\n",
        "f. unitialized_copy\n",
        "\n"
      ],
      "metadata": {
        "id": "d7_UVZJJjntb"
      }
    },
    {
      "cell_type": "markdown",
      "source": [
        "1.a. Gather:\n",
        "\n",
        "gather copies elements from a source array into a destination range according to a map. For each input iterator i in the range [map_first, map_last), the value input_first[*i] is assigned to *(result + (i - map_first)). RandomAccessIterator must permit random access."
      ],
      "metadata": {
        "id": "X0wpguNImfYk"
      }
    },
    {
      "cell_type": "code",
      "execution_count": null,
      "metadata": {
        "colab": {
          "base_uri": "https://localhost:8080/"
        },
        "id": "kwo5mni7i9mS",
        "outputId": "9442739f-0b89-4b31-8e96-651ad6a33295"
      },
      "outputs": [
        {
          "output_type": "stream",
          "name": "stdout",
          "text": [
            "Overwriting gather.cu\n"
          ]
        }
      ],
      "source": [
        "%%writefile gather.cu\n",
        "#include <thrust/gather.h>\n",
        "#include <thrust/device_vector.h>\n",
        "#include <thrust/host_vector.h>\n",
        "#include <iostream>\n",
        "\n",
        "int main() {\n",
        "  // mark even indices with a 1; odd indices with a 0\n",
        "  int values[10] = {1, 0, 1, 0, 1, 0, 1, 0, 1, 0};\n",
        "  thrust::device_vector<int> d_values(values, values + 10);\n",
        "\n",
        "  // gather all even indices into the first half of the range\n",
        "  // and odd indices to the last half of the range\n",
        "  int map[10]   = {0, 2, 4, 6, 8, 1, 3, 5, 7, 9};\n",
        "  thrust::device_vector<int> d_map(map, map + 10);\n",
        "\n",
        "  thrust::device_vector<int> d_output(10);\n",
        "  thrust::gather(d_map.begin(), d_map.end(),\n",
        "               d_values.begin(),\n",
        "               d_output.begin());\n",
        "// d_output is now {1, 1, 1, 1, 1, 0, 0, 0, 0, 0}\n",
        "  thrust::host_vector<int> h_output(10);\n",
        "  thrust::copy(d_output.begin(), d_output.end(), h_output.begin());\n",
        "  for(int value : h_output) {\n",
        "    std::cout << value << \" \";\n",
        "  }\n",
        "  std::cout << std::endl;\n",
        "  return 0;\n",
        "}"
      ]
    },
    {
      "cell_type": "code",
      "source": [
        "!!nvcc -Icccl/thrust -Icccl/libcudacxx/include -Icccl/cub gather.cu -o gather -arch sm_75\n"
      ],
      "metadata": {
        "colab": {
          "base_uri": "https://localhost:8080/"
        },
        "id": "2eVKT9WkkcVO",
        "outputId": "e5086597-7d07-439f-be64-4c43bbde535f"
      },
      "execution_count": null,
      "outputs": [
        {
          "output_type": "execute_result",
          "data": {
            "text/plain": [
              "[]"
            ]
          },
          "metadata": {},
          "execution_count": 9
        }
      ]
    },
    {
      "cell_type": "code",
      "source": [
        "!./gather"
      ],
      "metadata": {
        "colab": {
          "base_uri": "https://localhost:8080/"
        },
        "id": "Zm0OpDl2k4v0",
        "outputId": "d703d11d-92f1-408b-8b81-f6c42e4ee58d"
      },
      "execution_count": null,
      "outputs": [
        {
          "output_type": "stream",
          "name": "stdout",
          "text": [
            "1 1 1 1 1 0 0 0 0 0 \n"
          ]
        }
      ]
    },
    {
      "cell_type": "markdown",
      "source": [
        "1.b. scatter\n",
        "\n",
        "scatter copies elements from a source range into an output array according to a map. For each iterator i in the range [first, last), the value *i is assigned to output[*(map + (i - first))]. The output iterator must permit random access. If the same index appears more than once in the range [map, map + (last - first)), the result is undefined."
      ],
      "metadata": {
        "id": "rMgU-muumsU8"
      }
    },
    {
      "cell_type": "code",
      "source": [
        "%%writefile scatter.cu\n",
        "#include <thrust/scatter.h>\n",
        "#include <thrust/device_vector.h>\n",
        "#include <thrust/host_vector.h>\n",
        "#include <iostream>\n",
        "\n",
        "int main() {\n",
        "  // mark even indices with a 1; odd indices with a 0\n",
        "  int values[10] = {1, 0, 1, 0, 1, 0, 1, 0, 1, 0};\n",
        "  thrust::device_vector<int> d_values(values, values + 10);\n",
        "\n",
        "  // scatter all even indices into the first half of the\n",
        "  // range, and odd indices vice versa\n",
        "  int map[10]   = {0, 5, 1, 6, 2, 7, 3, 8, 4, 9};\n",
        "  thrust::device_vector<int> d_map(map, map + 10);\n",
        "\n",
        "  thrust::device_vector<int> d_output(10);\n",
        "  thrust::scatter(d_values.begin(), d_values.end(),\n",
        "                d_map.begin(), d_output.begin());\n",
        "  // d_output is now {1, 1, 1, 1, 1, 0, 0, 0, 0, 0}\n",
        "  thrust::host_vector<int> h_output(10);\n",
        "  thrust::copy(d_output.begin(), d_output.end(), h_output.begin());\n",
        "  for(int value : h_output) {\n",
        "    std::cout << value << \" \";\n",
        "  }\n",
        "  std::cout << std::endl;\n",
        "  return 0;\n",
        "}\n",
        "\n"
      ],
      "metadata": {
        "colab": {
          "base_uri": "https://localhost:8080/"
        },
        "id": "qEi_kG4Dm-3U",
        "outputId": "16b01c54-0e6d-42a7-cd12-5d88084c2ea0"
      },
      "execution_count": null,
      "outputs": [
        {
          "output_type": "stream",
          "name": "stdout",
          "text": [
            "Writing scatter.cu\n"
          ]
        }
      ]
    },
    {
      "cell_type": "code",
      "source": [
        "!nvcc -Icccl/thrust -Icccl/libcudacxx/include -Icccl/cub scatter.cu -o scatter -arch sm_75"
      ],
      "metadata": {
        "id": "TS8hC7esncw_"
      },
      "execution_count": null,
      "outputs": []
    },
    {
      "cell_type": "code",
      "source": [
        "!./scatter"
      ],
      "metadata": {
        "colab": {
          "base_uri": "https://localhost:8080/"
        },
        "id": "W0PWMWuEnkMs",
        "outputId": "311511b8-5cd4-4a2d-c9ec-9370d0a36ff9"
      },
      "execution_count": null,
      "outputs": [
        {
          "output_type": "stream",
          "name": "stdout",
          "text": [
            "1 1 1 1 1 0 0 0 0 0 \n"
          ]
        }
      ]
    },
    {
      "cell_type": "markdown",
      "source": [
        "1.c. swap_ranges\n",
        "\n",
        "swap_ranges swaps each of the elements in the range [first1, last1) with the corresponding element in the range [first2, first2 + (last1 - first1)). That is, for each integer n such that 0 <= n < (last1 - first1), it swaps *(first1 + n) and *(first2 + n). The return value is first2 + (last1 - first1)."
      ],
      "metadata": {
        "id": "BIEBnNJ-n4H8"
      }
    },
    {
      "cell_type": "code",
      "source": [
        "%%writefile swap_ranges.cu\n",
        "#include <thrust/swap.h>\n",
        "#include <thrust/device_vector.h>\n",
        "#include <thrust/host_vector.h>\n",
        "#include <iostream>\n",
        "\n",
        "int main() {\n",
        " thrust::device_vector<int> v1(2), v2(2);\n",
        "  v1[0] = 1;\n",
        "  v1[1] = 2;\n",
        "  v2[0] = 3;\n",
        "  v2[1] = 4;\n",
        "\n",
        "  thrust::swap_ranges(v1.begin(), v1.end(), v2.begin());\n",
        "// v1[0] == 3, v1[1] == 4, v2[0] == 1, v2[1] == 2\n",
        "  thrust::host_vector<int> h_v1(2);\n",
        "  thrust::host_vector<int> h_v2(2);\n",
        "  thrust::copy(v1.begin(), v1.end(), h_v1.begin());\n",
        "  thrust::copy(v2.begin(), v2.end(), h_v2.begin());\n",
        "  std::cout << \"v1: \";\n",
        "  for(int value : h_v1) {\n",
        "    std::cout << value << \" \";\n",
        "  }\n",
        "  std::cout << std::endl;\n",
        "  std::cout << \"v2: \";\n",
        "  for(int value : h_v2) {\n",
        "    std::cout << value << \" \";\n",
        "  }\n",
        "  std::cout << std::endl;\n",
        "  return 0;\n",
        "}\n"
      ],
      "metadata": {
        "colab": {
          "base_uri": "https://localhost:8080/"
        },
        "id": "HZy543bDoDmc",
        "outputId": "e54cb196-be9f-4fce-be29-1e85a6b977fb"
      },
      "execution_count": null,
      "outputs": [
        {
          "output_type": "stream",
          "name": "stdout",
          "text": [
            "Overwriting swap_ranges.cu\n"
          ]
        }
      ]
    },
    {
      "cell_type": "code",
      "source": [
        "!nvcc -Icccl/thrust -Icccl/libcudacxx/include -Icccl/cub swap_ranges.cu -o swap_ranges -arch sm_75"
      ],
      "metadata": {
        "id": "ko9Cbc_GovDt"
      },
      "execution_count": null,
      "outputs": []
    },
    {
      "cell_type": "code",
      "source": [
        "!./swap_ranges"
      ],
      "metadata": {
        "colab": {
          "base_uri": "https://localhost:8080/"
        },
        "id": "hac11X5zo3r7",
        "outputId": "4f72b474-eb99-42c5-f760-d7045e3c369e"
      },
      "execution_count": null,
      "outputs": [
        {
          "output_type": "stream",
          "name": "stdout",
          "text": [
            "v1: 3 4 \n",
            "v2: 1 2 \n"
          ]
        }
      ]
    },
    {
      "cell_type": "markdown",
      "source": [
        "1.d. copy\n",
        "\n",
        "copy copies elements from the range [first, last) to the range [result, result + (last - first)). That is, it performs the assignments *result = *first, *(result + 1) = *(first + 1), and so on. Generally, for every integer n from 0 to last - first, copy performs the assignment *(result + n) = *(first + n). Unlike std::copy, copy offers no guarantee on order of operation. As a result, calling copy with overlapping source and destination ranges has undefined behavior.\n",
        "\n",
        "The return value is result + (last - first)."
      ],
      "metadata": {
        "id": "aC58HV3Kqr4l"
      }
    },
    {
      "cell_type": "code",
      "source": [
        "%%writefile copy.cu\n",
        "#include <thrust/copy.h>\n",
        "#include <thrust/device_vector.h>\n",
        "#include <thrust/host_vector.h>\n",
        "#include <iostream>\n",
        "\n",
        "int main() {\n",
        "  thrust::device_vector<int> vec0(10);\n",
        "  thrust::device_vector<int> vec1(10);\n",
        "  for(int i = 0; i < 10; ++i) {\n",
        "    vec0[i] = i;\n",
        "  }\n",
        "\n",
        "  thrust::copy(vec0.begin(), vec0.end(),\n",
        "             vec1.begin());\n",
        "\n",
        "// vec1 is now a copy of vec0\n",
        "  thrust::host_vector<int> h_v0(10);\n",
        "  thrust::host_vector<int> h_v1(10);\n",
        "  thrust::copy(vec0.begin(), vec0.end(), h_v0.begin());\n",
        "  thrust::copy(vec1.begin(), vec1.end(), h_v1.begin());\n",
        "  std::cout << \"vec0: \";\n",
        "  for(int value : h_v0) {\n",
        "    std::cout << value << \" \";\n",
        "  }\n",
        "  std::cout << std::endl;\n",
        "  std::cout << \"vec1: \";\n",
        "  for(int value : h_v1) {\n",
        "    std::cout << value << \" \";\n",
        "  }\n",
        "  std::cout << std::endl;\n",
        "  return 0;\n",
        "}\n"
      ],
      "metadata": {
        "colab": {
          "base_uri": "https://localhost:8080/"
        },
        "id": "rPR5I32kq1UN",
        "outputId": "3093aedd-77ad-44ae-893e-58e3eb5e78c8"
      },
      "execution_count": null,
      "outputs": [
        {
          "output_type": "stream",
          "name": "stdout",
          "text": [
            "Writing copy.cu\n"
          ]
        }
      ]
    },
    {
      "cell_type": "code",
      "source": [
        "!nvcc -Icccl/thrust -Icccl/libcudacxx/include -Icccl/cub copy.cu -o copy -arch sm_75"
      ],
      "metadata": {
        "id": "y_jMZ8cSr_CE"
      },
      "execution_count": null,
      "outputs": []
    },
    {
      "cell_type": "code",
      "source": [
        "!./copy"
      ],
      "metadata": {
        "colab": {
          "base_uri": "https://localhost:8080/"
        },
        "id": "X2hy62bfsGSz",
        "outputId": "e183f5ae-16d8-4b28-998f-568d20e91f96"
      },
      "execution_count": null,
      "outputs": [
        {
          "output_type": "stream",
          "name": "stdout",
          "text": [
            "vec0: 0 1 2 3 4 5 6 7 8 9 \n",
            "vec1: 0 1 2 3 4 5 6 7 8 9 \n"
          ]
        }
      ]
    },
    {
      "cell_type": "markdown",
      "source": [
        "1.e. copy_n\n",
        "\n",
        "copy_n copies elements from the range [first, first + n) to the range [result, result + n). That is, it performs the assignments *result = *first, *(result + 1) = *(first + 1), and so on. Generally, for every integer i from 0 to n, copy performs the assignment *(result\n",
        "\n",
        "i) = *(first + i). Unlike std::copy_n, copy_n offers no guarantee on order of operation. As a result, calling copy_n with overlapping source and destination ranges has undefined behavior.\n",
        "\n",
        "The return value is result + n.\n",
        "\n",
        "The algorithm’s execution is parallelized as determined by exec.\n",
        "\n",
        "The following code snippet demonstrates how to use copy to copy from"
      ],
      "metadata": {
        "id": "jieuOZei0Rf7"
      }
    },
    {
      "cell_type": "code",
      "source": [
        "%%writefile copy_n.cu\n",
        "#include <thrust/copy.h>\n",
        "#include <thrust/device_vector.h>\n",
        "#include <thrust/host_vector.h>\n",
        "#include <thrust/execution_policy.h>\n",
        "#include <iostream>\n",
        "\n",
        "int main() {\n",
        "  thrust::device_vector<int> vec0(10);\n",
        "  thrust::device_vector<int> vec1(10);\n",
        "  for(int i = 0; i < 10; ++i) {\n",
        "    vec0[i] = i;\n",
        "  }\n",
        "  int n = 5;\n",
        "  thrust::copy_n(thrust::device,vec0.begin(), n,\n",
        "             vec1.begin());\n",
        "\n",
        "// vec1 now contains the first 5 elements of vec0\n",
        "  thrust::host_vector<int> h_v0(10);\n",
        "  thrust::host_vector<int> h_v1(10);\n",
        "  thrust::copy(vec0.begin(), vec0.end(), h_v0.begin());\n",
        "  thrust::copy(vec1.begin(), vec1.end(), h_v1.begin());\n",
        "  std::cout << \"vec0: \";\n",
        "  for(int value : h_v0) {\n",
        "    std::cout << value << \" \";\n",
        "  }\n",
        "  std::cout << std::endl;\n",
        "  std::cout << \"vec1: \";\n",
        "  for(int value : h_v1) {\n",
        "    std::cout << value << \" \";\n",
        "  }\n",
        "  std::cout << std::endl;\n",
        "  return 0;\n",
        "}"
      ],
      "metadata": {
        "id": "Egrs1Umc0cgq",
        "outputId": "dcb186cb-c26e-49c3-8cd3-15c1a4da9d3f",
        "colab": {
          "base_uri": "https://localhost:8080/"
        }
      },
      "execution_count": null,
      "outputs": [
        {
          "output_type": "stream",
          "name": "stdout",
          "text": [
            "Overwriting copy_n.cu\n"
          ]
        }
      ]
    },
    {
      "cell_type": "code",
      "source": [
        "!nvcc -Icccl/thrust -Icccl/libcudacxx/include -Icccl/cub copy_n.cu -o copy_n -arch sm_75"
      ],
      "metadata": {
        "id": "LTz8kkYj06m6"
      },
      "execution_count": null,
      "outputs": []
    },
    {
      "cell_type": "code",
      "source": [
        "!./copy_n"
      ],
      "metadata": {
        "id": "z_JBTU4g1SVC",
        "outputId": "e8ca6920-efc0-478e-fdd3-b30ebeed6a75",
        "colab": {
          "base_uri": "https://localhost:8080/"
        }
      },
      "execution_count": null,
      "outputs": [
        {
          "output_type": "stream",
          "name": "stdout",
          "text": [
            "vec0: 0 1 2 3 4 5 6 7 8 9 \n",
            "vec1: 0 1 2 3 4 0 0 0 0 0 \n"
          ]
        }
      ]
    },
    {
      "cell_type": "markdown",
      "source": [
        "1.f. unitialized_copy\n",
        "\n",
        "In thrust, the function thrust::device_new allocates memory for an object and then creates an object at that location by calling a constructor. Occasionally, however, it is useful to separate those two operations. If each iterator in the range [result, result + (last - first)) points to uninitialized memory, then uninitialized_copy creates a copy of [first, last) in that range. That is, for each iterator i in the input, uninitialized_copy creates a copy of *i in the location pointed to by the corresponding iterator in the output range by ForwardIterator's value_type's copy constructor with *i as its argument.\n",
        "\n",
        "The algorithm’s execution is parallelized as determined by exec.\n"
      ],
      "metadata": {
        "id": "3T_6RcSf1-3S"
      }
    },
    {
      "cell_type": "code",
      "source": [
        "%%writefile unitialized_copy.cu\n",
        "#include <thrust/uninitialized_copy.h>\n",
        "#include <thrust/copy.h>\n",
        "#include <thrust/device_vector.h>\n",
        "#include <thrust/host_vector.h>\n",
        "#include <thrust/execution_policy.h>\n",
        "#include <thrust/device_malloc.h>\n",
        "#include <iostream>\n",
        "\n",
        "struct Int\n",
        "{\n",
        "  __host__ __device__\n",
        "  Int(int x) : val(x) {}\n",
        "  int val;\n",
        "};\n",
        "\n",
        "const int N = 137;\n",
        "\n",
        "\n",
        "int main() {\n",
        "  Int val(46);\n",
        "  thrust::device_vector<Int> input(N, val);\n",
        "  thrust::device_ptr<Int> array = thrust::device_malloc<Int>(N);\n",
        "  thrust::uninitialized_copy(thrust::device, input.begin(), input.end(), array);\n",
        "\n",
        "// Int x = array[i];\n",
        "// x.val == 46 for all 0 <= i < N\n",
        "\n",
        "\n",
        "  return 0;\n",
        "}"
      ],
      "metadata": {
        "id": "kfvXLti92Kly",
        "outputId": "7ac4d1c8-f3f6-40a9-dca8-951325806503",
        "colab": {
          "base_uri": "https://localhost:8080/"
        }
      },
      "execution_count": null,
      "outputs": [
        {
          "output_type": "stream",
          "name": "stdout",
          "text": [
            "Overwriting unitialized_copy.cu\n"
          ]
        }
      ]
    },
    {
      "cell_type": "code",
      "source": [
        "!nvcc -Icccl/thrust -Icccl/libcudacxx/include -Icccl/cub unitialized_copy.cu -o unitialized_copy -arch sm_75"
      ],
      "metadata": {
        "id": "e7J9fKGm21ZC"
      },
      "execution_count": null,
      "outputs": []
    },
    {
      "cell_type": "code",
      "source": [
        "!./unitialized_copy"
      ],
      "metadata": {
        "id": "7g_MaTyS4PEc"
      },
      "execution_count": null,
      "outputs": []
    },
    {
      "cell_type": "markdown",
      "source": [
        "## 2. merge\n",
        "\n",
        "a. merge\n",
        "\n",
        "b. merge_by_key"
      ],
      "metadata": {
        "id": "-42aK_x-R0Vr"
      }
    },
    {
      "cell_type": "markdown",
      "source": [
        "2.a. merge\n",
        "\n",
        "merge combines two sorted ranges [first1, last1) and [first2, last2) into a single sorted range. That is, it copies from [first1, last1) and [first2, last2) into [result, result + (last1 - first1) + (last2 - first2)) such that the resulting range is in ascending order. merge is stable, meaning both that the relative order of elements within each input range is preserved, and that for equivalent elements in both input ranges the element from the first range precedes the element from the second. The return value is result + (last1 - first1) + (last2 - first2).\n",
        "\n",
        "This version of merge compares elements using operator<."
      ],
      "metadata": {
        "id": "UShxtSpLR5mN"
      }
    },
    {
      "cell_type": "code",
      "source": [
        "%%writefile merge.cu\n",
        "#include <thrust/merge.h>\n",
        "#include <iostream>\n",
        "\n",
        "using namespace std;\n",
        "\n",
        "int main() {\n",
        "  int A1[6] = {1, 3, 5, 7, 9, 11};\n",
        "  int A2[7] = {1, 1, 2, 3, 5,  8, 13};\n",
        "\n",
        "  int result[13];\n",
        "\n",
        "  int *result_end = thrust::merge(A1, A1 + 6, A2, A2 + 7, result);\n",
        "  // result = {1, 1, 1, 2, 3, 3, 5, 5, 7, 8, 9, 11, 13}\n",
        "\n",
        "  for(int i = 0; i < result_end - result; i++) {\n",
        "    cout << result[i] << \" \";\n",
        "  }\n",
        "  cout << endl;\n",
        "\n",
        "}"
      ],
      "metadata": {
        "id": "tmxgUZ3-SIMc",
        "outputId": "f2d3fcdc-316e-4553-a09e-eab192f97754",
        "colab": {
          "base_uri": "https://localhost:8080/"
        }
      },
      "execution_count": null,
      "outputs": [
        {
          "output_type": "stream",
          "name": "stdout",
          "text": [
            "Writing merge.cu\n"
          ]
        }
      ]
    },
    {
      "cell_type": "code",
      "source": [
        "!nvcc -Icccl/thrust -Icccl/libcudacxx/include -Icccl/cub merge.cu -o merge -arch sm_75"
      ],
      "metadata": {
        "id": "IUdg1N6eSqFF"
      },
      "execution_count": null,
      "outputs": []
    },
    {
      "cell_type": "code",
      "source": [
        "!./merge"
      ],
      "metadata": {
        "id": "9HBbGPCbSwtj",
        "outputId": "eb40f658-58f3-44cf-e83c-5413d767f818",
        "colab": {
          "base_uri": "https://localhost:8080/"
        }
      },
      "execution_count": null,
      "outputs": [
        {
          "output_type": "stream",
          "name": "stdout",
          "text": [
            "1 1 1 2 3 3 5 5 7 8 9 11 13 \n"
          ]
        }
      ]
    },
    {
      "cell_type": "markdown",
      "source": [
        "2.b. merge_by_key\n",
        "\n",
        "merge_by_key performs a key-value merge. That is, merge_by_key copies elements from [keys_first1, keys_last1) and [keys_first2, keys_last2) into a single range, [keys_result, keys_result + (keys_last1 - keys_first1) + (keys_last2 - keys_first2)) such that the resulting range is in ascending key order.\n",
        "\n",
        "At the same time, merge_by_key copies elements from the two associated ranges [values_first1 + (keys_last1 - keys_first1)) and [values_first2 + (keys_last2 - keys_first2)) into a single range, [values_result, values_result + (keys_last1 - keys_first1) + (keys_last2 - keys_first2)) such that the resulting range is in ascending order implied by each input element’s associated key.\n",
        "\n",
        "merge_by_key is stable, meaning both that the relative order of elements within each input range is preserved, and that for equivalent elements in all input key ranges the element from the first range precedes the element from the second.\n",
        "\n",
        "The return value is is (keys_result + (keys_last1 - keys_first1) + (keys_last2 - keys_first2)) and (values_result + (keys_last1 - keys_first1) + (keys_last2 - keys_first2)).\n",
        "\n",
        "This version of merge_by_key compares key elements using a function object comp.\n",
        "\n",
        "The algorithm’s execution is parallelized using exec."
      ],
      "metadata": {
        "id": "zADXmwvSS7z0"
      }
    },
    {
      "cell_type": "code",
      "source": [
        "%%writefile merge_by_key.cu\n",
        "\n",
        "\n",
        "#include <thrust/functional.h>\n",
        "#include <thrust/execution_policy.h>\n",
        "#include <iostream>\n",
        "\n",
        "using namespace std;\n",
        "\n",
        "int main() {\n",
        "  int A_keys[6] = {11, 9, 7, 5, 3, 1};\n",
        "  int A_vals[6] = { 0, 0, 0, 0, 0, 0};\n",
        "\n",
        "  int B_keys[7] = {13, 8, 5, 3, 2, 1, 1};\n",
        "  int B_vals[7] = { 1, 1, 1, 1, 1, 1, 1};\n",
        "\n",
        "  int keys_result[13];\n",
        "  int vals_result[13];\n",
        "\n",
        "  thrust::pair<int*,int*> end =\n",
        "    thrust::merge_by_key(thrust::host,\n",
        "                       A_keys, A_keys + 6,\n",
        "                       B_keys, B_keys + 7,\n",
        "                       A_vals, B_vals,\n",
        "                       keys_result, vals_result,\n",
        "                       ::cuda::std::greater<int>());\n",
        "\n",
        "// keys_result = {13, 11, 9, 8, 7, 5, 5, 3, 3, 2, 1, 1, 1}\n",
        "// vals_result = { 1,  0, 0, 1, 0, 0, 1, 0, 1, 1, 0, 1, 1}\n",
        "\n",
        "  for(int i = 0; i < end.first - keys_result; i++) {\n",
        "    cout << keys_result[i] << \" \" << vals_result[i] << endl;\n",
        "  }\n",
        "  cout << endl;\n",
        "\n",
        "}"
      ],
      "metadata": {
        "id": "7gHLmYenTHGU",
        "outputId": "aff34588-ba37-4d19-e4f6-1b3d4852eb99",
        "colab": {
          "base_uri": "https://localhost:8080/"
        }
      },
      "execution_count": null,
      "outputs": [
        {
          "output_type": "stream",
          "name": "stdout",
          "text": [
            "Writing merge_by_key.cu\n"
          ]
        }
      ]
    },
    {
      "cell_type": "code",
      "source": [
        "!nvcc -Icccl/thrust -Icccl/libcudacxx/include -Icccl/cub merge_by_key.cu -o merge_by_key -arch sm_75"
      ],
      "metadata": {
        "id": "MsABQog4TnxT"
      },
      "execution_count": null,
      "outputs": []
    },
    {
      "cell_type": "code",
      "source": [
        "!./merge_by_key"
      ],
      "metadata": {
        "id": "5ZRg2vfXTuDD",
        "outputId": "a96fd6af-7495-4941-fe56-898413d7ec2e",
        "colab": {
          "base_uri": "https://localhost:8080/"
        }
      },
      "execution_count": null,
      "outputs": [
        {
          "output_type": "stream",
          "name": "stdout",
          "text": [
            "13 1\n",
            "11 0\n",
            "9 0\n",
            "8 1\n",
            "7 0\n",
            "5 0\n",
            "5 1\n",
            "3 0\n",
            "3 1\n",
            "2 1\n",
            "1 0\n",
            "1 1\n",
            "1 1\n",
            "\n"
          ]
        }
      ]
    },
    {
      "cell_type": "markdown",
      "source": [
        "## 3. Prefix Sums\n",
        "\n",
        "a. inclusive_scan\n",
        "\n",
        "b. exclusive_scan\n"
      ],
      "metadata": {
        "id": "mBWQl-r6HdCW"
      }
    },
    {
      "cell_type": "markdown",
      "source": [
        "3.a. inclusive_scan\n",
        "\n",
        "inclusive_scan computes an inclusive prefix sum operation. The term ‘inclusive’ means that each result includes the corresponding input operand in the partial sum. When the input and output sequences are the same, the scan is performed in-place.\n",
        "\n",
        "inclusive_scan is similar to std::partial_sum in the STL. The primary difference between the two functions is that std::partial_sum guarantees a serial summation order, while inclusive_scan requires associativity of the binary operation to parallelize the prefix sum.\n",
        "\n",
        "Results are not deterministic for pseudo-associative operators (e.g., addition of floating-point types). Results for pseudo-associative operators may vary from run to run.\n",
        "\n",
        "The algorithm’s execution is parallelized as determined by exec."
      ],
      "metadata": {
        "id": "qnnRMBaBHj6F"
      }
    },
    {
      "cell_type": "code",
      "source": [
        "%%writefile inclusive_scan.cu\n",
        "#include <thrust/scan.h>\n",
        "#include <thrust/execution_policy.h>\n",
        "#include <thrust/functional.h>\n",
        "#include <iostream>\n",
        "#include <bits/stdc++.h>\n",
        "\n",
        "using namespace std;\n",
        "\n",
        "int main() {\n",
        "\n",
        "  int data[10] = {-5, 0, 2, -3, 2, 4, 0, -1, 2, 8};\n",
        "\n",
        "  thrust::maximum<int> binary_op;\n",
        "\n",
        "  thrust::inclusive_scan(thrust::host, data, data + 10, data, binary_op); // in-place scan\n",
        "\n",
        "  // data is now {-5, 0, 2, 2, 2, 4, 4, 4, 4, 8}\n",
        "\n",
        "  for(int i = 0; i < 10; i++) {\n",
        "    cout << data[i] << \" \";\n",
        "  }\n",
        "  cout << endl;\n",
        "\n",
        "  return 0;\n",
        "\n",
        "}\n"
      ],
      "metadata": {
        "id": "V2EORFt7LWIO"
      },
      "execution_count": null,
      "outputs": []
    },
    {
      "cell_type": "code",
      "source": [
        "!nvcc -Icccl/thrust -Icccl/libcudacxx/include -Icccl/cub inclusive_scan.cu -o inclusive_scan -arch sm_75"
      ],
      "metadata": {
        "id": "f3c7JqzcIGsu"
      },
      "execution_count": null,
      "outputs": []
    },
    {
      "cell_type": "code",
      "source": [
        "!./inclusive_scan\n"
      ],
      "metadata": {
        "colab": {
          "base_uri": "https://localhost:8080/"
        },
        "id": "ZPW6jA0kKhgX",
        "outputId": "0cab73af-7cc0-4830-920c-3f0c91b27f92"
      },
      "execution_count": null,
      "outputs": [
        {
          "output_type": "stream",
          "name": "stdout",
          "text": [
            "-5 0 2 2 2 4 4 4 4 8 \n"
          ]
        }
      ]
    },
    {
      "cell_type": "markdown",
      "source": [
        "3.b. exclusive_scan\n",
        "\n",
        "exclusive_scan computes an exclusive prefix sum operation. The term ‘exclusive’ means that each result does not include the corresponding input operand in the partial sum. More precisely, init is assigned to *result and the value binary_op(init, *first) is assigned to *(result + 1), and so on. This version of the function requires both an associative operator and an initial value init. When the input and output sequences are the same, the scan is performed in-place.\n",
        "\n",
        "Results are not deterministic for pseudo-associative operators (e.g., addition of floating-point types). Results for pseudo-associative operators may vary from run to run.\n",
        "\n",
        "The algorithm’s execution is parallelized as determined by exec."
      ],
      "metadata": {
        "id": "iPaZ34kuLqw4"
      }
    },
    {
      "cell_type": "code",
      "source": [
        "%%writefile exclusive_scan.cu\n",
        "#include <thrust/scan.h>\n",
        "#include <thrust/execution_policy.h>\n",
        "#include <thrust/functional.h>\n",
        "#include <iostream>\n",
        "#include <bits/stdc++.h>\n",
        "\n",
        "using namespace std;\n",
        "\n",
        "int main() {\n",
        "\n",
        "  int data[10] = {-5, 0, 2, -3, 2, 4, 0, -1, 2, 8};\n",
        "\n",
        "  thrust::maximum<int> binary_op;\n",
        "  // The initial value is 1\n",
        "  thrust::exclusive_scan(thrust::host, data, data + 10, data, 1, binary_op); // in-place scan\n",
        "\n",
        "  // data is now {1, 1, 1, 2, 2, 2, 4, 4, 4, 4 }\n",
        "\n",
        "  for(int i = 0; i < 10; i++) {\n",
        "    cout << data[i] << \" \";\n",
        "  }\n",
        "  cout << endl;\n",
        "\n",
        "  return 0;\n",
        "\n",
        "}\n"
      ],
      "metadata": {
        "colab": {
          "base_uri": "https://localhost:8080/"
        },
        "id": "4HyzfHHyL55V",
        "outputId": "2ea2eeef-873a-4d11-bb2c-230c3c3d7297"
      },
      "execution_count": null,
      "outputs": [
        {
          "output_type": "stream",
          "name": "stdout",
          "text": [
            "Writing exclusive_scan.cu\n"
          ]
        }
      ]
    },
    {
      "cell_type": "code",
      "source": [
        "!nvcc -Icccl/thrust -Icccl/libcudacxx/include -Icccl/cub exclusive_scan.cu -o exclusive_scan -arch sm_75"
      ],
      "metadata": {
        "id": "fBlPka3eLdpf"
      },
      "execution_count": null,
      "outputs": []
    },
    {
      "cell_type": "code",
      "source": [
        "!./exclusive_scan"
      ],
      "metadata": {
        "colab": {
          "base_uri": "https://localhost:8080/"
        },
        "id": "DCQ__wHwMi22",
        "outputId": "73f31266-43bb-403b-939f-722a52add340"
      },
      "execution_count": null,
      "outputs": [
        {
          "output_type": "stream",
          "name": "stdout",
          "text": [
            "1 1 1 2 2 2 4 4 4 4 \n"
          ]
        }
      ]
    },
    {
      "cell_type": "markdown",
      "source": [
        "## 4. Reductions\n",
        "\n",
        "a. Comparisons\n",
        "\n",
        "b. Counting\n",
        "\n",
        "c. Extrema\n",
        "\n",
        "d. Logical\n",
        "\n",
        "e. Predicates\n",
        "\n",
        "f. Transformed Reductions\n",
        "\n",
        "g. thrust::reduce_by_key\n",
        "\n",
        "h. thrust::reduce_into"
      ],
      "metadata": {
        "id": "UgQUnR5zdVsx"
      }
    },
    {
      "cell_type": "markdown",
      "source": [],
      "metadata": {
        "id": "G_aJ3uK7eB2R"
      }
    },
    {
      "cell_type": "markdown",
      "source": [
        "4.a. Comparisons\n",
        "\n",
        "equal returns true if the two ranges [first1, last1) and [first2, first2 + (last1 - first1)) are identical when compared element-by-element, and otherwise returns false.\n",
        "\n",
        "This version of equal returns true if and only if for every iterator i in [first1, last1), binary_pred(*i, *(first2 + (i - first1))) is true.\n",
        "\n",
        "The following code snippet demonstrates how to use equal to compare the elements in two ranges modulo 2."
      ],
      "metadata": {
        "id": "MqUYM7WReG7J"
      }
    },
    {
      "cell_type": "code",
      "source": [
        "%%writefile equal.cu\n",
        "#include <thrust/equal.h>\n",
        "#include <iostream>\n",
        "\n",
        "using namespace std;\n",
        "\n",
        "struct compare_modulo_two\n",
        "{\n",
        "  __host__ __device__\n",
        "  bool operator()(int x, int y) const\n",
        "  {\n",
        "    return (x % 2) == (y % 2);\n",
        "  }\n",
        "};\n",
        "\n",
        "int main() {\n",
        "  int x[6] = {0, 2, 4, 6, 8, 10};\n",
        "  int y[6] = {1, 3, 5, 7, 9, 11};\n",
        "\n",
        "  bool result = thrust::equal(x, x + 5, y, compare_modulo_two());\n",
        "\n",
        "  // result is false\n",
        "  cout << result << endl;\n",
        "\n",
        "  return 0;\n",
        "}"
      ],
      "metadata": {
        "id": "W1FjFsrheTpZ",
        "outputId": "d215b6f4-5dce-4993-b411-40ead3d87cda",
        "colab": {
          "base_uri": "https://localhost:8080/"
        }
      },
      "execution_count": null,
      "outputs": [
        {
          "output_type": "stream",
          "name": "stdout",
          "text": [
            "Writing equal.cu\n"
          ]
        }
      ]
    },
    {
      "cell_type": "code",
      "source": [
        "!nvcc -Icccl/thrust -Icccl/libcudacxx/include -Icccl/cub equal.cu -o equal -arch sm_75"
      ],
      "metadata": {
        "id": "8vUNTfz2enYa"
      },
      "execution_count": null,
      "outputs": []
    },
    {
      "cell_type": "code",
      "source": [
        "!./equal"
      ],
      "metadata": {
        "id": "ta8NnIJ0evoB",
        "outputId": "40f7e200-87b1-4c87-a23b-88453d0d9c05",
        "colab": {
          "base_uri": "https://localhost:8080/"
        }
      },
      "execution_count": null,
      "outputs": [
        {
          "output_type": "stream",
          "name": "stdout",
          "text": [
            "0\n"
          ]
        }
      ]
    },
    {
      "cell_type": "markdown",
      "source": [
        "4.b. Counting\n",
        "\n",
        "count finds the number of elements in [first,last) that are equal to value. More precisely, count returns the number of iterators i in [first, last) such that *i == value.\n",
        "\n",
        "count_if finds the number of elements in [first,last) for which a predicate is true. More precisely, count_if returns the number of iterators i in [first, last) such that pred(*i) == true.\n",
        "\n",
        "The algorithm’s execution is parallelized as determined by exec."
      ],
      "metadata": {
        "id": "fejOFYOufRu5"
      }
    },
    {
      "cell_type": "code",
      "source": [
        "%%writefile count.cu\n",
        "#include <thrust/count.h>\n",
        "#include <thrust/device_vector.h>\n",
        "#include <thrust/execution_policy.h>\n",
        "#include <iostream>\n",
        "\n",
        "using namespace std;\n",
        "\n",
        "struct is_odd\n",
        "{\n",
        "  __host__ __device__\n",
        "  bool operator()(int x)\n",
        "  {\n",
        "    return x % 2 == 1;\n",
        "  }\n",
        "};\n",
        "\n",
        "int main() {\n",
        "// Example of count\n",
        " thrust::device_vector<int> vec(5,0);\n",
        "  vec[1] = 1;\n",
        "  vec[3] = 1;\n",
        "  vec[4] = 1;\n",
        "\n",
        "  // count the 1s\n",
        "  int result = thrust::count(vec.begin(), vec.end(), 1);\n",
        "  // result == 3\n",
        "  cout << result << endl;\n",
        "// ------------------------------------------------\n",
        "// Example of count_if\n",
        "// fill a device_vector with even & odd numbers\n",
        "\n",
        "  vec[0] = 0;\n",
        "  vec[1] = 1;\n",
        "  vec[2] = 2;\n",
        "  vec[3] = 3;\n",
        "  vec[4] = 4;\n",
        "\n",
        "// count the odd elements in vec\n",
        "   result = thrust::count_if(thrust::device, vec.begin(), vec.end(), is_odd());\n",
        "// result == 2\n",
        "  cout << result << endl;\n",
        "  return 0;\n",
        "}"
      ],
      "metadata": {
        "id": "Vo6Sb38zfi1x",
        "outputId": "98d9bd90-21d7-40a9-c87e-253479c4ceb1",
        "colab": {
          "base_uri": "https://localhost:8080/"
        }
      },
      "execution_count": null,
      "outputs": [
        {
          "output_type": "stream",
          "name": "stdout",
          "text": [
            "Overwriting count.cu\n"
          ]
        }
      ]
    },
    {
      "cell_type": "code",
      "source": [
        "!nvcc -Icccl/thrust -Icccl/libcudacxx/include -Icccl/cub count.cu -o count -arch sm_75"
      ],
      "metadata": {
        "id": "vzYH-NN_f6nx"
      },
      "execution_count": null,
      "outputs": []
    },
    {
      "cell_type": "code",
      "source": [
        "!./count"
      ],
      "metadata": {
        "id": "paVCrwUSgAYZ",
        "outputId": "8eb05851-5c6d-4405-9b09-12c405f45bcf",
        "colab": {
          "base_uri": "https://localhost:8080/"
        }
      },
      "execution_count": null,
      "outputs": [
        {
          "output_type": "stream",
          "name": "stdout",
          "text": [
            "3\n",
            "2\n"
          ]
        }
      ]
    },
    {
      "cell_type": "markdown",
      "source": [
        "4.c. Extrema\n",
        "\n",
        "minmax_element finds the smallest and largest elements in the range [first, last). It returns a pair of iterators (imin, imax) where imin is the same iterator returned by min_element and imax is the same iterator returned by max_element. This function is potentially more efficient than separate calls to min_element and max_element."
      ],
      "metadata": {
        "id": "Y7FznuqIiI4h"
      }
    },
    {
      "cell_type": "code",
      "source": [
        "%%writefile minmax.cu\n",
        "#include <thrust/extrema.h>\n",
        "#include <thrust/pair.h>\n",
        "#include <iostream>\n",
        "\n",
        "using namespace std;\n",
        "\n",
        "struct key_value\n",
        "{\n",
        "  int key;\n",
        "  int value;\n",
        "};\n",
        "\n",
        "struct compare_key_value\n",
        "{\n",
        "  __host__ __device__\n",
        "  bool operator()(key_value lhs, key_value rhs)\n",
        "  {\n",
        "    return lhs.key < rhs.key;\n",
        "  }\n",
        "};\n",
        "\n",
        "int main() {\n",
        "  key_value data[4] = { {4,5}, {0,7}, {2,3}, {6,1} };\n",
        "\n",
        "  thrust::pair<key_value*,key_value*> extrema = thrust::minmax_element(data, data + 4, compare_key_value());\n",
        "\n",
        "  // extrema.first   == data + 1\n",
        "  // *extrema.first  == {0,7}\n",
        "  // extrema.second  == data + 3\n",
        "  // *extrema.second == {6,1}\n",
        "  cout << (*extrema.first).key << \" \" << (*extrema.first).value << endl;\n",
        "  cout << (*extrema.second).key << \" \" << (*extrema.second).value << endl;\n",
        "\n",
        "  return 0;\n",
        "}"
      ],
      "metadata": {
        "id": "7NatgJyChzSZ",
        "outputId": "fad30297-f12e-4d3e-92ef-64296be98a7c",
        "colab": {
          "base_uri": "https://localhost:8080/"
        }
      },
      "execution_count": null,
      "outputs": [
        {
          "output_type": "stream",
          "name": "stdout",
          "text": [
            "Overwriting minmax.cu\n"
          ]
        }
      ]
    },
    {
      "cell_type": "code",
      "source": [],
      "metadata": {
        "id": "lZ-MOAvyjiXC"
      },
      "execution_count": null,
      "outputs": []
    },
    {
      "cell_type": "code",
      "source": [
        "!nvcc -Icccl/thrust -Icccl/libcudacxx/include -Icccl/cub minmax.cu -o minmax -arch sm_75"
      ],
      "metadata": {
        "id": "HheVffZQip_T"
      },
      "execution_count": null,
      "outputs": []
    },
    {
      "cell_type": "code",
      "source": [
        "!./minmax"
      ],
      "metadata": {
        "id": "dfdBnjwDji6J",
        "outputId": "48152e45-9c55-48ab-a60f-24fae0c16e79",
        "colab": {
          "base_uri": "https://localhost:8080/"
        }
      },
      "execution_count": null,
      "outputs": [
        {
          "output_type": "stream",
          "name": "stdout",
          "text": [
            "0 7\n",
            "6 1\n"
          ]
        }
      ]
    },
    {
      "cell_type": "code",
      "source": [
        "%%writefile maxelement.cu\n",
        "#include <thrust/extrema.h>\n",
        "#include <thrust/pair.h>\n",
        "#include <iostream>\n",
        "\n",
        "using namespace std;\n",
        "\n",
        "struct key_value\n",
        "{\n",
        "  int key;\n",
        "  int value;\n",
        "};\n",
        "\n",
        "struct compare_key_value\n",
        "{\n",
        "  __host__ __device__\n",
        "  bool operator()(key_value lhs, key_value rhs)\n",
        "  {\n",
        "    return lhs.key < rhs.key;\n",
        "  }\n",
        "};\n",
        "\n",
        "int main() {\n",
        "  key_value data[4] = { {4,5}, {0,7}, {2,3}, {6,1} };\n",
        "\n",
        "  key_value *largest = thrust::max_element(thrust::host, data, data + 4, compare_key_value());\n",
        "\n",
        "  // largest == data + 3\n",
        "  // *largest == {6,1}\n",
        "  cout << (*largest).key << \" \" << (*largest).value << endl;\n",
        "\n",
        "  return 0;\n",
        "}"
      ],
      "metadata": {
        "id": "w5_bPgLFj-7y",
        "outputId": "aec58b69-4189-4e14-c029-179db46edbe5",
        "colab": {
          "base_uri": "https://localhost:8080/"
        }
      },
      "execution_count": null,
      "outputs": [
        {
          "output_type": "stream",
          "name": "stdout",
          "text": [
            "Overwriting maxelement.cu\n"
          ]
        }
      ]
    },
    {
      "cell_type": "code",
      "source": [
        "!nvcc -Icccl/thrust -Icccl/libcudacxx/include -Icccl/cub maxelement.cu -o maxelement -arch sm_75"
      ],
      "metadata": {
        "id": "ewlJob59kQSx"
      },
      "execution_count": null,
      "outputs": []
    },
    {
      "cell_type": "code",
      "source": [
        "!./maxelement"
      ],
      "metadata": {
        "id": "eppSdzi2kgVp",
        "outputId": "b0ef9f6f-3258-4357-9cf8-cafeaee87bfa",
        "colab": {
          "base_uri": "https://localhost:8080/"
        }
      },
      "execution_count": null,
      "outputs": [
        {
          "output_type": "stream",
          "name": "stdout",
          "text": [
            "6 1\n"
          ]
        }
      ]
    },
    {
      "cell_type": "code",
      "source": [
        "%%writefile minelement.cu\n",
        "#include <thrust/extrema.h>\n",
        "#include <thrust/pair.h>\n",
        "#include <iostream>\n",
        "\n",
        "using namespace std;\n",
        "\n",
        "struct key_value\n",
        "{\n",
        "  int key;\n",
        "  int value;\n",
        "};\n",
        "\n",
        "struct compare_key_value\n",
        "{\n",
        "  __host__ __device__\n",
        "  bool operator()(key_value lhs, key_value rhs)\n",
        "  {\n",
        "    return lhs.key < rhs.key;\n",
        "  }\n",
        "};\n",
        "\n",
        "int main() {\n",
        "\n",
        "  key_value data[4] = { {4,5}, {0,7}, {2,3}, {6,1} };\n",
        "\n",
        "  key_value *smallest = thrust::min_element(thrust::host, data, data + 4, compare_key_value());\n",
        "\n",
        "// smallest == data + 1\n",
        "// *smallest == {0,7}\n",
        "  cout << (*smallest).key << \" \" << (*smallest).value << endl;\n",
        "\n",
        "  return 0;\n",
        "}"
      ],
      "metadata": {
        "id": "6CD3qseBkx6h",
        "outputId": "44723d44-0c0c-4a33-e9b7-50b1cf2fbec1",
        "colab": {
          "base_uri": "https://localhost:8080/"
        }
      },
      "execution_count": null,
      "outputs": [
        {
          "output_type": "stream",
          "name": "stdout",
          "text": [
            "Writing minelement.cu\n"
          ]
        }
      ]
    },
    {
      "cell_type": "code",
      "source": [
        "!nvcc -Icccl/thrust -Icccl/libcudacxx/include -Icccl/cub minelement.cu -o minelement -arch sm_75"
      ],
      "metadata": {
        "id": "uEA2WgsolBlC"
      },
      "execution_count": null,
      "outputs": []
    },
    {
      "cell_type": "code",
      "source": [
        "!./minelement"
      ],
      "metadata": {
        "id": "VBfbLOpxlQLq",
        "outputId": "1db150ce-d3fe-42cf-b7e7-a5f8f98041d1",
        "colab": {
          "base_uri": "https://localhost:8080/"
        }
      },
      "execution_count": null,
      "outputs": [
        {
          "output_type": "stream",
          "name": "stdout",
          "text": [
            "0 7\n"
          ]
        }
      ]
    }
  ]
}