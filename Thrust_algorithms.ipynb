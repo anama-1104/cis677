{
  "nbformat": 4,
  "nbformat_minor": 0,
  "metadata": {
    "colab": {
      "provenance": [],
      "gpuType": "T4",
      "authorship_tag": "ABX9TyN9jc6wfXuP2NsQNre5AItn",
      "include_colab_link": true
    },
    "kernelspec": {
      "name": "python3",
      "display_name": "Python 3"
    },
    "language_info": {
      "name": "python"
    },
    "accelerator": "GPU"
  },
  "cells": [
    {
      "cell_type": "markdown",
      "metadata": {
        "id": "view-in-github",
        "colab_type": "text"
      },
      "source": [
        "<a href=\"https://colab.research.google.com/github/trefftzc/cis677/blob/main/Thrust_algorithms.ipynb\" target=\"_parent\"><img src=\"https://colab.research.google.com/assets/colab-badge.svg\" alt=\"Open In Colab\"/></a>"
      ]
    },
    {
      "cell_type": "markdown",
      "source": [],
      "metadata": {
        "id": "2t8LBRAnjMzV"
      }
    },
    {
      "cell_type": "markdown",
      "source": [
        "# Thrust's algorithms\n",
        "\n",
        "Based on\n",
        "https://nvidia.github.io/cccl/thrust/api_docs/algorithms.html\n",
        "\n",
        "Nine groups of algorithms:\n",
        "\n",
        "1. Copying\n",
        "2. Merging\n",
        "3. Prefix sums\n",
        "4. Reductions\n",
        "5. Reordering\n",
        "6. Searching\n",
        "7. Set Operations\n",
        "8. Sorting\n",
        "9. Transformations"
      ],
      "metadata": {
        "id": "2YG83NGVjPZL"
      }
    },
    {
      "cell_type": "markdown",
      "source": [
        "## 1. Copying\n",
        "\n",
        "a. Gather\n",
        "\n",
        "b. Scatter\n",
        "\n",
        "c. swap_ranges\n",
        "\n",
        "d. copy\n",
        "\n",
        "e. copy_n\n",
        "\n",
        "f. unitialized_copy\n",
        "\n"
      ],
      "metadata": {
        "id": "d7_UVZJJjntb"
      }
    },
    {
      "cell_type": "markdown",
      "source": [
        "1.a. Gather:\n",
        "\n",
        "gather copies elements from a source array into a destination range according to a map. For each input iterator i in the range [map_first, map_last), the value input_first[*i] is assigned to *(result + (i - map_first)). RandomAccessIterator must permit random access."
      ],
      "metadata": {
        "id": "X0wpguNImfYk"
      }
    },
    {
      "cell_type": "code",
      "execution_count": null,
      "metadata": {
        "colab": {
          "base_uri": "https://localhost:8080/"
        },
        "id": "kwo5mni7i9mS",
        "outputId": "9442739f-0b89-4b31-8e96-651ad6a33295"
      },
      "outputs": [
        {
          "output_type": "stream",
          "name": "stdout",
          "text": [
            "Overwriting gather.cu\n"
          ]
        }
      ],
      "source": [
        "%%writefile gather.cu\n",
        "#include <thrust/gather.h>\n",
        "#include <thrust/device_vector.h>\n",
        "#include <thrust/host_vector.h>\n",
        "#include <iostream>\n",
        "\n",
        "int main() {\n",
        "  // mark even indices with a 1; odd indices with a 0\n",
        "  int values[10] = {1, 0, 1, 0, 1, 0, 1, 0, 1, 0};\n",
        "  thrust::device_vector<int> d_values(values, values + 10);\n",
        "\n",
        "  // gather all even indices into the first half of the range\n",
        "  // and odd indices to the last half of the range\n",
        "  int map[10]   = {0, 2, 4, 6, 8, 1, 3, 5, 7, 9};\n",
        "  thrust::device_vector<int> d_map(map, map + 10);\n",
        "\n",
        "  thrust::device_vector<int> d_output(10);\n",
        "  thrust::gather(d_map.begin(), d_map.end(),\n",
        "               d_values.begin(),\n",
        "               d_output.begin());\n",
        "// d_output is now {1, 1, 1, 1, 1, 0, 0, 0, 0, 0}\n",
        "  thrust::host_vector<int> h_output(10);\n",
        "  thrust::copy(d_output.begin(), d_output.end(), h_output.begin());\n",
        "  for(int value : h_output) {\n",
        "    std::cout << value << \" \";\n",
        "  }\n",
        "  std::cout << std::endl;\n",
        "  return 0;\n",
        "}"
      ]
    },
    {
      "cell_type": "code",
      "source": [
        "!!nvcc -Icccl/thrust -Icccl/libcudacxx/include -Icccl/cub gather.cu -o gather -arch sm_75\n"
      ],
      "metadata": {
        "colab": {
          "base_uri": "https://localhost:8080/"
        },
        "id": "2eVKT9WkkcVO",
        "outputId": "e5086597-7d07-439f-be64-4c43bbde535f"
      },
      "execution_count": null,
      "outputs": [
        {
          "output_type": "execute_result",
          "data": {
            "text/plain": [
              "[]"
            ]
          },
          "metadata": {},
          "execution_count": 9
        }
      ]
    },
    {
      "cell_type": "code",
      "source": [
        "!./gather"
      ],
      "metadata": {
        "colab": {
          "base_uri": "https://localhost:8080/"
        },
        "id": "Zm0OpDl2k4v0",
        "outputId": "d703d11d-92f1-408b-8b81-f6c42e4ee58d"
      },
      "execution_count": null,
      "outputs": [
        {
          "output_type": "stream",
          "name": "stdout",
          "text": [
            "1 1 1 1 1 0 0 0 0 0 \n"
          ]
        }
      ]
    },
    {
      "cell_type": "markdown",
      "source": [
        "1.b. scatter\n",
        "\n",
        "scatter copies elements from a source range into an output array according to a map. For each iterator i in the range [first, last), the value *i is assigned to output[*(map + (i - first))]. The output iterator must permit random access. If the same index appears more than once in the range [map, map + (last - first)), the result is undefined."
      ],
      "metadata": {
        "id": "rMgU-muumsU8"
      }
    },
    {
      "cell_type": "code",
      "source": [
        "%%writefile scatter.cu\n",
        "#include <thrust/scatter.h>\n",
        "#include <thrust/device_vector.h>\n",
        "#include <thrust/host_vector.h>\n",
        "#include <iostream>\n",
        "\n",
        "int main() {\n",
        "  // mark even indices with a 1; odd indices with a 0\n",
        "  int values[10] = {1, 0, 1, 0, 1, 0, 1, 0, 1, 0};\n",
        "  thrust::device_vector<int> d_values(values, values + 10);\n",
        "\n",
        "  // scatter all even indices into the first half of the\n",
        "  // range, and odd indices vice versa\n",
        "  int map[10]   = {0, 5, 1, 6, 2, 7, 3, 8, 4, 9};\n",
        "  thrust::device_vector<int> d_map(map, map + 10);\n",
        "\n",
        "  thrust::device_vector<int> d_output(10);\n",
        "  thrust::scatter(d_values.begin(), d_values.end(),\n",
        "                d_map.begin(), d_output.begin());\n",
        "  // d_output is now {1, 1, 1, 1, 1, 0, 0, 0, 0, 0}\n",
        "  thrust::host_vector<int> h_output(10);\n",
        "  thrust::copy(d_output.begin(), d_output.end(), h_output.begin());\n",
        "  for(int value : h_output) {\n",
        "    std::cout << value << \" \";\n",
        "  }\n",
        "  std::cout << std::endl;\n",
        "  return 0;\n",
        "}\n",
        "\n"
      ],
      "metadata": {
        "colab": {
          "base_uri": "https://localhost:8080/"
        },
        "id": "qEi_kG4Dm-3U",
        "outputId": "16b01c54-0e6d-42a7-cd12-5d88084c2ea0"
      },
      "execution_count": null,
      "outputs": [
        {
          "output_type": "stream",
          "name": "stdout",
          "text": [
            "Writing scatter.cu\n"
          ]
        }
      ]
    },
    {
      "cell_type": "code",
      "source": [
        "!nvcc -Icccl/thrust -Icccl/libcudacxx/include -Icccl/cub scatter.cu -o scatter -arch sm_75"
      ],
      "metadata": {
        "id": "TS8hC7esncw_"
      },
      "execution_count": null,
      "outputs": []
    },
    {
      "cell_type": "code",
      "source": [
        "!./scatter"
      ],
      "metadata": {
        "colab": {
          "base_uri": "https://localhost:8080/"
        },
        "id": "W0PWMWuEnkMs",
        "outputId": "311511b8-5cd4-4a2d-c9ec-9370d0a36ff9"
      },
      "execution_count": null,
      "outputs": [
        {
          "output_type": "stream",
          "name": "stdout",
          "text": [
            "1 1 1 1 1 0 0 0 0 0 \n"
          ]
        }
      ]
    },
    {
      "cell_type": "markdown",
      "source": [
        "1.c. swap_ranges\n",
        "\n",
        "swap_ranges swaps each of the elements in the range [first1, last1) with the corresponding element in the range [first2, first2 + (last1 - first1)). That is, for each integer n such that 0 <= n < (last1 - first1), it swaps *(first1 + n) and *(first2 + n). The return value is first2 + (last1 - first1)."
      ],
      "metadata": {
        "id": "BIEBnNJ-n4H8"
      }
    },
    {
      "cell_type": "code",
      "source": [
        "%%writefile swap_ranges.cu\n",
        "#include <thrust/swap.h>\n",
        "#include <thrust/device_vector.h>\n",
        "#include <thrust/host_vector.h>\n",
        "#include <iostream>\n",
        "\n",
        "int main() {\n",
        " thrust::device_vector<int> v1(2), v2(2);\n",
        "  v1[0] = 1;\n",
        "  v1[1] = 2;\n",
        "  v2[0] = 3;\n",
        "  v2[1] = 4;\n",
        "\n",
        "  thrust::swap_ranges(v1.begin(), v1.end(), v2.begin());\n",
        "// v1[0] == 3, v1[1] == 4, v2[0] == 1, v2[1] == 2\n",
        "  thrust::host_vector<int> h_v1(2);\n",
        "  thrust::host_vector<int> h_v2(2);\n",
        "  thrust::copy(v1.begin(), v1.end(), h_v1.begin());\n",
        "  thrust::copy(v2.begin(), v2.end(), h_v2.begin());\n",
        "  std::cout << \"v1: \";\n",
        "  for(int value : h_v1) {\n",
        "    std::cout << value << \" \";\n",
        "  }\n",
        "  std::cout << std::endl;\n",
        "  std::cout << \"v2: \";\n",
        "  for(int value : h_v2) {\n",
        "    std::cout << value << \" \";\n",
        "  }\n",
        "  std::cout << std::endl;\n",
        "  return 0;\n",
        "}\n"
      ],
      "metadata": {
        "colab": {
          "base_uri": "https://localhost:8080/"
        },
        "id": "HZy543bDoDmc",
        "outputId": "e54cb196-be9f-4fce-be29-1e85a6b977fb"
      },
      "execution_count": null,
      "outputs": [
        {
          "output_type": "stream",
          "name": "stdout",
          "text": [
            "Overwriting swap_ranges.cu\n"
          ]
        }
      ]
    },
    {
      "cell_type": "code",
      "source": [
        "!nvcc -Icccl/thrust -Icccl/libcudacxx/include -Icccl/cub swap_ranges.cu -o swap_ranges -arch sm_75"
      ],
      "metadata": {
        "id": "ko9Cbc_GovDt"
      },
      "execution_count": null,
      "outputs": []
    },
    {
      "cell_type": "code",
      "source": [
        "!./swap_ranges"
      ],
      "metadata": {
        "colab": {
          "base_uri": "https://localhost:8080/"
        },
        "id": "hac11X5zo3r7",
        "outputId": "4f72b474-eb99-42c5-f760-d7045e3c369e"
      },
      "execution_count": null,
      "outputs": [
        {
          "output_type": "stream",
          "name": "stdout",
          "text": [
            "v1: 3 4 \n",
            "v2: 1 2 \n"
          ]
        }
      ]
    },
    {
      "cell_type": "markdown",
      "source": [
        "1.d. copy\n",
        "\n",
        "copy copies elements from the range [first, last) to the range [result, result + (last - first)). That is, it performs the assignments *result = *first, *(result + 1) = *(first + 1), and so on. Generally, for every integer n from 0 to last - first, copy performs the assignment *(result + n) = *(first + n). Unlike std::copy, copy offers no guarantee on order of operation. As a result, calling copy with overlapping source and destination ranges has undefined behavior.\n",
        "\n",
        "The return value is result + (last - first)."
      ],
      "metadata": {
        "id": "aC58HV3Kqr4l"
      }
    },
    {
      "cell_type": "code",
      "source": [
        "%%writefile copy.cu\n",
        "#include <thrust/copy.h>\n",
        "#include <thrust/device_vector.h>\n",
        "#include <thrust/host_vector.h>\n",
        "#include <iostream>\n",
        "\n",
        "int main() {\n",
        "  thrust::device_vector<int> vec0(10);\n",
        "  thrust::device_vector<int> vec1(10);\n",
        "  for(int i = 0; i < 10; ++i) {\n",
        "    vec0[i] = i;\n",
        "  }\n",
        "\n",
        "  thrust::copy(vec0.begin(), vec0.end(),\n",
        "             vec1.begin());\n",
        "\n",
        "// vec1 is now a copy of vec0\n",
        "  thrust::host_vector<int> h_v0(10);\n",
        "  thrust::host_vector<int> h_v1(10);\n",
        "  thrust::copy(vec0.begin(), vec0.end(), h_v0.begin());\n",
        "  thrust::copy(vec1.begin(), vec1.end(), h_v1.begin());\n",
        "  std::cout << \"vec0: \";\n",
        "  for(int value : h_v0) {\n",
        "    std::cout << value << \" \";\n",
        "  }\n",
        "  std::cout << std::endl;\n",
        "  std::cout << \"vec1: \";\n",
        "  for(int value : h_v1) {\n",
        "    std::cout << value << \" \";\n",
        "  }\n",
        "  std::cout << std::endl;\n",
        "  return 0;\n",
        "}\n"
      ],
      "metadata": {
        "colab": {
          "base_uri": "https://localhost:8080/"
        },
        "id": "rPR5I32kq1UN",
        "outputId": "3093aedd-77ad-44ae-893e-58e3eb5e78c8"
      },
      "execution_count": null,
      "outputs": [
        {
          "output_type": "stream",
          "name": "stdout",
          "text": [
            "Writing copy.cu\n"
          ]
        }
      ]
    },
    {
      "cell_type": "code",
      "source": [
        "!nvcc -Icccl/thrust -Icccl/libcudacxx/include -Icccl/cub copy.cu -o copy -arch sm_75"
      ],
      "metadata": {
        "id": "y_jMZ8cSr_CE"
      },
      "execution_count": null,
      "outputs": []
    },
    {
      "cell_type": "code",
      "source": [
        "!./copy"
      ],
      "metadata": {
        "colab": {
          "base_uri": "https://localhost:8080/"
        },
        "id": "X2hy62bfsGSz",
        "outputId": "e183f5ae-16d8-4b28-998f-568d20e91f96"
      },
      "execution_count": null,
      "outputs": [
        {
          "output_type": "stream",
          "name": "stdout",
          "text": [
            "vec0: 0 1 2 3 4 5 6 7 8 9 \n",
            "vec1: 0 1 2 3 4 5 6 7 8 9 \n"
          ]
        }
      ]
    },
    {
      "cell_type": "markdown",
      "source": [
        "1.3. copy_n\n",
        "\n",
        "copy_n copies elements from the range [first, first + n) to the range [result, result + n). That is, it performs the assignments *result = *first, *(result + 1) = *(first + 1), and so on. Generally, for every integer i from 0 to n, copy performs the assignment *(result\n",
        "\n",
        "i) = *(first + i). Unlike std::copy_n, copy_n offers no guarantee on order of operation. As a result, calling copy_n with overlapping source and destination ranges has undefined behavior.\n",
        "\n",
        "The return value is result + n.\n",
        "\n",
        "The algorithm’s execution is parallelized as determined by exec.\n",
        "\n",
        "The following code snippet demonstrates how to use copy to copy from"
      ],
      "metadata": {
        "id": "jieuOZei0Rf7"
      }
    },
    {
      "cell_type": "code",
      "source": [
        "%%writefile copy_n.cu\n",
        "#include <thrust/copy.h>\n",
        "#include <thrust/device_vector.h>\n",
        "#include <thrust/host_vector.h>\n",
        "#include <thrust/execution_policy.h>\n",
        "#include <iostream>\n",
        "\n",
        "int main() {\n",
        "  thrust::device_vector<int> vec0(10);\n",
        "  thrust::device_vector<int> vec1(10);\n",
        "  for(int i = 0; i < 10; ++i) {\n",
        "    vec0[i] = i;\n",
        "  }\n",
        "  int n = 5;\n",
        "  thrust::copy_n(thrust::device,vec0.begin(), n,\n",
        "             vec1.begin());\n",
        "\n",
        "// vec1 now contains the first 5 elements of vec0\n",
        "  thrust::host_vector<int> h_v0(10);\n",
        "  thrust::host_vector<int> h_v1(10);\n",
        "  thrust::copy(vec0.begin(), vec0.end(), h_v0.begin());\n",
        "  thrust::copy(vec1.begin(), vec1.end(), h_v1.begin());\n",
        "  std::cout << \"vec0: \";\n",
        "  for(int value : h_v0) {\n",
        "    std::cout << value << \" \";\n",
        "  }\n",
        "  std::cout << std::endl;\n",
        "  std::cout << \"vec1: \";\n",
        "  for(int value : h_v1) {\n",
        "    std::cout << value << \" \";\n",
        "  }\n",
        "  std::cout << std::endl;\n",
        "  return 0;\n",
        "}"
      ],
      "metadata": {
        "id": "Egrs1Umc0cgq",
        "outputId": "dcb186cb-c26e-49c3-8cd3-15c1a4da9d3f",
        "colab": {
          "base_uri": "https://localhost:8080/"
        }
      },
      "execution_count": 3,
      "outputs": [
        {
          "output_type": "stream",
          "name": "stdout",
          "text": [
            "Overwriting copy_n.cu\n"
          ]
        }
      ]
    },
    {
      "cell_type": "code",
      "source": [
        "!nvcc -Icccl/thrust -Icccl/libcudacxx/include -Icccl/cub copy_n.cu -o copy_n -arch sm_75"
      ],
      "metadata": {
        "id": "LTz8kkYj06m6"
      },
      "execution_count": 4,
      "outputs": []
    },
    {
      "cell_type": "code",
      "source": [
        "!./copy_n"
      ],
      "metadata": {
        "id": "z_JBTU4g1SVC",
        "outputId": "e8ca6920-efc0-478e-fdd3-b30ebeed6a75",
        "colab": {
          "base_uri": "https://localhost:8080/"
        }
      },
      "execution_count": 5,
      "outputs": [
        {
          "output_type": "stream",
          "name": "stdout",
          "text": [
            "vec0: 0 1 2 3 4 5 6 7 8 9 \n",
            "vec1: 0 1 2 3 4 0 0 0 0 0 \n"
          ]
        }
      ]
    },
    {
      "cell_type": "markdown",
      "source": [
        "1.f. unitialized_copy\n",
        "\n",
        "In thrust, the function thrust::device_new allocates memory for an object and then creates an object at that location by calling a constructor. Occasionally, however, it is useful to separate those two operations. If each iterator in the range [result, result + (last - first)) points to uninitialized memory, then uninitialized_copy creates a copy of [first, last) in that range. That is, for each iterator i in the input, uninitialized_copy creates a copy of *i in the location pointed to by the corresponding iterator in the output range by ForwardIterator's value_type's copy constructor with *i as its argument.\n",
        "\n",
        "The algorithm’s execution is parallelized as determined by exec.\n"
      ],
      "metadata": {
        "id": "3T_6RcSf1-3S"
      }
    },
    {
      "cell_type": "code",
      "source": [
        "%%writefile unitialized_copy.cu\n",
        "#include <thrust/uninitialized_copy.h>\n",
        "#include <thrust/copy.h>\n",
        "#include <thrust/device_vector.h>\n",
        "#include <thrust/host_vector.h>\n",
        "#include <thrust/execution_policy.h>\n",
        "#include <thrust/device_malloc.h>\n",
        "#include <iostream>\n",
        "\n",
        "struct Int\n",
        "{\n",
        "  __host__ __device__\n",
        "  Int(int x) : val(x) {}\n",
        "  int val;\n",
        "};\n",
        "\n",
        "const int N = 137;\n",
        "\n",
        "\n",
        "int main() {\n",
        "  Int val(46);\n",
        "  thrust::device_vector<Int> input(N, val);\n",
        "  thrust::device_ptr<Int> array = thrust::device_malloc<Int>(N);\n",
        "  thrust::uninitialized_copy(thrust::device, input.begin(), input.end(), array);\n",
        "\n",
        "// Int x = array[i];\n",
        "// x.val == 46 for all 0 <= i < N\n",
        "\n",
        "\n",
        "  return 0;\n",
        "}"
      ],
      "metadata": {
        "id": "kfvXLti92Kly",
        "outputId": "7ac4d1c8-f3f6-40a9-dca8-951325806503",
        "colab": {
          "base_uri": "https://localhost:8080/"
        }
      },
      "execution_count": 16,
      "outputs": [
        {
          "output_type": "stream",
          "name": "stdout",
          "text": [
            "Overwriting unitialized_copy.cu\n"
          ]
        }
      ]
    },
    {
      "cell_type": "code",
      "source": [
        "!nvcc -Icccl/thrust -Icccl/libcudacxx/include -Icccl/cub unitialized_copy.cu -o unitialized_copy -arch sm_75"
      ],
      "metadata": {
        "id": "e7J9fKGm21ZC"
      },
      "execution_count": 17,
      "outputs": []
    },
    {
      "cell_type": "code",
      "source": [
        "!./unitialized_copy"
      ],
      "metadata": {
        "id": "7g_MaTyS4PEc"
      },
      "execution_count": 18,
      "outputs": []
    }
  ]
}