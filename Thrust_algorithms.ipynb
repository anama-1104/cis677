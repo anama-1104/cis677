{
  "nbformat": 4,
  "nbformat_minor": 0,
  "metadata": {
    "colab": {
      "provenance": [],
      "gpuType": "T4",
      "authorship_tag": "ABX9TyNLJ+gzC6nvFIzBxep5px38",
      "include_colab_link": true
    },
    "kernelspec": {
      "name": "python3",
      "display_name": "Python 3"
    },
    "language_info": {
      "name": "python"
    },
    "accelerator": "GPU"
  },
  "cells": [
    {
      "cell_type": "markdown",
      "metadata": {
        "id": "view-in-github",
        "colab_type": "text"
      },
      "source": [
        "<a href=\"https://colab.research.google.com/github/trefftzc/cis677/blob/main/Thrust_algorithms.ipynb\" target=\"_parent\"><img src=\"https://colab.research.google.com/assets/colab-badge.svg\" alt=\"Open In Colab\"/></a>"
      ]
    },
    {
      "cell_type": "markdown",
      "source": [],
      "metadata": {
        "id": "2t8LBRAnjMzV"
      }
    },
    {
      "cell_type": "markdown",
      "source": [
        "# Thrust's algorithms\n",
        "\n",
        "Based on\n",
        "https://nvidia.github.io/cccl/thrust/api_docs/algorithms.html\n",
        "\n",
        "Nine groups of algorithms:\n",
        "\n",
        "1. Copying\n",
        "2. Merging\n",
        "3. Prefix sums\n",
        "4. Reductions\n",
        "5. Reordering\n",
        "6. Searching\n",
        "7. Set Operations\n",
        "8. Sorting\n",
        "9. Transformations"
      ],
      "metadata": {
        "id": "2YG83NGVjPZL"
      }
    },
    {
      "cell_type": "markdown",
      "source": [
        "## 1. Copying\n",
        "\n",
        "a. Gather\n",
        "\n",
        "b. Scatter\n",
        "\n",
        "c. swap_ranges\n",
        "\n",
        "d. copy\n",
        "\n",
        "e. copy_n\n",
        "\n",
        "f. unitialized_copy\n",
        "\n"
      ],
      "metadata": {
        "id": "d7_UVZJJjntb"
      }
    },
    {
      "cell_type": "markdown",
      "source": [
        "1.a. Gather:\n",
        "\n",
        "gather copies elements from a source array into a destination range according to a map. For each input iterator i in the range [map_first, map_last), the value input_first[*i] is assigned to *(result + (i - map_first)). RandomAccessIterator must permit random access."
      ],
      "metadata": {
        "id": "X0wpguNImfYk"
      }
    },
    {
      "cell_type": "code",
      "execution_count": 27,
      "metadata": {
        "colab": {
          "base_uri": "https://localhost:8080/"
        },
        "id": "kwo5mni7i9mS",
        "outputId": "e06378f5-391c-4c31-da66-1c24ba958fec"
      },
      "outputs": [
        {
          "output_type": "stream",
          "name": "stdout",
          "text": [
            "Writing gather.cu\n"
          ]
        }
      ],
      "source": [
        "%%writefile gather.cu\n",
        "#include <thrust/gather.h>\n",
        "#include <thrust/device_vector.h>\n",
        "#include <thrust/host_vector.h>\n",
        "#include <iostream>\n",
        "\n",
        "int main() {\n",
        "  // mark even indices with a 1; odd indices with a 0\n",
        "  int values[10] = {1, 0, 1, 0, 1, 0, 1, 0, 1, 0};\n",
        "  thrust::device_vector<int> d_values(values, values + 10);\n",
        "\n",
        "  // gather all even indices into the first half of the range\n",
        "  // and odd indices to the last half of the range\n",
        "  int map[10]   = {0, 2, 4, 6, 8, 1, 3, 5, 7, 9};\n",
        "  thrust::device_vector<int> d_map(map, map + 10);\n",
        "\n",
        "  thrust::device_vector<int> d_output(10);\n",
        "  thrust::gather(d_map.begin(), d_map.end(),\n",
        "               d_values.begin(),\n",
        "               d_output.begin());\n",
        "// d_output is now {1, 1, 1, 1, 1, 0, 0, 0, 0, 0}\n",
        "  thrust::host_vector<int> h_output(10);\n",
        "  thrust::copy(d_output.begin(), d_output.end(), h_output.begin());\n",
        "  for(int value : h_output) {\n",
        "    std::cout << value << \" \";\n",
        "  }\n",
        "  std::cout << std::endl;\n",
        "  return 0;\n",
        "}"
      ]
    },
    {
      "cell_type": "code",
      "source": [
        "!!nvcc -Icccl/thrust -Icccl/libcudacxx/include -Icccl/cub gather.cu -o gather -arch sm_75\n"
      ],
      "metadata": {
        "colab": {
          "base_uri": "https://localhost:8080/"
        },
        "id": "2eVKT9WkkcVO",
        "outputId": "2dd251fd-7716-457e-f72e-722a9288402a"
      },
      "execution_count": 28,
      "outputs": [
        {
          "output_type": "execute_result",
          "data": {
            "text/plain": [
              "[]"
            ]
          },
          "metadata": {},
          "execution_count": 28
        }
      ]
    },
    {
      "cell_type": "code",
      "source": [
        "!./gather"
      ],
      "metadata": {
        "colab": {
          "base_uri": "https://localhost:8080/"
        },
        "id": "Zm0OpDl2k4v0",
        "outputId": "d494fb41-2360-43b9-d288-0ccd8af063d4"
      },
      "execution_count": 29,
      "outputs": [
        {
          "output_type": "stream",
          "name": "stdout",
          "text": [
            "1 1 1 1 1 0 0 0 0 0 \n"
          ]
        }
      ]
    },
    {
      "cell_type": "markdown",
      "source": [
        "1.b. scatter\n",
        "\n",
        "scatter copies elements from a source range into an output array according to a map. For each iterator i in the range [first, last), the value *i is assigned to output[*(map + (i - first))]. The output iterator must permit random access. If the same index appears more than once in the range [map, map + (last - first)), the result is undefined."
      ],
      "metadata": {
        "id": "rMgU-muumsU8"
      }
    },
    {
      "cell_type": "code",
      "source": [
        "%%writefile scatter.cu\n",
        "#include <thrust/scatter.h>\n",
        "#include <thrust/device_vector.h>\n",
        "#include <thrust/host_vector.h>\n",
        "#include <iostream>\n",
        "\n",
        "int main() {\n",
        "  // mark even indices with a 1; odd indices with a 0\n",
        "  int values[10] = {1, 0, 1, 0, 1, 0, 1, 0, 1, 0};\n",
        "  thrust::device_vector<int> d_values(values, values + 10);\n",
        "\n",
        "  // scatter all even indices into the first half of the\n",
        "  // range, and odd indices vice versa\n",
        "  int map[10]   = {0, 5, 1, 6, 2, 7, 3, 8, 4, 9};\n",
        "  thrust::device_vector<int> d_map(map, map + 10);\n",
        "\n",
        "  thrust::device_vector<int> d_output(10);\n",
        "  thrust::scatter(d_values.begin(), d_values.end(),\n",
        "                d_map.begin(), d_output.begin());\n",
        "  // d_output is now {1, 1, 1, 1, 1, 0, 0, 0, 0, 0}\n",
        "  thrust::host_vector<int> h_output(10);\n",
        "  thrust::copy(d_output.begin(), d_output.end(), h_output.begin());\n",
        "  for(int value : h_output) {\n",
        "    std::cout << value << \" \";\n",
        "  }\n",
        "  std::cout << std::endl;\n",
        "  return 0;\n",
        "}\n",
        "\n"
      ],
      "metadata": {
        "colab": {
          "base_uri": "https://localhost:8080/"
        },
        "id": "qEi_kG4Dm-3U",
        "outputId": "89b2afe1-3f8f-45fc-d03b-dc7600327752"
      },
      "execution_count": 30,
      "outputs": [
        {
          "output_type": "stream",
          "name": "stdout",
          "text": [
            "Writing scatter.cu\n"
          ]
        }
      ]
    },
    {
      "cell_type": "code",
      "source": [
        "!nvcc -Icccl/thrust -Icccl/libcudacxx/include -Icccl/cub scatter.cu -o scatter -arch sm_75"
      ],
      "metadata": {
        "id": "TS8hC7esncw_"
      },
      "execution_count": 31,
      "outputs": []
    },
    {
      "cell_type": "code",
      "source": [
        "!./scatter"
      ],
      "metadata": {
        "colab": {
          "base_uri": "https://localhost:8080/"
        },
        "id": "W0PWMWuEnkMs",
        "outputId": "15659905-db6b-45e2-d6cd-796d60e41de5"
      },
      "execution_count": 32,
      "outputs": [
        {
          "output_type": "stream",
          "name": "stdout",
          "text": [
            "1 1 1 1 1 0 0 0 0 0 \n"
          ]
        }
      ]
    },
    {
      "cell_type": "markdown",
      "source": [
        "1.c. swap_ranges\n",
        "\n",
        "swap_ranges swaps each of the elements in the range [first1, last1) with the corresponding element in the range [first2, first2 + (last1 - first1)). That is, for each integer n such that 0 <= n < (last1 - first1), it swaps *(first1 + n) and *(first2 + n). The return value is first2 + (last1 - first1)."
      ],
      "metadata": {
        "id": "BIEBnNJ-n4H8"
      }
    },
    {
      "cell_type": "code",
      "source": [
        "%%writefile swap_ranges.cu\n",
        "#include <thrust/swap.h>\n",
        "#include <thrust/device_vector.h>\n",
        "#include <thrust/host_vector.h>\n",
        "#include <iostream>\n",
        "\n",
        "int main() {\n",
        " thrust::device_vector<int> v1(2), v2(2);\n",
        "  v1[0] = 1;\n",
        "  v1[1] = 2;\n",
        "  v2[0] = 3;\n",
        "  v2[1] = 4;\n",
        "\n",
        "  thrust::swap_ranges(v1.begin(), v1.end(), v2.begin());\n",
        "// v1[0] == 3, v1[1] == 4, v2[0] == 1, v2[1] == 2\n",
        "  thrust::host_vector<int> h_v1(2);\n",
        "  thrust::host_vector<int> h_v2(2);\n",
        "  thrust::copy(v1.begin(), v1.end(), h_v1.begin());\n",
        "  thrust::copy(v2.begin(), v2.end(), h_v2.begin());\n",
        "  std::cout << \"v1: \";\n",
        "  for(int value : h_v1) {\n",
        "    std::cout << value << \" \";\n",
        "  }\n",
        "  std::cout << std::endl;\n",
        "  std::cout << \"v2: \";\n",
        "  for(int value : h_v2) {\n",
        "    std::cout << value << \" \";\n",
        "  }\n",
        "  std::cout << std::endl;\n",
        "  return 0;\n",
        "}\n"
      ],
      "metadata": {
        "colab": {
          "base_uri": "https://localhost:8080/"
        },
        "id": "HZy543bDoDmc",
        "outputId": "33e08c4f-da45-4f44-caab-2e0d4766d6fd"
      },
      "execution_count": 33,
      "outputs": [
        {
          "output_type": "stream",
          "name": "stdout",
          "text": [
            "Writing swap_ranges.cu\n"
          ]
        }
      ]
    },
    {
      "cell_type": "code",
      "source": [
        "!nvcc -Icccl/thrust -Icccl/libcudacxx/include -Icccl/cub swap_ranges.cu -o swap_ranges -arch sm_75"
      ],
      "metadata": {
        "id": "ko9Cbc_GovDt"
      },
      "execution_count": 34,
      "outputs": []
    },
    {
      "cell_type": "code",
      "source": [
        "!./swap_ranges"
      ],
      "metadata": {
        "colab": {
          "base_uri": "https://localhost:8080/"
        },
        "id": "hac11X5zo3r7",
        "outputId": "4fbdb9c7-c1ea-45a1-bcc2-64508a20cb96"
      },
      "execution_count": 35,
      "outputs": [
        {
          "output_type": "stream",
          "name": "stdout",
          "text": [
            "v1: 3 4 \n",
            "v2: 1 2 \n"
          ]
        }
      ]
    },
    {
      "cell_type": "markdown",
      "source": [
        "1.d. copy\n",
        "\n",
        "copy copies elements from the range [first, last) to the range [result, result + (last - first)). That is, it performs the assignments *result = *first, *(result + 1) = *(first + 1), and so on. Generally, for every integer n from 0 to last - first, copy performs the assignment *(result + n) = *(first + n). Unlike std::copy, copy offers no guarantee on order of operation. As a result, calling copy with overlapping source and destination ranges has undefined behavior.\n",
        "\n",
        "The return value is result + (last - first)."
      ],
      "metadata": {
        "id": "aC58HV3Kqr4l"
      }
    },
    {
      "cell_type": "code",
      "source": [
        "%%writefile copy.cu\n",
        "#include <thrust/copy.h>\n",
        "#include <thrust/device_vector.h>\n",
        "#include <thrust/host_vector.h>\n",
        "#include <iostream>\n",
        "\n",
        "int main() {\n",
        "  thrust::device_vector<int> vec0(10);\n",
        "  thrust::device_vector<int> vec1(10);\n",
        "  for(int i = 0; i < 10; ++i) {\n",
        "    vec0[i] = i;\n",
        "  }\n",
        "\n",
        "  thrust::copy(vec0.begin(), vec0.end(),\n",
        "             vec1.begin());\n",
        "\n",
        "// vec1 is now a copy of vec0\n",
        "  thrust::host_vector<int> h_v0(10);\n",
        "  thrust::host_vector<int> h_v1(10);\n",
        "  thrust::copy(vec0.begin(), vec0.end(), h_v0.begin());\n",
        "  thrust::copy(vec1.begin(), vec1.end(), h_v1.begin());\n",
        "  std::cout << \"vec0: \";\n",
        "  for(int value : h_v0) {\n",
        "    std::cout << value << \" \";\n",
        "  }\n",
        "  std::cout << std::endl;\n",
        "  std::cout << \"vec1: \";\n",
        "  for(int value : h_v1) {\n",
        "    std::cout << value << \" \";\n",
        "  }\n",
        "  std::cout << std::endl;\n",
        "  return 0;\n",
        "}\n"
      ],
      "metadata": {
        "colab": {
          "base_uri": "https://localhost:8080/"
        },
        "id": "rPR5I32kq1UN",
        "outputId": "cbd76cb8-ab99-4f64-e764-44b85a547027"
      },
      "execution_count": 36,
      "outputs": [
        {
          "output_type": "stream",
          "name": "stdout",
          "text": [
            "Writing copy.cu\n"
          ]
        }
      ]
    },
    {
      "cell_type": "code",
      "source": [
        "!nvcc -Icccl/thrust -Icccl/libcudacxx/include -Icccl/cub copy.cu -o copy -arch sm_75"
      ],
      "metadata": {
        "id": "y_jMZ8cSr_CE"
      },
      "execution_count": 37,
      "outputs": []
    },
    {
      "cell_type": "code",
      "source": [
        "!./copy"
      ],
      "metadata": {
        "colab": {
          "base_uri": "https://localhost:8080/"
        },
        "id": "X2hy62bfsGSz",
        "outputId": "6d137409-917a-450f-8faf-25f892b41e08"
      },
      "execution_count": 38,
      "outputs": [
        {
          "output_type": "stream",
          "name": "stdout",
          "text": [
            "vec0: 0 1 2 3 4 5 6 7 8 9 \n",
            "vec1: 0 1 2 3 4 5 6 7 8 9 \n"
          ]
        }
      ]
    },
    {
      "cell_type": "markdown",
      "source": [
        "1.e. copy_n\n",
        "\n",
        "copy_n copies elements from the range [first, first + n) to the range [result, result + n). That is, it performs the assignments *result = *first, *(result + 1) = *(first + 1), and so on. Generally, for every integer i from 0 to n, copy performs the assignment *(result\n",
        "\n",
        "i) = *(first + i). Unlike std::copy_n, copy_n offers no guarantee on order of operation. As a result, calling copy_n with overlapping source and destination ranges has undefined behavior.\n",
        "\n",
        "The return value is result + n.\n",
        "\n",
        "The algorithm’s execution is parallelized as determined by exec.\n",
        "\n",
        "The following code snippet demonstrates how to use copy to copy from"
      ],
      "metadata": {
        "id": "jieuOZei0Rf7"
      }
    },
    {
      "cell_type": "code",
      "source": [
        "%%writefile copy_n.cu\n",
        "#include <thrust/copy.h>\n",
        "#include <thrust/device_vector.h>\n",
        "#include <thrust/host_vector.h>\n",
        "#include <thrust/execution_policy.h>\n",
        "#include <iostream>\n",
        "\n",
        "int main() {\n",
        "  thrust::device_vector<int> vec0(10);\n",
        "  thrust::device_vector<int> vec1(10);\n",
        "  for(int i = 0; i < 10; ++i) {\n",
        "    vec0[i] = i;\n",
        "  }\n",
        "  int n = 5;\n",
        "  thrust::copy_n(thrust::device,vec0.begin(), n,\n",
        "             vec1.begin());\n",
        "\n",
        "// vec1 now contains the first 5 elements of vec0\n",
        "  thrust::host_vector<int> h_v0(10);\n",
        "  thrust::host_vector<int> h_v1(10);\n",
        "  thrust::copy(vec0.begin(), vec0.end(), h_v0.begin());\n",
        "  thrust::copy(vec1.begin(), vec1.end(), h_v1.begin());\n",
        "  std::cout << \"vec0: \";\n",
        "  for(int value : h_v0) {\n",
        "    std::cout << value << \" \";\n",
        "  }\n",
        "  std::cout << std::endl;\n",
        "  std::cout << \"vec1: \";\n",
        "  for(int value : h_v1) {\n",
        "    std::cout << value << \" \";\n",
        "  }\n",
        "  std::cout << std::endl;\n",
        "  return 0;\n",
        "}"
      ],
      "metadata": {
        "id": "Egrs1Umc0cgq",
        "outputId": "0e90cded-4230-4fd7-943d-8cd64c11961b",
        "colab": {
          "base_uri": "https://localhost:8080/"
        }
      },
      "execution_count": 39,
      "outputs": [
        {
          "output_type": "stream",
          "name": "stdout",
          "text": [
            "Writing copy_n.cu\n"
          ]
        }
      ]
    },
    {
      "cell_type": "code",
      "source": [
        "!nvcc -Icccl/thrust -Icccl/libcudacxx/include -Icccl/cub copy_n.cu -o copy_n -arch sm_75"
      ],
      "metadata": {
        "id": "LTz8kkYj06m6"
      },
      "execution_count": 40,
      "outputs": []
    },
    {
      "cell_type": "code",
      "source": [
        "!./copy_n"
      ],
      "metadata": {
        "id": "z_JBTU4g1SVC",
        "outputId": "c19fefd8-ec26-4849-a266-cc42af838305",
        "colab": {
          "base_uri": "https://localhost:8080/"
        }
      },
      "execution_count": 41,
      "outputs": [
        {
          "output_type": "stream",
          "name": "stdout",
          "text": [
            "vec0: 0 1 2 3 4 5 6 7 8 9 \n",
            "vec1: 0 1 2 3 4 0 0 0 0 0 \n"
          ]
        }
      ]
    },
    {
      "cell_type": "markdown",
      "source": [
        "1.f. unitialized_copy\n",
        "\n",
        "In thrust, the function thrust::device_new allocates memory for an object and then creates an object at that location by calling a constructor. Occasionally, however, it is useful to separate those two operations. If each iterator in the range [result, result + (last - first)) points to uninitialized memory, then uninitialized_copy creates a copy of [first, last) in that range. That is, for each iterator i in the input, uninitialized_copy creates a copy of *i in the location pointed to by the corresponding iterator in the output range by ForwardIterator's value_type's copy constructor with *i as its argument.\n",
        "\n",
        "The algorithm’s execution is parallelized as determined by exec.\n"
      ],
      "metadata": {
        "id": "3T_6RcSf1-3S"
      }
    },
    {
      "cell_type": "code",
      "source": [
        "%%writefile unitialized_copy.cu\n",
        "#include <thrust/uninitialized_copy.h>\n",
        "#include <thrust/copy.h>\n",
        "#include <thrust/device_vector.h>\n",
        "#include <thrust/host_vector.h>\n",
        "#include <thrust/execution_policy.h>\n",
        "#include <thrust/device_malloc.h>\n",
        "#include <iostream>\n",
        "\n",
        "struct Int\n",
        "{\n",
        "  __host__ __device__\n",
        "  Int(int x) : val(x) {}\n",
        "  int val;\n",
        "};\n",
        "\n",
        "const int N = 137;\n",
        "\n",
        "\n",
        "int main() {\n",
        "  Int val(46);\n",
        "  thrust::device_vector<Int> input(N, val);\n",
        "  thrust::device_ptr<Int> array = thrust::device_malloc<Int>(N);\n",
        "  thrust::uninitialized_copy(thrust::device, input.begin(), input.end(), array);\n",
        "\n",
        "// Int x = array[i];\n",
        "// x.val == 46 for all 0 <= i < N\n",
        "\n",
        "\n",
        "  return 0;\n",
        "}"
      ],
      "metadata": {
        "id": "kfvXLti92Kly",
        "outputId": "f3881ad6-f36c-4842-e28f-311538b64282",
        "colab": {
          "base_uri": "https://localhost:8080/"
        }
      },
      "execution_count": 42,
      "outputs": [
        {
          "output_type": "stream",
          "name": "stdout",
          "text": [
            "Writing unitialized_copy.cu\n"
          ]
        }
      ]
    },
    {
      "cell_type": "code",
      "source": [
        "!nvcc -Icccl/thrust -Icccl/libcudacxx/include -Icccl/cub unitialized_copy.cu -o unitialized_copy -arch sm_75"
      ],
      "metadata": {
        "id": "e7J9fKGm21ZC"
      },
      "execution_count": 43,
      "outputs": []
    },
    {
      "cell_type": "code",
      "source": [
        "!./unitialized_copy"
      ],
      "metadata": {
        "id": "7g_MaTyS4PEc"
      },
      "execution_count": 44,
      "outputs": []
    },
    {
      "cell_type": "markdown",
      "source": [
        "## 2. merge\n",
        "\n",
        "a. merge\n",
        "\n",
        "b. merge_by_key"
      ],
      "metadata": {
        "id": "-42aK_x-R0Vr"
      }
    },
    {
      "cell_type": "markdown",
      "source": [
        "2.a. merge\n",
        "\n",
        "merge combines two sorted ranges [first1, last1) and [first2, last2) into a single sorted range. That is, it copies from [first1, last1) and [first2, last2) into [result, result + (last1 - first1) + (last2 - first2)) such that the resulting range is in ascending order. merge is stable, meaning both that the relative order of elements within each input range is preserved, and that for equivalent elements in both input ranges the element from the first range precedes the element from the second. The return value is result + (last1 - first1) + (last2 - first2).\n",
        "\n",
        "This version of merge compares elements using operator<."
      ],
      "metadata": {
        "id": "UShxtSpLR5mN"
      }
    },
    {
      "cell_type": "code",
      "source": [
        "%%writefile merge.cu\n",
        "#include <thrust/merge.h>\n",
        "#include <iostream>\n",
        "\n",
        "using namespace std;\n",
        "\n",
        "int main() {\n",
        "  int A1[6] = {1, 3, 5, 7, 9, 11};\n",
        "  int A2[7] = {1, 1, 2, 3, 5,  8, 13};\n",
        "\n",
        "  int result[13];\n",
        "\n",
        "  int *result_end = thrust::merge(A1, A1 + 6, A2, A2 + 7, result);\n",
        "  // result = {1, 1, 1, 2, 3, 3, 5, 5, 7, 8, 9, 11, 13}\n",
        "\n",
        "  for(int i = 0; i < result_end - result; i++) {\n",
        "    cout << result[i] << \" \";\n",
        "  }\n",
        "  cout << endl;\n",
        "\n",
        "}"
      ],
      "metadata": {
        "id": "tmxgUZ3-SIMc",
        "outputId": "d04b1a56-fbfb-4299-a5e2-5c72531efcd5",
        "colab": {
          "base_uri": "https://localhost:8080/"
        }
      },
      "execution_count": 45,
      "outputs": [
        {
          "output_type": "stream",
          "name": "stdout",
          "text": [
            "Writing merge.cu\n"
          ]
        }
      ]
    },
    {
      "cell_type": "code",
      "source": [
        "!nvcc -Icccl/thrust -Icccl/libcudacxx/include -Icccl/cub merge.cu -o merge -arch sm_75"
      ],
      "metadata": {
        "id": "IUdg1N6eSqFF"
      },
      "execution_count": 46,
      "outputs": []
    },
    {
      "cell_type": "code",
      "source": [
        "!./merge"
      ],
      "metadata": {
        "id": "9HBbGPCbSwtj",
        "outputId": "c6c313ae-b323-403d-c7a7-481b5e0747e1",
        "colab": {
          "base_uri": "https://localhost:8080/"
        }
      },
      "execution_count": 47,
      "outputs": [
        {
          "output_type": "stream",
          "name": "stdout",
          "text": [
            "1 1 1 2 3 3 5 5 7 8 9 11 13 \n"
          ]
        }
      ]
    },
    {
      "cell_type": "markdown",
      "source": [
        "2.b. merge_by_key\n",
        "\n",
        "merge_by_key performs a key-value merge. That is, merge_by_key copies elements from [keys_first1, keys_last1) and [keys_first2, keys_last2) into a single range, [keys_result, keys_result + (keys_last1 - keys_first1) + (keys_last2 - keys_first2)) such that the resulting range is in ascending key order.\n",
        "\n",
        "At the same time, merge_by_key copies elements from the two associated ranges [values_first1 + (keys_last1 - keys_first1)) and [values_first2 + (keys_last2 - keys_first2)) into a single range, [values_result, values_result + (keys_last1 - keys_first1) + (keys_last2 - keys_first2)) such that the resulting range is in ascending order implied by each input element’s associated key.\n",
        "\n",
        "merge_by_key is stable, meaning both that the relative order of elements within each input range is preserved, and that for equivalent elements in all input key ranges the element from the first range precedes the element from the second.\n",
        "\n",
        "The return value is is (keys_result + (keys_last1 - keys_first1) + (keys_last2 - keys_first2)) and (values_result + (keys_last1 - keys_first1) + (keys_last2 - keys_first2)).\n",
        "\n",
        "This version of merge_by_key compares key elements using a function object comp.\n",
        "\n",
        "The algorithm’s execution is parallelized using exec."
      ],
      "metadata": {
        "id": "zADXmwvSS7z0"
      }
    },
    {
      "cell_type": "code",
      "source": [
        "%%writefile merge_by_key.cu\n",
        "\n",
        "\n",
        "#include <thrust/functional.h>\n",
        "#include <thrust/execution_policy.h>\n",
        "#include <iostream>\n",
        "\n",
        "using namespace std;\n",
        "\n",
        "int main() {\n",
        "  int A_keys[6] = {11, 9, 7, 5, 3, 1};\n",
        "  int A_vals[6] = { 0, 0, 0, 0, 0, 0};\n",
        "\n",
        "  int B_keys[7] = {13, 8, 5, 3, 2, 1, 1};\n",
        "  int B_vals[7] = { 1, 1, 1, 1, 1, 1, 1};\n",
        "\n",
        "  int keys_result[13];\n",
        "  int vals_result[13];\n",
        "\n",
        "  thrust::pair<int*,int*> end =\n",
        "    thrust::merge_by_key(thrust::host,\n",
        "                       A_keys, A_keys + 6,\n",
        "                       B_keys, B_keys + 7,\n",
        "                       A_vals, B_vals,\n",
        "                       keys_result, vals_result,\n",
        "                       ::cuda::std::greater<int>());\n",
        "\n",
        "// keys_result = {13, 11, 9, 8, 7, 5, 5, 3, 3, 2, 1, 1, 1}\n",
        "// vals_result = { 1,  0, 0, 1, 0, 0, 1, 0, 1, 1, 0, 1, 1}\n",
        "\n",
        "  for(int i = 0; i < end.first - keys_result; i++) {\n",
        "    cout << keys_result[i] << \" \" << vals_result[i] << endl;\n",
        "  }\n",
        "  cout << endl;\n",
        "\n",
        "}"
      ],
      "metadata": {
        "id": "7gHLmYenTHGU",
        "outputId": "9155728a-cf26-458b-d05e-a2481b72c415",
        "colab": {
          "base_uri": "https://localhost:8080/"
        }
      },
      "execution_count": 48,
      "outputs": [
        {
          "output_type": "stream",
          "name": "stdout",
          "text": [
            "Writing merge_by_key.cu\n"
          ]
        }
      ]
    },
    {
      "cell_type": "code",
      "source": [
        "!nvcc -Icccl/thrust -Icccl/libcudacxx/include -Icccl/cub merge_by_key.cu -o merge_by_key -arch sm_75"
      ],
      "metadata": {
        "id": "MsABQog4TnxT"
      },
      "execution_count": 49,
      "outputs": []
    },
    {
      "cell_type": "code",
      "source": [
        "!./merge_by_key"
      ],
      "metadata": {
        "id": "5ZRg2vfXTuDD",
        "outputId": "d6aeadc4-6486-43f5-9366-6357171f7a28",
        "colab": {
          "base_uri": "https://localhost:8080/"
        }
      },
      "execution_count": 50,
      "outputs": [
        {
          "output_type": "stream",
          "name": "stdout",
          "text": [
            "13 1\n",
            "11 0\n",
            "9 0\n",
            "8 1\n",
            "7 0\n",
            "5 0\n",
            "5 1\n",
            "3 0\n",
            "3 1\n",
            "2 1\n",
            "1 0\n",
            "1 1\n",
            "1 1\n",
            "\n"
          ]
        }
      ]
    },
    {
      "cell_type": "markdown",
      "source": [
        "## 3. Prefix Sums\n",
        "\n",
        "a. inclusive_scan\n",
        "\n",
        "b. exclusive_scan\n"
      ],
      "metadata": {
        "id": "mBWQl-r6HdCW"
      }
    },
    {
      "cell_type": "markdown",
      "source": [
        "3.a. inclusive_scan\n",
        "\n",
        "inclusive_scan computes an inclusive prefix sum operation. The term ‘inclusive’ means that each result includes the corresponding input operand in the partial sum. When the input and output sequences are the same, the scan is performed in-place.\n",
        "\n",
        "inclusive_scan is similar to std::partial_sum in the STL. The primary difference between the two functions is that std::partial_sum guarantees a serial summation order, while inclusive_scan requires associativity of the binary operation to parallelize the prefix sum.\n",
        "\n",
        "Results are not deterministic for pseudo-associative operators (e.g., addition of floating-point types). Results for pseudo-associative operators may vary from run to run.\n",
        "\n",
        "The algorithm’s execution is parallelized as determined by exec."
      ],
      "metadata": {
        "id": "qnnRMBaBHj6F"
      }
    },
    {
      "cell_type": "code",
      "source": [
        "%%writefile inclusive_scan.cu\n",
        "#include <thrust/scan.h>\n",
        "#include <thrust/execution_policy.h>\n",
        "#include <thrust/functional.h>\n",
        "#include <iostream>\n",
        "#include <bits/stdc++.h>\n",
        "\n",
        "using namespace std;\n",
        "\n",
        "int main() {\n",
        "\n",
        "  int data[10] = {-5, 0, 2, -3, 2, 4, 0, -1, 2, 8};\n",
        "\n",
        "  thrust::maximum<int> binary_op;\n",
        "\n",
        "  thrust::inclusive_scan(thrust::host, data, data + 10, data, binary_op); // in-place scan\n",
        "\n",
        "  // data is now {-5, 0, 2, 2, 2, 4, 4, 4, 4, 8}\n",
        "\n",
        "  for(int i = 0; i < 10; i++) {\n",
        "    cout << data[i] << \" \";\n",
        "  }\n",
        "  cout << endl;\n",
        "\n",
        "  return 0;\n",
        "\n",
        "}\n"
      ],
      "metadata": {
        "id": "V2EORFt7LWIO",
        "outputId": "6f8d9d20-2637-4fb2-88df-cea1770d1064",
        "colab": {
          "base_uri": "https://localhost:8080/"
        }
      },
      "execution_count": 51,
      "outputs": [
        {
          "output_type": "stream",
          "name": "stdout",
          "text": [
            "Writing inclusive_scan.cu\n"
          ]
        }
      ]
    },
    {
      "cell_type": "code",
      "source": [
        "!nvcc -Icccl/thrust -Icccl/libcudacxx/include -Icccl/cub inclusive_scan.cu -o inclusive_scan -arch sm_75"
      ],
      "metadata": {
        "id": "f3c7JqzcIGsu"
      },
      "execution_count": 52,
      "outputs": []
    },
    {
      "cell_type": "code",
      "source": [
        "!./inclusive_scan\n"
      ],
      "metadata": {
        "colab": {
          "base_uri": "https://localhost:8080/"
        },
        "id": "ZPW6jA0kKhgX",
        "outputId": "33162b5f-ba24-493e-87db-197345d53b0c"
      },
      "execution_count": 53,
      "outputs": [
        {
          "output_type": "stream",
          "name": "stdout",
          "text": [
            "-5 0 2 2 2 4 4 4 4 8 \n"
          ]
        }
      ]
    },
    {
      "cell_type": "markdown",
      "source": [
        "3.b. exclusive_scan\n",
        "\n",
        "exclusive_scan computes an exclusive prefix sum operation. The term ‘exclusive’ means that each result does not include the corresponding input operand in the partial sum. More precisely, init is assigned to *result and the value binary_op(init, *first) is assigned to *(result + 1), and so on. This version of the function requires both an associative operator and an initial value init. When the input and output sequences are the same, the scan is performed in-place.\n",
        "\n",
        "Results are not deterministic for pseudo-associative operators (e.g., addition of floating-point types). Results for pseudo-associative operators may vary from run to run.\n",
        "\n",
        "The algorithm’s execution is parallelized as determined by exec."
      ],
      "metadata": {
        "id": "iPaZ34kuLqw4"
      }
    },
    {
      "cell_type": "code",
      "source": [
        "%%writefile exclusive_scan.cu\n",
        "#include <thrust/scan.h>\n",
        "#include <thrust/execution_policy.h>\n",
        "#include <thrust/functional.h>\n",
        "#include <iostream>\n",
        "#include <bits/stdc++.h>\n",
        "\n",
        "using namespace std;\n",
        "\n",
        "int main() {\n",
        "\n",
        "  int data[10] = {-5, 0, 2, -3, 2, 4, 0, -1, 2, 8};\n",
        "\n",
        "  thrust::maximum<int> binary_op;\n",
        "  // The initial value is 1\n",
        "  thrust::exclusive_scan(thrust::host, data, data + 10, data, 1, binary_op); // in-place scan\n",
        "\n",
        "  // data is now {1, 1, 1, 2, 2, 2, 4, 4, 4, 4 }\n",
        "\n",
        "  for(int i = 0; i < 10; i++) {\n",
        "    cout << data[i] << \" \";\n",
        "  }\n",
        "  cout << endl;\n",
        "\n",
        "  return 0;\n",
        "\n",
        "}\n"
      ],
      "metadata": {
        "colab": {
          "base_uri": "https://localhost:8080/"
        },
        "id": "4HyzfHHyL55V",
        "outputId": "5031cd3f-df99-4071-ec9e-96adc60337d7"
      },
      "execution_count": 54,
      "outputs": [
        {
          "output_type": "stream",
          "name": "stdout",
          "text": [
            "Writing exclusive_scan.cu\n"
          ]
        }
      ]
    },
    {
      "cell_type": "code",
      "source": [
        "!nvcc -Icccl/thrust -Icccl/libcudacxx/include -Icccl/cub exclusive_scan.cu -o exclusive_scan -arch sm_75"
      ],
      "metadata": {
        "id": "fBlPka3eLdpf"
      },
      "execution_count": 55,
      "outputs": []
    },
    {
      "cell_type": "code",
      "source": [
        "!./exclusive_scan"
      ],
      "metadata": {
        "colab": {
          "base_uri": "https://localhost:8080/"
        },
        "id": "DCQ__wHwMi22",
        "outputId": "90f900c0-79f7-427a-a54b-1ddbbf26629f"
      },
      "execution_count": 56,
      "outputs": [
        {
          "output_type": "stream",
          "name": "stdout",
          "text": [
            "1 1 1 2 2 2 4 4 4 4 \n"
          ]
        }
      ]
    },
    {
      "cell_type": "markdown",
      "source": [
        "## 4. Reductions\n",
        "\n",
        "a. Comparisons\n",
        "\n",
        "b. Counting\n",
        "\n",
        "c. Extrema\n",
        "\n",
        "d. Logical\n",
        "\n",
        "e. Predicates\n",
        "\n",
        "f. Transformed Reductions\n",
        "\n",
        "g. thrust::reduce\n",
        "\n",
        "h. thrust::reduce_by_key\n",
        "\n",
        "i. thrust::reduce_into"
      ],
      "metadata": {
        "id": "UgQUnR5zdVsx"
      }
    },
    {
      "cell_type": "markdown",
      "source": [],
      "metadata": {
        "id": "G_aJ3uK7eB2R"
      }
    },
    {
      "cell_type": "markdown",
      "source": [
        "4.a. Comparisons\n",
        "\n",
        "equal returns true if the two ranges [first1, last1) and [first2, first2 + (last1 - first1)) are identical when compared element-by-element, and otherwise returns false.\n",
        "\n",
        "This version of equal returns true if and only if for every iterator i in [first1, last1), binary_pred(*i, *(first2 + (i - first1))) is true.\n",
        "\n",
        "The following code snippet demonstrates how to use equal to compare the elements in two ranges modulo 2."
      ],
      "metadata": {
        "id": "MqUYM7WReG7J"
      }
    },
    {
      "cell_type": "code",
      "source": [
        "%%writefile equal.cu\n",
        "#include <thrust/equal.h>\n",
        "#include <iostream>\n",
        "\n",
        "using namespace std;\n",
        "\n",
        "struct compare_modulo_two\n",
        "{\n",
        "  __host__ __device__\n",
        "  bool operator()(int x, int y) const\n",
        "  {\n",
        "    return (x % 2) == (y % 2);\n",
        "  }\n",
        "};\n",
        "\n",
        "int main() {\n",
        "  int x[6] = {0, 2, 4, 6, 8, 10};\n",
        "  int y[6] = {1, 3, 5, 7, 9, 11};\n",
        "\n",
        "  bool result = thrust::equal(x, x + 5, y, compare_modulo_two());\n",
        "\n",
        "  // result is false\n",
        "  cout << result << endl;\n",
        "\n",
        "  return 0;\n",
        "}"
      ],
      "metadata": {
        "id": "W1FjFsrheTpZ",
        "outputId": "278daa22-236c-4d7a-eee0-fa46ee598ac0",
        "colab": {
          "base_uri": "https://localhost:8080/"
        }
      },
      "execution_count": 57,
      "outputs": [
        {
          "output_type": "stream",
          "name": "stdout",
          "text": [
            "Writing equal.cu\n"
          ]
        }
      ]
    },
    {
      "cell_type": "code",
      "source": [
        "!nvcc -Icccl/thrust -Icccl/libcudacxx/include -Icccl/cub equal.cu -o equal -arch sm_75"
      ],
      "metadata": {
        "id": "8vUNTfz2enYa"
      },
      "execution_count": 58,
      "outputs": []
    },
    {
      "cell_type": "code",
      "source": [
        "!./equal"
      ],
      "metadata": {
        "id": "ta8NnIJ0evoB",
        "outputId": "15f05b0a-4858-44b4-a2bf-d25bfd99f17a",
        "colab": {
          "base_uri": "https://localhost:8080/"
        }
      },
      "execution_count": 59,
      "outputs": [
        {
          "output_type": "stream",
          "name": "stdout",
          "text": [
            "0\n"
          ]
        }
      ]
    },
    {
      "cell_type": "markdown",
      "source": [
        "4.b. Counting\n",
        "\n",
        "count finds the number of elements in [first,last) that are equal to value. More precisely, count returns the number of iterators i in [first, last) such that *i == value.\n",
        "\n",
        "count_if finds the number of elements in [first,last) for which a predicate is true. More precisely, count_if returns the number of iterators i in [first, last) such that pred(*i) == true.\n",
        "\n",
        "The algorithm’s execution is parallelized as determined by exec."
      ],
      "metadata": {
        "id": "fejOFYOufRu5"
      }
    },
    {
      "cell_type": "code",
      "source": [
        "%%writefile count.cu\n",
        "#include <thrust/count.h>\n",
        "#include <thrust/device_vector.h>\n",
        "#include <thrust/execution_policy.h>\n",
        "#include <iostream>\n",
        "\n",
        "using namespace std;\n",
        "\n",
        "struct is_odd\n",
        "{\n",
        "  __host__ __device__\n",
        "  bool operator()(int x)\n",
        "  {\n",
        "    return x % 2 == 1;\n",
        "  }\n",
        "};\n",
        "\n",
        "int main() {\n",
        "// Example of count\n",
        " thrust::device_vector<int> vec(5,0);\n",
        "  vec[1] = 1;\n",
        "  vec[3] = 1;\n",
        "  vec[4] = 1;\n",
        "\n",
        "  // count the 1s\n",
        "  int result = thrust::count(vec.begin(), vec.end(), 1);\n",
        "  // result == 3\n",
        "  cout << result << endl;\n",
        "// ------------------------------------------------\n",
        "// Example of count_if\n",
        "// fill a device_vector with even & odd numbers\n",
        "\n",
        "  vec[0] = 0;\n",
        "  vec[1] = 1;\n",
        "  vec[2] = 2;\n",
        "  vec[3] = 3;\n",
        "  vec[4] = 4;\n",
        "\n",
        "// count the odd elements in vec\n",
        "   result = thrust::count_if(thrust::device, vec.begin(), vec.end(), is_odd());\n",
        "// result == 2\n",
        "  cout << result << endl;\n",
        "  return 0;\n",
        "}"
      ],
      "metadata": {
        "id": "Vo6Sb38zfi1x",
        "outputId": "bd3d3da7-4e98-4d1d-8d00-2df3f7248e03",
        "colab": {
          "base_uri": "https://localhost:8080/"
        }
      },
      "execution_count": 60,
      "outputs": [
        {
          "output_type": "stream",
          "name": "stdout",
          "text": [
            "Writing count.cu\n"
          ]
        }
      ]
    },
    {
      "cell_type": "code",
      "source": [
        "!nvcc -Icccl/thrust -Icccl/libcudacxx/include -Icccl/cub count.cu -o count -arch sm_75"
      ],
      "metadata": {
        "id": "vzYH-NN_f6nx"
      },
      "execution_count": 61,
      "outputs": []
    },
    {
      "cell_type": "code",
      "source": [
        "!./count"
      ],
      "metadata": {
        "id": "paVCrwUSgAYZ",
        "outputId": "22395825-a2bb-4b45-c14d-1bebff52be88",
        "colab": {
          "base_uri": "https://localhost:8080/"
        }
      },
      "execution_count": 62,
      "outputs": [
        {
          "output_type": "stream",
          "name": "stdout",
          "text": [
            "3\n",
            "2\n"
          ]
        }
      ]
    },
    {
      "cell_type": "markdown",
      "source": [
        "4.c. Extrema\n",
        "\n",
        "minmax_element finds the smallest and largest elements in the range [first, last). It returns a pair of iterators (imin, imax) where imin is the same iterator returned by min_element and imax is the same iterator returned by max_element. This function is potentially more efficient than separate calls to min_element and max_element."
      ],
      "metadata": {
        "id": "Y7FznuqIiI4h"
      }
    },
    {
      "cell_type": "code",
      "source": [
        "%%writefile minmax.cu\n",
        "#include <thrust/extrema.h>\n",
        "#include <thrust/pair.h>\n",
        "#include <iostream>\n",
        "\n",
        "using namespace std;\n",
        "\n",
        "struct key_value\n",
        "{\n",
        "  int key;\n",
        "  int value;\n",
        "};\n",
        "\n",
        "struct compare_key_value\n",
        "{\n",
        "  __host__ __device__\n",
        "  bool operator()(key_value lhs, key_value rhs)\n",
        "  {\n",
        "    return lhs.key < rhs.key;\n",
        "  }\n",
        "};\n",
        "\n",
        "int main() {\n",
        "  key_value data[4] = { {4,5}, {0,7}, {2,3}, {6,1} };\n",
        "\n",
        "  thrust::pair<key_value*,key_value*> extrema = thrust::minmax_element(data, data + 4, compare_key_value());\n",
        "\n",
        "  // extrema.first   == data + 1\n",
        "  // *extrema.first  == {0,7}\n",
        "  // extrema.second  == data + 3\n",
        "  // *extrema.second == {6,1}\n",
        "  cout << (*extrema.first).key << \" \" << (*extrema.first).value << endl;\n",
        "  cout << (*extrema.second).key << \" \" << (*extrema.second).value << endl;\n",
        "\n",
        "  return 0;\n",
        "}"
      ],
      "metadata": {
        "id": "7NatgJyChzSZ",
        "outputId": "b38e2ff7-cc6f-45c4-ea90-3aa172f8787c",
        "colab": {
          "base_uri": "https://localhost:8080/"
        }
      },
      "execution_count": 63,
      "outputs": [
        {
          "output_type": "stream",
          "name": "stdout",
          "text": [
            "Writing minmax.cu\n"
          ]
        }
      ]
    },
    {
      "cell_type": "code",
      "source": [],
      "metadata": {
        "id": "lZ-MOAvyjiXC"
      },
      "execution_count": 63,
      "outputs": []
    },
    {
      "cell_type": "code",
      "source": [
        "!nvcc -Icccl/thrust -Icccl/libcudacxx/include -Icccl/cub minmax.cu -o minmax -arch sm_75"
      ],
      "metadata": {
        "id": "HheVffZQip_T"
      },
      "execution_count": 64,
      "outputs": []
    },
    {
      "cell_type": "code",
      "source": [
        "!./minmax"
      ],
      "metadata": {
        "id": "dfdBnjwDji6J",
        "outputId": "cb0e3c05-5a04-4627-9e03-2854203e1307",
        "colab": {
          "base_uri": "https://localhost:8080/"
        }
      },
      "execution_count": 65,
      "outputs": [
        {
          "output_type": "stream",
          "name": "stdout",
          "text": [
            "0 7\n",
            "6 1\n"
          ]
        }
      ]
    },
    {
      "cell_type": "code",
      "source": [
        "%%writefile maxelement.cu\n",
        "#include <thrust/extrema.h>\n",
        "#include <thrust/pair.h>\n",
        "#include <iostream>\n",
        "\n",
        "using namespace std;\n",
        "\n",
        "struct key_value\n",
        "{\n",
        "  int key;\n",
        "  int value;\n",
        "};\n",
        "\n",
        "struct compare_key_value\n",
        "{\n",
        "  __host__ __device__\n",
        "  bool operator()(key_value lhs, key_value rhs)\n",
        "  {\n",
        "    return lhs.key < rhs.key;\n",
        "  }\n",
        "};\n",
        "\n",
        "int main() {\n",
        "  key_value data[4] = { {4,5}, {0,7}, {2,3}, {6,1} };\n",
        "\n",
        "  key_value *largest = thrust::max_element(thrust::host, data, data + 4, compare_key_value());\n",
        "\n",
        "  // largest == data + 3\n",
        "  // *largest == {6,1}\n",
        "  cout << (*largest).key << \" \" << (*largest).value << endl;\n",
        "\n",
        "  return 0;\n",
        "}"
      ],
      "metadata": {
        "id": "w5_bPgLFj-7y",
        "outputId": "f655fb4e-e559-4beb-9d33-2214afbb2efa",
        "colab": {
          "base_uri": "https://localhost:8080/"
        }
      },
      "execution_count": 66,
      "outputs": [
        {
          "output_type": "stream",
          "name": "stdout",
          "text": [
            "Writing maxelement.cu\n"
          ]
        }
      ]
    },
    {
      "cell_type": "code",
      "source": [
        "!nvcc -Icccl/thrust -Icccl/libcudacxx/include -Icccl/cub maxelement.cu -o maxelement -arch sm_75"
      ],
      "metadata": {
        "id": "ewlJob59kQSx"
      },
      "execution_count": 67,
      "outputs": []
    },
    {
      "cell_type": "code",
      "source": [
        "!./maxelement"
      ],
      "metadata": {
        "id": "eppSdzi2kgVp",
        "outputId": "4ffab940-7c2d-4f6f-e0ea-241380be104a",
        "colab": {
          "base_uri": "https://localhost:8080/"
        }
      },
      "execution_count": 68,
      "outputs": [
        {
          "output_type": "stream",
          "name": "stdout",
          "text": [
            "6 1\n"
          ]
        }
      ]
    },
    {
      "cell_type": "code",
      "source": [
        "%%writefile minelement.cu\n",
        "#include <thrust/extrema.h>\n",
        "#include <thrust/pair.h>\n",
        "#include <iostream>\n",
        "\n",
        "using namespace std;\n",
        "\n",
        "struct key_value\n",
        "{\n",
        "  int key;\n",
        "  int value;\n",
        "};\n",
        "\n",
        "struct compare_key_value\n",
        "{\n",
        "  __host__ __device__\n",
        "  bool operator()(key_value lhs, key_value rhs)\n",
        "  {\n",
        "    return lhs.key < rhs.key;\n",
        "  }\n",
        "};\n",
        "\n",
        "int main() {\n",
        "\n",
        "  key_value data[4] = { {4,5}, {0,7}, {2,3}, {6,1} };\n",
        "\n",
        "  key_value *smallest = thrust::min_element(thrust::host, data, data + 4, compare_key_value());\n",
        "\n",
        "// smallest == data + 1\n",
        "// *smallest == {0,7}\n",
        "  cout << (*smallest).key << \" \" << (*smallest).value << endl;\n",
        "\n",
        "  return 0;\n",
        "}"
      ],
      "metadata": {
        "id": "6CD3qseBkx6h",
        "outputId": "894a3059-1c27-4b43-fdc3-b42508a32fde",
        "colab": {
          "base_uri": "https://localhost:8080/"
        }
      },
      "execution_count": 69,
      "outputs": [
        {
          "output_type": "stream",
          "name": "stdout",
          "text": [
            "Writing minelement.cu\n"
          ]
        }
      ]
    },
    {
      "cell_type": "code",
      "source": [
        "!nvcc -Icccl/thrust -Icccl/libcudacxx/include -Icccl/cub minelement.cu -o minelement -arch sm_75"
      ],
      "metadata": {
        "id": "uEA2WgsolBlC"
      },
      "execution_count": 70,
      "outputs": []
    },
    {
      "cell_type": "code",
      "source": [
        "!./minelement"
      ],
      "metadata": {
        "id": "VBfbLOpxlQLq",
        "outputId": "5627b238-1194-4a73-c114-2b51c738f889",
        "colab": {
          "base_uri": "https://localhost:8080/"
        }
      },
      "execution_count": 71,
      "outputs": [
        {
          "output_type": "stream",
          "name": "stdout",
          "text": [
            "0 7\n"
          ]
        }
      ]
    },
    {
      "cell_type": "markdown",
      "source": [
        "## 4.d. Logical\n",
        "\n",
        "4.d.1.  all_of\n",
        "\n",
        "4.d.2.  any_of\n",
        "\n",
        "4.d.3   none_of\n",
        "\n"
      ],
      "metadata": {
        "id": "Wwu_ELKu8B5M"
      }
    },
    {
      "cell_type": "markdown",
      "source": [
        "## 4.d.1. all_of\n",
        "\n",
        "all_of determines whether all elements in a range satisfy a predicate. Specifically, all_of returns true if pred(*i) is true for every iterator i in the range [first, last) and false otherwise.\n",
        "\n",
        "The algorithm’s execution is parallelized as determined by exec."
      ],
      "metadata": {
        "id": "2BJQif3X8PJp"
      }
    },
    {
      "cell_type": "code",
      "source": [
        "%%writefile all_of.cu\n",
        "#include <thrust/logical.h>\n",
        "#include <thrust/functional.h>\n",
        "#include <thrust/execution_policy.h>\n",
        "#include <iostream>\n",
        "\n",
        "using namespace std;\n",
        "\n",
        "int main() {\n",
        "  bool A[3] = {true, true, false};\n",
        "  bool result;\n",
        "  result = thrust::all_of(thrust::host, A, A + 2, ::cuda::std::identity{}); // returns true\n",
        "  cout << result << endl;\n",
        "  result = thrust::all_of(thrust::host, A, A + 3, ::cuda::std::identity{}); // returns false\n",
        "  cout << result << endl;\n",
        "  // empty range\n",
        "  result = thrust::all_of(thrust::host, A, A, ::cuda::std::identity{}); // returns true\n",
        "  cout << result << endl;\n",
        "  return 0;\n",
        "\n",
        "}"
      ],
      "metadata": {
        "id": "R9P9LGNx8Xx7",
        "outputId": "45ee5450-e838-4850-d868-1c8ee7021e53",
        "colab": {
          "base_uri": "https://localhost:8080/"
        }
      },
      "execution_count": 72,
      "outputs": [
        {
          "output_type": "stream",
          "name": "stdout",
          "text": [
            "Writing all_of.cu\n"
          ]
        }
      ]
    },
    {
      "cell_type": "code",
      "source": [
        "!nvcc -Icccl/thrust -Icccl/libcudacxx/include -Icccl/cub all_of.cu -o all_of -arch sm_75"
      ],
      "metadata": {
        "id": "-2Kfji7v83rm"
      },
      "execution_count": 73,
      "outputs": []
    },
    {
      "cell_type": "code",
      "source": [
        "!./all_of"
      ],
      "metadata": {
        "id": "6jRPy34z9JCc",
        "outputId": "d320caf2-3596-41f0-d362-85254b850dcc",
        "colab": {
          "base_uri": "https://localhost:8080/"
        }
      },
      "execution_count": 74,
      "outputs": [
        {
          "output_type": "stream",
          "name": "stdout",
          "text": [
            "1\n",
            "0\n",
            "1\n"
          ]
        }
      ]
    },
    {
      "cell_type": "markdown",
      "source": [
        "## 4.d.2. any_of\n",
        "\n",
        "any_of determines whether any element in a range satisfies a predicate. Specifically, any_of returns true if pred(*i) is true for any iterator i in the range [first, last) and false otherwise."
      ],
      "metadata": {
        "id": "ZYoozIWI9OoR"
      }
    },
    {
      "cell_type": "code",
      "source": [
        "%%writefile any_of.cu\n",
        "#include <thrust/logical.h>\n",
        "#include <thrust/functional.h>\n",
        "#include <thrust/execution_policy.h>\n",
        "#include <iostream>\n",
        "\n",
        "using namespace std;\n",
        "\n",
        "int main() {\n",
        "  bool A[3] = {true, true, false};\n",
        "  bool result;\n",
        "  result = thrust::any_of(A, A + 2, ::cuda::std::identity{}); // returns true\n",
        "  cout << result << endl;\n",
        "  result = thrust::any_of(A, A + 3, ::cuda::std::identity{}); // returns true\n",
        "  cout << result << endl;\n",
        "  result = thrust::any_of(A + 2, A + 3, ::cuda::std::identity{}); // returns false\n",
        "  cout << result << endl;\n",
        "  // empty range\n",
        "  result = thrust::any_of(A, A, ::cuda::std::identity{}); // returns false\n",
        "  cout << result << endl;\n",
        "  return 0;\n",
        "\n",
        "}"
      ],
      "metadata": {
        "id": "B3zJQ2qW9Vh6",
        "outputId": "8f3b946c-cbf0-4a44-f848-842910bb552a",
        "colab": {
          "base_uri": "https://localhost:8080/"
        }
      },
      "execution_count": 75,
      "outputs": [
        {
          "output_type": "stream",
          "name": "stdout",
          "text": [
            "Writing any_of.cu\n"
          ]
        }
      ]
    },
    {
      "cell_type": "code",
      "source": [
        "!nvcc -Icccl/thrust -Icccl/libcudacxx/include -Icccl/cub any_of.cu -o any_of -arch sm_75"
      ],
      "metadata": {
        "id": "qw8Ilwqu9pKW"
      },
      "execution_count": 76,
      "outputs": []
    },
    {
      "cell_type": "code",
      "source": [
        "!./any_of"
      ],
      "metadata": {
        "id": "XqlTEBug93UV",
        "outputId": "4a259a0a-8dc6-4a68-887d-047a944f5845",
        "colab": {
          "base_uri": "https://localhost:8080/"
        }
      },
      "execution_count": 77,
      "outputs": [
        {
          "output_type": "stream",
          "name": "stdout",
          "text": [
            "1\n",
            "1\n",
            "0\n",
            "0\n"
          ]
        }
      ]
    },
    {
      "cell_type": "markdown",
      "source": [
        "## 4.d.3. none_of\n",
        "\n",
        "none_of determines whether no element in a range satisfies a predicate. Specifically, none_of returns true if there is no iterator i in the range [first, last) such that pred(*i) is true, and false otherwise.\n",
        "\n",
        "The algorithm’s execution is parallelized as determined by exec."
      ],
      "metadata": {
        "id": "Gh4BLUyP-FDk"
      }
    },
    {
      "cell_type": "code",
      "source": [
        "%%writefile none_of.cu\n",
        "#include <thrust/logical.h>\n",
        "#include <thrust/functional.h>\n",
        "#include <thrust/execution_policy.h>\n",
        "#include <iostream>\n",
        "\n",
        "using namespace std;\n",
        "\n",
        "int main() {\n",
        "  bool A[3] = {true, true, false};\n",
        "  bool result;\n",
        "\n",
        "  result = thrust::none_of(thrust::host, A, A + 2, ::cuda::std::identity{}); // returns false\n",
        "  cout << result << endl;\n",
        "  result = thrust::none_of(thrust::host, A, A + 3, ::cuda::std::identity{}); // returns false\n",
        "  cout << result << endl;\n",
        "  result = thrust::none_of(thrust::host, A + 2, A + 3, ::cuda::std::identity{}); // returns true\n",
        "  cout << result << endl;\n",
        "  // empty range\n",
        "  result = thrust::none_of(thrust::host, A, A, ::cuda::std::identity{}); // returns true\n",
        "  cout << result << endl;\n",
        "  return 0;\n",
        "\n",
        "}"
      ],
      "metadata": {
        "id": "z0kAepgr-R2r",
        "outputId": "90f60260-a341-4405-e454-7dd424108f46",
        "colab": {
          "base_uri": "https://localhost:8080/"
        }
      },
      "execution_count": 78,
      "outputs": [
        {
          "output_type": "stream",
          "name": "stdout",
          "text": [
            "Writing none_of.cu\n"
          ]
        }
      ]
    },
    {
      "cell_type": "code",
      "source": [
        "!nvcc -Icccl/thrust -Icccl/libcudacxx/include -Icccl/cub none_of.cu -o none_of -arch sm_75"
      ],
      "metadata": {
        "id": "8e7rsyBP-nb6"
      },
      "execution_count": 79,
      "outputs": []
    },
    {
      "cell_type": "code",
      "source": [
        "!./none_of"
      ],
      "metadata": {
        "id": "gciQB-KR-tIq",
        "outputId": "74dcee7c-ea87-432d-8c97-af0906fc9a5d",
        "colab": {
          "base_uri": "https://localhost:8080/"
        }
      },
      "execution_count": 80,
      "outputs": [
        {
          "output_type": "stream",
          "name": "stdout",
          "text": [
            "0\n",
            "0\n",
            "1\n",
            "1\n"
          ]
        }
      ]
    },
    {
      "cell_type": "markdown",
      "source": [
        "## 4.e. Predicates\n",
        "\n",
        "4.e.1. is_sorted\n",
        "\n",
        "4.e.2 is_sorted_until\n",
        "\n",
        "4.e.3 is partitioned"
      ],
      "metadata": {
        "id": "z-th2UvTQz7H"
      }
    },
    {
      "cell_type": "markdown",
      "source": [
        "## 4.e.1 is_sorted\n",
        "\n",
        "is_sorted returns true if the range [first, last) is sorted in ascending order, and false otherwise.\n",
        "\n",
        "Specifically, this version of is_sorted returns false if for some iterator i in the range [first, last - 1) the expression *(i + 1) < *i is true.\n",
        "\n",
        "The algorithm’s execution is parallelized as determined by exec.\n",
        "\n",
        "The following code demonstrates how to use is_sorted to test whether the contents of a device_vector are stored in ascending order using the thrust::device execution policy for parallelization."
      ],
      "metadata": {
        "id": "ows5KN-oQ_GH"
      }
    },
    {
      "cell_type": "code",
      "source": [
        "%%writefile is_sorted.cu\n",
        "#include <thrust/sort.h>\n",
        "#include <thrust/device_vector.h>\n",
        "#include <thrust/sort.h>\n",
        "#include <thrust/execution_policy.h>\n",
        "#include <iostream>\n",
        "\n",
        "using namespace std;\n",
        "\n",
        "int main() {\n",
        "  thrust::device_vector<int> v(6);\n",
        "  v[0] = 1;\n",
        "  v[1] = 4;\n",
        "  v[2] = 2;\n",
        "  v[3] = 8;\n",
        "  v[4] = 5;\n",
        "  v[5] = 7;\n",
        "\n",
        "  bool result = thrust::is_sorted(thrust::device, v.begin(), v.end());\n",
        "\n",
        "  // result == false\n",
        "  cout << result << endl;\n",
        "\n",
        "  thrust::sort(v.begin(), v.end());\n",
        "  result = thrust::is_sorted(thrust::device, v.begin(), v.end());\n",
        "\n",
        "  // result == true\n",
        "  cout << result << endl;\n",
        "  return 0;\n",
        "}"
      ],
      "metadata": {
        "id": "hjJGOrw6RJff",
        "outputId": "e418799e-4e46-44b5-938b-545ee1f42bc1",
        "colab": {
          "base_uri": "https://localhost:8080/"
        }
      },
      "execution_count": 81,
      "outputs": [
        {
          "output_type": "stream",
          "name": "stdout",
          "text": [
            "Writing is_sorted.cu\n"
          ]
        }
      ]
    },
    {
      "cell_type": "code",
      "source": [
        "!nvcc -Icccl/thrust -Icccl/libcudacxx/include -Icccl/cub is_sorted.cu -o is_sorted -arch sm_75"
      ],
      "metadata": {
        "id": "omnHDcbcRlGX"
      },
      "execution_count": 82,
      "outputs": []
    },
    {
      "cell_type": "code",
      "source": [
        "!./is_sorted"
      ],
      "metadata": {
        "id": "FxwEBD8dRuXw",
        "outputId": "193d0b40-6fdb-4626-aeab-1499283d79c8",
        "colab": {
          "base_uri": "https://localhost:8080/"
        }
      },
      "execution_count": 83,
      "outputs": [
        {
          "output_type": "stream",
          "name": "stdout",
          "text": [
            "0\n",
            "1\n"
          ]
        }
      ]
    },
    {
      "cell_type": "markdown",
      "source": [
        "## 4.e.2. is_sorted_until\n",
        "\n",
        "This version of is_sorted_until returns the last iterator i in [first,last] for which the range [first,last) is sorted using operator<. If distance(first,last) < 2, is_sorted_until simply returns last."
      ],
      "metadata": {
        "id": "6w1tUKYURzRH"
      }
    },
    {
      "cell_type": "code",
      "source": [
        "%%writefile is_sorted_until.cu\n",
        "#include <thrust/sort.h>\n",
        "#include <iostream>\n",
        "\n",
        "using namespace std;\n",
        "\n",
        "int main() {\n",
        "\n",
        "  int A[8] = {0, 1, 2, 3, 0, 1, 2, 3};\n",
        "\n",
        "  int * B = thrust::is_sorted_until(A, A + 8);\n",
        "\n",
        "  // B - A is 4\n",
        "  // [A, B) is sorted\n",
        "  int resultDifference = B - A;\n",
        "  cout << resultDifference << endl;\n",
        "  bool result = thrust::is_sorted(thrust::host, A, B);\n",
        "  cout << result << endl;\n",
        "}"
      ],
      "metadata": {
        "id": "r02OctZ5R-OH",
        "outputId": "710b2671-f965-4307-ff09-3c632132a616",
        "colab": {
          "base_uri": "https://localhost:8080/"
        }
      },
      "execution_count": 84,
      "outputs": [
        {
          "output_type": "stream",
          "name": "stdout",
          "text": [
            "Writing is_sorted_until.cu\n"
          ]
        }
      ]
    },
    {
      "cell_type": "code",
      "source": [
        "!nvcc -Icccl/thrust -Icccl/libcudacxx/include -Icccl/cub is_sorted_until.cu -o is_sorted_until -arch sm_75"
      ],
      "metadata": {
        "id": "0PLZcP1rSrqn"
      },
      "execution_count": 85,
      "outputs": []
    },
    {
      "cell_type": "code",
      "source": [
        "!./is_sorted_until"
      ],
      "metadata": {
        "id": "uGCCF_1kTB_I",
        "outputId": "8bb810d6-858f-4184-cc5f-4659fa0fd345",
        "colab": {
          "base_uri": "https://localhost:8080/"
        }
      },
      "execution_count": 86,
      "outputs": [
        {
          "output_type": "stream",
          "name": "stdout",
          "text": [
            "4\n",
            "1\n"
          ]
        }
      ]
    },
    {
      "cell_type": "markdown",
      "source": [
        "## 4.e.3. is_partitioned\n",
        "\n",
        "is_partitioned returns true if the given range is partitioned with respect to a predicate, and false otherwise.\n",
        "\n",
        "Specifically, is_partitioned returns true if [first, last) is empty of if [first, last) is partitioned by pred, i.e. if all elements that satisfy pred appear before those that do not."
      ],
      "metadata": {
        "id": "-GVuT-aeUC3d"
      }
    },
    {
      "cell_type": "code",
      "source": [
        "%%writefile is_partitioned.cu\n",
        "#include <thrust/partition.h>\n",
        "#include <iostream>\n",
        "\n",
        "using namespace std;\n",
        "\n",
        "struct is_even\n",
        "{\n",
        "  __host__ __device__\n",
        "  bool operator()(const int &x)\n",
        "  {\n",
        "    return (x % 2) == 0;\n",
        "  }\n",
        "};\n",
        "\n",
        "int main() {\n",
        "\n",
        "  int A[] = {2, 4, 6, 8, 10, 1, 3, 5, 7, 9};\n",
        "  int B[] = {1, 2, 3, 4, 5, 6, 7, 8, 9, 10};\n",
        "  bool result;\n",
        "  result = thrust::is_partitioned(A, A + 10, is_even()); // returns true\n",
        "  cout << result << endl;\n",
        "  result = thrust::is_partitioned(B, B + 10, is_even()); // returns false\n",
        "  cout << result << endl;\n",
        "  return 0;\n",
        "}"
      ],
      "metadata": {
        "id": "OXj0S4IXUMgn",
        "outputId": "8046f568-02d0-4f06-c079-0b9b7edd6d09",
        "colab": {
          "base_uri": "https://localhost:8080/"
        }
      },
      "execution_count": 87,
      "outputs": [
        {
          "output_type": "stream",
          "name": "stdout",
          "text": [
            "Writing is_partitioned.cu\n"
          ]
        }
      ]
    },
    {
      "cell_type": "code",
      "source": [
        "!nvcc -Icccl/thrust -Icccl/libcudacxx/include -Icccl/cub is_partitioned.cu -o is_partitioned -arch sm_75"
      ],
      "metadata": {
        "id": "IKALWkZwUl5Y"
      },
      "execution_count": 88,
      "outputs": []
    },
    {
      "cell_type": "code",
      "source": [
        "!./is_partitioned"
      ],
      "metadata": {
        "id": "TuRBbZ0XUvLw",
        "outputId": "ab8e8c4d-8e46-4ef6-9181-cec48842874e",
        "colab": {
          "base_uri": "https://localhost:8080/"
        }
      },
      "execution_count": 89,
      "outputs": [
        {
          "output_type": "stream",
          "name": "stdout",
          "text": [
            "1\n",
            "0\n"
          ]
        }
      ]
    },
    {
      "cell_type": "markdown",
      "source": [
        "## 4.f Transformed Reductions\n",
        "\n",
        "4.f.1. tranform_reduce\n",
        "\n",
        "4.f.2 inner_product"
      ],
      "metadata": {
        "id": "guQX3sWIVaOA"
      }
    },
    {
      "cell_type": "markdown",
      "source": [
        "## 4.f.1. transform_reduce\n",
        "\n",
        "transform_reduce fuses the transform and reduce operations. transform_reduce is equivalent to performing a transformation defined by unary_op into a temporary sequence and then performing reduce on the transformed sequence. In most cases, fusing these two operations together is more efficient, since fewer memory reads and writes are required.\n",
        "\n",
        "transform_reduce performs a reduction on the transformation of the sequence [first, last) according to unary_op. Specifically, unary_op is applied to each element of the sequence and then the result is reduced to a single value with binary_op using the initial value init. Note that the transformation unary_op is not applied to the initial value init. The order of reduction is not specified, so binary_op must be both commutative and associative.\n",
        "\n",
        "The algorithm’s execution is parallelized as determined by exec."
      ],
      "metadata": {
        "id": "M9X3ZaUTVjuI"
      }
    },
    {
      "cell_type": "code",
      "source": [
        "%%writefile transform_reduce.cu\n",
        "\n",
        "#include <thrust/transform_reduce.h>\n",
        "#include <thrust/functional.h>\n",
        "#include <thrust/execution_policy.h>\n",
        "#include <iostream>\n",
        "\n",
        "using namespace std;\n",
        "\n",
        "\n",
        "\n",
        "template<typename T>\n",
        "struct absolute_value\n",
        "{\n",
        "  __host__ __device__ T operator()(const T &x) const\n",
        "  {\n",
        "    return x < T(0) ? -x : x;\n",
        "  }\n",
        "};\n",
        "\n",
        "int main() {\n",
        "\n",
        "  int data[6] = {-1, 0, -2, -2, 1, -3};\n",
        "  int result = thrust::transform_reduce(thrust::host,\n",
        "                                      data, data + 6,\n",
        "                                      absolute_value<int>(),\n",
        "                                      0,\n",
        "                                      thrust::maximum<int>());\n",
        "// result == 3\n",
        "  cout << result << endl;\n",
        "  return 0;\n",
        "\n",
        "}"
      ],
      "metadata": {
        "id": "kfP-Dzx-VuoZ",
        "outputId": "38461d84-c5b5-424e-d393-3751faa34edf",
        "colab": {
          "base_uri": "https://localhost:8080/"
        }
      },
      "execution_count": 90,
      "outputs": [
        {
          "output_type": "stream",
          "name": "stdout",
          "text": [
            "Writing transform_reduce.cu\n"
          ]
        }
      ]
    },
    {
      "cell_type": "code",
      "source": [
        "!nvcc -Icccl/thrust -Icccl/libcudacxx/include -Icccl/cub transform_reduce.cu -o transform_reduce -arch sm_75"
      ],
      "metadata": {
        "id": "WSTRWeM2WFUw"
      },
      "execution_count": 91,
      "outputs": []
    },
    {
      "cell_type": "code",
      "source": [
        "!./transform_reduce"
      ],
      "metadata": {
        "id": "XB9VhmPLa53A",
        "outputId": "817f523f-44ab-4e19-cd4d-ad2560c8c38a",
        "colab": {
          "base_uri": "https://localhost:8080/"
        }
      },
      "execution_count": 92,
      "outputs": [
        {
          "output_type": "stream",
          "name": "stdout",
          "text": [
            "3\n"
          ]
        }
      ]
    },
    {
      "cell_type": "markdown",
      "source": [
        "## 4.f.2. inner_product\n",
        "inner_product calculates an inner product of the ranges [first1, last1) and [first2, first2 + (last1 - first1)).\n",
        "\n",
        "Specifically, this version of inner_product computes the sum init + (*first1 * *first2) + (*(first1+1) * *(first2+1)) + ...\n",
        "\n",
        "Unlike the C++ Standard Template Library function std::inner_product, this version offers no guarantee on order of execution."
      ],
      "metadata": {
        "id": "NpRLLuObbLo4"
      }
    },
    {
      "cell_type": "code",
      "source": [
        "%%writefile inner_product.cu\n",
        "#include <thrust/inner_product.h>\n",
        "#include <iostream>\n",
        "\n",
        "using namespace std;\n",
        "\n",
        "int main() {\n",
        "\n",
        "  float vec1[3] = {1.0f, 2.0f, 5.0f};\n",
        "  float vec2[3] = {4.0f, 1.0f, 5.0f};\n",
        "\n",
        "  float result = thrust::inner_product(vec1, vec1 + 3, vec2, 0.0f);\n",
        "\n",
        "  // result == 31.0f\n",
        "    cout << result << endl;\n",
        "  return 0;\n",
        "}"
      ],
      "metadata": {
        "id": "uvI7mc_6bVRo",
        "outputId": "61085ec9-c41b-4061-f291-1f115398210d",
        "colab": {
          "base_uri": "https://localhost:8080/"
        }
      },
      "execution_count": 93,
      "outputs": [
        {
          "output_type": "stream",
          "name": "stdout",
          "text": [
            "Writing inner_product.cu\n"
          ]
        }
      ]
    },
    {
      "cell_type": "code",
      "source": [
        "!nvcc -Icccl/thrust -Icccl/libcudacxx/include -Icccl/cub inner_product.cu -o inner_product -arch sm_75"
      ],
      "metadata": {
        "id": "1L0eiX-ibnyI"
      },
      "execution_count": 94,
      "outputs": []
    },
    {
      "cell_type": "code",
      "source": [
        "!./inner_product"
      ],
      "metadata": {
        "id": "3f7lGvHhb3ZB",
        "outputId": "57c7785f-abc3-45f6-9449-79ed9c1c06c8",
        "colab": {
          "base_uri": "https://localhost:8080/"
        }
      },
      "execution_count": 95,
      "outputs": [
        {
          "output_type": "stream",
          "name": "stdout",
          "text": [
            "31\n"
          ]
        }
      ]
    }
  ]
}