{
  "nbformat": 4,
  "nbformat_minor": 0,
  "metadata": {
    "colab": {
      "provenance": [],
      "authorship_tag": "ABX9TyNOjmc/k/RE+Wm7pPDjMpSe",
      "include_colab_link": true
    },
    "kernelspec": {
      "name": "julia",
      "display_name": "Julia"
    },
    "language_info": {
      "name": "julia"
    }
  },
  "cells": [
    {
      "cell_type": "markdown",
      "metadata": {
        "id": "view-in-github",
        "colab_type": "text"
      },
      "source": [
        "<a href=\"https://colab.research.google.com/github/trefftzc/cis677/blob/main/Julia_in_Colab.ipynb\" target=\"_parent\"><img src=\"https://colab.research.google.com/assets/colab-badge.svg\" alt=\"Open In Colab\"/></a>"
      ]
    },
    {
      "cell_type": "markdown",
      "source": [
        "# Exploring Julia in Colab\n",
        "\n",
        "Julia now runs in COLAB without having to install any additional software.\n",
        "\n",
        "Many of these snippets of code are taken from:\n",
        "\n",
        "https://www.matecdev.com/posts/julia-tutorial-science-engineering.html"
      ],
      "metadata": {
        "id": "gFt9ehD-cCXP"
      }
    },
    {
      "cell_type": "code",
      "execution_count": 1,
      "metadata": {
        "colab": {
          "base_uri": "https://localhost:8080/"
        },
        "id": "k7ySUS5Abygu",
        "outputId": "8e15b9f7-7ae7-4971-bfdb-608d9b24d5d4"
      },
      "outputs": [
        {
          "output_type": "execute_result",
          "data": {
            "text/plain": [
              "15"
            ]
          },
          "metadata": {},
          "execution_count": 1
        }
      ],
      "source": [
        "a = 10 + 5"
      ]
    },
    {
      "cell_type": "code",
      "source": [
        "typeof(a)"
      ],
      "metadata": {
        "colab": {
          "base_uri": "https://localhost:8080/"
        },
        "id": "zrlC5CDWclEz",
        "outputId": "b98f9261-3f6f-4ac7-fe4a-a005aeaa2d0d"
      },
      "execution_count": 2,
      "outputs": [
        {
          "output_type": "execute_result",
          "data": {
            "text/plain": [
              "Int64"
            ]
          },
          "metadata": {},
          "execution_count": 2
        }
      ]
    },
    {
      "cell_type": "code",
      "source": [
        "x=0\n",
        "for k in 1:100000\n",
        "    x = x + (1/k)^2\n",
        "end\n",
        "print(x)"
      ],
      "metadata": {
        "colab": {
          "base_uri": "https://localhost:8080/"
        },
        "id": "9ozlPaRBc0b0",
        "outputId": "b8b62855-d908-4a10-b491-da5dd75369bd"
      },
      "execution_count": 4,
      "outputs": [
        {
          "output_type": "stream",
          "name": "stdout",
          "text": [
            "1.6449240668982423"
          ]
        }
      ]
    },
    {
      "cell_type": "code",
      "source": [
        "for i in 1:3\n",
        "    for j in 1:3\n",
        "        print(\"i=\", i, \" j=\", j, \"\\n\")\n",
        "    end\n",
        "end"
      ],
      "metadata": {
        "colab": {
          "base_uri": "https://localhost:8080/"
        },
        "id": "1R_RLvG8c81G",
        "outputId": "275676e9-47bd-46dc-c28b-6c259197ec7f"
      },
      "execution_count": 5,
      "outputs": [
        {
          "output_type": "stream",
          "name": "stdout",
          "text": [
            "i=1 j=1\n",
            "i=1 j=2\n",
            "i=1 j=3\n",
            "i=2 j=1\n",
            "i=2 j=2\n",
            "i=2 j=3\n",
            "i=3 j=1\n",
            "i=3 j=2\n",
            "i=3 j=3\n"
          ]
        }
      ]
    },
    {
      "cell_type": "code",
      "source": [
        "function sum_zeta(s,nterms)\n",
        "    x = 0\n",
        "    for n in 1:nterms\n",
        "        x = x + (1/n)^s\n",
        "    end\n",
        "    return x\n",
        "end"
      ],
      "metadata": {
        "colab": {
          "base_uri": "https://localhost:8080/"
        },
        "id": "VOAt3jg8dRY-",
        "outputId": "7d9dd1bd-5f49-41d3-8948-9a852ded2fa3"
      },
      "execution_count": 7,
      "outputs": [
        {
          "output_type": "execute_result",
          "data": {
            "text/plain": [
              "sum_zeta (generic function with 1 method)"
            ]
          },
          "metadata": {},
          "execution_count": 7
        }
      ]
    },
    {
      "cell_type": "code",
      "source": [
        "sum_zeta(2,100000)"
      ],
      "metadata": {
        "colab": {
          "base_uri": "https://localhost:8080/"
        },
        "id": "T5QBnzwBdT_-",
        "outputId": "e60e5df9-2e96-46a8-e6c0-f7387da5cd0f"
      },
      "execution_count": 8,
      "outputs": [
        {
          "output_type": "execute_result",
          "data": {
            "text/plain": [
              "1.6449240668982423"
            ]
          },
          "metadata": {},
          "execution_count": 8
        }
      ]
    },
    {
      "cell_type": "code",
      "source": [
        "sum_zeta(s,nterms) = sum(1/n^s for n=1:nterms)"
      ],
      "metadata": {
        "colab": {
          "base_uri": "https://localhost:8080/"
        },
        "id": "79ir0r2pdU6t",
        "outputId": "8193e8b0-5cc6-4055-a2e2-115c2a670a13"
      },
      "execution_count": 9,
      "outputs": [
        {
          "output_type": "execute_result",
          "data": {
            "text/plain": [
              "sum_zeta (generic function with 1 method)"
            ]
          },
          "metadata": {},
          "execution_count": 9
        }
      ]
    },
    {
      "cell_type": "code",
      "source": [
        "sum_zeta(2,100000)     # returns 1.6449240668982423"
      ],
      "metadata": {
        "colab": {
          "base_uri": "https://localhost:8080/"
        },
        "id": "ajK7TpPwde_s",
        "outputId": "f4c12463-2d19-4f62-8d14-6f52ca5420c4"
      },
      "execution_count": 10,
      "outputs": [
        {
          "output_type": "execute_result",
          "data": {
            "text/plain": [
              "1.6449240668982423"
            ]
          },
          "metadata": {},
          "execution_count": 10
        }
      ]
    },
    {
      "cell_type": "code",
      "source": [
        "sum_zeta(s, nterms=10000) = sum(1/n^s for n=1:nterms)\n",
        "\n",
        "sum_zeta(2)  # returns 1.6449240668982423"
      ],
      "metadata": {
        "colab": {
          "base_uri": "https://localhost:8080/"
        },
        "id": "aeTN-diUdhoE",
        "outputId": "a9d6c453-179b-415b-b894-6b8e920dc6d8"
      },
      "execution_count": 11,
      "outputs": [
        {
          "output_type": "execute_result",
          "data": {
            "text/plain": [
              "1.6448340718480652"
            ]
          },
          "metadata": {},
          "execution_count": 11
        }
      ]
    }
  ]
}