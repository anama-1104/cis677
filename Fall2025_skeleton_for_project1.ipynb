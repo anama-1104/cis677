{
  "nbformat": 4,
  "nbformat_minor": 0,
  "metadata": {
    "colab": {
      "provenance": [],
      "include_colab_link": true
    },
    "kernelspec": {
      "name": "python3",
      "display_name": "Python 3"
    },
    "language_info": {
      "name": "python"
    }
  },
  "cells": [
    {
      "cell_type": "markdown",
      "metadata": {
        "id": "view-in-github",
        "colab_type": "text"
      },
      "source": [
        "<a href=\"https://colab.research.google.com/github/anama-1104/cis677/blob/main/Fall2025_skeleton_for_project1.ipynb\" target=\"_parent\"><img src=\"https://colab.research.google.com/assets/colab-badge.svg\" alt=\"Open In Colab\"/></a>"
      ]
    },
    {
      "cell_type": "markdown",
      "source": [
        "# Project 1\n",
        "In this project, you will profile the execution of a program that finds the maximum independent set of a graph.\n",
        "\n",
        "If you are not familiar with graphs, Wikipedia contains a nice introduction to the topic of graphs: https://en.wikipedia.org/wiki/Graph_(discrete_mathematics)\n",
        "\n",
        "Graphs are basically sets of nodes (usually represented as circles) and edges that connect those nodes.\n",
        "\n",
        "The problem solved by the code below is the Maximum Independent Set. You are looking for the largest subset of nodes that have the property of not having any edge among them. Again, Wikipedia has a nice introduction to the topic:\n",
        "\n",
        "https://en.wikipedia.org/wiki/Independent_set_(graph_theory)\n",
        "\n",
        "This problem belongs to a category of problems called NP-hard problems.\n",
        "The only algorihtms known to solve exactly NP-hard problems have exponential time complexity. This means, if the size of the problem is n, then the time required to solve the probleme exactly is O(k ^ n) where k > 1. In the code shown here, k is 2.\n",
        "\n",
        "Your task is to profile the execution of the program.\n",
        "\n",
        "As you did in the second lab activity: record the execution times and the number of times that line 47 (the if statement) is executed.\n",
        "\n",
        "Create 2 plots, as you did for the lab activity, that have the size of the graph in the X axis. Create one plot to plot in the Y axis the number of times that line 47 is executed. Create a second plot to plot in the Y axis the execution times.\n",
        "\n",
        "What is rate of growth for the function that relates the size of the problem with the execution time?"
      ],
      "metadata": {
        "id": "sUbCLZsLA8Tf"
      }
    },
    {
      "cell_type": "code",
      "source": [
        "%%writefile original_python.py\n",
        "import sys\n",
        "import time\n",
        "import numpy as np\n",
        "\n",
        "counter = 0  # global counter\n",
        "\n",
        "def read_adjacency_matrix(file_name):\n",
        "    file_object = open(file_name, \"r\")\n",
        "    size = int(file_object.readline())\n",
        "    rows = size\n",
        "    cols = size\n",
        "    matrix = []\n",
        "\n",
        "    for i in range(rows):\n",
        "        row = list(map(int, file_object.readline().split()))\n",
        "        matrix.append(row)\n",
        "    return matrix, size\n",
        "\n",
        "# Convert an integer into a set of nodes\n",
        "def convert_from_int_to_set(integer, size):\n",
        "    set_of_nodes = []\n",
        "    mask = 1\n",
        "    for i in range(size):\n",
        "        if ((mask & integer) != 0):\n",
        "            set_of_nodes.append(i)\n",
        "        mask = mask * 2\n",
        "    return set_of_nodes\n",
        "\n",
        "# Find the maximum independent set\n",
        "def find_max_ind_set(adj_mat_numpy, size):\n",
        "    global counter\n",
        "    counter = 0   # reset counter for each run\n",
        "\n",
        "    max_independent_set_size = 0\n",
        "    max_independent_set = []\n",
        "\n",
        "    size_of_power_set = 1\n",
        "    for i in range(size):\n",
        "        size_of_power_set *= 2\n",
        "\n",
        "    array_with_sizes = np.zeros(size_of_power_set)\n",
        "\n",
        "    for i in range(size_of_power_set):\n",
        "        this_set = convert_from_int_to_set(i, size)\n",
        "        is_independent = True\n",
        "        for n1 in this_set:\n",
        "            for n2 in this_set:\n",
        "                counter += 1   # count line 47 executions\n",
        "                if (adj_mat_numpy[n1][n2] == 1):\n",
        "                    is_independent = False\n",
        "\n",
        "        if (is_independent):\n",
        "            array_with_sizes[i] = len(this_set)\n",
        "        else:\n",
        "            array_with_sizes[i] = 0\n",
        "\n",
        "    max_independent_set_size = np.max(array_with_sizes)\n",
        "    max_independent_set = np.where(array_with_sizes == max_independent_set_size)[0]\n",
        "\n",
        "    print(\"The max independent sets are encoded by: \", max_independent_set)\n",
        "    print(\"Line 47 executed:\", counter, \"times\")\n",
        "    return max_independent_set_size\n",
        "\n",
        "if __name__ == \"__main__\":\n",
        "    # Read the content of the file passed in the command line\n",
        "    adj_matrix, size = read_adjacency_matrix(sys.argv[1])\n",
        "    adj_matrix_numpy = np.array(adj_matrix)\n",
        "\n",
        "    start_time = time.time()\n",
        "    max_independent_set_size = find_max_ind_set(adj_matrix_numpy, size)\n",
        "    end_time = time.time()\n",
        "\n",
        "    elapsed_time = end_time - start_time\n",
        "    print(\"Time required to carry out the computation in python: \", elapsed_time)\n",
        "    print(\"The size of the maximum independent set is: \", max_independent_set_size)\n"
      ],
      "metadata": {
        "colab": {
          "base_uri": "https://localhost:8080/"
        },
        "id": "McMrNJqIwdtk",
        "outputId": "62a6823c-36bd-4b36-e3ff-28fba3ca2766"
      },
      "execution_count": 9,
      "outputs": [
        {
          "output_type": "stream",
          "name": "stdout",
          "text": [
            "Overwriting original_python.py\n"
          ]
        }
      ]
    },
    {
      "cell_type": "code",
      "source": [
        "%%writefile original_python.py\n",
        "import sys\n",
        "import time\n",
        "import numpy as np\n",
        "\n",
        "def read_adjacency_matrix(file_name):\n",
        "  file_object = open(file_name, \"r\")\n",
        "  # Input the number of rows and columns\n",
        "  size = int(file_object.readline())\n",
        "  rows = size\n",
        "  cols = size\n",
        "  # Initialize an empty matrix\n",
        "  matrix = []\n",
        "\n",
        "  # Input the matrix elements\n",
        "  for i in range(rows):\n",
        "    row = list(map(int, file_object.readline().split()))\n",
        "    matrix.append(row)\n",
        "  return matrix,size\n",
        "\n",
        "# Convert an integer into a set of nodes\n",
        "def convert_from_int_to_set(integer,size):\n",
        "  set_of_nodes = []\n",
        "  mask = 1\n",
        "  for i in range(size):\n",
        "    if ((mask & integer) != 0):\n",
        "      set_of_nodes.append(i)\n",
        "    mask = mask * 2\n",
        "  return set_of_nodes\n",
        "\n",
        "# Find the maximum independent set\n",
        "def find_max_ind_set(adj_mat_numpy,size):\n",
        "  max_independent_set_size = 0\n",
        "  max_independent_set = []\n",
        "\n",
        "  size_of_power_set = 1\n",
        "  for i in range(size):\n",
        "    size_of_power_set *= 2\n",
        "  # print(\"The power set has \",size_of_power_set,\" elements\")\n",
        "  array_with_sizes = np.zeros(size_of_power_set)\n",
        "  for i in range(size_of_power_set):\n",
        "    this_set = convert_from_int_to_set(i,size)\n",
        "    is_independent = True\n",
        "    for n1 in this_set:\n",
        "      for n2 in this_set:\n",
        "        if (adj_mat_numpy[n1][n2] == 1):\n",
        "          is_independent = False\n",
        "    if (is_independent):\n",
        "      array_with_sizes[i] = len(this_set)\n",
        "    else:\n",
        "      array_with_sizes[i] = 0\n",
        "\n",
        "\n",
        "  max_independent_set_size = np.max(array_with_sizes)\n",
        "  max_independent_set = np.where(array_with_sizes == max_independent_set_size)[0]\n",
        "  print(\"The max independent sets are encoded by: \",max_independent_set)\n",
        "  return max_independent_set_size\n",
        "\n",
        "\n",
        "\n",
        "if __name__ == \"__main__\":\n",
        "# Read the content of the file with the a passed in the command line\n",
        "# that contain the matrices to be multiplied\n",
        "  adj_matrix,size = read_adjacency_matrix(sys.argv[1])\n",
        "  adj_matrix_numpy = np.array(adj_matrix)\n",
        "  start_time = time.time()\n",
        "  max_independent_set_size = find_max_ind_set(adj_matrix_numpy,size)\n",
        "  end_time = time.time()\n",
        "  elapsed_time = end_time - start_time\n",
        "  print(\"Time required to carry out the computation in python: \",elapsed_time)\n",
        "  print(\"The size of the maximum independent set is: \",max_independent_set_size)"
      ],
      "metadata": {
        "colab": {
          "base_uri": "https://localhost:8080/"
        },
        "id": "1ZKwzcijAnc_",
        "outputId": "dc924917-390a-4afe-e1d7-8953beeef374"
      },
      "execution_count": 1,
      "outputs": [
        {
          "output_type": "stream",
          "name": "stdout",
          "text": [
            "Writing original_python.py\n"
          ]
        }
      ]
    },
    {
      "cell_type": "markdown",
      "source": [
        "Three test files are provided below. They are complete graphs, graphs where every node is connected to every other node. A maximum independent set for these graphs contains only one node."
      ],
      "metadata": {
        "id": "AFd0JBYyEnEX"
      }
    },
    {
      "cell_type": "code",
      "source": [
        "\n",
        "%%writefile k16.txt\n",
        "16\n",
        "0 1 1 1 1 1 1 1 1 1 1 1 1 1 1 1\n",
        "1 0 1 1 1 1 1 1 1 1 1 1 1 1 1 1\n",
        "1 1 0 1 1 1 1 1 1 1 1 1 1 1 1 1\n",
        "1 1 1 0 1 1 1 1 1 1 1 1 1 1 1 1\n",
        "1 1 1 1 0 1 1 1 1 1 1 1 1 1 1 1\n",
        "1 1 1 1 1 0 1 1 1 1 1 1 1 1 1 1\n",
        "1 1 1 1 1 1 0 1 1 1 1 1 1 1 1 1\n",
        "1 1 1 1 1 1 1 0 1 1 1 1 1 1 1 1\n",
        "1 1 1 1 1 1 1 1 0 1 1 1 1 1 1 1\n",
        "1 1 1 1 1 1 1 1 1 0 1 1 1 1 1 1\n",
        "1 1 1 1 1 1 1 1 1 1 0 1 1 1 1 1\n",
        "1 1 1 1 1 1 1 1 1 1 1 0 1 1 1 1\n",
        "1 1 1 1 1 1 1 1 1 1 1 1 0 1 1 1\n",
        "1 1 1 1 1 1 1 1 1 1 1 1 1 0 1 1\n",
        "1 1 1 1 1 1 1 1 1 1 1 1 1 1 0 1\n",
        "1 1 1 1 1 1 1 1 1 1 1 1 1 1 1 0"
      ],
      "metadata": {
        "colab": {
          "base_uri": "https://localhost:8080/"
        },
        "id": "QJvSvGHBEsln",
        "outputId": "134e12e4-f4e4-40dd-e294-3bd587c9b884"
      },
      "execution_count": 10,
      "outputs": [
        {
          "output_type": "stream",
          "name": "stdout",
          "text": [
            "Overwriting k16.txt\n"
          ]
        }
      ]
    },
    {
      "cell_type": "code",
      "source": [
        "%%writefile k18.txt\n",
        "18\n",
        "0 1 1 1 1 1 1 1 1 1 1 1 1 1 1 1 1 1\n",
        "1 0 1 1 1 1 1 1 1 1 1 1 1 1 1 1 1 1\n",
        "1 1 0 1 1 1 1 1 1 1 1 1 1 1 1 1 1 1\n",
        "1 1 1 0 1 1 1 1 1 1 1 1 1 1 1 1 1 1\n",
        "1 1 1 1 0 1 1 1 1 1 1 1 1 1 1 1 1 1\n",
        "1 1 1 1 1 0 1 1 1 1 1 1 1 1 1 1 1 1\n",
        "1 1 1 1 1 1 0 1 1 1 1 1 1 1 1 1 1 1\n",
        "1 1 1 1 1 1 1 0 1 1 1 1 1 1 1 1 1 1\n",
        "1 1 1 1 1 1 1 1 0 1 1 1 1 1 1 1 1 1\n",
        "1 1 1 1 1 1 1 1 1 0 1 1 1 1 1 1 1 1\n",
        "1 1 1 1 1 1 1 1 1 1 0 1 1 1 1 1 1 1\n",
        "1 1 1 1 1 1 1 1 1 1 1 0 1 1 1 1 1 1\n",
        "1 1 1 1 1 1 1 1 1 1 1 1 0 1 1 1 1 1\n",
        "1 1 1 1 1 1 1 1 1 1 1 1 1 0 1 1 1 1\n",
        "1 1 1 1 1 1 1 1 1 1 1 1 1 1 0 1 1 1\n",
        "1 1 1 1 1 1 1 1 1 1 1 1 1 1 1 0 1 1\n",
        "1 1 1 1 1 1 1 1 1 1 1 1 1 1 1 1 0 1\n",
        "1 1 1 1 1 1 1 1 1 1 1 1 1 1 1 1 1 0"
      ],
      "metadata": {
        "colab": {
          "base_uri": "https://localhost:8080/"
        },
        "id": "xiSaQ8NvE7vP",
        "outputId": "6d2f03d4-6ec2-47ae-cada-4eb402fe3f9a"
      },
      "execution_count": 11,
      "outputs": [
        {
          "output_type": "stream",
          "name": "stdout",
          "text": [
            "Overwriting k18.txt\n"
          ]
        }
      ]
    },
    {
      "cell_type": "code",
      "execution_count": 12,
      "metadata": {
        "colab": {
          "base_uri": "https://localhost:8080/"
        },
        "id": "RGoBYkBVAbav",
        "outputId": "a1b1483c-9504-4079-f4a1-985b716d1d08"
      },
      "outputs": [
        {
          "output_type": "stream",
          "name": "stdout",
          "text": [
            "Overwriting k20.txt\n"
          ]
        }
      ],
      "source": [
        "\n",
        "%%writefile k20.txt\n",
        "20\n",
        "0 1 1 1 1 1 1 1 1 1 1 1 1 1 1 1 1 1 1 1\n",
        "1 0 1 1 1 1 1 1 1 1 1 1 1 1 1 1 1 1 1 1\n",
        "1 1 0 1 1 1 1 1 1 1 1 1 1 1 1 1 1 1 1 1\n",
        "1 1 1 0 1 1 1 1 1 1 1 1 1 1 1 1 1 1 1 1\n",
        "1 1 1 1 0 1 1 1 1 1 1 1 1 1 1 1 1 1 1 1\n",
        "1 1 1 1 1 0 1 1 1 1 1 1 1 1 1 1 1 1 1 1\n",
        "1 1 1 1 1 1 0 1 1 1 1 1 1 1 1 1 1 1 1 1\n",
        "1 1 1 1 1 1 1 0 1 1 1 1 1 1 1 1 1 1 1 1\n",
        "1 1 1 1 1 1 1 1 0 1 1 1 1 1 1 1 1 1 1 1\n",
        "1 1 1 1 1 1 1 1 1 0 1 1 1 1 1 1 1 1 1 1\n",
        "1 1 1 1 1 1 1 1 1 1 0 1 1 1 1 1 1 1 1 1\n",
        "1 1 1 1 1 1 1 1 1 1 1 0 1 1 1 1 1 1 1 1\n",
        "1 1 1 1 1 1 1 1 1 1 1 1 0 1 1 1 1 1 1 1\n",
        "1 1 1 1 1 1 1 1 1 1 1 1 1 0 1 1 1 1 1 1\n",
        "1 1 1 1 1 1 1 1 1 1 1 1 1 1 0 1 1 1 1 1\n",
        "1 1 1 1 1 1 1 1 1 1 1 1 1 1 1 0 1 1 1 1\n",
        "1 1 1 1 1 1 1 1 1 1 1 1 1 1 1 1 0 1 1 1\n",
        "1 1 1 1 1 1 1 1 1 1 1 1 1 1 1 1 1 0 1 1\n",
        "1 1 1 1 1 1 1 1 1 1 1 1 1 1 1 1 1 1 0 1\n",
        "1 1 1 1 1 1 1 1 1 1 1 1 1 1 1 1 1 1 1 0"
      ]
    },
    {
      "cell_type": "markdown",
      "source": [
        "Now the execution of the code:"
      ],
      "metadata": {
        "id": "dF-QV8R1E_Tu"
      }
    },
    {
      "cell_type": "code",
      "source": [
        "!python original_python.py k16.txt"
      ],
      "metadata": {
        "colab": {
          "base_uri": "https://localhost:8080/"
        },
        "id": "ml8iz3N-FCiI",
        "outputId": "c51def97-678a-455c-b24f-6ce89be1b0db"
      },
      "execution_count": 13,
      "outputs": [
        {
          "output_type": "stream",
          "name": "stdout",
          "text": [
            "The max independent sets are encoded by:  [    1     2     4     8    16    32    64   128   256   512  1024  2048\n",
            "  4096  8192 16384 32768]\n",
            "Line 47 executed: 4456448 times\n",
            "Time required to carry out the computation in python:  1.7445015907287598\n",
            "The size of the maximum independent set is:  1.0\n"
          ]
        }
      ]
    },
    {
      "cell_type": "code",
      "source": [
        "!python original_python.py k18.txt"
      ],
      "metadata": {
        "colab": {
          "base_uri": "https://localhost:8080/"
        },
        "id": "EE8FhJ-WGbRn",
        "outputId": "124b888d-50ce-48e3-9192-6ba060c9f28d"
      },
      "execution_count": 14,
      "outputs": [
        {
          "output_type": "stream",
          "name": "stdout",
          "text": [
            "The max independent sets are encoded by:  [     1      2      4      8     16     32     64    128    256    512\n",
            "   1024   2048   4096   8192  16384  32768  65536 131072]\n",
            "Line 47 executed: 22413312 times\n",
            "Time required to carry out the computation in python:  9.594037294387817\n",
            "The size of the maximum independent set is:  1.0\n"
          ]
        }
      ]
    },
    {
      "cell_type": "code",
      "source": [
        "!python original_python.py k20.txt"
      ],
      "metadata": {
        "colab": {
          "base_uri": "https://localhost:8080/"
        },
        "id": "tD5-g6RnE-cv",
        "outputId": "c2ae5341-2f90-4163-ceca-7c64e5d10b16"
      },
      "execution_count": 15,
      "outputs": [
        {
          "output_type": "stream",
          "name": "stdout",
          "text": [
            "The max independent sets are encoded by:  [     1      2      4      8     16     32     64    128    256    512\n",
            "   1024   2048   4096   8192  16384  32768  65536 131072 262144 524288]\n",
            "Line 47 executed: 110100480 times\n",
            "Time required to carry out the computation in python:  47.644537925720215\n",
            "The size of the maximum independent set is:  1.0\n"
          ]
        }
      ]
    },
    {
      "cell_type": "markdown",
      "source": [
        "| Graph Size (n) | Line 47 Executions | Execution Time (s) |\n",
        "| -------------- | ------------------ | ------------------ |\n",
        "| 16             |        4456448      | 1.74              |\n",
        "| 18             | 22413312            | 9.59              |\n",
        "| 20             | 110100480           | 47.6              |\n"
      ],
      "metadata": {
        "id": "Zhzfp59bI4D3"
      }
    },
    {
      "cell_type": "markdown",
      "source": [
        "# Include your plots here"
      ],
      "metadata": {
        "id": "GkCsUv_aI9mX"
      }
    },
    {
      "cell_type": "code",
      "source": [
        "import matplotlib.pyplot as plt\n",
        "\n",
        "sizes = [16, 18, 20]\n",
        "exec_counts = [4456448, 22413312, 110100480]\n",
        "times = [1.74, 9.59, 47.6]\n",
        "\n",
        "# Plot 1: Line 47 executions\n",
        "plt.plot(sizes, exec_counts, marker='o')\n",
        "plt.xlabel(\"Graph Size (n)\")\n",
        "plt.ylabel(\"Line 47 Executions\")\n",
        "plt.title(\"Line 47 Executions vs Graph Size\")\n",
        "plt.grid(True)\n",
        "plt.show()\n",
        "\n",
        "# Plot 2: Execution times\n",
        "plt.plot(sizes, times, marker='o')\n",
        "plt.xlabel(\"Graph Size (n)\")\n",
        "plt.ylabel(\"Execution Time (s)\")\n",
        "plt.title(\"Execution Time vs Graph Size\")\n",
        "plt.grid(True)\n",
        "plt.show()\n"
      ],
      "metadata": {
        "colab": {
          "base_uri": "https://localhost:8080/",
          "height": 927
        },
        "id": "HfTnqILoxhGl",
        "outputId": "a0a96207-c2f9-4998-c681-ee2a18296a9d"
      },
      "execution_count": 16,
      "outputs": [
        {
          "output_type": "display_data",
          "data": {
            "text/plain": [
              "<Figure size 640x480 with 1 Axes>"
            ],
            "image/png": "[encoded data removed]"
          },
          "metadata": {}
        },
        {
          "output_type": "display_data",
          "data": {
            "text/plain": [
              "<Figure size 640x480 with 1 Axes>"
            ],
            "image/png": "[encoded data removed]"
          },
          "metadata": {}
        }
      ]
    },
    {
      "cell_type": "markdown",
      "source": [
        "**What is rate of growth for the function that relates the size of the problem with the execution time?**\n",
        "\n",
        "the execution time grows exponentially with the size of the graph. When the number of vertices\n",
        "𝑛\n",
        "n increases by 2 (from 16 to 18 and 18 to 20), the runtime approximately multiplies by a factor of 5. This behavior is consistent with the expected time complexity of\n",
        "𝑂\n",
        "(\n",
        "2\n",
        "𝑛\n",
        ")\n",
        "O(2\n",
        "n\n",
        ") for the brute-force Maximum Independent Set algorithm, where all possible subsets of vertices are evaluated.\n",
        "\n"
      ],
      "metadata": {
        "id": "aA-9Ab-5xyYP"
      }
    }
  ]
}