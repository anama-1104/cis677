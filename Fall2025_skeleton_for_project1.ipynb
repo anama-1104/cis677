{
  "nbformat": 4,
  "nbformat_minor": 0,
  "metadata": {
    "colab": {
      "provenance": [],
      "include_colab_link": true
    },
    "kernelspec": {
      "name": "python3",
      "display_name": "Python 3"
    },
    "language_info": {
      "name": "python"
    }
  },
  "cells": [
    {
      "cell_type": "markdown",
      "metadata": {
        "id": "view-in-github",
        "colab_type": "text"
      },
      "source": [
        "<a href=\"https://colab.research.google.com/github/anama-1104/cis677/blob/main/Fall2025_skeleton_for_project1.ipynb\" target=\"_parent\"><img src=\"https://colab.research.google.com/assets/colab-badge.svg\" alt=\"Open In Colab\"/></a>"
      ]
    },
    {
      "cell_type": "markdown",
      "source": [
        "# Project 1\n",
        "In this project, you will profile the execution of a program that finds the maximum independent set of a graph.\n",
        "\n",
        "If you are not familiar with graphs, Wikipedia contains a nice introduction to the topic of graphs: https://en.wikipedia.org/wiki/Graph_(discrete_mathematics)\n",
        "\n",
        "Graphs are basically sets of nodes (usually represented as circles) and edges that connect those nodes.\n",
        "\n",
        "The problem solved by the code below is the Maximum Independent Set. You are looking for the largest subset of nodes that have the property of not having any edge among them. Again, Wikipedia has a nice introduction to the topic:\n",
        "\n",
        "https://en.wikipedia.org/wiki/Independent_set_(graph_theory)\n",
        "\n",
        "This problem belongs to a category of problems called NP-hard problems.\n",
        "The only algorihtms known to solve exactly NP-hard problems have exponential time complexity. This means, if the size of the problem is n, then the time required to solve the probleme exactly is O(k ^ n) where k > 1. In the code shown here, k is 2.\n",
        "\n",
        "Your task is to profile the execution of the program.\n",
        "\n",
        "As you did in the second lab activity: record the execution times and the number of times that line 47 (the if statement) is executed.\n",
        "\n",
        "Create 2 plots, as you did for the lab activity, that have the size of the graph in the X axis. Create one plot to plot in the Y axis the number of times that line 47 is executed. Create a second plot to plot in the Y axis the execution times.\n",
        "\n",
        "What is rate of growth for the function that relates the size of the problem with the execution time?"
      ],
      "metadata": {
        "id": "sUbCLZsLA8Tf"
      }
    },
    {
      "cell_type": "code",
      "source": [
        "%%writefile original_python.py\n",
        "import sys\n",
        "import time\n",
        "import numpy as np\n",
        "\n",
        "def read_adjacency_matrix(file_name):\n",
        "  file_object = open(file_name, \"r\")\n",
        "  # Input the number of rows and columns\n",
        "  size = int(file_object.readline())\n",
        "  rows = size\n",
        "  cols = size\n",
        "  # Initialize an empty matrix\n",
        "  matrix = []\n",
        "\n",
        "  # Input the matrix elements\n",
        "  for i in range(rows):\n",
        "    row = list(map(int, file_object.readline().split()))\n",
        "    matrix.append(row)\n",
        "  return matrix,size\n",
        "\n",
        "# Convert an integer into a set of nodes\n",
        "def convert_from_int_to_set(integer,size):\n",
        "  set_of_nodes = []\n",
        "  mask = 1\n",
        "  for i in range(size):\n",
        "    if ((mask & integer) != 0):\n",
        "      set_of_nodes.append(i)\n",
        "    mask = mask * 2\n",
        "  return set_of_nodes\n",
        "\n",
        "# Find the maximum independent set\n",
        "def find_max_ind_set(adj_mat_numpy,size):\n",
        "  max_independent_set_size = 0\n",
        "  max_independent_set = []\n",
        "\n",
        "  size_of_power_set = 1\n",
        "  for i in range(size):\n",
        "    size_of_power_set *= 2\n",
        "  # print(\"The power set has \",size_of_power_set,\" elements\")\n",
        "  array_with_sizes = np.zeros(size_of_power_set)\n",
        "  for i in range(size_of_power_set):\n",
        "    this_set = convert_from_int_to_set(i,size)\n",
        "    is_independent = True\n",
        "    for n1 in this_set:\n",
        "      for n2 in this_set:\n",
        "        if (adj_mat_numpy[n1][n2] == 1):\n",
        "          is_independent = False\n",
        "    if (is_independent):\n",
        "      array_with_sizes[i] = len(this_set)\n",
        "    else:\n",
        "      array_with_sizes[i] = 0\n",
        "\n",
        "\n",
        "  max_independent_set_size = np.max(array_with_sizes)\n",
        "  max_independent_set = np.where(array_with_sizes == max_independent_set_size)[0]\n",
        "  print(\"The max independent sets are encoded by: \",max_independent_set)\n",
        "  return max_independent_set_size\n",
        "\n",
        "\n",
        "\n",
        "if __name__ == \"__main__\":\n",
        "# Read the content of the file with the a passed in the command line\n",
        "# that contain the matrices to be multiplied\n",
        "  adj_matrix,size = read_adjacency_matrix(sys.argv[1])\n",
        "  adj_matrix_numpy = np.array(adj_matrix)\n",
        "  start_time = time.time()\n",
        "  max_independent_set_size = find_max_ind_set(adj_matrix_numpy,size)\n",
        "  end_time = time.time()\n",
        "  elapsed_time = end_time - start_time\n",
        "  print(\"Time required to carry out the computation in python: \",elapsed_time)\n",
        "  print(\"The size of the maximum independent set is: \",max_independent_set_size)"
      ],
      "metadata": {
        "colab": {
          "base_uri": "https://localhost:8080/"
        },
        "id": "1ZKwzcijAnc_",
        "outputId": "00617227-515f-4e69-deea-ee8fd087c5be"
      },
      "execution_count": null,
      "outputs": [
        {
          "output_type": "stream",
          "name": "stdout",
          "text": [
            "Overwriting original_python.py\n"
          ]
        }
      ]
    },
    {
      "cell_type": "markdown",
      "source": [
        "Three test files are provided below. They are complete graphs, graphs where every node is connected to every other node. A maximum independent set for these graphs contains only one node."
      ],
      "metadata": {
        "id": "AFd0JBYyEnEX"
      }
    },
    {
      "cell_type": "code",
      "source": [
        "\n",
        "%%writefile k16.txt\n",
        "16\n",
        "0 1 1 1 1 1 1 1 1 1 1 1 1 1 1 1\n",
        "1 0 1 1 1 1 1 1 1 1 1 1 1 1 1 1\n",
        "1 1 0 1 1 1 1 1 1 1 1 1 1 1 1 1\n",
        "1 1 1 0 1 1 1 1 1 1 1 1 1 1 1 1\n",
        "1 1 1 1 0 1 1 1 1 1 1 1 1 1 1 1\n",
        "1 1 1 1 1 0 1 1 1 1 1 1 1 1 1 1\n",
        "1 1 1 1 1 1 0 1 1 1 1 1 1 1 1 1\n",
        "1 1 1 1 1 1 1 0 1 1 1 1 1 1 1 1\n",
        "1 1 1 1 1 1 1 1 0 1 1 1 1 1 1 1\n",
        "1 1 1 1 1 1 1 1 1 0 1 1 1 1 1 1\n",
        "1 1 1 1 1 1 1 1 1 1 0 1 1 1 1 1\n",
        "1 1 1 1 1 1 1 1 1 1 1 0 1 1 1 1\n",
        "1 1 1 1 1 1 1 1 1 1 1 1 0 1 1 1\n",
        "1 1 1 1 1 1 1 1 1 1 1 1 1 0 1 1\n",
        "1 1 1 1 1 1 1 1 1 1 1 1 1 1 0 1\n",
        "1 1 1 1 1 1 1 1 1 1 1 1 1 1 1 0"
      ],
      "metadata": {
        "colab": {
          "base_uri": "https://localhost:8080/"
        },
        "id": "QJvSvGHBEsln",
        "outputId": "182897c0-8193-42fe-a652-c4c95cca40a9"
      },
      "execution_count": null,
      "outputs": [
        {
          "output_type": "stream",
          "name": "stdout",
          "text": [
            "Writing k16.txt\n"
          ]
        }
      ]
    },
    {
      "cell_type": "code",
      "source": [
        "%%writefile k18.txt\n",
        "18\n",
        "0 1 1 1 1 1 1 1 1 1 1 1 1 1 1 1 1 1\n",
        "1 0 1 1 1 1 1 1 1 1 1 1 1 1 1 1 1 1\n",
        "1 1 0 1 1 1 1 1 1 1 1 1 1 1 1 1 1 1\n",
        "1 1 1 0 1 1 1 1 1 1 1 1 1 1 1 1 1 1\n",
        "1 1 1 1 0 1 1 1 1 1 1 1 1 1 1 1 1 1\n",
        "1 1 1 1 1 0 1 1 1 1 1 1 1 1 1 1 1 1\n",
        "1 1 1 1 1 1 0 1 1 1 1 1 1 1 1 1 1 1\n",
        "1 1 1 1 1 1 1 0 1 1 1 1 1 1 1 1 1 1\n",
        "1 1 1 1 1 1 1 1 0 1 1 1 1 1 1 1 1 1\n",
        "1 1 1 1 1 1 1 1 1 0 1 1 1 1 1 1 1 1\n",
        "1 1 1 1 1 1 1 1 1 1 0 1 1 1 1 1 1 1\n",
        "1 1 1 1 1 1 1 1 1 1 1 0 1 1 1 1 1 1\n",
        "1 1 1 1 1 1 1 1 1 1 1 1 0 1 1 1 1 1\n",
        "1 1 1 1 1 1 1 1 1 1 1 1 1 0 1 1 1 1\n",
        "1 1 1 1 1 1 1 1 1 1 1 1 1 1 0 1 1 1\n",
        "1 1 1 1 1 1 1 1 1 1 1 1 1 1 1 0 1 1\n",
        "1 1 1 1 1 1 1 1 1 1 1 1 1 1 1 1 0 1\n",
        "1 1 1 1 1 1 1 1 1 1 1 1 1 1 1 1 1 0"
      ],
      "metadata": {
        "colab": {
          "base_uri": "https://localhost:8080/"
        },
        "id": "xiSaQ8NvE7vP",
        "outputId": "bd9d8347-6f20-4ef0-9ef5-538e6bb3661a"
      },
      "execution_count": null,
      "outputs": [
        {
          "output_type": "stream",
          "name": "stdout",
          "text": [
            "Writing k18.txt\n"
          ]
        }
      ]
    },
    {
      "cell_type": "code",
      "execution_count": null,
      "metadata": {
        "colab": {
          "base_uri": "https://localhost:8080/"
        },
        "id": "RGoBYkBVAbav",
        "outputId": "841e1223-2533-40fa-d5d1-a683127dba88"
      },
      "outputs": [
        {
          "output_type": "stream",
          "name": "stdout",
          "text": [
            "Writing k20.txt\n"
          ]
        }
      ],
      "source": [
        "\n",
        "%%writefile k20.txt\n",
        "20\n",
        "0 1 1 1 1 1 1 1 1 1 1 1 1 1 1 1 1 1 1 1\n",
        "1 0 1 1 1 1 1 1 1 1 1 1 1 1 1 1 1 1 1 1\n",
        "1 1 0 1 1 1 1 1 1 1 1 1 1 1 1 1 1 1 1 1\n",
        "1 1 1 0 1 1 1 1 1 1 1 1 1 1 1 1 1 1 1 1\n",
        "1 1 1 1 0 1 1 1 1 1 1 1 1 1 1 1 1 1 1 1\n",
        "1 1 1 1 1 0 1 1 1 1 1 1 1 1 1 1 1 1 1 1\n",
        "1 1 1 1 1 1 0 1 1 1 1 1 1 1 1 1 1 1 1 1\n",
        "1 1 1 1 1 1 1 0 1 1 1 1 1 1 1 1 1 1 1 1\n",
        "1 1 1 1 1 1 1 1 0 1 1 1 1 1 1 1 1 1 1 1\n",
        "1 1 1 1 1 1 1 1 1 0 1 1 1 1 1 1 1 1 1 1\n",
        "1 1 1 1 1 1 1 1 1 1 0 1 1 1 1 1 1 1 1 1\n",
        "1 1 1 1 1 1 1 1 1 1 1 0 1 1 1 1 1 1 1 1\n",
        "1 1 1 1 1 1 1 1 1 1 1 1 0 1 1 1 1 1 1 1\n",
        "1 1 1 1 1 1 1 1 1 1 1 1 1 0 1 1 1 1 1 1\n",
        "1 1 1 1 1 1 1 1 1 1 1 1 1 1 0 1 1 1 1 1\n",
        "1 1 1 1 1 1 1 1 1 1 1 1 1 1 1 0 1 1 1 1\n",
        "1 1 1 1 1 1 1 1 1 1 1 1 1 1 1 1 0 1 1 1\n",
        "1 1 1 1 1 1 1 1 1 1 1 1 1 1 1 1 1 0 1 1\n",
        "1 1 1 1 1 1 1 1 1 1 1 1 1 1 1 1 1 1 0 1\n",
        "1 1 1 1 1 1 1 1 1 1 1 1 1 1 1 1 1 1 1 0"
      ]
    },
    {
      "cell_type": "markdown",
      "source": [
        "Now the execution of the code:"
      ],
      "metadata": {
        "id": "dF-QV8R1E_Tu"
      }
    },
    {
      "cell_type": "code",
      "source": [
        "!python original_python.py k16.txt"
      ],
      "metadata": {
        "colab": {
          "base_uri": "https://localhost:8080/"
        },
        "id": "ml8iz3N-FCiI",
        "outputId": "7c372ba2-7a1a-4c9b-c3c4-1ae70fb28f8e"
      },
      "execution_count": null,
      "outputs": [
        {
          "output_type": "stream",
          "name": "stdout",
          "text": [
            "The max independent sets are encoded by:  [    1     2     4     8    16    32    64   128   256   512  1024  2048\n",
            "  4096  8192 16384 32768]\n",
            "Time required to carry out the computation in python:  1.4744927883148193\n",
            "The size of the maximum independent set is:  1.0\n"
          ]
        }
      ]
    },
    {
      "cell_type": "code",
      "source": [
        "!python original_python.py k18.txt"
      ],
      "metadata": {
        "colab": {
          "base_uri": "https://localhost:8080/"
        },
        "id": "EE8FhJ-WGbRn",
        "outputId": "eaead9c9-0c18-4a4f-f779-d664f2b9b7dd"
      },
      "execution_count": null,
      "outputs": [
        {
          "output_type": "stream",
          "name": "stdout",
          "text": [
            "The max independent sets are encoded by:  [     1      2      4      8     16     32     64    128    256    512\n",
            "   1024   2048   4096   8192  16384  32768  65536 131072]\n",
            "Time required to carry out the computation in python:  7.494498252868652\n",
            "The size of the maximum independent set is:  1.0\n"
          ]
        }
      ]
    },
    {
      "cell_type": "code",
      "source": [
        "!python original_python.py k20.txt"
      ],
      "metadata": {
        "colab": {
          "base_uri": "https://localhost:8080/"
        },
        "id": "tD5-g6RnE-cv",
        "outputId": "8df426ba-48f8-4f99-b6a7-2e85351d8e0a"
      },
      "execution_count": null,
      "outputs": [
        {
          "output_type": "stream",
          "name": "stdout",
          "text": [
            "The max independent sets are encoded by:  [     1      2      4      8     16     32     64    128    256    512\n",
            "   1024   2048   4096   8192  16384  32768  65536 131072 262144 524288]\n",
            "Time required to carry out the computation in python:  39.012341022491455\n",
            "The size of the maximum independent set is:  1.0\n"
          ]
        }
      ]
    },
    {
      "cell_type": "markdown",
      "source": [
        "# Add your activites to profile below this cell\n",
        "| Graph Size (n) | Line 47 Executions | Execution Time (s) |\n",
        "Add blockquote\n",
        "| 18             | 4,456,448          | 1.97               |\n",
        "| 19             | 22,413,312         | 8.81               |\n",
        "| 20             | 110,100,480        | 47.05              |\n"
      ],
      "metadata": {
        "id": "Zhzfp59bI4D3"
      }
    },
    {
      "cell_type": "markdown",
      "source": [
        "# Include your plots here"
      ],
      "metadata": {
        "id": "GkCsUv_aI9mX"
      }
    },
    {
      "cell_type": "code",
      "source": [
        "import matplotlib.pyplot as plt\n",
        "\n",
        "sizes = [16, 18, 20]\n",
        "exec_counts = [4456448, 22413312, 110100480]\n",
        "times = [1.97, 8.81, 47.05]\n",
        "\n",
        "# Plot 1: Line 47 executions\n",
        "plt.plot(sizes, exec_counts, marker='o')\n",
        "plt.xlabel(\"Graph Size (n)\")\n",
        "plt.ylabel(\"Line 47 Executions\")\n",
        "plt.title(\"Line 47 Executions vs Graph Size\")\n",
        "plt.grid(True)\n",
        "plt.show()\n",
        "\n",
        "# Plot 2: Execution times\n",
        "plt.plot(sizes, times, marker='o')\n",
        "plt.xlabel(\"Graph Size (n)\")\n",
        "plt.ylabel(\"Execution Time (s)\")\n",
        "plt.title(\"Execution Time vs Graph Size\")\n",
        "plt.grid(True)\n",
        "plt.show()\n"
      ],
      "metadata": {
        "id": "n-idBnyabSeS",
        "outputId": "c7da44b1-1fcc-4988-b924-25a72be8e9ec",
        "colab": {
          "base_uri": "https://localhost:8080/",
          "height": 927
        }
      },
      "execution_count": 2,
      "outputs": [
        {
          "output_type": "display_data",
          "data": {
            "text/plain": [
              "<Figure size 640x480 with 1 Axes>"
            ],
            "image/png": "[encoded data removed]"
          },
          "metadata": {}
        },
        {
          "output_type": "display_data",
          "data": {
            "text/plain": [
              "<Figure size 640x480 with 1 Axes>"
            ],
            "image/png": "[encoded data removed]"
          },
          "metadata": {}
        }
      ]
    },
    {
      "cell_type": "markdown",
      "source": [
        "What is rate of growth for the function that relates the size of the problem with the execution time?\n",
        "\n",
        "The rate of growth shows how execution time scales as the problem size increases.\n",
        "If the time grows proportionally, it’s linear; if it grows much faster, it may be quadratic or exponential.\n",
        "In short, it reflects the computational complexity of the program."
      ],
      "metadata": {
        "id": "qMrx2hVfcDmJ"
      }
    }
  ]
}