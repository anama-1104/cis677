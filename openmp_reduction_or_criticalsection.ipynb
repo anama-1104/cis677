{
  "nbformat": 4,
  "nbformat_minor": 0,
  "metadata": {
    "colab": {
      "provenance": [],
      "include_colab_link": true
    },
    "kernelspec": {
      "name": "python3",
      "display_name": "Python 3"
    },
    "language_info": {
      "name": "python"
    }
  },
  "cells": [
    {
      "cell_type": "markdown",
      "metadata": {
        "id": "view-in-github",
        "colab_type": "text"
      },
      "source": [
        "<a href=\"https://colab.research.google.com/github/anama-1104/cis677/blob/main/openmp_reduction_or_criticalsection.ipynb\" target=\"_parent\"><img src=\"https://colab.research.google.com/assets/colab-badge.svg\" alt=\"Open In Colab\"/></a>"
      ]
    },
    {
      "cell_type": "markdown",
      "source": [
        "# Comparing reduction and critical section in Openmp\n",
        "\n",
        "In OpenMP there is support for:\n",
        "\n",
        "\n",
        "1.   Reduction operations in for statements\n",
        "2.   Critical sections\n",
        "\n",
        "There are cases when it is possible to achieve the same goals by using either one of two alternatives:\n",
        "\n",
        "1. Using a reduction and then looking for the element of interest\n",
        "2. Using a critical section\n",
        "\n",
        "This example illustratest both alternatives.\n",
        "\n"
      ],
      "metadata": {
        "id": "-m8WC5eo38KO"
      }
    },
    {
      "cell_type": "code",
      "execution_count": 1,
      "metadata": {
        "colab": {
          "base_uri": "https://localhost:8080/"
        },
        "id": "PIH54S2E37Oq",
        "outputId": "76e2fa60-7427-4f61-b452-ba950192d85d"
      },
      "outputs": [
        {
          "output_type": "stream",
          "name": "stdout",
          "text": [
            "Writing reduc_vs_critical.cc\n"
          ]
        }
      ],
      "source": [
        "%%writefile reduc_vs_critical.cc\n",
        "//\n",
        "// Comparing reduce vs. critical section in OpenMP\n",
        "// Create a vector of integers with 10,000,000 entries\n",
        "// Fill with random integer positive values\n",
        "// Find the largest element and its position in the vector\n",
        "// Use two different approaches:\n",
        "// 1. Perform a reduction and then look for the entry\n",
        "// 2. Use a critical section to update the max value and its entry\n",
        "// Time the different parts of the code\n",
        "//\n",
        "#include <omp.h>\n",
        "#include <cstdlib>\n",
        "#include <float.h>\n",
        "#include <algorithm>\n",
        "#include <iostream>\n",
        "#include <vector>\n",
        "\n",
        "const int SIZE = 10000000;\n",
        "int main(int argc,char *argv[])\n",
        "{\n",
        "  std::vector < int > array(SIZE);\n",
        "\n",
        "  double startGenerating,endGenerating;\n",
        "  startGenerating = omp_get_wtime();\n",
        "#pragma omp parallel for\n",
        "  for(int i = 0;i < SIZE;i++) {\n",
        "    array[i] = rand();\n",
        "  }\n",
        "  endGenerating = omp_get_wtime();\n",
        "\n",
        "  // Now compare two approaches to finding\n",
        "  // the largest element in the array\n",
        "  // 1. Perform a reduction and then find the corresponding element\n",
        "  // 2. Use a critical section\n",
        "  double startReduction,endReduction;\n",
        "  startReduction = omp_get_wtime();\n",
        "  int maxValue = 0;\n",
        "#pragma omp parallel for reduction(max:maxValue)\n",
        "  for(int i = 0;i < SIZE;i++) {\n",
        "    maxValue = std::max(maxValue,array[i]);\n",
        "  }\n",
        "  endReduction = omp_get_wtime();\n",
        "  double startFindMaxEntry,endFindMaxEntry;\n",
        "  startFindMaxEntry = omp_get_wtime();\n",
        "  int maxIndex = -1;\n",
        "  for(int i = 0;i < SIZE;i++) {\n",
        "    if (array[i] == maxValue) {\n",
        "      maxIndex = i;\n",
        "      break;\n",
        "    }\n",
        "  }\n",
        "  endFindMaxEntry = omp_get_wtime();\n",
        "  std::cout << \"Max value: \" << maxValue\n",
        "       << \" at position: \" << maxIndex << std::endl;\n",
        "  double startCriticalSection,endCriticalSection;\n",
        "  startCriticalSection = omp_get_wtime();\n",
        "  maxIndex = -1;\n",
        "  maxValue = 0;\n",
        "#pragma omp parallel for shared(maxValue,maxIndex)\n",
        "  for(int i = 0;i < SIZE;i++) {\n",
        "    #pragma omp critical\n",
        "    if (array[i] > maxValue)\n",
        "      {\n",
        "      maxValue = array[i];\n",
        "      maxIndex = i;\n",
        "      }\n",
        "  }\n",
        "  endCriticalSection = omp_get_wtime();\n",
        "  std::cout << \"Max value: \" << maxValue\n",
        "\t    << \" at position: \" << maxIndex << std::endl;\n",
        "  std::cout << \"Times: \" << std::endl;\n",
        "  std::cout << \"Generation: \" << (endGenerating - startGenerating)\n",
        "\t    << std::endl;\n",
        "  std::cout << \"Reduction: \" << (endReduction - startReduction)\n",
        "\t    << std::endl;\n",
        "  std::cout << \"FindMaxEntry: \" << (endFindMaxEntry - startFindMaxEntry)\n",
        "\t    << std::endl;\n",
        "  std::cout << \"Reduction + FindMaxEntry: \" <<\n",
        "    (endReduction - startReduction)+(endFindMaxEntry - startFindMaxEntry)\n",
        "\t    <<std::endl;\n",
        "  std::cout << \"Critical Section: \" << (endCriticalSection - startCriticalSection)\n",
        "\t    << std::endl;\n",
        "}\n"
      ]
    },
    {
      "cell_type": "code",
      "source": [
        "!g++ reduc_vs_critical.cc -o reduc_vs_critical -fopenmp -O3"
      ],
      "metadata": {
        "id": "25zL9KOf4MF1"
      },
      "execution_count": 2,
      "outputs": []
    },
    {
      "cell_type": "code",
      "source": [
        "!./reduc_vs_critical"
      ],
      "metadata": {
        "colab": {
          "base_uri": "https://localhost:8080/"
        },
        "id": "9TpWkT9J4TbE",
        "outputId": "f6d84b48-bb8c-45b2-c8e0-2bca8634393d"
      },
      "execution_count": 3,
      "outputs": [
        {
          "output_type": "stream",
          "name": "stdout",
          "text": [
            "Max value: 2147483025 at position: 4488871\n",
            "Max value: 2147483025 at position: 4488871\n",
            "Times: \n",
            "Generation: 0.285828\n",
            "Reduction: 0.00546451\n",
            "FindMaxEntry: 0.0133595\n",
            "Reduction + FindMaxEntry: 0.018824\n",
            "Critical Section: 0.342475\n"
          ]
        }
      ]
    },
    {
      "cell_type": "markdown",
      "source": [
        "Which approach is faster, using a critical section or using reduction?\n",
        "\n",
        "\n",
        "When working with OpenMP, reduction tends to be the faster approach because each thread gets its own private copy of the variable, does its work independently, and then all the results are combined at the end in one step. This avoids the constant stopping and waiting that happens in a critical section, where every thread must line up and take turns to update the shared variable. The downside of reduction is that it uses slightly more memory, since each thread needs its own copy of the variable, while critical sections only rely on a single shared one. In practice though, the extra memory needed for reduction is usually very small compared to the performance benefits, so programmers typically prefer reduction unless the task doesn’t fit into a reduction pattern. Critical sections are still important when you need more complex updates that reductions can’t handle, but they can quickly become a performance bottleneck as the number of threads grows.\n",
        "\n",
        "\n"
      ],
      "metadata": {
        "id": "YbH1WSXd4LrZ"
      }
    },
    {
      "cell_type": "markdown",
      "source": [
        "\n",
        "Which approach uses more memory?\n",
        "\n",
        "\n",
        "In OpenMP, the reduction approach uses more memory because each thread is given its own private copy of the variable. After the loop, these copies are combined into a final result. By contrast, a critical section only relies on one shared variable, so it uses less memory.\n"
      ],
      "metadata": {
        "id": "N4sFzcmx4Ln1"
      }
    },
    {
      "cell_type": "markdown",
      "source": [],
      "metadata": {
        "id": "hPUAPFcK4Lkf"
      }
    }
  ]
}