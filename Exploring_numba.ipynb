{
  "nbformat": 4,
  "nbformat_minor": 0,
  "metadata": {
    "colab": {
      "provenance": [],
      "authorship_tag": "ABX9TyPa8Kf9O/wSTTw33eCVR8e4",
      "include_colab_link": true
    },
    "kernelspec": {
      "name": "python3",
      "display_name": "Python 3"
    },
    "language_info": {
      "name": "python"
    }
  },
  "cells": [
    {
      "cell_type": "markdown",
      "metadata": {
        "id": "view-in-github",
        "colab_type": "text"
      },
      "source": [
        "<a href=\"https://colab.research.google.com/github/trefftzc/cis677/blob/main/Exploring_numba.ipynb\" target=\"_parent\"><img src=\"https://colab.research.google.com/assets/colab-badge.svg\" alt=\"Open In Colab\"/></a>"
      ]
    },
    {
      "cell_type": "markdown",
      "source": [
        "# NUMBA compiler messages\n",
        "\n",
        "This example is taken from numba's tutorial\n",
        " https://numba.readthedocs.io/en/stable/user/5minguide.html"
      ],
      "metadata": {
        "id": "foRjxaH5riZe"
      }
    },
    {
      "cell_type": "code",
      "source": [
        "!find / -iname 'libdevice'\n",
        "!find / -iname 'libnvvm.so'"
      ],
      "metadata": {
        "id": "LVziCZbg0osy"
      },
      "execution_count": null,
      "outputs": []
    },
    {
      "cell_type": "markdown",
      "source": [
        "Set the version of the cuda package according to the output of the previous cell."
      ],
      "metadata": {
        "id": "MJnOLVBa0pP6"
      }
    },
    {
      "cell_type": "code",
      "source": [
        "import os\n",
        "os.environ['NUMBAPRO_LIBDEVICE'] = \"/usr/local/cuda-12.5/nvvm/libdevice\"\n",
        "os.environ['NUMBAPRO_NVVM'] = \"/usr/local/cuda-12.5/nvvm/lib64/libnvvm.so\""
      ],
      "metadata": {
        "id": "zwfpg9YMzPez"
      },
      "execution_count": 1,
      "outputs": []
    },
    {
      "cell_type": "code",
      "source": [
        "!uv pip install -q --system numba-cuda==0.4.0"
      ],
      "metadata": {
        "id": "lFBYnnmazRqC"
      },
      "execution_count": 2,
      "outputs": []
    },
    {
      "cell_type": "code",
      "execution_count": 3,
      "metadata": {
        "colab": {
          "base_uri": "https://localhost:8080/"
        },
        "id": "wH06y1OfrhXT",
        "outputId": "b7db2d5d-d9b8-4d96-98fd-2f21537c52c3"
      },
      "outputs": [
        {
          "output_type": "stream",
          "name": "stdout",
          "text": [
            "Elapsed (with compilation) = 1.2162973130000125s\n",
            "Result = 499999500000\n"
          ]
        }
      ],
      "source": [
        "import numba\n",
        "import time\n",
        "\n",
        "@numba.jit(nopython=True)\n",
        "def go_fast(n):\n",
        "  acum = 0\n",
        "  for i in range(n):\n",
        "    acum += i\n",
        "  return acum\n",
        "\n",
        "if __name__ == \"__main__\":\n",
        "  x = 1_000_000\n",
        "# DO NOT REPORT THIS... COMPILATION TIME IS INCLUDED IN THE EXECUTION TIME!\n",
        "  start = time.perf_counter()\n",
        "  result = go_fast(x)\n",
        "  end = time.perf_counter()\n",
        "  print(\"Elapsed (with compilation) = {}s\".format((end - start)))\n",
        "\n",
        "# NOW THE FUNCTION IS COMPILED, RE-TIME IT EXECUTING FROM CACHE\n",
        "  start = time.perf_counter()\n",
        "  result = go_fast(x)\n",
        "  end = time.perf_counter()\n",
        "  print(\"Result = {}\".format(result))\n"
      ]
    },
    {
      "cell_type": "markdown",
      "source": [
        "Now include a report about the activites that the compiler performed.\n",
        "This is achieved with this line:\n",
        " go_fast.parallel_diagnostics(level=4)"
      ],
      "metadata": {
        "id": "3Z7DoAtjn-1g"
      }
    },
    {
      "cell_type": "code",
      "source": [
        "import numba\n",
        "import time\n",
        "\n",
        "@numba.jit(nopython=True,parallel=True)\n",
        "def go_fast(n):\n",
        "  acum = 0\n",
        "  for i in range(n):\n",
        "    acum += i\n",
        "  return acum\n",
        "\n",
        "if __name__ == \"__main__\":\n",
        "  x = 1_000_000\n",
        "# DO NOT REPORT THIS... COMPILATION TIME IS INCLUDED IN THE EXECUTION TIME!\n",
        "  start = time.perf_counter()\n",
        "  go_fast(x)\n",
        "  end = time.perf_counter()\n",
        "  print(\"Elapsed (with compilation) = {}s\".format((end - start)))\n",
        "\n",
        "# NOW THE FUNCTION IS COMPILED, RE-TIME IT EXECUTING FROM CACHE\n",
        "  start = time.perf_counter()\n",
        "  go_fast(x)\n",
        "  end = time.perf_counter()\n",
        "  print(\"Elapsed (after compilation) = {}s\".format((end - start)))\n",
        "  print(\"Result = {}\".format(result))\n",
        "  go_fast.parallel_diagnostics(level=4)"
      ],
      "metadata": {
        "colab": {
          "base_uri": "https://localhost:8080/"
        },
        "id": "92ZJu11wtgnL",
        "outputId": "4b036cd0-aba5-4db2-8485-be977712fc4d"
      },
      "execution_count": 4,
      "outputs": [
        {
          "output_type": "stream",
          "name": "stdout",
          "text": [
            "Elapsed (with compilation) = 0.09202581499999951s\n",
            "Elapsed (after compilation) = 2.8059999976903782e-06s\n",
            "Result = 499999500000\n",
            " \n",
            "================================================================================\n",
            " Parallel Accelerator Optimizing:  Function go_fast, /tmp/ipython-\n",
            "input-4049838468.py (4)  \n",
            "================================================================================\n",
            "No source available\n",
            "--------------------------------- Fusing loops ---------------------------------\n",
            "Attempting fusion of parallel loops (combines loops with similar properties)...\n",
            "----------------------------- Before Optimisation ------------------------------\n",
            "--------------------------------------------------------------------------------\n",
            "------------------------------ After Optimisation ------------------------------\n",
            "Parallel structure is already optimal.\n",
            "--------------------------------------------------------------------------------\n",
            "--------------------------------------------------------------------------------\n",
            " \n",
            "---------------------------Loop invariant code motion---------------------------\n",
            "Allocation hoisting:\n",
            "No allocation hoisting found\n",
            "\n",
            "Instruction hoisting:\n",
            "No instruction hoisting found\n",
            "--------------------------------------------------------------------------------\n"
          ]
        },
        {
          "output_type": "stream",
          "name": "stderr",
          "text": [
            "/usr/local/lib/python3.12/dist-packages/numba/core/typed_passes.py:336: NumbaPerformanceWarning: \n",
            "The keyword argument 'parallel=True' was specified but no transformation for parallel execution was possible.\n",
            "\n",
            "To find out why, try turning on parallel diagnostics, see https://numba.readthedocs.io/en/stable/user/parallel.html#diagnostics for help.\n",
            "\n",
            "File \"../tmp/ipython-input-4049838468.py\", line 4:\n",
            "<source missing, REPL/exec in use?>\n",
            "\n",
            "  warnings.warn(errors.NumbaPerformanceWarning(msg,\n"
          ]
        }
      ]
    },
    {
      "cell_type": "markdown",
      "source": [
        "Now, let's use prange. prange parallelizes a for statement. It creates several threads of execution."
      ],
      "metadata": {
        "id": "Pzd0pTgAoRG_"
      }
    },
    {
      "cell_type": "code",
      "source": [
        "import numba\n",
        "import time\n",
        "\n",
        "@numba.jit(nopython=True,parallel=True)\n",
        "def go_fast(n):\n",
        "  acum = 0\n",
        "  for i in numba.prange(n):\n",
        "    acum += i\n",
        "  return acum\n",
        "\n",
        "if __name__ == \"__main__\":\n",
        "  x = 1_000_000\n",
        "# DO NOT REPORT THIS... COMPILATION TIME IS INCLUDED IN THE EXECUTION TIME!\n",
        "  start = time.perf_counter()\n",
        "  go_fast(x)\n",
        "  end = time.perf_counter()\n",
        "  print(\"Elapsed (with compilation) = {}s\".format((end - start)))\n",
        "\n",
        "# NOW THE FUNCTION IS COMPILED, RE-TIME IT EXECUTING FROM CACHE\n",
        "  start = time.perf_counter()\n",
        "  go_fast(x)\n",
        "  end = time.perf_counter()\n",
        "  print(\"Elapsed (after compilation) = {}s\".format((end - start)))\n",
        "  print(\"Result = {}\".format(result))\n",
        "  go_fast.parallel_diagnostics(level=4)"
      ],
      "metadata": {
        "colab": {
          "base_uri": "https://localhost:8080/"
        },
        "id": "exDwSjZct32T",
        "outputId": "b0208a9a-1b69-4aa0-fd7b-7eb043a8c681"
      },
      "execution_count": 5,
      "outputs": [
        {
          "output_type": "stream",
          "name": "stdout",
          "text": [
            "Elapsed (with compilation) = 0.4855637940000008s\n",
            "Elapsed (after compilation) = 0.0002784860000133449s\n",
            "Result = 499999500000\n",
            " \n",
            "================================================================================\n",
            " Parallel Accelerator Optimizing:  Function go_fast, /tmp/ipython-\n",
            "input-3566615550.py (4)  \n",
            "================================================================================\n",
            "\n",
            "\n",
            "Parallel loop listing for  Function go_fast, /tmp/ipython-input-3566615550.py (4) \n",
            "-------------------------------------------|loop #ID\n",
            "@numba.jit(nopython=True,parallel=True)    | \n",
            "def go_fast(n):                            | \n",
            "  acum = 0                                 | \n",
            "  for i in numba.prange(n):----------------| #0\n",
            "    acum += i                              | \n",
            "  return acum                              | \n",
            "--------------------------------- Fusing loops ---------------------------------\n",
            "Attempting fusion of parallel loops (combines loops with similar properties)...\n",
            "----------------------------- Before Optimisation ------------------------------\n",
            "--------------------------------------------------------------------------------\n",
            "------------------------------ After Optimisation ------------------------------\n",
            "Parallel structure is already optimal.\n",
            "--------------------------------------------------------------------------------\n",
            "--------------------------------------------------------------------------------\n",
            " \n",
            "---------------------------Loop invariant code motion---------------------------\n",
            "Allocation hoisting:\n",
            "No allocation hoisting found\n",
            "\n",
            "Instruction hoisting:\n",
            "loop #0:\n",
            "  Failed to hoist the following:\n",
            "    dependency: i = $parfor__index_4.22\n",
            "    dependency: $acum_2.25 = inplace_binop(fn=<built-in function iadd>, immutable_fn=<built-in function add>, lhs=acum_2, rhs=$parfor__index_4.22, static_lhs=Undefined, static_rhs=Undefined)\n",
            "    dependency: acum_2 = $acum_2.25\n",
            "--------------------------------------------------------------------------------\n"
          ]
        }
      ]
    },
    {
      "cell_type": "markdown",
      "source": [
        "# Let's try matrix multiplication\n"
      ],
      "metadata": {
        "id": "kuMMRIyauqfS"
      }
    },
    {
      "cell_type": "code",
      "source": [
        "import numpy\n",
        "\n",
        "def matrix_multiplication(A,B,C,N):\n",
        "  # Initialize the result matrix to 0s\n",
        "\n",
        "  for i in range(N):\n",
        "    for j in range(N):\n",
        "      for k in range(N):\n",
        "        C[i][j] += A[i][k]*B[k][j]\n",
        "  return C\n",
        "\n",
        "if __name__ == \"__main__\":\n",
        "  size = 400\n",
        "  A = numpy.random.rand(size,size)\n",
        "  B = numpy.eye(size,size)\n",
        "  C = numpy.zeros([size,size])\n",
        "# Multiply the matrices\n",
        "  start_time = time.time()\n",
        "  C = matrix_multiplication(A,B,C,size)\n",
        "  end_time = time.time()\n",
        "  print(\"Elapsed time = {}s\".format((end_time - start_time)))"
      ],
      "metadata": {
        "colab": {
          "base_uri": "https://localhost:8080/"
        },
        "id": "hOCab3Y0vC3K",
        "outputId": "9fdfed84-336d-4d20-8c6e-a2f455ff9f98"
      },
      "execution_count": 6,
      "outputs": [
        {
          "output_type": "stream",
          "name": "stdout",
          "text": [
            "Elapsed time = 70.26487374305725s\n"
          ]
        }
      ]
    },
    {
      "cell_type": "markdown",
      "source": [
        "# Now let's try with NUMBA (without parallelization)"
      ],
      "metadata": {
        "id": "kaANysvbzkOz"
      }
    },
    {
      "cell_type": "code",
      "source": [
        "import numpy\n",
        "import numba\n",
        "\n",
        "@numba.jit(nopython=True,parallel=True)\n",
        "def matrix_multiplication(A,B,C,N):\n",
        "  # Initialize the result matrix to 0s\n",
        "  for i in range(N):\n",
        "    for j in range(N):\n",
        "      for k in range(N):\n",
        "        C[i][j] += A[i][k]*B[k][j]\n",
        "  return C\n",
        "\n",
        "if __name__ == \"__main__\":\n",
        "\n",
        "# First a run to compile the code\n",
        "  size = 400\n",
        "  A = numpy.random.rand(size,size)\n",
        "  B = numpy.eye(size,size)\n",
        "  C = numpy.zeros([size,size])\n",
        "  start_time = time.time()\n",
        "  C = matrix_multiplication(A,B,C,size)\n",
        "  end_time = time.time()\n",
        "  print(\"Elapsed time with compilation = {}s\".format((end_time - start_time)))\n",
        "# Now a second run that uses the compiled code to multiply the matrices\n",
        "  size = 400\n",
        "  A = numpy.random.rand(size,size)\n",
        "  B = numpy.eye(size,size)\n",
        "  C = numpy.zeros([size,size])\n",
        "  start_time = time.time()\n",
        "  C = matrix_multiplication(A,B,C,size)\n",
        "  end_time = time.time()\n",
        "  print(\"Elapsed time (withtout compilation)= {}s\".format((end_time - start_time)))\n",
        "  matrix_multiplication.parallel_diagnostics(level=4)"
      ],
      "metadata": {
        "colab": {
          "base_uri": "https://localhost:8080/"
        },
        "id": "V62MvnFOzq2r",
        "outputId": "76724791-c0c5-4f1f-8210-7085334c8ed3"
      },
      "execution_count": 7,
      "outputs": [
        {
          "output_type": "stream",
          "name": "stderr",
          "text": [
            "/usr/local/lib/python3.12/dist-packages/numba/core/typed_passes.py:336: NumbaPerformanceWarning: \n",
            "The keyword argument 'parallel=True' was specified but no transformation for parallel execution was possible.\n",
            "\n",
            "To find out why, try turning on parallel diagnostics, see https://numba.readthedocs.io/en/stable/user/parallel.html#diagnostics for help.\n",
            "\n",
            "File \"../tmp/ipython-input-1523915101.py\", line 4:\n",
            "<source missing, REPL/exec in use?>\n",
            "\n",
            "  warnings.warn(errors.NumbaPerformanceWarning(msg,\n"
          ]
        },
        {
          "output_type": "stream",
          "name": "stdout",
          "text": [
            "Elapsed time with compilation = 0.27545619010925293s\n",
            "Elapsed time (withtout compilation)= 0.10170125961303711s\n",
            " \n",
            "================================================================================\n",
            " Parallel Accelerator Optimizing:  Function matrix_multiplication, /tmp/ipython-\n",
            "input-1523915101.py (4)  \n",
            "================================================================================\n",
            "No source available\n",
            "--------------------------------- Fusing loops ---------------------------------\n",
            "Attempting fusion of parallel loops (combines loops with similar properties)...\n",
            "----------------------------- Before Optimisation ------------------------------\n",
            "--------------------------------------------------------------------------------\n",
            "------------------------------ After Optimisation ------------------------------\n",
            "Parallel structure is already optimal.\n",
            "--------------------------------------------------------------------------------\n",
            "--------------------------------------------------------------------------------\n",
            " \n",
            "---------------------------Loop invariant code motion---------------------------\n",
            "Allocation hoisting:\n",
            "No allocation hoisting found\n",
            "\n",
            "Instruction hoisting:\n",
            "No instruction hoisting found\n",
            "--------------------------------------------------------------------------------\n"
          ]
        }
      ]
    },
    {
      "cell_type": "markdown",
      "source": [
        "# Now with prange"
      ],
      "metadata": {
        "id": "kYpJo2GM2J9z"
      }
    },
    {
      "cell_type": "code",
      "source": [
        "import numpy\n",
        "import numba\n",
        "\n",
        "@numba.jit(nopython=True,parallel=True)\n",
        "def matrix_multiplication(A,B,C,N):\n",
        "  # Initialize the result matrix to 0s\n",
        "  for i in numba.prange(N):\n",
        "    for j in range(N):\n",
        "      for k in range(N):\n",
        "        C[i][j] += A[i][k]*B[k][j]\n",
        "  return C\n",
        "\n",
        "if __name__ == \"__main__\":\n",
        "\n",
        "# First a run to compile the code\n",
        "  size = 400\n",
        "  A = numpy.random.rand(size,size)\n",
        "  B = numpy.eye(size,size)\n",
        "  C = numpy.zeros([size,size])\n",
        "  start_time = time.time()\n",
        "  C = matrix_multiplication(A,B,C,size)\n",
        "  end_time = time.time()\n",
        "  print(\"Elapsed time with compilation = {}s\".format((end_time - start_time)))\n",
        "# Multiply the matrices\n",
        "  size = 400\n",
        "  A = numpy.random.rand(size,size)\n",
        "  B = numpy.eye(size,size)\n",
        "  C = numpy.zeros([size,size])\n",
        "  start_time = time.time()\n",
        "  C = matrix_multiplication(A,B,C,size)\n",
        "  end_time = time.time()\n",
        "  print(\"Elapsed time (withtout compilation)= {}s\".format((end_time - start_time)))\n",
        "  matrix_multiplication.parallel_diagnostics(level=4)"
      ],
      "metadata": {
        "colab": {
          "base_uri": "https://localhost:8080/"
        },
        "id": "4sWXkJrg2LlB",
        "outputId": "f03540be-9496-4181-b119-c92344b1fc2a"
      },
      "execution_count": 8,
      "outputs": [
        {
          "output_type": "stream",
          "name": "stdout",
          "text": [
            "Elapsed time with compilation = 0.8328351974487305s\n",
            "Elapsed time (withtout compilation)= 0.10880875587463379s\n",
            " \n",
            "================================================================================\n",
            " Parallel Accelerator Optimizing:  Function matrix_multiplication, /tmp/ipython-\n",
            "input-3184916463.py (4)  \n",
            "================================================================================\n",
            "\n",
            "\n",
            "Parallel loop listing for  Function matrix_multiplication, /tmp/ipython-input-3184916463.py (4) \n",
            "-------------------------------------------|loop #ID\n",
            "@numba.jit(nopython=True,parallel=True)    | \n",
            "def matrix_multiplication(A,B,C,N):        | \n",
            "  # Initialize the result matrix to 0s     | \n",
            "  for i in numba.prange(N):----------------| #1\n",
            "    for j in range(N):                     | \n",
            "      for k in range(N):                   | \n",
            "        C[i][j] += A[i][k]*B[k][j]         | \n",
            "  return C                                 | \n",
            "--------------------------------- Fusing loops ---------------------------------\n",
            "Attempting fusion of parallel loops (combines loops with similar properties)...\n",
            "----------------------------- Before Optimisation ------------------------------\n",
            "--------------------------------------------------------------------------------\n",
            "------------------------------ After Optimisation ------------------------------\n",
            "Parallel structure is already optimal.\n",
            "--------------------------------------------------------------------------------\n",
            "--------------------------------------------------------------------------------\n",
            " \n",
            "---------------------------Loop invariant code motion---------------------------\n",
            "Allocation hoisting:\n",
            "No allocation hoisting found\n",
            "\n",
            "Instruction hoisting:\n",
            "loop #1:\n",
            "  Has the following hoisted:\n",
            "    $80load_global.3 = global(range: <class 'range'>)\n",
            "    $52load_global.2 = global(range: <class 'range'>)\n",
            "  Failed to hoist the following:\n",
            "    dependency: $102for_iter.3 = iternext(value=$100get_iter.7)\n",
            "    dependency: $k.65 = pair_first(value=$102for_iter.3)\n",
            "    dependency: $102for_iter.5 = pair_second(value=$102for_iter.3)\n",
            "    dependency: $74for_iter.2 = iternext(value=$72get_iter.6)\n",
            "    dependency: $j.66 = pair_first(value=$74for_iter.2)\n",
            "    dependency: $74for_iter.4 = pair_second(value=$74for_iter.2)\n",
            "    dependency: $122binary_subscr.8 = getitem(value=$112binary_subscr.6, index=$j.66, fn=<built-in function getitem>)\n",
            "    dependency: $130binary_subscr.11 = getitem(value=A, index=$parfor__index_61.81, fn=<built-in function getitem>)\n",
            "    dependency: $136binary_subscr.13 = getitem(value=$130binary_subscr.11, index=$k.65, fn=<built-in function getitem>)\n",
            "    dependency: $144binary_subscr.16 = getitem(value=B, index=$k.65, fn=<built-in function getitem>)\n",
            "    dependency: $150binary_subscr.18 = getitem(value=$144binary_subscr.16, index=$j.66, fn=<built-in function getitem>)\n",
            "    dependency: $binop_mul154.19 = $136binary_subscr.13 * $150binary_subscr.18\n",
            "    dependency: $binop_iadd158.20 = inplace_binop(fn=<built-in function iadd>, immutable_fn=<built-in function add>, lhs=$122binary_subscr.8, rhs=$binop_mul154.19, static_lhs=Undefined, static_rhs=Undefined)\n",
            "    not pure: $92call.6 = call $push_global_to_block.79(N, func=$push_global_to_block.79, args=[Var(N, ipython-input-3184916463.py:4)], kws=(), vararg=None, varkwarg=None, target=None)\n",
            "    dependency: $100get_iter.7 = getiter(value=$92call.6)\n",
            "    not pure: $64call.5 = call $push_global_to_block.80(N, func=$push_global_to_block.80, args=[Var(N, ipython-input-3184916463.py:4)], kws=(), vararg=None, varkwarg=None, target=None)\n",
            "    dependency: $72get_iter.6 = getiter(value=$64call.5)\n",
            "--------------------------------------------------------------------------------\n"
          ]
        }
      ]
    },
    {
      "cell_type": "markdown",
      "source": [
        "# If we try two parallel prange statements, instead of just the outermost loop.\n"
      ],
      "metadata": {
        "id": "jyYUjnYV2qtr"
      }
    },
    {
      "cell_type": "code",
      "source": [
        "import numpy\n",
        "import numba\n",
        "\n",
        "@numba.jit(nopython=True,parallel=True)\n",
        "def matrix_multiplication(A,B,C,N):\n",
        "  # Initialize the result matrix to 0s\n",
        "  for i in numba.prange(N):\n",
        "    for j in numba.prange(N):\n",
        "      for k in range(N):\n",
        "        C[i][j] += A[i][k]*B[k][j]\n",
        "  return C\n",
        "\n",
        "if __name__ == \"__main__\":\n",
        "\n",
        "# First a run to compile the code\n",
        "  size = 400\n",
        "  A = numpy.random.rand(size,size)\n",
        "  B = numpy.eye(size,size)\n",
        "  C = numpy.zeros([size,size])\n",
        "  start_time = time.time()\n",
        "  C = matrix_multiplication(A,B,C,size)\n",
        "  end_time = time.time()\n",
        "  print(\"Elapsed time with compilation = {}s\".format((end_time - start_time)))\n",
        "# Multiply the matrices\n",
        "  size = 400\n",
        "  A = numpy.random.rand(size,size)\n",
        "  B = numpy.eye(size,size)\n",
        "  C = numpy.zeros([size,size])\n",
        "  start_time = time.time()\n",
        "  C = matrix_multiplication(A,B,C,size)\n",
        "  end_time = time.time()\n",
        "  print(\"Elapsed time (withtout compilation)= {}s\".format((end_time - start_time)))\n",
        "  matrix_multiplication.parallel_diagnostics(level=4)"
      ],
      "metadata": {
        "colab": {
          "base_uri": "https://localhost:8080/"
        },
        "id": "LY3TBllm2xVT",
        "outputId": "13a2ee6d-0a0b-4d12-9f72-f101a94f9dd2"
      },
      "execution_count": 9,
      "outputs": [
        {
          "output_type": "stream",
          "name": "stdout",
          "text": [
            "Elapsed time with compilation = 0.5877289772033691s\n",
            "Elapsed time (withtout compilation)= 0.0644083023071289s\n",
            " \n",
            "================================================================================\n",
            " Parallel Accelerator Optimizing:  Function matrix_multiplication, /tmp/ipython-\n",
            "input-553046427.py (4)  \n",
            "================================================================================\n",
            "\n",
            "\n",
            "Parallel loop listing for  Function matrix_multiplication, /tmp/ipython-input-553046427.py (4) \n",
            "-------------------------------------------|loop #ID\n",
            "@numba.jit(nopython=True,parallel=True)    | \n",
            "def matrix_multiplication(A,B,C,N):        | \n",
            "  # Initialize the result matrix to 0s     | \n",
            "  for i in numba.prange(N):----------------| #3\n",
            "    for j in numba.prange(N):--------------| #2\n",
            "      for k in range(N):                   | \n",
            "        C[i][j] += A[i][k]*B[k][j]         | \n",
            "  return C                                 | \n",
            "--------------------------------- Fusing loops ---------------------------------\n",
            "Attempting fusion of parallel loops (combines loops with similar properties)...\n",
            "----------------------------- Before Optimisation ------------------------------\n",
            "Parallel region 0:\n",
            "+--3 (parallel)\n",
            "   +--2 (parallel)\n",
            "\n",
            "\n",
            "--------------------------------------------------------------------------------\n",
            "------------------------------ After Optimisation ------------------------------\n",
            "Parallel region 0:\n",
            "+--3 (parallel)\n",
            "   +--2 (serial)\n",
            "\n",
            "\n",
            " \n",
            "Parallel region 0 (loop #3) had 0 loop(s) fused and 1 loop(s) serialized as part\n",
            " of the larger parallel loop (#3).\n",
            "--------------------------------------------------------------------------------\n",
            "--------------------------------------------------------------------------------\n",
            " \n",
            "---------------------------Loop invariant code motion---------------------------\n",
            "Allocation hoisting:\n",
            "No allocation hoisting found\n",
            "\n",
            "Instruction hoisting:\n",
            "loop #3 has nothing to hoist.\n",
            "No instruction hoisting found\n",
            "--------------------------------------------------------------------------------\n"
          ]
        }
      ]
    },
    {
      "cell_type": "markdown",
      "source": [
        "# Now with a useless redundant statment to show how hoisting code works"
      ],
      "metadata": {
        "id": "qi0vlaRm3dKK"
      }
    },
    {
      "cell_type": "code",
      "source": [
        "import numpy\n",
        "import numba\n",
        "\n",
        "@numba.jit(nopython=True,parallel=True)\n",
        "def matrix_multiplication(A,B,C,N):\n",
        "  # Initialize the result matrix to 0s\n",
        "  x = 0\n",
        "  for i in numba.prange(N):\n",
        "    for j in range(N):\n",
        "      for k in range(N):\n",
        "        # The following instruction is unnecessary\n",
        "        x = 1\n",
        "        C[i][j] += A[i][k]*B[k][j]\n",
        "  return C\n",
        "\n",
        "if __name__ == \"__main__\":\n",
        "\n",
        "# First a run to compile the code\n",
        "  size = 400\n",
        "  A = numpy.random.rand(size,size)\n",
        "  B = numpy.eye(size,size)\n",
        "  C = numpy.zeros([size,size])\n",
        "  start_time = time.time()\n",
        "  C = matrix_multiplication(A,B,C,size)\n",
        "  end_time = time.time()\n",
        "  print(\"Elapsed time with compilation = {}s\".format((end_time - start_time)))\n",
        "# Multiply the matrices\n",
        "  size = 400\n",
        "  A = numpy.random.rand(size,size)\n",
        "  B = numpy.eye(size,size)\n",
        "  C = numpy.zeros([size,size])\n",
        "  start_time = time.time()\n",
        "  C = matrix_multiplication(A,B,C,size)\n",
        "  end_time = time.time()\n",
        "  print(\"Elapsed time (withtout compilation)= {}s\".format((end_time - start_time)))\n",
        "  matrix_multiplication.parallel_diagnostics(level=4)"
      ],
      "metadata": {
        "colab": {
          "base_uri": "https://localhost:8080/"
        },
        "id": "qqltv9_R3lbs",
        "outputId": "0691ff1f-58b6-4ce5-da72-e8ccdd09f86f"
      },
      "execution_count": 10,
      "outputs": [
        {
          "output_type": "stream",
          "name": "stdout",
          "text": [
            "Elapsed time with compilation = 0.8892784118652344s\n",
            "Elapsed time (withtout compilation)= 0.12043929100036621s\n",
            " \n",
            "================================================================================\n",
            " Parallel Accelerator Optimizing:  Function matrix_multiplication, /tmp/ipython-\n",
            "input-3120092189.py (4)  \n",
            "================================================================================\n",
            "\n",
            "\n",
            "Parallel loop listing for  Function matrix_multiplication, /tmp/ipython-input-3120092189.py (4) \n",
            "------------------------------------------------------|loop #ID\n",
            "@numba.jit(nopython=True,parallel=True)               | \n",
            "def matrix_multiplication(A,B,C,N):                   | \n",
            "  # Initialize the result matrix to 0s                | \n",
            "  x = 0                                               | \n",
            "  for i in numba.prange(N):---------------------------| #4\n",
            "    for j in range(N):                                | \n",
            "      for k in range(N):                              | \n",
            "        # The following instruction is unnecessary    | \n",
            "        x = 1                                         | \n",
            "        C[i][j] += A[i][k]*B[k][j]                    | \n",
            "  return C                                            | \n",
            "--------------------------------- Fusing loops ---------------------------------\n",
            "Attempting fusion of parallel loops (combines loops with similar properties)...\n",
            "----------------------------- Before Optimisation ------------------------------\n",
            "--------------------------------------------------------------------------------\n",
            "------------------------------ After Optimisation ------------------------------\n",
            "Parallel structure is already optimal.\n",
            "--------------------------------------------------------------------------------\n",
            "--------------------------------------------------------------------------------\n",
            " \n",
            "---------------------------Loop invariant code motion---------------------------\n",
            "Allocation hoisting:\n",
            "No allocation hoisting found\n",
            "\n",
            "Instruction hoisting:\n",
            "loop #4:\n",
            "  Has the following hoisted:\n",
            "    $84load_global.3 = global(range: <class 'range'>)\n",
            "    $56load_global.2 = global(range: <class 'range'>)\n",
            "  Failed to hoist the following:\n",
            "    dependency: $106for_iter.3 = iternext(value=$104get_iter.7)\n",
            "    dependency: $k.164 = pair_first(value=$106for_iter.3)\n",
            "    dependency: $106for_iter.5 = pair_second(value=$106for_iter.3)\n",
            "    dependency: $78for_iter.2 = iternext(value=$76get_iter.6)\n",
            "    dependency: $j.165 = pair_first(value=$78for_iter.2)\n",
            "    dependency: $78for_iter.4 = pair_second(value=$78for_iter.2)\n",
            "    dependency: $130binary_subscr.9 = getitem(value=$120binary_subscr.7, index=$j.165, fn=<built-in function getitem>)\n",
            "    dependency: $138binary_subscr.12 = getitem(value=A, index=$parfor__index_160.180, fn=<built-in function getitem>)\n",
            "    dependency: $144binary_subscr.14 = getitem(value=$138binary_subscr.12, index=$k.164, fn=<built-in function getitem>)\n",
            "    dependency: $152binary_subscr.17 = getitem(value=B, index=$k.164, fn=<built-in function getitem>)\n",
            "    dependency: $158binary_subscr.19 = getitem(value=$152binary_subscr.17, index=$j.165, fn=<built-in function getitem>)\n",
            "    dependency: $binop_mul162.20 = $144binary_subscr.14 * $158binary_subscr.19\n",
            "    dependency: $binop_iadd166.21 = inplace_binop(fn=<built-in function iadd>, immutable_fn=<built-in function add>, lhs=$130binary_subscr.9, rhs=$binop_mul162.20, static_lhs=Undefined, static_rhs=Undefined)\n",
            "    not pure: $96call.6 = call $push_global_to_block.178(N, func=$push_global_to_block.178, args=[Var(N, ipython-input-3120092189.py:4)], kws=(), vararg=None, varkwarg=None, target=None)\n",
            "    dependency: $104get_iter.7 = getiter(value=$96call.6)\n",
            "    not pure: $68call.5 = call $push_global_to_block.179(N, func=$push_global_to_block.179, args=[Var(N, ipython-input-3120092189.py:4)], kws=(), vararg=None, varkwarg=None, target=None)\n",
            "    dependency: $76get_iter.6 = getiter(value=$68call.5)\n",
            "--------------------------------------------------------------------------------\n"
          ]
        }
      ]
    },
    {
      "cell_type": "markdown",
      "source": [
        "# What happens if we try to parallelize code that depends on other iterations.\n",
        "\n",
        "There is something wrong... but the compiler does not warn us..."
      ],
      "metadata": {
        "id": "xtQTCn1NrCNg"
      }
    },
    {
      "cell_type": "code",
      "source": [
        "import numba\n",
        "import numpy as np\n",
        "\n",
        "@numba.jit(nopython=True,parallel=True)\n",
        "def depends_on_previous_iteration(A):\n",
        "  result = np.zeros(A.shape)\n",
        "  result[0] = A[0]\n",
        "  for i in numba.prange(1,A.shape[0]):\n",
        "    result[i] = A[i] + result[i-1]\n",
        "  return result\n",
        "\n",
        "if __name__ == \"__main__\":\n",
        "  size = 1_000_000\n",
        "  A = np.arange(size)\n",
        "  B = depends_on_previous_iteration(A)\n",
        "  sum_all_of_A = np.sum(A)\n",
        "  print(sum_all_of_A)\n",
        "  print(B[size-1])\n",
        "  depends_on_previous_iteration.parallel_diagnostics(level=4)"
      ],
      "metadata": {
        "id": "8W9NjUDwrKpA",
        "outputId": "d1338cb6-68fc-4167-cf5c-628fdc8aff5e",
        "colab": {
          "base_uri": "https://localhost:8080/"
        }
      },
      "execution_count": 11,
      "outputs": [
        {
          "output_type": "stream",
          "name": "stdout",
          "text": [
            "499999500000\n",
            "374999250000.0\n",
            " \n",
            "================================================================================\n",
            " Parallel Accelerator Optimizing:  Function depends_on_previous_iteration, \n",
            "/tmp/ipython-input-3374079850.py (4)  \n",
            "================================================================================\n",
            "\n",
            "\n",
            "Parallel loop listing for  Function depends_on_previous_iteration, /tmp/ipython-input-3374079850.py (4) \n",
            "-------------------------------------------|loop #ID\n",
            "@numba.jit(nopython=True,parallel=True)    | \n",
            "def depends_on_previous_iteration(A):      | \n",
            "  result = np.zeros(A.shape)---------------| #5\n",
            "  result[0] = A[0]                         | \n",
            "  for i in numba.prange(1,A.shape[0]):-----| #6\n",
            "    result[i] = A[i] + result[i-1]         | \n",
            "  return result                            | \n",
            "--------------------------------- Fusing loops ---------------------------------\n",
            "Attempting fusion of parallel loops (combines loops with similar properties)...\n",
            "----------------------------- Before Optimisation ------------------------------\n",
            "--------------------------------------------------------------------------------\n",
            "------------------------------ After Optimisation ------------------------------\n",
            "Parallel structure is already optimal.\n",
            "--------------------------------------------------------------------------------\n",
            "--------------------------------------------------------------------------------\n",
            " \n",
            "---------------------------Loop invariant code motion---------------------------\n",
            "Allocation hoisting:\n",
            "No allocation hoisting found\n",
            "\n",
            "Instruction hoisting:\n",
            "loop #5:\n",
            "  Has the following hoisted:\n",
            "    $expr_out_var.190 = const(float64, 0.0)\n",
            "loop #6:\n",
            "  Has the following hoisted:\n",
            "    $const170.7 = const(int, 1)\n",
            "  Failed to hoist the following:\n",
            "    dependency: $162binary_subscr.4 = getitem(value=A, index=$parfor__index_191.235, fn=<built-in function getitem>)\n",
            "    dependency: $binop_sub172.8 = $parfor__index_191.235 - $const170.7\n",
            "    dependency: $176binary_subscr.9 = getitem(value=result, index=$binop_sub172.8, fn=<built-in function getitem>)\n",
            "    dependency: $binop_add180.10 = $162binary_subscr.4 + $176binary_subscr.9\n",
            "--------------------------------------------------------------------------------\n"
          ]
        }
      ]
    }
  ]
}