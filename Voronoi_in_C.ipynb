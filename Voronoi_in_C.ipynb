{
  "nbformat": 4,
  "nbformat_minor": 0,
  "metadata": {
    "colab": {
      "provenance": [],
      "authorship_tag": "ABX9TyPjJZCs2GP1tYmOtzhfmCVm",
      "include_colab_link": true
    },
    "kernelspec": {
      "name": "python3",
      "display_name": "Python 3"
    },
    "language_info": {
      "name": "python"
    }
  },
  "cells": [
    {
      "cell_type": "markdown",
      "metadata": {
        "id": "view-in-github",
        "colab_type": "text"
      },
      "source": [
        "<a href=\"https://colab.research.google.com/github/trefftzc/cis677/blob/main/Voronoi_in_C.ipynb\" target=\"_parent\"><img src=\"https://colab.research.google.com/assets/colab-badge.svg\" alt=\"Open In Colab\"/></a>"
      ]
    },
    {
      "cell_type": "markdown",
      "source": [
        "# Approximate Voronoi Diagram in C\n",
        "\n",
        "This code was written by Isaiah Hendrick.\n",
        "\n",
        "First, a sequential implementation in C."
      ],
      "metadata": {
        "id": "P3RpvRzTtkvK"
      }
    },
    {
      "cell_type": "code",
      "execution_count": null,
      "metadata": {
        "colab": {
          "base_uri": "https://localhost:8080/"
        },
        "id": "EoO2jvAQtgPH",
        "outputId": "702f14ad-e8fa-428f-a397-c78ef8b3fa51"
      },
      "outputs": [
        {
          "output_type": "stream",
          "name": "stdout",
          "text": [
            "Overwriting voronoi.c\n"
          ]
        }
      ],
      "source": [
        "%%writefile voronoi.c\n",
        "// compile with \"gcc voronoi.c -o voronoi -lm\"\n",
        "// run with \"./voronoi\"\n",
        "\n",
        "#include <math.h>\n",
        "#include <stdio.h>\n",
        "#include <stdlib.h>\n",
        "#include <string.h>\n",
        "#include <time.h>\n",
        "\n",
        "#define SEED_ROW_SIZE   4\n",
        "#define SEED_COL_SIZE   2\n",
        "\n",
        "void calculate_voronoi(int, double *, double *);\n",
        "\n",
        "int main(int argc, char *argv[]) {\n",
        "  int size = 4096;\n",
        "  double(*area)[size] = calloc(size, sizeof *area);\n",
        "\n",
        "  double seed_vals[SEED_ROW_SIZE][SEED_COL_SIZE] = {\n",
        "      {0, 0},\n",
        "      {0, size - 1},\n",
        "      {size - 1, size - 1},\n",
        "      {size - 1, 0}\n",
        "  };\n",
        "\n",
        "  double *seeds = (double *)malloc(sizeof(seed_vals));\n",
        "  memcpy(seeds, seed_vals, sizeof(seed_vals));\n",
        "\n",
        "  clock_t start = clock();\n",
        "  calculate_voronoi(size, (double *)seeds, (double *)area);\n",
        "  clock_t end = clock();\n",
        "  double time_taken = (double)(end - start) / CLOCKS_PER_SEC;\n",
        "\n",
        "  printf(\"SEQUENTIAL VORONOI IMPLEMENTATION\\n\");\n",
        "  printf(\"---------------------------------\\n\");\n",
        "  printf(\"Array size: %d\\n\", size);\n",
        "  printf(\"Time taken: %f s\\n\", time_taken);\n",
        "\n",
        "  free(seeds);\n",
        "  free(area);\n",
        "\n",
        "  return 0;\n",
        "}\n",
        "\n",
        "\n",
        "void calculate_voronoi(int size, double *pSeeds, double *pArea) {\n",
        "  double closest_seed, closest_distance, dist;\n",
        "\n",
        "  for (int i = 0; i < size; i++) {\n",
        "    for (int j = 0; j < size; j++) {\n",
        "      closest_seed = -1;\n",
        "      closest_distance = pow(size, 2);\n",
        "\n",
        "      for (int k = 0; k < SEED_ROW_SIZE; k++) {\n",
        "        dist = sqrt(pow(pSeeds[k * SEED_COL_SIZE + 0] - i, 2) +\n",
        "                    pow(pSeeds[k * SEED_COL_SIZE + 1] - j, 2));\n",
        "\n",
        "        if (dist < closest_distance) {\n",
        "          closest_distance = dist;\n",
        "          closest_seed = k;\n",
        "        }\n",
        "      }\n",
        "\n",
        "      pArea[i * size + j] = closest_seed;\n",
        "    }\n",
        "  }\n",
        "}\n"
      ]
    },
    {
      "cell_type": "markdown",
      "source": [
        "Now, the compilation:"
      ],
      "metadata": {
        "id": "XhMc0cwnt8xE"
      }
    },
    {
      "cell_type": "code",
      "source": [
        "!gcc voronoi.c -o voronoi -O3 -lm"
      ],
      "metadata": {
        "id": "5W0GIgwFt_Jt"
      },
      "execution_count": null,
      "outputs": []
    },
    {
      "cell_type": "markdown",
      "source": [
        "And the execution and timing:"
      ],
      "metadata": {
        "id": "dfNf8ArSuEU1"
      }
    },
    {
      "cell_type": "code",
      "source": [
        "!time ./voronoi"
      ],
      "metadata": {
        "colab": {
          "base_uri": "https://localhost:8080/"
        },
        "id": "4kNcWEk1uHje",
        "outputId": "1fbd0df9-4b15-4ff9-ae75-8fd227bcd67c"
      },
      "execution_count": null,
      "outputs": [
        {
          "output_type": "stream",
          "name": "stdout",
          "text": [
            "SEQUENTIAL VORONOI IMPLEMENTATION\n",
            "---------------------------------\n",
            "Array size: 4096\n",
            "Time taken: 0.234333 s\n",
            "\n",
            "real\t0m0.242s\n",
            "user\t0m0.188s\n",
            "sys\t0m0.053s\n"
          ]
        }
      ]
    },
    {
      "cell_type": "markdown",
      "source": [
        "Now with OpenMP:\n"
      ],
      "metadata": {
        "id": "m5yYxCFZuNYO"
      }
    },
    {
      "cell_type": "code",
      "source": [
        "%%writefile voronoi_openmp.c\n",
        "\n",
        "//\n",
        "// compile with \"gcc voronoi_openmp.c -o voronoi_openmp -lm -fopenmp\"\n",
        "// run with \"OMP_NUM_THREADS=2 ./voronoi_openmp\"\n",
        "\n",
        "#include <math.h>\n",
        "#include <omp.h>\n",
        "#include <stdio.h>\n",
        "#include <stdlib.h>\n",
        "#include <string.h>\n",
        "\n",
        "#define SEED_ROW_SIZE 4\n",
        "#define SEED_COL_SIZE 2\n",
        "\n",
        "void calculate_voronoi(int, double *, double *);\n",
        "int gen_voronoi_graph(int, double *);\n",
        "\n",
        "int main(int argc, char *argv[]) {\n",
        "  int size = 4096;\n",
        "  double(*area)[size] = calloc(size, sizeof *area);\n",
        "\n",
        "  double seed_vals[SEED_ROW_SIZE][SEED_COL_SIZE] = {\n",
        "      {0, 0}, {0, size - 1}, {size - 1, size - 1}, {size - 1, 0}};\n",
        "\n",
        "  double *seeds = (double *)malloc(sizeof(seed_vals));\n",
        "  memcpy(seeds, seed_vals, sizeof(seed_vals));\n",
        "\n",
        "  double start = omp_get_wtime();\n",
        "  calculate_voronoi(size, (double *)seeds, (double *)area);\n",
        "  double end = omp_get_wtime();\n",
        "\n",
        "  printf(\"PARALLEL VORONOI IMPLEMENTATION\\n\");\n",
        "  printf(\"-------------------------------\\n\");\n",
        "  printf(\"Array size: %d\\n\", size);\n",
        "  printf(\"Time taken: %f s\\n\", end - start);\n",
        "\n",
        "  free(seeds);\n",
        "  free(area);\n",
        "\n",
        "\n",
        "}\n",
        "\n",
        "void calculate_voronoi(int size, double *pSeeds, double *pArea) {\n",
        "  double closest_seed, closest_distance, dist;\n",
        "\n",
        "  #pragma omp parallel for collapse(2) private(closest_seed, closest_distance, dist)\n",
        "  for (int i = 0; i < size; i++) {\n",
        "    for (int j = 0; j < size; j++) {\n",
        "      closest_seed = -1;\n",
        "      closest_distance = pow(size, 2);\n",
        "\n",
        "      for (int k = 0; k < SEED_ROW_SIZE; k++) {\n",
        "        dist = sqrt(pow(pSeeds[k * SEED_COL_SIZE + 0] - i, 2) +\n",
        "                    pow(pSeeds[k * SEED_COL_SIZE + 1] - j, 2));\n",
        "\n",
        "        if (dist < closest_distance) {\n",
        "          closest_distance = dist;\n",
        "          closest_seed = k;\n",
        "        }\n",
        "      }\n",
        "\n",
        "      pArea[i * size + j] = closest_seed;\n",
        "    }\n",
        "  }\n",
        "}\n",
        "\n",
        "\n"
      ],
      "metadata": {
        "colab": {
          "base_uri": "https://localhost:8080/"
        },
        "id": "BRZfS5p-uVi2",
        "outputId": "5ba3ce98-29f4-4735-a5fe-8d1aaaf60454"
      },
      "execution_count": null,
      "outputs": [
        {
          "output_type": "stream",
          "name": "stdout",
          "text": [
            "Overwriting voronoi_openmp.c\n"
          ]
        }
      ]
    },
    {
      "cell_type": "markdown",
      "source": [
        "Now the compilation with OpenMP"
      ],
      "metadata": {
        "id": "VSQM5AHUujFB"
      }
    },
    {
      "cell_type": "code",
      "source": [
        "!gcc voronoi_openmp.c -o voronoi_openmp -fopenmp -O3 -lm"
      ],
      "metadata": {
        "id": "Q3eSXXV0uhir"
      },
      "execution_count": null,
      "outputs": []
    },
    {
      "cell_type": "markdown",
      "source": [
        "And now the execution:"
      ],
      "metadata": {
        "id": "Lb_7yISRu4Yk"
      }
    },
    {
      "cell_type": "code",
      "source": [
        "!time OMP_NUM_THREADS=2 ./voronoi_openmp"
      ],
      "metadata": {
        "colab": {
          "base_uri": "https://localhost:8080/"
        },
        "id": "9XnH8C05u-zm",
        "outputId": "88d6e259-f539-40d4-cfd6-5c71fcbfce52"
      },
      "execution_count": null,
      "outputs": [
        {
          "output_type": "stream",
          "name": "stdout",
          "text": [
            "PARALLEL VORONOI IMPLEMENTATION\n",
            "-------------------------------\n",
            "Array size: 4096\n",
            "Time taken: 0.201455 s\n",
            "\n",
            "real\t0m0.211s\n",
            "user\t0m0.351s\n",
            "sys\t0m0.054s\n"
          ]
        }
      ]
    }
  ]
}